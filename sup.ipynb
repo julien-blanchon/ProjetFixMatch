{
 "cells": [
  {
   "attachments": {},
   "cell_type": "markdown",
   "metadata": {
    "id": "eIce92bDiD2H"
   },
   "source": [
    "# Projet FixMatch\n"
   ]
  },
  {
   "attachments": {},
   "cell_type": "markdown",
   "metadata": {},
   "source": [
    "## I. Importing libraries and setup"
   ]
  },
  {
   "attachments": {},
   "cell_type": "markdown",
   "metadata": {},
   "source": [
    "First, we import the libraries we will use in the notebook:"
   ]
  },
  {
   "cell_type": "code",
   "execution_count": null,
   "metadata": {},
   "outputs": [],
   "source": [
    "# !pip install torchview torchsummary torchvision kornia torchmetrics matplotlib tqdm path graphviz opencv-python scikit-learn optuna"
   ]
  },
  {
   "cell_type": "code",
   "execution_count": 1,
   "metadata": {},
   "outputs": [],
   "source": [
    "# deep learning\n",
    "import torch\n",
    "import torch.nn as nn\n",
    "from torch.distributions.transforms import LowerCholeskyTransform\n",
    "from torch.distributions.multivariate_normal import MultivariateNormal\n",
    "from torch.utils.data import DataLoader, Dataset\n",
    "\n",
    "# vizualisation\n",
    "import torchsummary\n",
    "\n",
    "# transforms\n",
    "import torchvision.transforms as T\n",
    "import kornia.augmentation as K\n",
    "from kornia.enhance import normalize\n",
    "from torchvision.transforms import RandAugment\n",
    "\n",
    "# metrics\n",
    "from torchmetrics import Accuracy\n",
    "\n",
    "# torchvision\n",
    "import torchvision\n",
    "import torchvision.transforms as transforms\n",
    "\n",
    "# plotting\n",
    "import matplotlib.pyplot as plt\n",
    "from torchview import draw_graph\n",
    "\n",
    "from IPython.display import display\n",
    "from IPython.core.display import SVG, HTML\n",
    "\n",
    "from tqdm.auto import tqdm\n",
    "\n",
    "# typing\n",
    "from typing import Callable\n",
    "\n",
    "from utils import plot_images, plot_transform\n",
    "\n",
    "# os\n",
    "import os\n",
    "import path\n",
    "\n",
    "import random\n",
    "import numpy as np \n",
    "\n",
    "# typing\n",
    "from typing import Callable, List, Tuple\n",
    "\n",
    "from sklearn.metrics import confusion_matrix, ConfusionMatrixDisplay\n",
    "\n",
    "%load_ext autoreload\n",
    "%autoreload 2"
   ]
  },
  {
   "cell_type": "code",
   "execution_count": 2,
   "metadata": {},
   "outputs": [],
   "source": [
    "DEFAULT_RANDOM_SEED = 2021\n",
    "\n",
    "def seedBasic(seed=DEFAULT_RANDOM_SEED):\n",
    "    random.seed(seed)\n",
    "    os.environ['PYTHONHASHSEED'] = str(seed)\n",
    "    np.random.seed(seed)\n",
    "    \n",
    "# torch random seed\n",
    "import torch\n",
    "def seedTorch(seed=DEFAULT_RANDOM_SEED):\n",
    "    torch.manual_seed(seed)\n",
    "    torch.cuda.manual_seed(seed)\n",
    "    torch.backends.cudnn.deterministic = True\n",
    "    torch.backends.cudnn.benchmark = False\n",
    "      \n",
    "# basic + tensorflow + torch \n",
    "def seedEverything(seed=DEFAULT_RANDOM_SEED):\n",
    "    seedBasic(seed)\n",
    "    seedTorch(seed)"
   ]
  },
  {
   "attachments": {},
   "cell_type": "markdown",
   "metadata": {},
   "source": [
    "Then, we setup the device:"
   ]
  },
  {
   "cell_type": "code",
   "execution_count": 3,
   "metadata": {},
   "outputs": [
    {
     "name": "stdout",
     "output_type": "stream",
     "text": [
      "cuda\n"
     ]
    }
   ],
   "source": [
    "# Set device\n",
    "if ((int(torch.__version__.split(\".\")[0]) >= 2) or (int(torch.__version__.split(\".\")[1]) >= 13)) and torch.has_mps:\n",
    "    device = torch.device(\"mps\")\n",
    "elif torch.cuda.is_available():\n",
    "    device = torch.device(\"cuda\")\n",
    "else:\n",
    "    device = torch.device(\"cpu\")\n",
    "\n",
    "print(device)"
   ]
  },
  {
   "attachments": {},
   "cell_type": "markdown",
   "metadata": {},
   "source": [
    "We initialize global variables, according to the values in the paper, used in the fixmatch algorithm:"
   ]
  },
  {
   "cell_type": "code",
   "execution_count": 4,
   "metadata": {},
   "outputs": [],
   "source": [
    "IMG_SHAPE = (3, 32, 32)\n",
    "# See Table 4\n",
    "TAU = 0.95 #! 0.95 in the paper\n",
    "LAMBDA_U = 1\n",
    "MU = 7\n",
    "BATCH_SIZE = 64\n",
    "LR = 0.03\n",
    "BETA = 0.9\n",
    "WEIGHT_DECAY = 0.001"
   ]
  },
  {
   "attachments": {},
   "cell_type": "markdown",
   "metadata": {},
   "source": [
    "We create the model:"
   ]
  },
  {
   "cell_type": "code",
   "execution_count": 5,
   "metadata": {},
   "outputs": [],
   "source": [
    "class ConvNN(nn.Module):\n",
    "    \"\"\"\n",
    "    Simple CNN for CIFAR10\n",
    "    \"\"\"\n",
    "    \n",
    "    def __init__(self):\n",
    "        super().__init__()\n",
    "        self.conv_32 = nn.Conv2d(3, 32, kernel_size=3, padding='same')\n",
    "        self.conv_64 = nn.Conv2d(32, 64, kernel_size=3, padding='same')\n",
    "        self.conv_96 = nn.Conv2d(64, 96, kernel_size=3, padding='same')\n",
    "        self.conv_128 = nn.Conv2d(96, 128, kernel_size=3, padding='same')\n",
    "        self.fc_512 = nn.Linear(512, 512)\n",
    "        self.fc_10 = nn.Linear(512, 10)\n",
    "        self.max_pool = nn.MaxPool2d(2)\n",
    "        self.relu = nn.ReLU(inplace=True)\n",
    "        self.flatten = nn.Flatten()\n",
    "\n",
    "    def forward(self, x: torch.Tensor) -> torch.Tensor:\n",
    "        x = self.conv_32(x)\n",
    "        x = self.relu(x)\n",
    "        x = self.max_pool(x)\n",
    "\n",
    "        x = self.conv_64(x)\n",
    "        x = self.relu(x)\n",
    "        x = self.max_pool(x)\n",
    "\n",
    "        x = self.conv_96(x)\n",
    "        x = self.relu(x)\n",
    "        x = self.max_pool(x)\n",
    "\n",
    "        x = self.conv_128(x)\n",
    "        x = self.relu(x)\n",
    "        x = self.max_pool(x)\n",
    "\n",
    "        x = self.flatten(x)\n",
    "        x = self.fc_512(x)\n",
    "        x = self.relu(x)\n",
    "        x = self.fc_10(x)\n",
    "\n",
    "        return x"
   ]
  },
  {
   "attachments": {},
   "cell_type": "markdown",
   "metadata": {},
   "source": [
    "Finally, we download the dataset:"
   ]
  },
  {
   "cell_type": "code",
   "execution_count": 6,
   "metadata": {},
   "outputs": [
    {
     "name": "stdout",
     "output_type": "stream",
     "text": [
      "Files already downloaded and verified\n",
      "mean: [0.4913966  0.48215377 0.44651437], std: [0.246344   0.24280126 0.26067406]\n",
      "Files already downloaded and verified\n"
     ]
    }
   ],
   "source": [
    "def compute_mean_std(trainLoader) -> Tuple[List[float], List[float]]:\n",
    "    # initialize the list of means and stds\n",
    "    mean, std = torch.zeros(3), torch.zeros(3)\n",
    "\n",
    "    # iterate over the dataset and compute the sum of each channel\n",
    "    for images, _ in trainLoader:\n",
    "        mean+= torch.mean(images, dim=[0,2,3])\n",
    "        std+= torch.std(images, dim=[0,2,3])\n",
    "    \n",
    "    # compute the mean and std\n",
    "    mean = mean/len(trainLoader)\n",
    "    std = std/len(trainLoader)\n",
    "\n",
    "    return mean, std\n",
    "\n",
    "# Load CIFAR-10 dataset\n",
    "transform = transforms.Compose([\n",
    "    transforms.ToTensor(),\n",
    "])\n",
    "\n",
    "trainset = torchvision.datasets.CIFAR10(\n",
    "    root='./data', train=True, download=True, transform=transform)\n",
    "\n",
    "trainloader = torch.utils.data.DataLoader(\n",
    "    trainset, batch_size=BATCH_SIZE, shuffle=True, num_workers=3)\n",
    "\n",
    "if not os.path.exists('./data/mean.pt'):\n",
    "    mean, std = compute_mean_std(trainloader)\n",
    "    torch.save(mean, 'data/mean.pt')\n",
    "    torch.save(std, 'data/std.pt')\n",
    "else:\n",
    "    mean, std = torch.load('./data/mean.pt'), torch.load('./data/std.pt')\n",
    "\n",
    "# to numpy\n",
    "mean, std = mean.numpy(), std.numpy()\n",
    "\n",
    "print(f\"mean: {mean}, std: {std}\")\n",
    "\n",
    "\n",
    "testset = torchvision.datasets.CIFAR10(\n",
    "    root='./data', train=False, download=True, transform=transform)\n",
    "\n",
    "testloader = torch.utils.data.DataLoader(\n",
    "    testset, batch_size=BATCH_SIZE, shuffle=False, num_workers=3)\n",
    "\n",
    "classes = ('plane', 'car', 'bird', 'cat',\n",
    "           'deer', 'dog', 'frog', 'horse', 'ship', 'truck')"
   ]
  },
  {
   "cell_type": "code",
   "execution_count": 7,
   "metadata": {},
   "outputs": [],
   "source": [
    "torch_models = 'torch_models' \n",
    "if not os.path.exists(torch_models):\n",
    "    os.makedirs(torch_models)"
   ]
  },
  {
   "attachments": {},
   "cell_type": "markdown",
   "metadata": {
    "jp-MarkdownHeadingCollapsed": true
   },
   "source": [
    "## II. Convolutional Neural Network - Full Supervised"
   ]
  },
  {
   "attachments": {},
   "cell_type": "markdown",
   "metadata": {
    "jp-MarkdownHeadingCollapsed": true
   },
   "source": [
    "### II.1. CNN on 100% dataset"
   ]
  },
  {
   "cell_type": "code",
   "execution_count": 8,
   "metadata": {},
   "outputs": [
    {
     "name": "stderr",
     "output_type": "stream",
     "text": [
      "/usr/local/lib/python3.10/dist-packages/torch/utils/data/dataset.py:348: UserWarning: Length of split at index 1 is 0. This might result in an empty dataset.\n",
      "  warnings.warn(f\"Length of split at index {i} is 0. \"\n"
     ]
    }
   ],
   "source": [
    "seedEverything()\n",
    "\n",
    "EPOCHS = 29\n",
    "SUBSET_PROP = 1.00\n",
    "\n",
    "trainset_subsample, _ = torch.utils.data.random_split(trainset, [SUBSET_PROP, 1-SUBSET_PROP])\n",
    "trainloader_subsample = DataLoader(\n",
    "    trainset_subsample,\n",
    "    batch_size=BATCH_SIZE,\n",
    "    shuffle=True,\n",
    "    num_workers=0\n",
    ")\n",
    "\n",
    "# model\n",
    "model = ConvNN().to(device)\n",
    "\n",
    "# criterion and optimizer\n",
    "criterion = nn.CrossEntropyLoss()\n",
    "optimizer = torch.optim.SGD(model.parameters(), lr=LR, momentum=BETA, weight_decay=WEIGHT_DECAY, nesterov=True)\n",
    "\n",
    "# Define the learning rate scheduler\n",
    "lr_lambda = lambda step: LR * 0.5 * (1 + torch.cos(torch.tensor((7 * torch.pi * (step-1)) / (16 * len(trainloader_subsample))))) * 100/3\n",
    "scheduler = torch.optim.lr_scheduler.LambdaLR(optimizer, lr_lambda=lr_lambda)\n",
    "# scheduler = None"
   ]
  },
  {
   "cell_type": "code",
   "execution_count": 9,
   "metadata": {},
   "outputs": [
    {
     "data": {
      "application/vnd.jupyter.widget-view+json": {
       "model_id": "bd3787554e294005a858cd9ac73e145f",
       "version_major": 2,
       "version_minor": 0
      },
      "text/plain": [
       "Epoch     0:   0%|          | 0/782 [00:00<?, ?batch/s]"
      ]
     },
     "metadata": {},
     "output_type": "display_data"
    },
    {
     "name": "stdout",
     "output_type": "stream",
     "text": [
      "Test Accuracy: 61.04%\n"
     ]
    },
    {
     "data": {
      "application/vnd.jupyter.widget-view+json": {
       "model_id": "e590d49c37cf4b54b89df1ff75834c1a",
       "version_major": 2,
       "version_minor": 0
      },
      "text/plain": [
       "Epoch     1:   0%|          | 0/782 [00:00<?, ?batch/s]"
      ]
     },
     "metadata": {},
     "output_type": "display_data"
    },
    {
     "name": "stdout",
     "output_type": "stream",
     "text": [
      "Test Accuracy: 72.8%\n"
     ]
    },
    {
     "data": {
      "application/vnd.jupyter.widget-view+json": {
       "model_id": "dc37328abe264f10a569d9ddcfc40fa8",
       "version_major": 2,
       "version_minor": 0
      },
      "text/plain": [
       "Epoch     2:   0%|          | 0/782 [00:00<?, ?batch/s]"
      ]
     },
     "metadata": {},
     "output_type": "display_data"
    },
    {
     "name": "stdout",
     "output_type": "stream",
     "text": [
      "Test Accuracy: 72.68%\n"
     ]
    },
    {
     "data": {
      "application/vnd.jupyter.widget-view+json": {
       "model_id": "71ea38d4ba7f42a7ae2e7e48871b754d",
       "version_major": 2,
       "version_minor": 0
      },
      "text/plain": [
       "Epoch     3:   0%|          | 0/782 [00:00<?, ?batch/s]"
      ]
     },
     "metadata": {},
     "output_type": "display_data"
    },
    {
     "name": "stdout",
     "output_type": "stream",
     "text": [
      "Test Accuracy: 62.41%\n"
     ]
    },
    {
     "data": {
      "application/vnd.jupyter.widget-view+json": {
       "model_id": "495b2f1bb9c64878be3581ad0041fc4e",
       "version_major": 2,
       "version_minor": 0
      },
      "text/plain": [
       "Epoch     4:   0%|          | 0/782 [00:00<?, ?batch/s]"
      ]
     },
     "metadata": {},
     "output_type": "display_data"
    },
    {
     "name": "stdout",
     "output_type": "stream",
     "text": [
      "Test Accuracy: 69.51%\n"
     ]
    },
    {
     "data": {
      "application/vnd.jupyter.widget-view+json": {
       "model_id": "0da748daf1464c5e83d165ff53d50654",
       "version_major": 2,
       "version_minor": 0
      },
      "text/plain": [
       "Epoch     5:   0%|          | 0/782 [00:00<?, ?batch/s]"
      ]
     },
     "metadata": {},
     "output_type": "display_data"
    },
    {
     "name": "stdout",
     "output_type": "stream",
     "text": [
      "Test Accuracy: 77.18%\n"
     ]
    },
    {
     "data": {
      "application/vnd.jupyter.widget-view+json": {
       "model_id": "b30a3e68aad945debbd46c195d5e1f45",
       "version_major": 2,
       "version_minor": 0
      },
      "text/plain": [
       "Epoch     6:   0%|          | 0/782 [00:00<?, ?batch/s]"
      ]
     },
     "metadata": {},
     "output_type": "display_data"
    },
    {
     "name": "stdout",
     "output_type": "stream",
     "text": [
      "Test Accuracy: 80.02%\n"
     ]
    },
    {
     "data": {
      "application/vnd.jupyter.widget-view+json": {
       "model_id": "789a4e493edc4207a63a286597f28d7d",
       "version_major": 2,
       "version_minor": 0
      },
      "text/plain": [
       "Epoch     7:   0%|          | 0/782 [00:00<?, ?batch/s]"
      ]
     },
     "metadata": {},
     "output_type": "display_data"
    },
    {
     "name": "stdout",
     "output_type": "stream",
     "text": [
      "Test Accuracy: 75.75%\n"
     ]
    },
    {
     "data": {
      "application/vnd.jupyter.widget-view+json": {
       "model_id": "fddb6233c4b048448cc1de43b6e998ca",
       "version_major": 2,
       "version_minor": 0
      },
      "text/plain": [
       "Epoch     8:   0%|          | 0/782 [00:00<?, ?batch/s]"
      ]
     },
     "metadata": {},
     "output_type": "display_data"
    },
    {
     "name": "stdout",
     "output_type": "stream",
     "text": [
      "Test Accuracy: 71.07%\n"
     ]
    },
    {
     "data": {
      "application/vnd.jupyter.widget-view+json": {
       "model_id": "8ace83fc58024e078a7b7721215ec12d",
       "version_major": 2,
       "version_minor": 0
      },
      "text/plain": [
       "Epoch     9:   0%|          | 0/782 [00:00<?, ?batch/s]"
      ]
     },
     "metadata": {},
     "output_type": "display_data"
    },
    {
     "name": "stdout",
     "output_type": "stream",
     "text": [
      "Test Accuracy: 75.03%\n"
     ]
    },
    {
     "data": {
      "application/vnd.jupyter.widget-view+json": {
       "model_id": "1e32fa7b075544dca2420614658cc983",
       "version_major": 2,
       "version_minor": 0
      },
      "text/plain": [
       "Epoch    10:   0%|          | 0/782 [00:00<?, ?batch/s]"
      ]
     },
     "metadata": {},
     "output_type": "display_data"
    },
    {
     "name": "stdout",
     "output_type": "stream",
     "text": [
      "Test Accuracy: 80.72%\n"
     ]
    },
    {
     "data": {
      "application/vnd.jupyter.widget-view+json": {
       "model_id": "a14bdf9262374001a2a4d8fd24b9295b",
       "version_major": 2,
       "version_minor": 0
      },
      "text/plain": [
       "Epoch    11:   0%|          | 0/782 [00:00<?, ?batch/s]"
      ]
     },
     "metadata": {},
     "output_type": "display_data"
    },
    {
     "name": "stdout",
     "output_type": "stream",
     "text": [
      "Test Accuracy: 79.83%\n"
     ]
    },
    {
     "data": {
      "application/vnd.jupyter.widget-view+json": {
       "model_id": "e5c1b0e8eaea4960a7a05f3e09092678",
       "version_major": 2,
       "version_minor": 0
      },
      "text/plain": [
       "Epoch    12:   0%|          | 0/782 [00:00<?, ?batch/s]"
      ]
     },
     "metadata": {},
     "output_type": "display_data"
    },
    {
     "name": "stdout",
     "output_type": "stream",
     "text": [
      "Test Accuracy: 72.04%\n"
     ]
    },
    {
     "data": {
      "application/vnd.jupyter.widget-view+json": {
       "model_id": "136d2ddf9f15440dac2750db8511645a",
       "version_major": 2,
       "version_minor": 0
      },
      "text/plain": [
       "Epoch    13:   0%|          | 0/782 [00:00<?, ?batch/s]"
      ]
     },
     "metadata": {},
     "output_type": "display_data"
    },
    {
     "name": "stdout",
     "output_type": "stream",
     "text": [
      "Test Accuracy: 72.16%\n"
     ]
    },
    {
     "data": {
      "application/vnd.jupyter.widget-view+json": {
       "model_id": "133f314bbae443e0aaf4ac69065d2acc",
       "version_major": 2,
       "version_minor": 0
      },
      "text/plain": [
       "Epoch    14:   0%|          | 0/782 [00:00<?, ?batch/s]"
      ]
     },
     "metadata": {},
     "output_type": "display_data"
    },
    {
     "name": "stdout",
     "output_type": "stream",
     "text": [
      "Test Accuracy: 78.6%\n"
     ]
    },
    {
     "data": {
      "application/vnd.jupyter.widget-view+json": {
       "model_id": "0b040c516d144e5f88ed4d33dec3b230",
       "version_major": 2,
       "version_minor": 0
      },
      "text/plain": [
       "Epoch    15:   0%|          | 0/782 [00:00<?, ?batch/s]"
      ]
     },
     "metadata": {},
     "output_type": "display_data"
    },
    {
     "name": "stdout",
     "output_type": "stream",
     "text": [
      "Test Accuracy: 81.11%\n"
     ]
    },
    {
     "data": {
      "application/vnd.jupyter.widget-view+json": {
       "model_id": "b352e1c092af496db6d9442bcea9fb5b",
       "version_major": 2,
       "version_minor": 0
      },
      "text/plain": [
       "Epoch    16:   0%|          | 0/782 [00:00<?, ?batch/s]"
      ]
     },
     "metadata": {},
     "output_type": "display_data"
    },
    {
     "name": "stdout",
     "output_type": "stream",
     "text": [
      "Test Accuracy: 79.21%\n"
     ]
    },
    {
     "data": {
      "application/vnd.jupyter.widget-view+json": {
       "model_id": "7bf486688a574a2a9f144bd48712fef7",
       "version_major": 2,
       "version_minor": 0
      },
      "text/plain": [
       "Epoch    17:   0%|          | 0/782 [00:00<?, ?batch/s]"
      ]
     },
     "metadata": {},
     "output_type": "display_data"
    },
    {
     "name": "stdout",
     "output_type": "stream",
     "text": [
      "Test Accuracy: 65.44%\n"
     ]
    },
    {
     "data": {
      "application/vnd.jupyter.widget-view+json": {
       "model_id": "b3409378bcd742e2929367a6e31cb519",
       "version_major": 2,
       "version_minor": 0
      },
      "text/plain": [
       "Epoch    18:   0%|          | 0/782 [00:00<?, ?batch/s]"
      ]
     },
     "metadata": {},
     "output_type": "display_data"
    },
    {
     "name": "stdout",
     "output_type": "stream",
     "text": [
      "Test Accuracy: 74.77%\n"
     ]
    },
    {
     "data": {
      "application/vnd.jupyter.widget-view+json": {
       "model_id": "b73726d8206c45658fd3dc0e0680be47",
       "version_major": 2,
       "version_minor": 0
      },
      "text/plain": [
       "Epoch    19:   0%|          | 0/782 [00:00<?, ?batch/s]"
      ]
     },
     "metadata": {},
     "output_type": "display_data"
    },
    {
     "name": "stdout",
     "output_type": "stream",
     "text": [
      "Test Accuracy: 80.15%\n"
     ]
    },
    {
     "data": {
      "application/vnd.jupyter.widget-view+json": {
       "model_id": "781f4ea210254348bb84569fe6105b44",
       "version_major": 2,
       "version_minor": 0
      },
      "text/plain": [
       "Epoch    20:   0%|          | 0/782 [00:00<?, ?batch/s]"
      ]
     },
     "metadata": {},
     "output_type": "display_data"
    },
    {
     "name": "stdout",
     "output_type": "stream",
     "text": [
      "Test Accuracy: 80.99%\n"
     ]
    },
    {
     "data": {
      "application/vnd.jupyter.widget-view+json": {
       "model_id": "d1bb35bf28ad4285a34b271ca854ac45",
       "version_major": 2,
       "version_minor": 0
      },
      "text/plain": [
       "Epoch    21:   0%|          | 0/782 [00:00<?, ?batch/s]"
      ]
     },
     "metadata": {},
     "output_type": "display_data"
    },
    {
     "name": "stdout",
     "output_type": "stream",
     "text": [
      "Test Accuracy: 77.32%\n"
     ]
    },
    {
     "data": {
      "application/vnd.jupyter.widget-view+json": {
       "model_id": "bbc9b85cd2c74c4aa9faf4d16be27f25",
       "version_major": 2,
       "version_minor": 0
      },
      "text/plain": [
       "Epoch    22:   0%|          | 0/782 [00:00<?, ?batch/s]"
      ]
     },
     "metadata": {},
     "output_type": "display_data"
    },
    {
     "name": "stdout",
     "output_type": "stream",
     "text": [
      "Test Accuracy: 70.31%\n"
     ]
    },
    {
     "data": {
      "application/vnd.jupyter.widget-view+json": {
       "model_id": "116364c490b543cba9eb5acd151f9196",
       "version_major": 2,
       "version_minor": 0
      },
      "text/plain": [
       "Epoch    23:   0%|          | 0/782 [00:00<?, ?batch/s]"
      ]
     },
     "metadata": {},
     "output_type": "display_data"
    },
    {
     "name": "stdout",
     "output_type": "stream",
     "text": [
      "Test Accuracy: 78.1%\n"
     ]
    },
    {
     "data": {
      "application/vnd.jupyter.widget-view+json": {
       "model_id": "796475ea39f2417d86f4ad9864258218",
       "version_major": 2,
       "version_minor": 0
      },
      "text/plain": [
       "Epoch    24:   0%|          | 0/782 [00:00<?, ?batch/s]"
      ]
     },
     "metadata": {},
     "output_type": "display_data"
    },
    {
     "name": "stdout",
     "output_type": "stream",
     "text": [
      "Test Accuracy: 81.1%\n"
     ]
    },
    {
     "data": {
      "application/vnd.jupyter.widget-view+json": {
       "model_id": "92ffc317fdfa4da896d5ca486c34e7f2",
       "version_major": 2,
       "version_minor": 0
      },
      "text/plain": [
       "Epoch    25:   0%|          | 0/782 [00:00<?, ?batch/s]"
      ]
     },
     "metadata": {},
     "output_type": "display_data"
    },
    {
     "name": "stdout",
     "output_type": "stream",
     "text": [
      "Test Accuracy: 80.32%\n"
     ]
    },
    {
     "data": {
      "application/vnd.jupyter.widget-view+json": {
       "model_id": "41cfac57fb604b508ad2257ea2bbb7ed",
       "version_major": 2,
       "version_minor": 0
      },
      "text/plain": [
       "Epoch    26:   0%|          | 0/782 [00:00<?, ?batch/s]"
      ]
     },
     "metadata": {},
     "output_type": "display_data"
    },
    {
     "name": "stdout",
     "output_type": "stream",
     "text": [
      "Test Accuracy: 73.92%\n"
     ]
    },
    {
     "data": {
      "application/vnd.jupyter.widget-view+json": {
       "model_id": "df1e805e021b4ab49cadbb0807071d85",
       "version_major": 2,
       "version_minor": 0
      },
      "text/plain": [
       "Epoch    27:   0%|          | 0/782 [00:00<?, ?batch/s]"
      ]
     },
     "metadata": {},
     "output_type": "display_data"
    },
    {
     "name": "stdout",
     "output_type": "stream",
     "text": [
      "Test Accuracy: 73.94%\n"
     ]
    },
    {
     "data": {
      "application/vnd.jupyter.widget-view+json": {
       "model_id": "6ae63fb80a1c495aab74972f220c9bd4",
       "version_major": 2,
       "version_minor": 0
      },
      "text/plain": [
       "Epoch    28:   0%|          | 0/782 [00:00<?, ?batch/s]"
      ]
     },
     "metadata": {},
     "output_type": "display_data"
    },
    {
     "name": "stdout",
     "output_type": "stream",
     "text": [
      "Test Accuracy: 80.49%\n"
     ]
    }
   ],
   "source": [
    "# losses\n",
    "train_losses = []\n",
    "test_losses = []\n",
    "train_accuracies = []\n",
    "test_accuracies = []\n",
    "\n",
    "# Training loop\n",
    "for epoch in range(EPOCHS):\n",
    "    model.train()\n",
    "    running_loss = 0.0\n",
    "    running_accuracy = 0.0\n",
    "    correct = 0\n",
    "    total = 0\n",
    "    pbar = tqdm(trainloader_subsample, total=len(trainloader_subsample), unit=\"batch\", desc=f\"Epoch {epoch: >5}\")\n",
    "    for i, data in enumerate(pbar):\n",
    "        # Get the inputs; data is a list of [inputs, labels]\n",
    "        inputs, labels = data[0].to(device), data[1].to(device)\n",
    "\n",
    "        # normalize\n",
    "        inputs = normalize(data=inputs, mean=mean, std=std)\n",
    "\n",
    "        # Zero the parameter gradients\n",
    "        optimizer.zero_grad()\n",
    "\n",
    "        # Forward + backward + optimize\n",
    "        outputs = model(inputs)\n",
    "        loss = criterion(outputs, labels)\n",
    "        loss.backward()\n",
    "        optimizer.step()\n",
    "\n",
    "        # Update statistics\n",
    "        running_loss += loss.item()\n",
    "\n",
    "        _, predicted = outputs.max(1)\n",
    "\n",
    "        total += labels.size(0)\n",
    "        correct += predicted.eq(labels).sum().item()\n",
    "\n",
    "        running_accuracy += 100 * correct / total\n",
    "\n",
    "        current_lr = optimizer.param_groups[0]['lr']\n",
    "\n",
    "        # Print progress\n",
    "        pbar.set_postfix({\n",
    "            \"loss\": loss.item(),\n",
    "            \"accuracy\": 100 * correct / total,\n",
    "            \"lr\": current_lr.item()\n",
    "        })\n",
    "\n",
    "        if scheduler is not None:\n",
    "            scheduler.step()\n",
    "\n",
    "    # update loss\n",
    "    train_losses.append(running_loss / len(trainloader_subsample))\n",
    "    train_accuracies.append(running_accuracy / (i+1))\n",
    "    \n",
    "    \n",
    "    \n",
    "\n",
    "    # Evaluate the model on the test set\n",
    "    model.eval()  # Set the model to evaluation mode\n",
    "    test_correct = 0\n",
    "    test_total = 0\n",
    "\n",
    "    with torch.no_grad():\n",
    "        for data in testloader:\n",
    "            images, labels = data[0].to(device), data[1].to(device)\n",
    "            # normalize\n",
    "            images = normalize(data=images, mean=mean, std=std)\n",
    "            \n",
    "            outputs = model(images)\n",
    "            _, predicted = outputs.max(1)\n",
    "            test_total += labels.size(0)\n",
    "            test_correct += predicted.eq(labels).sum().item()\n",
    "        \n",
    "        test_accuracy = 100.0 * test_correct / test_total\n",
    "        print(f'Test Accuracy: {test_accuracy}%')\n",
    "\n",
    "        # update loss\n",
    "        test_losses.append(criterion(outputs, labels).item())\n",
    "        test_accuracies.append(test_accuracy)\n"
   ]
  },
  {
   "cell_type": "code",
   "execution_count": 11,
   "metadata": {},
   "outputs": [
    {
     "data": {
      "image/png": "[encoded data removed]",
      "text/plain": [
       "<Figure size 1500x500 with 2 Axes>"
      ]
     },
     "metadata": {},
     "output_type": "display_data"
    },
    {
     "data": {
      "image/png": "[encoded data removed]",
      "text/plain": [
       "<Figure size 640x480 with 2 Axes>"
      ]
     },
     "metadata": {},
     "output_type": "display_data"
    }
   ],
   "source": [
    "# plot losses and accuracies\n",
    "fig, (ax1, ax2) = plt.subplots(1, 2, figsize=(15, 5))\n",
    "\n",
    "ax1.plot(train_losses, label=\"train\")\n",
    "ax1.plot(test_losses, label=\"test\")\n",
    "ax1.set_title(\"Loss\")\n",
    "\n",
    "ax2.plot(train_accuracies, label=\"train\")\n",
    "ax2.plot(test_accuracies, label=\"test\")\n",
    "ax2.set_title(\"Accuracy\")\n",
    "\n",
    "plt.legend()\n",
    "plt.show()\n",
    "\n",
    "# save plot\n",
    "fig.savefig(f\"figures/sup_1_losses_accuracies.png\")\n",
    "\n",
    "# plot confusion matrix\n",
    "model.eval()  # Set the model to evaluation mode\n",
    "test_correct = 0\n",
    "test_total = 0\n",
    "y_true = []\n",
    "y_pred = []\n",
    "\n",
    "with torch.no_grad():\n",
    "    for data in testloader:\n",
    "        images, labels = data[0].to(device), data[1].to(device)\n",
    "        # normalize\n",
    "        images = normalize(data=images, mean=mean, std=std)\n",
    "        \n",
    "        outputs = model(images)\n",
    "        _, predicted = outputs.max(1)\n",
    "        test_total += labels.size(0)\n",
    "        test_correct += predicted.eq(labels).sum().item()\n",
    "\n",
    "        y_true.append(labels.cpu().numpy())\n",
    "        y_pred.append(predicted.cpu().numpy())\n",
    "    \n",
    "    y_true = np.concatenate(y_true)\n",
    "    y_pred = np.concatenate(y_pred)\n",
    "\n",
    "    cm = confusion_matrix(y_true, y_pred, normalize='true')\n",
    "    disp = ConfusionMatrixDisplay(confusion_matrix=cm, display_labels=classes)\n",
    "    disp.plot()\n",
    "    plt.tight_layout()\n",
    "    plt.show()\n",
    "\n",
    "# save plot\n",
    "fig.savefig(f\"figures/sup_1_confusion_matrix.png\")"
   ]
  },
  {
   "cell_type": "code",
   "execution_count": 12,
   "metadata": {},
   "outputs": [
    {
     "name": "stdout",
     "output_type": "stream",
     "text": [
      "Test Accuracy: 80.49%\n"
     ]
    },
    {
     "data": {
      "image/png": "[encoded data removed]",
      "text/plain": [
       "<Figure size 1000x1000 with 16 Axes>"
      ]
     },
     "metadata": {},
     "output_type": "display_data"
    }
   ],
   "source": [
    "# Evaluation on the test set\n",
    "model.eval()  # Set the model to evaluation mode\n",
    "test_correct = 0\n",
    "test_total = 0\n",
    "\n",
    "with torch.no_grad():\n",
    "    for data in testloader:\n",
    "        images, labels = data[0].to(device), data[1].to(device)\n",
    "        # normalize\n",
    "        images = normalize(data=images, mean=mean, std=std)\n",
    "        \n",
    "        outputs = model(images)\n",
    "        _, predicted = outputs.max(1)\n",
    "        test_total += labels.size(0)\n",
    "        test_correct += predicted.eq(labels).sum().item()\n",
    "\n",
    "test_accuracy = 100.0 * test_correct / test_total\n",
    "print(f'Test Accuracy: {test_accuracy}%')\n",
    "\n",
    "# save the model\n",
    "torch.save(model.state_dict(), f\"{torch_models}/model_100.pth\")\n",
    "\n",
    "test_image, test_labels = testloader.__iter__().__next__()\n",
    "test_image = test_image.to(device)\n",
    "outputs_test = model(test_image)\n",
    "label_pred_test = outputs_test.argmax(dim=1)\n",
    "\n",
    "# descale the images\n",
    "test_image = test_image#  * torch.tensor(std, device=device).view(1, 3, 1, 1) + torch.tensor(mean, device=device).view(1, 3, 1, 1)\n",
    "\n",
    "fig1 = plot_images(test_image, test_labels, label_pred_test, classes, figure_name=f\"Test score with {int(SUBSET_PROP*100)}% - {test_accuracy:.2f}%\")\n",
    "fig1.savefig(f\"./figures/test_score_{SUBSET_PROP}.png\")"
   ]
  },
  {
   "attachments": {},
   "cell_type": "markdown",
   "metadata": {},
   "source": [
    "### II.2 CNN on 10% dataset"
   ]
  },
  {
   "cell_type": "code",
   "execution_count": null,
   "metadata": {},
   "outputs": [],
   "source": [
    "seedEverything()\n",
    "\n",
    "EPOCHS = 50\n",
    "SUBSET_PROP = 0.10\n",
    "\n",
    "trainset_subsample, _ = torch.utils.data.random_split(trainset, [SUBSET_PROP, 1-SUBSET_PROP])\n",
    "trainloader_subsample = DataLoader(\n",
    "    trainset_subsample,\n",
    "    batch_size=int(BATCH_SIZE * SUBSET_PROP),\n",
    "    shuffle=True,\n",
    "    num_workers=0\n",
    ")\n",
    "\n",
    "# model\n",
    "model = ConvNN().to(device)\n",
    "\n",
    "# criterion and optimizer\n",
    "criterion = nn.CrossEntropyLoss()\n",
    "optimizer = torch.optim.SGD(model.parameters(), lr=LR, momentum=BETA, weight_decay=WEIGHT_DECAY, nesterov=True)\n",
    "# Define the learning rate scheduler\n",
    "lr_lambda = lambda step: LR * 0.5 * (1 + torch.cos(torch.tensor((7 * torch.pi * (step-1)) / (16 * EPOCHS))))\n",
    "scheduler = torch.optim.lr_scheduler.LambdaLR(optimizer, lr_lambda=lr_lambda)\n",
    "# scheduler = None"
   ]
  },
  {
   "cell_type": "code",
   "execution_count": null,
   "metadata": {},
   "outputs": [],
   "source": [
    "# losses\n",
    "train_losses = []\n",
    "test_losses = []\n",
    "\n",
    "# Training loop\n",
    "for epoch in range(EPOCHS):\n",
    "    model.train()\n",
    "    running_loss = 0.0\n",
    "    correct = 0\n",
    "    total = 0\n",
    "    pbar = tqdm(trainloader_subsample, total=len(trainloader_subsample), unit=\"batch\", desc=f\"Epoch {epoch: >5}\")\n",
    "    for i, data in enumerate(pbar):\n",
    "        # Get the inputs; data is a list of [inputs, labels]\n",
    "        inputs, labels = data[0].to(device), data[1].to(device)\n",
    "\n",
    "        # normalize\n",
    "        inputs = normalize(data=inputs, mean=mean, std=std)\n",
    "\n",
    "        # Zero the parameter gradients\n",
    "        optimizer.zero_grad()\n",
    "\n",
    "        # Forward + backward + optimize\n",
    "        outputs = model(inputs)\n",
    "        loss = criterion(outputs, labels)\n",
    "        loss.backward()\n",
    "        optimizer.step()\n",
    "\n",
    "        # Update statistics\n",
    "        running_loss += loss.item()\n",
    "        _, predicted = outputs.max(1)\n",
    "        total += labels.size(0)\n",
    "        correct += predicted.eq(labels).sum().item()\n",
    "        current_lr = optimizer.param_groups[0]['lr']\n",
    "\n",
    "        # Print progress\n",
    "        pbar.set_postfix(loss=running_loss / (i + 1), accuracy=100.0 * correct / total, lr=current_lr.item())\n",
    "\n",
    "        \n",
    "\n",
    "    # update loss\n",
    "    train_losses.append(running_loss / len(trainloader_subsample))\n",
    "    \n",
    "    if scheduler is not None:\n",
    "        scheduler.step()\n",
    "   \n",
    "\n",
    "    # Evaluate the model on the test set\n",
    "    model.eval()  # Set the model to evaluation mode\n",
    "    test_correct = 0\n",
    "    test_total = 0\n",
    "\n",
    "    with torch.no_grad():\n",
    "        for data in testloader:\n",
    "            images, labels = data[0].to(device), data[1].to(device)\n",
    "            # normalize\n",
    "            images = normalize(data=images, mean=mean, std=std)\n",
    "            \n",
    "            outputs = model(images)\n",
    "            _, predicted = outputs.max(1)\n",
    "            test_total += labels.size(0)\n",
    "            test_correct += predicted.eq(labels).sum().item()\n",
    "        \n",
    "        test_accuracy = 100.0 * test_correct / test_total\n",
    "        print(f'Test Accuracy: {test_accuracy}%')\n",
    "\n",
    "        # update loss\n",
    "        test_losses.append(criterion(outputs, labels).item())\n"
   ]
  },
  {
   "cell_type": "code",
   "execution_count": null,
   "metadata": {},
   "outputs": [],
   "source": [
    "# plot losses\n",
    "plt.figure(figsize=(10, 7))\n",
    "plt.plot(train_losses, label='Training loss')\n",
    "plt.plot(test_losses, label='Validation loss')\n",
    "plt.title('Loss at the end of each epoch')\n",
    "plt.legend()\n",
    "plt.show()\n",
    "\n",
    "# plot confusion matrix\n",
    "model.eval()  # Set the model to evaluation mode\n",
    "test_correct = 0\n",
    "test_total = 0\n",
    "y_true = []\n",
    "y_pred = []\n",
    "\n",
    "with torch.no_grad():\n",
    "    for data in testloader:\n",
    "        images, labels = data[0].to(device), data[1].to(device)\n",
    "        # normalize\n",
    "        images = normalize(data=images, mean=mean, std=std)\n",
    "        \n",
    "        outputs = model(images)\n",
    "        _, predicted = outputs.max(1)\n",
    "        test_total += labels.size(0)\n",
    "        test_correct += predicted.eq(labels).sum().item()\n",
    "\n",
    "        y_true.append(labels.cpu().numpy())\n",
    "        y_pred.append(predicted.cpu().numpy())\n",
    "    \n",
    "    y_true = np.concatenate(y_true)\n",
    "    y_pred = np.concatenate(y_pred)\n",
    "\n",
    "    cm = confusion_matrix(y_true, y_pred, normalize='true')\n",
    "    disp = ConfusionMatrixDisplay(confusion_matrix=cm, display_labels=classes)\n",
    "    disp.plot()\n",
    "    plt.tight_layout()\n",
    "    plt.show()\n"
   ]
  },
  {
   "cell_type": "code",
   "execution_count": null,
   "metadata": {},
   "outputs": [],
   "source": [
    "# Evaluation on the test set\n",
    "model.eval()  # Set the model to evaluation mode\n",
    "test_correct = 0\n",
    "test_total = 0\n",
    "\n",
    "\n",
    "with torch.no_grad():\n",
    "    for data in testloader:\n",
    "        images, labels = data[0].to(device), data[1].to(device)\n",
    "        # normalize\n",
    "        images = normalize(data=images, mean=mean, std=std)\n",
    "        \n",
    "        outputs = model(images)\n",
    "        _, predicted = outputs.max(1)\n",
    "        test_total += labels.size(0)\n",
    "        test_correct += predicted.eq(labels).sum().item()\n",
    "\n",
    "test_accuracy = 100.0 * test_correct / test_total\n",
    "print(f'Test Accuracy: {test_accuracy}%')\n",
    "\n",
    "# save the model\n",
    "torch.save(model.state_dict(), f\"{torch_models}/model_10.pth\")\n",
    "\n",
    "test_image, test_labels = testloader.__iter__().__next__()\n",
    "test_image = test_image.to(device)\n",
    "outputs_test = model(test_image)\n",
    "label_pred_test = outputs_test.argmax(dim=1)\n",
    "\n",
    "# descale the images\n",
    "test_image = test_image # * torch.tensor(std, device=device).view(1, 3, 1, 1) + torch.tensor(mean, device=device).view(1, 3, 1, 1)\n",
    "\n",
    "fig1 = plot_images(test_image, test_labels, label_pred_test, classes, figure_name=f\"Test score with {int(SUBSET_PROP*100)}% - {test_accuracy:.2f}%\")\n",
    "fig1.savefig(f\"./figures/test_score_{SUBSET_PROP}.png\")"
   ]
  },
  {
   "attachments": {},
   "cell_type": "markdown",
   "metadata": {},
   "source": [
    "### II.3 CNN on 5% dataset"
   ]
  },
  {
   "cell_type": "code",
   "execution_count": null,
   "metadata": {},
   "outputs": [],
   "source": [
    "seedEverything()\n",
    "\n",
    "EPOCHS = 50\n",
    "SUBSET_PROP = 0.05\n",
    "\n",
    "trainset_subsample, _ = torch.utils.data.random_split(trainset, [SUBSET_PROP, 1-SUBSET_PROP])\n",
    "trainloader_subsample = DataLoader(\n",
    "    trainset_subsample,\n",
    "    batch_size=int(BATCH_SIZE * SUBSET_PROP),\n",
    "    shuffle=True,\n",
    "    num_workers=0\n",
    ")\n",
    "\n",
    "# model\n",
    "model = ConvNN().to(device)\n",
    "\n",
    "# criterion and optimizer\n",
    "criterion = nn.CrossEntropyLoss()\n",
    "optimizer = torch.optim.SGD(model.parameters(), lr=LR, momentum=BETA, weight_decay=WEIGHT_DECAY, nesterov=True)\n",
    "# Define the learning rate scheduler\n",
    "lr_lambda = lambda step: LR * 0.5 * (1 + torch.cos(torch.tensor((7 * torch.pi * (step-1)) / (16 * len(trainloader_subsample)))))\n",
    "scheduler = torch.optim.lr_scheduler.LambdaLR(optimizer, lr_lambda=lr_lambda)\n",
    "# scheduler = None"
   ]
  },
  {
   "cell_type": "code",
   "execution_count": null,
   "metadata": {},
   "outputs": [],
   "source": [
    "# losses\n",
    "train_losses = []\n",
    "test_losses = []\n",
    "\n",
    "# Training loop\n",
    "for epoch in range(EPOCHS):\n",
    "    model.train()\n",
    "    running_loss = 0.0\n",
    "    correct = 0\n",
    "    total = 0\n",
    "    pbar = tqdm(trainloader_subsample, total=len(trainloader_subsample), unit=\"batch\", desc=f\"Epoch {epoch: >5}\")\n",
    "    for i, data in enumerate(pbar):\n",
    "        # Get the inputs; data is a list of [inputs, labels]\n",
    "        inputs, labels = data[0].to(device), data[1].to(device)\n",
    "\n",
    "        # normalize\n",
    "        inputs = normalize(data=inputs, mean=mean, std=std)\n",
    "\n",
    "        # Zero the parameter gradients\n",
    "        optimizer.zero_grad()\n",
    "\n",
    "        # Forward + backward + optimize\n",
    "        outputs = model(inputs)\n",
    "        loss = criterion(outputs, labels)\n",
    "        loss.backward()\n",
    "        optimizer.step()\n",
    "\n",
    "        # Update statistics\n",
    "        running_loss += loss.item()\n",
    "        _, predicted = outputs.max(1)\n",
    "        total += labels.size(0)\n",
    "        correct += predicted.eq(labels).sum().item()\n",
    "        current_lr = optimizer.param_groups[0]['lr']\n",
    "\n",
    "        # Print progress\n",
    "        pbar.set_postfix(loss=running_loss / (i + 1), accuracy=100.0 * correct / total, lr=current_lr.item())\n",
    "\n",
    "    # update loss\n",
    "    train_losses.append(running_loss / len(trainloader_subsample))\n",
    "    \n",
    "    if scheduler is not None:\n",
    "        scheduler.step()\n",
    "\n",
    "    # Evaluate the model on the test set\n",
    "    model.eval()  # Set the model to evaluation mode\n",
    "    test_correct = 0\n",
    "    test_total = 0\n",
    "\n",
    "    with torch.no_grad():\n",
    "        for data in testloader:\n",
    "            images, labels = data[0].to(device), data[1].to(device)\n",
    "            # normalize\n",
    "            images = normalize(data=images, mean=mean, std=std)\n",
    "            \n",
    "            outputs = model(images)\n",
    "            _, predicted = outputs.max(1)\n",
    "            test_total += labels.size(0)\n",
    "            test_correct += predicted.eq(labels).sum().item()\n",
    "        \n",
    "        test_accuracy = 100.0 * test_correct / test_total\n",
    "        print(f'Test Accuracy: {test_accuracy}%')\n",
    "\n",
    "        # update loss\n",
    "        test_losses.append(criterion(outputs, labels).item())\n"
   ]
  },
  {
   "cell_type": "code",
   "execution_count": null,
   "metadata": {},
   "outputs": [],
   "source": [
    "# plot losses\n",
    "plt.figure(figsize=(10, 7))\n",
    "plt.plot(train_losses, label='Training loss')\n",
    "plt.plot(test_losses, label='Validation loss')\n",
    "plt.title('Loss at the end of each epoch')\n",
    "plt.legend()\n",
    "plt.show()\n",
    "\n",
    "# plot confusion matrix\n",
    "model.eval()  # Set the model to evaluation mode\n",
    "test_correct = 0\n",
    "test_total = 0\n",
    "y_true = []\n",
    "y_pred = []\n",
    "\n",
    "with torch.no_grad():\n",
    "    for data in testloader:\n",
    "        images, labels = data[0].to(device), data[1].to(device)\n",
    "        # normalize\n",
    "        images = normalize(data=images, mean=mean, std=std)\n",
    "        \n",
    "        outputs = model(images)\n",
    "        _, predicted = outputs.max(1)\n",
    "        test_total += labels.size(0)\n",
    "        test_correct += predicted.eq(labels).sum().item()\n",
    "\n",
    "        y_true.append(labels.cpu().numpy())\n",
    "        y_pred.append(predicted.cpu().numpy())\n",
    "    \n",
    "    y_true = np.concatenate(y_true)\n",
    "    y_pred = np.concatenate(y_pred)\n",
    "\n",
    "    cm = confusion_matrix(y_true, y_pred, normalize='true')\n",
    "    disp = ConfusionMatrixDisplay(confusion_matrix=cm, display_labels=classes)\n",
    "    disp.plot()\n",
    "    plt.tight_layout()\n",
    "    plt.show()\n"
   ]
  },
  {
   "cell_type": "code",
   "execution_count": null,
   "metadata": {},
   "outputs": [],
   "source": [
    "# Evaluation on the test set\n",
    "model.eval()  # Set the model to evaluation mode\n",
    "test_correct = 0\n",
    "test_total = 0\n",
    "\n",
    "with torch.no_grad():\n",
    "    for data in testloader:\n",
    "        images, labels = data[0].to(device), data[1].to(device)\n",
    "        # normalize\n",
    "        images = normalize(data=images, mean=mean, std=std)\n",
    "        \n",
    "        outputs = model(images)\n",
    "        _, predicted = outputs.max(1)\n",
    "        test_total += labels.size(0)\n",
    "        test_correct += predicted.eq(labels).sum().item()\n",
    "\n",
    "test_accuracy = 100.0 * test_correct / test_total\n",
    "print(f'Test Accuracy: {test_accuracy}%')\n",
    "\n",
    "# save the model\n",
    "torch.save(model.state_dict(), f\"{torch_models}/model_5.pth\")\n",
    "\n",
    "test_image, test_labels = testloader.__iter__().__next__()\n",
    "test_image = test_image.to(device)\n",
    "outputs_test = model(test_image)\n",
    "label_pred_test = outputs_test.argmax(dim=1)\n",
    "\n",
    "# descale the images\n",
    "test_image = test_image # * torch.tensor(std, device=device).view(1, 3, 1, 1) + torch.tensor(mean, device=device).view(1, 3, 1, 1)\n",
    "\n",
    "fig1 = plot_images(test_image, test_labels, label_pred_test, classes, figure_name=f\"Test score with {int(SUBSET_PROP*100)}% - {test_accuracy:.2f}%\")\n",
    "fig1.savefig(f\"./figures/test_score_{SUBSET_PROP}.png\")"
   ]
  },
  {
   "attachments": {},
   "cell_type": "markdown",
   "metadata": {},
   "source": [
    "### II.4 CNN on 1% dataset"
   ]
  },
  {
   "cell_type": "code",
   "execution_count": null,
   "metadata": {},
   "outputs": [],
   "source": [
    "seedEverything()\n",
    "\n",
    "EPOCHS = 50\n",
    "SUBSET_PROP = 0.01\n",
    "\n",
    "trainset_subsample, _ = torch.utils.data.random_split(trainset, [SUBSET_PROP, 1-SUBSET_PROP])\n",
    "trainloader_subsample = DataLoader(\n",
    "    trainset_subsample,\n",
    "    batch_size=int(BATCH_SIZE * SUBSET_PROP) + 1,\n",
    "    shuffle=True,\n",
    "    num_workers=0\n",
    ")\n",
    "\n",
    "# model\n",
    "model = ConvNN().to(device)\n",
    "\n",
    "# criterion and optimizer\n",
    "criterion = nn.CrossEntropyLoss()\n",
    "optimizer = torch.optim.SGD(model.parameters(), lr=LR, momentum=BETA, weight_decay=WEIGHT_DECAY, nesterov=True)\n",
    "# Define the learning rate scheduler\n",
    "lr_lambda = lambda step: LR * 0.5 * (1 + torch.cos(torch.tensor((7 * torch.pi * (step-1)) / (16 * len(trainloader_subsample)))))\n",
    "scheduler = torch.optim.lr_scheduler.LambdaLR(optimizer, lr_lambda=lr_lambda)\n",
    "# scheduler = None"
   ]
  },
  {
   "cell_type": "code",
   "execution_count": null,
   "metadata": {},
   "outputs": [],
   "source": [
    "# losses\n",
    "train_losses = []\n",
    "test_losses = []\n",
    "\n",
    "# Training loop\n",
    "for epoch in range(EPOCHS):\n",
    "    model.train()\n",
    "    running_loss = 0.0\n",
    "    correct = 0\n",
    "    total = 0\n",
    "    pbar = tqdm(trainloader_subsample, total=len(trainloader_subsample), unit=\"batch\", desc=f\"Epoch {epoch: >5}\")\n",
    "    for i, data in enumerate(pbar):\n",
    "        # Get the inputs; data is a list of [inputs, labels]\n",
    "        inputs, labels = data[0].to(device), data[1].to(device)\n",
    "\n",
    "        # normalize\n",
    "        inputs = normalize(data=inputs, mean=mean, std=std)\n",
    "\n",
    "        # Zero the parameter gradients\n",
    "        optimizer.zero_grad()\n",
    "\n",
    "        # Forward + backward + optimize\n",
    "        outputs = model(inputs)\n",
    "        loss = criterion(outputs, labels)\n",
    "        loss.backward()\n",
    "        optimizer.step()\n",
    "\n",
    "        # Update statistics\n",
    "        running_loss += loss.item()\n",
    "        _, predicted = outputs.max(1)\n",
    "        total += labels.size(0)\n",
    "        correct += predicted.eq(labels).sum().item()\n",
    "        current_lr = optimizer.param_groups[0]['lr']\n",
    "\n",
    "        # Print progress\n",
    "        pbar.set_postfix(loss=running_loss / (i + 1), accuracy=100.0 * correct / total, lr=current_lr.item())\n",
    "\n",
    "        \n",
    "\n",
    "    # update loss\n",
    "    train_losses.append(running_loss / len(trainloader_subsample))\n",
    "    \n",
    "    if scheduler is not None:\n",
    "        scheduler.step()\n",
    "\n",
    "    # Evaluate the model on the test set\n",
    "    model.eval()  # Set the model to evaluation mode\n",
    "    test_correct = 0\n",
    "    test_total = 0\n",
    "\n",
    "    with torch.no_grad():\n",
    "        for data in testloader:\n",
    "            images, labels = data[0].to(device), data[1].to(device)\n",
    "            # normalize\n",
    "            images = normalize(data=images, mean=mean, std=std)\n",
    "            \n",
    "            outputs = model(images)\n",
    "            _, predicted = outputs.max(1)\n",
    "            test_total += labels.size(0)\n",
    "            test_correct += predicted.eq(labels).sum().item()\n",
    "        \n",
    "        test_accuracy = 100.0 * test_correct / test_total\n",
    "        print(f'Test Accuracy: {test_accuracy}%')\n",
    "\n",
    "        # update loss\n",
    "        test_losses.append(criterion(outputs, labels).item())\n"
   ]
  },
  {
   "cell_type": "code",
   "execution_count": null,
   "metadata": {},
   "outputs": [],
   "source": [
    "# plot losses\n",
    "plt.figure(figsize=(10, 7))\n",
    "plt.plot(train_losses, label='Training loss')\n",
    "plt.plot(test_losses, label='Validation loss')\n",
    "plt.title('Loss at the end of each epoch')\n",
    "plt.legend()\n",
    "plt.show()\n",
    "\n",
    "# plot confusion matrix\n",
    "model.eval()  # Set the model to evaluation mode\n",
    "test_correct = 0\n",
    "test_total = 0\n",
    "y_true = []\n",
    "y_pred = []\n",
    "\n",
    "with torch.no_grad():\n",
    "    for data in testloader:\n",
    "        images, labels = data[0].to(device), data[1].to(device)\n",
    "        # normalize\n",
    "        images = normalize(data=images, mean=mean, std=std)\n",
    "        \n",
    "        outputs = model(images)\n",
    "        _, predicted = outputs.max(1)\n",
    "        test_total += labels.size(0)\n",
    "        test_correct += predicted.eq(labels).sum().item()\n",
    "\n",
    "        y_true.append(labels.cpu().numpy())\n",
    "        y_pred.append(predicted.cpu().numpy())\n",
    "    \n",
    "    y_true = np.concatenate(y_true)\n",
    "    y_pred = np.concatenate(y_pred)\n",
    "\n",
    "    cm = confusion_matrix(y_true, y_pred, normalize='true')\n",
    "    disp = ConfusionMatrixDisplay(confusion_matrix=cm, display_labels=classes)\n",
    "    disp.plot()\n",
    "    plt.tight_layout()\n",
    "    plt.show()\n"
   ]
  },
  {
   "cell_type": "code",
   "execution_count": null,
   "metadata": {},
   "outputs": [],
   "source": [
    "# Evaluation on the test set\n",
    "model.eval()  # Set the model to evaluation mode\n",
    "test_correct = 0\n",
    "test_total = 0\n",
    "\n",
    "with torch.no_grad():\n",
    "    for data in testloader:\n",
    "        images, labels = data[0].to(device), data[1].to(device)\n",
    "        # normalize\n",
    "        images = normalize(data=images, mean=mean, std=std)\n",
    "        \n",
    "        outputs = model(images)\n",
    "        _, predicted = outputs.max(1)\n",
    "        test_total += labels.size(0)\n",
    "        test_correct += predicted.eq(labels).sum().item()\n",
    "\n",
    "test_accuracy = 100.0 * test_correct / test_total\n",
    "print(f'Test Accuracy: {test_accuracy}%')\n",
    "\n",
    "# save the model\n",
    "torch.save(model.state_dict(), f\"{torch_models}/model_1.pth\")\n",
    "\n",
    "test_image, test_labels = testloader.__iter__().__next__()\n",
    "test_image = test_image.to(device)\n",
    "outputs_test = model(test_image)\n",
    "label_pred_test = outputs_test.argmax(dim=1)\n",
    "\n",
    "# descale the images\n",
    "test_image = test_image # * torch.tensor(std, device=device).view(1, 3, 1, 1) + torch.tensor(mean, device=device).view(1, 3, 1, 1)\n",
    "\n",
    "fig1 = plot_images(test_image, test_labels, label_pred_test, classes, figure_name=f\"Test score with {int(SUBSET_PROP*100)}% - {test_accuracy:.2f}%\")\n",
    "fig1.savefig(f\"./figures/test_score_{SUBSET_PROP}.png\")"
   ]
  },
  {
   "attachments": {},
   "cell_type": "markdown",
   "metadata": {},
   "source": [
    "## III. Convolution Neural Network - Full Supervised - Active Learning approach"
   ]
  },
  {
   "attachments": {},
   "cell_type": "markdown",
   "metadata": {},
   "source": [
    "Let's assume we know only the labels of the images of 5% of the dataset and computing more labels is expensive (time, resourcers). Therefore, we choose an active learning approach where we will \"compute\", according to a querying strategy, new labels from the dataset."
   ]
  },
  {
   "cell_type": "code",
   "execution_count": null,
   "metadata": {},
   "outputs": [],
   "source": [
    "# Define your dataset and dataloaders for labeled and unlabeled data\n",
    "seedEverything()\n",
    "\n",
    "EPOCHS = 100\n",
    "SUBSET_PROP = 0.01\n",
    "TARGET_SUBSET_PROP = 0.05\n",
    "\n",
    "trainset_lab, trainset_unlab = torch.utils.data.random_split(trainset, [SUBSET_PROP, 1-SUBSET_PROP])\n",
    "\n",
    "labeled_dataloader = DataLoader(\n",
    "    trainset_lab,\n",
    "    batch_size=int(BATCH_SIZE * SUBSET_PROP) + 1,\n",
    "    shuffle=True,\n",
    "    num_workers=0\n",
    ")\n",
    "\n",
    "unlabeled_dataloader = DataLoader(\n",
    "    trainset_unlab,\n",
    "    batch_size=BATCH_SIZE,\n",
    "    shuffle=True,\n",
    "    num_workers=0\n",
    ")\n",
    "\n",
    "# indices of labeled data\n",
    "labeled_indices = trainset_lab.indices\n",
    "\n",
    "# indices of unlabeled data\n",
    "unlabeled_indices = trainset_unlab.indices\n",
    "\n",
    "\n",
    "mean, std = np.array([0.5, 0.5, 0.5]), np.array([0.5, 0.5, 0.5])\n",
    "\n",
    "model = ConvNN().to(device)\n",
    "\n",
    "# criterion and optimizer\n",
    "criterion = nn.CrossEntropyLoss()\n",
    "\n",
    "optimizer = torch.optim.SGD(model.parameters(), lr=LR, momentum=BETA, weight_decay=WEIGHT_DECAY, nesterov=True)\n",
    "# Define the cosine learning rate decay function\n",
    "lr_lambda = lambda step: LR * 0.5 * (1 + torch.cos(torch.tensor((7 * torch.pi * step) / (16 * EPOCHS))))\n",
    "\n",
    "# Create a learning rate scheduler with the cosine decay function\n",
    "# scheduler = torch.optim.lr_scheduler.LambdaLR(optimizer, lr_lambda=lr_lambda)\n",
    "scheduler = None\n"
   ]
  },
  {
   "cell_type": "code",
   "execution_count": null,
   "metadata": {},
   "outputs": [],
   "source": [
    "# Compute uncertainty scores using entropy\n",
    "from scipy.stats import entropy\n",
    "\n",
    "# Active Learning approach for selecting data\n",
    "def select_samples_active_learning(model, unlabeled_dataloader, num_samples):\n",
    "    scores = []\n",
    "    for images, _ in unlabeled_dataloader:\n",
    "        images = images.to(device)\n",
    "        logits = model(images)\n",
    "        entr = entropy(logits.detach().cpu().numpy())\n",
    "        scores.append(entr)\n",
    "        \n",
    "    scores = np.concatenate(scores)\n",
    "\n",
    "    # sort scores from highest to lowest\n",
    "    \n",
    "    scores_sorted = np.sort(scores)[::-1]\n",
    "\n",
    "    # Select top-k samples based on uncertainty scores\n",
    "    selected_indices = np.argsort(scores_sorted)[:num_samples]\n",
    "    selected_scores = scores_sorted[:num_samples]\n",
    "\n",
    "    return selected_indices, selected_scores\n",
    "\n",
    "# Create a new labeled dataset using active learning\n",
    "def create_labeled_dataset_active_learning(dataset, selected_indices):\n",
    "    labeled_dataset = torch.utils.data.Subset(dataset, selected_indices)\n",
    "    return labeled_dataset"
   ]
  },
  {
   "cell_type": "code",
   "execution_count": null,
   "metadata": {},
   "outputs": [],
   "source": [
    "print(\"Start training\")\n",
    "\n",
    "max_iter = 500\n",
    "\n",
    "# training loop\n",
    "subset_length = len(trainset_lab)\n",
    "current_proportion = subset_length / len(trainset)\n",
    "\n",
    "scores = np.array([np.inf])\n",
    "i = 0\n",
    "\n",
    "# training loop\n",
    "while current_proportion <= TARGET_SUBSET_PROP and i < max_iter:\n",
    "    running_loss = 0.0\n",
    "    correct = 0\n",
    "    total = 0\n",
    "\n",
    "    pbar = tqdm(labeled_dataloader, total=len(labeled_dataloader), unit=\"batch\", desc=f\"Epoch {i: >5}\")\n",
    "    for j, data in enumerate(pbar):\n",
    "        # Get the inputs; data is a list of [inputs, labels]\n",
    "        inputs, labels = data[0].to(device), data[1].to(device)\n",
    "\n",
    "        # normalize\n",
    "        inputs = normalize(data=inputs, mean=mean, std=std)\n",
    "\n",
    "        # Zero the parameter gradients\n",
    "        optimizer.zero_grad()\n",
    "\n",
    "        # Forward + backward + optimize\n",
    "        outputs = model(inputs)\n",
    "        loss = criterion(outputs, labels)\n",
    "\n",
    "        loss.backward()\n",
    "        optimizer.step()\n",
    "\n",
    "        # Update statistics\n",
    "        running_loss += loss.item()\n",
    "        _, predicted = outputs.max(1)\n",
    "        total += labels.size(0)\n",
    "        correct += predicted.eq(labels).sum().item()\n",
    "        current_lr = optimizer.param_groups[0]['lr']\n",
    "\n",
    "        # Print progress\n",
    "        pbar.set_postfix(loss=running_loss / (j + 1), accuracy=100.0 * correct / total, lr=current_lr, prop=current_proportion, scores=scores.mean(), length_lab=len(labeled_indices), length_unlab=len(unlabeled_indices))\n",
    "\n",
    "    # compute data where uncertainty is higher\n",
    "    selected_indices, scores = select_samples_active_learning(model, unlabeled_dataloader, num_samples=20)\n",
    "    \n",
    "    # add selected indices to labeled indices\n",
    "    labeled_indices = np.concatenate((labeled_indices, selected_indices))\n",
    "\n",
    "    # remove selected indices from unlabeled indices\n",
    "    unlabeled_indices = np.setdiff1d(unlabeled_indices, selected_indices)\n",
    "\n",
    "    # create new dataset from labeled indices\n",
    "    trainset_subsample = create_labeled_dataset_active_learning(trainset, selected_indices)\n",
    "\n",
    "    # update dataloader\n",
    "    labeled_dataloader = DataLoader(\n",
    "        trainset_subsample,\n",
    "        batch_size=1,\n",
    "        shuffle=True,\n",
    "        num_workers=0\n",
    "    )\n",
    "\n",
    "    # update unlabeled dataset\n",
    "    trainset_unlab = torch.utils.data.Subset(trainset, unlabeled_indices)\n",
    "\n",
    "    # update unlabeled dataloader\n",
    "    unlabeled_dataloader = DataLoader(\n",
    "        trainset_unlab,\n",
    "        batch_size=BATCH_SIZE,\n",
    "        shuffle=True,\n",
    "        num_workers=0\n",
    "    )\n",
    "\n",
    "    # update current proportion\n",
    "    subset_length = len(labeled_indices)\n",
    "    current_proportion = subset_length / len(trainset)\n",
    "\n",
    "    if scheduler is not None:\n",
    "        scheduler.step()\n",
    "\n",
    "    i += 1"
   ]
  },
  {
   "cell_type": "code",
   "execution_count": null,
   "metadata": {},
   "outputs": [],
   "source": [
    "# check for duplicates in labeled indices\n",
    "unique, counts = np.unique(labeled_indices, return_counts=True)\n",
    "\n",
    "print(f\"Number of duplicates: {np.sum(counts > 1)}\")\n",
    "print(f\"Number of labeled indices: {len(labeled_indices)}\")"
   ]
  },
  {
   "cell_type": "code",
   "execution_count": null,
   "metadata": {},
   "outputs": [],
   "source": [
    "# Evaluation on the test set\n",
    "model.eval()  # Set the model to evaluation mode\n",
    "test_correct = 0\n",
    "test_total = 0\n",
    "\n",
    "with torch.no_grad():\n",
    "    for data in testloader:\n",
    "        images, labels = data[0].to(device), data[1].to(device)\n",
    "        # normalize\n",
    "        images = normalize(data=images, mean=mean, std=std)\n",
    "        \n",
    "        outputs = model(images)\n",
    "        _, predicted = outputs.max(1)\n",
    "        test_total += labels.size(0)\n",
    "        test_correct += predicted.eq(labels).sum().item()\n",
    "\n",
    "test_accuracy = 100.0 * test_correct / test_total\n",
    "print(f'Test Accuracy: {test_accuracy}%')\n",
    "\n",
    "# save the model\n",
    "torch.save(model.state_dict(), f\"{torch_models}/model_5_AL.pth\")\n",
    "\n",
    "test_image, test_labels = testloader.__iter__().__next__()\n",
    "test_image = test_image.to(device)\n",
    "outputs_test = model(test_image)\n",
    "label_pred_test = outputs_test.argmax(dim=1)\n",
    "\n",
    "# descale the images\n",
    "test_image = test_image # * torch.tensor(std, device=device).view(1, 3, 1, 1) + torch.tensor(mean, device=device).view(1, 3, 1, 1)\n",
    "\n",
    "fig1 = plot_images(test_image, test_labels, label_pred_test, classes, figure_name=f\"Test score with AL - {int(current_proportion*100)}% - {test_accuracy:.2f}%\")\n",
    "fig1.savefig(f\"./figures/test_score_{current_proportion}_AL.png\")"
   ]
  },
  {
   "attachments": {},
   "cell_type": "markdown",
   "metadata": {},
   "source": [
    "## III. Semi-Supervised Learning: Fixmatch"
   ]
  },
  {
   "attachments": {},
   "cell_type": "markdown",
   "metadata": {},
   "source": [
    "### III.1 Fixmatch on 10% train data"
   ]
  },
  {
   "cell_type": "code",
   "execution_count": null,
   "metadata": {},
   "outputs": [],
   "source": [
    "# Define your dataset and dataloaders for labeled and unlabeled data\n",
    "seedEverything()\n",
    "\n",
    "EPOCHS = 150\n",
    "SUBSET_PROP = 0.10\n",
    "\n",
    "trainset_sup, trainset_unsup = torch.utils.data.random_split(trainset, [SUBSET_PROP, 1-SUBSET_PROP])\n",
    "\n",
    "labeled_dataloader = DataLoader(\n",
    "    trainset_sup,\n",
    "    batch_size=BATCH_SIZE,\n",
    "    shuffle=True,\n",
    "    num_workers=0\n",
    ")\n",
    "\n",
    "unlabeled_dataloader = DataLoader(\n",
    "    trainset_unsup,\n",
    "    batch_size=MU*BATCH_SIZE,\n",
    "    shuffle=True,\n",
    "    num_workers=0\n",
    ")"
   ]
  },
  {
   "cell_type": "code",
   "execution_count": null,
   "metadata": {},
   "outputs": [],
   "source": [
    "# transformations\n",
    "weak_transform = K.ImageSequential(\n",
    "    K.RandomHorizontalFlip(p=0.50), \n",
    "    K.RandomAffine(degrees=0, translate=(0.125, 0.125)),\n",
    ")\n",
    "\n",
    "strong_transform = K.ImageSequential(\n",
    "    K.auto.RandAugment(n=2, m=10), # randaugment + cutout\n",
    ")"
   ]
  },
  {
   "cell_type": "code",
   "execution_count": null,
   "metadata": {},
   "outputs": [],
   "source": [
    "def mask(model, weak_unlabeled_data):\n",
    "    with torch.no_grad():\n",
    "        model.train()\n",
    "        logits = model(weak_unlabeled_data)\n",
    "        probs = torch.softmax(logits, dim=1)\n",
    "        scores, labels = torch.max(probs, dim=1)\n",
    "        idx = scores > TAU\n",
    "        labels = labels[idx]\n",
    "\n",
    "    return labels.detach(), idx, scores"
   ]
  },
  {
   "cell_type": "code",
   "execution_count": null,
   "metadata": {},
   "outputs": [],
   "source": [
    "model = ConvNN().to(device)\n",
    "\n",
    "# criterion and optimizer\n",
    "labeled_criterion = nn.CrossEntropyLoss()\n",
    "unlabeled_criterion = nn.CrossEntropyLoss()\n",
    "\n",
    "optimizer = torch.optim.SGD(model.parameters(), lr=LR, momentum=BETA, weight_decay=WEIGHT_DECAY, nesterov=True)\n",
    "# scheduler = torch.optim.lr_scheduler.CosineAnnealingLR(optimizer, T_max=EPOCHS)\n",
    "\n",
    "\n",
    "# Define the cosine learning rate decay function\n",
    "lr_lambda = lambda step: LR * 0.5 * (1 + torch.cos(torch.tensor((7 * torch.pi * (step-1)) / (16 * len(trainloader_subsample))))) * 100/3\n",
    "\n",
    "# Create a learning rate scheduler with the cosine decay function\n",
    "scheduler = torch.optim.lr_scheduler.LambdaLR(optimizer, lr_lambda=lr_lambda)\n",
    "\n",
    "# scheduler = None"
   ]
  },
  {
   "cell_type": "code",
   "execution_count": null,
   "metadata": {},
   "outputs": [],
   "source": [
    "print(\"Start training\")\n",
    "\n",
    "train_losses = []\n",
    "test_losses = []\n",
    "\n",
    "for epoch in range(EPOCHS):\n",
    "    running_loss = 0.0\n",
    "    correct = 0\n",
    "    total = 0\n",
    "    running_n_unlabeled = 0\n",
    "    max_confidence = 0\n",
    "\n",
    "\n",
    "    pbar = tqdm(zip(labeled_dataloader, unlabeled_dataloader), total=min(len(labeled_dataloader), len(unlabeled_dataloader)), unit=\"batch\", desc=f\"Epoch {epoch: >5}\")\n",
    "\n",
    "    for i, (labeled_data, unlabeled_data) in enumerate(pbar):\n",
    "        # Get labeled and unlabeled data\n",
    "        labeled_inputs, labeled_labels = labeled_data[0].to(device), labeled_data[1].to(device)\n",
    "        unlabeled_inputs, unlabeled_labels = unlabeled_data[0].to(device), unlabeled_data[1].to(device)\n",
    "\n",
    "        # normalize\n",
    "        # labeled_inputs = normalize(data=labeled_inputs, mean=mean, std=std)\n",
    "        # unlabeled_inputs = normalize(data=unlabeled_inputs, mean=mean, std=std)\n",
    "\n",
    "        # Zero the parameter gradients\n",
    "        optimizer.zero_grad()\n",
    "\n",
    "        # Apply weak augmentation to labeled data\n",
    "        weak_labeled_inputs = weak_transform(labeled_inputs)\n",
    "\n",
    "        # Apply strong augmentation + weak augmentation to unlabeled data\n",
    "        strong_unlabeled_inputs = strong_transform(unlabeled_inputs)\n",
    "        weak_unlabeled_inputs = weak_transform(unlabeled_inputs)\n",
    "\n",
    "        # normalize\n",
    "        weak_labeled_inputs = normalize(data=weak_labeled_inputs, mean=mean, std=std)\n",
    "        strong_unlabeled_inputs = normalize(data=strong_unlabeled_inputs, mean=mean, std=std)\n",
    "        weak_unlabeled_inputs = normalize(data=weak_unlabeled_inputs, mean=mean, std=std)\n",
    "\n",
    "        # Compute mask, confidence\n",
    "        pseudo_labels, idx, scores = mask(model, weak_unlabeled_inputs)\n",
    "        strong_unlabeled_inputs = strong_unlabeled_inputs[idx]\n",
    "\n",
    "        n_labeled, n_unlabeled = weak_labeled_inputs.size(0), strong_unlabeled_inputs.size(0)\n",
    "\n",
    "        if n_unlabeled != 0:\n",
    "            # Concatenate labeled and unlabeled data\n",
    "            inputs = torch.cat((weak_labeled_inputs, strong_unlabeled_inputs))\n",
    "            labels = torch.cat((labeled_labels, pseudo_labels))\n",
    "\n",
    "            # forward pass\n",
    "            outputs = model(inputs)\n",
    "\n",
    "            # split labeled and unlabeled outputs\n",
    "            labeled_outputs, unlabeled_outputs = outputs[:n_labeled], outputs[n_labeled:]\n",
    "\n",
    "            # compute losses\n",
    "            labeled_loss = labeled_criterion(labeled_outputs, labeled_labels)\n",
    "            unlabeled_loss = unlabeled_criterion(unlabeled_outputs, pseudo_labels)\n",
    "\n",
    "            # compute total loss\n",
    "            loss = labeled_loss + LAMBDA_U * unlabeled_loss\n",
    "\n",
    "            # compute accuracy\n",
    "            total += (labeled_labels.size(0) + n_unlabeled)\n",
    "            correct += (outputs.argmax(dim=1) == torch.cat((labeled_labels, pseudo_labels))).sum().item()\n",
    "            \n",
    "        else:\n",
    "            # forward pass\n",
    "            outputs = model(weak_labeled_inputs)\n",
    "\n",
    "            # compute loss\n",
    "            labeled_loss = labeled_criterion(outputs, labeled_labels)\n",
    "            unlabeled_loss = torch.tensor(0, device=device)\n",
    "\n",
    "            # compute total loss\n",
    "            loss = labeled_loss + LAMBDA_U * unlabeled_loss\n",
    "\n",
    "            # compute accuracy\n",
    "            total += labeled_labels.size(0)\n",
    "            correct += (outputs.argmax(dim=1) == labeled_labels).sum().item()\n",
    "\n",
    "\n",
    "        # backward pass + optimize\n",
    "        loss.backward()\n",
    "        optimizer.step()\n",
    "\n",
    "        \n",
    "\n",
    "        # update statistics\n",
    "        running_loss += loss.item()\n",
    "        running_n_unlabeled += n_unlabeled\n",
    "        max_confidence = max(max_confidence, scores.max().item())\n",
    "\n",
    "        \n",
    "\n",
    "        # update progress bar\n",
    "        pbar.set_postfix({\n",
    "            \"total loss\": running_loss / (i + 1),\n",
    "            \"labeled loss\": labeled_loss.item(),\n",
    "            \"unlabeled loss\": unlabeled_loss.item(),\n",
    "            \"accuracy\": 100 * correct / total,\n",
    "            \"confidence\": max_confidence,\n",
    "            \"n_unlabeled\": running_n_unlabeled,\n",
    "            \"lr\": optimizer.param_groups[0]['lr'].item()\n",
    "        })\n",
    "\n",
    "    # update loss\n",
    "    train_losses.append(running_loss / (i + 1))\n",
    "\n",
    "    # scheduler step\n",
    "    if scheduler is not None:\n",
    "        scheduler.step()\n",
    "\n",
    "    \n",
    "    # Evaluate the model on the test set\n",
    "    model.eval()  # Set the model to evaluation mode\n",
    "    test_correct = 0\n",
    "    test_total = 0\n",
    "\n",
    "    with torch.no_grad():\n",
    "        for data in testloader:\n",
    "            images, labels = data[0].to(device), data[1].to(device)\n",
    "            # normalize\n",
    "            images = normalize(data=images, mean=mean, std=std)\n",
    "            \n",
    "            outputs = model(images)\n",
    "            _, predicted = outputs.max(1)\n",
    "            test_total += labels.size(0)\n",
    "            test_correct += predicted.eq(labels).sum().item()\n",
    "        \n",
    "        test_accuracy = 100.0 * test_correct / test_total\n",
    "        print(f'Test Accuracy: {test_accuracy}%')\n",
    "\n",
    "        # update loss\n",
    "        test_losses.append(labeled_criterion(outputs, labels).item())\n"
   ]
  },
  {
   "cell_type": "code",
   "execution_count": null,
   "metadata": {},
   "outputs": [],
   "source": [
    "# plot losses\n",
    "plt.figure(figsize=(10, 7))\n",
    "plt.plot(train_losses, label='Training loss')\n",
    "plt.plot(test_losses, label='Validation loss')\n",
    "plt.title('Loss at the end of each epoch')\n",
    "plt.legend()\n",
    "plt.show()\n",
    "\n",
    "# plot confusion matrix\n",
    "model.eval()  # Set the model to evaluation mode\n",
    "test_correct = 0\n",
    "test_total = 0\n",
    "y_true = []\n",
    "y_pred = []\n",
    "\n",
    "with torch.no_grad():\n",
    "    for data in testloader:\n",
    "        images, labels = data[0].to(device), data[1].to(device)\n",
    "        # normalize\n",
    "        images = normalize(data=images, mean=mean, std=std)\n",
    "        \n",
    "        outputs = model(images)\n",
    "        _, predicted = outputs.max(1)\n",
    "        test_total += labels.size(0)\n",
    "        test_correct += predicted.eq(labels).sum().item()\n",
    "\n",
    "        y_true.append(labels.cpu().numpy())\n",
    "        y_pred.append(predicted.cpu().numpy())\n",
    "    \n",
    "    y_true = np.concatenate(y_true)\n",
    "    y_pred = np.concatenate(y_pred)\n",
    "\n",
    "    cm = confusion_matrix(y_true, y_pred, normalize='true')\n",
    "    disp = ConfusionMatrixDisplay(confusion_matrix=cm, display_labels=classes)\n",
    "    disp.plot()\n",
    "    plt.tight_layout()\n",
    "    plt.show()\n"
   ]
  },
  {
   "cell_type": "code",
   "execution_count": null,
   "metadata": {},
   "outputs": [],
   "source": [
    "# Evaluation on the test set\n",
    "model.eval()  # Set the model to evaluation mode\n",
    "test_correct = 0\n",
    "test_total = 0\n",
    "\n",
    "with torch.no_grad():\n",
    "    for data in testloader:\n",
    "        images, labels = data[0].to(device), data[1].to(device)\n",
    "        # normalize\n",
    "        images = normalize(data=images, mean=mean, std=std)\n",
    "        \n",
    "        outputs = model(images)\n",
    "        _, predicted = outputs.max(1)\n",
    "        test_total += labels.size(0)\n",
    "        test_correct += predicted.eq(labels).sum().item()\n",
    "\n",
    "test_accuracy = 100.0 * test_correct / test_total\n",
    "print(f'Test Accuracy: {test_accuracy}%')\n",
    "\n",
    "# save the model\n",
    "torch.save(model.state_dict(), f\"{torch_models}/model_10_fixmatch.pth\")\n",
    "\n",
    "test_image, test_labels = testloader.__iter__().__next__()\n",
    "test_image = test_image.to(device)\n",
    "outputs_test = model(test_image)\n",
    "label_pred_test = outputs_test.argmax(dim=1)\n",
    "\n",
    "# descale the images\n",
    "test_image = test_image#  * torch.tensor(std, device=device).view(1, 3, 1, 1) + torch.tensor(mean, device=device).view(1, 3, 1, 1)\n",
    "\n",
    "fig1 = plot_images(test_image, test_labels, label_pred_test, classes, figure_name=f\"Test score with Fixmatch - {int(SUBSET_PROP*100)}% - {test_accuracy:.2f}%\")\n",
    "fig1.savefig(f\"./figures/test_score_{SUBSET_PROP}_fixmatch.png\")"
   ]
  },
  {
   "attachments": {},
   "cell_type": "markdown",
   "metadata": {},
   "source": [
    "### III.2 Fixmatch on 5% train data"
   ]
  },
  {
   "cell_type": "code",
   "execution_count": null,
   "metadata": {},
   "outputs": [],
   "source": [
    "# Define your dataset and dataloaders for labeled and unlabeled data\n",
    "seedEverything()\n",
    "\n",
    "EPOCHS = 150\n",
    "SUBSET_PROP = 0.05\n",
    "\n",
    "trainset_sup, trainset_unsup = torch.utils.data.random_split(trainset, [SUBSET_PROP, 1-SUBSET_PROP])\n",
    "\n",
    "labeled_dataloader = DataLoader(\n",
    "    trainset_sup,\n",
    "    batch_size=BATCH_SIZE,\n",
    "    shuffle=True,\n",
    "    num_workers=0\n",
    ")\n",
    "\n",
    "unlabeled_dataloader = DataLoader(\n",
    "    trainset_unsup,\n",
    "    batch_size=MU*BATCH_SIZE,\n",
    "    shuffle=True,\n",
    "    num_workers=0\n",
    ")\n",
    "\n",
    "# transformations\n",
    "weak_transform = K.ImageSequential(\n",
    "    K.RandomHorizontalFlip(p=0.50), \n",
    "    K.RandomAffine(degrees=0, translate=(0.125, 0.125)),\n",
    ")\n",
    "\n",
    "strong_transform = K.ImageSequential(\n",
    "    K.auto.RandAugment(n=2, m=10), # randaugment + cutout\n",
    ")\n",
    "\n",
    "def mask(model, weak_unlabeled_data):\n",
    "    with torch.no_grad():\n",
    "        model.train()\n",
    "        logits = model(weak_unlabeled_data)\n",
    "        probs = torch.softmax(logits, dim=1)\n",
    "        scores, labels = torch.max(probs, dim=1)\n",
    "        idx = scores > TAU\n",
    "        labels = labels[idx]\n",
    "\n",
    "    return labels.detach(), idx, scores\n",
    "\n",
    "model = ConvNN().to(device)\n",
    "\n",
    "# criterion and optimizer\n",
    "labeled_criterion = nn.CrossEntropyLoss()\n",
    "unlabeled_criterion = nn.CrossEntropyLoss()\n",
    "\n",
    "optimizer = torch.optim.SGD(model.parameters(), lr=LR, momentum=BETA, weight_decay=WEIGHT_DECAY, nesterov=True)\n",
    "# scheduler = torch.optim.lr_scheduler.CosineAnnealingLR(optimizer, T_max=EPOCHS)\n",
    "\n",
    "\n",
    "# Define the cosine learning rate decay function\n",
    "lr_lambda = lambda step: LR * 0.5 * (1 + torch.cos(torch.tensor((7 * torch.pi * step) / (16 * EPOCHS))))\n",
    "\n",
    "# Create a learning rate scheduler with the cosine decay function\n",
    "scheduler = torch.optim.lr_scheduler.LambdaLR(optimizer, lr_lambda=lr_lambda)\n",
    "\n",
    "# scheduler = None"
   ]
  },
  {
   "cell_type": "code",
   "execution_count": null,
   "metadata": {},
   "outputs": [],
   "source": [
    "print(\"Start training\")\n",
    "\n",
    "train_losses = []\n",
    "test_losses = []\n",
    "\n",
    "for epoch in range(EPOCHS):\n",
    "    running_loss = 0.0\n",
    "    correct = 0\n",
    "    total = 0\n",
    "    running_n_unlabeled = 0\n",
    "    max_confidence = 0\n",
    "\n",
    "\n",
    "    pbar = tqdm(zip(labeled_dataloader, unlabeled_dataloader), total=min(len(labeled_dataloader), len(unlabeled_dataloader)), unit=\"batch\", desc=f\"Epoch {epoch: >5}\")\n",
    "\n",
    "    for i, (labeled_data, unlabeled_data) in enumerate(pbar):\n",
    "        # Get labeled and unlabeled data\n",
    "        labeled_inputs, labeled_labels = labeled_data[0].to(device), labeled_data[1].to(device)\n",
    "        unlabeled_inputs, unlabeled_labels = unlabeled_data[0].to(device), unlabeled_data[1].to(device)\n",
    "\n",
    "        # Zero the parameter gradients\n",
    "        optimizer.zero_grad()\n",
    "\n",
    "        # Apply weak augmentation to labeled data\n",
    "        weak_labeled_inputs = weak_transform(labeled_inputs)\n",
    "\n",
    "        # Apply strong augmentation + weak augmentation to unlabeled data\n",
    "        strong_unlabeled_inputs = strong_transform(unlabeled_inputs)\n",
    "        weak_unlabeled_inputs = weak_transform(unlabeled_inputs)\n",
    "\n",
    "        # normalize\n",
    "        weak_labeled_inputs = normalize(data=weak_labeled_inputs, mean=mean, std=std)\n",
    "        strong_unlabeled_inputs = normalize(data=strong_unlabeled_inputs, mean=mean, std=std)\n",
    "        weak_unlabeled_inputs = normalize(data=weak_unlabeled_inputs, mean=mean, std=std)\n",
    "\n",
    "        # Compute mask, confidence\n",
    "        pseudo_labels, idx, scores = mask(model, weak_unlabeled_inputs)\n",
    "        strong_unlabeled_inputs = strong_unlabeled_inputs[idx]\n",
    "\n",
    "        n_labeled, n_unlabeled = weak_labeled_inputs.size(0), strong_unlabeled_inputs.size(0)\n",
    "\n",
    "        if n_unlabeled != 0:\n",
    "            # Concatenate labeled and unlabeled data\n",
    "            inputs = torch.cat((weak_labeled_inputs, strong_unlabeled_inputs))\n",
    "            labels = torch.cat((labeled_labels, pseudo_labels))\n",
    "\n",
    "            # forward pass\n",
    "            outputs = model(inputs)\n",
    "\n",
    "            # split labeled and unlabeled outputs\n",
    "            labeled_outputs, unlabeled_outputs = outputs[:n_labeled], outputs[n_labeled:]\n",
    "\n",
    "            # compute losses\n",
    "            labeled_loss = labeled_criterion(labeled_outputs, labeled_labels)\n",
    "            unlabeled_loss = unlabeled_criterion(unlabeled_outputs, pseudo_labels)\n",
    "\n",
    "            # compute total loss\n",
    "            loss = labeled_loss + LAMBDA_U * unlabeled_loss\n",
    "\n",
    "            # compute accuracy\n",
    "            total += (labeled_labels.size(0) + n_unlabeled)\n",
    "            correct += (outputs.argmax(dim=1) == torch.cat((labeled_labels, pseudo_labels))).sum().item()\n",
    "            \n",
    "        else:\n",
    "            # forward pass\n",
    "            outputs = model(weak_labeled_inputs)\n",
    "\n",
    "            # compute loss\n",
    "            labeled_loss = labeled_criterion(outputs, labeled_labels)\n",
    "            unlabeled_loss = torch.tensor(0, device=device)\n",
    "\n",
    "            # compute total loss\n",
    "            loss = labeled_loss + LAMBDA_U * unlabeled_loss\n",
    "\n",
    "            # compute accuracy\n",
    "            total += labeled_labels.size(0)\n",
    "            correct += (outputs.argmax(dim=1) == labeled_labels).sum().item()\n",
    "\n",
    "\n",
    "        # backward pass + optimize\n",
    "        loss.backward()\n",
    "        optimizer.step()\n",
    "\n",
    "        \n",
    "\n",
    "        # update statistics\n",
    "        running_loss += loss.item()\n",
    "        running_n_unlabeled += n_unlabeled\n",
    "        max_confidence = max(max_confidence, scores.max().item())\n",
    "\n",
    "        \n",
    "\n",
    "        # update progress bar\n",
    "        pbar.set_postfix({\n",
    "            \"total loss\": running_loss / (i + 1),\n",
    "            \"labeled loss\": labeled_loss.item(),\n",
    "            \"unlabeled loss\": unlabeled_loss.item(),\n",
    "            \"accuracy\": 100 * correct / total,\n",
    "            \"confidence\": max_confidence,\n",
    "            \"n_unlabeled\": running_n_unlabeled,\n",
    "            \"lr\": optimizer.param_groups[0]['lr'].item()\n",
    "        })\n",
    "\n",
    "    # update loss\n",
    "    train_losses.append(running_loss / (i + 1))\n",
    "\n",
    "    # scheduler step\n",
    "    if scheduler is not None:\n",
    "        scheduler.step()\n",
    "\n",
    "    \n",
    "    # Evaluate the model on the test set\n",
    "    model.eval()  # Set the model to evaluation mode\n",
    "    test_correct = 0\n",
    "    test_total = 0\n",
    "\n",
    "    with torch.no_grad():\n",
    "        for data in testloader:\n",
    "            images, labels = data[0].to(device), data[1].to(device)\n",
    "            # normalize\n",
    "            images = normalize(data=images, mean=mean, std=std)\n",
    "            \n",
    "            outputs = model(images)\n",
    "            _, predicted = outputs.max(1)\n",
    "            test_total += labels.size(0)\n",
    "            test_correct += predicted.eq(labels).sum().item()\n",
    "        \n",
    "        test_accuracy = 100.0 * test_correct / test_total\n",
    "        print(f'Test Accuracy: {test_accuracy}%')\n",
    "\n",
    "        # update loss\n",
    "        test_losses.append(labeled_criterion(outputs, labels).item())"
   ]
  },
  {
   "cell_type": "code",
   "execution_count": null,
   "metadata": {},
   "outputs": [],
   "source": [
    "# plot losses\n",
    "plt.figure(figsize=(10, 7))\n",
    "plt.plot(train_losses, label='Training loss')\n",
    "plt.plot(test_losses, label='Validation loss')\n",
    "plt.title('Loss at the end of each epoch')\n",
    "plt.legend()\n",
    "plt.show()\n",
    "\n",
    "# plot confusion matrix\n",
    "model.eval()  # Set the model to evaluation mode\n",
    "test_correct = 0\n",
    "test_total = 0\n",
    "y_true = []\n",
    "y_pred = []\n",
    "\n",
    "with torch.no_grad():\n",
    "    for data in testloader:\n",
    "        images, labels = data[0].to(device), data[1].to(device)\n",
    "        # normalize\n",
    "        images = normalize(data=images, mean=mean, std=std)\n",
    "        \n",
    "        outputs = model(images)\n",
    "        _, predicted = outputs.max(1)\n",
    "        test_total += labels.size(0)\n",
    "        test_correct += predicted.eq(labels).sum().item()\n",
    "\n",
    "        y_true.append(labels.cpu().numpy())\n",
    "        y_pred.append(predicted.cpu().numpy())\n",
    "    \n",
    "    y_true = np.concatenate(y_true)\n",
    "    y_pred = np.concatenate(y_pred)\n",
    "\n",
    "    cm = confusion_matrix(y_true, y_pred, normalize='true')\n",
    "    disp = ConfusionMatrixDisplay(confusion_matrix=cm, display_labels=classes)\n",
    "    disp.plot()\n",
    "    plt.tight_layout()\n",
    "    plt.show()\n"
   ]
  },
  {
   "cell_type": "code",
   "execution_count": null,
   "metadata": {},
   "outputs": [],
   "source": [
    "# Evaluation on the test set\n",
    "model.eval()  # Set the model to evaluation mode\n",
    "test_correct = 0\n",
    "test_total = 0\n",
    "\n",
    "with torch.no_grad():\n",
    "    for data in testloader:\n",
    "        images, labels = data[0].to(device), data[1].to(device)\n",
    "        # normalize\n",
    "        images = normalize(data=images, mean=mean, std=std)\n",
    "        \n",
    "        outputs = model(images)\n",
    "        _, predicted = outputs.max(1)\n",
    "        test_total += labels.size(0)\n",
    "        test_correct += predicted.eq(labels).sum().item()\n",
    "\n",
    "test_accuracy = 100.0 * test_correct / test_total\n",
    "print(f'Test Accuracy: {test_accuracy}%')\n",
    "\n",
    "# save the model\n",
    "torch.save(model.state_dict(), f\"{torch_models}/model_5_fixmatch.pth\")\n",
    "\n",
    "test_image, test_labels = testloader.__iter__().__next__()\n",
    "test_image = test_image.to(device)\n",
    "outputs_test = model(test_image)\n",
    "label_pred_test = outputs_test.argmax(dim=1)\n",
    "\n",
    "# descale the images\n",
    "test_image = test_image#  * torch.tensor(std, device=device).view(1, 3, 1, 1) + torch.tensor(mean, device=device).view(1, 3, 1, 1)\n",
    "\n",
    "fig1 = plot_images(test_image, test_labels, label_pred_test, classes, figure_name=f\"Test score with Fixmatch - {int(SUBSET_PROP*100)}% - {test_accuracy:.2f}%\")\n",
    "fig1.savefig(f\"./figures/test_score_{SUBSET_PROP}_fixmatch.png\")"
   ]
  },
  {
   "attachments": {},
   "cell_type": "markdown",
   "metadata": {},
   "source": [
    "### III.3 Fixmatch on 1% train data"
   ]
  },
  {
   "cell_type": "code",
   "execution_count": null,
   "metadata": {},
   "outputs": [],
   "source": [
    "# Define your dataset and dataloaders for labeled and unlabeled data\n",
    "seedEverything()\n",
    "\n",
    "EPOCHS = 150\n",
    "SUBSET_PROP = 0.01\n",
    "\n",
    "trainset_sup, trainset_unsup = torch.utils.data.random_split(trainset, [SUBSET_PROP, 1-SUBSET_PROP])\n",
    "\n",
    "labeled_dataloader = DataLoader(\n",
    "    trainset_sup,\n",
    "    batch_size=BATCH_SIZE*1/MU,\n",
    "    shuffle=True,\n",
    "    num_workers=0\n",
    ")\n",
    "\n",
    "unlabeled_dataloader = DataLoader(\n",
    "    trainset_unsup,\n",
    "    batch_size=MU*BATCH_SIZE,\n",
    "    shuffle=True,\n",
    "    num_workers=0\n",
    ")\n",
    "\n",
    "# transformations\n",
    "weak_transform = K.ImageSequential(\n",
    "    K.RandomHorizontalFlip(p=0.50), \n",
    "    K.RandomAffine(degrees=0, translate=(0.125, 0.125)),\n",
    ")\n",
    "\n",
    "strong_transform = K.ImageSequential(\n",
    "    K.auto.RandAugment(n=2, m=10), # randaugment + cutout\n",
    ")\n",
    "\n",
    "def mask(model, weak_unlabeled_data):\n",
    "    with torch.no_grad():\n",
    "        model.train()\n",
    "        logits = model(weak_unlabeled_data)\n",
    "        probs = torch.softmax(logits, dim=1)\n",
    "        scores, labels = torch.max(probs, dim=1)\n",
    "        idx = scores > TAU\n",
    "        labels = labels[idx]\n",
    "\n",
    "    return labels.detach(), idx, scores\n",
    "\n",
    "model = ConvNN().to(device)\n",
    "\n",
    "# criterion and optimizer\n",
    "labeled_criterion = nn.CrossEntropyLoss()\n",
    "unlabeled_criterion = nn.CrossEntropyLoss()\n",
    "\n",
    "optimizer = torch.optim.SGD(model.parameters(), lr=LR, momentum=BETA, weight_decay=WEIGHT_DECAY, nesterov=True)\n",
    "# scheduler = torch.optim.lr_scheduler.CosineAnnealingLR(optimizer, T_max=EPOCHS)\n",
    "\n",
    "\n",
    "# Define the cosine learning rate decay function\n",
    "lr_lambda = lambda step: LR * 0.5 * (1 + torch.cos(torch.tensor((7 * torch.pi * step) / (16 * EPOCHS))))\n",
    "\n",
    "# Create a learning rate scheduler with the cosine decay function\n",
    "scheduler = torch.optim.lr_scheduler.LambdaLR(optimizer, lr_lambda=lr_lambda)\n",
    "\n",
    "# scheduler = None"
   ]
  },
  {
   "cell_type": "code",
   "execution_count": null,
   "metadata": {},
   "outputs": [],
   "source": [
    "print(\"Start training\")\n",
    "\n",
    "train_losses = []\n",
    "test_losses = []\n",
    "\n",
    "for epoch in range(EPOCHS):\n",
    "    running_loss = 0.0\n",
    "    correct = 0\n",
    "    total = 0\n",
    "    running_n_unlabeled = 0\n",
    "    max_confidence = 0\n",
    "\n",
    "\n",
    "    pbar = tqdm(zip(labeled_dataloader, unlabeled_dataloader), total=min(len(labeled_dataloader), len(unlabeled_dataloader)), unit=\"batch\", desc=f\"Epoch {epoch: >5}\")\n",
    "\n",
    "    for i, (labeled_data, unlabeled_data) in enumerate(pbar):\n",
    "        # Get labeled and unlabeled data\n",
    "        labeled_inputs, labeled_labels = labeled_data[0].to(device), labeled_data[1].to(device)\n",
    "        unlabeled_inputs, unlabeled_labels = unlabeled_data[0].to(device), unlabeled_data[1].to(device)\n",
    "\n",
    "        # normalize\n",
    "        # labeled_inputs = normalize(data=labeled_inputs, mean=mean, std=std)\n",
    "        # unlabeled_inputs = normalize(data=unlabeled_inputs, mean=mean, std=std)\n",
    "\n",
    "        # Zero the parameter gradients\n",
    "        optimizer.zero_grad()\n",
    "\n",
    "        # Apply weak augmentation to labeled data\n",
    "        weak_labeled_inputs = weak_transform(labeled_inputs)\n",
    "\n",
    "        # Apply strong augmentation + weak augmentation to unlabeled data\n",
    "        strong_unlabeled_inputs = strong_transform(unlabeled_inputs)\n",
    "        weak_unlabeled_inputs = weak_transform(unlabeled_inputs)\n",
    "\n",
    "        # normalize\n",
    "        weak_labeled_inputs = normalize(data=weak_labeled_inputs, mean=mean, std=std)\n",
    "        strong_unlabeled_inputs = normalize(data=strong_unlabeled_inputs, mean=mean, std=std)\n",
    "        weak_unlabeled_inputs = normalize(data=weak_unlabeled_inputs, mean=mean, std=std)\n",
    "\n",
    "        # Compute mask, confidence\n",
    "        pseudo_labels, idx, scores = mask(model, weak_unlabeled_inputs)\n",
    "        strong_unlabeled_inputs = strong_unlabeled_inputs[idx]\n",
    "\n",
    "        n_labeled, n_unlabeled = weak_labeled_inputs.size(0), strong_unlabeled_inputs.size(0)\n",
    "\n",
    "        if n_unlabeled != 0:\n",
    "            # Concatenate labeled and unlabeled data\n",
    "            inputs = torch.cat((weak_labeled_inputs, strong_unlabeled_inputs))\n",
    "            labels = torch.cat((labeled_labels, pseudo_labels))\n",
    "\n",
    "            # forward pass\n",
    "            outputs = model(inputs)\n",
    "\n",
    "            # split labeled and unlabeled outputs\n",
    "            labeled_outputs, unlabeled_outputs = outputs[:n_labeled], outputs[n_labeled:]\n",
    "\n",
    "            # compute losses\n",
    "            labeled_loss = labeled_criterion(labeled_outputs, labeled_labels)\n",
    "            unlabeled_loss = unlabeled_criterion(unlabeled_outputs, pseudo_labels)\n",
    "\n",
    "            # compute total loss\n",
    "            loss = labeled_loss + LAMBDA_U * unlabeled_loss\n",
    "\n",
    "            # compute accuracy\n",
    "            total += (labeled_labels.size(0) + n_unlabeled)\n",
    "            correct += (outputs.argmax(dim=1) == torch.cat((labeled_labels, pseudo_labels))).sum().item()\n",
    "            \n",
    "        else:\n",
    "            # forward pass\n",
    "            outputs = model(weak_labeled_inputs)\n",
    "\n",
    "            # compute loss\n",
    "            labeled_loss = labeled_criterion(outputs, labeled_labels)\n",
    "            unlabeled_loss = torch.tensor(0, device=device)\n",
    "\n",
    "            # compute total loss\n",
    "            loss = labeled_loss + LAMBDA_U * unlabeled_loss\n",
    "\n",
    "            # compute accuracy\n",
    "            total += labeled_labels.size(0)\n",
    "            correct += (outputs.argmax(dim=1) == labeled_labels).sum().item()\n",
    "\n",
    "\n",
    "        # backward pass + optimize\n",
    "        loss.backward()\n",
    "        optimizer.step()\n",
    "\n",
    "        \n",
    "\n",
    "        # update statistics\n",
    "        running_loss += loss.item()\n",
    "        running_n_unlabeled += n_unlabeled\n",
    "        max_confidence = max(max_confidence, scores.max().item())\n",
    "\n",
    "        \n",
    "\n",
    "        # update progress bar\n",
    "        pbar.set_postfix({\n",
    "            \"total loss\": running_loss / (i + 1),\n",
    "            \"labeled loss\": labeled_loss.item(),\n",
    "            \"unlabeled loss\": unlabeled_loss.item(),\n",
    "            \"accuracy\": 100 * correct / total,\n",
    "            \"confidence\": max_confidence,\n",
    "            \"n_unlabeled\": running_n_unlabeled,\n",
    "            \"lr\": optimizer.param_groups[0]['lr'].item()\n",
    "        })\n",
    "\n",
    "    # update loss\n",
    "    train_losses.append(running_loss / (i + 1))\n",
    "\n",
    "    # scheduler step\n",
    "    if scheduler is not None:\n",
    "        scheduler.step()\n",
    "\n",
    "    \n",
    "    # Evaluate the model on the test set\n",
    "    model.eval()  # Set the model to evaluation mode\n",
    "    test_correct = 0\n",
    "    test_total = 0\n",
    "\n",
    "    with torch.no_grad():\n",
    "        for data in testloader:\n",
    "            images, labels = data[0].to(device), data[1].to(device)\n",
    "            # normalize\n",
    "            images = normalize(data=images, mean=mean, std=std)\n",
    "            \n",
    "            outputs = model(images)\n",
    "            _, predicted = outputs.max(1)\n",
    "            test_total += labels.size(0)\n",
    "            test_correct += predicted.eq(labels).sum().item()\n",
    "        \n",
    "        test_accuracy = 100.0 * test_correct / test_total\n",
    "        print(f'Test Accuracy: {test_accuracy}%')\n",
    "\n",
    "        # update loss\n",
    "        test_losses.append(labeled_criterion(outputs, labels).item())\n"
   ]
  },
  {
   "cell_type": "code",
   "execution_count": null,
   "metadata": {},
   "outputs": [],
   "source": [
    "# plot losses\n",
    "plt.figure(figsize=(10, 7))\n",
    "plt.plot(train_losses, label='Training loss')\n",
    "plt.plot(test_losses, label='Validation loss')\n",
    "plt.title('Loss at the end of each epoch')\n",
    "plt.legend()\n",
    "plt.show()\n",
    "\n",
    "# plot confusion matrix\n",
    "model.eval()  # Set the model to evaluation mode\n",
    "test_correct = 0\n",
    "test_total = 0\n",
    "y_true = []\n",
    "y_pred = []\n",
    "\n",
    "with torch.no_grad():\n",
    "    for data in testloader:\n",
    "        images, labels = data[0].to(device), data[1].to(device)\n",
    "        # normalize\n",
    "        images = normalize(data=images, mean=mean, std=std)\n",
    "        \n",
    "        outputs = model(images)\n",
    "        _, predicted = outputs.max(1)\n",
    "        test_total += labels.size(0)\n",
    "        test_correct += predicted.eq(labels).sum().item()\n",
    "\n",
    "        y_true.append(labels.cpu().numpy())\n",
    "        y_pred.append(predicted.cpu().numpy())\n",
    "    \n",
    "    y_true = np.concatenate(y_true)\n",
    "    y_pred = np.concatenate(y_pred)\n",
    "\n",
    "    cm = confusion_matrix(y_true, y_pred, normalize='true')\n",
    "    disp = ConfusionMatrixDisplay(confusion_matrix=cm, display_labels=classes)\n",
    "    disp.plot()\n",
    "    plt.tight_layout()\n",
    "    plt.show()\n"
   ]
  },
  {
   "cell_type": "code",
   "execution_count": null,
   "metadata": {},
   "outputs": [],
   "source": [
    "# Evaluation on the test set\n",
    "model.eval()  # Set the model to evaluation mode\n",
    "test_correct = 0\n",
    "test_total = 0\n",
    "\n",
    "with torch.no_grad():\n",
    "    for data in testloader:\n",
    "        images, labels = data[0].to(device), data[1].to(device)\n",
    "        # normalize\n",
    "        images = normalize(data=images, mean=mean, std=std)\n",
    "        \n",
    "        outputs = model(images)\n",
    "        _, predicted = outputs.max(1)\n",
    "        test_total += labels.size(0)\n",
    "        test_correct += predicted.eq(labels).sum().item()\n",
    "\n",
    "test_accuracy = 100.0 * test_correct / test_total\n",
    "print(f'Test Accuracy: {test_accuracy}%')\n",
    "\n",
    "# save the model\n",
    "torch.save(model.state_dict(), f\"{torch_models}/model_1_fixmatch.pth\")\n",
    "\n",
    "test_image, test_labels = testloader.__iter__().__next__()\n",
    "test_image = test_image.to(device)\n",
    "outputs_test = model(test_image)\n",
    "label_pred_test = outputs_test.argmax(dim=1)\n",
    "\n",
    "# descale the images\n",
    "test_image = test_image#  * torch.tensor(std, device=device).view(1, 3, 1, 1) + torch.tensor(mean, device=device).view(1, 3, 1, 1)\n",
    "\n",
    "fig1 = plot_images(test_image, test_labels, label_pred_test, classes, figure_name=f\"Test score with Fixmatch - {int(SUBSET_PROP*100)}% - {test_accuracy:.2f}%\")\n",
    "fig1.savefig(f\"./figures/test_score_{SUBSET_PROP}_fixmatch.png\")"
   ]
  },
  {
   "attachments": {},
   "cell_type": "markdown",
   "metadata": {},
   "source": [
    "### III.2 Fixmatch with smart 10% choice"
   ]
  },
  {
   "attachments": {},
   "cell_type": "markdown",
   "metadata": {},
   "source": [
    "#### a. Active Learning approach"
   ]
  },
  {
   "attachments": {},
   "cell_type": "markdown",
   "metadata": {},
   "source": [
    "Let's assume that only 1% of the labels from the dataset is known and it is consuming (time, resources) to compute the other labels.\n",
    "\n",
    "Therefore, the active learning approach consists to, according to a querying strategy, compute the labels from the images that provide the most information."
   ]
  },
  {
   "cell_type": "code",
   "execution_count": null,
   "metadata": {},
   "outputs": [],
   "source": [
    "# Define your dataset and dataloaders for labeled and unlabeled data\n",
    "seedEverything()\n",
    "\n",
    "EPOCHS = 100\n",
    "SUBSET_PROP = 0.01\n",
    "\n",
    "trainset_sup, trainset_unsup = torch.utils.data.random_split(trainset, [SUBSET_PROP, 1-SUBSET_PROP])\n",
    "\n",
    "labeled_dataloader = DataLoader(\n",
    "    trainset_sup,\n",
    "    batch_size=BATCH_SIZE,\n",
    "    shuffle=True,\n",
    "    num_workers=0\n",
    ")\n",
    "\n",
    "unlabeled_dataloader = DataLoader(\n",
    "    trainset_unsup,\n",
    "    batch_size=MU*BATCH_SIZE,\n",
    "    shuffle=True,\n",
    "    num_workers=0\n",
    ")\n",
    "\n",
    "\n",
    "# transformations\n",
    "weak_transform = K.ImageSequential(\n",
    "    K.RandomHorizontalFlip(p=0.50), \n",
    "    K.RandomAffine(degrees=0, translate=(0.125, 0.125)),\n",
    ")\n",
    "\n",
    "strong_transform = K.ImageSequential(\n",
    "    K.auto.RandAugment(n=2, m=10), # randaugment + cutout\n",
    ")\n",
    "\n",
    "def mask(model, weak_unlabeled_data):\n",
    "    with torch.no_grad():\n",
    "        model.train()\n",
    "        logits = model(weak_unlabeled_data)\n",
    "        probs = torch.softmax(logits, dim=1)\n",
    "        scores, labels = torch.max(probs, dim=1)\n",
    "        idx = scores > TAU\n",
    "        labels = labels[idx]\n",
    "\n",
    "    return labels.detach(), idx, scores\n",
    "\n",
    "model = ConvNN().to(device)\n",
    "\n",
    "# criterion and optimizer\n",
    "labeled_criterion = nn.CrossEntropyLoss()\n",
    "unlabeled_criterion = nn.CrossEntropyLoss()\n",
    "\n",
    "optimizer = torch.optim.SGD(model.parameters(), lr=LR, momentum=BETA, weight_decay=WEIGHT_DECAY, nesterov=True)\n",
    "# scheduler = torch.optim.lr_scheduler.CosineAnnealingLR(optimizer, T_max=EPOCHS)\n",
    "\n",
    "\n",
    "# Define the cosine learning rate decay function\n",
    "lr_lambda = lambda step: LR * 0.5 * (1 + torch.cos(torch.tensor((7 * torch.pi * step) / (16 * EPOCHS))))\n",
    "\n",
    "# Create a learning rate scheduler with the cosine decay function\n",
    "scheduler = torch.optim.lr_scheduler.LambdaLR(optimizer, lr_lambda=lr_lambda)\n",
    "\n",
    "# scheduler = None"
   ]
  },
  {
   "cell_type": "code",
   "execution_count": null,
   "metadata": {},
   "outputs": [],
   "source": []
  },
  {
   "cell_type": "code",
   "execution_count": null,
   "metadata": {},
   "outputs": [],
   "source": []
  },
  {
   "cell_type": "code",
   "execution_count": null,
   "metadata": {},
   "outputs": [],
   "source": []
  },
  {
   "cell_type": "code",
   "execution_count": null,
   "metadata": {},
   "outputs": [],
   "source": []
  },
  {
   "cell_type": "code",
   "execution_count": null,
   "metadata": {},
   "outputs": [],
   "source": [
    "mean, std = np.array([0.5, 0.5, 0.5]), np.array([0.5, 0.5, 0.5])\n",
    "\n",
    "# transformations\n",
    "weak_transform = K.ImageSequential(\n",
    "    K.RandomHorizontalFlip(p=0.50), \n",
    "    K.RandomAffine(degrees=0, translate=(0.125, 0.125)),\n",
    ")\n",
    "\n",
    "strong_transform = K.ImageSequential(\n",
    "    K.auto.RandAugment(n=2, m=10), # randaugment + cutout\n",
    ")\n",
    "\n",
    "def mask(model, weak_unlabeled_data):\n",
    "    with torch.no_grad():\n",
    "        model.train()\n",
    "        logits = model(weak_unlabeled_data)\n",
    "        probs = torch.softmax(logits, dim=1)\n",
    "        scores, labels = torch.max(probs, dim=1)\n",
    "        idx = scores > TAU\n",
    "        labels = labels[idx]\n",
    "\n",
    "    return labels.detach(), idx, scores"
   ]
  },
  {
   "cell_type": "code",
   "execution_count": null,
   "metadata": {},
   "outputs": [],
   "source": [
    "model = ConvNN().to(device)\n",
    "\n",
    "# criterion and optimizer\n",
    "labeled_criterion = nn.CrossEntropyLoss()\n",
    "unlabeled_criterion = nn.CrossEntropyLoss()\n",
    "\n",
    "optimizer = torch.optim.SGD(model.parameters(), lr=LR, momentum=BETA, weight_decay=WEIGHT_DECAY, nesterov=True)\n",
    "scheduler = torch.optim.lr_scheduler.CosineAnnealingLR(optimizer, T_max=EPOCHS)\n",
    "# scheduler = None"
   ]
  },
  {
   "cell_type": "code",
   "execution_count": null,
   "metadata": {},
   "outputs": [],
   "source": [
    "print(\"Start training\")\n",
    "\n",
    "\n",
    "for epoch in range(EPOCHS):\n",
    "    running_loss = 0.0\n",
    "    correct = 0\n",
    "    total = 0\n",
    "    running_n_unlabeled = 0\n",
    "    max_confidence = 0\n",
    "\n",
    "\n",
    "    pbar = tqdm(zip(labeled_dataloader, unlabeled_dataloader), total=min(len(labeled_dataloader), len(unlabeled_dataloader)), unit=\"batch\", desc=f\"Epoch {epoch: >5}\")\n",
    "\n",
    "    for i, (labeled_data, unlabeled_data) in enumerate(pbar):\n",
    "        # Get labeled and unlabeled data\n",
    "        labeled_inputs, labeled_labels = labeled_data[0].to(device), labeled_data[1].to(device)\n",
    "        unlabeled_inputs, unlabeled_labels = unlabeled_data[0].to(device), unlabeled_data[1].to(device)\n",
    "\n",
    "        # normalize\n",
    "        # labeled_inputs = normalize(data=labeled_inputs, mean=mean, std=std)\n",
    "        # unlabeled_inputs = normalize(data=unlabeled_inputs, mean=mean, std=std)\n",
    "\n",
    "        # Zero the parameter gradients\n",
    "        optimizer.zero_grad()\n",
    "\n",
    "        # Apply weak augmentation to labeled data\n",
    "        weak_labeled_inputs = weak_transform(labeled_inputs)\n",
    "\n",
    "        # Apply strong augmentation + weak augmentation to unlabeled data\n",
    "        strong_unlabeled_inputs = strong_transform(unlabeled_inputs)\n",
    "        weak_unlabeled_inputs = weak_transform(unlabeled_inputs)\n",
    "\n",
    "        # normalize\n",
    "        weak_labeled_inputs = normalize(data=weak_labeled_inputs, mean=mean, std=std)\n",
    "        strong_unlabeled_inputs = normalize(data=strong_unlabeled_inputs, mean=mean, std=std)\n",
    "        weak_unlabeled_inputs = normalize(data=weak_unlabeled_inputs, mean=mean, std=std)\n",
    "\n",
    "        # Compute mask, confidence\n",
    "        pseudo_labels, idx, scores = mask(model, weak_unlabeled_inputs)\n",
    "        strong_unlabeled_inputs = strong_unlabeled_inputs[idx]\n",
    "\n",
    "        n_labeled, n_unlabeled = weak_labeled_inputs.size(0), strong_unlabeled_inputs.size(0)\n",
    "\n",
    "        if n_unlabeled != 0:\n",
    "            # Concatenate labeled and unlabeled data\n",
    "            inputs = torch.cat((weak_labeled_inputs, strong_unlabeled_inputs))\n",
    "            labels = torch.cat((labeled_labels, pseudo_labels))\n",
    "\n",
    "            # forward pass\n",
    "            outputs = model(inputs)\n",
    "\n",
    "            # split labeled and unlabeled outputs\n",
    "            labeled_outputs, unlabeled_outputs = outputs[:n_labeled], outputs[n_labeled:]\n",
    "\n",
    "            # compute losses\n",
    "            labeled_loss = labeled_criterion(labeled_outputs, labeled_labels)\n",
    "            unlabeled_loss = unlabeled_criterion(unlabeled_outputs, pseudo_labels)\n",
    "\n",
    "            # compute total loss\n",
    "            loss = labeled_loss + LAMBDA_U * unlabeled_loss\n",
    "            \n",
    "        else:\n",
    "            # forward pass\n",
    "            outputs = model(weak_labeled_inputs)\n",
    "\n",
    "            # compute loss\n",
    "            labeled_loss = labeled_criterion(outputs, labeled_labels)\n",
    "            unlabeled_loss = torch.tensor(0, device=device)\n",
    "\n",
    "            # compute total loss\n",
    "            loss = labeled_loss + LAMBDA_U * unlabeled_loss\n",
    "\n",
    "\n",
    "        # backward pass + optimize\n",
    "        loss.backward()\n",
    "        optimizer.step()\n",
    "\n",
    "        # scheduler step\n",
    "        if scheduler is not None:\n",
    "            scheduler.step()\n",
    "\n",
    "        # update statistics\n",
    "        running_loss += loss.item()\n",
    "        total += labeled_labels.size(0)\n",
    "        correct += (outputs.argmax(dim=1) == torch.cat((labeled_labels, pseudo_labels))).sum().item()\n",
    "        running_n_unlabeled += n_unlabeled\n",
    "        max_confidence = max(max_confidence, scores.max().item())\n",
    "\n",
    "        \n",
    "\n",
    "        # update progress bar\n",
    "        pbar.set_postfix({\n",
    "            \"total loss\": running_loss / (i + 1),\n",
    "            \"labeled loss\": labeled_loss.item(),\n",
    "            \"unlabeled loss\": unlabeled_loss.item(),\n",
    "            \"accuracy\": 100 * correct / total,\n",
    "            \"confidence\": max_confidence,\n",
    "            \"n_unlabeled\": running_n_unlabeled,\n",
    "            \"lr\": optimizer.param_groups[0]['lr']\n",
    "        })"
   ]
  }
 ],
 "metadata": {
  "accelerator": "GPU",
  "colab": {
   "provenance": []
  },
  "kernelspec": {
   "display_name": "Python 3 (ipykernel)",
   "language": "python",
   "name": "python3"
  },
  "language_info": {
   "codemirror_mode": {
    "name": "ipython",
    "version": 3
   },
   "file_extension": ".py",
   "mimetype": "text/x-python",
   "name": "python",
   "nbconvert_exporter": "python",
   "pygments_lexer": "ipython3",
   "version": "3.10.6"
  }
 },
 "nbformat": 4,
 "nbformat_minor": 4
}
