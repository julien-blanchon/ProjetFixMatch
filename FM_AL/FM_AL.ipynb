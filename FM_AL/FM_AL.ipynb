{
 "cells": [
  {
   "attachments": {},
   "cell_type": "markdown",
   "metadata": {},
   "source": [
    "# Projet Fixmatch"
   ]
  },
  {
   "cell_type": "code",
   "execution_count": null,
   "metadata": {},
   "outputs": [],
   "source": [
    "# !pip install torchvision torchmetrics matplotlib tqdm path scikit-learn"
   ]
  },
  {
   "cell_type": "code",
   "execution_count": null,
   "metadata": {},
   "outputs": [],
   "source": [
    "# system\n",
    "import sys\n",
    "sys.path.append('..')\n",
    "\n",
    "# data\n",
    "import numpy as np\n",
    "\n",
    "# deep learning\n",
    "import torch\n",
    "import torch.nn as nn\n",
    "from torch.distributions.transforms import LowerCholeskyTransform\n",
    "from torch.distributions.multivariate_normal import MultivariateNormal\n",
    "from torch.utils.data import DataLoader, Dataset\n",
    "\n",
    "# torchvision\n",
    "import torchvision\n",
    "\n",
    "# plotting\n",
    "import matplotlib.pyplot as plt\n",
    "\n",
    "from tqdm.notebook import tqdm\n",
    "\n",
    "# utils and model\n",
    "from utils.utils import (\n",
    "    seedEverything,\n",
    "    compute_mean_std,\n",
    "    data_transform,\n",
    "    normalize,\n",
    "    plot_images,\n",
    ")\n",
    "\n",
    "from utils.model import ConvNN\n",
    "\n",
    "# FIXMATCH\n",
    "from fixmatch_AL import mask, fixmatch_train_AL\n",
    "\n",
    "# os\n",
    "import os\n",
    "import path\n",
    "\n",
    "# sklearn - confusion matrix\n",
    "from sklearn.metrics import confusion_matrix, ConfusionMatrixDisplay\n",
    "\n",
    "\n",
    "%load_ext autoreload\n",
    "%autoreload 2"
   ]
  },
  {
   "cell_type": "code",
   "execution_count": null,
   "metadata": {},
   "outputs": [],
   "source": [
    "# Set device\n",
    "if ((int(torch.__version__.split(\".\")[0]) >= 2) or (int(torch.__version__.split(\".\")[1]) >= 13)) and torch.has_mps:\n",
    "    device = torch.device(\"mps\")\n",
    "elif torch.cuda.is_available():\n",
    "    device = torch.device(\"cuda\")\n",
    "else:\n",
    "    device = torch.device(\"cpu\")\n",
    "\n",
    "print(device)"
   ]
  },
  {
   "cell_type": "code",
   "execution_count": null,
   "metadata": {},
   "outputs": [],
   "source": [
    "IMG_SHAPE = (3, 32, 32)\n",
    "# See Table 4\n",
    "TAU = 0.95 #! 0.95 in the paper\n",
    "LAMBDA_U = 1 # 1\n",
    "MU = 7\n",
    "BATCH_SIZE = 64\n",
    "# LR = 0.03\n",
    "LR = 0.1\n",
    "BETA = 0.9\n",
    "# WEIGHT_DECAY = 0.02 # mixmatch AL paper\n",
    "WEIGHT_DECAY = 0.0005 # default paper\n",
    "BETA_DENSITY = 1"
   ]
  },
  {
   "cell_type": "code",
   "execution_count": null,
   "metadata": {},
   "outputs": [],
   "source": [
    "# Download both datasets\n",
    "trainset = torchvision.datasets.CIFAR10(\n",
    "    root='../data', train=True, download=True, transform=data_transform())\n",
    "testset = torchvision.datasets.CIFAR10(\n",
    "    root='../data', train=False, download=True, transform=data_transform())\n",
    "\n",
    "# convert to data loaders\n",
    "trainloader = torch.utils.data.DataLoader(\n",
    "    trainset, batch_size=BATCH_SIZE, shuffle=True, num_workers=0)\n",
    "testloader = torch.utils.data.DataLoader(\n",
    "    testset, batch_size=BATCH_SIZE, shuffle=False, num_workers=0)"
   ]
  },
  {
   "cell_type": "code",
   "execution_count": null,
   "metadata": {},
   "outputs": [],
   "source": [
    "# compute mean and std\n",
    "if not os.path.exists('../data/mean.pt'):\n",
    "    mean, std = compute_mean_std(trainloader)\n",
    "    torch.save(mean, '../data/mean.pt')\n",
    "    torch.save(std, '../data/std.pt')\n",
    "else:\n",
    "    mean, std = torch.load('../data/mean.pt'), torch.load('../data/std.pt')\n",
    "\n",
    "# to numpy\n",
    "mean, std = mean.numpy(), std.numpy()\n",
    "\n",
    "print(f\"mean: {mean}, std: {std}\")"
   ]
  },
  {
   "cell_type": "code",
   "execution_count": null,
   "metadata": {},
   "outputs": [],
   "source": [
    "# define classes\n",
    "classes = ('plane', 'car', 'bird', 'cat',\n",
    "           'deer', 'dog', 'frog', 'horse', 'ship', 'truck')\n"
   ]
  },
  {
   "cell_type": "code",
   "execution_count": null,
   "metadata": {},
   "outputs": [],
   "source": [
    "torch_models = './results/models/' \n",
    "if not os.path.exists(torch_models):\n",
    "    os.makedirs(torch_models)"
   ]
  },
  {
   "attachments": {},
   "cell_type": "markdown",
   "metadata": {},
   "source": [
    "## IV. Semi-Supervised Learning: Fixmatch with Active Learning"
   ]
  },
  {
   "attachments": {},
   "cell_type": "markdown",
   "metadata": {},
   "source": [
    "### IV.1 Fixmatch on 10% train data with Active Learning"
   ]
  },
  {
   "cell_type": "code",
   "execution_count": null,
   "metadata": {},
   "outputs": [],
   "source": [
    "# Define your dataset and dataloaders for labeled and unlabeled data\n",
    "seedEverything()\n",
    "\n",
    "TARGET_PROP = 0.10\n",
    "SUBSET_PROP = 0.005\n",
    "K_SAMPLES = 50\n",
    "\n",
    "# 10% labeled data and 100% unlabeled (see note 2 in paper)\n",
    "trainset_sup, _ = torch.utils.data.random_split(trainset, [SUBSET_PROP, 1-SUBSET_PROP])\n",
    "\n",
    "trainset_unsup, _ = torch.utils.data.random_split(trainset, [1, 0])\n",
    "\n",
    "labeled_dataloader = DataLoader(\n",
    "    trainset_sup,\n",
    "    batch_size=BATCH_SIZE,\n",
    "    shuffle=True,\n",
    "    num_workers=0\n",
    ")\n",
    "\n",
    "unlabeled_dataloader = DataLoader(\n",
    "    trainset_unsup,\n",
    "    batch_size=MU*BATCH_SIZE,\n",
    "    shuffle=False,\n",
    "    num_workers=0\n",
    ")"
   ]
  },
  {
   "cell_type": "code",
   "execution_count": null,
   "metadata": {},
   "outputs": [],
   "source": [
    "model = ConvNN().to(device)\n",
    "\n",
    "# criterion and optimizer\n",
    "labeled_criterion = nn.CrossEntropyLoss(reduction='none')\n",
    "unlabeled_criterion = nn.CrossEntropyLoss(reduction='none')\n",
    "true_unlabeled_criterion = nn.CrossEntropyLoss(reduction='none')\n",
    "optimizer = torch.optim.SGD(model.parameters(), lr=LR, momentum=BETA, weight_decay=WEIGHT_DECAY, nesterov=True)"
   ]
  },
  {
   "cell_type": "code",
   "execution_count": null,
   "metadata": {},
   "outputs": [],
   "source": [
    "from querying_fcts import (\n",
    "    information_density,\n",
    "    least_confidence\n",
    ")"
   ]
  },
  {
   "cell_type": "code",
   "execution_count": null,
   "metadata": {},
   "outputs": [],
   "source": [
    "fixmatch_train_AL(\n",
    "    model=model,\n",
    "    labeled_dataloader=labeled_dataloader,\n",
    "    unlabeled_dataloader=unlabeled_dataloader,\n",
    "    testloader=testloader,\n",
    "    labeled_criterion=labeled_criterion,\n",
    "    unlabeled_criterion=unlabeled_criterion,\n",
    "    optimizer=optimizer,\n",
    "    query_function=information_density,\n",
    "    target_prop=TARGET_PROP,\n",
    "    trainset_sup=trainset_sup,\n",
    "    trainset_unsup=trainset_unsup,\n",
    "    trainset=trainset,\n",
    "    mean=mean,\n",
    "    std=std,\n",
    "    lambda_u=LAMBDA_U,\n",
    "    tau=TAU,\n",
    "    mu=MU,\n",
    "    batch_size=BATCH_SIZE,\n",
    "    name='10'\n",
    ")"
   ]
  },
  {
   "attachments": {},
   "cell_type": "markdown",
   "metadata": {},
   "source": [
    "### IV.2 Fixmatch on 5% train data with Active Learning"
   ]
  },
  {
   "cell_type": "code",
   "execution_count": null,
   "metadata": {},
   "outputs": [],
   "source": [
    "# Define your dataset and dataloaders for labeled and unlabeled data\n",
    "seedEverything()\n",
    "\n",
    "TARGET_PROP = 0.05\n",
    "SUBSET_PROP = 0.005\n",
    "K_SAMPLES = 50\n",
    "\n",
    "# 10% labeled data and 100% unlabeled (see note 2 in paper)\n",
    "trainset_sup, _ = torch.utils.data.random_split(trainset, [SUBSET_PROP, 1-SUBSET_PROP])\n",
    "\n",
    "trainset_unsup, _ = torch.utils.data.random_split(trainset, [1, 0])\n",
    "\n",
    "labeled_dataloader = DataLoader(\n",
    "    trainset_sup,\n",
    "    batch_size=BATCH_SIZE,\n",
    "    shuffle=True,\n",
    "    num_workers=0\n",
    ")\n",
    "\n",
    "unlabeled_dataloader = DataLoader(\n",
    "    trainset_unsup,\n",
    "    batch_size=MU*BATCH_SIZE,\n",
    "    shuffle=False,\n",
    "    num_workers=0\n",
    ")"
   ]
  },
  {
   "cell_type": "code",
   "execution_count": null,
   "metadata": {},
   "outputs": [],
   "source": [
    "model = ConvNN().to(device)\n",
    "\n",
    "# criterion and optimizer\n",
    "labeled_criterion = nn.CrossEntropyLoss(reduction='none')\n",
    "unlabeled_criterion = nn.CrossEntropyLoss(reduction='none')\n",
    "true_unlabeled_criterion = nn.CrossEntropyLoss(reduction='none')\n",
    "optimizer = torch.optim.SGD(model.parameters(), lr=LR, momentum=BETA, weight_decay=WEIGHT_DECAY, nesterov=True)"
   ]
  },
  {
   "cell_type": "code",
   "execution_count": null,
   "metadata": {},
   "outputs": [],
   "source": [
    "from querying_fcts import (\n",
    "    information_density,\n",
    "    least_confidence\n",
    ")"
   ]
  },
  {
   "cell_type": "code",
   "execution_count": null,
   "metadata": {},
   "outputs": [],
   "source": [
    "fixmatch_train_AL(\n",
    "    model=model,\n",
    "    labeled_dataloader=labeled_dataloader,\n",
    "    unlabeled_dataloader=unlabeled_dataloader,\n",
    "    testloader=testloader,\n",
    "    labeled_criterion=labeled_criterion,\n",
    "    unlabeled_criterion=unlabeled_criterion,\n",
    "    optimizer=optimizer,\n",
    "    query_function=information_density,\n",
    "    target_prop=TARGET_PROP,\n",
    "    trainset_sup=trainset_sup,\n",
    "    trainset_unsup=trainset_unsup,\n",
    "    trainset=trainset,\n",
    "    mean=mean,\n",
    "    std=std,\n",
    "    lambda_u=LAMBDA_U,\n",
    "    tau=TAU,\n",
    "    mu=MU,\n",
    "    batch_size=BATCH_SIZE,\n",
    "    name='05'\n",
    ")"
   ]
  },
  {
   "attachments": {},
   "cell_type": "markdown",
   "metadata": {},
   "source": [
    "### IV.3 Fixmatch on 1% train data with Active Learning"
   ]
  },
  {
   "cell_type": "code",
   "execution_count": null,
   "metadata": {},
   "outputs": [],
   "source": [
    "# Define your dataset and dataloaders for labeled and unlabeled data\n",
    "seedEverything()\n",
    "\n",
    "TARGET_PROP = 0.01\n",
    "SUBSET_PROP = 0.005\n",
    "K_SAMPLES = 50\n",
    "\n",
    "# 10% labeled data and 100% unlabeled (see note 2 in paper)\n",
    "trainset_sup, _ = torch.utils.data.random_split(trainset, [SUBSET_PROP, 1-SUBSET_PROP])\n",
    "\n",
    "trainset_unsup, _ = torch.utils.data.random_split(trainset, [1, 0])\n",
    "\n",
    "labeled_dataloader = DataLoader(\n",
    "    trainset_sup,\n",
    "    batch_size=BATCH_SIZE,\n",
    "    shuffle=True,\n",
    "    num_workers=0\n",
    ")\n",
    "\n",
    "unlabeled_dataloader = DataLoader(\n",
    "    trainset_unsup,\n",
    "    batch_size=MU*BATCH_SIZE,\n",
    "    shuffle=False,\n",
    "    num_workers=0\n",
    ")"
   ]
  },
  {
   "cell_type": "code",
   "execution_count": null,
   "metadata": {},
   "outputs": [],
   "source": [
    "model = ConvNN().to(device)\n",
    "\n",
    "# criterion and optimizer\n",
    "labeled_criterion = nn.CrossEntropyLoss(reduction='none')\n",
    "unlabeled_criterion = nn.CrossEntropyLoss(reduction='none')\n",
    "true_unlabeled_criterion = nn.CrossEntropyLoss(reduction='none')\n",
    "optimizer = torch.optim.SGD(model.parameters(), lr=LR, momentum=BETA, weight_decay=WEIGHT_DECAY, nesterov=True)"
   ]
  },
  {
   "cell_type": "code",
   "execution_count": null,
   "metadata": {},
   "outputs": [],
   "source": [
    "from querying_fcts import (\n",
    "    information_density,\n",
    "    least_confidence\n",
    ")"
   ]
  },
  {
   "cell_type": "code",
   "execution_count": 11,
   "metadata": {},
   "outputs": [
    {
     "name": "stdout",
     "output_type": "stream",
     "text": [
      "Test Accuracy: 26.61%\n"
     ]
    },
    {
     "data": {
      "application/vnd.jupyter.widget-view+json": {
       "model_id": "d5d384bf15674ab8ba1ed7747ed2ce63",
       "version_major": 2,
       "version_minor": 0
      },
      "text/plain": [
       "Epoch   312:   0%|          | 0/8 [00:00<?, ?batch/s]"
      ]
     },
     "metadata": {},
     "output_type": "display_data"
    }
   ],
   "source": [
    "fixmatch_train_AL(\n",
    "    model=model,\n",
    "    labeled_dataloader=labeled_dataloader,\n",
    "    unlabeled_dataloader=unlabeled_dataloader,\n",
    "    testloader=testloader,\n",
    "    labeled_criterion=labeled_criterion,\n",
    "    unlabeled_criterion=unlabeled_criterion,\n",
    "    optimizer=optimizer,\n",
    "    query_function=least_confidence,\n",
    "    target_prop=TARGET_PROP,\n",
    "    trainset_sup=trainset_sup,\n",
    "    trainset_unsup=trainset_unsup,\n",
    "    trainset=trainset,\n",
    "    mean=mean,\n",
    "    std=std,\n",
    "    lambda_u=LAMBDA_U,\n",
    "    tau=TAU,\n",
    "    mu=MU,\n",
    "    batch_size=BATCH_SIZE,\n",
    "    name='01'\n",
    ")"
   ]
  },
  {
   "cell_type": "code",
   "execution_count": null,
   "metadata": {},
   "outputs": [],
   "source": []
  }
 ],
 "metadata": {
  "kernelspec": {
   "display_name": "Python 3 (ipykernel)",
   "language": "python",
   "name": "python3"
  },
  "language_info": {
   "codemirror_mode": {
    "name": "ipython",
    "version": 3
   },
   "file_extension": ".py",
   "mimetype": "text/x-python",
   "name": "python",
   "nbconvert_exporter": "python",
   "pygments_lexer": "ipython3",
   "version": "3.10.6"
  },
  "orig_nbformat": 4
 },
 "nbformat": 4,
 "nbformat_minor": 2
}
