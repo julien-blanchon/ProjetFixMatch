{
 "cells": [
  {
   "attachments": {},
   "cell_type": "markdown",
   "metadata": {},
   "source": [
    "# Projet Fixmatch"
   ]
  },
  {
   "cell_type": "code",
   "execution_count": null,
   "metadata": {},
   "outputs": [],
   "source": [
    "# !pip install torchview torchsummary torchvision kornia torchmetrics matplotlib tqdm path graphviz opencv-python scikit-learn optuna"
   ]
  },
  {
   "cell_type": "code",
   "execution_count": 1,
   "metadata": {},
   "outputs": [],
   "source": [
    "# deep learning\n",
    "import torch\n",
    "import torch.nn as nn\n",
    "from torch.distributions.transforms import LowerCholeskyTransform\n",
    "from torch.distributions.multivariate_normal import MultivariateNormal\n",
    "from torch.utils.data import DataLoader, Dataset\n",
    "\n",
    "# vizualisation\n",
    "import torchsummary\n",
    "\n",
    "# transforms\n",
    "import torchvision.transforms as T\n",
    "import kornia.augmentation as K\n",
    "from kornia.enhance import normalize\n",
    "# from torchvision.transforms import RandAugment\n",
    "\n",
    "# metrics\n",
    "from torchmetrics import Accuracy\n",
    "\n",
    "# torchvision\n",
    "import torchvision\n",
    "from torchvision import transforms\n",
    "\n",
    "# plotting\n",
    "import matplotlib.pyplot as plt\n",
    "from torchview import draw_graph\n",
    "\n",
    "from IPython.display import display\n",
    "from IPython.core.display import SVG, HTML\n",
    "\n",
    "from tqdm.auto import tqdm\n",
    "\n",
    "# typing\n",
    "from typing import Callable\n",
    "\n",
    "from utils import plot_images, plot_transform\n",
    "from model import ConvNN, display_model\n",
    "\n",
    "# os\n",
    "import os\n",
    "import path\n",
    "\n",
    "import random\n",
    "import numpy as np \n",
    "\n",
    "# transformations\n",
    "# import transform as T\n",
    "# from randaugment import RandomAugment\n",
    "\n",
    "# typing\n",
    "from typing import Callable, List, Tuple\n",
    "\n",
    "from sklearn.metrics import confusion_matrix, ConfusionMatrixDisplay\n",
    "from sklearn.metrics.pairwise import cosine_similarity\n",
    "\n",
    "from randaugment import RandAugmentMC\n",
    "\n",
    "%load_ext autoreload\n",
    "%autoreload 2"
   ]
  },
  {
   "cell_type": "code",
   "execution_count": 2,
   "metadata": {},
   "outputs": [],
   "source": [
    "DEFAULT_RANDOM_SEED = 2021\n",
    "\n",
    "def seedBasic(seed=DEFAULT_RANDOM_SEED):\n",
    "    random.seed(seed)\n",
    "    os.environ['PYTHONHASHSEED'] = str(seed)\n",
    "    np.random.seed(seed)\n",
    "    \n",
    "# torch random seed\n",
    "import torch\n",
    "def seedTorch(seed=DEFAULT_RANDOM_SEED):\n",
    "    torch.manual_seed(seed)\n",
    "    torch.cuda.manual_seed(seed)\n",
    "    torch.backends.cudnn.deterministic = True\n",
    "    torch.backends.cudnn.benchmark = False\n",
    "      \n",
    "# basic + tensorflow + torch \n",
    "def seedEverything(seed=DEFAULT_RANDOM_SEED):\n",
    "    seedBasic(seed)\n",
    "    seedTorch(seed)"
   ]
  },
  {
   "cell_type": "code",
   "execution_count": 3,
   "metadata": {},
   "outputs": [
    {
     "name": "stdout",
     "output_type": "stream",
     "text": [
      "cuda\n"
     ]
    }
   ],
   "source": [
    "# Set device\n",
    "if ((int(torch.__version__.split(\".\")[0]) >= 2) or (int(torch.__version__.split(\".\")[1]) >= 13)) and torch.has_mps:\n",
    "    device = torch.device(\"mps\")\n",
    "elif torch.cuda.is_available():\n",
    "    device = torch.device(\"cuda\")\n",
    "else:\n",
    "    device = torch.device(\"cpu\")\n",
    "\n",
    "print(device)"
   ]
  },
  {
   "cell_type": "code",
   "execution_count": 4,
   "metadata": {},
   "outputs": [],
   "source": [
    "IMG_SHAPE = (3, 32, 32)\n",
    "# See Table 4\n",
    "TAU = 0.95 #! 0.95 in the paper\n",
    "LAMBDA_U = 1 # 1\n",
    "MU = 7\n",
    "BATCH_SIZE = 64\n",
    "LR = 0.03\n",
    "BETA = 0.9\n",
    "WEIGHT_DECAY = 0.02 # mixmatch AL paper\n",
    "# WEIGHT_DECAY = 0.0005 # default paper\n",
    "BETA_DENSITY = 1"
   ]
  },
  {
   "cell_type": "code",
   "execution_count": 5,
   "metadata": {},
   "outputs": [],
   "source": [
    "class ConvNN(nn.Module):\n",
    "    \"\"\"\n",
    "    Simple CNN for CIFAR10\n",
    "    \"\"\"\n",
    "    \n",
    "    def __init__(self):\n",
    "        super().__init__()\n",
    "        self.conv_32 = nn.Conv2d(3, 32, kernel_size=3, padding='same')\n",
    "        self.conv_64 = nn.Conv2d(32, 64, kernel_size=3, padding='same')\n",
    "        self.conv_96 = nn.Conv2d(64, 96, kernel_size=3, padding='same')\n",
    "        self.conv_128 = nn.Conv2d(96, 128, kernel_size=3, padding='same')\n",
    "        self.fc_512 = nn.Linear(512, 512)\n",
    "        self.fc_10 = nn.Linear(512, 10)\n",
    "        self.max_pool = nn.MaxPool2d(2)\n",
    "        self.relu = nn.ReLU(inplace=True)\n",
    "        self.flatten = nn.Flatten()\n",
    "        # self.softmax = nn.Softmax(dim=1)\n",
    "\n",
    "    def forward(self, x: torch.Tensor) -> torch.Tensor:\n",
    "        x = self.conv_32(x)\n",
    "        x = self.relu(x)\n",
    "        x = self.max_pool(x)\n",
    "\n",
    "        x = self.conv_64(x)\n",
    "        x = self.relu(x)\n",
    "        x = self.max_pool(x)\n",
    "\n",
    "        x = self.conv_96(x)\n",
    "        x = self.relu(x)\n",
    "        x = self.max_pool(x)\n",
    "\n",
    "        x = self.conv_128(x)\n",
    "        x = self.relu(x)\n",
    "        x = self.max_pool(x)\n",
    "\n",
    "        x = self.flatten(x)\n",
    "        x = self.fc_512(x)\n",
    "        x = self.relu(x)\n",
    "        x = self.fc_10(x)\n",
    "        # x = self.softmax(x)\n",
    "\n",
    "        return x"
   ]
  },
  {
   "cell_type": "code",
   "execution_count": 6,
   "metadata": {},
   "outputs": [
    {
     "name": "stdout",
     "output_type": "stream",
     "text": [
      "Files already downloaded and verified\n",
      "mean: [0.49135667 0.48212072 0.4465159 ], std: [0.24632095 0.24274482 0.26062676]\n",
      "Files already downloaded and verified\n"
     ]
    }
   ],
   "source": [
    "def compute_mean_std(trainLoader) -> Tuple[List[float], List[float]]:\n",
    "    # initialize the list of means and stds\n",
    "    mean, std = torch.zeros(3), torch.zeros(3)\n",
    "\n",
    "    # iterate over the dataset and compute the sum of each channel\n",
    "    for images, _ in trainLoader:\n",
    "        mean+= torch.mean(images, dim=[0,2,3])\n",
    "        std+= torch.std(images, dim=[0,2,3])\n",
    "    \n",
    "    # compute the mean and std\n",
    "    mean = mean/len(trainLoader)\n",
    "    std = std/len(trainLoader)\n",
    "\n",
    "    return mean, std\n",
    "\n",
    "# Load CIFAR-10 dataset\n",
    "transform = transforms.Compose([\n",
    "    transforms.ToTensor(),\n",
    "])\n",
    "\n",
    "trainset = torchvision.datasets.CIFAR10(\n",
    "    root='./data', train=True, download=True, transform=transform)\n",
    "\n",
    "trainloader = torch.utils.data.DataLoader(\n",
    "    trainset, batch_size=BATCH_SIZE, shuffle=True, num_workers=0)\n",
    "\n",
    "if not os.path.exists('./data/mean.pt'):\n",
    "    mean, std = compute_mean_std(trainloader)\n",
    "    torch.save(mean, 'data/mean.pt')\n",
    "    torch.save(std, 'data/std.pt')\n",
    "else:\n",
    "    mean, std = torch.load('./data/mean.pt'), torch.load('./data/std.pt')\n",
    "\n",
    "# to numpy\n",
    "mean, std = mean.numpy(), std.numpy()\n",
    "\n",
    "print(f\"mean: {mean}, std: {std}\")\n",
    "\n",
    "\n",
    "testset = torchvision.datasets.CIFAR10(\n",
    "    root='./data', train=False, download=True, transform=transform)\n",
    "\n",
    "testloader = torch.utils.data.DataLoader(\n",
    "    testset, batch_size=BATCH_SIZE, shuffle=False, num_workers=0)\n",
    "\n",
    "classes = ('plane', 'car', 'bird', 'cat',\n",
    "           'deer', 'dog', 'frog', 'horse', 'ship', 'truck')"
   ]
  },
  {
   "cell_type": "code",
   "execution_count": 7,
   "metadata": {},
   "outputs": [],
   "source": [
    "torch_models = 'torch_models' \n",
    "if not os.path.exists(torch_models):\n",
    "    os.makedirs(torch_models)"
   ]
  },
  {
   "attachments": {},
   "cell_type": "markdown",
   "metadata": {},
   "source": [
    "## IV. Semi-Supervised Learning: Fixmatch with Active Learning"
   ]
  },
  {
   "attachments": {},
   "cell_type": "markdown",
   "metadata": {},
   "source": [
    "### IV.1 Fixmatch on 10% train data with Active Learning"
   ]
  },
  {
   "cell_type": "code",
   "execution_count": 8,
   "metadata": {},
   "outputs": [
    {
     "name": "stderr",
     "output_type": "stream",
     "text": [
      "/usr/local/lib/python3.10/dist-packages/torch/utils/data/dataset.py:348: UserWarning: Length of split at index 1 is 0. This might result in an empty dataset.\n",
      "  warnings.warn(f\"Length of split at index {i} is 0. \"\n"
     ]
    }
   ],
   "source": [
    "# Define your dataset and dataloaders for labeled and unlabeled data\n",
    "seedEverything()\n",
    "\n",
    "TARGET_PROP = 0.10\n",
    "SUBSET_PROP = 0.005\n",
    "K_SAMPLES = 50\n",
    "\n",
    "# 10% labeled data and 100% unlabeled (see note 2 in paper)\n",
    "trainset_sup, _ = torch.utils.data.random_split(trainset, [SUBSET_PROP, 1-SUBSET_PROP])\n",
    "\n",
    "trainset_unsup, _ = torch.utils.data.random_split(trainset, [1, 0])\n",
    "\n",
    "labeled_dataloader = DataLoader(\n",
    "    trainset_sup,\n",
    "    batch_size=BATCH_SIZE,\n",
    "    shuffle=True,\n",
    "    num_workers=0\n",
    ")\n",
    "\n",
    "unlabeled_dataloader = DataLoader(\n",
    "    trainset_unsup,\n",
    "    batch_size=MU*BATCH_SIZE,\n",
    "    shuffle=False,\n",
    "    num_workers=0\n",
    ")"
   ]
  },
  {
   "cell_type": "code",
   "execution_count": 9,
   "metadata": {},
   "outputs": [],
   "source": [
    "# transformations\n",
    "weak_transform = transforms.Compose([\n",
    "    transforms.RandomHorizontalFlip(p=0.5),\n",
    "    transforms.RandomAffine(degrees=0, translate=(0.125, 0.125)),\n",
    "    transforms.Normalize(mean, std),\n",
    "])\n",
    "\n",
    "strong_transform = transforms.Compose([\n",
    "    RandAugmentMC(n=2, m=10),\n",
    "    transforms.Normalize(mean, std)\n",
    "])"
   ]
  },
  {
   "cell_type": "code",
   "execution_count": 10,
   "metadata": {},
   "outputs": [],
   "source": [
    "def mask(model, weak_unlabeled_data):\n",
    "    with torch.no_grad():\n",
    "        model.train()\n",
    "\n",
    "        qb = model(weak_unlabeled_data)\n",
    "\n",
    "        # qb = logits.copy()\n",
    "        qb = torch.softmax(qb, dim=1)\n",
    "\n",
    "        max_qb, qb_hat_max = torch.max(qb, dim=1)\n",
    "        \n",
    "\n",
    "        idx_max = max_qb > TAU\n",
    "        qb_hat_max = qb_hat_max[idx_max]\n",
    "        \n",
    "    return qb_hat_max.detach(), idx_max, max_qb.detach()"
   ]
  },
  {
   "cell_type": "code",
   "execution_count": 11,
   "metadata": {},
   "outputs": [],
   "source": [
    "model = ConvNN().to(device)\n",
    "\n",
    "EPOCHS = 5_000\n",
    "\n",
    "# criterion and optimizer\n",
    "labeled_criterion = nn.CrossEntropyLoss(reduction='none')\n",
    "unlabeled_criterion = nn.CrossEntropyLoss(reduction='none')\n",
    "true_unlabeled_criterion = nn.CrossEntropyLoss(reduction='none')\n",
    "optimizer = torch.optim.SGD(model.parameters(), lr=LR, momentum=BETA, weight_decay=WEIGHT_DECAY, nesterov=True)\n",
    "scheduler = torch.optim.lr_scheduler.CosineAnnealingLR(optimizer, T_max=EPOCHS, eta_min=0, last_epoch=-1)"
   ]
  },
  {
   "cell_type": "code",
   "execution_count": 12,
   "metadata": {},
   "outputs": [],
   "source": [
    "def information_density(\n",
    "    model: ConvNN,\n",
    "    unlabeled_dataloader: DataLoader,\n",
    "    k_samp: int,\n",
    "    K_transform: int = 5) -> torch.Tensor:\n",
    "\n",
    "    model.eval()\n",
    "\n",
    "    with torch.no_grad():\n",
    "        for i, (inputs, _) in enumerate(unlabeled_dataloader):\n",
    "            inputs = inputs.to(device)\n",
    "\n",
    "            logits_mean = torch.zeros((len(inputs), 10)).to(device)\n",
    "\n",
    "            for k in range(K_transform):\n",
    "                # compute weak transform of inputs\n",
    "                weak_transformed_inputs = weak_transform(inputs)\n",
    "\n",
    "                # compute predictions of weak transformed inputs\n",
    "                logits = model(weak_transformed_inputs)\n",
    "\n",
    "                logits_mean += logits\n",
    "            \n",
    "            logits_mean /= K_transform\n",
    "\n",
    "            qb = torch.softmax(logits_mean, dim=1).to(device)\n",
    "        \n",
    "        # get top 2 values of qb along dim=1\n",
    "        qb1, qb2 = torch.topk(qb, k=2, dim=1, sorted=True)[0][:, 0], torch.topk(qb, k=2, dim=1, sorted=True)[0][:, 1]\n",
    "\n",
    "        uncertainty = 1 - (qb1 - qb2)\n",
    "\n",
    "        # get top k_samp indices\n",
    "        uncert, idx = torch.topk(uncertainty, k=k_samp, dim=0, sorted=True)\n",
    "\n",
    "        return idx, torch.mean(uncert).item()"
   ]
  },
  {
   "cell_type": "code",
   "execution_count": 13,
   "metadata": {},
   "outputs": [],
   "source": [
    "# indices, uncert = information_density(model, unlabeled_dataloader, k_samp=K_SAMPLES)"
   ]
  },
  {
   "cell_type": "code",
   "execution_count": 14,
   "metadata": {},
   "outputs": [],
   "source": [
    "def least_confidence(\n",
    "    model: ConvNN,\n",
    "    unlabeled_dataloader: torch.utils.data.DataLoader,\n",
    "    k_samp: int) -> torch.Tensor:\n",
    "    \n",
    "    probs = []\n",
    "\n",
    "    model.eval()\n",
    "\n",
    "    with torch.no_grad():\n",
    "        for i, (inputs, _) in enumerate(unlabeled_dataloader):\n",
    "            inputs = inputs.to(device)\n",
    "\n",
    "            # inputs transforms\n",
    "            weak_transformed_inputs = weak_transform(inputs)\n",
    "\n",
    "            logits = model(weak_transformed_inputs)\n",
    "            qb = torch.softmax(logits, dim=1)\n",
    "            probs.append(qb.cpu().data)\n",
    "    \n",
    "    # transform to tensor\n",
    "    probs_tensor = torch.cat(probs, dim=0)\n",
    "\n",
    "    U = probs_tensor.max(1)[0]\n",
    "\n",
    "    selected_indices = U.sort()[1][:k_samp]\n",
    "\n",
    "    return selected_indices, torch.mean(torch.sort(U, descending=False)[0][:k_samp]).item()\n",
    "\n",
    "\n",
    "# Create a new labeled dataset using active learning\n",
    "def create_labeled_dataset_active_learning(dataset, selected_indices):\n",
    "    dataset = torch.utils.data.Subset(dataset, selected_indices)\n",
    "    return dataset"
   ]
  },
  {
   "cell_type": "code",
   "execution_count": 15,
   "metadata": {},
   "outputs": [
    {
     "name": "stdout",
     "output_type": "stream",
     "text": [
      "Start training\n"
     ]
    },
    {
     "data": {
      "application/vnd.jupyter.widget-view+json": {
       "model_id": "a2d3878ad71d48a48d020e53d6fcf8b8",
       "version_major": 2,
       "version_minor": 0
      },
      "text/plain": [
       "Epoch     0:   0%|          | 0/4 [00:00<?, ?batch/s]"
      ]
     },
     "metadata": {},
     "output_type": "display_data"
    },
    {
     "name": "stdout",
     "output_type": "stream",
     "text": [
      "Test Accuracy: 10.04%\n"
     ]
    },
    {
     "data": {
      "application/vnd.jupyter.widget-view+json": {
       "model_id": "86d7b660cd5e4e1e893d317a3806bdf5",
       "version_major": 2,
       "version_minor": 0
      },
      "text/plain": [
       "Epoch     1:   0%|          | 0/4 [00:00<?, ?batch/s]"
      ]
     },
     "metadata": {},
     "output_type": "display_data"
    },
    {
     "name": "stdout",
     "output_type": "stream",
     "text": [
      "Test Accuracy: 10.0%\n"
     ]
    },
    {
     "data": {
      "application/vnd.jupyter.widget-view+json": {
       "model_id": "540c419ec6c84b12b0ee396b2c4f68fd",
       "version_major": 2,
       "version_minor": 0
      },
      "text/plain": [
       "Epoch     2:   0%|          | 0/4 [00:00<?, ?batch/s]"
      ]
     },
     "metadata": {},
     "output_type": "display_data"
    },
    {
     "name": "stdout",
     "output_type": "stream",
     "text": [
      "Test Accuracy: 10.0%\n"
     ]
    },
    {
     "data": {
      "application/vnd.jupyter.widget-view+json": {
       "model_id": "512352a471f54894aea0890e78c7c272",
       "version_major": 2,
       "version_minor": 0
      },
      "text/plain": [
       "Epoch     3:   0%|          | 0/4 [00:00<?, ?batch/s]"
      ]
     },
     "metadata": {},
     "output_type": "display_data"
    },
    {
     "name": "stdout",
     "output_type": "stream",
     "text": [
      "Test Accuracy: 10.0%\n"
     ]
    },
    {
     "data": {
      "application/vnd.jupyter.widget-view+json": {
       "model_id": "9a6587ea66464bbabe35ea7c95a7a9cf",
       "version_major": 2,
       "version_minor": 0
      },
      "text/plain": [
       "Epoch     4:   0%|          | 0/4 [00:00<?, ?batch/s]"
      ]
     },
     "metadata": {},
     "output_type": "display_data"
    },
    {
     "name": "stdout",
     "output_type": "stream",
     "text": [
      "Test Accuracy: 10.0%\n"
     ]
    },
    {
     "data": {
      "application/vnd.jupyter.widget-view+json": {
       "model_id": "ad8c959cb85e4d37929c873bbbb0dba3",
       "version_major": 2,
       "version_minor": 0
      },
      "text/plain": [
       "Epoch     5:   0%|          | 0/4 [00:00<?, ?batch/s]"
      ]
     },
     "metadata": {},
     "output_type": "display_data"
    },
    {
     "name": "stdout",
     "output_type": "stream",
     "text": [
      "Test Accuracy: 10.0%\n"
     ]
    },
    {
     "data": {
      "application/vnd.jupyter.widget-view+json": {
       "model_id": "165044e4ba754e838c01b1959d530f4f",
       "version_major": 2,
       "version_minor": 0
      },
      "text/plain": [
       "Epoch     6:   0%|          | 0/4 [00:00<?, ?batch/s]"
      ]
     },
     "metadata": {},
     "output_type": "display_data"
    },
    {
     "name": "stdout",
     "output_type": "stream",
     "text": [
      "Test Accuracy: 10.0%\n"
     ]
    },
    {
     "data": {
      "application/vnd.jupyter.widget-view+json": {
       "model_id": "ac5337e278cb4e7db13564be9643c2af",
       "version_major": 2,
       "version_minor": 0
      },
      "text/plain": [
       "Epoch     7:   0%|          | 0/4 [00:00<?, ?batch/s]"
      ]
     },
     "metadata": {},
     "output_type": "display_data"
    },
    {
     "name": "stdout",
     "output_type": "stream",
     "text": [
      "Test Accuracy: 10.0%\n"
     ]
    },
    {
     "data": {
      "application/vnd.jupyter.widget-view+json": {
       "model_id": "38e2fd07e553439d9f831564db75afa2",
       "version_major": 2,
       "version_minor": 0
      },
      "text/plain": [
       "Epoch     8:   0%|          | 0/4 [00:00<?, ?batch/s]"
      ]
     },
     "metadata": {},
     "output_type": "display_data"
    },
    {
     "name": "stdout",
     "output_type": "stream",
     "text": [
      "Test Accuracy: 10.0%\n"
     ]
    },
    {
     "data": {
      "application/vnd.jupyter.widget-view+json": {
       "model_id": "1bf366906a4948f4b82ee21cb19f6168",
       "version_major": 2,
       "version_minor": 0
      },
      "text/plain": [
       "Epoch     9:   0%|          | 0/4 [00:00<?, ?batch/s]"
      ]
     },
     "metadata": {},
     "output_type": "display_data"
    },
    {
     "name": "stdout",
     "output_type": "stream",
     "text": [
      "Test Accuracy: 10.0%\n"
     ]
    },
    {
     "data": {
      "application/vnd.jupyter.widget-view+json": {
       "model_id": "9ebfb122ac374b12a77e83de98046e88",
       "version_major": 2,
       "version_minor": 0
      },
      "text/plain": [
       "Epoch    10:   0%|          | 0/4 [00:00<?, ?batch/s]"
      ]
     },
     "metadata": {},
     "output_type": "display_data"
    },
    {
     "name": "stdout",
     "output_type": "stream",
     "text": [
      "Test Accuracy: 12.21%\n"
     ]
    },
    {
     "data": {
      "application/vnd.jupyter.widget-view+json": {
       "model_id": "1c1121f6face4685816dd6e8fc0ad159",
       "version_major": 2,
       "version_minor": 0
      },
      "text/plain": [
       "Epoch    11:   0%|          | 0/4 [00:00<?, ?batch/s]"
      ]
     },
     "metadata": {},
     "output_type": "display_data"
    },
    {
     "name": "stdout",
     "output_type": "stream",
     "text": [
      "Test Accuracy: 16.34%\n"
     ]
    },
    {
     "data": {
      "application/vnd.jupyter.widget-view+json": {
       "model_id": "c834544288ed49a3ba18339209b6c669",
       "version_major": 2,
       "version_minor": 0
      },
      "text/plain": [
       "Epoch    12:   0%|          | 0/4 [00:00<?, ?batch/s]"
      ]
     },
     "metadata": {},
     "output_type": "display_data"
    },
    {
     "name": "stdout",
     "output_type": "stream",
     "text": [
      "Test Accuracy: 18.23%\n"
     ]
    },
    {
     "data": {
      "application/vnd.jupyter.widget-view+json": {
       "model_id": "284ca18a8f5149c19f7c64cb3d5624f0",
       "version_major": 2,
       "version_minor": 0
      },
      "text/plain": [
       "Epoch    13:   0%|          | 0/4 [00:00<?, ?batch/s]"
      ]
     },
     "metadata": {},
     "output_type": "display_data"
    },
    {
     "name": "stdout",
     "output_type": "stream",
     "text": [
      "Test Accuracy: 19.5%\n"
     ]
    },
    {
     "data": {
      "application/vnd.jupyter.widget-view+json": {
       "model_id": "1007361654204134bf07910467bf23db",
       "version_major": 2,
       "version_minor": 0
      },
      "text/plain": [
       "Epoch    14:   0%|          | 0/4 [00:00<?, ?batch/s]"
      ]
     },
     "metadata": {},
     "output_type": "display_data"
    },
    {
     "name": "stdout",
     "output_type": "stream",
     "text": [
      "Test Accuracy: 18.99%\n"
     ]
    },
    {
     "data": {
      "application/vnd.jupyter.widget-view+json": {
       "model_id": "78791e210c904ec4bc40eb1b94f0cedf",
       "version_major": 2,
       "version_minor": 0
      },
      "text/plain": [
       "Epoch    15:   0%|          | 0/4 [00:00<?, ?batch/s]"
      ]
     },
     "metadata": {},
     "output_type": "display_data"
    },
    {
     "name": "stdout",
     "output_type": "stream",
     "text": [
      "Test Accuracy: 20.91%\n"
     ]
    },
    {
     "data": {
      "application/vnd.jupyter.widget-view+json": {
       "model_id": "b005da5d8d1b4c34b87aa37bbdddcb57",
       "version_major": 2,
       "version_minor": 0
      },
      "text/plain": [
       "Epoch    16:   0%|          | 0/4 [00:00<?, ?batch/s]"
      ]
     },
     "metadata": {},
     "output_type": "display_data"
    },
    {
     "name": "stdout",
     "output_type": "stream",
     "text": [
      "Test Accuracy: 19.24%\n"
     ]
    },
    {
     "data": {
      "application/vnd.jupyter.widget-view+json": {
       "model_id": "d0601be93a8f4367a9f84ba9f1c6af25",
       "version_major": 2,
       "version_minor": 0
      },
      "text/plain": [
       "Epoch    17:   0%|          | 0/4 [00:00<?, ?batch/s]"
      ]
     },
     "metadata": {},
     "output_type": "display_data"
    },
    {
     "name": "stdout",
     "output_type": "stream",
     "text": [
      "Test Accuracy: 20.6%\n"
     ]
    },
    {
     "data": {
      "application/vnd.jupyter.widget-view+json": {
       "model_id": "4f879c701d774638b143cb282ee3c3e2",
       "version_major": 2,
       "version_minor": 0
      },
      "text/plain": [
       "Epoch    18:   0%|          | 0/4 [00:00<?, ?batch/s]"
      ]
     },
     "metadata": {},
     "output_type": "display_data"
    },
    {
     "name": "stdout",
     "output_type": "stream",
     "text": [
      "Test Accuracy: 21.79%\n"
     ]
    },
    {
     "data": {
      "application/vnd.jupyter.widget-view+json": {
       "model_id": "c2d0eaad1db04fe2bbad8aae76e9d0dd",
       "version_major": 2,
       "version_minor": 0
      },
      "text/plain": [
       "Epoch    19:   0%|          | 0/4 [00:00<?, ?batch/s]"
      ]
     },
     "metadata": {},
     "output_type": "display_data"
    },
    {
     "name": "stdout",
     "output_type": "stream",
     "text": [
      "Test Accuracy: 21.47%\n"
     ]
    },
    {
     "data": {
      "application/vnd.jupyter.widget-view+json": {
       "model_id": "d452e3040ed54739833d757417875cfd",
       "version_major": 2,
       "version_minor": 0
      },
      "text/plain": [
       "Epoch    20:   0%|          | 0/4 [00:00<?, ?batch/s]"
      ]
     },
     "metadata": {},
     "output_type": "display_data"
    },
    {
     "name": "stdout",
     "output_type": "stream",
     "text": [
      "Test Accuracy: 21.57%\n"
     ]
    },
    {
     "data": {
      "application/vnd.jupyter.widget-view+json": {
       "model_id": "3cdf144aa85e4ca291b76629e07b3dd9",
       "version_major": 2,
       "version_minor": 0
      },
      "text/plain": [
       "Epoch    21:   0%|          | 0/4 [00:00<?, ?batch/s]"
      ]
     },
     "metadata": {},
     "output_type": "display_data"
    },
    {
     "name": "stdout",
     "output_type": "stream",
     "text": [
      "Test Accuracy: 21.51%\n"
     ]
    },
    {
     "data": {
      "application/vnd.jupyter.widget-view+json": {
       "model_id": "a3602c0013ee459486626120f8133562",
       "version_major": 2,
       "version_minor": 0
      },
      "text/plain": [
       "Epoch    22:   0%|          | 0/4 [00:00<?, ?batch/s]"
      ]
     },
     "metadata": {},
     "output_type": "display_data"
    },
    {
     "name": "stdout",
     "output_type": "stream",
     "text": [
      "Test Accuracy: 21.0%\n"
     ]
    },
    {
     "data": {
      "application/vnd.jupyter.widget-view+json": {
       "model_id": "a429fb435e39420087a4be844774f01f",
       "version_major": 2,
       "version_minor": 0
      },
      "text/plain": [
       "Epoch    23:   0%|          | 0/4 [00:00<?, ?batch/s]"
      ]
     },
     "metadata": {},
     "output_type": "display_data"
    },
    {
     "name": "stdout",
     "output_type": "stream",
     "text": [
      "Test Accuracy: 22.52%\n"
     ]
    },
    {
     "data": {
      "application/vnd.jupyter.widget-view+json": {
       "model_id": "178cac8045684341947e525d2e5af38a",
       "version_major": 2,
       "version_minor": 0
      },
      "text/plain": [
       "Epoch    24:   0%|          | 0/4 [00:00<?, ?batch/s]"
      ]
     },
     "metadata": {},
     "output_type": "display_data"
    },
    {
     "name": "stdout",
     "output_type": "stream",
     "text": [
      "Test Accuracy: 23.73%\n"
     ]
    },
    {
     "data": {
      "application/vnd.jupyter.widget-view+json": {
       "model_id": "475b8a7d97124c79a8e4d875cb7d299d",
       "version_major": 2,
       "version_minor": 0
      },
      "text/plain": [
       "Epoch    25:   0%|          | 0/4 [00:00<?, ?batch/s]"
      ]
     },
     "metadata": {},
     "output_type": "display_data"
    },
    {
     "name": "stdout",
     "output_type": "stream",
     "text": [
      "Test Accuracy: 23.93%\n"
     ]
    },
    {
     "data": {
      "application/vnd.jupyter.widget-view+json": {
       "model_id": "ae264e9ce2cd4aa2b0aa324cd888e1b5",
       "version_major": 2,
       "version_minor": 0
      },
      "text/plain": [
       "Epoch    26:   0%|          | 0/4 [00:00<?, ?batch/s]"
      ]
     },
     "metadata": {},
     "output_type": "display_data"
    },
    {
     "name": "stdout",
     "output_type": "stream",
     "text": [
      "Test Accuracy: 23.58%\n"
     ]
    },
    {
     "data": {
      "application/vnd.jupyter.widget-view+json": {
       "model_id": "e91cfd56ad0e4772a980612ba5eba532",
       "version_major": 2,
       "version_minor": 0
      },
      "text/plain": [
       "Epoch    27:   0%|          | 0/4 [00:00<?, ?batch/s]"
      ]
     },
     "metadata": {},
     "output_type": "display_data"
    },
    {
     "name": "stdout",
     "output_type": "stream",
     "text": [
      "Test Accuracy: 24.02%\n"
     ]
    },
    {
     "data": {
      "application/vnd.jupyter.widget-view+json": {
       "model_id": "ec978be9b3b64fb3ada85f8747e893cd",
       "version_major": 2,
       "version_minor": 0
      },
      "text/plain": [
       "Epoch    28:   0%|          | 0/4 [00:00<?, ?batch/s]"
      ]
     },
     "metadata": {},
     "output_type": "display_data"
    },
    {
     "name": "stdout",
     "output_type": "stream",
     "text": [
      "Test Accuracy: 24.81%\n"
     ]
    },
    {
     "data": {
      "application/vnd.jupyter.widget-view+json": {
       "model_id": "4f1b4e9e3b484bfea32ee9c71004c48d",
       "version_major": 2,
       "version_minor": 0
      },
      "text/plain": [
       "Epoch    29:   0%|          | 0/4 [00:00<?, ?batch/s]"
      ]
     },
     "metadata": {},
     "output_type": "display_data"
    },
    {
     "name": "stdout",
     "output_type": "stream",
     "text": [
      "Test Accuracy: 23.09%\n"
     ]
    },
    {
     "data": {
      "application/vnd.jupyter.widget-view+json": {
       "model_id": "6a5a366e017e4af6b39112bc033d4227",
       "version_major": 2,
       "version_minor": 0
      },
      "text/plain": [
       "Epoch    30:   0%|          | 0/4 [00:00<?, ?batch/s]"
      ]
     },
     "metadata": {},
     "output_type": "display_data"
    },
    {
     "name": "stdout",
     "output_type": "stream",
     "text": [
      "Test Accuracy: 24.2%\n"
     ]
    },
    {
     "data": {
      "application/vnd.jupyter.widget-view+json": {
       "model_id": "3637ea2f40ec459897f7b68cfe80fa45",
       "version_major": 2,
       "version_minor": 0
      },
      "text/plain": [
       "Epoch    31:   0%|          | 0/4 [00:00<?, ?batch/s]"
      ]
     },
     "metadata": {},
     "output_type": "display_data"
    },
    {
     "name": "stdout",
     "output_type": "stream",
     "text": [
      "Test Accuracy: 25.01%\n"
     ]
    },
    {
     "data": {
      "application/vnd.jupyter.widget-view+json": {
       "model_id": "279a8b4f06694ec79da19991b3bd9734",
       "version_major": 2,
       "version_minor": 0
      },
      "text/plain": [
       "Epoch    32:   0%|          | 0/4 [00:00<?, ?batch/s]"
      ]
     },
     "metadata": {},
     "output_type": "display_data"
    },
    {
     "name": "stdout",
     "output_type": "stream",
     "text": [
      "Test Accuracy: 23.76%\n"
     ]
    },
    {
     "data": {
      "application/vnd.jupyter.widget-view+json": {
       "model_id": "cd7fa920c8fa46fcbd8877ba6691f28c",
       "version_major": 2,
       "version_minor": 0
      },
      "text/plain": [
       "Epoch    33:   0%|          | 0/4 [00:00<?, ?batch/s]"
      ]
     },
     "metadata": {},
     "output_type": "display_data"
    },
    {
     "name": "stdout",
     "output_type": "stream",
     "text": [
      "Test Accuracy: 25.16%\n"
     ]
    },
    {
     "data": {
      "application/vnd.jupyter.widget-view+json": {
       "model_id": "c76ca8a4da424766be0bc70b1fc9a2d7",
       "version_major": 2,
       "version_minor": 0
      },
      "text/plain": [
       "Epoch    34:   0%|          | 0/4 [00:00<?, ?batch/s]"
      ]
     },
     "metadata": {},
     "output_type": "display_data"
    },
    {
     "name": "stdout",
     "output_type": "stream",
     "text": [
      "Test Accuracy: 25.06%\n"
     ]
    },
    {
     "data": {
      "application/vnd.jupyter.widget-view+json": {
       "model_id": "fe3a47f5363b4d21b8b93e75a8f7fd13",
       "version_major": 2,
       "version_minor": 0
      },
      "text/plain": [
       "Epoch    35:   0%|          | 0/4 [00:00<?, ?batch/s]"
      ]
     },
     "metadata": {},
     "output_type": "display_data"
    },
    {
     "name": "stdout",
     "output_type": "stream",
     "text": [
      "Test Accuracy: 23.97%\n"
     ]
    },
    {
     "data": {
      "application/vnd.jupyter.widget-view+json": {
       "model_id": "223f706fb26043ffbceeb6578fe85d13",
       "version_major": 2,
       "version_minor": 0
      },
      "text/plain": [
       "Epoch    36:   0%|          | 0/4 [00:00<?, ?batch/s]"
      ]
     },
     "metadata": {},
     "output_type": "display_data"
    },
    {
     "name": "stdout",
     "output_type": "stream",
     "text": [
      "Test Accuracy: 25.22%\n"
     ]
    },
    {
     "data": {
      "application/vnd.jupyter.widget-view+json": {
       "model_id": "2e63326168924e039887d5cd31f9dcfd",
       "version_major": 2,
       "version_minor": 0
      },
      "text/plain": [
       "Epoch    37:   0%|          | 0/4 [00:00<?, ?batch/s]"
      ]
     },
     "metadata": {},
     "output_type": "display_data"
    },
    {
     "name": "stdout",
     "output_type": "stream",
     "text": [
      "Test Accuracy: 24.51%\n"
     ]
    },
    {
     "data": {
      "application/vnd.jupyter.widget-view+json": {
       "model_id": "d2766b3238834162acb2c1c02e1182b4",
       "version_major": 2,
       "version_minor": 0
      },
      "text/plain": [
       "Epoch    38:   0%|          | 0/4 [00:00<?, ?batch/s]"
      ]
     },
     "metadata": {},
     "output_type": "display_data"
    },
    {
     "name": "stdout",
     "output_type": "stream",
     "text": [
      "Test Accuracy: 26.19%\n"
     ]
    },
    {
     "data": {
      "application/vnd.jupyter.widget-view+json": {
       "model_id": "0a171305dc774cac88d62421c80cccde",
       "version_major": 2,
       "version_minor": 0
      },
      "text/plain": [
       "Epoch    39:   0%|          | 0/4 [00:00<?, ?batch/s]"
      ]
     },
     "metadata": {},
     "output_type": "display_data"
    },
    {
     "name": "stdout",
     "output_type": "stream",
     "text": [
      "Test Accuracy: 25.03%\n"
     ]
    },
    {
     "data": {
      "application/vnd.jupyter.widget-view+json": {
       "model_id": "6af2a6cbb57044428054622ee613349e",
       "version_major": 2,
       "version_minor": 0
      },
      "text/plain": [
       "Epoch    40:   0%|          | 0/4 [00:00<?, ?batch/s]"
      ]
     },
     "metadata": {},
     "output_type": "display_data"
    },
    {
     "name": "stdout",
     "output_type": "stream",
     "text": [
      "Test Accuracy: 24.85%\n"
     ]
    },
    {
     "data": {
      "application/vnd.jupyter.widget-view+json": {
       "model_id": "621ad9d762d745f5920a4db3858f90f4",
       "version_major": 2,
       "version_minor": 0
      },
      "text/plain": [
       "Epoch    41:   0%|          | 0/4 [00:00<?, ?batch/s]"
      ]
     },
     "metadata": {},
     "output_type": "display_data"
    },
    {
     "name": "stdout",
     "output_type": "stream",
     "text": [
      "Test Accuracy: 24.85%\n"
     ]
    },
    {
     "data": {
      "application/vnd.jupyter.widget-view+json": {
       "model_id": "2ffc9d836e4a45c9ac8c2d5e29555da2",
       "version_major": 2,
       "version_minor": 0
      },
      "text/plain": [
       "Epoch    42:   0%|          | 0/4 [00:00<?, ?batch/s]"
      ]
     },
     "metadata": {},
     "output_type": "display_data"
    },
    {
     "name": "stdout",
     "output_type": "stream",
     "text": [
      "Test Accuracy: 25.52%\n"
     ]
    },
    {
     "data": {
      "application/vnd.jupyter.widget-view+json": {
       "model_id": "f339aaae8c4c4b43a5286b72466297c5",
       "version_major": 2,
       "version_minor": 0
      },
      "text/plain": [
       "Epoch    43:   0%|          | 0/4 [00:00<?, ?batch/s]"
      ]
     },
     "metadata": {},
     "output_type": "display_data"
    },
    {
     "name": "stdout",
     "output_type": "stream",
     "text": [
      "Test Accuracy: 26.76%\n"
     ]
    },
    {
     "data": {
      "application/vnd.jupyter.widget-view+json": {
       "model_id": "5f9b67d337ec40ca8b9f8b70b672e64b",
       "version_major": 2,
       "version_minor": 0
      },
      "text/plain": [
       "Epoch    44:   0%|          | 0/4 [00:00<?, ?batch/s]"
      ]
     },
     "metadata": {},
     "output_type": "display_data"
    },
    {
     "name": "stdout",
     "output_type": "stream",
     "text": [
      "Test Accuracy: 26.79%\n"
     ]
    },
    {
     "data": {
      "application/vnd.jupyter.widget-view+json": {
       "model_id": "f70dd8f752dd4eceb6bef1e405f4165e",
       "version_major": 2,
       "version_minor": 0
      },
      "text/plain": [
       "Epoch    45:   0%|          | 0/4 [00:00<?, ?batch/s]"
      ]
     },
     "metadata": {},
     "output_type": "display_data"
    },
    {
     "name": "stdout",
     "output_type": "stream",
     "text": [
      "Test Accuracy: 24.94%\n"
     ]
    },
    {
     "data": {
      "application/vnd.jupyter.widget-view+json": {
       "model_id": "71e2b97ec9f64ad9979ebc4f7db20d99",
       "version_major": 2,
       "version_minor": 0
      },
      "text/plain": [
       "Epoch    46:   0%|          | 0/4 [00:00<?, ?batch/s]"
      ]
     },
     "metadata": {},
     "output_type": "display_data"
    },
    {
     "name": "stdout",
     "output_type": "stream",
     "text": [
      "Test Accuracy: 25.56%\n"
     ]
    },
    {
     "data": {
      "application/vnd.jupyter.widget-view+json": {
       "model_id": "e9e2a33631024afea9bccc041aaa08f8",
       "version_major": 2,
       "version_minor": 0
      },
      "text/plain": [
       "Epoch    47:   0%|          | 0/4 [00:00<?, ?batch/s]"
      ]
     },
     "metadata": {},
     "output_type": "display_data"
    },
    {
     "name": "stdout",
     "output_type": "stream",
     "text": [
      "Test Accuracy: 24.7%\n"
     ]
    },
    {
     "data": {
      "application/vnd.jupyter.widget-view+json": {
       "model_id": "184c3bdcc1cd4555bfa5664f865917a0",
       "version_major": 2,
       "version_minor": 0
      },
      "text/plain": [
       "Epoch    48:   0%|          | 0/4 [00:00<?, ?batch/s]"
      ]
     },
     "metadata": {},
     "output_type": "display_data"
    },
    {
     "name": "stdout",
     "output_type": "stream",
     "text": [
      "Test Accuracy: 24.74%\n"
     ]
    },
    {
     "data": {
      "application/vnd.jupyter.widget-view+json": {
       "model_id": "103c168d6f2e460babf71d9df4d5cf8c",
       "version_major": 2,
       "version_minor": 0
      },
      "text/plain": [
       "Epoch    49:   0%|          | 0/4 [00:00<?, ?batch/s]"
      ]
     },
     "metadata": {},
     "output_type": "display_data"
    },
    {
     "name": "stdout",
     "output_type": "stream",
     "text": [
      "Test Accuracy: 25.68%\n"
     ]
    },
    {
     "data": {
      "application/vnd.jupyter.widget-view+json": {
       "model_id": "cda9ea1423de4d4da955aabcf6d81c23",
       "version_major": 2,
       "version_minor": 0
      },
      "text/plain": [
       "Epoch    50:   0%|          | 0/4 [00:00<?, ?batch/s]"
      ]
     },
     "metadata": {},
     "output_type": "display_data"
    },
    {
     "name": "stdout",
     "output_type": "stream",
     "text": [
      "Test Accuracy: 27.0%\n"
     ]
    },
    {
     "data": {
      "application/vnd.jupyter.widget-view+json": {
       "model_id": "ae73948adca143c7ad231fad1966cbef",
       "version_major": 2,
       "version_minor": 0
      },
      "text/plain": [
       "Epoch    51:   0%|          | 0/4 [00:00<?, ?batch/s]"
      ]
     },
     "metadata": {},
     "output_type": "display_data"
    },
    {
     "name": "stdout",
     "output_type": "stream",
     "text": [
      "Test Accuracy: 23.13%\n"
     ]
    },
    {
     "data": {
      "application/vnd.jupyter.widget-view+json": {
       "model_id": "116e63e719424ee0819d91ce519337a0",
       "version_major": 2,
       "version_minor": 0
      },
      "text/plain": [
       "Epoch    52:   0%|          | 0/4 [00:00<?, ?batch/s]"
      ]
     },
     "metadata": {},
     "output_type": "display_data"
    },
    {
     "name": "stdout",
     "output_type": "stream",
     "text": [
      "Test Accuracy: 26.85%\n"
     ]
    },
    {
     "data": {
      "application/vnd.jupyter.widget-view+json": {
       "model_id": "a642ce1d5b8f45cf97e16518e2b2ae8a",
       "version_major": 2,
       "version_minor": 0
      },
      "text/plain": [
       "Epoch    53:   0%|          | 0/4 [00:00<?, ?batch/s]"
      ]
     },
     "metadata": {},
     "output_type": "display_data"
    },
    {
     "name": "stdout",
     "output_type": "stream",
     "text": [
      "Test Accuracy: 26.1%\n"
     ]
    },
    {
     "data": {
      "application/vnd.jupyter.widget-view+json": {
       "model_id": "87ef0d7004844ae1b4d8013813724d5b",
       "version_major": 2,
       "version_minor": 0
      },
      "text/plain": [
       "Epoch    54:   0%|          | 0/4 [00:00<?, ?batch/s]"
      ]
     },
     "metadata": {},
     "output_type": "display_data"
    },
    {
     "name": "stdout",
     "output_type": "stream",
     "text": [
      "Test Accuracy: 27.3%\n"
     ]
    },
    {
     "data": {
      "application/vnd.jupyter.widget-view+json": {
       "model_id": "d01abc017ac14966b1373931ecbfaa86",
       "version_major": 2,
       "version_minor": 0
      },
      "text/plain": [
       "Epoch    55:   0%|          | 0/4 [00:00<?, ?batch/s]"
      ]
     },
     "metadata": {},
     "output_type": "display_data"
    },
    {
     "name": "stdout",
     "output_type": "stream",
     "text": [
      "Test Accuracy: 27.64%\n"
     ]
    },
    {
     "data": {
      "application/vnd.jupyter.widget-view+json": {
       "model_id": "6b54ef8b503f4ffdbf0c94ebfeb3b854",
       "version_major": 2,
       "version_minor": 0
      },
      "text/plain": [
       "Epoch    56:   0%|          | 0/4 [00:00<?, ?batch/s]"
      ]
     },
     "metadata": {},
     "output_type": "display_data"
    },
    {
     "name": "stdout",
     "output_type": "stream",
     "text": [
      "Test Accuracy: 29.06%\n"
     ]
    },
    {
     "data": {
      "application/vnd.jupyter.widget-view+json": {
       "model_id": "aa63b0c1aa1345b8bbbd1087f511c94b",
       "version_major": 2,
       "version_minor": 0
      },
      "text/plain": [
       "Epoch    57:   0%|          | 0/4 [00:00<?, ?batch/s]"
      ]
     },
     "metadata": {},
     "output_type": "display_data"
    },
    {
     "name": "stdout",
     "output_type": "stream",
     "text": [
      "Test Accuracy: 23.64%\n"
     ]
    },
    {
     "data": {
      "application/vnd.jupyter.widget-view+json": {
       "model_id": "957053a579564625aa44884888a40f23",
       "version_major": 2,
       "version_minor": 0
      },
      "text/plain": [
       "Epoch    58:   0%|          | 0/4 [00:00<?, ?batch/s]"
      ]
     },
     "metadata": {},
     "output_type": "display_data"
    },
    {
     "name": "stdout",
     "output_type": "stream",
     "text": [
      "Test Accuracy: 25.95%\n"
     ]
    },
    {
     "data": {
      "application/vnd.jupyter.widget-view+json": {
       "model_id": "ecd6788b37564b0abb4b589eff1a40b2",
       "version_major": 2,
       "version_minor": 0
      },
      "text/plain": [
       "Epoch    59:   0%|          | 0/4 [00:00<?, ?batch/s]"
      ]
     },
     "metadata": {},
     "output_type": "display_data"
    },
    {
     "name": "stdout",
     "output_type": "stream",
     "text": [
      "Test Accuracy: 28.22%\n"
     ]
    },
    {
     "data": {
      "application/vnd.jupyter.widget-view+json": {
       "model_id": "b2511224cd4349198b7559444c141821",
       "version_major": 2,
       "version_minor": 0
      },
      "text/plain": [
       "Epoch    60:   0%|          | 0/4 [00:00<?, ?batch/s]"
      ]
     },
     "metadata": {},
     "output_type": "display_data"
    },
    {
     "name": "stdout",
     "output_type": "stream",
     "text": [
      "Test Accuracy: 28.28%\n"
     ]
    },
    {
     "data": {
      "application/vnd.jupyter.widget-view+json": {
       "model_id": "d0c6e514261442ca82cc472dda9ed889",
       "version_major": 2,
       "version_minor": 0
      },
      "text/plain": [
       "Epoch    61:   0%|          | 0/4 [00:00<?, ?batch/s]"
      ]
     },
     "metadata": {},
     "output_type": "display_data"
    },
    {
     "name": "stdout",
     "output_type": "stream",
     "text": [
      "Test Accuracy: 27.36%\n"
     ]
    },
    {
     "data": {
      "application/vnd.jupyter.widget-view+json": {
       "model_id": "8c93721a1fc742f8b79e21dc76c2209e",
       "version_major": 2,
       "version_minor": 0
      },
      "text/plain": [
       "Epoch    62:   0%|          | 0/4 [00:00<?, ?batch/s]"
      ]
     },
     "metadata": {},
     "output_type": "display_data"
    },
    {
     "name": "stdout",
     "output_type": "stream",
     "text": [
      "Test Accuracy: 26.2%\n"
     ]
    },
    {
     "data": {
      "application/vnd.jupyter.widget-view+json": {
       "model_id": "991b897fc9904a69a2a2a89bb23eff60",
       "version_major": 2,
       "version_minor": 0
      },
      "text/plain": [
       "Epoch    63:   0%|          | 0/4 [00:00<?, ?batch/s]"
      ]
     },
     "metadata": {},
     "output_type": "display_data"
    },
    {
     "name": "stdout",
     "output_type": "stream",
     "text": [
      "Test Accuracy: 27.48%\n"
     ]
    },
    {
     "data": {
      "application/vnd.jupyter.widget-view+json": {
       "model_id": "8f45741f9b214aef8ec863eb782ece5d",
       "version_major": 2,
       "version_minor": 0
      },
      "text/plain": [
       "Epoch    64:   0%|          | 0/4 [00:00<?, ?batch/s]"
      ]
     },
     "metadata": {},
     "output_type": "display_data"
    },
    {
     "name": "stdout",
     "output_type": "stream",
     "text": [
      "Test Accuracy: 27.33%\n"
     ]
    },
    {
     "data": {
      "application/vnd.jupyter.widget-view+json": {
       "model_id": "908c2a388f6c47a0aad9fe51cba85a4f",
       "version_major": 2,
       "version_minor": 0
      },
      "text/plain": [
       "Epoch    65:   0%|          | 0/4 [00:00<?, ?batch/s]"
      ]
     },
     "metadata": {},
     "output_type": "display_data"
    },
    {
     "name": "stdout",
     "output_type": "stream",
     "text": [
      "Test Accuracy: 27.22%\n"
     ]
    },
    {
     "data": {
      "application/vnd.jupyter.widget-view+json": {
       "model_id": "5260daea48a34e6fae20123f25e82f5b",
       "version_major": 2,
       "version_minor": 0
      },
      "text/plain": [
       "Epoch    66:   0%|          | 0/4 [00:00<?, ?batch/s]"
      ]
     },
     "metadata": {},
     "output_type": "display_data"
    },
    {
     "name": "stdout",
     "output_type": "stream",
     "text": [
      "Test Accuracy: 29.26%\n"
     ]
    },
    {
     "data": {
      "application/vnd.jupyter.widget-view+json": {
       "model_id": "2d4e3e5cbe2c48338a3080d0d975bc42",
       "version_major": 2,
       "version_minor": 0
      },
      "text/plain": [
       "Epoch    67:   0%|          | 0/4 [00:00<?, ?batch/s]"
      ]
     },
     "metadata": {},
     "output_type": "display_data"
    },
    {
     "name": "stdout",
     "output_type": "stream",
     "text": [
      "Test Accuracy: 26.77%\n"
     ]
    },
    {
     "data": {
      "application/vnd.jupyter.widget-view+json": {
       "model_id": "24e3f4b668184c479389ac64a7ee72eb",
       "version_major": 2,
       "version_minor": 0
      },
      "text/plain": [
       "Epoch    68:   0%|          | 0/4 [00:00<?, ?batch/s]"
      ]
     },
     "metadata": {},
     "output_type": "display_data"
    },
    {
     "name": "stdout",
     "output_type": "stream",
     "text": [
      "Test Accuracy: 27.03%\n"
     ]
    },
    {
     "data": {
      "application/vnd.jupyter.widget-view+json": {
       "model_id": "985bf30c3dcb441f8de9b9a74238456a",
       "version_major": 2,
       "version_minor": 0
      },
      "text/plain": [
       "Epoch    69:   0%|          | 0/4 [00:00<?, ?batch/s]"
      ]
     },
     "metadata": {},
     "output_type": "display_data"
    },
    {
     "name": "stdout",
     "output_type": "stream",
     "text": [
      "Test Accuracy: 26.39%\n"
     ]
    },
    {
     "data": {
      "application/vnd.jupyter.widget-view+json": {
       "model_id": "94b8a560ae7049f39c4751394e598573",
       "version_major": 2,
       "version_minor": 0
      },
      "text/plain": [
       "Epoch    70:   0%|          | 0/4 [00:00<?, ?batch/s]"
      ]
     },
     "metadata": {},
     "output_type": "display_data"
    },
    {
     "name": "stdout",
     "output_type": "stream",
     "text": [
      "Test Accuracy: 29.04%\n"
     ]
    },
    {
     "data": {
      "application/vnd.jupyter.widget-view+json": {
       "model_id": "a81e371a48fa463e80598d0e63e54831",
       "version_major": 2,
       "version_minor": 0
      },
      "text/plain": [
       "Epoch    71:   0%|          | 0/4 [00:00<?, ?batch/s]"
      ]
     },
     "metadata": {},
     "output_type": "display_data"
    },
    {
     "name": "stdout",
     "output_type": "stream",
     "text": [
      "Test Accuracy: 22.12%\n"
     ]
    },
    {
     "data": {
      "application/vnd.jupyter.widget-view+json": {
       "model_id": "19627322ba0b419993cc909130b4fa5f",
       "version_major": 2,
       "version_minor": 0
      },
      "text/plain": [
       "Epoch    72:   0%|          | 0/4 [00:00<?, ?batch/s]"
      ]
     },
     "metadata": {},
     "output_type": "display_data"
    },
    {
     "name": "stdout",
     "output_type": "stream",
     "text": [
      "Test Accuracy: 28.5%\n"
     ]
    },
    {
     "data": {
      "application/vnd.jupyter.widget-view+json": {
       "model_id": "c5515becf4a74e6e99f89c7fd94d5699",
       "version_major": 2,
       "version_minor": 0
      },
      "text/plain": [
       "Epoch    73:   0%|          | 0/4 [00:00<?, ?batch/s]"
      ]
     },
     "metadata": {},
     "output_type": "display_data"
    },
    {
     "name": "stdout",
     "output_type": "stream",
     "text": [
      "Test Accuracy: 25.29%\n"
     ]
    },
    {
     "data": {
      "application/vnd.jupyter.widget-view+json": {
       "model_id": "28531baaf7a74abe8a62dc675ec14ff3",
       "version_major": 2,
       "version_minor": 0
      },
      "text/plain": [
       "Epoch    74:   0%|          | 0/4 [00:00<?, ?batch/s]"
      ]
     },
     "metadata": {},
     "output_type": "display_data"
    },
    {
     "name": "stdout",
     "output_type": "stream",
     "text": [
      "Test Accuracy: 28.26%\n"
     ]
    },
    {
     "data": {
      "application/vnd.jupyter.widget-view+json": {
       "model_id": "2b71f93e21f24c44aff0f77b0e2059db",
       "version_major": 2,
       "version_minor": 0
      },
      "text/plain": [
       "Epoch    75:   0%|          | 0/4 [00:00<?, ?batch/s]"
      ]
     },
     "metadata": {},
     "output_type": "display_data"
    },
    {
     "name": "stdout",
     "output_type": "stream",
     "text": [
      "Test Accuracy: 28.68%\n"
     ]
    },
    {
     "data": {
      "application/vnd.jupyter.widget-view+json": {
       "model_id": "fa8c9b09c6934ccaaae4749b75fdc88d",
       "version_major": 2,
       "version_minor": 0
      },
      "text/plain": [
       "Epoch    76:   0%|          | 0/4 [00:00<?, ?batch/s]"
      ]
     },
     "metadata": {},
     "output_type": "display_data"
    },
    {
     "name": "stdout",
     "output_type": "stream",
     "text": [
      "Test Accuracy: 29.94%\n"
     ]
    },
    {
     "data": {
      "application/vnd.jupyter.widget-view+json": {
       "model_id": "bde2dd9689cd4f4cba3770c8462bdfdb",
       "version_major": 2,
       "version_minor": 0
      },
      "text/plain": [
       "Epoch    77:   0%|          | 0/4 [00:00<?, ?batch/s]"
      ]
     },
     "metadata": {},
     "output_type": "display_data"
    },
    {
     "name": "stdout",
     "output_type": "stream",
     "text": [
      "Test Accuracy: 23.74%\n"
     ]
    },
    {
     "data": {
      "application/vnd.jupyter.widget-view+json": {
       "model_id": "5f1dd5ad2ec44e60b176e54fb81ed396",
       "version_major": 2,
       "version_minor": 0
      },
      "text/plain": [
       "Epoch    78:   0%|          | 0/4 [00:00<?, ?batch/s]"
      ]
     },
     "metadata": {},
     "output_type": "display_data"
    },
    {
     "name": "stdout",
     "output_type": "stream",
     "text": [
      "Test Accuracy: 27.16%\n"
     ]
    },
    {
     "data": {
      "application/vnd.jupyter.widget-view+json": {
       "model_id": "0d6499bd47244d1898f8eccc638a19bf",
       "version_major": 2,
       "version_minor": 0
      },
      "text/plain": [
       "Epoch    79:   0%|          | 0/4 [00:00<?, ?batch/s]"
      ]
     },
     "metadata": {},
     "output_type": "display_data"
    },
    {
     "name": "stdout",
     "output_type": "stream",
     "text": [
      "Test Accuracy: 26.92%\n"
     ]
    },
    {
     "data": {
      "application/vnd.jupyter.widget-view+json": {
       "model_id": "ff79d45c20d448f3840c7e2dbb325be8",
       "version_major": 2,
       "version_minor": 0
      },
      "text/plain": [
       "Epoch    80:   0%|          | 0/5 [00:00<?, ?batch/s]"
      ]
     },
     "metadata": {},
     "output_type": "display_data"
    },
    {
     "name": "stdout",
     "output_type": "stream",
     "text": [
      "Test Accuracy: 28.48%\n"
     ]
    },
    {
     "data": {
      "application/vnd.jupyter.widget-view+json": {
       "model_id": "1a9f262b730842c29944a8db62de8162",
       "version_major": 2,
       "version_minor": 0
      },
      "text/plain": [
       "Epoch    81:   0%|          | 0/5 [00:00<?, ?batch/s]"
      ]
     },
     "metadata": {},
     "output_type": "display_data"
    },
    {
     "name": "stdout",
     "output_type": "stream",
     "text": [
      "Test Accuracy: 28.31%\n"
     ]
    },
    {
     "data": {
      "application/vnd.jupyter.widget-view+json": {
       "model_id": "5904583507804aa282c0f316e39a4c17",
       "version_major": 2,
       "version_minor": 0
      },
      "text/plain": [
       "Epoch    82:   0%|          | 0/5 [00:00<?, ?batch/s]"
      ]
     },
     "metadata": {},
     "output_type": "display_data"
    },
    {
     "name": "stdout",
     "output_type": "stream",
     "text": [
      "Test Accuracy: 27.95%\n"
     ]
    },
    {
     "data": {
      "application/vnd.jupyter.widget-view+json": {
       "model_id": "eaf848f6ed9a47b3996ac3259508a459",
       "version_major": 2,
       "version_minor": 0
      },
      "text/plain": [
       "Epoch    83:   0%|          | 0/5 [00:00<?, ?batch/s]"
      ]
     },
     "metadata": {},
     "output_type": "display_data"
    },
    {
     "name": "stdout",
     "output_type": "stream",
     "text": [
      "Test Accuracy: 27.15%\n"
     ]
    },
    {
     "data": {
      "application/vnd.jupyter.widget-view+json": {
       "model_id": "1cda2a32137c478594e757dfac92b3ba",
       "version_major": 2,
       "version_minor": 0
      },
      "text/plain": [
       "Epoch    84:   0%|          | 0/5 [00:00<?, ?batch/s]"
      ]
     },
     "metadata": {},
     "output_type": "display_data"
    },
    {
     "name": "stdout",
     "output_type": "stream",
     "text": [
      "Test Accuracy: 25.68%\n"
     ]
    },
    {
     "data": {
      "application/vnd.jupyter.widget-view+json": {
       "model_id": "0d16888d330743c18d024c811110a69a",
       "version_major": 2,
       "version_minor": 0
      },
      "text/plain": [
       "Epoch    85:   0%|          | 0/5 [00:00<?, ?batch/s]"
      ]
     },
     "metadata": {},
     "output_type": "display_data"
    },
    {
     "name": "stdout",
     "output_type": "stream",
     "text": [
      "Test Accuracy: 31.26%\n"
     ]
    },
    {
     "data": {
      "application/vnd.jupyter.widget-view+json": {
       "model_id": "d4d20f12faa84db98c969565b1a61e65",
       "version_major": 2,
       "version_minor": 0
      },
      "text/plain": [
       "Epoch    86:   0%|          | 0/5 [00:00<?, ?batch/s]"
      ]
     },
     "metadata": {},
     "output_type": "display_data"
    },
    {
     "name": "stdout",
     "output_type": "stream",
     "text": [
      "Test Accuracy: 28.31%\n"
     ]
    },
    {
     "data": {
      "application/vnd.jupyter.widget-view+json": {
       "model_id": "b0fd055f06d343a683cdeef5032753fa",
       "version_major": 2,
       "version_minor": 0
      },
      "text/plain": [
       "Epoch    87:   0%|          | 0/5 [00:00<?, ?batch/s]"
      ]
     },
     "metadata": {},
     "output_type": "display_data"
    },
    {
     "name": "stdout",
     "output_type": "stream",
     "text": [
      "Test Accuracy: 25.13%\n"
     ]
    },
    {
     "data": {
      "application/vnd.jupyter.widget-view+json": {
       "model_id": "235d0c3f283c4aac8e21c38a8b6f7770",
       "version_major": 2,
       "version_minor": 0
      },
      "text/plain": [
       "Epoch    88:   0%|          | 0/5 [00:00<?, ?batch/s]"
      ]
     },
     "metadata": {},
     "output_type": "display_data"
    },
    {
     "name": "stdout",
     "output_type": "stream",
     "text": [
      "Test Accuracy: 30.94%\n"
     ]
    },
    {
     "data": {
      "application/vnd.jupyter.widget-view+json": {
       "model_id": "1f950ab5716840e99af0aac47b88386d",
       "version_major": 2,
       "version_minor": 0
      },
      "text/plain": [
       "Epoch    89:   0%|          | 0/5 [00:00<?, ?batch/s]"
      ]
     },
     "metadata": {},
     "output_type": "display_data"
    },
    {
     "name": "stdout",
     "output_type": "stream",
     "text": [
      "Test Accuracy: 29.48%\n"
     ]
    },
    {
     "data": {
      "application/vnd.jupyter.widget-view+json": {
       "model_id": "ca8a89502e7f4bda81780cd325c2b557",
       "version_major": 2,
       "version_minor": 0
      },
      "text/plain": [
       "Epoch    90:   0%|          | 0/5 [00:00<?, ?batch/s]"
      ]
     },
     "metadata": {},
     "output_type": "display_data"
    },
    {
     "name": "stdout",
     "output_type": "stream",
     "text": [
      "Test Accuracy: 22.23%\n"
     ]
    },
    {
     "data": {
      "application/vnd.jupyter.widget-view+json": {
       "model_id": "5a38590288084c2f8cd815b9122c28da",
       "version_major": 2,
       "version_minor": 0
      },
      "text/plain": [
       "Epoch    91:   0%|          | 0/5 [00:00<?, ?batch/s]"
      ]
     },
     "metadata": {},
     "output_type": "display_data"
    },
    {
     "name": "stdout",
     "output_type": "stream",
     "text": [
      "Test Accuracy: 26.91%\n"
     ]
    },
    {
     "data": {
      "application/vnd.jupyter.widget-view+json": {
       "model_id": "998a862d25ac4f7299a466a8fe6d2899",
       "version_major": 2,
       "version_minor": 0
      },
      "text/plain": [
       "Epoch    92:   0%|          | 0/5 [00:00<?, ?batch/s]"
      ]
     },
     "metadata": {},
     "output_type": "display_data"
    },
    {
     "name": "stdout",
     "output_type": "stream",
     "text": [
      "Test Accuracy: 26.19%\n"
     ]
    },
    {
     "data": {
      "application/vnd.jupyter.widget-view+json": {
       "model_id": "4c0eba51ab0f49a0a0dc5b1bab26d6e3",
       "version_major": 2,
       "version_minor": 0
      },
      "text/plain": [
       "Epoch    93:   0%|          | 0/5 [00:00<?, ?batch/s]"
      ]
     },
     "metadata": {},
     "output_type": "display_data"
    },
    {
     "name": "stdout",
     "output_type": "stream",
     "text": [
      "Test Accuracy: 27.04%\n"
     ]
    },
    {
     "data": {
      "application/vnd.jupyter.widget-view+json": {
       "model_id": "2a2b33476a3d4311bcef719105534530",
       "version_major": 2,
       "version_minor": 0
      },
      "text/plain": [
       "Epoch    94:   0%|          | 0/5 [00:00<?, ?batch/s]"
      ]
     },
     "metadata": {},
     "output_type": "display_data"
    },
    {
     "name": "stdout",
     "output_type": "stream",
     "text": [
      "Test Accuracy: 28.62%\n"
     ]
    },
    {
     "data": {
      "application/vnd.jupyter.widget-view+json": {
       "model_id": "5354cf7aa0ef47b8b3d9808c40e67677",
       "version_major": 2,
       "version_minor": 0
      },
      "text/plain": [
       "Epoch    95:   0%|          | 0/5 [00:00<?, ?batch/s]"
      ]
     },
     "metadata": {},
     "output_type": "display_data"
    },
    {
     "name": "stdout",
     "output_type": "stream",
     "text": [
      "Test Accuracy: 26.22%\n"
     ]
    },
    {
     "data": {
      "application/vnd.jupyter.widget-view+json": {
       "model_id": "20f8b652e5a44fe7b83fe630987c2ef0",
       "version_major": 2,
       "version_minor": 0
      },
      "text/plain": [
       "Epoch    96:   0%|          | 0/5 [00:00<?, ?batch/s]"
      ]
     },
     "metadata": {},
     "output_type": "display_data"
    },
    {
     "name": "stdout",
     "output_type": "stream",
     "text": [
      "Test Accuracy: 29.15%\n"
     ]
    },
    {
     "data": {
      "application/vnd.jupyter.widget-view+json": {
       "model_id": "89b1ab2b5dbf4a129bd55785afb501e1",
       "version_major": 2,
       "version_minor": 0
      },
      "text/plain": [
       "Epoch    97:   0%|          | 0/6 [00:00<?, ?batch/s]"
      ]
     },
     "metadata": {},
     "output_type": "display_data"
    },
    {
     "name": "stdout",
     "output_type": "stream",
     "text": [
      "Test Accuracy: 25.94%\n"
     ]
    },
    {
     "data": {
      "application/vnd.jupyter.widget-view+json": {
       "model_id": "553314045b3b4079b0c39c6bec08ffed",
       "version_major": 2,
       "version_minor": 0
      },
      "text/plain": [
       "Epoch    98:   0%|          | 0/6 [00:00<?, ?batch/s]"
      ]
     },
     "metadata": {},
     "output_type": "display_data"
    },
    {
     "name": "stdout",
     "output_type": "stream",
     "text": [
      "Test Accuracy: 28.51%\n"
     ]
    },
    {
     "data": {
      "application/vnd.jupyter.widget-view+json": {
       "model_id": "8fd064f7c662478e81c9e816fb022b48",
       "version_major": 2,
       "version_minor": 0
      },
      "text/plain": [
       "Epoch    99:   0%|          | 0/6 [00:00<?, ?batch/s]"
      ]
     },
     "metadata": {},
     "output_type": "display_data"
    },
    {
     "name": "stdout",
     "output_type": "stream",
     "text": [
      "Test Accuracy: 30.37%\n"
     ]
    },
    {
     "data": {
      "application/vnd.jupyter.widget-view+json": {
       "model_id": "19000cfa92d54cc4bb02c44ea163c3e9",
       "version_major": 2,
       "version_minor": 0
      },
      "text/plain": [
       "Epoch   100:   0%|          | 0/6 [00:00<?, ?batch/s]"
      ]
     },
     "metadata": {},
     "output_type": "display_data"
    },
    {
     "name": "stdout",
     "output_type": "stream",
     "text": [
      "Test Accuracy: 30.74%\n"
     ]
    },
    {
     "data": {
      "application/vnd.jupyter.widget-view+json": {
       "model_id": "30aed9b39b90432dbd70c3c2f13788a6",
       "version_major": 2,
       "version_minor": 0
      },
      "text/plain": [
       "Epoch   101:   0%|          | 0/6 [00:00<?, ?batch/s]"
      ]
     },
     "metadata": {},
     "output_type": "display_data"
    },
    {
     "name": "stdout",
     "output_type": "stream",
     "text": [
      "Test Accuracy: 30.33%\n"
     ]
    },
    {
     "data": {
      "application/vnd.jupyter.widget-view+json": {
       "model_id": "3d3e882af3fb42d7baf9eba34bf6110c",
       "version_major": 2,
       "version_minor": 0
      },
      "text/plain": [
       "Epoch   102:   0%|          | 0/6 [00:00<?, ?batch/s]"
      ]
     },
     "metadata": {},
     "output_type": "display_data"
    },
    {
     "name": "stdout",
     "output_type": "stream",
     "text": [
      "Test Accuracy: 31.74%\n"
     ]
    },
    {
     "data": {
      "application/vnd.jupyter.widget-view+json": {
       "model_id": "1b39471d28fa4ab4954828a3b4cb2849",
       "version_major": 2,
       "version_minor": 0
      },
      "text/plain": [
       "Epoch   103:   0%|          | 0/6 [00:00<?, ?batch/s]"
      ]
     },
     "metadata": {},
     "output_type": "display_data"
    },
    {
     "name": "stdout",
     "output_type": "stream",
     "text": [
      "Test Accuracy: 32.23%\n"
     ]
    },
    {
     "data": {
      "application/vnd.jupyter.widget-view+json": {
       "model_id": "f2bd89b8a22347d0ba67f6a7219ed7a5",
       "version_major": 2,
       "version_minor": 0
      },
      "text/plain": [
       "Epoch   104:   0%|          | 0/6 [00:00<?, ?batch/s]"
      ]
     },
     "metadata": {},
     "output_type": "display_data"
    },
    {
     "name": "stdout",
     "output_type": "stream",
     "text": [
      "Test Accuracy: 29.38%\n"
     ]
    },
    {
     "data": {
      "application/vnd.jupyter.widget-view+json": {
       "model_id": "176415405bf74cf6b734c6c611ac68a6",
       "version_major": 2,
       "version_minor": 0
      },
      "text/plain": [
       "Epoch   105:   0%|          | 0/6 [00:00<?, ?batch/s]"
      ]
     },
     "metadata": {},
     "output_type": "display_data"
    },
    {
     "name": "stdout",
     "output_type": "stream",
     "text": [
      "Test Accuracy: 29.67%\n"
     ]
    },
    {
     "data": {
      "application/vnd.jupyter.widget-view+json": {
       "model_id": "1ad299087e794d8abf3a980fa49c2099",
       "version_major": 2,
       "version_minor": 0
      },
      "text/plain": [
       "Epoch   106:   0%|          | 0/6 [00:00<?, ?batch/s]"
      ]
     },
     "metadata": {},
     "output_type": "display_data"
    },
    {
     "name": "stdout",
     "output_type": "stream",
     "text": [
      "Test Accuracy: 31.53%\n"
     ]
    },
    {
     "data": {
      "application/vnd.jupyter.widget-view+json": {
       "model_id": "c2aa3f7e662e410b857240e2c5bd09c6",
       "version_major": 2,
       "version_minor": 0
      },
      "text/plain": [
       "Epoch   107:   0%|          | 0/6 [00:00<?, ?batch/s]"
      ]
     },
     "metadata": {},
     "output_type": "display_data"
    },
    {
     "name": "stdout",
     "output_type": "stream",
     "text": [
      "Test Accuracy: 31.15%\n"
     ]
    },
    {
     "data": {
      "application/vnd.jupyter.widget-view+json": {
       "model_id": "75a49a2aad2b4816b482e19ea4428a24",
       "version_major": 2,
       "version_minor": 0
      },
      "text/plain": [
       "Epoch   108:   0%|          | 0/6 [00:00<?, ?batch/s]"
      ]
     },
     "metadata": {},
     "output_type": "display_data"
    },
    {
     "name": "stdout",
     "output_type": "stream",
     "text": [
      "Test Accuracy: 31.51%\n"
     ]
    },
    {
     "data": {
      "application/vnd.jupyter.widget-view+json": {
       "model_id": "4ee7b3aac01040768c69fecd0b28c347",
       "version_major": 2,
       "version_minor": 0
      },
      "text/plain": [
       "Epoch   109:   0%|          | 0/6 [00:00<?, ?batch/s]"
      ]
     },
     "metadata": {},
     "output_type": "display_data"
    },
    {
     "name": "stdout",
     "output_type": "stream",
     "text": [
      "Test Accuracy: 29.43%\n"
     ]
    },
    {
     "data": {
      "application/vnd.jupyter.widget-view+json": {
       "model_id": "b245ac4263594a96bd027c4182891f6d",
       "version_major": 2,
       "version_minor": 0
      },
      "text/plain": [
       "Epoch   110:   0%|          | 0/6 [00:00<?, ?batch/s]"
      ]
     },
     "metadata": {},
     "output_type": "display_data"
    },
    {
     "name": "stdout",
     "output_type": "stream",
     "text": [
      "Test Accuracy: 31.69%\n"
     ]
    },
    {
     "data": {
      "application/vnd.jupyter.widget-view+json": {
       "model_id": "8c27366497694401b08faeb0fa753606",
       "version_major": 2,
       "version_minor": 0
      },
      "text/plain": [
       "Epoch   111:   0%|          | 0/6 [00:00<?, ?batch/s]"
      ]
     },
     "metadata": {},
     "output_type": "display_data"
    },
    {
     "name": "stdout",
     "output_type": "stream",
     "text": [
      "Test Accuracy: 29.91%\n"
     ]
    },
    {
     "data": {
      "application/vnd.jupyter.widget-view+json": {
       "model_id": "8d6654b9a321483dba1abd0d7cc04c9a",
       "version_major": 2,
       "version_minor": 0
      },
      "text/plain": [
       "Epoch   112:   0%|          | 0/7 [00:00<?, ?batch/s]"
      ]
     },
     "metadata": {},
     "output_type": "display_data"
    },
    {
     "name": "stdout",
     "output_type": "stream",
     "text": [
      "Test Accuracy: 28.34%\n"
     ]
    },
    {
     "data": {
      "application/vnd.jupyter.widget-view+json": {
       "model_id": "19490725be8644c59d9c70745f9ee3a4",
       "version_major": 2,
       "version_minor": 0
      },
      "text/plain": [
       "Epoch   113:   0%|          | 0/7 [00:00<?, ?batch/s]"
      ]
     },
     "metadata": {},
     "output_type": "display_data"
    },
    {
     "name": "stdout",
     "output_type": "stream",
     "text": [
      "Test Accuracy: 29.69%\n"
     ]
    },
    {
     "data": {
      "application/vnd.jupyter.widget-view+json": {
       "model_id": "71847eaa260e42459e3561162fae54b0",
       "version_major": 2,
       "version_minor": 0
      },
      "text/plain": [
       "Epoch   114:   0%|          | 0/7 [00:00<?, ?batch/s]"
      ]
     },
     "metadata": {},
     "output_type": "display_data"
    },
    {
     "name": "stdout",
     "output_type": "stream",
     "text": [
      "Test Accuracy: 26.6%\n"
     ]
    },
    {
     "data": {
      "application/vnd.jupyter.widget-view+json": {
       "model_id": "e786b6253b044b87aada942e4c5ae9ad",
       "version_major": 2,
       "version_minor": 0
      },
      "text/plain": [
       "Epoch   115:   0%|          | 0/7 [00:00<?, ?batch/s]"
      ]
     },
     "metadata": {},
     "output_type": "display_data"
    },
    {
     "name": "stdout",
     "output_type": "stream",
     "text": [
      "Test Accuracy: 30.24%\n"
     ]
    },
    {
     "data": {
      "application/vnd.jupyter.widget-view+json": {
       "model_id": "eaa34833acb24efab1d0b4566d767a50",
       "version_major": 2,
       "version_minor": 0
      },
      "text/plain": [
       "Epoch   116:   0%|          | 0/7 [00:00<?, ?batch/s]"
      ]
     },
     "metadata": {},
     "output_type": "display_data"
    },
    {
     "name": "stdout",
     "output_type": "stream",
     "text": [
      "Test Accuracy: 30.83%\n"
     ]
    },
    {
     "data": {
      "application/vnd.jupyter.widget-view+json": {
       "model_id": "7ff5484d223c4fd8bccf0bfd4e676665",
       "version_major": 2,
       "version_minor": 0
      },
      "text/plain": [
       "Epoch   117:   0%|          | 0/7 [00:00<?, ?batch/s]"
      ]
     },
     "metadata": {},
     "output_type": "display_data"
    },
    {
     "name": "stdout",
     "output_type": "stream",
     "text": [
      "Test Accuracy: 27.25%\n"
     ]
    },
    {
     "data": {
      "application/vnd.jupyter.widget-view+json": {
       "model_id": "fd1173d9d22f4e49bd4609fd5fc139e6",
       "version_major": 2,
       "version_minor": 0
      },
      "text/plain": [
       "Epoch   118:   0%|          | 0/7 [00:00<?, ?batch/s]"
      ]
     },
     "metadata": {},
     "output_type": "display_data"
    },
    {
     "name": "stdout",
     "output_type": "stream",
     "text": [
      "Test Accuracy: 31.99%\n"
     ]
    },
    {
     "data": {
      "application/vnd.jupyter.widget-view+json": {
       "model_id": "f13050c9abd84caeb992a90ff823a6bb",
       "version_major": 2,
       "version_minor": 0
      },
      "text/plain": [
       "Epoch   119:   0%|          | 0/7 [00:00<?, ?batch/s]"
      ]
     },
     "metadata": {},
     "output_type": "display_data"
    },
    {
     "name": "stdout",
     "output_type": "stream",
     "text": [
      "Test Accuracy: 30.16%\n"
     ]
    },
    {
     "data": {
      "application/vnd.jupyter.widget-view+json": {
       "model_id": "cf528b2b841c47fcbb0086e1b338101f",
       "version_major": 2,
       "version_minor": 0
      },
      "text/plain": [
       "Epoch   120:   0%|          | 0/7 [00:00<?, ?batch/s]"
      ]
     },
     "metadata": {},
     "output_type": "display_data"
    },
    {
     "name": "stdout",
     "output_type": "stream",
     "text": [
      "Test Accuracy: 31.78%\n"
     ]
    },
    {
     "data": {
      "application/vnd.jupyter.widget-view+json": {
       "model_id": "1419db48295e4b4a879e12d89d5247d2",
       "version_major": 2,
       "version_minor": 0
      },
      "text/plain": [
       "Epoch   121:   0%|          | 0/7 [00:00<?, ?batch/s]"
      ]
     },
     "metadata": {},
     "output_type": "display_data"
    },
    {
     "name": "stdout",
     "output_type": "stream",
     "text": [
      "Test Accuracy: 30.92%\n"
     ]
    },
    {
     "data": {
      "application/vnd.jupyter.widget-view+json": {
       "model_id": "d344ac12048c42b1b998f41f6f234101",
       "version_major": 2,
       "version_minor": 0
      },
      "text/plain": [
       "Epoch   122:   0%|          | 0/7 [00:00<?, ?batch/s]"
      ]
     },
     "metadata": {},
     "output_type": "display_data"
    },
    {
     "name": "stdout",
     "output_type": "stream",
     "text": [
      "Test Accuracy: 30.5%\n"
     ]
    },
    {
     "data": {
      "application/vnd.jupyter.widget-view+json": {
       "model_id": "866a1314958b4433a2f1b76c536b254e",
       "version_major": 2,
       "version_minor": 0
      },
      "text/plain": [
       "Epoch   123:   0%|          | 0/7 [00:00<?, ?batch/s]"
      ]
     },
     "metadata": {},
     "output_type": "display_data"
    },
    {
     "name": "stdout",
     "output_type": "stream",
     "text": [
      "Test Accuracy: 32.22%\n"
     ]
    },
    {
     "data": {
      "application/vnd.jupyter.widget-view+json": {
       "model_id": "8a58912272c24952a72e1143a545dedd",
       "version_major": 2,
       "version_minor": 0
      },
      "text/plain": [
       "Epoch   124:   0%|          | 0/7 [00:00<?, ?batch/s]"
      ]
     },
     "metadata": {},
     "output_type": "display_data"
    },
    {
     "name": "stdout",
     "output_type": "stream",
     "text": [
      "Test Accuracy: 24.11%\n"
     ]
    },
    {
     "data": {
      "application/vnd.jupyter.widget-view+json": {
       "model_id": "1d9727929a014c23a6e4befd0c7fd0ca",
       "version_major": 2,
       "version_minor": 0
      },
      "text/plain": [
       "Epoch   125:   0%|          | 0/8 [00:00<?, ?batch/s]"
      ]
     },
     "metadata": {},
     "output_type": "display_data"
    },
    {
     "name": "stdout",
     "output_type": "stream",
     "text": [
      "Test Accuracy: 31.81%\n"
     ]
    },
    {
     "data": {
      "application/vnd.jupyter.widget-view+json": {
       "model_id": "83d0a6a3bb1f4b7184618bd0098882b3",
       "version_major": 2,
       "version_minor": 0
      },
      "text/plain": [
       "Epoch   126:   0%|          | 0/8 [00:00<?, ?batch/s]"
      ]
     },
     "metadata": {},
     "output_type": "display_data"
    },
    {
     "name": "stdout",
     "output_type": "stream",
     "text": [
      "Test Accuracy: 29.55%\n"
     ]
    },
    {
     "data": {
      "application/vnd.jupyter.widget-view+json": {
       "model_id": "240e5fc304ba478ab83d0f342cd4590c",
       "version_major": 2,
       "version_minor": 0
      },
      "text/plain": [
       "Epoch   127:   0%|          | 0/8 [00:00<?, ?batch/s]"
      ]
     },
     "metadata": {},
     "output_type": "display_data"
    },
    {
     "name": "stdout",
     "output_type": "stream",
     "text": [
      "Test Accuracy: 32.34%\n"
     ]
    },
    {
     "data": {
      "application/vnd.jupyter.widget-view+json": {
       "model_id": "792aa95a211a4db5a233fd9d5a954d33",
       "version_major": 2,
       "version_minor": 0
      },
      "text/plain": [
       "Epoch   128:   0%|          | 0/8 [00:00<?, ?batch/s]"
      ]
     },
     "metadata": {},
     "output_type": "display_data"
    },
    {
     "name": "stdout",
     "output_type": "stream",
     "text": [
      "Test Accuracy: 29.98%\n"
     ]
    },
    {
     "data": {
      "application/vnd.jupyter.widget-view+json": {
       "model_id": "ee74ca9cd97f4b419e0e4734e5b06aba",
       "version_major": 2,
       "version_minor": 0
      },
      "text/plain": [
       "Epoch   129:   0%|          | 0/8 [00:00<?, ?batch/s]"
      ]
     },
     "metadata": {},
     "output_type": "display_data"
    },
    {
     "name": "stdout",
     "output_type": "stream",
     "text": [
      "Test Accuracy: 31.56%\n"
     ]
    },
    {
     "data": {
      "application/vnd.jupyter.widget-view+json": {
       "model_id": "fb3158cd2e184dffa52f73af6b0710f2",
       "version_major": 2,
       "version_minor": 0
      },
      "text/plain": [
       "Epoch   130:   0%|          | 0/8 [00:00<?, ?batch/s]"
      ]
     },
     "metadata": {},
     "output_type": "display_data"
    },
    {
     "name": "stdout",
     "output_type": "stream",
     "text": [
      "Test Accuracy: 30.88%\n"
     ]
    },
    {
     "data": {
      "application/vnd.jupyter.widget-view+json": {
       "model_id": "9300da8faa7849e4971752719c7a4dbd",
       "version_major": 2,
       "version_minor": 0
      },
      "text/plain": [
       "Epoch   131:   0%|          | 0/8 [00:00<?, ?batch/s]"
      ]
     },
     "metadata": {},
     "output_type": "display_data"
    },
    {
     "name": "stdout",
     "output_type": "stream",
     "text": [
      "Test Accuracy: 18.92%\n"
     ]
    },
    {
     "data": {
      "application/vnd.jupyter.widget-view+json": {
       "model_id": "fc69bc5bf9c9407583d6d938551d0f3f",
       "version_major": 2,
       "version_minor": 0
      },
      "text/plain": [
       "Epoch   132:   0%|          | 0/8 [00:00<?, ?batch/s]"
      ]
     },
     "metadata": {},
     "output_type": "display_data"
    },
    {
     "name": "stdout",
     "output_type": "stream",
     "text": [
      "Test Accuracy: 27.15%\n"
     ]
    },
    {
     "data": {
      "application/vnd.jupyter.widget-view+json": {
       "model_id": "f6e20e3392c44c078a2e554919afaf23",
       "version_major": 2,
       "version_minor": 0
      },
      "text/plain": [
       "Epoch   133:   0%|          | 0/8 [00:00<?, ?batch/s]"
      ]
     },
     "metadata": {},
     "output_type": "display_data"
    },
    {
     "name": "stdout",
     "output_type": "stream",
     "text": [
      "Test Accuracy: 27.79%\n"
     ]
    },
    {
     "data": {
      "application/vnd.jupyter.widget-view+json": {
       "model_id": "ab615492b58e46dca767fe7a011a41c6",
       "version_major": 2,
       "version_minor": 0
      },
      "text/plain": [
       "Epoch   134:   0%|          | 0/8 [00:00<?, ?batch/s]"
      ]
     },
     "metadata": {},
     "output_type": "display_data"
    },
    {
     "name": "stdout",
     "output_type": "stream",
     "text": [
      "Test Accuracy: 34.0%\n"
     ]
    },
    {
     "data": {
      "application/vnd.jupyter.widget-view+json": {
       "model_id": "d50ccf89d8a145cc95c09f0589f87477",
       "version_major": 2,
       "version_minor": 0
      },
      "text/plain": [
       "Epoch   135:   0%|          | 0/8 [00:00<?, ?batch/s]"
      ]
     },
     "metadata": {},
     "output_type": "display_data"
    },
    {
     "name": "stdout",
     "output_type": "stream",
     "text": [
      "Test Accuracy: 31.08%\n"
     ]
    },
    {
     "data": {
      "application/vnd.jupyter.widget-view+json": {
       "model_id": "ee95d2c80eca400594aa4c75169bc175",
       "version_major": 2,
       "version_minor": 0
      },
      "text/plain": [
       "Epoch   136:   0%|          | 0/8 [00:00<?, ?batch/s]"
      ]
     },
     "metadata": {},
     "output_type": "display_data"
    },
    {
     "name": "stdout",
     "output_type": "stream",
     "text": [
      "Test Accuracy: 27.43%\n"
     ]
    },
    {
     "data": {
      "application/vnd.jupyter.widget-view+json": {
       "model_id": "70516d0a8ce84ff7a7ec52879bde1b4a",
       "version_major": 2,
       "version_minor": 0
      },
      "text/plain": [
       "Epoch   137:   0%|          | 0/8 [00:00<?, ?batch/s]"
      ]
     },
     "metadata": {},
     "output_type": "display_data"
    },
    {
     "name": "stdout",
     "output_type": "stream",
     "text": [
      "Test Accuracy: 33.02%\n"
     ]
    },
    {
     "data": {
      "application/vnd.jupyter.widget-view+json": {
       "model_id": "7d9f08fe8af3452d94e0339d1a3f0db8",
       "version_major": 2,
       "version_minor": 0
      },
      "text/plain": [
       "Epoch   138:   0%|          | 0/8 [00:00<?, ?batch/s]"
      ]
     },
     "metadata": {},
     "output_type": "display_data"
    },
    {
     "name": "stdout",
     "output_type": "stream",
     "text": [
      "Test Accuracy: 34.54%\n"
     ]
    },
    {
     "data": {
      "application/vnd.jupyter.widget-view+json": {
       "model_id": "f492a7468dd940f1b08d0132043279e4",
       "version_major": 2,
       "version_minor": 0
      },
      "text/plain": [
       "Epoch   139:   0%|          | 0/8 [00:00<?, ?batch/s]"
      ]
     },
     "metadata": {},
     "output_type": "display_data"
    },
    {
     "name": "stdout",
     "output_type": "stream",
     "text": [
      "Test Accuracy: 32.7%\n"
     ]
    },
    {
     "data": {
      "application/vnd.jupyter.widget-view+json": {
       "model_id": "8f66d21e8f7540b3a64bfc59471d4bd6",
       "version_major": 2,
       "version_minor": 0
      },
      "text/plain": [
       "Epoch   140:   0%|          | 0/8 [00:00<?, ?batch/s]"
      ]
     },
     "metadata": {},
     "output_type": "display_data"
    },
    {
     "name": "stdout",
     "output_type": "stream",
     "text": [
      "Test Accuracy: 32.65%\n"
     ]
    },
    {
     "data": {
      "application/vnd.jupyter.widget-view+json": {
       "model_id": "c6b7dd3b95d94848bdf81ea6535b18ed",
       "version_major": 2,
       "version_minor": 0
      },
      "text/plain": [
       "Epoch   141:   0%|          | 0/8 [00:00<?, ?batch/s]"
      ]
     },
     "metadata": {},
     "output_type": "display_data"
    },
    {
     "name": "stdout",
     "output_type": "stream",
     "text": [
      "Test Accuracy: 29.41%\n"
     ]
    },
    {
     "data": {
      "application/vnd.jupyter.widget-view+json": {
       "model_id": "a90fe120fadb4486af11fefb0f5e1f87",
       "version_major": 2,
       "version_minor": 0
      },
      "text/plain": [
       "Epoch   142:   0%|          | 0/8 [00:00<?, ?batch/s]"
      ]
     },
     "metadata": {},
     "output_type": "display_data"
    },
    {
     "name": "stdout",
     "output_type": "stream",
     "text": [
      "Test Accuracy: 30.89%\n"
     ]
    },
    {
     "data": {
      "application/vnd.jupyter.widget-view+json": {
       "model_id": "e53ae73a52b84f13a42ebebadd7297b2",
       "version_major": 2,
       "version_minor": 0
      },
      "text/plain": [
       "Epoch   143:   0%|          | 0/8 [00:00<?, ?batch/s]"
      ]
     },
     "metadata": {},
     "output_type": "display_data"
    },
    {
     "name": "stdout",
     "output_type": "stream",
     "text": [
      "Test Accuracy: 33.42%\n"
     ]
    },
    {
     "data": {
      "application/vnd.jupyter.widget-view+json": {
       "model_id": "a33a345aa75c4c96876972c47f670bec",
       "version_major": 2,
       "version_minor": 0
      },
      "text/plain": [
       "Epoch   144:   0%|          | 0/8 [00:00<?, ?batch/s]"
      ]
     },
     "metadata": {},
     "output_type": "display_data"
    },
    {
     "name": "stdout",
     "output_type": "stream",
     "text": [
      "Test Accuracy: 30.72%\n"
     ]
    },
    {
     "data": {
      "application/vnd.jupyter.widget-view+json": {
       "model_id": "c2b85858e0784d8bb2eebc2ca97e0227",
       "version_major": 2,
       "version_minor": 0
      },
      "text/plain": [
       "Epoch   145:   0%|          | 0/8 [00:00<?, ?batch/s]"
      ]
     },
     "metadata": {},
     "output_type": "display_data"
    },
    {
     "name": "stdout",
     "output_type": "stream",
     "text": [
      "Test Accuracy: 31.09%\n"
     ]
    },
    {
     "data": {
      "application/vnd.jupyter.widget-view+json": {
       "model_id": "a4bf5f8855ca43f5810fa0689978b377",
       "version_major": 2,
       "version_minor": 0
      },
      "text/plain": [
       "Epoch   146:   0%|          | 0/8 [00:00<?, ?batch/s]"
      ]
     },
     "metadata": {},
     "output_type": "display_data"
    },
    {
     "name": "stdout",
     "output_type": "stream",
     "text": [
      "Test Accuracy: 32.78%\n"
     ]
    },
    {
     "data": {
      "application/vnd.jupyter.widget-view+json": {
       "model_id": "862d2843e7e44948985e71ae24008517",
       "version_major": 2,
       "version_minor": 0
      },
      "text/plain": [
       "Epoch   147:   0%|          | 0/9 [00:00<?, ?batch/s]"
      ]
     },
     "metadata": {},
     "output_type": "display_data"
    },
    {
     "name": "stdout",
     "output_type": "stream",
     "text": [
      "Test Accuracy: 31.71%\n"
     ]
    },
    {
     "data": {
      "application/vnd.jupyter.widget-view+json": {
       "model_id": "21c5d89397f14f42a5e4ed381d0f19ac",
       "version_major": 2,
       "version_minor": 0
      },
      "text/plain": [
       "Epoch   148:   0%|          | 0/9 [00:00<?, ?batch/s]"
      ]
     },
     "metadata": {},
     "output_type": "display_data"
    },
    {
     "name": "stdout",
     "output_type": "stream",
     "text": [
      "Test Accuracy: 31.99%\n"
     ]
    },
    {
     "data": {
      "application/vnd.jupyter.widget-view+json": {
       "model_id": "9c91b546f7a14f0e8b75a848a88c41bf",
       "version_major": 2,
       "version_minor": 0
      },
      "text/plain": [
       "Epoch   149:   0%|          | 0/9 [00:00<?, ?batch/s]"
      ]
     },
     "metadata": {},
     "output_type": "display_data"
    },
    {
     "name": "stdout",
     "output_type": "stream",
     "text": [
      "Test Accuracy: 30.22%\n"
     ]
    },
    {
     "data": {
      "application/vnd.jupyter.widget-view+json": {
       "model_id": "90feb0f940704a20968dc379319a7d0c",
       "version_major": 2,
       "version_minor": 0
      },
      "text/plain": [
       "Epoch   150:   0%|          | 0/9 [00:00<?, ?batch/s]"
      ]
     },
     "metadata": {},
     "output_type": "display_data"
    },
    {
     "name": "stdout",
     "output_type": "stream",
     "text": [
      "Test Accuracy: 31.64%\n"
     ]
    },
    {
     "data": {
      "application/vnd.jupyter.widget-view+json": {
       "model_id": "3ba8fd7cb4c7453e96591c948f0d14b3",
       "version_major": 2,
       "version_minor": 0
      },
      "text/plain": [
       "Epoch   151:   0%|          | 0/9 [00:00<?, ?batch/s]"
      ]
     },
     "metadata": {},
     "output_type": "display_data"
    },
    {
     "name": "stdout",
     "output_type": "stream",
     "text": [
      "Test Accuracy: 32.7%\n"
     ]
    },
    {
     "data": {
      "application/vnd.jupyter.widget-view+json": {
       "model_id": "0a792c381b094e3dae1eece224ac5dc9",
       "version_major": 2,
       "version_minor": 0
      },
      "text/plain": [
       "Epoch   152:   0%|          | 0/9 [00:00<?, ?batch/s]"
      ]
     },
     "metadata": {},
     "output_type": "display_data"
    },
    {
     "name": "stdout",
     "output_type": "stream",
     "text": [
      "Test Accuracy: 31.29%\n"
     ]
    },
    {
     "data": {
      "application/vnd.jupyter.widget-view+json": {
       "model_id": "72b32858a5844165b2f98a53e88402be",
       "version_major": 2,
       "version_minor": 0
      },
      "text/plain": [
       "Epoch   153:   0%|          | 0/9 [00:00<?, ?batch/s]"
      ]
     },
     "metadata": {},
     "output_type": "display_data"
    },
    {
     "name": "stdout",
     "output_type": "stream",
     "text": [
      "Test Accuracy: 30.58%\n"
     ]
    },
    {
     "data": {
      "application/vnd.jupyter.widget-view+json": {
       "model_id": "1cff53b5aaf849f19b582f239e9f4be1",
       "version_major": 2,
       "version_minor": 0
      },
      "text/plain": [
       "Epoch   154:   0%|          | 0/9 [00:00<?, ?batch/s]"
      ]
     },
     "metadata": {},
     "output_type": "display_data"
    },
    {
     "name": "stdout",
     "output_type": "stream",
     "text": [
      "Test Accuracy: 33.6%\n"
     ]
    },
    {
     "data": {
      "application/vnd.jupyter.widget-view+json": {
       "model_id": "97bf29a881f94c56bafc976d9eb9e1bd",
       "version_major": 2,
       "version_minor": 0
      },
      "text/plain": [
       "Epoch   155:   0%|          | 0/9 [00:00<?, ?batch/s]"
      ]
     },
     "metadata": {},
     "output_type": "display_data"
    },
    {
     "name": "stdout",
     "output_type": "stream",
     "text": [
      "Test Accuracy: 31.39%\n"
     ]
    },
    {
     "data": {
      "application/vnd.jupyter.widget-view+json": {
       "model_id": "f0a74ea0503a479595bb43105d5cab63",
       "version_major": 2,
       "version_minor": 0
      },
      "text/plain": [
       "Epoch   156:   0%|          | 0/9 [00:00<?, ?batch/s]"
      ]
     },
     "metadata": {},
     "output_type": "display_data"
    },
    {
     "name": "stdout",
     "output_type": "stream",
     "text": [
      "Test Accuracy: 32.23%\n"
     ]
    },
    {
     "data": {
      "application/vnd.jupyter.widget-view+json": {
       "model_id": "cd8af60c878047949ca36014ea8beb8e",
       "version_major": 2,
       "version_minor": 0
      },
      "text/plain": [
       "Epoch   157:   0%|          | 0/10 [00:00<?, ?batch/s]"
      ]
     },
     "metadata": {},
     "output_type": "display_data"
    },
    {
     "name": "stdout",
     "output_type": "stream",
     "text": [
      "Test Accuracy: 30.31%\n"
     ]
    },
    {
     "data": {
      "application/vnd.jupyter.widget-view+json": {
       "model_id": "6b8545866be648aba87f0f26d9e20fe3",
       "version_major": 2,
       "version_minor": 0
      },
      "text/plain": [
       "Epoch   158:   0%|          | 0/10 [00:00<?, ?batch/s]"
      ]
     },
     "metadata": {},
     "output_type": "display_data"
    },
    {
     "name": "stdout",
     "output_type": "stream",
     "text": [
      "Test Accuracy: 32.85%\n"
     ]
    },
    {
     "data": {
      "application/vnd.jupyter.widget-view+json": {
       "model_id": "f39dbcceeee54cd7955131c76e08930b",
       "version_major": 2,
       "version_minor": 0
      },
      "text/plain": [
       "Epoch   159:   0%|          | 0/10 [00:00<?, ?batch/s]"
      ]
     },
     "metadata": {},
     "output_type": "display_data"
    },
    {
     "name": "stdout",
     "output_type": "stream",
     "text": [
      "Test Accuracy: 29.98%\n"
     ]
    },
    {
     "data": {
      "application/vnd.jupyter.widget-view+json": {
       "model_id": "c150eb7fac2e421d9ab041d799197ae2",
       "version_major": 2,
       "version_minor": 0
      },
      "text/plain": [
       "Epoch   160:   0%|          | 0/10 [00:00<?, ?batch/s]"
      ]
     },
     "metadata": {},
     "output_type": "display_data"
    },
    {
     "name": "stdout",
     "output_type": "stream",
     "text": [
      "Test Accuracy: 29.22%\n"
     ]
    },
    {
     "data": {
      "application/vnd.jupyter.widget-view+json": {
       "model_id": "c2075e4b42484e45a2517a1437b71209",
       "version_major": 2,
       "version_minor": 0
      },
      "text/plain": [
       "Epoch   161:   0%|          | 0/10 [00:00<?, ?batch/s]"
      ]
     },
     "metadata": {},
     "output_type": "display_data"
    },
    {
     "name": "stdout",
     "output_type": "stream",
     "text": [
      "Test Accuracy: 32.34%\n"
     ]
    },
    {
     "data": {
      "application/vnd.jupyter.widget-view+json": {
       "model_id": "5025e8ddb959409d814dc011075f5c3a",
       "version_major": 2,
       "version_minor": 0
      },
      "text/plain": [
       "Epoch   162:   0%|          | 0/10 [00:00<?, ?batch/s]"
      ]
     },
     "metadata": {},
     "output_type": "display_data"
    },
    {
     "name": "stdout",
     "output_type": "stream",
     "text": [
      "Test Accuracy: 30.95%\n"
     ]
    },
    {
     "data": {
      "application/vnd.jupyter.widget-view+json": {
       "model_id": "6485c9c060364fdb89ae2c6600619871",
       "version_major": 2,
       "version_minor": 0
      },
      "text/plain": [
       "Epoch   163:   0%|          | 0/10 [00:00<?, ?batch/s]"
      ]
     },
     "metadata": {},
     "output_type": "display_data"
    },
    {
     "name": "stdout",
     "output_type": "stream",
     "text": [
      "Test Accuracy: 30.69%\n"
     ]
    },
    {
     "data": {
      "application/vnd.jupyter.widget-view+json": {
       "model_id": "7719a135650d47d9b7b88eb62795f216",
       "version_major": 2,
       "version_minor": 0
      },
      "text/plain": [
       "Epoch   164:   0%|          | 0/10 [00:00<?, ?batch/s]"
      ]
     },
     "metadata": {},
     "output_type": "display_data"
    },
    {
     "name": "stdout",
     "output_type": "stream",
     "text": [
      "Test Accuracy: 33.25%\n"
     ]
    },
    {
     "data": {
      "application/vnd.jupyter.widget-view+json": {
       "model_id": "01a9fa6842d942f2be8170417aa038e2",
       "version_major": 2,
       "version_minor": 0
      },
      "text/plain": [
       "Epoch   165:   0%|          | 0/10 [00:00<?, ?batch/s]"
      ]
     },
     "metadata": {},
     "output_type": "display_data"
    },
    {
     "name": "stdout",
     "output_type": "stream",
     "text": [
      "Test Accuracy: 33.47%\n"
     ]
    },
    {
     "data": {
      "application/vnd.jupyter.widget-view+json": {
       "model_id": "69d386cea9be4ce1a2da50e6aec2e5e9",
       "version_major": 2,
       "version_minor": 0
      },
      "text/plain": [
       "Epoch   166:   0%|          | 0/11 [00:00<?, ?batch/s]"
      ]
     },
     "metadata": {},
     "output_type": "display_data"
    },
    {
     "name": "stdout",
     "output_type": "stream",
     "text": [
      "Test Accuracy: 30.71%\n"
     ]
    },
    {
     "data": {
      "application/vnd.jupyter.widget-view+json": {
       "model_id": "ab69f638d3eb4e6d9da923a2ed949bcb",
       "version_major": 2,
       "version_minor": 0
      },
      "text/plain": [
       "Epoch   167:   0%|          | 0/11 [00:00<?, ?batch/s]"
      ]
     },
     "metadata": {},
     "output_type": "display_data"
    },
    {
     "name": "stdout",
     "output_type": "stream",
     "text": [
      "Test Accuracy: 28.97%\n"
     ]
    },
    {
     "data": {
      "application/vnd.jupyter.widget-view+json": {
       "model_id": "27dea980782a45f88af204f9bca74cb6",
       "version_major": 2,
       "version_minor": 0
      },
      "text/plain": [
       "Epoch   168:   0%|          | 0/11 [00:00<?, ?batch/s]"
      ]
     },
     "metadata": {},
     "output_type": "display_data"
    },
    {
     "name": "stdout",
     "output_type": "stream",
     "text": [
      "Test Accuracy: 31.47%\n"
     ]
    },
    {
     "data": {
      "application/vnd.jupyter.widget-view+json": {
       "model_id": "565aecbf559446c69eb51ae3e1a155ef",
       "version_major": 2,
       "version_minor": 0
      },
      "text/plain": [
       "Epoch   169:   0%|          | 0/11 [00:00<?, ?batch/s]"
      ]
     },
     "metadata": {},
     "output_type": "display_data"
    },
    {
     "name": "stdout",
     "output_type": "stream",
     "text": [
      "Test Accuracy: 31.48%\n"
     ]
    },
    {
     "data": {
      "application/vnd.jupyter.widget-view+json": {
       "model_id": "c1fca2697b7343caa5d2732c056414c5",
       "version_major": 2,
       "version_minor": 0
      },
      "text/plain": [
       "Epoch   170:   0%|          | 0/11 [00:00<?, ?batch/s]"
      ]
     },
     "metadata": {},
     "output_type": "display_data"
    },
    {
     "name": "stdout",
     "output_type": "stream",
     "text": [
      "Test Accuracy: 33.7%\n"
     ]
    },
    {
     "data": {
      "application/vnd.jupyter.widget-view+json": {
       "model_id": "b685167c27dd4512b2ba1f6368fbf9ce",
       "version_major": 2,
       "version_minor": 0
      },
      "text/plain": [
       "Epoch   171:   0%|          | 0/11 [00:00<?, ?batch/s]"
      ]
     },
     "metadata": {},
     "output_type": "display_data"
    },
    {
     "name": "stdout",
     "output_type": "stream",
     "text": [
      "Test Accuracy: 31.33%\n"
     ]
    },
    {
     "data": {
      "application/vnd.jupyter.widget-view+json": {
       "model_id": "3d7cd3c6d4e04b7d9cc986c505ae8d65",
       "version_major": 2,
       "version_minor": 0
      },
      "text/plain": [
       "Epoch   172:   0%|          | 0/11 [00:00<?, ?batch/s]"
      ]
     },
     "metadata": {},
     "output_type": "display_data"
    },
    {
     "name": "stdout",
     "output_type": "stream",
     "text": [
      "Test Accuracy: 33.54%\n"
     ]
    },
    {
     "data": {
      "application/vnd.jupyter.widget-view+json": {
       "model_id": "90cfda8efff64e87bd60fc27b025466e",
       "version_major": 2,
       "version_minor": 0
      },
      "text/plain": [
       "Epoch   173:   0%|          | 0/11 [00:00<?, ?batch/s]"
      ]
     },
     "metadata": {},
     "output_type": "display_data"
    },
    {
     "name": "stdout",
     "output_type": "stream",
     "text": [
      "Test Accuracy: 30.35%\n"
     ]
    },
    {
     "data": {
      "application/vnd.jupyter.widget-view+json": {
       "model_id": "c54ecf8d792c4a1cb0c1e702f0712359",
       "version_major": 2,
       "version_minor": 0
      },
      "text/plain": [
       "Epoch   174:   0%|          | 0/11 [00:00<?, ?batch/s]"
      ]
     },
     "metadata": {},
     "output_type": "display_data"
    },
    {
     "name": "stdout",
     "output_type": "stream",
     "text": [
      "Test Accuracy: 34.69%\n"
     ]
    },
    {
     "data": {
      "application/vnd.jupyter.widget-view+json": {
       "model_id": "6d28f08aa36f46c5aecf07653e666ba4",
       "version_major": 2,
       "version_minor": 0
      },
      "text/plain": [
       "Epoch   175:   0%|          | 0/11 [00:00<?, ?batch/s]"
      ]
     },
     "metadata": {},
     "output_type": "display_data"
    },
    {
     "name": "stdout",
     "output_type": "stream",
     "text": [
      "Test Accuracy: 31.34%\n"
     ]
    },
    {
     "data": {
      "application/vnd.jupyter.widget-view+json": {
       "model_id": "0a59b6b52d4d4b7c87050cda3d5f21b4",
       "version_major": 2,
       "version_minor": 0
      },
      "text/plain": [
       "Epoch   176:   0%|          | 0/11 [00:00<?, ?batch/s]"
      ]
     },
     "metadata": {},
     "output_type": "display_data"
    },
    {
     "name": "stdout",
     "output_type": "stream",
     "text": [
      "Test Accuracy: 35.2%\n"
     ]
    },
    {
     "data": {
      "application/vnd.jupyter.widget-view+json": {
       "model_id": "58f4939c207d49569c0fe8a69cd95fc9",
       "version_major": 2,
       "version_minor": 0
      },
      "text/plain": [
       "Epoch   177:   0%|          | 0/11 [00:00<?, ?batch/s]"
      ]
     },
     "metadata": {},
     "output_type": "display_data"
    },
    {
     "name": "stdout",
     "output_type": "stream",
     "text": [
      "Test Accuracy: 33.5%\n"
     ]
    },
    {
     "data": {
      "application/vnd.jupyter.widget-view+json": {
       "model_id": "b615050fc167487892502e4905d8295b",
       "version_major": 2,
       "version_minor": 0
      },
      "text/plain": [
       "Epoch   178:   0%|          | 0/11 [00:00<?, ?batch/s]"
      ]
     },
     "metadata": {},
     "output_type": "display_data"
    },
    {
     "name": "stdout",
     "output_type": "stream",
     "text": [
      "Test Accuracy: 30.78%\n"
     ]
    },
    {
     "data": {
      "application/vnd.jupyter.widget-view+json": {
       "model_id": "72a38034d7bc40c4a9156e63deccb2a5",
       "version_major": 2,
       "version_minor": 0
      },
      "text/plain": [
       "Epoch   179:   0%|          | 0/11 [00:00<?, ?batch/s]"
      ]
     },
     "metadata": {},
     "output_type": "display_data"
    },
    {
     "name": "stdout",
     "output_type": "stream",
     "text": [
      "Test Accuracy: 33.5%\n"
     ]
    },
    {
     "data": {
      "application/vnd.jupyter.widget-view+json": {
       "model_id": "79136eca3f0a4a509d84f9c53a879fcf",
       "version_major": 2,
       "version_minor": 0
      },
      "text/plain": [
       "Epoch   180:   0%|          | 0/11 [00:00<?, ?batch/s]"
      ]
     },
     "metadata": {},
     "output_type": "display_data"
    },
    {
     "name": "stdout",
     "output_type": "stream",
     "text": [
      "Test Accuracy: 32.91%\n"
     ]
    },
    {
     "data": {
      "application/vnd.jupyter.widget-view+json": {
       "model_id": "fed655face504f82aa53220a667daca8",
       "version_major": 2,
       "version_minor": 0
      },
      "text/plain": [
       "Epoch   181:   0%|          | 0/11 [00:00<?, ?batch/s]"
      ]
     },
     "metadata": {},
     "output_type": "display_data"
    },
    {
     "name": "stdout",
     "output_type": "stream",
     "text": [
      "Test Accuracy: 33.94%\n"
     ]
    },
    {
     "data": {
      "application/vnd.jupyter.widget-view+json": {
       "model_id": "7bbd65d8a0df4aed8a60a997e5324c1d",
       "version_major": 2,
       "version_minor": 0
      },
      "text/plain": [
       "Epoch   182:   0%|          | 0/12 [00:00<?, ?batch/s]"
      ]
     },
     "metadata": {},
     "output_type": "display_data"
    },
    {
     "name": "stdout",
     "output_type": "stream",
     "text": [
      "Test Accuracy: 35.77%\n"
     ]
    },
    {
     "data": {
      "application/vnd.jupyter.widget-view+json": {
       "model_id": "04147500adbc483c80c6027c63d63aad",
       "version_major": 2,
       "version_minor": 0
      },
      "text/plain": [
       "Epoch   183:   0%|          | 0/12 [00:00<?, ?batch/s]"
      ]
     },
     "metadata": {},
     "output_type": "display_data"
    },
    {
     "name": "stdout",
     "output_type": "stream",
     "text": [
      "Test Accuracy: 31.29%\n"
     ]
    },
    {
     "data": {
      "application/vnd.jupyter.widget-view+json": {
       "model_id": "8f436aaf59f3436eb3f1af9798aa58de",
       "version_major": 2,
       "version_minor": 0
      },
      "text/plain": [
       "Epoch   184:   0%|          | 0/12 [00:00<?, ?batch/s]"
      ]
     },
     "metadata": {},
     "output_type": "display_data"
    },
    {
     "name": "stdout",
     "output_type": "stream",
     "text": [
      "Test Accuracy: 33.69%\n"
     ]
    },
    {
     "data": {
      "application/vnd.jupyter.widget-view+json": {
       "model_id": "cfe1bc930cf44ef2be46493ebae946ca",
       "version_major": 2,
       "version_minor": 0
      },
      "text/plain": [
       "Epoch   185:   0%|          | 0/12 [00:00<?, ?batch/s]"
      ]
     },
     "metadata": {},
     "output_type": "display_data"
    },
    {
     "name": "stdout",
     "output_type": "stream",
     "text": [
      "Test Accuracy: 32.96%\n"
     ]
    },
    {
     "data": {
      "application/vnd.jupyter.widget-view+json": {
       "model_id": "80c85718e63d4e99b19a072a4a8768d6",
       "version_major": 2,
       "version_minor": 0
      },
      "text/plain": [
       "Epoch   186:   0%|          | 0/12 [00:00<?, ?batch/s]"
      ]
     },
     "metadata": {},
     "output_type": "display_data"
    },
    {
     "name": "stdout",
     "output_type": "stream",
     "text": [
      "Test Accuracy: 32.49%\n"
     ]
    },
    {
     "data": {
      "application/vnd.jupyter.widget-view+json": {
       "model_id": "eb1edca6077c433cb3645b026ee96e52",
       "version_major": 2,
       "version_minor": 0
      },
      "text/plain": [
       "Epoch   187:   0%|          | 0/12 [00:00<?, ?batch/s]"
      ]
     },
     "metadata": {},
     "output_type": "display_data"
    },
    {
     "name": "stdout",
     "output_type": "stream",
     "text": [
      "Test Accuracy: 30.52%\n"
     ]
    },
    {
     "data": {
      "application/vnd.jupyter.widget-view+json": {
       "model_id": "a52667013f8640068ba017de3b418727",
       "version_major": 2,
       "version_minor": 0
      },
      "text/plain": [
       "Epoch   188:   0%|          | 0/12 [00:00<?, ?batch/s]"
      ]
     },
     "metadata": {},
     "output_type": "display_data"
    },
    {
     "name": "stdout",
     "output_type": "stream",
     "text": [
      "Test Accuracy: 34.46%\n"
     ]
    },
    {
     "data": {
      "application/vnd.jupyter.widget-view+json": {
       "model_id": "232de6856a9c4f88b3aea45f0f5583eb",
       "version_major": 2,
       "version_minor": 0
      },
      "text/plain": [
       "Epoch   189:   0%|          | 0/13 [00:00<?, ?batch/s]"
      ]
     },
     "metadata": {},
     "output_type": "display_data"
    },
    {
     "name": "stdout",
     "output_type": "stream",
     "text": [
      "Test Accuracy: 27.69%\n"
     ]
    },
    {
     "data": {
      "application/vnd.jupyter.widget-view+json": {
       "model_id": "9dd70ee095f4419fb9501670864620ad",
       "version_major": 2,
       "version_minor": 0
      },
      "text/plain": [
       "Epoch   190:   0%|          | 0/13 [00:00<?, ?batch/s]"
      ]
     },
     "metadata": {},
     "output_type": "display_data"
    },
    {
     "name": "stdout",
     "output_type": "stream",
     "text": [
      "Test Accuracy: 34.79%\n"
     ]
    },
    {
     "data": {
      "application/vnd.jupyter.widget-view+json": {
       "model_id": "1efb1c20d7d24294994f02d2abd16615",
       "version_major": 2,
       "version_minor": 0
      },
      "text/plain": [
       "Epoch   191:   0%|          | 0/13 [00:00<?, ?batch/s]"
      ]
     },
     "metadata": {},
     "output_type": "display_data"
    },
    {
     "name": "stdout",
     "output_type": "stream",
     "text": [
      "Test Accuracy: 33.59%\n"
     ]
    },
    {
     "data": {
      "application/vnd.jupyter.widget-view+json": {
       "model_id": "ca5d1f4f4a0145b7aa8ad5b7a85f55d9",
       "version_major": 2,
       "version_minor": 0
      },
      "text/plain": [
       "Epoch   192:   0%|          | 0/13 [00:00<?, ?batch/s]"
      ]
     },
     "metadata": {},
     "output_type": "display_data"
    },
    {
     "name": "stdout",
     "output_type": "stream",
     "text": [
      "Test Accuracy: 33.37%\n"
     ]
    },
    {
     "data": {
      "application/vnd.jupyter.widget-view+json": {
       "model_id": "e58c8fb6b5a745e3bde9822ea29c4816",
       "version_major": 2,
       "version_minor": 0
      },
      "text/plain": [
       "Epoch   193:   0%|          | 0/13 [00:00<?, ?batch/s]"
      ]
     },
     "metadata": {},
     "output_type": "display_data"
    },
    {
     "name": "stdout",
     "output_type": "stream",
     "text": [
      "Test Accuracy: 33.65%\n"
     ]
    },
    {
     "data": {
      "application/vnd.jupyter.widget-view+json": {
       "model_id": "d0cb90afec95435b849548afb8055f23",
       "version_major": 2,
       "version_minor": 0
      },
      "text/plain": [
       "Epoch   194:   0%|          | 0/13 [00:00<?, ?batch/s]"
      ]
     },
     "metadata": {},
     "output_type": "display_data"
    },
    {
     "name": "stdout",
     "output_type": "stream",
     "text": [
      "Test Accuracy: 31.41%\n"
     ]
    },
    {
     "data": {
      "application/vnd.jupyter.widget-view+json": {
       "model_id": "1ef56ba02ecc4a988fef50cb01f6d604",
       "version_major": 2,
       "version_minor": 0
      },
      "text/plain": [
       "Epoch   195:   0%|          | 0/13 [00:00<?, ?batch/s]"
      ]
     },
     "metadata": {},
     "output_type": "display_data"
    },
    {
     "name": "stdout",
     "output_type": "stream",
     "text": [
      "Test Accuracy: 33.0%\n"
     ]
    },
    {
     "data": {
      "application/vnd.jupyter.widget-view+json": {
       "model_id": "89cf8a080cba48649a0e96a0fc491b9d",
       "version_major": 2,
       "version_minor": 0
      },
      "text/plain": [
       "Epoch   196:   0%|          | 0/14 [00:00<?, ?batch/s]"
      ]
     },
     "metadata": {},
     "output_type": "display_data"
    },
    {
     "name": "stdout",
     "output_type": "stream",
     "text": [
      "Test Accuracy: 33.42%\n"
     ]
    },
    {
     "data": {
      "application/vnd.jupyter.widget-view+json": {
       "model_id": "667311d5a69d4a6d81f35cba91b9641d",
       "version_major": 2,
       "version_minor": 0
      },
      "text/plain": [
       "Epoch   197:   0%|          | 0/14 [00:00<?, ?batch/s]"
      ]
     },
     "metadata": {},
     "output_type": "display_data"
    },
    {
     "name": "stdout",
     "output_type": "stream",
     "text": [
      "Test Accuracy: 32.57%\n"
     ]
    },
    {
     "data": {
      "application/vnd.jupyter.widget-view+json": {
       "model_id": "ae67480e70ba45a09baa514a9d8cc0cb",
       "version_major": 2,
       "version_minor": 0
      },
      "text/plain": [
       "Epoch   198:   0%|          | 0/14 [00:00<?, ?batch/s]"
      ]
     },
     "metadata": {},
     "output_type": "display_data"
    },
    {
     "name": "stdout",
     "output_type": "stream",
     "text": [
      "Test Accuracy: 30.7%\n"
     ]
    },
    {
     "data": {
      "application/vnd.jupyter.widget-view+json": {
       "model_id": "78de5a90c6454ab4b06f59117f883e96",
       "version_major": 2,
       "version_minor": 0
      },
      "text/plain": [
       "Epoch   199:   0%|          | 0/14 [00:00<?, ?batch/s]"
      ]
     },
     "metadata": {},
     "output_type": "display_data"
    },
    {
     "name": "stdout",
     "output_type": "stream",
     "text": [
      "Test Accuracy: 32.52%\n"
     ]
    },
    {
     "data": {
      "application/vnd.jupyter.widget-view+json": {
       "model_id": "6114b3709b4e4b698db2286508639934",
       "version_major": 2,
       "version_minor": 0
      },
      "text/plain": [
       "Epoch   200:   0%|          | 0/14 [00:00<?, ?batch/s]"
      ]
     },
     "metadata": {},
     "output_type": "display_data"
    },
    {
     "name": "stdout",
     "output_type": "stream",
     "text": [
      "Test Accuracy: 33.37%\n"
     ]
    },
    {
     "data": {
      "application/vnd.jupyter.widget-view+json": {
       "model_id": "c8f4d2d21a7b45c7b7116c619bf15a8c",
       "version_major": 2,
       "version_minor": 0
      },
      "text/plain": [
       "Epoch   201:   0%|          | 0/14 [00:00<?, ?batch/s]"
      ]
     },
     "metadata": {},
     "output_type": "display_data"
    },
    {
     "name": "stdout",
     "output_type": "stream",
     "text": [
      "Test Accuracy: 32.06%\n"
     ]
    },
    {
     "data": {
      "application/vnd.jupyter.widget-view+json": {
       "model_id": "a5a1c7aece00418a91268d57042dd11c",
       "version_major": 2,
       "version_minor": 0
      },
      "text/plain": [
       "Epoch   202:   0%|          | 0/15 [00:00<?, ?batch/s]"
      ]
     },
     "metadata": {},
     "output_type": "display_data"
    },
    {
     "name": "stdout",
     "output_type": "stream",
     "text": [
      "Test Accuracy: 31.92%\n"
     ]
    },
    {
     "data": {
      "application/vnd.jupyter.widget-view+json": {
       "model_id": "3f36889e5f264469997133ec85b8321b",
       "version_major": 2,
       "version_minor": 0
      },
      "text/plain": [
       "Epoch   203:   0%|          | 0/15 [00:00<?, ?batch/s]"
      ]
     },
     "metadata": {},
     "output_type": "display_data"
    },
    {
     "name": "stdout",
     "output_type": "stream",
     "text": [
      "Test Accuracy: 27.41%\n"
     ]
    },
    {
     "data": {
      "application/vnd.jupyter.widget-view+json": {
       "model_id": "34122bc476de4e618b4041280e5d6950",
       "version_major": 2,
       "version_minor": 0
      },
      "text/plain": [
       "Epoch   204:   0%|          | 0/15 [00:00<?, ?batch/s]"
      ]
     },
     "metadata": {},
     "output_type": "display_data"
    },
    {
     "name": "stdout",
     "output_type": "stream",
     "text": [
      "Test Accuracy: 29.63%\n"
     ]
    },
    {
     "data": {
      "application/vnd.jupyter.widget-view+json": {
       "model_id": "f74e97d6b02141d99376ffa40e75f212",
       "version_major": 2,
       "version_minor": 0
      },
      "text/plain": [
       "Epoch   205:   0%|          | 0/15 [00:00<?, ?batch/s]"
      ]
     },
     "metadata": {},
     "output_type": "display_data"
    },
    {
     "name": "stdout",
     "output_type": "stream",
     "text": [
      "Test Accuracy: 31.43%\n"
     ]
    },
    {
     "data": {
      "application/vnd.jupyter.widget-view+json": {
       "model_id": "281b084631ca4eb0a138680229bec921",
       "version_major": 2,
       "version_minor": 0
      },
      "text/plain": [
       "Epoch   206:   0%|          | 0/15 [00:00<?, ?batch/s]"
      ]
     },
     "metadata": {},
     "output_type": "display_data"
    },
    {
     "name": "stdout",
     "output_type": "stream",
     "text": [
      "Test Accuracy: 32.88%\n"
     ]
    },
    {
     "data": {
      "application/vnd.jupyter.widget-view+json": {
       "model_id": "0f4aa2c2624841b78244cd7c55fab2dc",
       "version_major": 2,
       "version_minor": 0
      },
      "text/plain": [
       "Epoch   207:   0%|          | 0/15 [00:00<?, ?batch/s]"
      ]
     },
     "metadata": {},
     "output_type": "display_data"
    },
    {
     "name": "stdout",
     "output_type": "stream",
     "text": [
      "Test Accuracy: 33.59%\n"
     ]
    },
    {
     "data": {
      "application/vnd.jupyter.widget-view+json": {
       "model_id": "7f7ff7b4af874176b8f0edcacf0e9430",
       "version_major": 2,
       "version_minor": 0
      },
      "text/plain": [
       "Epoch   208:   0%|          | 0/15 [00:00<?, ?batch/s]"
      ]
     },
     "metadata": {},
     "output_type": "display_data"
    },
    {
     "name": "stdout",
     "output_type": "stream",
     "text": [
      "Test Accuracy: 31.62%\n"
     ]
    },
    {
     "data": {
      "application/vnd.jupyter.widget-view+json": {
       "model_id": "804bc3722a184901beb07ea4d061dd5a",
       "version_major": 2,
       "version_minor": 0
      },
      "text/plain": [
       "Epoch   209:   0%|          | 0/15 [00:00<?, ?batch/s]"
      ]
     },
     "metadata": {},
     "output_type": "display_data"
    },
    {
     "name": "stdout",
     "output_type": "stream",
     "text": [
      "Test Accuracy: 35.3%\n"
     ]
    },
    {
     "data": {
      "application/vnd.jupyter.widget-view+json": {
       "model_id": "b6341150043d489f8c163a344ff9bb73",
       "version_major": 2,
       "version_minor": 0
      },
      "text/plain": [
       "Epoch   210:   0%|          | 0/15 [00:00<?, ?batch/s]"
      ]
     },
     "metadata": {},
     "output_type": "display_data"
    },
    {
     "name": "stdout",
     "output_type": "stream",
     "text": [
      "Test Accuracy: 33.11%\n"
     ]
    },
    {
     "data": {
      "application/vnd.jupyter.widget-view+json": {
       "model_id": "91109c00a43f45808a4bb4fbc6e1ae50",
       "version_major": 2,
       "version_minor": 0
      },
      "text/plain": [
       "Epoch   211:   0%|          | 0/15 [00:00<?, ?batch/s]"
      ]
     },
     "metadata": {},
     "output_type": "display_data"
    },
    {
     "name": "stdout",
     "output_type": "stream",
     "text": [
      "Test Accuracy: 31.72%\n"
     ]
    },
    {
     "data": {
      "application/vnd.jupyter.widget-view+json": {
       "model_id": "05bcc6ae53d84d71aebf9af0b4f97847",
       "version_major": 2,
       "version_minor": 0
      },
      "text/plain": [
       "Epoch   212:   0%|          | 0/15 [00:00<?, ?batch/s]"
      ]
     },
     "metadata": {},
     "output_type": "display_data"
    },
    {
     "name": "stdout",
     "output_type": "stream",
     "text": [
      "Test Accuracy: 33.11%\n"
     ]
    },
    {
     "data": {
      "application/vnd.jupyter.widget-view+json": {
       "model_id": "68aac3fafa6c444a9ec3db724937c59b",
       "version_major": 2,
       "version_minor": 0
      },
      "text/plain": [
       "Epoch   213:   0%|          | 0/15 [00:00<?, ?batch/s]"
      ]
     },
     "metadata": {},
     "output_type": "display_data"
    },
    {
     "name": "stdout",
     "output_type": "stream",
     "text": [
      "Test Accuracy: 34.4%\n"
     ]
    },
    {
     "data": {
      "application/vnd.jupyter.widget-view+json": {
       "model_id": "1a51729ca8f84242873d7a70390128c1",
       "version_major": 2,
       "version_minor": 0
      },
      "text/plain": [
       "Epoch   214:   0%|          | 0/16 [00:00<?, ?batch/s]"
      ]
     },
     "metadata": {},
     "output_type": "display_data"
    },
    {
     "name": "stdout",
     "output_type": "stream",
     "text": [
      "Test Accuracy: 35.43%\n"
     ]
    },
    {
     "data": {
      "application/vnd.jupyter.widget-view+json": {
       "model_id": "36fb5f363cbc418885aa8bfccb20a504",
       "version_major": 2,
       "version_minor": 0
      },
      "text/plain": [
       "Epoch   215:   0%|          | 0/16 [00:00<?, ?batch/s]"
      ]
     },
     "metadata": {},
     "output_type": "display_data"
    },
    {
     "name": "stdout",
     "output_type": "stream",
     "text": [
      "Test Accuracy: 34.0%\n"
     ]
    },
    {
     "data": {
      "application/vnd.jupyter.widget-view+json": {
       "model_id": "bd0300fef8ed42c88b4ac716db33f232",
       "version_major": 2,
       "version_minor": 0
      },
      "text/plain": [
       "Epoch   216:   0%|          | 0/16 [00:00<?, ?batch/s]"
      ]
     },
     "metadata": {},
     "output_type": "display_data"
    },
    {
     "name": "stdout",
     "output_type": "stream",
     "text": [
      "Test Accuracy: 32.57%\n"
     ]
    },
    {
     "data": {
      "application/vnd.jupyter.widget-view+json": {
       "model_id": "9b384dd265584e01acef9449791f3e00",
       "version_major": 2,
       "version_minor": 0
      },
      "text/plain": [
       "Epoch   217:   0%|          | 0/16 [00:00<?, ?batch/s]"
      ]
     },
     "metadata": {},
     "output_type": "display_data"
    },
    {
     "name": "stdout",
     "output_type": "stream",
     "text": [
      "Test Accuracy: 30.48%\n"
     ]
    },
    {
     "data": {
      "application/vnd.jupyter.widget-view+json": {
       "model_id": "d360c7992349477d860891c21e24dae0",
       "version_major": 2,
       "version_minor": 0
      },
      "text/plain": [
       "Epoch   218:   0%|          | 0/16 [00:00<?, ?batch/s]"
      ]
     },
     "metadata": {},
     "output_type": "display_data"
    },
    {
     "name": "stdout",
     "output_type": "stream",
     "text": [
      "Test Accuracy: 31.96%\n"
     ]
    },
    {
     "data": {
      "application/vnd.jupyter.widget-view+json": {
       "model_id": "0d68880eb8e7447e99f03b0b3e387a2a",
       "version_major": 2,
       "version_minor": 0
      },
      "text/plain": [
       "Epoch   219:   0%|          | 0/17 [00:00<?, ?batch/s]"
      ]
     },
     "metadata": {},
     "output_type": "display_data"
    },
    {
     "name": "stdout",
     "output_type": "stream",
     "text": [
      "Test Accuracy: 32.54%\n"
     ]
    },
    {
     "data": {
      "application/vnd.jupyter.widget-view+json": {
       "model_id": "0ccfcf55a1884f78bf008f4990221810",
       "version_major": 2,
       "version_minor": 0
      },
      "text/plain": [
       "Epoch   220:   0%|          | 0/17 [00:00<?, ?batch/s]"
      ]
     },
     "metadata": {},
     "output_type": "display_data"
    },
    {
     "name": "stdout",
     "output_type": "stream",
     "text": [
      "Test Accuracy: 28.83%\n"
     ]
    },
    {
     "data": {
      "application/vnd.jupyter.widget-view+json": {
       "model_id": "c014d0db5f04417a81eec93615554e34",
       "version_major": 2,
       "version_minor": 0
      },
      "text/plain": [
       "Epoch   221:   0%|          | 0/17 [00:00<?, ?batch/s]"
      ]
     },
     "metadata": {},
     "output_type": "display_data"
    },
    {
     "name": "stdout",
     "output_type": "stream",
     "text": [
      "Test Accuracy: 33.59%\n"
     ]
    },
    {
     "data": {
      "application/vnd.jupyter.widget-view+json": {
       "model_id": "9fb5933bd2d04310974eb226f99ecf3e",
       "version_major": 2,
       "version_minor": 0
      },
      "text/plain": [
       "Epoch   222:   0%|          | 0/17 [00:00<?, ?batch/s]"
      ]
     },
     "metadata": {},
     "output_type": "display_data"
    },
    {
     "name": "stdout",
     "output_type": "stream",
     "text": [
      "Test Accuracy: 32.99%\n"
     ]
    },
    {
     "data": {
      "application/vnd.jupyter.widget-view+json": {
       "model_id": "c68892a033b04505b19976417eb2ff0c",
       "version_major": 2,
       "version_minor": 0
      },
      "text/plain": [
       "Epoch   223:   0%|          | 0/17 [00:00<?, ?batch/s]"
      ]
     },
     "metadata": {},
     "output_type": "display_data"
    },
    {
     "name": "stdout",
     "output_type": "stream",
     "text": [
      "Test Accuracy: 27.79%\n"
     ]
    },
    {
     "data": {
      "application/vnd.jupyter.widget-view+json": {
       "model_id": "f0015c232c314d338a0ca8bdf669d61d",
       "version_major": 2,
       "version_minor": 0
      },
      "text/plain": [
       "Epoch   224:   0%|          | 0/18 [00:00<?, ?batch/s]"
      ]
     },
     "metadata": {},
     "output_type": "display_data"
    },
    {
     "name": "stdout",
     "output_type": "stream",
     "text": [
      "Test Accuracy: 34.74%\n"
     ]
    },
    {
     "data": {
      "application/vnd.jupyter.widget-view+json": {
       "model_id": "59e7abe267b04b1b9fb3393486b4b8bc",
       "version_major": 2,
       "version_minor": 0
      },
      "text/plain": [
       "Epoch   225:   0%|          | 0/18 [00:00<?, ?batch/s]"
      ]
     },
     "metadata": {},
     "output_type": "display_data"
    },
    {
     "name": "stdout",
     "output_type": "stream",
     "text": [
      "Test Accuracy: 30.97%\n"
     ]
    },
    {
     "data": {
      "application/vnd.jupyter.widget-view+json": {
       "model_id": "8d2dab72d2a443d495fc768b1a848c9d",
       "version_major": 2,
       "version_minor": 0
      },
      "text/plain": [
       "Epoch   226:   0%|          | 0/18 [00:00<?, ?batch/s]"
      ]
     },
     "metadata": {},
     "output_type": "display_data"
    },
    {
     "name": "stdout",
     "output_type": "stream",
     "text": [
      "Test Accuracy: 35.39%\n"
     ]
    },
    {
     "data": {
      "application/vnd.jupyter.widget-view+json": {
       "model_id": "6665c79e48754ac88076c4ee0606f37d",
       "version_major": 2,
       "version_minor": 0
      },
      "text/plain": [
       "Epoch   227:   0%|          | 0/18 [00:00<?, ?batch/s]"
      ]
     },
     "metadata": {},
     "output_type": "display_data"
    },
    {
     "name": "stdout",
     "output_type": "stream",
     "text": [
      "Test Accuracy: 31.94%\n"
     ]
    },
    {
     "data": {
      "application/vnd.jupyter.widget-view+json": {
       "model_id": "752bbfd4a5f3487e982a8588d0e7e62e",
       "version_major": 2,
       "version_minor": 0
      },
      "text/plain": [
       "Epoch   228:   0%|          | 0/18 [00:00<?, ?batch/s]"
      ]
     },
     "metadata": {},
     "output_type": "display_data"
    },
    {
     "name": "stdout",
     "output_type": "stream",
     "text": [
      "Test Accuracy: 32.68%\n"
     ]
    },
    {
     "data": {
      "application/vnd.jupyter.widget-view+json": {
       "model_id": "302e896d20cd407082c57806cffdcb7a",
       "version_major": 2,
       "version_minor": 0
      },
      "text/plain": [
       "Epoch   229:   0%|          | 0/18 [00:00<?, ?batch/s]"
      ]
     },
     "metadata": {},
     "output_type": "display_data"
    },
    {
     "name": "stdout",
     "output_type": "stream",
     "text": [
      "Test Accuracy: 35.03%\n"
     ]
    },
    {
     "data": {
      "application/vnd.jupyter.widget-view+json": {
       "model_id": "e1d354da6f714a4c9d76be0581dc87ac",
       "version_major": 2,
       "version_minor": 0
      },
      "text/plain": [
       "Epoch   230:   0%|          | 0/18 [00:00<?, ?batch/s]"
      ]
     },
     "metadata": {},
     "output_type": "display_data"
    },
    {
     "name": "stdout",
     "output_type": "stream",
     "text": [
      "Test Accuracy: 36.21%\n"
     ]
    },
    {
     "data": {
      "application/vnd.jupyter.widget-view+json": {
       "model_id": "e8b956f7335d4e5c8d904600fa2cfd89",
       "version_major": 2,
       "version_minor": 0
      },
      "text/plain": [
       "Epoch   231:   0%|          | 0/18 [00:00<?, ?batch/s]"
      ]
     },
     "metadata": {},
     "output_type": "display_data"
    },
    {
     "name": "stdout",
     "output_type": "stream",
     "text": [
      "Test Accuracy: 32.69%\n"
     ]
    },
    {
     "data": {
      "application/vnd.jupyter.widget-view+json": {
       "model_id": "7431e085fc144b25bc7c737617d8e31f",
       "version_major": 2,
       "version_minor": 0
      },
      "text/plain": [
       "Epoch   232:   0%|          | 0/18 [00:00<?, ?batch/s]"
      ]
     },
     "metadata": {},
     "output_type": "display_data"
    },
    {
     "name": "stdout",
     "output_type": "stream",
     "text": [
      "Test Accuracy: 33.36%\n"
     ]
    },
    {
     "data": {
      "application/vnd.jupyter.widget-view+json": {
       "model_id": "02827865694a4f1298bbedff0d13ee72",
       "version_major": 2,
       "version_minor": 0
      },
      "text/plain": [
       "Epoch   233:   0%|          | 0/18 [00:00<?, ?batch/s]"
      ]
     },
     "metadata": {},
     "output_type": "display_data"
    },
    {
     "name": "stdout",
     "output_type": "stream",
     "text": [
      "Test Accuracy: 31.83%\n"
     ]
    },
    {
     "data": {
      "application/vnd.jupyter.widget-view+json": {
       "model_id": "94078813de1341ea86ab4b27f656dd4b",
       "version_major": 2,
       "version_minor": 0
      },
      "text/plain": [
       "Epoch   234:   0%|          | 0/19 [00:00<?, ?batch/s]"
      ]
     },
     "metadata": {},
     "output_type": "display_data"
    },
    {
     "name": "stdout",
     "output_type": "stream",
     "text": [
      "Test Accuracy: 36.06%\n"
     ]
    },
    {
     "data": {
      "application/vnd.jupyter.widget-view+json": {
       "model_id": "dde5af574de34aa0b33d406b3a962d2b",
       "version_major": 2,
       "version_minor": 0
      },
      "text/plain": [
       "Epoch   235:   0%|          | 0/19 [00:00<?, ?batch/s]"
      ]
     },
     "metadata": {},
     "output_type": "display_data"
    },
    {
     "name": "stdout",
     "output_type": "stream",
     "text": [
      "Test Accuracy: 33.9%\n"
     ]
    },
    {
     "data": {
      "application/vnd.jupyter.widget-view+json": {
       "model_id": "11c8c18f78c1430899b473c7e5c8c7a4",
       "version_major": 2,
       "version_minor": 0
      },
      "text/plain": [
       "Epoch   236:   0%|          | 0/19 [00:00<?, ?batch/s]"
      ]
     },
     "metadata": {},
     "output_type": "display_data"
    },
    {
     "name": "stdout",
     "output_type": "stream",
     "text": [
      "Test Accuracy: 35.11%\n"
     ]
    },
    {
     "data": {
      "application/vnd.jupyter.widget-view+json": {
       "model_id": "ae1bc3e41f434c4e98be54c82a729cf5",
       "version_major": 2,
       "version_minor": 0
      },
      "text/plain": [
       "Epoch   237:   0%|          | 0/19 [00:00<?, ?batch/s]"
      ]
     },
     "metadata": {},
     "output_type": "display_data"
    },
    {
     "name": "stdout",
     "output_type": "stream",
     "text": [
      "Test Accuracy: 34.07%\n"
     ]
    },
    {
     "data": {
      "application/vnd.jupyter.widget-view+json": {
       "model_id": "6b4cc009646a43019cc0d9a562361e1e",
       "version_major": 2,
       "version_minor": 0
      },
      "text/plain": [
       "Epoch   238:   0%|          | 0/19 [00:00<?, ?batch/s]"
      ]
     },
     "metadata": {},
     "output_type": "display_data"
    },
    {
     "name": "stdout",
     "output_type": "stream",
     "text": [
      "Test Accuracy: 33.44%\n"
     ]
    },
    {
     "data": {
      "application/vnd.jupyter.widget-view+json": {
       "model_id": "1865463a8b844a368612eb906707cc4e",
       "version_major": 2,
       "version_minor": 0
      },
      "text/plain": [
       "Epoch   239:   0%|          | 0/20 [00:00<?, ?batch/s]"
      ]
     },
     "metadata": {},
     "output_type": "display_data"
    },
    {
     "name": "stdout",
     "output_type": "stream",
     "text": [
      "Test Accuracy: 33.81%\n"
     ]
    },
    {
     "data": {
      "application/vnd.jupyter.widget-view+json": {
       "model_id": "f3c11f023a66490a91278864469bad44",
       "version_major": 2,
       "version_minor": 0
      },
      "text/plain": [
       "Epoch   240:   0%|          | 0/20 [00:00<?, ?batch/s]"
      ]
     },
     "metadata": {},
     "output_type": "display_data"
    },
    {
     "name": "stdout",
     "output_type": "stream",
     "text": [
      "Test Accuracy: 35.16%\n"
     ]
    },
    {
     "data": {
      "application/vnd.jupyter.widget-view+json": {
       "model_id": "fc6a278299d142408ca856488038ec8b",
       "version_major": 2,
       "version_minor": 0
      },
      "text/plain": [
       "Epoch   241:   0%|          | 0/20 [00:00<?, ?batch/s]"
      ]
     },
     "metadata": {},
     "output_type": "display_data"
    },
    {
     "name": "stdout",
     "output_type": "stream",
     "text": [
      "Test Accuracy: 33.58%\n"
     ]
    },
    {
     "data": {
      "application/vnd.jupyter.widget-view+json": {
       "model_id": "85cbfe98325f41f8960df1477c11b0a3",
       "version_major": 2,
       "version_minor": 0
      },
      "text/plain": [
       "Epoch   242:   0%|          | 0/20 [00:00<?, ?batch/s]"
      ]
     },
     "metadata": {},
     "output_type": "display_data"
    },
    {
     "name": "stdout",
     "output_type": "stream",
     "text": [
      "Test Accuracy: 33.33%\n"
     ]
    },
    {
     "data": {
      "application/vnd.jupyter.widget-view+json": {
       "model_id": "5d172ed7e0334bb494b0b942c45da7ce",
       "version_major": 2,
       "version_minor": 0
      },
      "text/plain": [
       "Epoch   243:   0%|          | 0/21 [00:00<?, ?batch/s]"
      ]
     },
     "metadata": {},
     "output_type": "display_data"
    },
    {
     "name": "stdout",
     "output_type": "stream",
     "text": [
      "Test Accuracy: 36.14%\n"
     ]
    },
    {
     "data": {
      "application/vnd.jupyter.widget-view+json": {
       "model_id": "bf41b8c91e1b48768e1483fbccb4ffce",
       "version_major": 2,
       "version_minor": 0
      },
      "text/plain": [
       "Epoch   244:   0%|          | 0/21 [00:00<?, ?batch/s]"
      ]
     },
     "metadata": {},
     "output_type": "display_data"
    },
    {
     "name": "stdout",
     "output_type": "stream",
     "text": [
      "Test Accuracy: 27.65%\n"
     ]
    },
    {
     "data": {
      "application/vnd.jupyter.widget-view+json": {
       "model_id": "548632b48dd641ee84e972b37595f85b",
       "version_major": 2,
       "version_minor": 0
      },
      "text/plain": [
       "Epoch   245:   0%|          | 0/21 [00:00<?, ?batch/s]"
      ]
     },
     "metadata": {},
     "output_type": "display_data"
    },
    {
     "name": "stdout",
     "output_type": "stream",
     "text": [
      "Test Accuracy: 29.72%\n"
     ]
    },
    {
     "data": {
      "application/vnd.jupyter.widget-view+json": {
       "model_id": "5cdadd029fe84d83adaf2cf31b336570",
       "version_major": 2,
       "version_minor": 0
      },
      "text/plain": [
       "Epoch   246:   0%|          | 0/21 [00:00<?, ?batch/s]"
      ]
     },
     "metadata": {},
     "output_type": "display_data"
    },
    {
     "name": "stdout",
     "output_type": "stream",
     "text": [
      "Test Accuracy: 32.98%\n"
     ]
    },
    {
     "data": {
      "application/vnd.jupyter.widget-view+json": {
       "model_id": "4dc549ffa2a24caba2a17e1b8bcf3e6a",
       "version_major": 2,
       "version_minor": 0
      },
      "text/plain": [
       "Epoch   247:   0%|          | 0/22 [00:00<?, ?batch/s]"
      ]
     },
     "metadata": {},
     "output_type": "display_data"
    },
    {
     "name": "stdout",
     "output_type": "stream",
     "text": [
      "Test Accuracy: 34.51%\n"
     ]
    },
    {
     "data": {
      "application/vnd.jupyter.widget-view+json": {
       "model_id": "a89767955ffd4830aa996a04fbcbf0e4",
       "version_major": 2,
       "version_minor": 0
      },
      "text/plain": [
       "Epoch   248:   0%|          | 0/22 [00:00<?, ?batch/s]"
      ]
     },
     "metadata": {},
     "output_type": "display_data"
    },
    {
     "name": "stdout",
     "output_type": "stream",
     "text": [
      "Test Accuracy: 34.52%\n"
     ]
    },
    {
     "data": {
      "application/vnd.jupyter.widget-view+json": {
       "model_id": "7ace6f9905464fc5bf6e06cb5648d370",
       "version_major": 2,
       "version_minor": 0
      },
      "text/plain": [
       "Epoch   249:   0%|          | 0/22 [00:00<?, ?batch/s]"
      ]
     },
     "metadata": {},
     "output_type": "display_data"
    },
    {
     "name": "stdout",
     "output_type": "stream",
     "text": [
      "Test Accuracy: 30.03%\n"
     ]
    },
    {
     "data": {
      "application/vnd.jupyter.widget-view+json": {
       "model_id": "272ac631f4a8401b9ce806a932b58624",
       "version_major": 2,
       "version_minor": 0
      },
      "text/plain": [
       "Epoch   250:   0%|          | 0/22 [00:00<?, ?batch/s]"
      ]
     },
     "metadata": {},
     "output_type": "display_data"
    },
    {
     "name": "stdout",
     "output_type": "stream",
     "text": [
      "Test Accuracy: 31.89%\n"
     ]
    },
    {
     "data": {
      "application/vnd.jupyter.widget-view+json": {
       "model_id": "ffed5ce723794804b12d5800a316a025",
       "version_major": 2,
       "version_minor": 0
      },
      "text/plain": [
       "Epoch   251:   0%|          | 0/22 [00:00<?, ?batch/s]"
      ]
     },
     "metadata": {},
     "output_type": "display_data"
    },
    {
     "name": "stdout",
     "output_type": "stream",
     "text": [
      "Test Accuracy: 32.51%\n"
     ]
    },
    {
     "data": {
      "application/vnd.jupyter.widget-view+json": {
       "model_id": "34cc1645d62d4ea8b5062fb7be81d441",
       "version_major": 2,
       "version_minor": 0
      },
      "text/plain": [
       "Epoch   252:   0%|          | 0/22 [00:00<?, ?batch/s]"
      ]
     },
     "metadata": {},
     "output_type": "display_data"
    },
    {
     "name": "stdout",
     "output_type": "stream",
     "text": [
      "Test Accuracy: 33.78%\n"
     ]
    },
    {
     "data": {
      "application/vnd.jupyter.widget-view+json": {
       "model_id": "2afc0cbb02644cf28b6953d5f2f5a042",
       "version_major": 2,
       "version_minor": 0
      },
      "text/plain": [
       "Epoch   253:   0%|          | 0/22 [00:00<?, ?batch/s]"
      ]
     },
     "metadata": {},
     "output_type": "display_data"
    },
    {
     "name": "stdout",
     "output_type": "stream",
     "text": [
      "Test Accuracy: 34.42%\n"
     ]
    },
    {
     "data": {
      "application/vnd.jupyter.widget-view+json": {
       "model_id": "1b6ea060a6f0469a885882cff09fc561",
       "version_major": 2,
       "version_minor": 0
      },
      "text/plain": [
       "Epoch   254:   0%|          | 0/22 [00:00<?, ?batch/s]"
      ]
     },
     "metadata": {},
     "output_type": "display_data"
    },
    {
     "name": "stdout",
     "output_type": "stream",
     "text": [
      "Test Accuracy: 33.11%\n"
     ]
    },
    {
     "data": {
      "application/vnd.jupyter.widget-view+json": {
       "model_id": "b1fde62945174816976af7c8b82dc263",
       "version_major": 2,
       "version_minor": 0
      },
      "text/plain": [
       "Epoch   255:   0%|          | 0/23 [00:00<?, ?batch/s]"
      ]
     },
     "metadata": {},
     "output_type": "display_data"
    },
    {
     "name": "stdout",
     "output_type": "stream",
     "text": [
      "Test Accuracy: 34.54%\n"
     ]
    },
    {
     "data": {
      "application/vnd.jupyter.widget-view+json": {
       "model_id": "73c42efdb0994c65aa50948595583d74",
       "version_major": 2,
       "version_minor": 0
      },
      "text/plain": [
       "Epoch   256:   0%|          | 0/23 [00:00<?, ?batch/s]"
      ]
     },
     "metadata": {},
     "output_type": "display_data"
    },
    {
     "name": "stdout",
     "output_type": "stream",
     "text": [
      "Test Accuracy: 34.92%\n"
     ]
    },
    {
     "data": {
      "application/vnd.jupyter.widget-view+json": {
       "model_id": "30d923b263da4ee7ab79e1fea362e46b",
       "version_major": 2,
       "version_minor": 0
      },
      "text/plain": [
       "Epoch   257:   0%|          | 0/23 [00:00<?, ?batch/s]"
      ]
     },
     "metadata": {},
     "output_type": "display_data"
    },
    {
     "name": "stdout",
     "output_type": "stream",
     "text": [
      "Test Accuracy: 30.85%\n"
     ]
    },
    {
     "data": {
      "application/vnd.jupyter.widget-view+json": {
       "model_id": "a0414a1a891643c6b3094632c9687b94",
       "version_major": 2,
       "version_minor": 0
      },
      "text/plain": [
       "Epoch   258:   0%|          | 0/23 [00:00<?, ?batch/s]"
      ]
     },
     "metadata": {},
     "output_type": "display_data"
    },
    {
     "name": "stdout",
     "output_type": "stream",
     "text": [
      "Test Accuracy: 36.32%\n"
     ]
    },
    {
     "data": {
      "application/vnd.jupyter.widget-view+json": {
       "model_id": "8aa1cc2556984d45aff46c6434a5d8e8",
       "version_major": 2,
       "version_minor": 0
      },
      "text/plain": [
       "Epoch   259:   0%|          | 0/24 [00:00<?, ?batch/s]"
      ]
     },
     "metadata": {},
     "output_type": "display_data"
    },
    {
     "name": "stdout",
     "output_type": "stream",
     "text": [
      "Test Accuracy: 34.3%\n"
     ]
    },
    {
     "data": {
      "application/vnd.jupyter.widget-view+json": {
       "model_id": "4cf54722cd8d4959987f8be27d714507",
       "version_major": 2,
       "version_minor": 0
      },
      "text/plain": [
       "Epoch   260:   0%|          | 0/24 [00:00<?, ?batch/s]"
      ]
     },
     "metadata": {},
     "output_type": "display_data"
    },
    {
     "name": "stdout",
     "output_type": "stream",
     "text": [
      "Test Accuracy: 33.42%\n"
     ]
    },
    {
     "data": {
      "application/vnd.jupyter.widget-view+json": {
       "model_id": "6370f830ce80414aa64db0164a9002e8",
       "version_major": 2,
       "version_minor": 0
      },
      "text/plain": [
       "Epoch   261:   0%|          | 0/24 [00:00<?, ?batch/s]"
      ]
     },
     "metadata": {},
     "output_type": "display_data"
    },
    {
     "name": "stdout",
     "output_type": "stream",
     "text": [
      "Test Accuracy: 32.38%\n"
     ]
    },
    {
     "data": {
      "application/vnd.jupyter.widget-view+json": {
       "model_id": "50bbf57df33b4a318381a55cb62041e6",
       "version_major": 2,
       "version_minor": 0
      },
      "text/plain": [
       "Epoch   262:   0%|          | 0/24 [00:00<?, ?batch/s]"
      ]
     },
     "metadata": {},
     "output_type": "display_data"
    },
    {
     "name": "stdout",
     "output_type": "stream",
     "text": [
      "Test Accuracy: 34.47%\n"
     ]
    },
    {
     "data": {
      "application/vnd.jupyter.widget-view+json": {
       "model_id": "a6c660e45fd34cf2978a713e8737ed5e",
       "version_major": 2,
       "version_minor": 0
      },
      "text/plain": [
       "Epoch   263:   0%|          | 0/25 [00:00<?, ?batch/s]"
      ]
     },
     "metadata": {},
     "output_type": "display_data"
    },
    {
     "name": "stdout",
     "output_type": "stream",
     "text": [
      "Test Accuracy: 34.16%\n"
     ]
    },
    {
     "data": {
      "application/vnd.jupyter.widget-view+json": {
       "model_id": "2721b71760214545ac4ea7e798ad56e0",
       "version_major": 2,
       "version_minor": 0
      },
      "text/plain": [
       "Epoch   264:   0%|          | 0/25 [00:00<?, ?batch/s]"
      ]
     },
     "metadata": {},
     "output_type": "display_data"
    },
    {
     "name": "stdout",
     "output_type": "stream",
     "text": [
      "Test Accuracy: 33.04%\n"
     ]
    },
    {
     "data": {
      "application/vnd.jupyter.widget-view+json": {
       "model_id": "04167f9127e8470eb52aa7960025cc55",
       "version_major": 2,
       "version_minor": 0
      },
      "text/plain": [
       "Epoch   265:   0%|          | 0/25 [00:00<?, ?batch/s]"
      ]
     },
     "metadata": {},
     "output_type": "display_data"
    },
    {
     "name": "stdout",
     "output_type": "stream",
     "text": [
      "Test Accuracy: 28.63%\n"
     ]
    },
    {
     "data": {
      "application/vnd.jupyter.widget-view+json": {
       "model_id": "aaf9d349a8c349c5867f80df5796493c",
       "version_major": 2,
       "version_minor": 0
      },
      "text/plain": [
       "Epoch   266:   0%|          | 0/25 [00:00<?, ?batch/s]"
      ]
     },
     "metadata": {},
     "output_type": "display_data"
    },
    {
     "name": "stdout",
     "output_type": "stream",
     "text": [
      "Test Accuracy: 30.0%\n"
     ]
    },
    {
     "data": {
      "application/vnd.jupyter.widget-view+json": {
       "model_id": "50d9656fd6034c5d8879ea85350f9247",
       "version_major": 2,
       "version_minor": 0
      },
      "text/plain": [
       "Epoch   267:   0%|          | 0/25 [00:00<?, ?batch/s]"
      ]
     },
     "metadata": {},
     "output_type": "display_data"
    },
    {
     "name": "stdout",
     "output_type": "stream",
     "text": [
      "Test Accuracy: 35.02%\n"
     ]
    },
    {
     "data": {
      "application/vnd.jupyter.widget-view+json": {
       "model_id": "eef621557b7440cab8c89470e37decb6",
       "version_major": 2,
       "version_minor": 0
      },
      "text/plain": [
       "Epoch   268:   0%|          | 0/25 [00:00<?, ?batch/s]"
      ]
     },
     "metadata": {},
     "output_type": "display_data"
    },
    {
     "name": "stdout",
     "output_type": "stream",
     "text": [
      "Test Accuracy: 33.18%\n"
     ]
    },
    {
     "data": {
      "application/vnd.jupyter.widget-view+json": {
       "model_id": "cb151937b43a48fd923bd1fddd40c990",
       "version_major": 2,
       "version_minor": 0
      },
      "text/plain": [
       "Epoch   269:   0%|          | 0/25 [00:00<?, ?batch/s]"
      ]
     },
     "metadata": {},
     "output_type": "display_data"
    },
    {
     "name": "stdout",
     "output_type": "stream",
     "text": [
      "Test Accuracy: 34.98%\n"
     ]
    },
    {
     "data": {
      "application/vnd.jupyter.widget-view+json": {
       "model_id": "497f35756fd14c1b87845b827f4c6ec5",
       "version_major": 2,
       "version_minor": 0
      },
      "text/plain": [
       "Epoch   270:   0%|          | 0/25 [00:00<?, ?batch/s]"
      ]
     },
     "metadata": {},
     "output_type": "display_data"
    },
    {
     "name": "stdout",
     "output_type": "stream",
     "text": [
      "Test Accuracy: 34.22%\n"
     ]
    },
    {
     "data": {
      "application/vnd.jupyter.widget-view+json": {
       "model_id": "348469ed1317444f9abde434944dd712",
       "version_major": 2,
       "version_minor": 0
      },
      "text/plain": [
       "Epoch   271:   0%|          | 0/26 [00:00<?, ?batch/s]"
      ]
     },
     "metadata": {},
     "output_type": "display_data"
    },
    {
     "name": "stdout",
     "output_type": "stream",
     "text": [
      "Test Accuracy: 35.52%\n"
     ]
    },
    {
     "data": {
      "application/vnd.jupyter.widget-view+json": {
       "model_id": "a723601768a94e41badfca48cecab4f2",
       "version_major": 2,
       "version_minor": 0
      },
      "text/plain": [
       "Epoch   272:   0%|          | 0/26 [00:00<?, ?batch/s]"
      ]
     },
     "metadata": {},
     "output_type": "display_data"
    },
    {
     "name": "stdout",
     "output_type": "stream",
     "text": [
      "Test Accuracy: 34.46%\n"
     ]
    },
    {
     "data": {
      "application/vnd.jupyter.widget-view+json": {
       "model_id": "855707d98e5a4776b18f9a384abbd070",
       "version_major": 2,
       "version_minor": 0
      },
      "text/plain": [
       "Epoch   273:   0%|          | 0/26 [00:00<?, ?batch/s]"
      ]
     },
     "metadata": {},
     "output_type": "display_data"
    },
    {
     "name": "stdout",
     "output_type": "stream",
     "text": [
      "Test Accuracy: 32.64%\n"
     ]
    },
    {
     "data": {
      "application/vnd.jupyter.widget-view+json": {
       "model_id": "96718ee6e55543e4a725a1d9a9296198",
       "version_major": 2,
       "version_minor": 0
      },
      "text/plain": [
       "Epoch   274:   0%|          | 0/26 [00:00<?, ?batch/s]"
      ]
     },
     "metadata": {},
     "output_type": "display_data"
    },
    {
     "name": "stdout",
     "output_type": "stream",
     "text": [
      "Test Accuracy: 32.0%\n"
     ]
    },
    {
     "data": {
      "application/vnd.jupyter.widget-view+json": {
       "model_id": "01514e36764d4c32b2d058183e53c170",
       "version_major": 2,
       "version_minor": 0
      },
      "text/plain": [
       "Epoch   275:   0%|          | 0/27 [00:00<?, ?batch/s]"
      ]
     },
     "metadata": {},
     "output_type": "display_data"
    },
    {
     "name": "stdout",
     "output_type": "stream",
     "text": [
      "Test Accuracy: 33.76%\n"
     ]
    },
    {
     "data": {
      "application/vnd.jupyter.widget-view+json": {
       "model_id": "fbc06a9ceef7415d96b59885db6d37d3",
       "version_major": 2,
       "version_minor": 0
      },
      "text/plain": [
       "Epoch   276:   0%|          | 0/27 [00:00<?, ?batch/s]"
      ]
     },
     "metadata": {},
     "output_type": "display_data"
    },
    {
     "name": "stdout",
     "output_type": "stream",
     "text": [
      "Test Accuracy: 33.14%\n"
     ]
    },
    {
     "data": {
      "application/vnd.jupyter.widget-view+json": {
       "model_id": "1002b118878b42308057afa4b2d10a1f",
       "version_major": 2,
       "version_minor": 0
      },
      "text/plain": [
       "Epoch   277:   0%|          | 0/27 [00:00<?, ?batch/s]"
      ]
     },
     "metadata": {},
     "output_type": "display_data"
    },
    {
     "name": "stdout",
     "output_type": "stream",
     "text": [
      "Test Accuracy: 36.26%\n"
     ]
    },
    {
     "data": {
      "application/vnd.jupyter.widget-view+json": {
       "model_id": "72ec63110fb0462f8550b264b6ee1bc4",
       "version_major": 2,
       "version_minor": 0
      },
      "text/plain": [
       "Epoch   278:   0%|          | 0/28 [00:00<?, ?batch/s]"
      ]
     },
     "metadata": {},
     "output_type": "display_data"
    },
    {
     "name": "stdout",
     "output_type": "stream",
     "text": [
      "Test Accuracy: 33.34%\n"
     ]
    },
    {
     "data": {
      "application/vnd.jupyter.widget-view+json": {
       "model_id": "31c9d44282b94dcdb6cfa5caa7eae22a",
       "version_major": 2,
       "version_minor": 0
      },
      "text/plain": [
       "Epoch   279:   0%|          | 0/28 [00:00<?, ?batch/s]"
      ]
     },
     "metadata": {},
     "output_type": "display_data"
    },
    {
     "name": "stdout",
     "output_type": "stream",
     "text": [
      "Test Accuracy: 30.93%\n"
     ]
    },
    {
     "data": {
      "application/vnd.jupyter.widget-view+json": {
       "model_id": "dd6e86da88d14f068da124f0b8b3762f",
       "version_major": 2,
       "version_minor": 0
      },
      "text/plain": [
       "Epoch   280:   0%|          | 0/28 [00:00<?, ?batch/s]"
      ]
     },
     "metadata": {},
     "output_type": "display_data"
    },
    {
     "name": "stdout",
     "output_type": "stream",
     "text": [
      "Test Accuracy: 32.07%\n"
     ]
    },
    {
     "data": {
      "application/vnd.jupyter.widget-view+json": {
       "model_id": "74081285c36846f49e1bfefbe2390673",
       "version_major": 2,
       "version_minor": 0
      },
      "text/plain": [
       "Epoch   281:   0%|          | 0/29 [00:00<?, ?batch/s]"
      ]
     },
     "metadata": {},
     "output_type": "display_data"
    },
    {
     "name": "stdout",
     "output_type": "stream",
     "text": [
      "Test Accuracy: 26.17%\n"
     ]
    },
    {
     "data": {
      "application/vnd.jupyter.widget-view+json": {
       "model_id": "84c2bf9842c641deab75541074c82001",
       "version_major": 2,
       "version_minor": 0
      },
      "text/plain": [
       "Epoch   282:   0%|          | 0/29 [00:00<?, ?batch/s]"
      ]
     },
     "metadata": {},
     "output_type": "display_data"
    },
    {
     "name": "stdout",
     "output_type": "stream",
     "text": [
      "Test Accuracy: 30.51%\n"
     ]
    },
    {
     "data": {
      "application/vnd.jupyter.widget-view+json": {
       "model_id": "3db38ee7a7144f71975277e2c27a1c33",
       "version_major": 2,
       "version_minor": 0
      },
      "text/plain": [
       "Epoch   283:   0%|          | 0/29 [00:00<?, ?batch/s]"
      ]
     },
     "metadata": {},
     "output_type": "display_data"
    },
    {
     "name": "stdout",
     "output_type": "stream",
     "text": [
      "Test Accuracy: 33.28%\n"
     ]
    },
    {
     "data": {
      "application/vnd.jupyter.widget-view+json": {
       "model_id": "e8d3b7ad9fa84f8abc76c496d488d5d1",
       "version_major": 2,
       "version_minor": 0
      },
      "text/plain": [
       "Epoch   284:   0%|          | 0/29 [00:00<?, ?batch/s]"
      ]
     },
     "metadata": {},
     "output_type": "display_data"
    },
    {
     "name": "stdout",
     "output_type": "stream",
     "text": [
      "Test Accuracy: 30.56%\n"
     ]
    },
    {
     "data": {
      "application/vnd.jupyter.widget-view+json": {
       "model_id": "20139b32e9e44ff7a7975c2f9098c31f",
       "version_major": 2,
       "version_minor": 0
      },
      "text/plain": [
       "Epoch   285:   0%|          | 0/29 [00:00<?, ?batch/s]"
      ]
     },
     "metadata": {},
     "output_type": "display_data"
    },
    {
     "name": "stdout",
     "output_type": "stream",
     "text": [
      "Test Accuracy: 31.63%\n"
     ]
    },
    {
     "data": {
      "application/vnd.jupyter.widget-view+json": {
       "model_id": "f4528da9a2064d008192e1ee29d200fa",
       "version_major": 2,
       "version_minor": 0
      },
      "text/plain": [
       "Epoch   286:   0%|          | 0/29 [00:00<?, ?batch/s]"
      ]
     },
     "metadata": {},
     "output_type": "display_data"
    },
    {
     "name": "stdout",
     "output_type": "stream",
     "text": [
      "Test Accuracy: 33.2%\n"
     ]
    },
    {
     "data": {
      "application/vnd.jupyter.widget-view+json": {
       "model_id": "6f6335a8c7374d3f9d860507ddf11acb",
       "version_major": 2,
       "version_minor": 0
      },
      "text/plain": [
       "Epoch   287:   0%|          | 0/30 [00:00<?, ?batch/s]"
      ]
     },
     "metadata": {},
     "output_type": "display_data"
    },
    {
     "name": "stdout",
     "output_type": "stream",
     "text": [
      "Test Accuracy: 35.28%\n"
     ]
    },
    {
     "data": {
      "application/vnd.jupyter.widget-view+json": {
       "model_id": "022e7b118ec3483ab23eeb3e74515bff",
       "version_major": 2,
       "version_minor": 0
      },
      "text/plain": [
       "Epoch   288:   0%|          | 0/30 [00:00<?, ?batch/s]"
      ]
     },
     "metadata": {},
     "output_type": "display_data"
    },
    {
     "name": "stdout",
     "output_type": "stream",
     "text": [
      "Test Accuracy: 33.6%\n"
     ]
    },
    {
     "data": {
      "application/vnd.jupyter.widget-view+json": {
       "model_id": "3178380742664e038c71ed2dd8128074",
       "version_major": 2,
       "version_minor": 0
      },
      "text/plain": [
       "Epoch   289:   0%|          | 0/30 [00:00<?, ?batch/s]"
      ]
     },
     "metadata": {},
     "output_type": "display_data"
    },
    {
     "name": "stdout",
     "output_type": "stream",
     "text": [
      "Test Accuracy: 25.68%\n"
     ]
    },
    {
     "data": {
      "application/vnd.jupyter.widget-view+json": {
       "model_id": "1e0ba592c09a425c84497ae1815326c3",
       "version_major": 2,
       "version_minor": 0
      },
      "text/plain": [
       "Epoch   290:   0%|          | 0/31 [00:00<?, ?batch/s]"
      ]
     },
     "metadata": {},
     "output_type": "display_data"
    },
    {
     "name": "stdout",
     "output_type": "stream",
     "text": [
      "Test Accuracy: 35.34%\n"
     ]
    },
    {
     "data": {
      "application/vnd.jupyter.widget-view+json": {
       "model_id": "5721c87528a44fe38d560cc52ef611d8",
       "version_major": 2,
       "version_minor": 0
      },
      "text/plain": [
       "Epoch   291:   0%|          | 0/31 [00:00<?, ?batch/s]"
      ]
     },
     "metadata": {},
     "output_type": "display_data"
    },
    {
     "name": "stdout",
     "output_type": "stream",
     "text": [
      "Test Accuracy: 35.01%\n"
     ]
    },
    {
     "data": {
      "application/vnd.jupyter.widget-view+json": {
       "model_id": "fe56532bb9d64263b70136bebc44accf",
       "version_major": 2,
       "version_minor": 0
      },
      "text/plain": [
       "Epoch   292:   0%|          | 0/31 [00:00<?, ?batch/s]"
      ]
     },
     "metadata": {},
     "output_type": "display_data"
    },
    {
     "name": "stdout",
     "output_type": "stream",
     "text": [
      "Test Accuracy: 33.16%\n"
     ]
    },
    {
     "data": {
      "application/vnd.jupyter.widget-view+json": {
       "model_id": "127bc725a15d42b4bca30b915b5be269",
       "version_major": 2,
       "version_minor": 0
      },
      "text/plain": [
       "Epoch   293:   0%|          | 0/32 [00:00<?, ?batch/s]"
      ]
     },
     "metadata": {},
     "output_type": "display_data"
    },
    {
     "name": "stdout",
     "output_type": "stream",
     "text": [
      "Test Accuracy: 33.25%\n"
     ]
    },
    {
     "data": {
      "application/vnd.jupyter.widget-view+json": {
       "model_id": "47140c9e77f7419d8d3fa46e2e756622",
       "version_major": 2,
       "version_minor": 0
      },
      "text/plain": [
       "Epoch   294:   0%|          | 0/32 [00:00<?, ?batch/s]"
      ]
     },
     "metadata": {},
     "output_type": "display_data"
    },
    {
     "name": "stdout",
     "output_type": "stream",
     "text": [
      "Test Accuracy: 31.46%\n"
     ]
    },
    {
     "data": {
      "application/vnd.jupyter.widget-view+json": {
       "model_id": "f1e93917682144258787286b03dbf891",
       "version_major": 2,
       "version_minor": 0
      },
      "text/plain": [
       "Epoch   295:   0%|          | 0/32 [00:00<?, ?batch/s]"
      ]
     },
     "metadata": {},
     "output_type": "display_data"
    },
    {
     "name": "stdout",
     "output_type": "stream",
     "text": [
      "Test Accuracy: 32.67%\n"
     ]
    },
    {
     "data": {
      "application/vnd.jupyter.widget-view+json": {
       "model_id": "c7eecc3a9fbd454bb81c78b8ff6639ca",
       "version_major": 2,
       "version_minor": 0
      },
      "text/plain": [
       "Epoch   296:   0%|          | 0/33 [00:00<?, ?batch/s]"
      ]
     },
     "metadata": {},
     "output_type": "display_data"
    },
    {
     "name": "stdout",
     "output_type": "stream",
     "text": [
      "Test Accuracy: 34.04%\n"
     ]
    },
    {
     "data": {
      "application/vnd.jupyter.widget-view+json": {
       "model_id": "e7421dc384bf427cbf06e0912c72cf33",
       "version_major": 2,
       "version_minor": 0
      },
      "text/plain": [
       "Epoch   297:   0%|          | 0/33 [00:00<?, ?batch/s]"
      ]
     },
     "metadata": {},
     "output_type": "display_data"
    },
    {
     "name": "stdout",
     "output_type": "stream",
     "text": [
      "Test Accuracy: 30.16%\n"
     ]
    },
    {
     "data": {
      "application/vnd.jupyter.widget-view+json": {
       "model_id": "abb763dc952d4ba28a3c5d82a8e2e10d",
       "version_major": 2,
       "version_minor": 0
      },
      "text/plain": [
       "Epoch   298:   0%|          | 0/33 [00:00<?, ?batch/s]"
      ]
     },
     "metadata": {},
     "output_type": "display_data"
    },
    {
     "name": "stdout",
     "output_type": "stream",
     "text": [
      "Test Accuracy: 33.77%\n"
     ]
    },
    {
     "data": {
      "application/vnd.jupyter.widget-view+json": {
       "model_id": "23945da6f89a41209f421945db9b05d8",
       "version_major": 2,
       "version_minor": 0
      },
      "text/plain": [
       "Epoch   299:   0%|          | 0/33 [00:00<?, ?batch/s]"
      ]
     },
     "metadata": {},
     "output_type": "display_data"
    },
    {
     "name": "stdout",
     "output_type": "stream",
     "text": [
      "Test Accuracy: 35.36%\n"
     ]
    },
    {
     "data": {
      "application/vnd.jupyter.widget-view+json": {
       "model_id": "1aeac78fc19442e082699ce934745792",
       "version_major": 2,
       "version_minor": 0
      },
      "text/plain": [
       "Epoch   300:   0%|          | 0/33 [00:00<?, ?batch/s]"
      ]
     },
     "metadata": {},
     "output_type": "display_data"
    },
    {
     "name": "stdout",
     "output_type": "stream",
     "text": [
      "Test Accuracy: 34.23%\n"
     ]
    },
    {
     "data": {
      "application/vnd.jupyter.widget-view+json": {
       "model_id": "ecd6c3e42e004758847cdfe264af3251",
       "version_major": 2,
       "version_minor": 0
      },
      "text/plain": [
       "Epoch   301:   0%|          | 0/33 [00:00<?, ?batch/s]"
      ]
     },
     "metadata": {},
     "output_type": "display_data"
    },
    {
     "name": "stdout",
     "output_type": "stream",
     "text": [
      "Test Accuracy: 34.68%\n"
     ]
    },
    {
     "data": {
      "application/vnd.jupyter.widget-view+json": {
       "model_id": "9a78d0f824444d66bd495bdf7f164e43",
       "version_major": 2,
       "version_minor": 0
      },
      "text/plain": [
       "Epoch   302:   0%|          | 0/34 [00:00<?, ?batch/s]"
      ]
     },
     "metadata": {},
     "output_type": "display_data"
    },
    {
     "name": "stdout",
     "output_type": "stream",
     "text": [
      "Test Accuracy: 30.85%\n"
     ]
    },
    {
     "data": {
      "application/vnd.jupyter.widget-view+json": {
       "model_id": "ab53bd30832a4d7da1ae483e68e45b0f",
       "version_major": 2,
       "version_minor": 0
      },
      "text/plain": [
       "Epoch   303:   0%|          | 0/34 [00:00<?, ?batch/s]"
      ]
     },
     "metadata": {},
     "output_type": "display_data"
    },
    {
     "name": "stdout",
     "output_type": "stream",
     "text": [
      "Test Accuracy: 34.12%\n"
     ]
    },
    {
     "data": {
      "application/vnd.jupyter.widget-view+json": {
       "model_id": "18c66db7fad54e548e25301eb8f39991",
       "version_major": 2,
       "version_minor": 0
      },
      "text/plain": [
       "Epoch   304:   0%|          | 0/34 [00:00<?, ?batch/s]"
      ]
     },
     "metadata": {},
     "output_type": "display_data"
    },
    {
     "name": "stdout",
     "output_type": "stream",
     "text": [
      "Test Accuracy: 34.53%\n"
     ]
    },
    {
     "data": {
      "application/vnd.jupyter.widget-view+json": {
       "model_id": "81d343d2393049f0a6d2c90610fdf815",
       "version_major": 2,
       "version_minor": 0
      },
      "text/plain": [
       "Epoch   305:   0%|          | 0/35 [00:00<?, ?batch/s]"
      ]
     },
     "metadata": {},
     "output_type": "display_data"
    },
    {
     "name": "stdout",
     "output_type": "stream",
     "text": [
      "Test Accuracy: 35.13%\n"
     ]
    },
    {
     "data": {
      "application/vnd.jupyter.widget-view+json": {
       "model_id": "11a47621a5504dcfbdfbc757ea924b44",
       "version_major": 2,
       "version_minor": 0
      },
      "text/plain": [
       "Epoch   306:   0%|          | 0/35 [00:00<?, ?batch/s]"
      ]
     },
     "metadata": {},
     "output_type": "display_data"
    },
    {
     "name": "stdout",
     "output_type": "stream",
     "text": [
      "Test Accuracy: 34.9%\n"
     ]
    },
    {
     "data": {
      "application/vnd.jupyter.widget-view+json": {
       "model_id": "188c8add0cd4415f8ddec180a028cd2a",
       "version_major": 2,
       "version_minor": 0
      },
      "text/plain": [
       "Epoch   307:   0%|          | 0/35 [00:00<?, ?batch/s]"
      ]
     },
     "metadata": {},
     "output_type": "display_data"
    },
    {
     "name": "stdout",
     "output_type": "stream",
     "text": [
      "Test Accuracy: 34.13%\n"
     ]
    },
    {
     "data": {
      "application/vnd.jupyter.widget-view+json": {
       "model_id": "cee1e65e5be54d419f1f97a77b4d4caa",
       "version_major": 2,
       "version_minor": 0
      },
      "text/plain": [
       "Epoch   308:   0%|          | 0/36 [00:00<?, ?batch/s]"
      ]
     },
     "metadata": {},
     "output_type": "display_data"
    },
    {
     "name": "stdout",
     "output_type": "stream",
     "text": [
      "Test Accuracy: 34.11%\n"
     ]
    },
    {
     "data": {
      "application/vnd.jupyter.widget-view+json": {
       "model_id": "dfdba4c04b6346848dc05d14fa7a2559",
       "version_major": 2,
       "version_minor": 0
      },
      "text/plain": [
       "Epoch   309:   0%|          | 0/36 [00:00<?, ?batch/s]"
      ]
     },
     "metadata": {},
     "output_type": "display_data"
    },
    {
     "name": "stdout",
     "output_type": "stream",
     "text": [
      "Test Accuracy: 29.94%\n"
     ]
    },
    {
     "data": {
      "application/vnd.jupyter.widget-view+json": {
       "model_id": "20fe12967d13482fb64f5adc20e275ee",
       "version_major": 2,
       "version_minor": 0
      },
      "text/plain": [
       "Epoch   310:   0%|          | 0/36 [00:00<?, ?batch/s]"
      ]
     },
     "metadata": {},
     "output_type": "display_data"
    },
    {
     "name": "stdout",
     "output_type": "stream",
     "text": [
      "Test Accuracy: 32.87%\n"
     ]
    },
    {
     "data": {
      "application/vnd.jupyter.widget-view+json": {
       "model_id": "cd1f5ad3cc9a473b809ce39376d25d13",
       "version_major": 2,
       "version_minor": 0
      },
      "text/plain": [
       "Epoch   311:   0%|          | 0/36 [00:00<?, ?batch/s]"
      ]
     },
     "metadata": {},
     "output_type": "display_data"
    },
    {
     "name": "stdout",
     "output_type": "stream",
     "text": [
      "Test Accuracy: 33.84%\n"
     ]
    },
    {
     "data": {
      "application/vnd.jupyter.widget-view+json": {
       "model_id": "2c998da889b74420b59ff0cc76a947f2",
       "version_major": 2,
       "version_minor": 0
      },
      "text/plain": [
       "Epoch   312:   0%|          | 0/36 [00:00<?, ?batch/s]"
      ]
     },
     "metadata": {},
     "output_type": "display_data"
    },
    {
     "name": "stdout",
     "output_type": "stream",
     "text": [
      "Test Accuracy: 32.75%\n"
     ]
    },
    {
     "data": {
      "application/vnd.jupyter.widget-view+json": {
       "model_id": "dfa2442707ba4b5fb52003a0e5954f99",
       "version_major": 2,
       "version_minor": 0
      },
      "text/plain": [
       "Epoch   313:   0%|          | 0/36 [00:00<?, ?batch/s]"
      ]
     },
     "metadata": {},
     "output_type": "display_data"
    },
    {
     "name": "stdout",
     "output_type": "stream",
     "text": [
      "Test Accuracy: 34.66%\n"
     ]
    },
    {
     "data": {
      "application/vnd.jupyter.widget-view+json": {
       "model_id": "2b3d661e0b4d416ebb3e5acab42c9e72",
       "version_major": 2,
       "version_minor": 0
      },
      "text/plain": [
       "Epoch   314:   0%|          | 0/37 [00:00<?, ?batch/s]"
      ]
     },
     "metadata": {},
     "output_type": "display_data"
    },
    {
     "name": "stdout",
     "output_type": "stream",
     "text": [
      "Test Accuracy: 33.63%\n"
     ]
    },
    {
     "data": {
      "application/vnd.jupyter.widget-view+json": {
       "model_id": "8b4b739b1a19493488e59e3dca0b9355",
       "version_major": 2,
       "version_minor": 0
      },
      "text/plain": [
       "Epoch   315:   0%|          | 0/37 [00:00<?, ?batch/s]"
      ]
     },
     "metadata": {},
     "output_type": "display_data"
    },
    {
     "name": "stdout",
     "output_type": "stream",
     "text": [
      "Test Accuracy: 35.42%\n"
     ]
    },
    {
     "data": {
      "application/vnd.jupyter.widget-view+json": {
       "model_id": "5a1feccdfa0a45969826edf419b0c77d",
       "version_major": 2,
       "version_minor": 0
      },
      "text/plain": [
       "Epoch   316:   0%|          | 0/37 [00:00<?, ?batch/s]"
      ]
     },
     "metadata": {},
     "output_type": "display_data"
    },
    {
     "name": "stdout",
     "output_type": "stream",
     "text": [
      "Test Accuracy: 34.23%\n"
     ]
    },
    {
     "data": {
      "application/vnd.jupyter.widget-view+json": {
       "model_id": "9ec2a1ec8d3e45e18ff6bbd0880fa846",
       "version_major": 2,
       "version_minor": 0
      },
      "text/plain": [
       "Epoch   317:   0%|          | 0/38 [00:00<?, ?batch/s]"
      ]
     },
     "metadata": {},
     "output_type": "display_data"
    },
    {
     "name": "stdout",
     "output_type": "stream",
     "text": [
      "Test Accuracy: 32.96%\n"
     ]
    },
    {
     "data": {
      "application/vnd.jupyter.widget-view+json": {
       "model_id": "633a16b1bb29452a85a5749fddf3fc7b",
       "version_major": 2,
       "version_minor": 0
      },
      "text/plain": [
       "Epoch   318:   0%|          | 0/38 [00:00<?, ?batch/s]"
      ]
     },
     "metadata": {},
     "output_type": "display_data"
    },
    {
     "name": "stdout",
     "output_type": "stream",
     "text": [
      "Test Accuracy: 32.82%\n"
     ]
    },
    {
     "data": {
      "application/vnd.jupyter.widget-view+json": {
       "model_id": "bffcd4a9f4274b048c899b8a14dedd31",
       "version_major": 2,
       "version_minor": 0
      },
      "text/plain": [
       "Epoch   319:   0%|          | 0/38 [00:00<?, ?batch/s]"
      ]
     },
     "metadata": {},
     "output_type": "display_data"
    },
    {
     "name": "stdout",
     "output_type": "stream",
     "text": [
      "Test Accuracy: 34.09%\n"
     ]
    },
    {
     "data": {
      "application/vnd.jupyter.widget-view+json": {
       "model_id": "1fb5c785bb4b4b74939840f835c3a690",
       "version_major": 2,
       "version_minor": 0
      },
      "text/plain": [
       "Epoch   320:   0%|          | 0/39 [00:00<?, ?batch/s]"
      ]
     },
     "metadata": {},
     "output_type": "display_data"
    },
    {
     "name": "stdout",
     "output_type": "stream",
     "text": [
      "Test Accuracy: 34.64%\n"
     ]
    },
    {
     "data": {
      "application/vnd.jupyter.widget-view+json": {
       "model_id": "1a80ee4b0e5b4ea6983bc3730ed4f5ba",
       "version_major": 2,
       "version_minor": 0
      },
      "text/plain": [
       "Epoch   321:   0%|          | 0/39 [00:00<?, ?batch/s]"
      ]
     },
     "metadata": {},
     "output_type": "display_data"
    },
    {
     "name": "stdout",
     "output_type": "stream",
     "text": [
      "Test Accuracy: 34.15%\n"
     ]
    },
    {
     "data": {
      "application/vnd.jupyter.widget-view+json": {
       "model_id": "b2e0e711024e4157a3655a57f1046502",
       "version_major": 2,
       "version_minor": 0
      },
      "text/plain": [
       "Epoch   322:   0%|          | 0/39 [00:00<?, ?batch/s]"
      ]
     },
     "metadata": {},
     "output_type": "display_data"
    },
    {
     "name": "stdout",
     "output_type": "stream",
     "text": [
      "Test Accuracy: 30.55%\n"
     ]
    },
    {
     "data": {
      "application/vnd.jupyter.widget-view+json": {
       "model_id": "f77ba2f3ba4b4255904db7921cebf12a",
       "version_major": 2,
       "version_minor": 0
      },
      "text/plain": [
       "Epoch   323:   0%|          | 0/40 [00:00<?, ?batch/s]"
      ]
     },
     "metadata": {},
     "output_type": "display_data"
    },
    {
     "name": "stdout",
     "output_type": "stream",
     "text": [
      "Test Accuracy: 32.9%\n"
     ]
    },
    {
     "data": {
      "application/vnd.jupyter.widget-view+json": {
       "model_id": "1f71033e984443669a43f36a00397f58",
       "version_major": 2,
       "version_minor": 0
      },
      "text/plain": [
       "Epoch   324:   0%|          | 0/40 [00:00<?, ?batch/s]"
      ]
     },
     "metadata": {},
     "output_type": "display_data"
    },
    {
     "name": "stdout",
     "output_type": "stream",
     "text": [
      "Test Accuracy: 36.44%\n"
     ]
    },
    {
     "data": {
      "application/vnd.jupyter.widget-view+json": {
       "model_id": "11831b5f97d6411d901ab7ad3b22c4ec",
       "version_major": 2,
       "version_minor": 0
      },
      "text/plain": [
       "Epoch   325:   0%|          | 0/40 [00:00<?, ?batch/s]"
      ]
     },
     "metadata": {},
     "output_type": "display_data"
    },
    {
     "name": "stdout",
     "output_type": "stream",
     "text": [
      "Test Accuracy: 35.11%\n"
     ]
    },
    {
     "data": {
      "application/vnd.jupyter.widget-view+json": {
       "model_id": "4f14667e29574c51ac9e5c7124165a6d",
       "version_major": 2,
       "version_minor": 0
      },
      "text/plain": [
       "Epoch   326:   0%|          | 0/40 [00:00<?, ?batch/s]"
      ]
     },
     "metadata": {},
     "output_type": "display_data"
    },
    {
     "name": "stdout",
     "output_type": "stream",
     "text": [
      "Test Accuracy: 35.45%\n"
     ]
    },
    {
     "data": {
      "application/vnd.jupyter.widget-view+json": {
       "model_id": "c12ed9c734fa4936bb6ad50e48a6f210",
       "version_major": 2,
       "version_minor": 0
      },
      "text/plain": [
       "Epoch   327:   0%|          | 0/41 [00:00<?, ?batch/s]"
      ]
     },
     "metadata": {},
     "output_type": "display_data"
    },
    {
     "name": "stdout",
     "output_type": "stream",
     "text": [
      "Test Accuracy: 30.08%\n"
     ]
    },
    {
     "data": {
      "application/vnd.jupyter.widget-view+json": {
       "model_id": "a3fabd863069416088157a37a17f9fa7",
       "version_major": 2,
       "version_minor": 0
      },
      "text/plain": [
       "Epoch   328:   0%|          | 0/41 [00:00<?, ?batch/s]"
      ]
     },
     "metadata": {},
     "output_type": "display_data"
    },
    {
     "name": "stdout",
     "output_type": "stream",
     "text": [
      "Test Accuracy: 32.08%\n"
     ]
    },
    {
     "data": {
      "application/vnd.jupyter.widget-view+json": {
       "model_id": "d6b9df9e71504e0886be274fadbc9532",
       "version_major": 2,
       "version_minor": 0
      },
      "text/plain": [
       "Epoch   329:   0%|          | 0/42 [00:00<?, ?batch/s]"
      ]
     },
     "metadata": {},
     "output_type": "display_data"
    },
    {
     "name": "stdout",
     "output_type": "stream",
     "text": [
      "Test Accuracy: 33.37%\n"
     ]
    },
    {
     "data": {
      "application/vnd.jupyter.widget-view+json": {
       "model_id": "6b0ff3e5402d4c2ab61abfbdbb59c1ba",
       "version_major": 2,
       "version_minor": 0
      },
      "text/plain": [
       "Epoch   330:   0%|          | 0/42 [00:00<?, ?batch/s]"
      ]
     },
     "metadata": {},
     "output_type": "display_data"
    },
    {
     "name": "stdout",
     "output_type": "stream",
     "text": [
      "Test Accuracy: 30.6%\n"
     ]
    },
    {
     "data": {
      "application/vnd.jupyter.widget-view+json": {
       "model_id": "b2e9f8f2f3cb4f409b3575a866193017",
       "version_major": 2,
       "version_minor": 0
      },
      "text/plain": [
       "Epoch   331:   0%|          | 0/43 [00:00<?, ?batch/s]"
      ]
     },
     "metadata": {},
     "output_type": "display_data"
    },
    {
     "name": "stdout",
     "output_type": "stream",
     "text": [
      "Test Accuracy: 33.13%\n"
     ]
    },
    {
     "data": {
      "application/vnd.jupyter.widget-view+json": {
       "model_id": "300689cd2ce44d50b560a3491a552c20",
       "version_major": 2,
       "version_minor": 0
      },
      "text/plain": [
       "Epoch   332:   0%|          | 0/43 [00:00<?, ?batch/s]"
      ]
     },
     "metadata": {},
     "output_type": "display_data"
    },
    {
     "name": "stdout",
     "output_type": "stream",
     "text": [
      "Test Accuracy: 34.55%\n"
     ]
    },
    {
     "data": {
      "application/vnd.jupyter.widget-view+json": {
       "model_id": "92b903945c5b4c3ca3c0b3fc81c22da1",
       "version_major": 2,
       "version_minor": 0
      },
      "text/plain": [
       "Epoch   333:   0%|          | 0/43 [00:00<?, ?batch/s]"
      ]
     },
     "metadata": {},
     "output_type": "display_data"
    },
    {
     "name": "stdout",
     "output_type": "stream",
     "text": [
      "Test Accuracy: 33.41%\n"
     ]
    },
    {
     "data": {
      "application/vnd.jupyter.widget-view+json": {
       "model_id": "ec3dc184e6704e77b59e0de38ed1c662",
       "version_major": 2,
       "version_minor": 0
      },
      "text/plain": [
       "Epoch   334:   0%|          | 0/43 [00:00<?, ?batch/s]"
      ]
     },
     "metadata": {},
     "output_type": "display_data"
    },
    {
     "name": "stdout",
     "output_type": "stream",
     "text": [
      "Test Accuracy: 33.08%\n"
     ]
    },
    {
     "data": {
      "application/vnd.jupyter.widget-view+json": {
       "model_id": "028c0f9e6f78453daa377b02c826e8e1",
       "version_major": 2,
       "version_minor": 0
      },
      "text/plain": [
       "Epoch   335:   0%|          | 0/44 [00:00<?, ?batch/s]"
      ]
     },
     "metadata": {},
     "output_type": "display_data"
    },
    {
     "name": "stdout",
     "output_type": "stream",
     "text": [
      "Test Accuracy: 30.37%\n"
     ]
    },
    {
     "data": {
      "application/vnd.jupyter.widget-view+json": {
       "model_id": "979774b75d4947d085b87259808b5ad1",
       "version_major": 2,
       "version_minor": 0
      },
      "text/plain": [
       "Epoch   336:   0%|          | 0/44 [00:00<?, ?batch/s]"
      ]
     },
     "metadata": {},
     "output_type": "display_data"
    },
    {
     "name": "stdout",
     "output_type": "stream",
     "text": [
      "Test Accuracy: 31.81%\n"
     ]
    },
    {
     "data": {
      "application/vnd.jupyter.widget-view+json": {
       "model_id": "01d159bcf1e44a28941103c577b9ff94",
       "version_major": 2,
       "version_minor": 0
      },
      "text/plain": [
       "Epoch   337:   0%|          | 0/45 [00:00<?, ?batch/s]"
      ]
     },
     "metadata": {},
     "output_type": "display_data"
    },
    {
     "name": "stdout",
     "output_type": "stream",
     "text": [
      "Test Accuracy: 35.56%\n"
     ]
    },
    {
     "data": {
      "application/vnd.jupyter.widget-view+json": {
       "model_id": "8e490c560da34f409bce51ad3a72b482",
       "version_major": 2,
       "version_minor": 0
      },
      "text/plain": [
       "Epoch   338:   0%|          | 0/45 [00:00<?, ?batch/s]"
      ]
     },
     "metadata": {},
     "output_type": "display_data"
    },
    {
     "name": "stdout",
     "output_type": "stream",
     "text": [
      "Test Accuracy: 34.02%\n"
     ]
    },
    {
     "data": {
      "application/vnd.jupyter.widget-view+json": {
       "model_id": "c2966c2b44ad49f8a6d248b3eb227af2",
       "version_major": 2,
       "version_minor": 0
      },
      "text/plain": [
       "Epoch   339:   0%|          | 0/46 [00:00<?, ?batch/s]"
      ]
     },
     "metadata": {},
     "output_type": "display_data"
    },
    {
     "name": "stdout",
     "output_type": "stream",
     "text": [
      "Test Accuracy: 33.58%\n"
     ]
    },
    {
     "data": {
      "application/vnd.jupyter.widget-view+json": {
       "model_id": "f3705113ae6a4274a44a42f8d3a92749",
       "version_major": 2,
       "version_minor": 0
      },
      "text/plain": [
       "Epoch   340:   0%|          | 0/46 [00:00<?, ?batch/s]"
      ]
     },
     "metadata": {},
     "output_type": "display_data"
    },
    {
     "name": "stdout",
     "output_type": "stream",
     "text": [
      "Test Accuracy: 33.7%\n"
     ]
    },
    {
     "data": {
      "application/vnd.jupyter.widget-view+json": {
       "model_id": "678b32b783b5405c8006bb77de1fa95d",
       "version_major": 2,
       "version_minor": 0
      },
      "text/plain": [
       "Epoch   341:   0%|          | 0/47 [00:00<?, ?batch/s]"
      ]
     },
     "metadata": {},
     "output_type": "display_data"
    },
    {
     "name": "stdout",
     "output_type": "stream",
     "text": [
      "Test Accuracy: 30.39%\n"
     ]
    },
    {
     "data": {
      "application/vnd.jupyter.widget-view+json": {
       "model_id": "22dfdfdc4a0e45538a7db03478953faf",
       "version_major": 2,
       "version_minor": 0
      },
      "text/plain": [
       "Epoch   342:   0%|          | 0/47 [00:00<?, ?batch/s]"
      ]
     },
     "metadata": {},
     "output_type": "display_data"
    },
    {
     "name": "stdout",
     "output_type": "stream",
     "text": [
      "Test Accuracy: 34.09%\n"
     ]
    },
    {
     "data": {
      "application/vnd.jupyter.widget-view+json": {
       "model_id": "ec4ca94e756f4d51bb5753a9b565fed3",
       "version_major": 2,
       "version_minor": 0
      },
      "text/plain": [
       "Epoch   343:   0%|          | 0/47 [00:00<?, ?batch/s]"
      ]
     },
     "metadata": {},
     "output_type": "display_data"
    },
    {
     "name": "stdout",
     "output_type": "stream",
     "text": [
      "Test Accuracy: 33.01%\n"
     ]
    },
    {
     "data": {
      "application/vnd.jupyter.widget-view+json": {
       "model_id": "81ad678b3f2b4746b5a176a43d638c65",
       "version_major": 2,
       "version_minor": 0
      },
      "text/plain": [
       "Epoch   344:   0%|          | 0/47 [00:00<?, ?batch/s]"
      ]
     },
     "metadata": {},
     "output_type": "display_data"
    },
    {
     "name": "stdout",
     "output_type": "stream",
     "text": [
      "Test Accuracy: 33.66%\n"
     ]
    },
    {
     "data": {
      "application/vnd.jupyter.widget-view+json": {
       "model_id": "cd6e1c5ffc1b4ef4bad1ee5f723e5911",
       "version_major": 2,
       "version_minor": 0
      },
      "text/plain": [
       "Epoch   345:   0%|          | 0/48 [00:00<?, ?batch/s]"
      ]
     },
     "metadata": {},
     "output_type": "display_data"
    },
    {
     "name": "stdout",
     "output_type": "stream",
     "text": [
      "Test Accuracy: 34.86%\n"
     ]
    },
    {
     "data": {
      "application/vnd.jupyter.widget-view+json": {
       "model_id": "931bcbdd49b146a4bc04392f9dc1a345",
       "version_major": 2,
       "version_minor": 0
      },
      "text/plain": [
       "Epoch   346:   0%|          | 0/48 [00:00<?, ?batch/s]"
      ]
     },
     "metadata": {},
     "output_type": "display_data"
    },
    {
     "name": "stdout",
     "output_type": "stream",
     "text": [
      "Test Accuracy: 31.73%\n"
     ]
    },
    {
     "data": {
      "application/vnd.jupyter.widget-view+json": {
       "model_id": "8be98757157d4df68b489bf41e40f2a6",
       "version_major": 2,
       "version_minor": 0
      },
      "text/plain": [
       "Epoch   347:   0%|          | 0/49 [00:00<?, ?batch/s]"
      ]
     },
     "metadata": {},
     "output_type": "display_data"
    },
    {
     "name": "stdout",
     "output_type": "stream",
     "text": [
      "Test Accuracy: 31.81%\n"
     ]
    },
    {
     "data": {
      "application/vnd.jupyter.widget-view+json": {
       "model_id": "88ce73be62e64662a1b58259843a65f7",
       "version_major": 2,
       "version_minor": 0
      },
      "text/plain": [
       "Epoch   348:   0%|          | 0/49 [00:00<?, ?batch/s]"
      ]
     },
     "metadata": {},
     "output_type": "display_data"
    },
    {
     "name": "stdout",
     "output_type": "stream",
     "text": [
      "Test Accuracy: 33.09%\n"
     ]
    },
    {
     "data": {
      "application/vnd.jupyter.widget-view+json": {
       "model_id": "92adb3c4bab04c8b80c576d2ac4b1fff",
       "version_major": 2,
       "version_minor": 0
      },
      "text/plain": [
       "Epoch   349:   0%|          | 0/50 [00:00<?, ?batch/s]"
      ]
     },
     "metadata": {},
     "output_type": "display_data"
    },
    {
     "name": "stdout",
     "output_type": "stream",
     "text": [
      "Test Accuracy: 31.38%\n"
     ]
    },
    {
     "data": {
      "application/vnd.jupyter.widget-view+json": {
       "model_id": "8fe50261e3d94667b89e1175ee626bd7",
       "version_major": 2,
       "version_minor": 0
      },
      "text/plain": [
       "Epoch   350:   0%|          | 0/50 [00:00<?, ?batch/s]"
      ]
     },
     "metadata": {},
     "output_type": "display_data"
    },
    {
     "name": "stdout",
     "output_type": "stream",
     "text": [
      "Test Accuracy: 32.62%\n"
     ]
    },
    {
     "data": {
      "application/vnd.jupyter.widget-view+json": {
       "model_id": "916374e53d624052957ac6e05825baea",
       "version_major": 2,
       "version_minor": 0
      },
      "text/plain": [
       "Epoch   351:   0%|          | 0/50 [00:00<?, ?batch/s]"
      ]
     },
     "metadata": {},
     "output_type": "display_data"
    },
    {
     "name": "stdout",
     "output_type": "stream",
     "text": [
      "Test Accuracy: 31.55%\n"
     ]
    },
    {
     "data": {
      "application/vnd.jupyter.widget-view+json": {
       "model_id": "a5a9257d216a42ae95f9ec10b5f95599",
       "version_major": 2,
       "version_minor": 0
      },
      "text/plain": [
       "Epoch   352:   0%|          | 0/50 [00:00<?, ?batch/s]"
      ]
     },
     "metadata": {},
     "output_type": "display_data"
    },
    {
     "name": "stdout",
     "output_type": "stream",
     "text": [
      "Test Accuracy: 31.05%\n"
     ]
    },
    {
     "data": {
      "application/vnd.jupyter.widget-view+json": {
       "model_id": "3d7ebbcdd3e34fd5b4bf325fe2b2ab0a",
       "version_major": 2,
       "version_minor": 0
      },
      "text/plain": [
       "Epoch   353:   0%|          | 0/51 [00:00<?, ?batch/s]"
      ]
     },
     "metadata": {},
     "output_type": "display_data"
    },
    {
     "name": "stdout",
     "output_type": "stream",
     "text": [
      "Test Accuracy: 34.6%\n"
     ]
    },
    {
     "data": {
      "application/vnd.jupyter.widget-view+json": {
       "model_id": "156f44a66ab14da1a85d5f42d2a9a188",
       "version_major": 2,
       "version_minor": 0
      },
      "text/plain": [
       "Epoch   354:   0%|          | 0/51 [00:00<?, ?batch/s]"
      ]
     },
     "metadata": {},
     "output_type": "display_data"
    },
    {
     "name": "stdout",
     "output_type": "stream",
     "text": [
      "Test Accuracy: 35.33%\n"
     ]
    },
    {
     "data": {
      "application/vnd.jupyter.widget-view+json": {
       "model_id": "a19761e8880648f386beba6b414504d3",
       "version_major": 2,
       "version_minor": 0
      },
      "text/plain": [
       "Epoch   355:   0%|          | 0/52 [00:00<?, ?batch/s]"
      ]
     },
     "metadata": {},
     "output_type": "display_data"
    },
    {
     "name": "stdout",
     "output_type": "stream",
     "text": [
      "Test Accuracy: 31.96%\n"
     ]
    },
    {
     "data": {
      "application/vnd.jupyter.widget-view+json": {
       "model_id": "9648b977008c4e05a4cecad74288b0b4",
       "version_major": 2,
       "version_minor": 0
      },
      "text/plain": [
       "Epoch   356:   0%|          | 0/52 [00:00<?, ?batch/s]"
      ]
     },
     "metadata": {},
     "output_type": "display_data"
    },
    {
     "name": "stdout",
     "output_type": "stream",
     "text": [
      "Test Accuracy: 34.02%\n"
     ]
    },
    {
     "data": {
      "application/vnd.jupyter.widget-view+json": {
       "model_id": "48de32b9fe4a478cb7edf7107a64584c",
       "version_major": 2,
       "version_minor": 0
      },
      "text/plain": [
       "Epoch   357:   0%|          | 0/53 [00:00<?, ?batch/s]"
      ]
     },
     "metadata": {},
     "output_type": "display_data"
    },
    {
     "name": "stdout",
     "output_type": "stream",
     "text": [
      "Test Accuracy: 32.05%\n"
     ]
    },
    {
     "data": {
      "application/vnd.jupyter.widget-view+json": {
       "model_id": "0c7c811b717542eb8470756b5543d6b3",
       "version_major": 2,
       "version_minor": 0
      },
      "text/plain": [
       "Epoch   358:   0%|          | 0/53 [00:00<?, ?batch/s]"
      ]
     },
     "metadata": {},
     "output_type": "display_data"
    },
    {
     "name": "stdout",
     "output_type": "stream",
     "text": [
      "Test Accuracy: 30.77%\n"
     ]
    },
    {
     "data": {
      "application/vnd.jupyter.widget-view+json": {
       "model_id": "90e6b55e91f644b6ae8805bf4829a79c",
       "version_major": 2,
       "version_minor": 0
      },
      "text/plain": [
       "Epoch   359:   0%|          | 0/54 [00:00<?, ?batch/s]"
      ]
     },
     "metadata": {},
     "output_type": "display_data"
    },
    {
     "name": "stdout",
     "output_type": "stream",
     "text": [
      "Test Accuracy: 32.27%\n"
     ]
    },
    {
     "data": {
      "application/vnd.jupyter.widget-view+json": {
       "model_id": "c4c5090bbe8a487cbfb9eb77e8a4ccfd",
       "version_major": 2,
       "version_minor": 0
      },
      "text/plain": [
       "Epoch   360:   0%|          | 0/54 [00:00<?, ?batch/s]"
      ]
     },
     "metadata": {},
     "output_type": "display_data"
    },
    {
     "name": "stdout",
     "output_type": "stream",
     "text": [
      "Test Accuracy: 32.47%\n"
     ]
    },
    {
     "data": {
      "application/vnd.jupyter.widget-view+json": {
       "model_id": "e2bcfb7c63674574bf96fb30962479f5",
       "version_major": 2,
       "version_minor": 0
      },
      "text/plain": [
       "Epoch   361:   0%|          | 0/54 [00:00<?, ?batch/s]"
      ]
     },
     "metadata": {},
     "output_type": "display_data"
    },
    {
     "name": "stdout",
     "output_type": "stream",
     "text": [
      "Test Accuracy: 33.91%\n"
     ]
    },
    {
     "data": {
      "application/vnd.jupyter.widget-view+json": {
       "model_id": "6fb56adb5ef4486da4b9f40a41e5421b",
       "version_major": 2,
       "version_minor": 0
      },
      "text/plain": [
       "Epoch   362:   0%|          | 0/54 [00:00<?, ?batch/s]"
      ]
     },
     "metadata": {},
     "output_type": "display_data"
    },
    {
     "name": "stdout",
     "output_type": "stream",
     "text": [
      "Test Accuracy: 33.38%\n"
     ]
    },
    {
     "data": {
      "application/vnd.jupyter.widget-view+json": {
       "model_id": "998823075d2e4d20aa58caf02798e6fe",
       "version_major": 2,
       "version_minor": 0
      },
      "text/plain": [
       "Epoch   363:   0%|          | 0/55 [00:00<?, ?batch/s]"
      ]
     },
     "metadata": {},
     "output_type": "display_data"
    },
    {
     "name": "stdout",
     "output_type": "stream",
     "text": [
      "Test Accuracy: 32.57%\n"
     ]
    },
    {
     "data": {
      "application/vnd.jupyter.widget-view+json": {
       "model_id": "94f53c9c180d41eba408268177357cc6",
       "version_major": 2,
       "version_minor": 0
      },
      "text/plain": [
       "Epoch   364:   0%|          | 0/55 [00:00<?, ?batch/s]"
      ]
     },
     "metadata": {},
     "output_type": "display_data"
    },
    {
     "name": "stdout",
     "output_type": "stream",
     "text": [
      "Test Accuracy: 32.52%\n"
     ]
    },
    {
     "data": {
      "application/vnd.jupyter.widget-view+json": {
       "model_id": "82b567b0f406481196623310d4ffed03",
       "version_major": 2,
       "version_minor": 0
      },
      "text/plain": [
       "Epoch   365:   0%|          | 0/56 [00:00<?, ?batch/s]"
      ]
     },
     "metadata": {},
     "output_type": "display_data"
    },
    {
     "name": "stdout",
     "output_type": "stream",
     "text": [
      "Test Accuracy: 31.34%\n"
     ]
    },
    {
     "data": {
      "application/vnd.jupyter.widget-view+json": {
       "model_id": "2a97211fe7924e71a2326967427534ab",
       "version_major": 2,
       "version_minor": 0
      },
      "text/plain": [
       "Epoch   366:   0%|          | 0/56 [00:00<?, ?batch/s]"
      ]
     },
     "metadata": {},
     "output_type": "display_data"
    },
    {
     "name": "stdout",
     "output_type": "stream",
     "text": [
      "Test Accuracy: 30.19%\n"
     ]
    },
    {
     "data": {
      "application/vnd.jupyter.widget-view+json": {
       "model_id": "0d2af8fbd910495ab43102a77172b2eb",
       "version_major": 2,
       "version_minor": 0
      },
      "text/plain": [
       "Epoch   367:   0%|          | 0/57 [00:00<?, ?batch/s]"
      ]
     },
     "metadata": {},
     "output_type": "display_data"
    },
    {
     "name": "stdout",
     "output_type": "stream",
     "text": [
      "Test Accuracy: 33.45%\n"
     ]
    },
    {
     "data": {
      "application/vnd.jupyter.widget-view+json": {
       "model_id": "5274d4819c8e424f9c53ea4f69bbb7e8",
       "version_major": 2,
       "version_minor": 0
      },
      "text/plain": [
       "Epoch   368:   0%|          | 0/57 [00:00<?, ?batch/s]"
      ]
     },
     "metadata": {},
     "output_type": "display_data"
    },
    {
     "name": "stdout",
     "output_type": "stream",
     "text": [
      "Test Accuracy: 29.66%\n"
     ]
    },
    {
     "data": {
      "application/vnd.jupyter.widget-view+json": {
       "model_id": "424c90c2201b46a8afca168d58e004c7",
       "version_major": 2,
       "version_minor": 0
      },
      "text/plain": [
       "Epoch   369:   0%|          | 0/58 [00:00<?, ?batch/s]"
      ]
     },
     "metadata": {},
     "output_type": "display_data"
    },
    {
     "name": "stdout",
     "output_type": "stream",
     "text": [
      "Test Accuracy: 34.1%\n"
     ]
    },
    {
     "data": {
      "application/vnd.jupyter.widget-view+json": {
       "model_id": "87d4ff2d847c4b50bc540dbf30c0b8c5",
       "version_major": 2,
       "version_minor": 0
      },
      "text/plain": [
       "Epoch   370:   0%|          | 0/58 [00:00<?, ?batch/s]"
      ]
     },
     "metadata": {},
     "output_type": "display_data"
    },
    {
     "name": "stdout",
     "output_type": "stream",
     "text": [
      "Test Accuracy: 23.55%\n"
     ]
    },
    {
     "data": {
      "application/vnd.jupyter.widget-view+json": {
       "model_id": "396d065974024c188f0e77debab0b3cc",
       "version_major": 2,
       "version_minor": 0
      },
      "text/plain": [
       "Epoch   371:   0%|          | 0/58 [00:00<?, ?batch/s]"
      ]
     },
     "metadata": {},
     "output_type": "display_data"
    },
    {
     "name": "stdout",
     "output_type": "stream",
     "text": [
      "Test Accuracy: 30.07%\n"
     ]
    },
    {
     "data": {
      "application/vnd.jupyter.widget-view+json": {
       "model_id": "62976324b89349689fc1b70f8e81e353",
       "version_major": 2,
       "version_minor": 0
      },
      "text/plain": [
       "Epoch   372:   0%|          | 0/58 [00:00<?, ?batch/s]"
      ]
     },
     "metadata": {},
     "output_type": "display_data"
    },
    {
     "name": "stdout",
     "output_type": "stream",
     "text": [
      "Test Accuracy: 33.6%\n"
     ]
    },
    {
     "data": {
      "application/vnd.jupyter.widget-view+json": {
       "model_id": "e9488480b4e245ffa43845ca7d98eae6",
       "version_major": 2,
       "version_minor": 0
      },
      "text/plain": [
       "Epoch   373:   0%|          | 0/59 [00:00<?, ?batch/s]"
      ]
     },
     "metadata": {},
     "output_type": "display_data"
    },
    {
     "name": "stdout",
     "output_type": "stream",
     "text": [
      "Test Accuracy: 34.51%\n"
     ]
    },
    {
     "data": {
      "application/vnd.jupyter.widget-view+json": {
       "model_id": "8f46ecfbfb9a4aefb8bc5cf1398306e5",
       "version_major": 2,
       "version_minor": 0
      },
      "text/plain": [
       "Epoch   374:   0%|          | 0/59 [00:00<?, ?batch/s]"
      ]
     },
     "metadata": {},
     "output_type": "display_data"
    },
    {
     "name": "stdout",
     "output_type": "stream",
     "text": [
      "Test Accuracy: 34.44%\n"
     ]
    },
    {
     "data": {
      "application/vnd.jupyter.widget-view+json": {
       "model_id": "9686e4e2c1154270bb4243fd30a9de3e",
       "version_major": 2,
       "version_minor": 0
      },
      "text/plain": [
       "Epoch   375:   0%|          | 0/60 [00:00<?, ?batch/s]"
      ]
     },
     "metadata": {},
     "output_type": "display_data"
    },
    {
     "name": "stdout",
     "output_type": "stream",
     "text": [
      "Test Accuracy: 34.17%\n"
     ]
    },
    {
     "data": {
      "application/vnd.jupyter.widget-view+json": {
       "model_id": "e68493caad0442ffb285c2cd72892f63",
       "version_major": 2,
       "version_minor": 0
      },
      "text/plain": [
       "Epoch   376:   0%|          | 0/60 [00:00<?, ?batch/s]"
      ]
     },
     "metadata": {},
     "output_type": "display_data"
    },
    {
     "name": "stdout",
     "output_type": "stream",
     "text": [
      "Test Accuracy: 33.64%\n"
     ]
    },
    {
     "data": {
      "application/vnd.jupyter.widget-view+json": {
       "model_id": "b5f816797e9a4f6cb0dadd4cd76df689",
       "version_major": 2,
       "version_minor": 0
      },
      "text/plain": [
       "Epoch   377:   0%|          | 0/61 [00:00<?, ?batch/s]"
      ]
     },
     "metadata": {},
     "output_type": "display_data"
    },
    {
     "name": "stdout",
     "output_type": "stream",
     "text": [
      "Test Accuracy: 27.6%\n"
     ]
    },
    {
     "data": {
      "application/vnd.jupyter.widget-view+json": {
       "model_id": "b7d8678021e24162b28964198f8d01ce",
       "version_major": 2,
       "version_minor": 0
      },
      "text/plain": [
       "Epoch   378:   0%|          | 0/61 [00:00<?, ?batch/s]"
      ]
     },
     "metadata": {},
     "output_type": "display_data"
    },
    {
     "name": "stdout",
     "output_type": "stream",
     "text": [
      "Test Accuracy: 31.65%\n"
     ]
    },
    {
     "data": {
      "application/vnd.jupyter.widget-view+json": {
       "model_id": "71506b3211404531a851cf0dcc5c9f5e",
       "version_major": 2,
       "version_minor": 0
      },
      "text/plain": [
       "Epoch   379:   0%|          | 0/61 [00:00<?, ?batch/s]"
      ]
     },
     "metadata": {},
     "output_type": "display_data"
    },
    {
     "name": "stdout",
     "output_type": "stream",
     "text": [
      "Test Accuracy: 29.6%\n"
     ]
    },
    {
     "data": {
      "application/vnd.jupyter.widget-view+json": {
       "model_id": "ab456bffee3a41e68c530e6ac05f4208",
       "version_major": 2,
       "version_minor": 0
      },
      "text/plain": [
       "Epoch   380:   0%|          | 0/61 [00:00<?, ?batch/s]"
      ]
     },
     "metadata": {},
     "output_type": "display_data"
    },
    {
     "name": "stdout",
     "output_type": "stream",
     "text": [
      "Test Accuracy: 31.16%\n"
     ]
    },
    {
     "data": {
      "application/vnd.jupyter.widget-view+json": {
       "model_id": "a1f776c811f945f3af1c1adb75c92648",
       "version_major": 2,
       "version_minor": 0
      },
      "text/plain": [
       "Epoch   381:   0%|          | 0/62 [00:00<?, ?batch/s]"
      ]
     },
     "metadata": {},
     "output_type": "display_data"
    },
    {
     "name": "stdout",
     "output_type": "stream",
     "text": [
      "Test Accuracy: 33.71%\n"
     ]
    },
    {
     "data": {
      "application/vnd.jupyter.widget-view+json": {
       "model_id": "a648bb6396d14dfaaad654a74a067809",
       "version_major": 2,
       "version_minor": 0
      },
      "text/plain": [
       "Epoch   382:   0%|          | 0/62 [00:00<?, ?batch/s]"
      ]
     },
     "metadata": {},
     "output_type": "display_data"
    },
    {
     "name": "stdout",
     "output_type": "stream",
     "text": [
      "Test Accuracy: 29.34%\n"
     ]
    },
    {
     "data": {
      "application/vnd.jupyter.widget-view+json": {
       "model_id": "d8e5607bd125466a94fdc7d0afe6ab1f",
       "version_major": 2,
       "version_minor": 0
      },
      "text/plain": [
       "Epoch   383:   0%|          | 0/63 [00:00<?, ?batch/s]"
      ]
     },
     "metadata": {},
     "output_type": "display_data"
    },
    {
     "name": "stdout",
     "output_type": "stream",
     "text": [
      "Test Accuracy: 32.49%\n"
     ]
    },
    {
     "data": {
      "application/vnd.jupyter.widget-view+json": {
       "model_id": "387c61aa26b54fc9b749433149d4740b",
       "version_major": 2,
       "version_minor": 0
      },
      "text/plain": [
       "Epoch   384:   0%|          | 0/63 [00:00<?, ?batch/s]"
      ]
     },
     "metadata": {},
     "output_type": "display_data"
    },
    {
     "name": "stdout",
     "output_type": "stream",
     "text": [
      "Test Accuracy: 30.04%\n"
     ]
    },
    {
     "data": {
      "application/vnd.jupyter.widget-view+json": {
       "model_id": "0e098300085f4cae9490c54afc2e4b0d",
       "version_major": 2,
       "version_minor": 0
      },
      "text/plain": [
       "Epoch   385:   0%|          | 0/64 [00:00<?, ?batch/s]"
      ]
     },
     "metadata": {},
     "output_type": "display_data"
    },
    {
     "name": "stdout",
     "output_type": "stream",
     "text": [
      "Test Accuracy: 28.96%\n"
     ]
    },
    {
     "data": {
      "application/vnd.jupyter.widget-view+json": {
       "model_id": "52d38fb87eff45e2865169a69f8505a8",
       "version_major": 2,
       "version_minor": 0
      },
      "text/plain": [
       "Epoch   386:   0%|          | 0/64 [00:00<?, ?batch/s]"
      ]
     },
     "metadata": {},
     "output_type": "display_data"
    },
    {
     "name": "stdout",
     "output_type": "stream",
     "text": [
      "Test Accuracy: 34.11%\n"
     ]
    },
    {
     "data": {
      "application/vnd.jupyter.widget-view+json": {
       "model_id": "14c58e291f65449ba8f974b65a090f45",
       "version_major": 2,
       "version_minor": 0
      },
      "text/plain": [
       "Epoch   387:   0%|          | 0/65 [00:00<?, ?batch/s]"
      ]
     },
     "metadata": {},
     "output_type": "display_data"
    },
    {
     "name": "stdout",
     "output_type": "stream",
     "text": [
      "Test Accuracy: 33.83%\n"
     ]
    },
    {
     "data": {
      "application/vnd.jupyter.widget-view+json": {
       "model_id": "b9828765c5d7471d9beb0fb897ae94f6",
       "version_major": 2,
       "version_minor": 0
      },
      "text/plain": [
       "Epoch   388:   0%|          | 0/65 [00:00<?, ?batch/s]"
      ]
     },
     "metadata": {},
     "output_type": "display_data"
    },
    {
     "name": "stdout",
     "output_type": "stream",
     "text": [
      "Test Accuracy: 31.51%\n"
     ]
    },
    {
     "data": {
      "application/vnd.jupyter.widget-view+json": {
       "model_id": "37fd63217a884ef4a68a57d9f3c9da1a",
       "version_major": 2,
       "version_minor": 0
      },
      "text/plain": [
       "Epoch   389:   0%|          | 0/65 [00:00<?, ?batch/s]"
      ]
     },
     "metadata": {},
     "output_type": "display_data"
    },
    {
     "name": "stdout",
     "output_type": "stream",
     "text": [
      "Test Accuracy: 31.85%\n"
     ]
    },
    {
     "data": {
      "application/vnd.jupyter.widget-view+json": {
       "model_id": "428db9db2c09445da19ba7a926307952",
       "version_major": 2,
       "version_minor": 0
      },
      "text/plain": [
       "Epoch   390:   0%|          | 0/65 [00:00<?, ?batch/s]"
      ]
     },
     "metadata": {},
     "output_type": "display_data"
    },
    {
     "name": "stdout",
     "output_type": "stream",
     "text": [
      "Test Accuracy: 30.93%\n"
     ]
    },
    {
     "data": {
      "application/vnd.jupyter.widget-view+json": {
       "model_id": "b75f5c05f58e44e68e53cdea0942dd62",
       "version_major": 2,
       "version_minor": 0
      },
      "text/plain": [
       "Epoch   391:   0%|          | 0/66 [00:00<?, ?batch/s]"
      ]
     },
     "metadata": {},
     "output_type": "display_data"
    },
    {
     "name": "stdout",
     "output_type": "stream",
     "text": [
      "Test Accuracy: 30.72%\n"
     ]
    },
    {
     "data": {
      "application/vnd.jupyter.widget-view+json": {
       "model_id": "f6944c19c0dd4804bd2ab6f62a6a098a",
       "version_major": 2,
       "version_minor": 0
      },
      "text/plain": [
       "Epoch   392:   0%|          | 0/66 [00:00<?, ?batch/s]"
      ]
     },
     "metadata": {},
     "output_type": "display_data"
    },
    {
     "name": "stdout",
     "output_type": "stream",
     "text": [
      "Test Accuracy: 33.23%\n"
     ]
    },
    {
     "data": {
      "application/vnd.jupyter.widget-view+json": {
       "model_id": "15434921074a411c8c898ac68a376ba1",
       "version_major": 2,
       "version_minor": 0
      },
      "text/plain": [
       "Epoch   393:   0%|          | 0/67 [00:00<?, ?batch/s]"
      ]
     },
     "metadata": {},
     "output_type": "display_data"
    },
    {
     "name": "stdout",
     "output_type": "stream",
     "text": [
      "Test Accuracy: 32.44%\n"
     ]
    },
    {
     "data": {
      "application/vnd.jupyter.widget-view+json": {
       "model_id": "eeb5f75ad80e4e2bb49e41570aafaaa3",
       "version_major": 2,
       "version_minor": 0
      },
      "text/plain": [
       "Epoch   394:   0%|          | 0/67 [00:00<?, ?batch/s]"
      ]
     },
     "metadata": {},
     "output_type": "display_data"
    },
    {
     "name": "stdout",
     "output_type": "stream",
     "text": [
      "Test Accuracy: 27.45%\n"
     ]
    },
    {
     "data": {
      "application/vnd.jupyter.widget-view+json": {
       "model_id": "1f4ad3b830ed48c981877bdafe5f2b58",
       "version_major": 2,
       "version_minor": 0
      },
      "text/plain": [
       "Epoch   395:   0%|          | 0/68 [00:00<?, ?batch/s]"
      ]
     },
     "metadata": {},
     "output_type": "display_data"
    },
    {
     "name": "stdout",
     "output_type": "stream",
     "text": [
      "Test Accuracy: 31.93%\n"
     ]
    },
    {
     "data": {
      "application/vnd.jupyter.widget-view+json": {
       "model_id": "e69416c86a8444b4b50426e5af0d0849",
       "version_major": 2,
       "version_minor": 0
      },
      "text/plain": [
       "Epoch   396:   0%|          | 0/68 [00:00<?, ?batch/s]"
      ]
     },
     "metadata": {},
     "output_type": "display_data"
    },
    {
     "name": "stdout",
     "output_type": "stream",
     "text": [
      "Test Accuracy: 31.73%\n"
     ]
    },
    {
     "data": {
      "application/vnd.jupyter.widget-view+json": {
       "model_id": "d57dfab14eab48a4bb945a3f3e6e6610",
       "version_major": 2,
       "version_minor": 0
      },
      "text/plain": [
       "Epoch   397:   0%|          | 0/68 [00:00<?, ?batch/s]"
      ]
     },
     "metadata": {},
     "output_type": "display_data"
    },
    {
     "name": "stdout",
     "output_type": "stream",
     "text": [
      "Test Accuracy: 32.22%\n"
     ]
    },
    {
     "data": {
      "application/vnd.jupyter.widget-view+json": {
       "model_id": "179064ecbfb34be1a7f7dd89a0bfaedd",
       "version_major": 2,
       "version_minor": 0
      },
      "text/plain": [
       "Epoch   398:   0%|          | 0/68 [00:00<?, ?batch/s]"
      ]
     },
     "metadata": {},
     "output_type": "display_data"
    },
    {
     "name": "stdout",
     "output_type": "stream",
     "text": [
      "Test Accuracy: 33.69%\n"
     ]
    },
    {
     "data": {
      "application/vnd.jupyter.widget-view+json": {
       "model_id": "7a06e398e497440db3c599deeac38299",
       "version_major": 2,
       "version_minor": 0
      },
      "text/plain": [
       "Epoch   399:   0%|          | 0/69 [00:00<?, ?batch/s]"
      ]
     },
     "metadata": {},
     "output_type": "display_data"
    },
    {
     "name": "stdout",
     "output_type": "stream",
     "text": [
      "Test Accuracy: 32.56%\n"
     ]
    },
    {
     "data": {
      "application/vnd.jupyter.widget-view+json": {
       "model_id": "e38ea33735f54bdd914ed8f659587486",
       "version_major": 2,
       "version_minor": 0
      },
      "text/plain": [
       "Epoch   400:   0%|          | 0/69 [00:00<?, ?batch/s]"
      ]
     },
     "metadata": {},
     "output_type": "display_data"
    },
    {
     "name": "stdout",
     "output_type": "stream",
     "text": [
      "Test Accuracy: 32.83%\n"
     ]
    },
    {
     "data": {
      "application/vnd.jupyter.widget-view+json": {
       "model_id": "fccadb3ea8b7455b8f6fc28e4b714def",
       "version_major": 2,
       "version_minor": 0
      },
      "text/plain": [
       "Epoch   401:   0%|          | 0/70 [00:00<?, ?batch/s]"
      ]
     },
     "metadata": {},
     "output_type": "display_data"
    },
    {
     "name": "stdout",
     "output_type": "stream",
     "text": [
      "Test Accuracy: 32.56%\n"
     ]
    },
    {
     "data": {
      "application/vnd.jupyter.widget-view+json": {
       "model_id": "d8919fe0be484f1d9c99dbfc244f9aae",
       "version_major": 2,
       "version_minor": 0
      },
      "text/plain": [
       "Epoch   402:   0%|          | 0/70 [00:00<?, ?batch/s]"
      ]
     },
     "metadata": {},
     "output_type": "display_data"
    },
    {
     "name": "stdout",
     "output_type": "stream",
     "text": [
      "Test Accuracy: 30.44%\n"
     ]
    },
    {
     "data": {
      "application/vnd.jupyter.widget-view+json": {
       "model_id": "81047fcacc464b358baf42970f118099",
       "version_major": 2,
       "version_minor": 0
      },
      "text/plain": [
       "Epoch   403:   0%|          | 0/71 [00:00<?, ?batch/s]"
      ]
     },
     "metadata": {},
     "output_type": "display_data"
    },
    {
     "name": "stdout",
     "output_type": "stream",
     "text": [
      "Test Accuracy: 30.85%\n"
     ]
    },
    {
     "data": {
      "application/vnd.jupyter.widget-view+json": {
       "model_id": "9d20d9784887451e91537c4a9f2d8d2f",
       "version_major": 2,
       "version_minor": 0
      },
      "text/plain": [
       "Epoch   404:   0%|          | 0/71 [00:00<?, ?batch/s]"
      ]
     },
     "metadata": {},
     "output_type": "display_data"
    },
    {
     "name": "stdout",
     "output_type": "stream",
     "text": [
      "Test Accuracy: 32.86%\n"
     ]
    },
    {
     "data": {
      "application/vnd.jupyter.widget-view+json": {
       "model_id": "5f030fbbe356421591005f0c29518cde",
       "version_major": 2,
       "version_minor": 0
      },
      "text/plain": [
       "Epoch   405:   0%|          | 0/72 [00:00<?, ?batch/s]"
      ]
     },
     "metadata": {},
     "output_type": "display_data"
    },
    {
     "name": "stdout",
     "output_type": "stream",
     "text": [
      "Test Accuracy: 30.28%\n"
     ]
    },
    {
     "data": {
      "application/vnd.jupyter.widget-view+json": {
       "model_id": "c0b56f05bf174d98b3b7e6d73a902762",
       "version_major": 2,
       "version_minor": 0
      },
      "text/plain": [
       "Epoch   406:   0%|          | 0/72 [00:00<?, ?batch/s]"
      ]
     },
     "metadata": {},
     "output_type": "display_data"
    },
    {
     "name": "stdout",
     "output_type": "stream",
     "text": [
      "Test Accuracy: 32.28%\n"
     ]
    },
    {
     "data": {
      "application/vnd.jupyter.widget-view+json": {
       "model_id": "1ffef0cbf73447f0a6899ba3ac251859",
       "version_major": 2,
       "version_minor": 0
      },
      "text/plain": [
       "Epoch   407:   0%|          | 0/72 [00:00<?, ?batch/s]"
      ]
     },
     "metadata": {},
     "output_type": "display_data"
    },
    {
     "name": "stdout",
     "output_type": "stream",
     "text": [
      "Test Accuracy: 31.37%\n"
     ]
    },
    {
     "data": {
      "application/vnd.jupyter.widget-view+json": {
       "model_id": "057f08bf908848c7b3f82f3538af90a7",
       "version_major": 2,
       "version_minor": 0
      },
      "text/plain": [
       "Epoch   408:   0%|          | 0/72 [00:00<?, ?batch/s]"
      ]
     },
     "metadata": {},
     "output_type": "display_data"
    },
    {
     "name": "stdout",
     "output_type": "stream",
     "text": [
      "Test Accuracy: 32.27%\n"
     ]
    },
    {
     "data": {
      "application/vnd.jupyter.widget-view+json": {
       "model_id": "6f432c578b144f92b69580bd423cd09c",
       "version_major": 2,
       "version_minor": 0
      },
      "text/plain": [
       "Epoch   409:   0%|          | 0/73 [00:00<?, ?batch/s]"
      ]
     },
     "metadata": {},
     "output_type": "display_data"
    },
    {
     "name": "stdout",
     "output_type": "stream",
     "text": [
      "Test Accuracy: 32.36%\n"
     ]
    },
    {
     "data": {
      "application/vnd.jupyter.widget-view+json": {
       "model_id": "a741ee0281d9467b80ce99f8e5a10343",
       "version_major": 2,
       "version_minor": 0
      },
      "text/plain": [
       "Epoch   410:   0%|          | 0/73 [00:00<?, ?batch/s]"
      ]
     },
     "metadata": {},
     "output_type": "display_data"
    },
    {
     "name": "stdout",
     "output_type": "stream",
     "text": [
      "Test Accuracy: 33.72%\n"
     ]
    },
    {
     "data": {
      "application/vnd.jupyter.widget-view+json": {
       "model_id": "cefdb3a838234afbad04130d6b0a0224",
       "version_major": 2,
       "version_minor": 0
      },
      "text/plain": [
       "Epoch   411:   0%|          | 0/74 [00:00<?, ?batch/s]"
      ]
     },
     "metadata": {},
     "output_type": "display_data"
    },
    {
     "name": "stdout",
     "output_type": "stream",
     "text": [
      "Test Accuracy: 31.26%\n"
     ]
    },
    {
     "data": {
      "application/vnd.jupyter.widget-view+json": {
       "model_id": "d1c9d15945984e44b1deaba21fd6c8e8",
       "version_major": 2,
       "version_minor": 0
      },
      "text/plain": [
       "Epoch   412:   0%|          | 0/74 [00:00<?, ?batch/s]"
      ]
     },
     "metadata": {},
     "output_type": "display_data"
    },
    {
     "name": "stdout",
     "output_type": "stream",
     "text": [
      "Test Accuracy: 32.17%\n"
     ]
    },
    {
     "data": {
      "application/vnd.jupyter.widget-view+json": {
       "model_id": "1dc4f0499ca342729ec61e29f94f72e5",
       "version_major": 2,
       "version_minor": 0
      },
      "text/plain": [
       "Epoch   413:   0%|          | 0/75 [00:00<?, ?batch/s]"
      ]
     },
     "metadata": {},
     "output_type": "display_data"
    },
    {
     "name": "stdout",
     "output_type": "stream",
     "text": [
      "Test Accuracy: 30.23%\n"
     ]
    },
    {
     "data": {
      "application/vnd.jupyter.widget-view+json": {
       "model_id": "6c5cedc78d6e4af5ac3549e43a57aa91",
       "version_major": 2,
       "version_minor": 0
      },
      "text/plain": [
       "Epoch   414:   0%|          | 0/75 [00:00<?, ?batch/s]"
      ]
     },
     "metadata": {},
     "output_type": "display_data"
    },
    {
     "name": "stdout",
     "output_type": "stream",
     "text": [
      "Test Accuracy: 32.67%\n"
     ]
    },
    {
     "data": {
      "application/vnd.jupyter.widget-view+json": {
       "model_id": "63718576d8f3476fbf4c46053a4226c1",
       "version_major": 2,
       "version_minor": 0
      },
      "text/plain": [
       "Epoch   415:   0%|          | 0/75 [00:00<?, ?batch/s]"
      ]
     },
     "metadata": {},
     "output_type": "display_data"
    },
    {
     "name": "stdout",
     "output_type": "stream",
     "text": [
      "Test Accuracy: 31.79%\n"
     ]
    },
    {
     "data": {
      "application/vnd.jupyter.widget-view+json": {
       "model_id": "499dedd0a3b545c4b1c7aac3e58f39e6",
       "version_major": 2,
       "version_minor": 0
      },
      "text/plain": [
       "Epoch   416:   0%|          | 0/75 [00:00<?, ?batch/s]"
      ]
     },
     "metadata": {},
     "output_type": "display_data"
    },
    {
     "name": "stdout",
     "output_type": "stream",
     "text": [
      "Test Accuracy: 31.64%\n"
     ]
    },
    {
     "data": {
      "application/vnd.jupyter.widget-view+json": {
       "model_id": "ad027d98babb47f3bca7fceea6fbeb2f",
       "version_major": 2,
       "version_minor": 0
      },
      "text/plain": [
       "Epoch   417:   0%|          | 0/76 [00:00<?, ?batch/s]"
      ]
     },
     "metadata": {},
     "output_type": "display_data"
    },
    {
     "name": "stdout",
     "output_type": "stream",
     "text": [
      "Test Accuracy: 32.99%\n"
     ]
    },
    {
     "data": {
      "application/vnd.jupyter.widget-view+json": {
       "model_id": "8f163a61f4d74312af0b01caac0016be",
       "version_major": 2,
       "version_minor": 0
      },
      "text/plain": [
       "Epoch   418:   0%|          | 0/76 [00:00<?, ?batch/s]"
      ]
     },
     "metadata": {},
     "output_type": "display_data"
    },
    {
     "name": "stdout",
     "output_type": "stream",
     "text": [
      "Test Accuracy: 32.82%\n"
     ]
    },
    {
     "data": {
      "application/vnd.jupyter.widget-view+json": {
       "model_id": "fba65c4aa7d04a02a42c9e5452bea888",
       "version_major": 2,
       "version_minor": 0
      },
      "text/plain": [
       "Epoch   419:   0%|          | 0/77 [00:00<?, ?batch/s]"
      ]
     },
     "metadata": {},
     "output_type": "display_data"
    },
    {
     "name": "stdout",
     "output_type": "stream",
     "text": [
      "Test Accuracy: 33.04%\n"
     ]
    },
    {
     "data": {
      "application/vnd.jupyter.widget-view+json": {
       "model_id": "d10a25eb070f44f5b517113ef4cb0ae3",
       "version_major": 2,
       "version_minor": 0
      },
      "text/plain": [
       "Epoch   420:   0%|          | 0/77 [00:00<?, ?batch/s]"
      ]
     },
     "metadata": {},
     "output_type": "display_data"
    },
    {
     "name": "stdout",
     "output_type": "stream",
     "text": [
      "Test Accuracy: 31.29%\n"
     ]
    },
    {
     "data": {
      "application/vnd.jupyter.widget-view+json": {
       "model_id": "9a8024a43c524798af312dc5a6affbb4",
       "version_major": 2,
       "version_minor": 0
      },
      "text/plain": [
       "Epoch   421:   0%|          | 0/78 [00:00<?, ?batch/s]"
      ]
     },
     "metadata": {},
     "output_type": "display_data"
    },
    {
     "name": "stdout",
     "output_type": "stream",
     "text": [
      "Test Accuracy: 29.62%\n"
     ]
    },
    {
     "data": {
      "application/vnd.jupyter.widget-view+json": {
       "model_id": "4ec502f55f764bf594df385ea80d307a",
       "version_major": 2,
       "version_minor": 0
      },
      "text/plain": [
       "Epoch   422:   0%|          | 0/78 [00:00<?, ?batch/s]"
      ]
     },
     "metadata": {},
     "output_type": "display_data"
    },
    {
     "name": "stdout",
     "output_type": "stream",
     "text": [
      "Test Accuracy: 33.16%\n"
     ]
    },
    {
     "data": {
      "application/vnd.jupyter.widget-view+json": {
       "model_id": "a32c4516814744db88d29cf4e83b72c8",
       "version_major": 2,
       "version_minor": 0
      },
      "text/plain": [
       "Epoch   423:   0%|          | 0/79 [00:00<?, ?batch/s]"
      ]
     },
     "metadata": {},
     "output_type": "display_data"
    },
    {
     "name": "stdout",
     "output_type": "stream",
     "text": [
      "Test Accuracy: 30.5%\n"
     ]
    },
    {
     "data": {
      "application/vnd.jupyter.widget-view+json": {
       "model_id": "1877b01af9f84569bfb3f62ae0acf167",
       "version_major": 2,
       "version_minor": 0
      },
      "text/plain": [
       "Epoch   424:   0%|          | 0/79 [00:00<?, ?batch/s]"
      ]
     },
     "metadata": {},
     "output_type": "display_data"
    },
    {
     "name": "stdout",
     "output_type": "stream",
     "text": [
      "Test Accuracy: 28.41%\n"
     ]
    },
    {
     "data": {
      "application/vnd.jupyter.widget-view+json": {
       "model_id": "0893e2d13ad1482dac5f94726c9bb437",
       "version_major": 2,
       "version_minor": 0
      },
      "text/plain": [
       "Epoch   425:   0%|          | 0/79 [00:00<?, ?batch/s]"
      ]
     },
     "metadata": {},
     "output_type": "display_data"
    },
    {
     "name": "stdout",
     "output_type": "stream",
     "text": [
      "Test Accuracy: 27.1%\n"
     ]
    },
    {
     "data": {
      "application/vnd.jupyter.widget-view+json": {
       "model_id": "348f63b4d67944a0938afc49ad9598fb",
       "version_major": 2,
       "version_minor": 0
      },
      "text/plain": [
       "Epoch   426:   0%|          | 0/79 [00:00<?, ?batch/s]"
      ]
     },
     "metadata": {},
     "output_type": "display_data"
    },
    {
     "name": "stdout",
     "output_type": "stream",
     "text": [
      "Test Accuracy: 33.65%\n"
     ]
    },
    {
     "data": {
      "application/vnd.jupyter.widget-view+json": {
       "model_id": "ee481a188c414dd08f12551ffb4fdf40",
       "version_major": 2,
       "version_minor": 0
      },
      "text/plain": [
       "Epoch   427:   0%|          | 0/79 [00:00<?, ?batch/s]"
      ]
     },
     "metadata": {},
     "output_type": "display_data"
    },
    {
     "name": "stdout",
     "output_type": "stream",
     "text": [
      "Test Accuracy: 31.16%\n"
     ]
    },
    {
     "data": {
      "application/vnd.jupyter.widget-view+json": {
       "model_id": "ab090cca8aa24910b7c8101ccaecb691",
       "version_major": 2,
       "version_minor": 0
      },
      "text/plain": [
       "Epoch   428:   0%|          | 0/79 [00:00<?, ?batch/s]"
      ]
     },
     "metadata": {},
     "output_type": "display_data"
    },
    {
     "name": "stdout",
     "output_type": "stream",
     "text": [
      "Test Accuracy: 33.23%\n"
     ]
    },
    {
     "data": {
      "application/vnd.jupyter.widget-view+json": {
       "model_id": "39c8fb5d838e44fb8e51ad5be6b1dfb4",
       "version_major": 2,
       "version_minor": 0
      },
      "text/plain": [
       "Epoch   429:   0%|          | 0/79 [00:00<?, ?batch/s]"
      ]
     },
     "metadata": {},
     "output_type": "display_data"
    },
    {
     "name": "stdout",
     "output_type": "stream",
     "text": [
      "Test Accuracy: 28.87%\n"
     ]
    },
    {
     "data": {
      "application/vnd.jupyter.widget-view+json": {
       "model_id": "4f92d3ff95ec46199bf1f242ecf2cc62",
       "version_major": 2,
       "version_minor": 0
      },
      "text/plain": [
       "Epoch   430:   0%|          | 0/79 [00:00<?, ?batch/s]"
      ]
     },
     "metadata": {},
     "output_type": "display_data"
    },
    {
     "name": "stdout",
     "output_type": "stream",
     "text": [
      "Test Accuracy: 30.21%\n"
     ]
    },
    {
     "data": {
      "application/vnd.jupyter.widget-view+json": {
       "model_id": "915386c516be443db395a5ae25ad0eff",
       "version_major": 2,
       "version_minor": 0
      },
      "text/plain": [
       "Epoch   431:   0%|          | 0/79 [00:00<?, ?batch/s]"
      ]
     },
     "metadata": {},
     "output_type": "display_data"
    },
    {
     "name": "stdout",
     "output_type": "stream",
     "text": [
      "Test Accuracy: 32.21%\n"
     ]
    },
    {
     "data": {
      "application/vnd.jupyter.widget-view+json": {
       "model_id": "11ea55c3e78c45e3a84e49246d22f8a7",
       "version_major": 2,
       "version_minor": 0
      },
      "text/plain": [
       "Epoch   432:   0%|          | 0/79 [00:00<?, ?batch/s]"
      ]
     },
     "metadata": {},
     "output_type": "display_data"
    },
    {
     "name": "stdout",
     "output_type": "stream",
     "text": [
      "Test Accuracy: 32.39%\n"
     ]
    },
    {
     "data": {
      "application/vnd.jupyter.widget-view+json": {
       "model_id": "999095cced7b4bd4bea7c5b9e77fab20",
       "version_major": 2,
       "version_minor": 0
      },
      "text/plain": [
       "Epoch   433:   0%|          | 0/79 [00:00<?, ?batch/s]"
      ]
     },
     "metadata": {},
     "output_type": "display_data"
    },
    {
     "name": "stdout",
     "output_type": "stream",
     "text": [
      "Test Accuracy: 31.02%\n"
     ]
    },
    {
     "data": {
      "application/vnd.jupyter.widget-view+json": {
       "model_id": "98b251244e644453bc15edc50d8f6329",
       "version_major": 2,
       "version_minor": 0
      },
      "text/plain": [
       "Epoch   434:   0%|          | 0/79 [00:00<?, ?batch/s]"
      ]
     },
     "metadata": {},
     "output_type": "display_data"
    },
    {
     "name": "stdout",
     "output_type": "stream",
     "text": [
      "Test Accuracy: 32.19%\n"
     ]
    },
    {
     "data": {
      "application/vnd.jupyter.widget-view+json": {
       "model_id": "eef39f4931094c47902d2c3307a7fc62",
       "version_major": 2,
       "version_minor": 0
      },
      "text/plain": [
       "Epoch   435:   0%|          | 0/79 [00:00<?, ?batch/s]"
      ]
     },
     "metadata": {},
     "output_type": "display_data"
    },
    {
     "name": "stdout",
     "output_type": "stream",
     "text": [
      "Test Accuracy: 29.93%\n"
     ]
    },
    {
     "data": {
      "application/vnd.jupyter.widget-view+json": {
       "model_id": "9802f4a3fdd643a197ec86b261c63625",
       "version_major": 2,
       "version_minor": 0
      },
      "text/plain": [
       "Epoch   436:   0%|          | 0/79 [00:00<?, ?batch/s]"
      ]
     },
     "metadata": {},
     "output_type": "display_data"
    },
    {
     "name": "stdout",
     "output_type": "stream",
     "text": [
      "Test Accuracy: 32.01%\n"
     ]
    },
    {
     "data": {
      "application/vnd.jupyter.widget-view+json": {
       "model_id": "62723ed3cd6946e68bc456dc94b04867",
       "version_major": 2,
       "version_minor": 0
      },
      "text/plain": [
       "Epoch   437:   0%|          | 0/79 [00:00<?, ?batch/s]"
      ]
     },
     "metadata": {},
     "output_type": "display_data"
    },
    {
     "name": "stdout",
     "output_type": "stream",
     "text": [
      "Test Accuracy: 32.63%\n"
     ]
    },
    {
     "data": {
      "application/vnd.jupyter.widget-view+json": {
       "model_id": "69271d5ed3e34140b6c1e2ddfec5921e",
       "version_major": 2,
       "version_minor": 0
      },
      "text/plain": [
       "Epoch   438:   0%|          | 0/79 [00:00<?, ?batch/s]"
      ]
     },
     "metadata": {},
     "output_type": "display_data"
    },
    {
     "name": "stdout",
     "output_type": "stream",
     "text": [
      "Test Accuracy: 30.77%\n"
     ]
    },
    {
     "data": {
      "application/vnd.jupyter.widget-view+json": {
       "model_id": "287884f15ee0491593305526d587240b",
       "version_major": 2,
       "version_minor": 0
      },
      "text/plain": [
       "Epoch   439:   0%|          | 0/79 [00:00<?, ?batch/s]"
      ]
     },
     "metadata": {},
     "output_type": "display_data"
    },
    {
     "name": "stdout",
     "output_type": "stream",
     "text": [
      "Test Accuracy: 30.13%\n"
     ]
    },
    {
     "data": {
      "application/vnd.jupyter.widget-view+json": {
       "model_id": "5fdae4b0ba1e4ba09dfc2f4cc0000b90",
       "version_major": 2,
       "version_minor": 0
      },
      "text/plain": [
       "Epoch   440:   0%|          | 0/79 [00:00<?, ?batch/s]"
      ]
     },
     "metadata": {},
     "output_type": "display_data"
    },
    {
     "name": "stdout",
     "output_type": "stream",
     "text": [
      "Test Accuracy: 28.76%\n"
     ]
    },
    {
     "data": {
      "application/vnd.jupyter.widget-view+json": {
       "model_id": "d7b43f409f024c01bd561a1eb75be91f",
       "version_major": 2,
       "version_minor": 0
      },
      "text/plain": [
       "Epoch   441:   0%|          | 0/79 [00:00<?, ?batch/s]"
      ]
     },
     "metadata": {},
     "output_type": "display_data"
    },
    {
     "name": "stdout",
     "output_type": "stream",
     "text": [
      "Test Accuracy: 30.37%\n"
     ]
    },
    {
     "data": {
      "application/vnd.jupyter.widget-view+json": {
       "model_id": "ab163058a9d14fe497447d69cfc1658f",
       "version_major": 2,
       "version_minor": 0
      },
      "text/plain": [
       "Epoch   442:   0%|          | 0/79 [00:00<?, ?batch/s]"
      ]
     },
     "metadata": {},
     "output_type": "display_data"
    },
    {
     "name": "stdout",
     "output_type": "stream",
     "text": [
      "Test Accuracy: 33.61%\n"
     ]
    },
    {
     "data": {
      "application/vnd.jupyter.widget-view+json": {
       "model_id": "d0c24e0af6c946e38f1d59680257a7f8",
       "version_major": 2,
       "version_minor": 0
      },
      "text/plain": [
       "Epoch   443:   0%|          | 0/79 [00:00<?, ?batch/s]"
      ]
     },
     "metadata": {},
     "output_type": "display_data"
    },
    {
     "name": "stdout",
     "output_type": "stream",
     "text": [
      "Test Accuracy: 28.63%\n"
     ]
    },
    {
     "data": {
      "application/vnd.jupyter.widget-view+json": {
       "model_id": "c40f4fffe47148d4937ab3f69776e1b5",
       "version_major": 2,
       "version_minor": 0
      },
      "text/plain": [
       "Epoch   444:   0%|          | 0/79 [00:00<?, ?batch/s]"
      ]
     },
     "metadata": {},
     "output_type": "display_data"
    },
    {
     "name": "stdout",
     "output_type": "stream",
     "text": [
      "Test Accuracy: 33.15%\n"
     ]
    },
    {
     "data": {
      "application/vnd.jupyter.widget-view+json": {
       "model_id": "eba18aa04d7b471198083062dda90720",
       "version_major": 2,
       "version_minor": 0
      },
      "text/plain": [
       "Epoch   445:   0%|          | 0/79 [00:00<?, ?batch/s]"
      ]
     },
     "metadata": {},
     "output_type": "display_data"
    },
    {
     "name": "stdout",
     "output_type": "stream",
     "text": [
      "Test Accuracy: 31.3%\n"
     ]
    },
    {
     "data": {
      "application/vnd.jupyter.widget-view+json": {
       "model_id": "ccf9a6ccbf0749bfabcdfe77d392eeaa",
       "version_major": 2,
       "version_minor": 0
      },
      "text/plain": [
       "Epoch   446:   0%|          | 0/79 [00:00<?, ?batch/s]"
      ]
     },
     "metadata": {},
     "output_type": "display_data"
    },
    {
     "name": "stdout",
     "output_type": "stream",
     "text": [
      "Test Accuracy: 35.28%\n"
     ]
    },
    {
     "data": {
      "application/vnd.jupyter.widget-view+json": {
       "model_id": "3bcbdab5ff864ed2be6ac7929f22dcd2",
       "version_major": 2,
       "version_minor": 0
      },
      "text/plain": [
       "Epoch   447:   0%|          | 0/79 [00:00<?, ?batch/s]"
      ]
     },
     "metadata": {},
     "output_type": "display_data"
    },
    {
     "name": "stdout",
     "output_type": "stream",
     "text": [
      "Test Accuracy: 33.63%\n"
     ]
    },
    {
     "data": {
      "application/vnd.jupyter.widget-view+json": {
       "model_id": "bddd1135ce824483a296bf3c1b3b4640",
       "version_major": 2,
       "version_minor": 0
      },
      "text/plain": [
       "Epoch   448:   0%|          | 0/79 [00:00<?, ?batch/s]"
      ]
     },
     "metadata": {},
     "output_type": "display_data"
    },
    {
     "name": "stdout",
     "output_type": "stream",
     "text": [
      "Test Accuracy: 32.17%\n"
     ]
    },
    {
     "data": {
      "application/vnd.jupyter.widget-view+json": {
       "model_id": "65ab437d029b4b83a79366b23d299518",
       "version_major": 2,
       "version_minor": 0
      },
      "text/plain": [
       "Epoch   449:   0%|          | 0/79 [00:00<?, ?batch/s]"
      ]
     },
     "metadata": {},
     "output_type": "display_data"
    },
    {
     "name": "stdout",
     "output_type": "stream",
     "text": [
      "Test Accuracy: 32.44%\n"
     ]
    },
    {
     "data": {
      "application/vnd.jupyter.widget-view+json": {
       "model_id": "c3c3b0cd9292454fb24648866ce73d26",
       "version_major": 2,
       "version_minor": 0
      },
      "text/plain": [
       "Epoch   450:   0%|          | 0/79 [00:00<?, ?batch/s]"
      ]
     },
     "metadata": {},
     "output_type": "display_data"
    },
    {
     "name": "stdout",
     "output_type": "stream",
     "text": [
      "Test Accuracy: 34.2%\n"
     ]
    },
    {
     "data": {
      "application/vnd.jupyter.widget-view+json": {
       "model_id": "f208a74947f845138f9bdedb20d4c552",
       "version_major": 2,
       "version_minor": 0
      },
      "text/plain": [
       "Epoch   451:   0%|          | 0/79 [00:00<?, ?batch/s]"
      ]
     },
     "metadata": {},
     "output_type": "display_data"
    },
    {
     "name": "stdout",
     "output_type": "stream",
     "text": [
      "Test Accuracy: 27.67%\n"
     ]
    },
    {
     "data": {
      "application/vnd.jupyter.widget-view+json": {
       "model_id": "cc51061f49cb4f7f9c822f9d357b3627",
       "version_major": 2,
       "version_minor": 0
      },
      "text/plain": [
       "Epoch   452:   0%|          | 0/79 [00:00<?, ?batch/s]"
      ]
     },
     "metadata": {},
     "output_type": "display_data"
    },
    {
     "name": "stdout",
     "output_type": "stream",
     "text": [
      "Test Accuracy: 35.32%\n"
     ]
    },
    {
     "data": {
      "application/vnd.jupyter.widget-view+json": {
       "model_id": "11d3b4c6fb1d43b8947849d6d8d7e02b",
       "version_major": 2,
       "version_minor": 0
      },
      "text/plain": [
       "Epoch   453:   0%|          | 0/79 [00:00<?, ?batch/s]"
      ]
     },
     "metadata": {},
     "output_type": "display_data"
    },
    {
     "name": "stdout",
     "output_type": "stream",
     "text": [
      "Test Accuracy: 31.76%\n"
     ]
    },
    {
     "data": {
      "application/vnd.jupyter.widget-view+json": {
       "model_id": "7b70ae3caf8d4a07ab5f1a4edceb6f7a",
       "version_major": 2,
       "version_minor": 0
      },
      "text/plain": [
       "Epoch   454:   0%|          | 0/79 [00:00<?, ?batch/s]"
      ]
     },
     "metadata": {},
     "output_type": "display_data"
    },
    {
     "name": "stdout",
     "output_type": "stream",
     "text": [
      "Test Accuracy: 30.73%\n"
     ]
    },
    {
     "data": {
      "application/vnd.jupyter.widget-view+json": {
       "model_id": "bcc36aa232654569b53d0c76cfd9943c",
       "version_major": 2,
       "version_minor": 0
      },
      "text/plain": [
       "Epoch   455:   0%|          | 0/79 [00:00<?, ?batch/s]"
      ]
     },
     "metadata": {},
     "output_type": "display_data"
    },
    {
     "name": "stdout",
     "output_type": "stream",
     "text": [
      "Test Accuracy: 31.83%\n"
     ]
    },
    {
     "data": {
      "application/vnd.jupyter.widget-view+json": {
       "model_id": "e988d015b1934b62abb90dd7ba06dc4a",
       "version_major": 2,
       "version_minor": 0
      },
      "text/plain": [
       "Epoch   456:   0%|          | 0/79 [00:00<?, ?batch/s]"
      ]
     },
     "metadata": {},
     "output_type": "display_data"
    },
    {
     "name": "stdout",
     "output_type": "stream",
     "text": [
      "Test Accuracy: 31.07%\n"
     ]
    },
    {
     "data": {
      "application/vnd.jupyter.widget-view+json": {
       "model_id": "5e24b8b493744d66bb9762a79e39e253",
       "version_major": 2,
       "version_minor": 0
      },
      "text/plain": [
       "Epoch   457:   0%|          | 0/79 [00:00<?, ?batch/s]"
      ]
     },
     "metadata": {},
     "output_type": "display_data"
    },
    {
     "name": "stdout",
     "output_type": "stream",
     "text": [
      "Test Accuracy: 30.01%\n"
     ]
    },
    {
     "data": {
      "application/vnd.jupyter.widget-view+json": {
       "model_id": "97ca5c743c6f4b5cb82d0207c7f1b627",
       "version_major": 2,
       "version_minor": 0
      },
      "text/plain": [
       "Epoch   458:   0%|          | 0/79 [00:00<?, ?batch/s]"
      ]
     },
     "metadata": {},
     "output_type": "display_data"
    },
    {
     "name": "stdout",
     "output_type": "stream",
     "text": [
      "Test Accuracy: 32.53%\n"
     ]
    },
    {
     "data": {
      "application/vnd.jupyter.widget-view+json": {
       "model_id": "159a34e1706f4b7ca01476546db192f1",
       "version_major": 2,
       "version_minor": 0
      },
      "text/plain": [
       "Epoch   459:   0%|          | 0/79 [00:00<?, ?batch/s]"
      ]
     },
     "metadata": {},
     "output_type": "display_data"
    },
    {
     "name": "stdout",
     "output_type": "stream",
     "text": [
      "Test Accuracy: 26.37%\n"
     ]
    },
    {
     "data": {
      "application/vnd.jupyter.widget-view+json": {
       "model_id": "1e108a4b7cf742beb6caaf5f4ddddb58",
       "version_major": 2,
       "version_minor": 0
      },
      "text/plain": [
       "Epoch   460:   0%|          | 0/79 [00:00<?, ?batch/s]"
      ]
     },
     "metadata": {},
     "output_type": "display_data"
    },
    {
     "name": "stdout",
     "output_type": "stream",
     "text": [
      "Test Accuracy: 31.08%\n"
     ]
    },
    {
     "data": {
      "application/vnd.jupyter.widget-view+json": {
       "model_id": "d5d9dd035ad34dc68b0d86a6aea582f5",
       "version_major": 2,
       "version_minor": 0
      },
      "text/plain": [
       "Epoch   461:   0%|          | 0/79 [00:00<?, ?batch/s]"
      ]
     },
     "metadata": {},
     "output_type": "display_data"
    },
    {
     "name": "stdout",
     "output_type": "stream",
     "text": [
      "Test Accuracy: 32.62%\n"
     ]
    },
    {
     "data": {
      "application/vnd.jupyter.widget-view+json": {
       "model_id": "e30526a262b7474785bb4f2c9159b40f",
       "version_major": 2,
       "version_minor": 0
      },
      "text/plain": [
       "Epoch   462:   0%|          | 0/79 [00:00<?, ?batch/s]"
      ]
     },
     "metadata": {},
     "output_type": "display_data"
    },
    {
     "name": "stdout",
     "output_type": "stream",
     "text": [
      "Test Accuracy: 30.33%\n"
     ]
    },
    {
     "data": {
      "application/vnd.jupyter.widget-view+json": {
       "model_id": "e7fe7060160f4e948a46843e9b7bba8c",
       "version_major": 2,
       "version_minor": 0
      },
      "text/plain": [
       "Epoch   463:   0%|          | 0/79 [00:00<?, ?batch/s]"
      ]
     },
     "metadata": {},
     "output_type": "display_data"
    },
    {
     "name": "stdout",
     "output_type": "stream",
     "text": [
      "Test Accuracy: 30.81%\n"
     ]
    },
    {
     "data": {
      "application/vnd.jupyter.widget-view+json": {
       "model_id": "cfb342e6e9a94c9c94a4e349df78c5a2",
       "version_major": 2,
       "version_minor": 0
      },
      "text/plain": [
       "Epoch   464:   0%|          | 0/79 [00:00<?, ?batch/s]"
      ]
     },
     "metadata": {},
     "output_type": "display_data"
    },
    {
     "name": "stdout",
     "output_type": "stream",
     "text": [
      "Test Accuracy: 30.81%\n"
     ]
    },
    {
     "data": {
      "application/vnd.jupyter.widget-view+json": {
       "model_id": "a3c5d36c3b714130844b0e14ea1d370f",
       "version_major": 2,
       "version_minor": 0
      },
      "text/plain": [
       "Epoch   465:   0%|          | 0/79 [00:00<?, ?batch/s]"
      ]
     },
     "metadata": {},
     "output_type": "display_data"
    },
    {
     "name": "stdout",
     "output_type": "stream",
     "text": [
      "Test Accuracy: 32.85%\n"
     ]
    },
    {
     "data": {
      "application/vnd.jupyter.widget-view+json": {
       "model_id": "1cbb2080eee849c196308367fd233db3",
       "version_major": 2,
       "version_minor": 0
      },
      "text/plain": [
       "Epoch   466:   0%|          | 0/79 [00:00<?, ?batch/s]"
      ]
     },
     "metadata": {},
     "output_type": "display_data"
    },
    {
     "name": "stdout",
     "output_type": "stream",
     "text": [
      "Test Accuracy: 30.36%\n"
     ]
    },
    {
     "data": {
      "application/vnd.jupyter.widget-view+json": {
       "model_id": "f3fd0c6ce73549e58f2b6c2ae1e074a4",
       "version_major": 2,
       "version_minor": 0
      },
      "text/plain": [
       "Epoch   467:   0%|          | 0/79 [00:00<?, ?batch/s]"
      ]
     },
     "metadata": {},
     "output_type": "display_data"
    },
    {
     "name": "stdout",
     "output_type": "stream",
     "text": [
      "Test Accuracy: 31.77%\n"
     ]
    },
    {
     "data": {
      "application/vnd.jupyter.widget-view+json": {
       "model_id": "863a20f75e844d9facfcc17255e0b96d",
       "version_major": 2,
       "version_minor": 0
      },
      "text/plain": [
       "Epoch   468:   0%|          | 0/79 [00:00<?, ?batch/s]"
      ]
     },
     "metadata": {},
     "output_type": "display_data"
    },
    {
     "name": "stdout",
     "output_type": "stream",
     "text": [
      "Test Accuracy: 29.47%\n"
     ]
    },
    {
     "data": {
      "application/vnd.jupyter.widget-view+json": {
       "model_id": "21e1ae0c34d14633b35f35c0b4a78d49",
       "version_major": 2,
       "version_minor": 0
      },
      "text/plain": [
       "Epoch   469:   0%|          | 0/79 [00:00<?, ?batch/s]"
      ]
     },
     "metadata": {},
     "output_type": "display_data"
    },
    {
     "name": "stdout",
     "output_type": "stream",
     "text": [
      "Test Accuracy: 32.46%\n"
     ]
    },
    {
     "data": {
      "application/vnd.jupyter.widget-view+json": {
       "model_id": "6d087979309a4c999603da7746f8a853",
       "version_major": 2,
       "version_minor": 0
      },
      "text/plain": [
       "Epoch   470:   0%|          | 0/79 [00:00<?, ?batch/s]"
      ]
     },
     "metadata": {},
     "output_type": "display_data"
    },
    {
     "name": "stdout",
     "output_type": "stream",
     "text": [
      "Test Accuracy: 31.11%\n"
     ]
    },
    {
     "data": {
      "application/vnd.jupyter.widget-view+json": {
       "model_id": "f62a5f9173364fb986262a5dc2506d07",
       "version_major": 2,
       "version_minor": 0
      },
      "text/plain": [
       "Epoch   471:   0%|          | 0/79 [00:00<?, ?batch/s]"
      ]
     },
     "metadata": {},
     "output_type": "display_data"
    },
    {
     "name": "stdout",
     "output_type": "stream",
     "text": [
      "Test Accuracy: 33.17%\n"
     ]
    },
    {
     "data": {
      "application/vnd.jupyter.widget-view+json": {
       "model_id": "6b0f9cb67eef4d35ab94d8668405bbfa",
       "version_major": 2,
       "version_minor": 0
      },
      "text/plain": [
       "Epoch   472:   0%|          | 0/79 [00:00<?, ?batch/s]"
      ]
     },
     "metadata": {},
     "output_type": "display_data"
    },
    {
     "name": "stdout",
     "output_type": "stream",
     "text": [
      "Test Accuracy: 30.98%\n"
     ]
    },
    {
     "data": {
      "application/vnd.jupyter.widget-view+json": {
       "model_id": "8ea87c52d05e486da751684bea154247",
       "version_major": 2,
       "version_minor": 0
      },
      "text/plain": [
       "Epoch   473:   0%|          | 0/79 [00:00<?, ?batch/s]"
      ]
     },
     "metadata": {},
     "output_type": "display_data"
    },
    {
     "name": "stdout",
     "output_type": "stream",
     "text": [
      "Test Accuracy: 30.05%\n"
     ]
    },
    {
     "data": {
      "application/vnd.jupyter.widget-view+json": {
       "model_id": "49534f6696244506afed3a4d95f5c2da",
       "version_major": 2,
       "version_minor": 0
      },
      "text/plain": [
       "Epoch   474:   0%|          | 0/79 [00:00<?, ?batch/s]"
      ]
     },
     "metadata": {},
     "output_type": "display_data"
    },
    {
     "name": "stdout",
     "output_type": "stream",
     "text": [
      "Test Accuracy: 30.94%\n"
     ]
    },
    {
     "data": {
      "application/vnd.jupyter.widget-view+json": {
       "model_id": "9d4c5bc6c9a845f99fa11704d615fa9f",
       "version_major": 2,
       "version_minor": 0
      },
      "text/plain": [
       "Epoch   475:   0%|          | 0/79 [00:00<?, ?batch/s]"
      ]
     },
     "metadata": {},
     "output_type": "display_data"
    },
    {
     "name": "stdout",
     "output_type": "stream",
     "text": [
      "Test Accuracy: 34.0%\n"
     ]
    },
    {
     "data": {
      "application/vnd.jupyter.widget-view+json": {
       "model_id": "58704760e6e341d2b8895d181e423d69",
       "version_major": 2,
       "version_minor": 0
      },
      "text/plain": [
       "Epoch   476:   0%|          | 0/79 [00:00<?, ?batch/s]"
      ]
     },
     "metadata": {},
     "output_type": "display_data"
    },
    {
     "name": "stdout",
     "output_type": "stream",
     "text": [
      "Test Accuracy: 32.28%\n"
     ]
    },
    {
     "data": {
      "application/vnd.jupyter.widget-view+json": {
       "model_id": "e3b43a974716416793fcf6bd52820190",
       "version_major": 2,
       "version_minor": 0
      },
      "text/plain": [
       "Epoch   477:   0%|          | 0/79 [00:00<?, ?batch/s]"
      ]
     },
     "metadata": {},
     "output_type": "display_data"
    },
    {
     "name": "stdout",
     "output_type": "stream",
     "text": [
      "Test Accuracy: 33.76%\n"
     ]
    },
    {
     "data": {
      "application/vnd.jupyter.widget-view+json": {
       "model_id": "b0f723ed297b4dbeb006839cef9872b8",
       "version_major": 2,
       "version_minor": 0
      },
      "text/plain": [
       "Epoch   478:   0%|          | 0/79 [00:00<?, ?batch/s]"
      ]
     },
     "metadata": {},
     "output_type": "display_data"
    },
    {
     "name": "stdout",
     "output_type": "stream",
     "text": [
      "Test Accuracy: 31.51%\n"
     ]
    },
    {
     "data": {
      "application/vnd.jupyter.widget-view+json": {
       "model_id": "34b8f6013f754c5088ed7d9fb70379d0",
       "version_major": 2,
       "version_minor": 0
      },
      "text/plain": [
       "Epoch   479:   0%|          | 0/79 [00:00<?, ?batch/s]"
      ]
     },
     "metadata": {},
     "output_type": "display_data"
    },
    {
     "name": "stdout",
     "output_type": "stream",
     "text": [
      "Test Accuracy: 33.0%\n"
     ]
    },
    {
     "data": {
      "application/vnd.jupyter.widget-view+json": {
       "model_id": "d5fd4c0d594544829c7cda13bc8642fe",
       "version_major": 2,
       "version_minor": 0
      },
      "text/plain": [
       "Epoch   480:   0%|          | 0/79 [00:00<?, ?batch/s]"
      ]
     },
     "metadata": {},
     "output_type": "display_data"
    },
    {
     "name": "stdout",
     "output_type": "stream",
     "text": [
      "Test Accuracy: 33.28%\n"
     ]
    },
    {
     "data": {
      "application/vnd.jupyter.widget-view+json": {
       "model_id": "b2f35129e72244a49f7cfc0306cbb6a5",
       "version_major": 2,
       "version_minor": 0
      },
      "text/plain": [
       "Epoch   481:   0%|          | 0/79 [00:00<?, ?batch/s]"
      ]
     },
     "metadata": {},
     "output_type": "display_data"
    },
    {
     "name": "stdout",
     "output_type": "stream",
     "text": [
      "Test Accuracy: 31.42%\n"
     ]
    },
    {
     "data": {
      "application/vnd.jupyter.widget-view+json": {
       "model_id": "3576c27a6902401f97748bfe8c95c03e",
       "version_major": 2,
       "version_minor": 0
      },
      "text/plain": [
       "Epoch   482:   0%|          | 0/79 [00:00<?, ?batch/s]"
      ]
     },
     "metadata": {},
     "output_type": "display_data"
    },
    {
     "name": "stdout",
     "output_type": "stream",
     "text": [
      "Test Accuracy: 30.67%\n"
     ]
    },
    {
     "data": {
      "application/vnd.jupyter.widget-view+json": {
       "model_id": "5690d5cf17c4469c87f7cb0dff855f5b",
       "version_major": 2,
       "version_minor": 0
      },
      "text/plain": [
       "Epoch   483:   0%|          | 0/79 [00:00<?, ?batch/s]"
      ]
     },
     "metadata": {},
     "output_type": "display_data"
    },
    {
     "name": "stdout",
     "output_type": "stream",
     "text": [
      "Test Accuracy: 28.27%\n"
     ]
    },
    {
     "data": {
      "application/vnd.jupyter.widget-view+json": {
       "model_id": "e8e4aabe3b9c411a9b0d70529c591b5a",
       "version_major": 2,
       "version_minor": 0
      },
      "text/plain": [
       "Epoch   484:   0%|          | 0/79 [00:00<?, ?batch/s]"
      ]
     },
     "metadata": {},
     "output_type": "display_data"
    },
    {
     "name": "stdout",
     "output_type": "stream",
     "text": [
      "Test Accuracy: 28.66%\n"
     ]
    },
    {
     "data": {
      "application/vnd.jupyter.widget-view+json": {
       "model_id": "151b5a734e96476ba38b7faa5a619351",
       "version_major": 2,
       "version_minor": 0
      },
      "text/plain": [
       "Epoch   485:   0%|          | 0/79 [00:00<?, ?batch/s]"
      ]
     },
     "metadata": {},
     "output_type": "display_data"
    },
    {
     "name": "stdout",
     "output_type": "stream",
     "text": [
      "Test Accuracy: 32.02%\n"
     ]
    },
    {
     "data": {
      "application/vnd.jupyter.widget-view+json": {
       "model_id": "bf4fd32b3fb545d9bea512ce704a3e8a",
       "version_major": 2,
       "version_minor": 0
      },
      "text/plain": [
       "Epoch   486:   0%|          | 0/79 [00:00<?, ?batch/s]"
      ]
     },
     "metadata": {},
     "output_type": "display_data"
    },
    {
     "name": "stdout",
     "output_type": "stream",
     "text": [
      "Test Accuracy: 28.47%\n"
     ]
    },
    {
     "data": {
      "application/vnd.jupyter.widget-view+json": {
       "model_id": "6bbd5a16001e439c87bfac1018094a6d",
       "version_major": 2,
       "version_minor": 0
      },
      "text/plain": [
       "Epoch   487:   0%|          | 0/79 [00:00<?, ?batch/s]"
      ]
     },
     "metadata": {},
     "output_type": "display_data"
    },
    {
     "name": "stdout",
     "output_type": "stream",
     "text": [
      "Test Accuracy: 33.31%\n"
     ]
    },
    {
     "data": {
      "application/vnd.jupyter.widget-view+json": {
       "model_id": "e9724dd37cb54b07a4b2f98ea4c772d5",
       "version_major": 2,
       "version_minor": 0
      },
      "text/plain": [
       "Epoch   488:   0%|          | 0/79 [00:00<?, ?batch/s]"
      ]
     },
     "metadata": {},
     "output_type": "display_data"
    },
    {
     "name": "stdout",
     "output_type": "stream",
     "text": [
      "Test Accuracy: 32.73%\n"
     ]
    },
    {
     "data": {
      "application/vnd.jupyter.widget-view+json": {
       "model_id": "53848d0c83dd40f6a3767b0aef19e142",
       "version_major": 2,
       "version_minor": 0
      },
      "text/plain": [
       "Epoch   489:   0%|          | 0/79 [00:00<?, ?batch/s]"
      ]
     },
     "metadata": {},
     "output_type": "display_data"
    },
    {
     "name": "stdout",
     "output_type": "stream",
     "text": [
      "Test Accuracy: 31.57%\n"
     ]
    },
    {
     "data": {
      "application/vnd.jupyter.widget-view+json": {
       "model_id": "85486364d2cc44cd9a4a764d4adaad64",
       "version_major": 2,
       "version_minor": 0
      },
      "text/plain": [
       "Epoch   490:   0%|          | 0/79 [00:00<?, ?batch/s]"
      ]
     },
     "metadata": {},
     "output_type": "display_data"
    },
    {
     "name": "stdout",
     "output_type": "stream",
     "text": [
      "Test Accuracy: 29.92%\n"
     ]
    },
    {
     "data": {
      "application/vnd.jupyter.widget-view+json": {
       "model_id": "2fdf05052a58464c85d0c1226cc25913",
       "version_major": 2,
       "version_minor": 0
      },
      "text/plain": [
       "Epoch   491:   0%|          | 0/79 [00:00<?, ?batch/s]"
      ]
     },
     "metadata": {},
     "output_type": "display_data"
    },
    {
     "name": "stdout",
     "output_type": "stream",
     "text": [
      "Test Accuracy: 31.12%\n"
     ]
    },
    {
     "data": {
      "application/vnd.jupyter.widget-view+json": {
       "model_id": "b78a573021134d46862df84819602951",
       "version_major": 2,
       "version_minor": 0
      },
      "text/plain": [
       "Epoch   492:   0%|          | 0/79 [00:00<?, ?batch/s]"
      ]
     },
     "metadata": {},
     "output_type": "display_data"
    },
    {
     "name": "stdout",
     "output_type": "stream",
     "text": [
      "Test Accuracy: 33.1%\n"
     ]
    },
    {
     "data": {
      "application/vnd.jupyter.widget-view+json": {
       "model_id": "48d8343eb435496a96095d49d608edb2",
       "version_major": 2,
       "version_minor": 0
      },
      "text/plain": [
       "Epoch   493:   0%|          | 0/79 [00:00<?, ?batch/s]"
      ]
     },
     "metadata": {},
     "output_type": "display_data"
    },
    {
     "name": "stdout",
     "output_type": "stream",
     "text": [
      "Test Accuracy: 32.74%\n"
     ]
    },
    {
     "data": {
      "application/vnd.jupyter.widget-view+json": {
       "model_id": "2795b5a2290b4207862a4473c489a4b8",
       "version_major": 2,
       "version_minor": 0
      },
      "text/plain": [
       "Epoch   494:   0%|          | 0/79 [00:00<?, ?batch/s]"
      ]
     },
     "metadata": {},
     "output_type": "display_data"
    },
    {
     "name": "stdout",
     "output_type": "stream",
     "text": [
      "Test Accuracy: 31.22%\n"
     ]
    },
    {
     "data": {
      "application/vnd.jupyter.widget-view+json": {
       "model_id": "e64b739df05043ccb5e5cd4a03a21eb2",
       "version_major": 2,
       "version_minor": 0
      },
      "text/plain": [
       "Epoch   495:   0%|          | 0/79 [00:00<?, ?batch/s]"
      ]
     },
     "metadata": {},
     "output_type": "display_data"
    },
    {
     "name": "stdout",
     "output_type": "stream",
     "text": [
      "Test Accuracy: 29.23%\n"
     ]
    },
    {
     "data": {
      "application/vnd.jupyter.widget-view+json": {
       "model_id": "2418e40005f049bc8ec83025d8234a69",
       "version_major": 2,
       "version_minor": 0
      },
      "text/plain": [
       "Epoch   496:   0%|          | 0/79 [00:00<?, ?batch/s]"
      ]
     },
     "metadata": {},
     "output_type": "display_data"
    },
    {
     "name": "stdout",
     "output_type": "stream",
     "text": [
      "Test Accuracy: 32.18%\n"
     ]
    },
    {
     "data": {
      "application/vnd.jupyter.widget-view+json": {
       "model_id": "b127ea3dede642b69a94a453379d8522",
       "version_major": 2,
       "version_minor": 0
      },
      "text/plain": [
       "Epoch   497:   0%|          | 0/79 [00:00<?, ?batch/s]"
      ]
     },
     "metadata": {},
     "output_type": "display_data"
    },
    {
     "name": "stdout",
     "output_type": "stream",
     "text": [
      "Test Accuracy: 31.12%\n"
     ]
    },
    {
     "data": {
      "application/vnd.jupyter.widget-view+json": {
       "model_id": "70566a8043904a56914646cb52004b2e",
       "version_major": 2,
       "version_minor": 0
      },
      "text/plain": [
       "Epoch   498:   0%|          | 0/79 [00:00<?, ?batch/s]"
      ]
     },
     "metadata": {},
     "output_type": "display_data"
    },
    {
     "name": "stdout",
     "output_type": "stream",
     "text": [
      "Test Accuracy: 29.64%\n"
     ]
    },
    {
     "data": {
      "application/vnd.jupyter.widget-view+json": {
       "model_id": "5392c6256ae74c198145c27cad84be2a",
       "version_major": 2,
       "version_minor": 0
      },
      "text/plain": [
       "Epoch   499:   0%|          | 0/79 [00:00<?, ?batch/s]"
      ]
     },
     "metadata": {},
     "output_type": "display_data"
    },
    {
     "name": "stdout",
     "output_type": "stream",
     "text": [
      "Test Accuracy: 33.28%\n"
     ]
    },
    {
     "data": {
      "application/vnd.jupyter.widget-view+json": {
       "model_id": "6290a07b6d124473b6f1f4068db65a2e",
       "version_major": 2,
       "version_minor": 0
      },
      "text/plain": [
       "Epoch   500:   0%|          | 0/79 [00:00<?, ?batch/s]"
      ]
     },
     "metadata": {},
     "output_type": "display_data"
    },
    {
     "name": "stdout",
     "output_type": "stream",
     "text": [
      "Test Accuracy: 31.6%\n"
     ]
    },
    {
     "data": {
      "application/vnd.jupyter.widget-view+json": {
       "model_id": "dae38bc213a245108cf03e2395392427",
       "version_major": 2,
       "version_minor": 0
      },
      "text/plain": [
       "Epoch   501:   0%|          | 0/79 [00:00<?, ?batch/s]"
      ]
     },
     "metadata": {},
     "output_type": "display_data"
    },
    {
     "name": "stdout",
     "output_type": "stream",
     "text": [
      "Test Accuracy: 33.75%\n"
     ]
    },
    {
     "data": {
      "application/vnd.jupyter.widget-view+json": {
       "model_id": "91020f9a711a4d3298e6534612739334",
       "version_major": 2,
       "version_minor": 0
      },
      "text/plain": [
       "Epoch   502:   0%|          | 0/79 [00:00<?, ?batch/s]"
      ]
     },
     "metadata": {},
     "output_type": "display_data"
    },
    {
     "name": "stdout",
     "output_type": "stream",
     "text": [
      "Test Accuracy: 31.87%\n"
     ]
    },
    {
     "data": {
      "application/vnd.jupyter.widget-view+json": {
       "model_id": "225962e56fed4ea6b1d4f3b3e527c27d",
       "version_major": 2,
       "version_minor": 0
      },
      "text/plain": [
       "Epoch   503:   0%|          | 0/79 [00:00<?, ?batch/s]"
      ]
     },
     "metadata": {},
     "output_type": "display_data"
    },
    {
     "name": "stdout",
     "output_type": "stream",
     "text": [
      "Test Accuracy: 31.48%\n"
     ]
    },
    {
     "data": {
      "application/vnd.jupyter.widget-view+json": {
       "model_id": "0fd0fba772f74c57b362244ddef06010",
       "version_major": 2,
       "version_minor": 0
      },
      "text/plain": [
       "Epoch   504:   0%|          | 0/79 [00:00<?, ?batch/s]"
      ]
     },
     "metadata": {},
     "output_type": "display_data"
    },
    {
     "name": "stdout",
     "output_type": "stream",
     "text": [
      "Test Accuracy: 28.27%\n"
     ]
    },
    {
     "data": {
      "application/vnd.jupyter.widget-view+json": {
       "model_id": "79a8bddbd541413a902ba535f0122a42",
       "version_major": 2,
       "version_minor": 0
      },
      "text/plain": [
       "Epoch   505:   0%|          | 0/79 [00:00<?, ?batch/s]"
      ]
     },
     "metadata": {},
     "output_type": "display_data"
    },
    {
     "name": "stdout",
     "output_type": "stream",
     "text": [
      "Test Accuracy: 33.35%\n"
     ]
    },
    {
     "data": {
      "application/vnd.jupyter.widget-view+json": {
       "model_id": "079db6c13f534004bc795d1ecef5db44",
       "version_major": 2,
       "version_minor": 0
      },
      "text/plain": [
       "Epoch   506:   0%|          | 0/79 [00:00<?, ?batch/s]"
      ]
     },
     "metadata": {},
     "output_type": "display_data"
    },
    {
     "name": "stdout",
     "output_type": "stream",
     "text": [
      "Test Accuracy: 31.96%\n"
     ]
    },
    {
     "data": {
      "application/vnd.jupyter.widget-view+json": {
       "model_id": "85d3c085c3e84e68916cdf0f6ba50d50",
       "version_major": 2,
       "version_minor": 0
      },
      "text/plain": [
       "Epoch   507:   0%|          | 0/79 [00:00<?, ?batch/s]"
      ]
     },
     "metadata": {},
     "output_type": "display_data"
    },
    {
     "name": "stdout",
     "output_type": "stream",
     "text": [
      "Test Accuracy: 32.73%\n"
     ]
    },
    {
     "data": {
      "application/vnd.jupyter.widget-view+json": {
       "model_id": "8b2964908bf2461db1aee90d93d995db",
       "version_major": 2,
       "version_minor": 0
      },
      "text/plain": [
       "Epoch   508:   0%|          | 0/79 [00:00<?, ?batch/s]"
      ]
     },
     "metadata": {},
     "output_type": "display_data"
    },
    {
     "name": "stdout",
     "output_type": "stream",
     "text": [
      "Test Accuracy: 32.13%\n"
     ]
    },
    {
     "data": {
      "application/vnd.jupyter.widget-view+json": {
       "model_id": "3ed9bac871924914973ccebcd4e6b420",
       "version_major": 2,
       "version_minor": 0
      },
      "text/plain": [
       "Epoch   509:   0%|          | 0/79 [00:00<?, ?batch/s]"
      ]
     },
     "metadata": {},
     "output_type": "display_data"
    },
    {
     "name": "stdout",
     "output_type": "stream",
     "text": [
      "Test Accuracy: 32.08%\n"
     ]
    },
    {
     "data": {
      "application/vnd.jupyter.widget-view+json": {
       "model_id": "b434f706cce64759bcfa35110512294c",
       "version_major": 2,
       "version_minor": 0
      },
      "text/plain": [
       "Epoch   510:   0%|          | 0/79 [00:00<?, ?batch/s]"
      ]
     },
     "metadata": {},
     "output_type": "display_data"
    },
    {
     "name": "stdout",
     "output_type": "stream",
     "text": [
      "Test Accuracy: 30.98%\n"
     ]
    },
    {
     "data": {
      "application/vnd.jupyter.widget-view+json": {
       "model_id": "c1fd6e4698974e45a51ced92472f7908",
       "version_major": 2,
       "version_minor": 0
      },
      "text/plain": [
       "Epoch   511:   0%|          | 0/79 [00:00<?, ?batch/s]"
      ]
     },
     "metadata": {},
     "output_type": "display_data"
    },
    {
     "name": "stdout",
     "output_type": "stream",
     "text": [
      "Test Accuracy: 31.43%\n"
     ]
    },
    {
     "data": {
      "application/vnd.jupyter.widget-view+json": {
       "model_id": "7e9a1de6a5e545f2ae2bc271482a4cc3",
       "version_major": 2,
       "version_minor": 0
      },
      "text/plain": [
       "Epoch   512:   0%|          | 0/79 [00:00<?, ?batch/s]"
      ]
     },
     "metadata": {},
     "output_type": "display_data"
    },
    {
     "name": "stdout",
     "output_type": "stream",
     "text": [
      "Test Accuracy: 31.01%\n"
     ]
    },
    {
     "data": {
      "application/vnd.jupyter.widget-view+json": {
       "model_id": "63948b96209d4c43a41ea4617b375129",
       "version_major": 2,
       "version_minor": 0
      },
      "text/plain": [
       "Epoch   513:   0%|          | 0/79 [00:00<?, ?batch/s]"
      ]
     },
     "metadata": {},
     "output_type": "display_data"
    },
    {
     "name": "stdout",
     "output_type": "stream",
     "text": [
      "Test Accuracy: 27.83%\n"
     ]
    },
    {
     "data": {
      "application/vnd.jupyter.widget-view+json": {
       "model_id": "4d7bfc6dfa6e4ba7a9d73262cef0ab5f",
       "version_major": 2,
       "version_minor": 0
      },
      "text/plain": [
       "Epoch   514:   0%|          | 0/79 [00:00<?, ?batch/s]"
      ]
     },
     "metadata": {},
     "output_type": "display_data"
    },
    {
     "name": "stdout",
     "output_type": "stream",
     "text": [
      "Test Accuracy: 31.21%\n"
     ]
    },
    {
     "data": {
      "application/vnd.jupyter.widget-view+json": {
       "model_id": "0b41dee514c5437cac31c8686ff7a0f6",
       "version_major": 2,
       "version_minor": 0
      },
      "text/plain": [
       "Epoch   515:   0%|          | 0/79 [00:00<?, ?batch/s]"
      ]
     },
     "metadata": {},
     "output_type": "display_data"
    },
    {
     "name": "stdout",
     "output_type": "stream",
     "text": [
      "Test Accuracy: 30.53%\n"
     ]
    },
    {
     "data": {
      "application/vnd.jupyter.widget-view+json": {
       "model_id": "fba07304a926424783e2f15154affa42",
       "version_major": 2,
       "version_minor": 0
      },
      "text/plain": [
       "Epoch   516:   0%|          | 0/79 [00:00<?, ?batch/s]"
      ]
     },
     "metadata": {},
     "output_type": "display_data"
    },
    {
     "name": "stdout",
     "output_type": "stream",
     "text": [
      "Test Accuracy: 32.92%\n"
     ]
    },
    {
     "data": {
      "application/vnd.jupyter.widget-view+json": {
       "model_id": "de84ee2336c54f778220664c742cb2b3",
       "version_major": 2,
       "version_minor": 0
      },
      "text/plain": [
       "Epoch   517:   0%|          | 0/79 [00:00<?, ?batch/s]"
      ]
     },
     "metadata": {},
     "output_type": "display_data"
    },
    {
     "name": "stdout",
     "output_type": "stream",
     "text": [
      "Test Accuracy: 28.68%\n"
     ]
    },
    {
     "data": {
      "application/vnd.jupyter.widget-view+json": {
       "model_id": "7eaa8cb0e8844d688525dcf40d52aa4c",
       "version_major": 2,
       "version_minor": 0
      },
      "text/plain": [
       "Epoch   518:   0%|          | 0/79 [00:00<?, ?batch/s]"
      ]
     },
     "metadata": {},
     "output_type": "display_data"
    },
    {
     "name": "stdout",
     "output_type": "stream",
     "text": [
      "Test Accuracy: 31.97%\n"
     ]
    },
    {
     "data": {
      "application/vnd.jupyter.widget-view+json": {
       "model_id": "9de1353805df4542999cd6bc4ccc7855",
       "version_major": 2,
       "version_minor": 0
      },
      "text/plain": [
       "Epoch   519:   0%|          | 0/79 [00:00<?, ?batch/s]"
      ]
     },
     "metadata": {},
     "output_type": "display_data"
    },
    {
     "name": "stdout",
     "output_type": "stream",
     "text": [
      "Test Accuracy: 30.62%\n"
     ]
    },
    {
     "data": {
      "application/vnd.jupyter.widget-view+json": {
       "model_id": "3e16e21d464242a89eafd581c429914d",
       "version_major": 2,
       "version_minor": 0
      },
      "text/plain": [
       "Epoch   520:   0%|          | 0/79 [00:00<?, ?batch/s]"
      ]
     },
     "metadata": {},
     "output_type": "display_data"
    },
    {
     "name": "stdout",
     "output_type": "stream",
     "text": [
      "Test Accuracy: 28.18%\n"
     ]
    },
    {
     "data": {
      "application/vnd.jupyter.widget-view+json": {
       "model_id": "ad2dae4676dd4e4f8cfded794261000d",
       "version_major": 2,
       "version_minor": 0
      },
      "text/plain": [
       "Epoch   521:   0%|          | 0/79 [00:00<?, ?batch/s]"
      ]
     },
     "metadata": {},
     "output_type": "display_data"
    },
    {
     "name": "stdout",
     "output_type": "stream",
     "text": [
      "Test Accuracy: 25.93%\n"
     ]
    },
    {
     "data": {
      "application/vnd.jupyter.widget-view+json": {
       "model_id": "7ab45298437740249a7500281150f10b",
       "version_major": 2,
       "version_minor": 0
      },
      "text/plain": [
       "Epoch   522:   0%|          | 0/79 [00:00<?, ?batch/s]"
      ]
     },
     "metadata": {},
     "output_type": "display_data"
    },
    {
     "name": "stdout",
     "output_type": "stream",
     "text": [
      "Test Accuracy: 30.28%\n"
     ]
    },
    {
     "data": {
      "application/vnd.jupyter.widget-view+json": {
       "model_id": "64effc517c5a44e9ab8f16a4143785dd",
       "version_major": 2,
       "version_minor": 0
      },
      "text/plain": [
       "Epoch   523:   0%|          | 0/79 [00:00<?, ?batch/s]"
      ]
     },
     "metadata": {},
     "output_type": "display_data"
    },
    {
     "name": "stdout",
     "output_type": "stream",
     "text": [
      "Test Accuracy: 33.33%\n"
     ]
    },
    {
     "data": {
      "application/vnd.jupyter.widget-view+json": {
       "model_id": "954ab34e8d4d4e71be8e7c052099a22f",
       "version_major": 2,
       "version_minor": 0
      },
      "text/plain": [
       "Epoch   524:   0%|          | 0/79 [00:00<?, ?batch/s]"
      ]
     },
     "metadata": {},
     "output_type": "display_data"
    }
   ],
   "source": [
    "print(\"Start training\")\n",
    "\n",
    "current_prop = SUBSET_PROP\n",
    "\n",
    "train_losses = []\n",
    "test_losses = []\n",
    "added_samp = 0\n",
    "uncertainty = 0\n",
    "\n",
    "AL_activated = False\n",
    "main_activated = True\n",
    "train_algo = 20_000\n",
    "\n",
    "step = 0\n",
    "for j in range(EPOCHS):\n",
    "    model.train()\n",
    "\n",
    "    running_loss = 0.0\n",
    "    correct = 0\n",
    "    total = 0\n",
    "    running_n_unlabeled = 0\n",
    "    moving_avg_pred_labeled = 0\n",
    "    moving_avg_pred_unlabeled = 0\n",
    "\n",
    "    pbar = tqdm(zip(labeled_dataloader, unlabeled_dataloader), total=min(len(labeled_dataloader), len(unlabeled_dataloader)), unit=\"batch\", desc=f\"Epoch {j: >5}\")\n",
    "\n",
    "    for i, (labeled_data, unlabeled_data) in enumerate(pbar):\n",
    "        # Get labeled and unlabeled data\n",
    "        labeled_inputs, labels = labeled_data[0].to(device), labeled_data[1].to(device)\n",
    "        unlabeled_inputs, _ = unlabeled_data[0].to(device), unlabeled_data[1].to(device)\n",
    "        step += len(labeled_inputs)\n",
    "        \n",
    "\n",
    "        # Zero the parameter gradients\n",
    "        optimizer.zero_grad()\n",
    "\n",
    "        # Apply weak augmentation to labeled data\n",
    "        weak_labeled_inputs = weak_transform(labeled_inputs)\n",
    "\n",
    "        # Apply strong augmentation + weak augmentation to unlabeled data\n",
    "        weak_unlabeled_inputs = weak_transform(unlabeled_inputs)\n",
    "        strong_unlabeled_inputs = strong_transform(unlabeled_inputs)\n",
    "\n",
    "        # Compute mask, confidence\n",
    "        pseudo_labels, idx, max_qb = mask(model, weak_unlabeled_inputs)\n",
    "        strong_unlabeled_inputs = strong_unlabeled_inputs[idx]\n",
    "\n",
    "        n_labeled, n_unlabeled = weak_labeled_inputs.size(0), strong_unlabeled_inputs.size(0)\n",
    "\n",
    "        if n_unlabeled != 0:\n",
    "            # Concatenate labeled and unlabeled data\n",
    "            inputs_all = torch.cat((weak_labeled_inputs, strong_unlabeled_inputs))\n",
    "            labels_all = torch.cat((labels, pseudo_labels))\n",
    "\n",
    "            # forward pass\n",
    "            outputs = model(inputs_all)\n",
    "\n",
    "            # split labeled and unlabeled outputs\n",
    "            labeled_outputs, unlabeled_outputs = outputs[:n_labeled], outputs[n_labeled:]\n",
    "\n",
    "            # compute losses\n",
    "            labeled_loss = torch.sum(labeled_criterion(labeled_outputs, labels)) / BATCH_SIZE\n",
    "            unlabeled_loss = torch.sum(unlabeled_criterion(unlabeled_outputs, pseudo_labels)) / (MU * BATCH_SIZE)\n",
    "\n",
    "            # compute total loss\n",
    "            loss = labeled_loss + LAMBDA_U * unlabeled_loss\n",
    "\n",
    "            # compute accuracy\n",
    "            total += labels_all.size(0)\n",
    "            correct += (outputs.argmax(dim=1) == labels_all).sum().item()\n",
    "            \n",
    "        else:\n",
    "            # forward pass\n",
    "            labeled_outputs = model(weak_labeled_inputs)\n",
    "\n",
    "            # compute loss\n",
    "            labeled_loss = torch.sum(labeled_criterion(labeled_outputs, labels)) / BATCH_SIZE\n",
    "            unlabeled_loss = torch.tensor(0, device=device)\n",
    "\n",
    "            # compute total loss\n",
    "            loss = labeled_loss + LAMBDA_U * unlabeled_loss\n",
    "\n",
    "            # compute accuracy\n",
    "            total += labels.size(0)\n",
    "            correct += (labeled_outputs.argmax(dim=1) == labels).sum().item()\n",
    "            \n",
    "        # backward pass + optimize\n",
    "        loss.backward()\n",
    "\n",
    "        # clamp gradients, just in case\n",
    "        # for p in filter(lambda p: p.grad is not None, model.parameters()): p.grad.data.clamp_(min=-.1, max=.1)\n",
    "        \n",
    "        optimizer.step()\n",
    "\n",
    "        \n",
    "        # update statistics\n",
    "        running_loss += loss.item()\n",
    "        running_n_unlabeled += n_unlabeled \n",
    "\n",
    "        # update progress bar\n",
    "        pbar.set_postfix({\n",
    "            \"lab_loss\": labeled_loss.item(),\n",
    "            \"unlab_loss\": unlabeled_loss.item(),\n",
    "            \"accuracy\": 100 * correct / total,\n",
    "            \"avg_confidence\": torch.mean(max_qb).item(),\n",
    "            \"n_unlabeled\": running_n_unlabeled,\n",
    "            \"lab_prop\": current_prop,\n",
    "            \"uncertainty\": uncertainty,\n",
    "            \"lr\": optimizer.param_groups[0]['lr'],\n",
    "            \"[main_activ, AL_activ]\": [main_activated, AL_activated],\n",
    "            \"step\": step,\n",
    "        })\n",
    "\n",
    "    # start adding labels after 50 epochs for 50 epochs\n",
    "    # if step >= 262_144 and main_activated:\n",
    "    if step >= train_algo:\n",
    "        AL_activated = True\n",
    "        main_activated = False\n",
    "        step = train_algo//4\n",
    "\n",
    "    if AL_activated and step >= train_algo//4:\n",
    "        if current_prop < TARGET_PROP:\n",
    "            # compute information density\n",
    "            selected_indices, uncertainty = information_density(model, unlabeled_dataloader, K_SAMPLES)\n",
    "\n",
    "            # select indices from unlabeled dataset\n",
    "            trainset_sup_new = create_labeled_dataset_active_learning(trainset_unsup, selected_indices)\n",
    "\n",
    "            # concat new trainset with labeled trainset\n",
    "            trainset_sup = torch.utils.data.ConcatDataset([trainset_sup, trainset_sup_new])\n",
    "\n",
    "            # create labeled dataloader\n",
    "            labeled_dataloader = torch.utils.data.DataLoader(trainset_sup, batch_size=BATCH_SIZE, shuffle=True, num_workers=0)\n",
    "\n",
    "            current_prop = len(trainset_sup) / len(trainset)\n",
    "\n",
    "            step = 0\n",
    "    \n",
    "\n",
    "    # update loss\n",
    "    train_losses.append(running_loss / (i + 1))\n",
    "\n",
    "    # scheduler step\n",
    "    if scheduler is not None:\n",
    "        scheduler.step()\n",
    "    \n",
    "    # Evaluate the model on the test set\n",
    "    model.eval()  # Set the model to evaluation mode\n",
    "    test_correct = 0\n",
    "    test_total = 0\n",
    "\n",
    "    with torch.no_grad():\n",
    "        for data in testloader:\n",
    "            images, labels = data[0].to(device), data[1].to(device)\n",
    "            # normalize\n",
    "            images = normalize(data=images, mean=mean, std=std)\n",
    "            \n",
    "            outputs = model(images)\n",
    "            _, predicted = outputs.max(1)\n",
    "            test_total += labels.size(0)\n",
    "            test_correct += predicted.eq(labels).sum().item()\n",
    "        \n",
    "        test_accuracy = 100.0 * test_correct / test_total\n",
    "        print(f'Test Accuracy: {test_accuracy}%')\n",
    "\n",
    "        # update loss\n",
    "        test_losses.append(torch.sum(labeled_criterion(outputs, labels)).item() / BATCH_SIZE)"
   ]
  },
  {
   "cell_type": "code",
   "execution_count": null,
   "metadata": {},
   "outputs": [],
   "source": []
  },
  {
   "cell_type": "code",
   "execution_count": null,
   "metadata": {},
   "outputs": [],
   "source": []
  },
  {
   "cell_type": "code",
   "execution_count": null,
   "metadata": {},
   "outputs": [],
   "source": [
    "trainset_sup_new = create_labeled_dataset_active_learning(trainset_unsup, selected_indices)"
   ]
  },
  {
   "cell_type": "code",
   "execution_count": null,
   "metadata": {},
   "outputs": [],
   "source": []
  },
  {
   "cell_type": "code",
   "execution_count": null,
   "metadata": {},
   "outputs": [],
   "source": [
    "trainset_sup_new[-1]"
   ]
  },
  {
   "cell_type": "code",
   "execution_count": null,
   "metadata": {},
   "outputs": [],
   "source": [
    "plt.imshow(trainset_sup_new[-1][0].permute(1, 2, 0).cpu().numpy())\n",
    "plt.title(f'Pred: {trainset_sup_new[-1][1]}')\n",
    "plt.show()\n",
    "\n",
    "plt.imshow(trainset_sup[-1][0].permute(1, 2, 0).cpu().numpy())\n",
    "plt.title(f'Pred: {trainset_sup[-1][1]}')\n",
    "plt.show()"
   ]
  },
  {
   "cell_type": "code",
   "execution_count": null,
   "metadata": {},
   "outputs": [],
   "source": []
  },
  {
   "cell_type": "code",
   "execution_count": null,
   "metadata": {},
   "outputs": [],
   "source": []
  },
  {
   "cell_type": "code",
   "execution_count": null,
   "metadata": {},
   "outputs": [],
   "source": [
    "# plot losses\n",
    "plt.figure(figsize=(10, 7))\n",
    "plt.plot(train_losses, label='Training loss')\n",
    "plt.plot(test_losses, label='Validation loss')\n",
    "plt.title('Loss at the end of each epoch')\n",
    "plt.legend()\n",
    "plt.show()\n",
    "\n",
    "# plot confusion matrix\n",
    "model.eval()  # Set the model to evaluation mode\n",
    "test_correct = 0\n",
    "test_total = 0\n",
    "y_true = []\n",
    "y_pred = []\n",
    "\n",
    "with torch.no_grad():\n",
    "    for data in testloader:\n",
    "        images, labels = data[0].to(device), data[1].to(device)\n",
    "        # normalize\n",
    "        images = normalize(data=images, mean=mean, std=std)\n",
    "        \n",
    "        outputs = model(images)\n",
    "        _, predicted = outputs.max(1)\n",
    "        test_total += labels.size(0)\n",
    "        test_correct += predicted.eq(labels).sum().item()\n",
    "\n",
    "        y_true.append(labels.cpu().numpy())\n",
    "        y_pred.append(predicted.cpu().numpy())\n",
    "    \n",
    "    y_true = np.concatenate(y_true)\n",
    "    y_pred = np.concatenate(y_pred)\n",
    "\n",
    "    cm = confusion_matrix(y_true, y_pred, normalize='true')\n",
    "    disp = ConfusionMatrixDisplay(confusion_matrix=cm, display_labels=classes)\n",
    "    disp.plot()\n",
    "    plt.tight_layout()\n",
    "    plt.show()\n"
   ]
  },
  {
   "cell_type": "code",
   "execution_count": null,
   "metadata": {},
   "outputs": [],
   "source": [
    "# Evaluation on the test set\n",
    "model.eval()  # Set the model to evaluation mode\n",
    "test_correct = 0\n",
    "test_total = 0\n",
    "\n",
    "with torch.no_grad():\n",
    "    for data in testloader:\n",
    "        images, labels = data[0].to(device), data[1].to(device)\n",
    "        # normalize\n",
    "        images = normalize(data=images, mean=mean, std=std)\n",
    "        \n",
    "        outputs = model(images)\n",
    "        _, predicted = outputs.max(1)\n",
    "        test_total += labels.size(0)\n",
    "        test_correct += predicted.eq(labels).sum().item()\n",
    "\n",
    "test_accuracy = 100.0 * test_correct / test_total\n",
    "print(f'Test Accuracy: {test_accuracy}%')\n",
    "\n",
    "# save the model\n",
    "torch.save(model.state_dict(), f\"{torch_models}/model_10_fixmatch_AL.pth\")\n",
    "\n",
    "test_image, test_labels = testloader.__iter__().__next__()\n",
    "test_image = test_image.to(device)\n",
    "outputs_test = model(test_image)\n",
    "label_pred_test = outputs_test.argmax(dim=1)\n",
    "\n",
    "# descale the images\n",
    "test_image = test_image#  * torch.tensor(std, device=device).view(1, 3, 1, 1) + torch.tensor(mean, device=device).view(1, 3, 1, 1)\n",
    "\n",
    "fig1 = plot_images(test_image, test_labels, label_pred_test, classes, figure_name=f\"Test score with Fixmatch - {int(TARGET_PROP*100)}% - {test_accuracy:.2f}% - Active Learning\")\n",
    "fig1.savefig(f\"./figures/test_score_{TARGET_PROP}_fixmatch_AL.png\")"
   ]
  },
  {
   "attachments": {},
   "cell_type": "markdown",
   "metadata": {},
   "source": [
    "### IV.2 Fixmatch on 5% train data with Active Learning"
   ]
  },
  {
   "cell_type": "code",
   "execution_count": null,
   "metadata": {},
   "outputs": [],
   "source": [
    "# Define your dataset and dataloaders for labeled and unlabeled data\n",
    "seedEverything()\n",
    "\n",
    "TARGET_PROP = 0.05\n",
    "EPOCHS = 300\n",
    "SUBSET_PROP = 0.005\n",
    "EPOCHS_AL = 50\n",
    "K_SAMPLES = 50\n",
    "\n",
    "# 10% labeled data and 100% unlabeled (see note 2 in paper)\n",
    "trainset_sup, _ = torch.utils.data.random_split(trainset, [SUBSET_PROP, 1-SUBSET_PROP])\n",
    "\n",
    "trainset_unsup, _ = torch.utils.data.random_split(trainset, [1, 0])\n",
    "\n",
    "labeled_dataloader = DataLoader(\n",
    "    trainset_sup,\n",
    "    batch_size=BATCH_SIZE,\n",
    "    shuffle=True,\n",
    "    num_workers=0\n",
    ")\n",
    "\n",
    "unlabeled_dataloader = DataLoader(\n",
    "    trainset_unsup,\n",
    "    batch_size=MU*BATCH_SIZE,\n",
    "    shuffle=False,\n",
    "    num_workers=0\n",
    ")\n",
    "\n",
    "# 10% labeled data and 100% unlabeled (see note 2 in paper)\n",
    "trainset_sup, _ = torch.utils.data.random_split(trainset, [SUBSET_PROP, 1-SUBSET_PROP])\n",
    "\n",
    "trainset_unsup, _ = torch.utils.data.random_split(trainset, [1, 0])\n",
    "\n",
    "labeled_dataloader = DataLoader(\n",
    "    trainset_sup,\n",
    "    batch_size=BATCH_SIZE,\n",
    "    shuffle=True,\n",
    "    num_workers=0\n",
    ")\n",
    "\n",
    "unlabeled_dataloader = DataLoader(\n",
    "    trainset_unsup,\n",
    "    batch_size=MU*BATCH_SIZE,\n",
    "    shuffle=True,\n",
    "    num_workers=0\n",
    ")\n",
    "\n",
    "# transformations\n",
    "weak_transform = K.ImageSequential(\n",
    "    K.RandomHorizontalFlip(p=0.50), \n",
    "    K.RandomAffine(degrees=0, translate=(0.125, 0.125)),\n",
    ")\n",
    "\n",
    "strong_transform = K.ImageSequential(\n",
    "    K.auto.RandAugment(n=2, m=10), # randaugment + cutout\n",
    ")\n",
    "\n",
    "def mask(model, weak_unlabeled_data):\n",
    "    with torch.no_grad():\n",
    "        model.train()\n",
    "\n",
    "        qb = model(weak_unlabeled_data)\n",
    "\n",
    "        # qb = logits.copy()\n",
    "        qb = torch.softmax(qb, dim=1)\n",
    "\n",
    "        max_qb, qb_hat = torch.max(qb, dim=1)\n",
    "\n",
    "        idx = max_qb > TAU\n",
    "        qb_hat = qb_hat[idx]\n",
    "\n",
    "    return qb_hat.detach(), idx, max_qb.detach()\n",
    "\n",
    "model = ConvNN().to(device)\n",
    "\n",
    "# criterion and optimizer\n",
    "labeled_criterion = nn.CrossEntropyLoss(reduction='none')\n",
    "unlabeled_criterion = nn.CrossEntropyLoss(reduction='none')\n",
    "\n",
    "optimizer = torch.optim.SGD(model.parameters(), lr=LR, momentum=BETA, weight_decay=WEIGHT_DECAY, nesterov=True)\n",
    "# scheduler = torch.optim.lr_scheduler.CosineAnnealingLR(optimizer, T_max=EPOCHS)\n",
    "\n",
    "\n",
    "# Define the cosine learning rate decay function\n",
    "lr_lambda = lambda step: LR * torch.cos(torch.tensor((7 * torch.pi * (step)) / (16 * EPOCHS))) * 100 / 3\n",
    "\n",
    "# Create a learning rate scheduler with the cosine decay function\n",
    "scheduler = torch.optim.lr_scheduler.LambdaLR(optimizer, lr_lambda=lr_lambda)\n",
    "\n",
    "# scheduler = None"
   ]
  },
  {
   "cell_type": "code",
   "execution_count": null,
   "metadata": {},
   "outputs": [],
   "source": [
    "print(\"Start training\")\n",
    "\n",
    "current_prop = SUBSET_PROP\n",
    "\n",
    "train_losses = []\n",
    "test_losses = []\n",
    "added_samp = 0\n",
    "uncertainty = 0\n",
    "\n",
    "for j in range(EPOCHS):\n",
    "    model.train()\n",
    "\n",
    "    running_loss = 0.0\n",
    "    correct = 0\n",
    "    total = 0\n",
    "    running_n_unlabeled = 0\n",
    "    moving_avg_pred_labeled = 0\n",
    "    moving_avg_pred_unlabeled = 0\n",
    "\n",
    "    pbar = tqdm(zip(labeled_dataloader, unlabeled_dataloader), total=min(len(labeled_dataloader), len(unlabeled_dataloader)), unit=\"batch\", desc=f\"Epoch {j: >5}\")\n",
    "\n",
    "    for i, (labeled_data, unlabeled_data) in enumerate(pbar):\n",
    "        # Get labeled and unlabeled data\n",
    "        labeled_inputs, labels = labeled_data[0].to(device), labeled_data[1].to(device)\n",
    "        unlabeled_inputs, unlabeled_labels = unlabeled_data[0].to(device), unlabeled_data[1].to(device)\n",
    "        \n",
    "\n",
    "        # Zero the parameter gradients\n",
    "        optimizer.zero_grad()\n",
    "\n",
    "        # Apply weak augmentation to labeled data\n",
    "        weak_labeled_inputs = weak_transform(labeled_inputs)\n",
    "\n",
    "        # Apply strong augmentation + weak augmentation to unlabeled data\n",
    "        weak_unlabeled_inputs = weak_transform(unlabeled_inputs)\n",
    "        strong_unlabeled_inputs = strong_transform(unlabeled_inputs)\n",
    "\n",
    "        # Compute mask, confidence\n",
    "        pseudo_labels, idx, max_qb = mask(model, weak_unlabeled_inputs)\n",
    "        strong_unlabeled_inputs = strong_unlabeled_inputs[idx]\n",
    "        unlabeled_labels = unlabeled_labels[idx]\n",
    "\n",
    "        n_labeled, n_unlabeled = weak_labeled_inputs.size(0), strong_unlabeled_inputs.size(0)\n",
    "\n",
    "        if n_unlabeled != 0:\n",
    "            # Concatenate labeled and unlabeled data\n",
    "            inputs_all = torch.cat((weak_labeled_inputs, strong_unlabeled_inputs))\n",
    "            labels_all = torch.cat((labels, pseudo_labels))\n",
    "\n",
    "            # forward pass\n",
    "            outputs = model(inputs_all)\n",
    "\n",
    "            # split labeled and unlabeled outputs\n",
    "            labeled_outputs, unlabeled_outputs = outputs[:n_labeled], outputs[n_labeled:]\n",
    "\n",
    "            # compute losses\n",
    "            labeled_loss = torch.sum(labeled_criterion(labeled_outputs, labels)) / BATCH_SIZE\n",
    "            unlabeled_loss = torch.sum(unlabeled_criterion(unlabeled_outputs, pseudo_labels)) / (MU * BATCH_SIZE)\n",
    "            \n",
    "            true_unlabeled_loss = torch.sum(true_unlabeled_criterion(unlabeled_outputs, unlabeled_labels)) / (MU * BATCH_SIZE)\n",
    "\n",
    "            # compute total loss\n",
    "            loss = labeled_loss + LAMBDA_U * unlabeled_loss\n",
    "\n",
    "            # compute accuracy\n",
    "            total += labels_all.size(0)\n",
    "            correct += (outputs.argmax(dim=1) == labels_all).sum().item()\n",
    "            \n",
    "        else:\n",
    "            # forward pass\n",
    "            labeled_outputs = model(weak_labeled_inputs)\n",
    "\n",
    "            # compute loss\n",
    "            labeled_loss = torch.sum(labeled_criterion(labeled_outputs, labels)) / BATCH_SIZE\n",
    "            unlabeled_loss = torch.tensor(0, device=device)\n",
    "            true_unlabeled_loss = torch.tensor(0, device=device)\n",
    "\n",
    "            # compute total loss\n",
    "            loss = labeled_loss + LAMBDA_U * unlabeled_loss\n",
    "\n",
    "            # compute accuracy\n",
    "            total += labels.size(0)\n",
    "            correct += (labeled_outputs.argmax(dim=1) == labels).sum().item()\n",
    "            \n",
    "\n",
    "        # backward pass + optimize\n",
    "        loss.backward()\n",
    "\n",
    "        # clamp gradients, just in case\n",
    "        # for p in filter(lambda p: p.grad is not None, model.parameters()): p.grad.data.clamp_(min=-.1, max=.1)\n",
    "        \n",
    "        optimizer.step()\n",
    "\n",
    "        \n",
    "        # update statistics\n",
    "        running_loss += loss.item()\n",
    "        running_n_unlabeled += n_unlabeled \n",
    "\n",
    "        # update progress bar\n",
    "        pbar.set_postfix({\n",
    "            \"labeled loss\": labeled_loss.item(),\n",
    "            \"unlabeled loss\": unlabeled_loss.item(),\n",
    "            \"true unlabeled loss\": true_unlabeled_loss.item(),\n",
    "            \"accuracy\": 100 * correct / total,\n",
    "            \"avg confidence\": torch.mean(max_qb).item(),\n",
    "            \"n_unlabeled\": running_n_unlabeled,\n",
    "            \"current_prop\": current_prop,\n",
    "            \"uncertainty\": uncertainty,\n",
    "            \"lr\": optimizer.param_groups[0]['lr']\n",
    "        })\n",
    "\n",
    "    # start adding labels after 50 epochs for 50 epochs\n",
    "    if j >= 50:\n",
    "        if current_prop < TARGET_PROP:\n",
    "            # compute information density\n",
    "            selected_indices, uncertainty = least_confidence(model, unlabeled_dataloader, K_SAMPLES)\n",
    "            print(selected_indices)\n",
    "\n",
    "            # select indices from unlabeled dataset\n",
    "            trainset_sup_new = create_labeled_dataset_active_learning(trainset_unsup, selected_indices)\n",
    "\n",
    "            # concat new trainset with labeled trainset\n",
    "            trainset_sup = torch.utils.data.ConcatDataset([trainset_sup, trainset_sup_new])\n",
    "\n",
    "            # create labeled dataloader\n",
    "            labeled_dataloader = torch.utils.data.DataLoader(trainset_sup, batch_size=BATCH_SIZE, shuffle=True, num_workers=0)\n",
    "\n",
    "            current_prop = len(trainset_sup) / len(trainset)\n",
    "    \n",
    "\n",
    "    # update loss\n",
    "    train_losses.append(running_loss / (i + 1))\n",
    "\n",
    "    # scheduler step\n",
    "    if scheduler is not None:\n",
    "        scheduler.step()\n",
    "\n",
    "    # if n_unlabeled != 0:\n",
    "    #     # plot an image of the batch\n",
    "    #     image = strong_unlabeled_inputs[0].cpu()\n",
    "    #     # image = image * std + mean\n",
    "    #     image = image.permute(1, 2, 0).cpu().numpy() * std + mean\n",
    "    #     plt.imshow(image)\n",
    "    #     plt.title(f'Pred: {unlabeled_outputs.argmax(dim=1)[0]}, true: {unlabeled_labels[0]}')\n",
    "    #     plt.show()\n",
    "\n",
    "    \n",
    "    # Evaluate the model on the test set\n",
    "    model.eval()  # Set the model to evaluation mode\n",
    "    test_correct = 0\n",
    "    test_total = 0\n",
    "\n",
    "    with torch.no_grad():\n",
    "        for data in testloader:\n",
    "            images, labels = data[0].to(device), data[1].to(device)\n",
    "            # normalize\n",
    "            images = normalize(data=images, mean=mean, std=std)\n",
    "            \n",
    "            outputs = model(images)\n",
    "            _, predicted = outputs.max(1)\n",
    "            test_total += labels.size(0)\n",
    "            test_correct += predicted.eq(labels).sum().item()\n",
    "        \n",
    "        test_accuracy = 100.0 * test_correct / test_total\n",
    "        print(f'Test Accuracy: {test_accuracy}%')\n",
    "\n",
    "        # update loss\n",
    "        test_losses.append(torch.sum(labeled_criterion(outputs, labels)).item() / BATCH_SIZE)"
   ]
  },
  {
   "cell_type": "code",
   "execution_count": null,
   "metadata": {},
   "outputs": [],
   "source": [
    "# plot losses\n",
    "plt.figure(figsize=(10, 7))\n",
    "plt.plot(train_losses, label='Training loss')\n",
    "plt.plot(test_losses, label='Validation loss')\n",
    "plt.title('Loss at the end of each epoch')\n",
    "plt.legend()\n",
    "plt.show()\n",
    "\n",
    "# plot confusion matrix\n",
    "model.eval()  # Set the model to evaluation mode\n",
    "test_correct = 0\n",
    "test_total = 0\n",
    "y_true = []\n",
    "y_pred = []\n",
    "\n",
    "with torch.no_grad():\n",
    "    for data in testloader:\n",
    "        images, labels = data[0].to(device), data[1].to(device)\n",
    "        # normalize\n",
    "        images = normalize(data=images, mean=mean, std=std)\n",
    "        \n",
    "        outputs = model(images)\n",
    "        _, predicted = outputs.max(1)\n",
    "        test_total += labels.size(0)\n",
    "        test_correct += predicted.eq(labels).sum().item()\n",
    "\n",
    "        y_true.append(labels.cpu().numpy())\n",
    "        y_pred.append(predicted.cpu().numpy())\n",
    "    \n",
    "    y_true = np.concatenate(y_true)\n",
    "    y_pred = np.concatenate(y_pred)\n",
    "\n",
    "    cm = confusion_matrix(y_true, y_pred, normalize='true')\n",
    "    disp = ConfusionMatrixDisplay(confusion_matrix=cm, display_labels=classes)\n",
    "    disp.plot()\n",
    "    plt.tight_layout()\n",
    "    plt.show()\n"
   ]
  },
  {
   "cell_type": "code",
   "execution_count": null,
   "metadata": {},
   "outputs": [],
   "source": [
    "# Evaluation on the test set\n",
    "model.eval()  # Set the model to evaluation mode\n",
    "test_correct = 0\n",
    "test_total = 0\n",
    "\n",
    "with torch.no_grad():\n",
    "    for data in testloader:\n",
    "        images, labels = data[0].to(device), data[1].to(device)\n",
    "        # normalize\n",
    "        images = normalize(data=images, mean=mean, std=std)\n",
    "        \n",
    "        outputs = model(images)\n",
    "        _, predicted = outputs.max(1)\n",
    "        test_total += labels.size(0)\n",
    "        test_correct += predicted.eq(labels).sum().item()\n",
    "\n",
    "test_accuracy = 100.0 * test_correct / test_total\n",
    "print(f'Test Accuracy: {test_accuracy}%')\n",
    "\n",
    "# save the model\n",
    "torch.save(model.state_dict(), f\"{torch_models}/model_5_fixmatch.pth\")\n",
    "\n",
    "test_image, test_labels = testloader.__iter__().__next__()\n",
    "test_image = test_image.to(device)\n",
    "outputs_test = model(test_image)\n",
    "label_pred_test = outputs_test.argmax(dim=1)\n",
    "\n",
    "# descale the images\n",
    "test_image = test_image#  * torch.tensor(std, device=device).view(1, 3, 1, 1) + torch.tensor(mean, device=device).view(1, 3, 1, 1)\n",
    "\n",
    "fig1 = plot_images(test_image, test_labels, label_pred_test, classes, figure_name=f\"Test score with Fixmatch - {int(SUBSET_PROP*100)}% - {test_accuracy:.2f}%\")\n",
    "fig1.savefig(f\"./figures/test_score_{SUBSET_PROP}_fixmatch.png\")"
   ]
  },
  {
   "attachments": {},
   "cell_type": "markdown",
   "metadata": {},
   "source": [
    "### IV.3 Fixmatch on 1% train data with Active Learning"
   ]
  },
  {
   "cell_type": "code",
   "execution_count": null,
   "metadata": {},
   "outputs": [],
   "source": [
    "# Define your dataset and dataloaders for labeled and unlabeled data\n",
    "seedEverything()\n",
    "\n",
    "TARGET_PROP = 0.01\n",
    "EPOCHS = 300\n",
    "SUBSET_PROP = 0.005\n",
    "K_SAMPLES = 50\n",
    "\n",
    "# 10% labeled data and 100% unlabeled (see note 2 in paper)\n",
    "trainset_sup, _ = torch.utils.data.random_split(trainset, [SUBSET_PROP, 1-SUBSET_PROP])\n",
    "\n",
    "trainset_unsup, _ = torch.utils.data.random_split(trainset, [1, 0])\n",
    "\n",
    "labeled_dataloader = DataLoader(\n",
    "    trainset_sup,\n",
    "    batch_size=BATCH_SIZE,\n",
    "    shuffle=True,\n",
    "    num_workers=0\n",
    ")\n",
    "\n",
    "unlabeled_dataloader = DataLoader(\n",
    "    trainset_unsup,\n",
    "    batch_size=MU*BATCH_SIZE,\n",
    "    shuffle=False,\n",
    "    num_workers=0\n",
    ")\n",
    "# 10% labeled data and 100% unlabeled (see note 2 in paper)\n",
    "trainset_sup, _ = torch.utils.data.random_split(trainset, [SUBSET_PROP, 1-SUBSET_PROP])\n",
    "\n",
    "trainset_unsup, _ = torch.utils.data.random_split(trainset, [1, 0])\n",
    "\n",
    "labeled_dataloader = DataLoader(\n",
    "    trainset_sup,\n",
    "    batch_size=BATCH_SIZE,\n",
    "    shuffle=True,\n",
    "    num_workers=0\n",
    ")\n",
    "\n",
    "unlabeled_dataloader = DataLoader(\n",
    "    trainset_unsup,\n",
    "    batch_size=MU*BATCH_SIZE,\n",
    "    shuffle=True,\n",
    "    num_workers=0\n",
    ")\n",
    "\n",
    "# transformations\n",
    "weak_transform = K.ImageSequential(\n",
    "    K.RandomHorizontalFlip(p=0.50), \n",
    "    K.RandomAffine(degrees=0, translate=(0.125, 0.125)),\n",
    ")\n",
    "\n",
    "strong_transform = K.ImageSequential(\n",
    "    K.auto.RandAugment(n=2, m=10), # randaugment + cutout\n",
    ")\n",
    "\n",
    "def mask(model, weak_unlabeled_data):\n",
    "    with torch.no_grad():\n",
    "        model.train()\n",
    "\n",
    "        qb = model(weak_unlabeled_data)\n",
    "\n",
    "        # qb = logits.copy()\n",
    "        qb = torch.softmax(qb, dim=1)\n",
    "\n",
    "        max_qb, qb_hat = torch.max(qb, dim=1)\n",
    "\n",
    "        idx = max_qb > TAU\n",
    "        qb_hat = qb_hat[idx]\n",
    "\n",
    "    return qb_hat.detach(), idx, max_qb.detach()\n",
    "\n",
    "model = ConvNN().to(device)\n",
    "\n",
    "# criterion and optimizer\n",
    "labeled_criterion = nn.CrossEntropyLoss(reduction='none')\n",
    "unlabeled_criterion = nn.CrossEntropyLoss(reduction='none')\n",
    "\n",
    "optimizer = torch.optim.SGD(model.parameters(), lr=LR, momentum=BETA, weight_decay=WEIGHT_DECAY, nesterov=True)\n",
    "# scheduler = torch.optim.lr_scheduler.CosineAnnealingLR(optimizer, T_max=EPOCHS)\n",
    "\n",
    "\n",
    "# Define the cosine learning rate decay function\n",
    "lr_lambda = lambda step: LR * torch.cos(torch.tensor((7 * torch.pi * (step)) / (16 * EPOCHS))) * 100 / 3\n",
    "\n",
    "# Create a learning rate scheduler with the cosine decay function\n",
    "scheduler = torch.optim.lr_scheduler.LambdaLR(optimizer, lr_lambda=lr_lambda)\n",
    "\n",
    "# scheduler = None"
   ]
  },
  {
   "cell_type": "code",
   "execution_count": null,
   "metadata": {},
   "outputs": [],
   "source": [
    "print(\"Start training\")\n",
    "\n",
    "current_prop = SUBSET_PROP\n",
    "\n",
    "train_losses = []\n",
    "test_losses = []\n",
    "added_samp = 0\n",
    "uncertainty = 0\n",
    "\n",
    "for j in range(EPOCHS):\n",
    "    model.train()\n",
    "\n",
    "    running_loss = 0.0\n",
    "    correct = 0\n",
    "    total = 0\n",
    "    running_n_unlabeled = 0\n",
    "    moving_avg_pred_labeled = 0\n",
    "    moving_avg_pred_unlabeled = 0\n",
    "\n",
    "    pbar = tqdm(zip(labeled_dataloader, unlabeled_dataloader), total=min(len(labeled_dataloader), len(unlabeled_dataloader)), unit=\"batch\", desc=f\"Epoch {j: >5}\")\n",
    "\n",
    "    for i, (labeled_data, unlabeled_data) in enumerate(pbar):\n",
    "        # Get labeled and unlabeled data\n",
    "        labeled_inputs, labels = labeled_data[0].to(device), labeled_data[1].to(device)\n",
    "        unlabeled_inputs, unlabeled_labels = unlabeled_data[0].to(device), unlabeled_data[1].to(device)\n",
    "        \n",
    "\n",
    "        # Zero the parameter gradients\n",
    "        optimizer.zero_grad()\n",
    "\n",
    "        # Apply weak augmentation to labeled data\n",
    "        weak_labeled_inputs = weak_transform(labeled_inputs)\n",
    "\n",
    "        # Apply strong augmentation + weak augmentation to unlabeled data\n",
    "        weak_unlabeled_inputs = weak_transform(unlabeled_inputs)\n",
    "        strong_unlabeled_inputs = strong_transform(unlabeled_inputs)\n",
    "\n",
    "        # Compute mask, confidence\n",
    "        pseudo_labels, idx, max_qb = mask(model, weak_unlabeled_inputs)\n",
    "        strong_unlabeled_inputs = strong_unlabeled_inputs[idx]\n",
    "        unlabeled_labels = unlabeled_labels[idx]\n",
    "\n",
    "        n_labeled, n_unlabeled = weak_labeled_inputs.size(0), strong_unlabeled_inputs.size(0)\n",
    "\n",
    "        if n_unlabeled != 0:\n",
    "            # Concatenate labeled and unlabeled data\n",
    "            inputs_all = torch.cat((weak_labeled_inputs, strong_unlabeled_inputs))\n",
    "            labels_all = torch.cat((labels, pseudo_labels))\n",
    "\n",
    "            # forward pass\n",
    "            outputs = model(inputs_all)\n",
    "\n",
    "            # split labeled and unlabeled outputs\n",
    "            labeled_outputs, unlabeled_outputs = outputs[:n_labeled], outputs[n_labeled:]\n",
    "\n",
    "            # compute losses\n",
    "            labeled_loss = torch.sum(labeled_criterion(labeled_outputs, labels)) / BATCH_SIZE\n",
    "            unlabeled_loss = torch.sum(unlabeled_criterion(unlabeled_outputs, pseudo_labels)) / (MU * BATCH_SIZE)\n",
    "            \n",
    "            true_unlabeled_loss = torch.sum(true_unlabeled_criterion(unlabeled_outputs, unlabeled_labels)) / (MU * BATCH_SIZE)\n",
    "\n",
    "            # compute total loss\n",
    "            loss = labeled_loss + LAMBDA_U * unlabeled_loss\n",
    "\n",
    "            # compute accuracy\n",
    "            total += labels_all.size(0)\n",
    "            correct += (outputs.argmax(dim=1) == labels_all).sum().item()\n",
    "            \n",
    "        else:\n",
    "            # forward pass\n",
    "            labeled_outputs = model(weak_labeled_inputs)\n",
    "\n",
    "            # compute loss\n",
    "            labeled_loss = torch.sum(labeled_criterion(labeled_outputs, labels)) / BATCH_SIZE\n",
    "            unlabeled_loss = torch.tensor(0, device=device)\n",
    "            true_unlabeled_loss = torch.tensor(0, device=device)\n",
    "\n",
    "            # compute total loss\n",
    "            loss = labeled_loss + LAMBDA_U * unlabeled_loss\n",
    "\n",
    "            # compute accuracy\n",
    "            total += labels.size(0)\n",
    "            correct += (labeled_outputs.argmax(dim=1) == labels).sum().item()\n",
    "            \n",
    "\n",
    "        # backward pass + optimize\n",
    "        loss.backward()\n",
    "\n",
    "        # clamp gradients, just in case\n",
    "        # for p in filter(lambda p: p.grad is not None, model.parameters()): p.grad.data.clamp_(min=-.1, max=.1)\n",
    "        \n",
    "        optimizer.step()\n",
    "\n",
    "        \n",
    "        # update statistics\n",
    "        running_loss += loss.item()\n",
    "        running_n_unlabeled += n_unlabeled \n",
    "\n",
    "        # update progress bar\n",
    "        pbar.set_postfix({\n",
    "            \"labeled loss\": labeled_loss.item(),\n",
    "            \"unlabeled loss\": unlabeled_loss.item(),\n",
    "            \"true unlabeled loss\": true_unlabeled_loss.item(),\n",
    "            \"accuracy\": 100 * correct / total,\n",
    "            \"avg confidence\": torch.mean(max_qb).item(),\n",
    "            \"n_unlabeled\": running_n_unlabeled,\n",
    "            \"current_prop\": current_prop,\n",
    "            \"uncertainty\": uncertainty,\n",
    "            \"lr\": optimizer.param_groups[0]['lr']\n",
    "        })\n",
    "\n",
    "    # start adding labels after 50 epochs for 50 epochs\n",
    "    if j >= 50:\n",
    "        if current_prop < TARGET_PROP:\n",
    "            # compute information density\n",
    "            selected_indices, uncertainty = least_confidence(model, unlabeled_dataloader, K_SAMPLES)\n",
    "            print(selected_indices)\n",
    "\n",
    "            # select indices from unlabeled dataset\n",
    "            trainset_sup_new = create_labeled_dataset_active_learning(trainset_unsup, selected_indices)\n",
    "\n",
    "            # concat new trainset with labeled trainset\n",
    "            trainset_sup = torch.utils.data.ConcatDataset([trainset_sup, trainset_sup_new])\n",
    "\n",
    "            # create labeled dataloader\n",
    "            labeled_dataloader = torch.utils.data.DataLoader(trainset_sup, batch_size=BATCH_SIZE, shuffle=True, num_workers=0)\n",
    "\n",
    "            current_prop = len(trainset_sup) / len(trainset)\n",
    "    \n",
    "\n",
    "    # update loss\n",
    "    train_losses.append(running_loss / (i + 1))\n",
    "\n",
    "    # scheduler step\n",
    "    if scheduler is not None:\n",
    "        scheduler.step()\n",
    "\n",
    "    # if n_unlabeled != 0:\n",
    "    #     # plot an image of the batch\n",
    "    #     image = strong_unlabeled_inputs[0].cpu()\n",
    "    #     # image = image * std + mean\n",
    "    #     image = image.permute(1, 2, 0).cpu().numpy() * std + mean\n",
    "    #     plt.imshow(image)\n",
    "    #     plt.title(f'Pred: {unlabeled_outputs.argmax(dim=1)[0]}, true: {unlabeled_labels[0]}')\n",
    "    #     plt.show()\n",
    "\n",
    "    \n",
    "    # Evaluate the model on the test set\n",
    "    model.eval()  # Set the model to evaluation mode\n",
    "    test_correct = 0\n",
    "    test_total = 0\n",
    "\n",
    "    with torch.no_grad():\n",
    "        for data in testloader:\n",
    "            images, labels = data[0].to(device), data[1].to(device)\n",
    "            # normalize\n",
    "            images = normalize(data=images, mean=mean, std=std)\n",
    "            \n",
    "            outputs = model(images)\n",
    "            _, predicted = outputs.max(1)\n",
    "            test_total += labels.size(0)\n",
    "            test_correct += predicted.eq(labels).sum().item()\n",
    "        \n",
    "        test_accuracy = 100.0 * test_correct / test_total\n",
    "        print(f'Test Accuracy: {test_accuracy}%')\n",
    "\n",
    "        # update loss\n",
    "        test_losses.append(torch.sum(labeled_criterion(outputs, labels)).item() / BATCH_SIZE)"
   ]
  },
  {
   "cell_type": "code",
   "execution_count": null,
   "metadata": {},
   "outputs": [],
   "source": [
    "# plot losses\n",
    "plt.figure(figsize=(10, 7))\n",
    "plt.plot(train_losses, label='Training loss')\n",
    "plt.plot(test_losses, label='Validation loss')\n",
    "plt.title('Loss at the end of each epoch')\n",
    "plt.legend()\n",
    "plt.show()\n",
    "\n",
    "# plot confusion matrix\n",
    "model.eval()  # Set the model to evaluation mode\n",
    "test_correct = 0\n",
    "test_total = 0\n",
    "y_true = []\n",
    "y_pred = []\n",
    "\n",
    "with torch.no_grad():\n",
    "    for data in testloader:\n",
    "        images, labels = data[0].to(device), data[1].to(device)\n",
    "        # normalize\n",
    "        images = normalize(data=images, mean=mean, std=std)\n",
    "        \n",
    "        outputs = model(images)\n",
    "        _, predicted = outputs.max(1)\n",
    "        test_total += labels.size(0)\n",
    "        test_correct += predicted.eq(labels).sum().item()\n",
    "\n",
    "        y_true.append(labels.cpu().numpy())\n",
    "        y_pred.append(predicted.cpu().numpy())\n",
    "    \n",
    "    y_true = np.concatenate(y_true)\n",
    "    y_pred = np.concatenate(y_pred)\n",
    "\n",
    "    cm = confusion_matrix(y_true, y_pred, normalize='true')\n",
    "    disp = ConfusionMatrixDisplay(confusion_matrix=cm, display_labels=classes)\n",
    "    disp.plot()\n",
    "    plt.tight_layout()\n",
    "    plt.show()\n"
   ]
  },
  {
   "cell_type": "code",
   "execution_count": null,
   "metadata": {},
   "outputs": [],
   "source": [
    "# Evaluation on the test set\n",
    "model.eval()  # Set the model to evaluation mode\n",
    "test_correct = 0\n",
    "test_total = 0\n",
    "\n",
    "with torch.no_grad():\n",
    "    for data in testloader:\n",
    "        images, labels = data[0].to(device), data[1].to(device)\n",
    "        # normalize\n",
    "        images = normalize(data=images, mean=mean, std=std)\n",
    "        \n",
    "        outputs = model(images)\n",
    "        _, predicted = outputs.max(1)\n",
    "        test_total += labels.size(0)\n",
    "        test_correct += predicted.eq(labels).sum().item()\n",
    "\n",
    "test_accuracy = 100.0 * test_correct / test_total\n",
    "print(f'Test Accuracy: {test_accuracy}%')\n",
    "\n",
    "# save the model\n",
    "torch.save(model.state_dict(), f\"{torch_models}/model_1_fixmatch.pth\")\n",
    "\n",
    "test_image, test_labels = testloader.__iter__().__next__()\n",
    "test_image = test_image.to(device)\n",
    "outputs_test = model(test_image)\n",
    "label_pred_test = outputs_test.argmax(dim=1)\n",
    "\n",
    "# descale the images\n",
    "test_image = test_image#  * torch.tensor(std, device=device).view(1, 3, 1, 1) + torch.tensor(mean, device=device).view(1, 3, 1, 1)\n",
    "\n",
    "fig1 = plot_images(test_image, test_labels, label_pred_test, classes, figure_name=f\"Test score with Fixmatch - {int(SUBSET_PROP*100)}% - {test_accuracy:.2f}%\")\n",
    "fig1.savefig(f\"./figures/test_score_{SUBSET_PROP}_fixmatch.png\")"
   ]
  },
  {
   "cell_type": "code",
   "execution_count": null,
   "metadata": {},
   "outputs": [],
   "source": []
  },
  {
   "cell_type": "code",
   "execution_count": null,
   "metadata": {},
   "outputs": [],
   "source": []
  }
 ],
 "metadata": {
  "kernelspec": {
   "display_name": "Python 3 (ipykernel)",
   "language": "python",
   "name": "python3"
  },
  "language_info": {
   "codemirror_mode": {
    "name": "ipython",
    "version": 3
   },
   "file_extension": ".py",
   "mimetype": "text/x-python",
   "name": "python",
   "nbconvert_exporter": "python",
   "pygments_lexer": "ipython3",
   "version": "3.10.6"
  },
  "orig_nbformat": 4
 },
 "nbformat": 4,
 "nbformat_minor": 2
}
