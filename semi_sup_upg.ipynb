{
 "cells": [
  {
   "attachments": {},
   "cell_type": "markdown",
   "metadata": {},
   "source": [
    "# Projet Fixmatch"
   ]
  },
  {
   "cell_type": "code",
   "execution_count": 1,
   "metadata": {},
   "outputs": [],
   "source": [
    "# !pip install torchview torchsummary torchvision kornia torchmetrics matplotlib tqdm path graphviz opencv-python scikit-learn optuna"
   ]
  },
  {
   "cell_type": "code",
   "execution_count": 2,
   "metadata": {},
   "outputs": [],
   "source": [
    "# deep learning\n",
    "import torch\n",
    "import torch.nn as nn\n",
    "from torch.distributions.transforms import LowerCholeskyTransform\n",
    "from torch.distributions.multivariate_normal import MultivariateNormal\n",
    "from torch.utils.data import DataLoader, Dataset\n",
    "\n",
    "# vizualisation\n",
    "import torchsummary\n",
    "\n",
    "# transforms\n",
    "import torchvision.transforms as T\n",
    "import kornia.augmentation as K\n",
    "from kornia.enhance import normalize\n",
    "from torchvision.transforms import RandAugment\n",
    "\n",
    "# metrics\n",
    "from torchmetrics import Accuracy\n",
    "\n",
    "# torchvision\n",
    "import torchvision\n",
    "import torchvision.transforms as transforms\n",
    "\n",
    "# plotting\n",
    "import matplotlib.pyplot as plt\n",
    "from torchview import draw_graph\n",
    "\n",
    "from IPython.display import display\n",
    "from IPython.core.display import SVG, HTML\n",
    "\n",
    "from tqdm.auto import tqdm\n",
    "\n",
    "# typing\n",
    "from typing import Callable\n",
    "\n",
    "from utils import plot_images, plot_transform\n",
    "from model import ConvNN, display_model\n",
    "\n",
    "# os\n",
    "import os\n",
    "import path\n",
    "\n",
    "import random\n",
    "import numpy as np \n",
    "\n",
    "# transformations\n",
    "# import transform as T\n",
    "# from randaugment import RandomAugment\n",
    "\n",
    "# typing\n",
    "from typing import Callable, List, Tuple\n",
    "\n",
    "from sklearn.metrics import confusion_matrix, ConfusionMatrixDisplay\n",
    "from sklearn.metrics.pairwise import cosine_similarity\n",
    "\n",
    "%load_ext autoreload\n",
    "%autoreload 2"
   ]
  },
  {
   "cell_type": "code",
   "execution_count": 3,
   "metadata": {},
   "outputs": [],
   "source": [
    "DEFAULT_RANDOM_SEED = 2021\n",
    "\n",
    "def seedBasic(seed=DEFAULT_RANDOM_SEED):\n",
    "    random.seed(seed)\n",
    "    os.environ['PYTHONHASHSEED'] = str(seed)\n",
    "    np.random.seed(seed)\n",
    "    \n",
    "# torch random seed\n",
    "import torch\n",
    "def seedTorch(seed=DEFAULT_RANDOM_SEED):\n",
    "    torch.manual_seed(seed)\n",
    "    torch.cuda.manual_seed(seed)\n",
    "    torch.backends.cudnn.deterministic = True\n",
    "    torch.backends.cudnn.benchmark = False\n",
    "      \n",
    "# basic + tensorflow + torch \n",
    "def seedEverything(seed=DEFAULT_RANDOM_SEED):\n",
    "    seedBasic(seed)\n",
    "    seedTorch(seed)"
   ]
  },
  {
   "cell_type": "code",
   "execution_count": 4,
   "metadata": {},
   "outputs": [
    {
     "name": "stdout",
     "output_type": "stream",
     "text": [
      "cuda\n"
     ]
    }
   ],
   "source": [
    "# Set device\n",
    "if ((int(torch.__version__.split(\".\")[0]) >= 2) or (int(torch.__version__.split(\".\")[1]) >= 13)) and torch.has_mps:\n",
    "    device = torch.device(\"mps\")\n",
    "elif torch.cuda.is_available():\n",
    "    device = torch.device(\"cuda\")\n",
    "else:\n",
    "    device = torch.device(\"cpu\")\n",
    "\n",
    "print(device)"
   ]
  },
  {
   "cell_type": "code",
   "execution_count": 5,
   "metadata": {},
   "outputs": [],
   "source": [
    "IMG_SHAPE = (3, 32, 32)\n",
    "# See Table 4\n",
    "TAU = 0.9 #! 0.95 in the paper\n",
    "LAMBDA_U = 3\n",
    "MU = 4\n",
    "BATCH_SIZE = 64\n",
    "LR = 0.03\n",
    "BETA = 0.9\n",
    "WEIGHT_DECAY = 0.001\n",
    "BETA_DENSITY = 1"
   ]
  },
  {
   "cell_type": "code",
   "execution_count": 6,
   "metadata": {},
   "outputs": [],
   "source": [
    "class ConvNN(nn.Module):\n",
    "    \"\"\"\n",
    "    Simple CNN for CIFAR10\n",
    "    \"\"\"\n",
    "    \n",
    "    def __init__(self):\n",
    "        super().__init__()\n",
    "        self.conv_32 = nn.Conv2d(3, 32, kernel_size=3, padding='same')\n",
    "        self.conv_64 = nn.Conv2d(32, 64, kernel_size=3, padding='same')\n",
    "        self.conv_96 = nn.Conv2d(64, 96, kernel_size=3, padding='same')\n",
    "        self.conv_128 = nn.Conv2d(96, 128, kernel_size=3, padding='same')\n",
    "        self.fc_512 = nn.Linear(512, 512)\n",
    "        self.fc_10 = nn.Linear(512, 10)\n",
    "        self.max_pool = nn.MaxPool2d(2)\n",
    "        self.relu = nn.ReLU(inplace=True)\n",
    "        self.flatten = nn.Flatten()\n",
    "        # self.softmax = nn.Softmax(dim=1)\n",
    "\n",
    "    def forward(self, x: torch.Tensor) -> torch.Tensor:\n",
    "        x = self.conv_32(x)\n",
    "        x = self.relu(x)\n",
    "        x = self.max_pool(x)\n",
    "\n",
    "        x = self.conv_64(x)\n",
    "        x = self.relu(x)\n",
    "        x = self.max_pool(x)\n",
    "\n",
    "        x = self.conv_96(x)\n",
    "        x = self.relu(x)\n",
    "        x = self.max_pool(x)\n",
    "\n",
    "        x = self.conv_128(x)\n",
    "        x = self.relu(x)\n",
    "        x = self.max_pool(x)\n",
    "\n",
    "        x = self.flatten(x)\n",
    "        x = self.fc_512(x)\n",
    "        x = self.relu(x)\n",
    "        x = self.fc_10(x)\n",
    "        # x = self.softmax(x)\n",
    "\n",
    "        return x"
   ]
  },
  {
   "cell_type": "code",
   "execution_count": 7,
   "metadata": {},
   "outputs": [
    {
     "name": "stdout",
     "output_type": "stream",
     "text": [
      "Files already downloaded and verified\n",
      "mean: [0.4913966  0.48215377 0.44651437], std: [0.246344   0.24280126 0.26067406]\n",
      "Files already downloaded and verified\n"
     ]
    }
   ],
   "source": [
    "def compute_mean_std(trainLoader) -> Tuple[List[float], List[float]]:\n",
    "    # initialize the list of means and stds\n",
    "    mean, std = torch.zeros(3), torch.zeros(3)\n",
    "\n",
    "    # iterate over the dataset and compute the sum of each channel\n",
    "    for images, _ in trainLoader:\n",
    "        mean+= torch.mean(images, dim=[0,2,3])\n",
    "        std+= torch.std(images, dim=[0,2,3])\n",
    "    \n",
    "    # compute the mean and std\n",
    "    mean = mean/len(trainLoader)\n",
    "    std = std/len(trainLoader)\n",
    "\n",
    "    return mean, std\n",
    "\n",
    "# Load CIFAR-10 dataset\n",
    "transform = transforms.Compose([\n",
    "    transforms.ToTensor(),\n",
    "])\n",
    "\n",
    "trainset = torchvision.datasets.CIFAR10(\n",
    "    root='./data', train=True, download=True, transform=transform)\n",
    "\n",
    "trainloader = torch.utils.data.DataLoader(\n",
    "    trainset, batch_size=BATCH_SIZE, shuffle=True, num_workers=0)\n",
    "\n",
    "if not os.path.exists('./data/mean.pt'):\n",
    "    mean, std = compute_mean_std(trainloader)\n",
    "    torch.save(mean, 'data/mean.pt')\n",
    "    torch.save(std, 'data/std.pt')\n",
    "else:\n",
    "    mean, std = torch.load('./data/mean.pt'), torch.load('./data/std.pt')\n",
    "\n",
    "# to numpy\n",
    "mean, std = mean.numpy(), std.numpy()\n",
    "\n",
    "print(f\"mean: {mean}, std: {std}\")\n",
    "\n",
    "\n",
    "testset = torchvision.datasets.CIFAR10(\n",
    "    root='./data', train=False, download=True, transform=transform)\n",
    "\n",
    "testloader = torch.utils.data.DataLoader(\n",
    "    testset, batch_size=BATCH_SIZE, shuffle=False, num_workers=0)\n",
    "\n",
    "classes = ('plane', 'car', 'bird', 'cat',\n",
    "           'deer', 'dog', 'frog', 'horse', 'ship', 'truck')"
   ]
  },
  {
   "cell_type": "code",
   "execution_count": 8,
   "metadata": {},
   "outputs": [],
   "source": [
    "torch_models = 'torch_models' \n",
    "if not os.path.exists(torch_models):\n",
    "    os.makedirs(torch_models)"
   ]
  },
  {
   "attachments": {},
   "cell_type": "markdown",
   "metadata": {},
   "source": [
    "## IV. Semi-Supervised Learning: Fixmatch with Active Learning"
   ]
  },
  {
   "attachments": {},
   "cell_type": "markdown",
   "metadata": {},
   "source": [
    "### IV.1 Fixmatch on 10% train data with Active Learning"
   ]
  },
  {
   "cell_type": "code",
   "execution_count": 9,
   "metadata": {},
   "outputs": [
    {
     "name": "stderr",
     "output_type": "stream",
     "text": [
      "/usr/local/lib/python3.10/dist-packages/torch/utils/data/dataset.py:348: UserWarning: Length of split at index 1 is 0. This might result in an empty dataset.\n",
      "  warnings.warn(f\"Length of split at index {i} is 0. \"\n"
     ]
    }
   ],
   "source": [
    "# Define your dataset and dataloaders for labeled and unlabeled data\n",
    "seedEverything()\n",
    "\n",
    "EPOCHS = 50\n",
    "SUBSET_PROP = 0.01\n",
    "K_SAMPLES = 64\n",
    "\n",
    "# 10% labeled data and 100% unlabeled (see note 2 in paper)\n",
    "trainset_sup, _ = torch.utils.data.random_split(trainset, [SUBSET_PROP, 1-SUBSET_PROP])\n",
    "\n",
    "trainset_unsup, _ = torch.utils.data.random_split(trainset, [1, 0])\n",
    "\n",
    "labeled_dataloader = DataLoader(\n",
    "    trainset_sup,\n",
    "    batch_size=BATCH_SIZE,\n",
    "    shuffle=True,\n",
    "    num_workers=0\n",
    ")\n",
    "\n",
    "unlabeled_dataloader = DataLoader(\n",
    "    trainset_unsup,\n",
    "    batch_size=MU*BATCH_SIZE,\n",
    "    shuffle=True,\n",
    "    num_workers=0\n",
    ")\n",
    "\n",
    "# indices of labeled data\n",
    "labeled_indices = trainset_sup.indices\n",
    "\n",
    "# indices of unlabeled data\n",
    "unlabeled_indices = trainset_unsup.indices"
   ]
  },
  {
   "cell_type": "code",
   "execution_count": 10,
   "metadata": {},
   "outputs": [],
   "source": [
    "# transformations\n",
    "weak_transform = K.ImageSequential(\n",
    "    K.RandomHorizontalFlip(p=0.50), \n",
    "    K.RandomAffine(degrees=0, translate=(0.125, 0.125)),\n",
    ")\n",
    "\n",
    "strong_transform = K.ImageSequential(\n",
    "    K.auto.RandAugment(n=2, m=10),\n",
    ")"
   ]
  },
  {
   "cell_type": "code",
   "execution_count": 11,
   "metadata": {},
   "outputs": [],
   "source": [
    "def mask(model, weak_unlabeled_data):\n",
    "    with torch.no_grad():\n",
    "        model.train()\n",
    "\n",
    "        qb = model(weak_unlabeled_data)\n",
    "\n",
    "        # qb = logits.copy()\n",
    "        qb = torch.softmax(qb, dim=1)\n",
    "\n",
    "        max_qb, qb_hat = torch.max(qb, dim=1)\n",
    "\n",
    "        idx = max_qb > TAU\n",
    "        qb_hat = qb_hat[idx]\n",
    "\n",
    "    return qb_hat.detach(), idx, max_qb.detach()"
   ]
  },
  {
   "cell_type": "code",
   "execution_count": 12,
   "metadata": {},
   "outputs": [],
   "source": [
    "model = ConvNN().to(device)\n",
    "\n",
    "# criterion and optimizer\n",
    "labeled_criterion = nn.CrossEntropyLoss(reduction='none')\n",
    "unlabeled_criterion = nn.CrossEntropyLoss(reduction='none')\n",
    "optimizer = torch.optim.SGD(model.parameters(), lr=LR, momentum=BETA, weight_decay=WEIGHT_DECAY, nesterov=True)"
   ]
  },
  {
   "cell_type": "code",
   "execution_count": 13,
   "metadata": {},
   "outputs": [],
   "source": [
    "def information_density(\n",
    "    model: ConvNN, \n",
    "    unlabeled_inputs: torch.Tensor,\n",
    "    k_samp: int) -> Tuple[torch.Tensor, torch.Tensor]:\n",
    "\n",
    "    inputs_norm = normalize(data=unlabeled_inputs, mean=mean, std=std)\n",
    "\n",
    "    logits = model(inputs_norm)\n",
    "    qb = torch.softmax(logits, dim=1)\n",
    "    qb1 = torch.topk(qb, k=2, dim=1)[0][:, 0]\n",
    "    qb2 = torch.topk(qb, k=2, dim=1)[0][:, 1]\n",
    "\n",
    "    uncertainty = 1 - (qb1 - qb2)\n",
    "\n",
    "    input1 = inputs_norm.view(inputs_norm.shape[0], -1)\n",
    "\n",
    "    cos_sim = cosine_similarity(input1.cpu().numpy())\n",
    "    information_density = (torch.sum(torch.tensor(cos_sim), dim=1) / inputs_norm.shape[0]) ** BETA_DENSITY\n",
    "\n",
    "    output = uncertainty * information_density.to(device)\n",
    "\n",
    "    inf_dens, idx = torch.topk(output, k=k_samp, dim=0)\n",
    "    \n",
    "    return inf_dens, idx.cpu().numpy()\n",
    "\n",
    "# Create a new labeled dataset using active learning\n",
    "def create_labeled_dataset_active_learning(dataset, selected_indices):\n",
    "    labeled_dataset = torch.utils.data.Subset(dataset, selected_indices)\n",
    "    return labeled_dataset"
   ]
  },
  {
   "cell_type": "code",
   "execution_count": 14,
   "metadata": {},
   "outputs": [
    {
     "name": "stdout",
     "output_type": "stream",
     "text": [
      "Start training\n"
     ]
    },
    {
     "data": {
      "application/vnd.jupyter.widget-view+json": {
       "model_id": "f2856b68d71546e58ced7cdac0068fb7",
       "version_major": 2,
       "version_minor": 0
      },
      "text/plain": [
       "Epoch     0:   0%|          | 0/8 [00:00<?, ?batch/s]"
      ]
     },
     "metadata": {},
     "output_type": "display_data"
    },
    {
     "name": "stdout",
     "output_type": "stream",
     "text": [
      "Information density: 0.06339705735445023\n",
      "Density indices: [181 127 183 219 141 208 214  52 234  97  85 187 179 218 227 199   3 130\n",
      " 134 210  61 249  18 173 113 221  95   7  63 206 251 120  12  32  13   9\n",
      "  79 162 229  47  78  96  77 226 166  38 184 145  90 246 158  71  41 118\n",
      " 253  69   4 198   5  48 239 153  42 131]\n",
      "Test Accuracy: 10.0%\n"
     ]
    },
    {
     "data": {
      "application/vnd.jupyter.widget-view+json": {
       "model_id": "f34bb9ec4b57467c808207b03dcd3974",
       "version_major": 2,
       "version_minor": 0
      },
      "text/plain": [
       "Epoch     1:   0%|          | 0/9 [00:00<?, ?batch/s]"
      ]
     },
     "metadata": {},
     "output_type": "display_data"
    },
    {
     "name": "stdout",
     "output_type": "stream",
     "text": [
      "Test Accuracy: 10.07%\n"
     ]
    },
    {
     "data": {
      "application/vnd.jupyter.widget-view+json": {
       "model_id": "621f37bb45994ac583389b26d8204982",
       "version_major": 2,
       "version_minor": 0
      },
      "text/plain": [
       "Epoch     2:   0%|          | 0/9 [00:00<?, ?batch/s]"
      ]
     },
     "metadata": {},
     "output_type": "display_data"
    },
    {
     "name": "stdout",
     "output_type": "stream",
     "text": [
      "Test Accuracy: 10.68%\n"
     ]
    },
    {
     "data": {
      "application/vnd.jupyter.widget-view+json": {
       "model_id": "372215bebe7d48c8a7b7a9af4ed63af4",
       "version_major": 2,
       "version_minor": 0
      },
      "text/plain": [
       "Epoch     3:   0%|          | 0/9 [00:00<?, ?batch/s]"
      ]
     },
     "metadata": {},
     "output_type": "display_data"
    },
    {
     "name": "stdout",
     "output_type": "stream",
     "text": [
      "Test Accuracy: 17.15%\n"
     ]
    },
    {
     "data": {
      "application/vnd.jupyter.widget-view+json": {
       "model_id": "199052a5dd1c4a078fe6eb5d0c321f8e",
       "version_major": 2,
       "version_minor": 0
      },
      "text/plain": [
       "Epoch     4:   0%|          | 0/9 [00:00<?, ?batch/s]"
      ]
     },
     "metadata": {},
     "output_type": "display_data"
    },
    {
     "name": "stdout",
     "output_type": "stream",
     "text": [
      "Test Accuracy: 20.4%\n"
     ]
    },
    {
     "data": {
      "application/vnd.jupyter.widget-view+json": {
       "model_id": "0e39a25f134a4e8fa2f307657682e879",
       "version_major": 2,
       "version_minor": 0
      },
      "text/plain": [
       "Epoch     5:   0%|          | 0/9 [00:00<?, ?batch/s]"
      ]
     },
     "metadata": {},
     "output_type": "display_data"
    },
    {
     "name": "stdout",
     "output_type": "stream",
     "text": [
      "Information density: 0.05281660705804825\n",
      "Density indices: [ 62 149  27 115 230 251 116   1 128 253  95 191 119 202 212 132  57  79\n",
      " 120 137  91 181 101 234  78  26  23 235 147 142 102  13 192 178 186 206\n",
      "  59  53  84  81 172 126 245 153  36 248  37  30  22  68   9 175 242 135\n",
      " 106 250 184  35  80 133 237 200 177   5]\n",
      "Test Accuracy: 21.45%\n"
     ]
    },
    {
     "data": {
      "application/vnd.jupyter.widget-view+json": {
       "model_id": "237444eadcf54a138296ddc3036e29aa",
       "version_major": 2,
       "version_minor": 0
      },
      "text/plain": [
       "Epoch     6:   0%|          | 0/10 [00:00<?, ?batch/s]"
      ]
     },
     "metadata": {},
     "output_type": "display_data"
    },
    {
     "name": "stdout",
     "output_type": "stream",
     "text": [
      "Test Accuracy: 24.56%\n"
     ]
    },
    {
     "data": {
      "application/vnd.jupyter.widget-view+json": {
       "model_id": "4d2cc7b670064e67b484615ec44865b2",
       "version_major": 2,
       "version_minor": 0
      },
      "text/plain": [
       "Epoch     7:   0%|          | 0/10 [00:00<?, ?batch/s]"
      ]
     },
     "metadata": {},
     "output_type": "display_data"
    },
    {
     "name": "stdout",
     "output_type": "stream",
     "text": [
      "Test Accuracy: 24.16%\n"
     ]
    },
    {
     "data": {
      "application/vnd.jupyter.widget-view+json": {
       "model_id": "dc5d2f0db10a458ba1eb20fdb86b0943",
       "version_major": 2,
       "version_minor": 0
      },
      "text/plain": [
       "Epoch     8:   0%|          | 0/10 [00:00<?, ?batch/s]"
      ]
     },
     "metadata": {},
     "output_type": "display_data"
    },
    {
     "name": "stdout",
     "output_type": "stream",
     "text": [
      "Test Accuracy: 26.99%\n"
     ]
    },
    {
     "data": {
      "application/vnd.jupyter.widget-view+json": {
       "model_id": "c494815d0a3a40eda48cb5e599b15e98",
       "version_major": 2,
       "version_minor": 0
      },
      "text/plain": [
       "Epoch     9:   0%|          | 0/10 [00:00<?, ?batch/s]"
      ]
     },
     "metadata": {},
     "output_type": "display_data"
    },
    {
     "name": "stdout",
     "output_type": "stream",
     "text": [
      "Test Accuracy: 31.97%\n"
     ]
    },
    {
     "data": {
      "application/vnd.jupyter.widget-view+json": {
       "model_id": "aa7db8d04aca4190bdc4bb6614c83e46",
       "version_major": 2,
       "version_minor": 0
      },
      "text/plain": [
       "Epoch    10:   0%|          | 0/10 [00:00<?, ?batch/s]"
      ]
     },
     "metadata": {},
     "output_type": "display_data"
    },
    {
     "name": "stdout",
     "output_type": "stream",
     "text": [
      "Information density: 0.06354041397571564\n",
      "Density indices: [ 69  97 173 123 241  82 214 189 116 122 212 127 181 236 102 218  42  50\n",
      " 130  33 188  47 197 135  60 111 109 166  94 252  67 161 114 152 229  52\n",
      "  88 105  24 153  58 121  23 209 140 120 215 156   7 133  37 217  49  35\n",
      " 186  27 175 142 204 223 164 185  22 238]\n",
      "Test Accuracy: 29.43%\n"
     ]
    },
    {
     "data": {
      "application/vnd.jupyter.widget-view+json": {
       "model_id": "03669a7305bc4ccebacad4cc85f230b7",
       "version_major": 2,
       "version_minor": 0
      },
      "text/plain": [
       "Epoch    11:   0%|          | 0/11 [00:00<?, ?batch/s]"
      ]
     },
     "metadata": {},
     "output_type": "display_data"
    },
    {
     "name": "stdout",
     "output_type": "stream",
     "text": [
      "Test Accuracy: 30.47%\n"
     ]
    },
    {
     "data": {
      "application/vnd.jupyter.widget-view+json": {
       "model_id": "beae2b763fd049c682bd1cec2899fb17",
       "version_major": 2,
       "version_minor": 0
      },
      "text/plain": [
       "Epoch    12:   0%|          | 0/11 [00:00<?, ?batch/s]"
      ]
     },
     "metadata": {},
     "output_type": "display_data"
    },
    {
     "name": "stdout",
     "output_type": "stream",
     "text": [
      "Test Accuracy: 29.46%\n"
     ]
    },
    {
     "data": {
      "application/vnd.jupyter.widget-view+json": {
       "model_id": "d99e5a23970e450684e01cbb51959740",
       "version_major": 2,
       "version_minor": 0
      },
      "text/plain": [
       "Epoch    13:   0%|          | 0/11 [00:00<?, ?batch/s]"
      ]
     },
     "metadata": {},
     "output_type": "display_data"
    },
    {
     "name": "stdout",
     "output_type": "stream",
     "text": [
      "Test Accuracy: 35.44%\n"
     ]
    },
    {
     "data": {
      "application/vnd.jupyter.widget-view+json": {
       "model_id": "1d04b188483c45c6ab69a0bc317cce32",
       "version_major": 2,
       "version_minor": 0
      },
      "text/plain": [
       "Epoch    14:   0%|          | 0/11 [00:00<?, ?batch/s]"
      ]
     },
     "metadata": {},
     "output_type": "display_data"
    },
    {
     "name": "stdout",
     "output_type": "stream",
     "text": [
      "Test Accuracy: 31.08%\n"
     ]
    },
    {
     "data": {
      "application/vnd.jupyter.widget-view+json": {
       "model_id": "fc661078f90343e3b8653905955c0771",
       "version_major": 2,
       "version_minor": 0
      },
      "text/plain": [
       "Epoch    15:   0%|          | 0/11 [00:00<?, ?batch/s]"
      ]
     },
     "metadata": {},
     "output_type": "display_data"
    },
    {
     "name": "stdout",
     "output_type": "stream",
     "text": [
      "Information density: 0.04950621351599693\n",
      "Density indices: [235 167  58 125  60 126  93 103  20  15 186 147 201 156  11 244  55 152\n",
      "  59  24 104 191 185 192  46 107  18  47  49 142 205 157   2  70 241  98\n",
      " 137  26  63  51 237  99 230  10 115 209 243 114 108  13  85 252   4  76\n",
      " 163 242  68 198  94  39  29  52 150  34]\n",
      "Test Accuracy: 31.53%\n"
     ]
    },
    {
     "data": {
      "application/vnd.jupyter.widget-view+json": {
       "model_id": "f145ac09c4cf453b84ced33d55292896",
       "version_major": 2,
       "version_minor": 0
      },
      "text/plain": [
       "Epoch    16:   0%|          | 0/11 [00:00<?, ?batch/s]"
      ]
     },
     "metadata": {},
     "output_type": "display_data"
    },
    {
     "name": "stdout",
     "output_type": "stream",
     "text": [
      "Test Accuracy: 35.47%\n"
     ]
    },
    {
     "data": {
      "application/vnd.jupyter.widget-view+json": {
       "model_id": "64709e7a06494202b5631ae219fb42ce",
       "version_major": 2,
       "version_minor": 0
      },
      "text/plain": [
       "Epoch    17:   0%|          | 0/11 [00:00<?, ?batch/s]"
      ]
     },
     "metadata": {},
     "output_type": "display_data"
    },
    {
     "name": "stdout",
     "output_type": "stream",
     "text": [
      "Test Accuracy: 34.06%\n"
     ]
    },
    {
     "data": {
      "application/vnd.jupyter.widget-view+json": {
       "model_id": "0a06302c95f143dc9fa2c5115ebea9af",
       "version_major": 2,
       "version_minor": 0
      },
      "text/plain": [
       "Epoch    18:   0%|          | 0/11 [00:00<?, ?batch/s]"
      ]
     },
     "metadata": {},
     "output_type": "display_data"
    },
    {
     "name": "stdout",
     "output_type": "stream",
     "text": [
      "Test Accuracy: 34.22%\n"
     ]
    },
    {
     "data": {
      "application/vnd.jupyter.widget-view+json": {
       "model_id": "0ad4c3d4791d4dcbbb2fd2a674a0bbae",
       "version_major": 2,
       "version_minor": 0
      },
      "text/plain": [
       "Epoch    19:   0%|          | 0/11 [00:00<?, ?batch/s]"
      ]
     },
     "metadata": {},
     "output_type": "display_data"
    },
    {
     "name": "stdout",
     "output_type": "stream",
     "text": [
      "Test Accuracy: 36.44%\n"
     ]
    },
    {
     "data": {
      "application/vnd.jupyter.widget-view+json": {
       "model_id": "6ddfbea518e74b1684a7656923fb96c1",
       "version_major": 2,
       "version_minor": 0
      },
      "text/plain": [
       "Epoch    20:   0%|          | 0/11 [00:00<?, ?batch/s]"
      ]
     },
     "metadata": {},
     "output_type": "display_data"
    },
    {
     "name": "stdout",
     "output_type": "stream",
     "text": [
      "Information density: 0.035349950194358826\n",
      "Density indices: [138  29  81   8 145 187  23 225 158 233  77  82 213  86 211 209 186  92\n",
      "  70 143  71  57  13 134  98 112  18   1  63  15 109  85 115  31 194 236\n",
      " 110 150  60  20 157 244  79 116 117  59 142 107  69  16 247 172 237 101\n",
      " 169  74 118 204  53 105  52 214 146 139]\n",
      "Test Accuracy: 36.91%\n"
     ]
    },
    {
     "data": {
      "application/vnd.jupyter.widget-view+json": {
       "model_id": "5760cd020eb84a2998e7b6db75ac858d",
       "version_major": 2,
       "version_minor": 0
      },
      "text/plain": [
       "Epoch    21:   0%|          | 0/11 [00:00<?, ?batch/s]"
      ]
     },
     "metadata": {},
     "output_type": "display_data"
    },
    {
     "name": "stdout",
     "output_type": "stream",
     "text": [
      "Test Accuracy: 37.54%\n"
     ]
    },
    {
     "data": {
      "application/vnd.jupyter.widget-view+json": {
       "model_id": "3b943b9b180c49df884d5e6c026ef0a1",
       "version_major": 2,
       "version_minor": 0
      },
      "text/plain": [
       "Epoch    22:   0%|          | 0/11 [00:00<?, ?batch/s]"
      ]
     },
     "metadata": {},
     "output_type": "display_data"
    },
    {
     "name": "stdout",
     "output_type": "stream",
     "text": [
      "Test Accuracy: 37.81%\n"
     ]
    },
    {
     "data": {
      "application/vnd.jupyter.widget-view+json": {
       "model_id": "1800d0b9243746f0b0579ec5d454db5c",
       "version_major": 2,
       "version_minor": 0
      },
      "text/plain": [
       "Epoch    23:   0%|          | 0/11 [00:00<?, ?batch/s]"
      ]
     },
     "metadata": {},
     "output_type": "display_data"
    },
    {
     "name": "stdout",
     "output_type": "stream",
     "text": [
      "Test Accuracy: 39.92%\n"
     ]
    },
    {
     "data": {
      "application/vnd.jupyter.widget-view+json": {
       "model_id": "ab4f68e0098b41ff8b018569fe8baea3",
       "version_major": 2,
       "version_minor": 0
      },
      "text/plain": [
       "Epoch    24:   0%|          | 0/11 [00:00<?, ?batch/s]"
      ]
     },
     "metadata": {},
     "output_type": "display_data"
    },
    {
     "name": "stdout",
     "output_type": "stream",
     "text": [
      "Test Accuracy: 40.94%\n"
     ]
    },
    {
     "data": {
      "application/vnd.jupyter.widget-view+json": {
       "model_id": "3bb84afbb63b4ae4a7694b907646d951",
       "version_major": 2,
       "version_minor": 0
      },
      "text/plain": [
       "Epoch    25:   0%|          | 0/11 [00:00<?, ?batch/s]"
      ]
     },
     "metadata": {},
     "output_type": "display_data"
    },
    {
     "name": "stdout",
     "output_type": "stream",
     "text": [
      "Information density: 0.036071695387363434\n",
      "Density indices: [166   9 114 241  22  13 155 142 169 201  57  26 186 173  70 179  17 172\n",
      " 239 227 126 100 123 129 195 197  53 248 152  14  88  49 103 235 243 157\n",
      "  18 192 203  87 190 187 181  21 207  80 205 218 111   0  19 222  40 160\n",
      " 202  60 110  36  28 119 188  83 161 185]\n",
      "Test Accuracy: 41.14%\n"
     ]
    },
    {
     "data": {
      "application/vnd.jupyter.widget-view+json": {
       "model_id": "1fd98244670c494096a4a5c6767ee803",
       "version_major": 2,
       "version_minor": 0
      },
      "text/plain": [
       "Epoch    26:   0%|          | 0/12 [00:00<?, ?batch/s]"
      ]
     },
     "metadata": {},
     "output_type": "display_data"
    },
    {
     "name": "stdout",
     "output_type": "stream",
     "text": [
      "Test Accuracy: 40.31%\n"
     ]
    },
    {
     "data": {
      "application/vnd.jupyter.widget-view+json": {
       "model_id": "22f3d0e9ec224816b8dcf72ed777753b",
       "version_major": 2,
       "version_minor": 0
      },
      "text/plain": [
       "Epoch    27:   0%|          | 0/12 [00:00<?, ?batch/s]"
      ]
     },
     "metadata": {},
     "output_type": "display_data"
    },
    {
     "name": "stdout",
     "output_type": "stream",
     "text": [
      "Test Accuracy: 38.46%\n"
     ]
    },
    {
     "data": {
      "application/vnd.jupyter.widget-view+json": {
       "model_id": "5a545a752ae24c459852167aafd4e4a7",
       "version_major": 2,
       "version_minor": 0
      },
      "text/plain": [
       "Epoch    28:   0%|          | 0/12 [00:00<?, ?batch/s]"
      ]
     },
     "metadata": {},
     "output_type": "display_data"
    },
    {
     "name": "stdout",
     "output_type": "stream",
     "text": [
      "Test Accuracy: 35.33%\n"
     ]
    },
    {
     "data": {
      "application/vnd.jupyter.widget-view+json": {
       "model_id": "5d34fb5ac88a4e809abeacaff4218a72",
       "version_major": 2,
       "version_minor": 0
      },
      "text/plain": [
       "Epoch    29:   0%|          | 0/12 [00:00<?, ?batch/s]"
      ]
     },
     "metadata": {},
     "output_type": "display_data"
    },
    {
     "name": "stdout",
     "output_type": "stream",
     "text": [
      "Test Accuracy: 37.53%\n"
     ]
    },
    {
     "data": {
      "application/vnd.jupyter.widget-view+json": {
       "model_id": "153deeb5c41e4578abf0b03640e8f42c",
       "version_major": 2,
       "version_minor": 0
      },
      "text/plain": [
       "Epoch    30:   0%|          | 0/12 [00:00<?, ?batch/s]"
      ]
     },
     "metadata": {},
     "output_type": "display_data"
    },
    {
     "name": "stdout",
     "output_type": "stream",
     "text": [
      "Information density: 0.04484696686267853\n",
      "Density indices: [ 16 155  29 246  43 124  41  91 127  62  36   9  92 174 148 150 222  46\n",
      "  18  56 125   5 171 130 180 205 207  25  15 249 192  19  33 138 238 175\n",
      " 228  45 172 204  54  28 209 170 166 118 131  83 137 194  75 142 143 109\n",
      " 188  47 132 159 244  24 250 103 139  50]\n",
      "Test Accuracy: 41.96%\n"
     ]
    },
    {
     "data": {
      "application/vnd.jupyter.widget-view+json": {
       "model_id": "b89f0e8bd91940aabc37a3ec1238a077",
       "version_major": 2,
       "version_minor": 0
      },
      "text/plain": [
       "Epoch    31:   0%|          | 0/12 [00:00<?, ?batch/s]"
      ]
     },
     "metadata": {},
     "output_type": "display_data"
    },
    {
     "name": "stdout",
     "output_type": "stream",
     "text": [
      "Test Accuracy: 40.46%\n"
     ]
    },
    {
     "data": {
      "application/vnd.jupyter.widget-view+json": {
       "model_id": "caecfa3adaee4629a1c87cca22e77611",
       "version_major": 2,
       "version_minor": 0
      },
      "text/plain": [
       "Epoch    32:   0%|          | 0/12 [00:00<?, ?batch/s]"
      ]
     },
     "metadata": {},
     "output_type": "display_data"
    },
    {
     "name": "stdout",
     "output_type": "stream",
     "text": [
      "Test Accuracy: 41.86%\n"
     ]
    },
    {
     "data": {
      "application/vnd.jupyter.widget-view+json": {
       "model_id": "136c003aa1b7435eb43463d5fdf648a9",
       "version_major": 2,
       "version_minor": 0
      },
      "text/plain": [
       "Epoch    33:   0%|          | 0/12 [00:00<?, ?batch/s]"
      ]
     },
     "metadata": {},
     "output_type": "display_data"
    },
    {
     "name": "stdout",
     "output_type": "stream",
     "text": [
      "Test Accuracy: 42.74%\n"
     ]
    },
    {
     "data": {
      "application/vnd.jupyter.widget-view+json": {
       "model_id": "d7fbc3366e3d492b98c08c2136889b8b",
       "version_major": 2,
       "version_minor": 0
      },
      "text/plain": [
       "Epoch    34:   0%|          | 0/12 [00:00<?, ?batch/s]"
      ]
     },
     "metadata": {},
     "output_type": "display_data"
    },
    {
     "name": "stdout",
     "output_type": "stream",
     "text": [
      "Test Accuracy: 41.68%\n"
     ]
    },
    {
     "data": {
      "application/vnd.jupyter.widget-view+json": {
       "model_id": "e2d909d0b0f047c2befc20abd96b24ba",
       "version_major": 2,
       "version_minor": 0
      },
      "text/plain": [
       "Epoch    35:   0%|          | 0/12 [00:00<?, ?batch/s]"
      ]
     },
     "metadata": {},
     "output_type": "display_data"
    },
    {
     "name": "stdout",
     "output_type": "stream",
     "text": [
      "Information density: 0.04516717046499252\n",
      "Density indices: [102  96 133  43 221 208 121 227 220 174  47 183 137  61 107 123 157 138\n",
      " 224  28 139  68 122 175 177  94 141 231 120  98 226  89   0 225  63 232\n",
      "  30 194 106   6  11  23 114 235 152 251  81 197  45  69  57 193  14  90\n",
      "  39 117 199  32 201 233 167   5 189 135]\n",
      "Test Accuracy: 41.17%\n"
     ]
    },
    {
     "data": {
      "application/vnd.jupyter.widget-view+json": {
       "model_id": "29deee38067241c4ac12fb483e6716a4",
       "version_major": 2,
       "version_minor": 0
      },
      "text/plain": [
       "Epoch    36:   0%|          | 0/12 [00:00<?, ?batch/s]"
      ]
     },
     "metadata": {},
     "output_type": "display_data"
    },
    {
     "name": "stdout",
     "output_type": "stream",
     "text": [
      "Test Accuracy: 41.87%\n"
     ]
    },
    {
     "data": {
      "application/vnd.jupyter.widget-view+json": {
       "model_id": "dbd613739e474ea78f409718facc26bc",
       "version_major": 2,
       "version_minor": 0
      },
      "text/plain": [
       "Epoch    37:   0%|          | 0/12 [00:00<?, ?batch/s]"
      ]
     },
     "metadata": {},
     "output_type": "display_data"
    },
    {
     "name": "stdout",
     "output_type": "stream",
     "text": [
      "Test Accuracy: 40.18%\n"
     ]
    },
    {
     "data": {
      "application/vnd.jupyter.widget-view+json": {
       "model_id": "0e17d40fb73c415da972420ce6fb3673",
       "version_major": 2,
       "version_minor": 0
      },
      "text/plain": [
       "Epoch    38:   0%|          | 0/12 [00:00<?, ?batch/s]"
      ]
     },
     "metadata": {},
     "output_type": "display_data"
    },
    {
     "name": "stdout",
     "output_type": "stream",
     "text": [
      "Test Accuracy: 43.31%\n"
     ]
    },
    {
     "data": {
      "application/vnd.jupyter.widget-view+json": {
       "model_id": "4628c2512f4f492a86e1a1122d1133c3",
       "version_major": 2,
       "version_minor": 0
      },
      "text/plain": [
       "Epoch    39:   0%|          | 0/12 [00:00<?, ?batch/s]"
      ]
     },
     "metadata": {},
     "output_type": "display_data"
    },
    {
     "name": "stdout",
     "output_type": "stream",
     "text": [
      "Test Accuracy: 43.82%\n"
     ]
    },
    {
     "data": {
      "application/vnd.jupyter.widget-view+json": {
       "model_id": "c26fd9d440e34d71a572d728957944b7",
       "version_major": 2,
       "version_minor": 0
      },
      "text/plain": [
       "Epoch    40:   0%|          | 0/12 [00:00<?, ?batch/s]"
      ]
     },
     "metadata": {},
     "output_type": "display_data"
    },
    {
     "name": "stdout",
     "output_type": "stream",
     "text": [
      "Information density: 0.04933123290538788\n",
      "Density indices: [248 155 190 252  79 142 206 187   1 214  91  19 192  22  46 138  86 185\n",
      "  92  42  44 136 188  80 158 249  60 117 164  88  37   3  63  47  52 240\n",
      " 203  15 123 107 103  45 172 106  32 100  35 147 254 175 128  61  95 134\n",
      "  81  34 225  58 112 127 193 156  17 216]\n",
      "Test Accuracy: 44.21%\n"
     ]
    },
    {
     "data": {
      "application/vnd.jupyter.widget-view+json": {
       "model_id": "fe56bb1b8ccb477c854e5601b281725e",
       "version_major": 2,
       "version_minor": 0
      },
      "text/plain": [
       "Epoch    41:   0%|          | 0/12 [00:00<?, ?batch/s]"
      ]
     },
     "metadata": {},
     "output_type": "display_data"
    },
    {
     "name": "stdout",
     "output_type": "stream",
     "text": [
      "Test Accuracy: 38.21%\n"
     ]
    },
    {
     "data": {
      "application/vnd.jupyter.widget-view+json": {
       "model_id": "9c6c80aace39451aa63e54bcfa90a97f",
       "version_major": 2,
       "version_minor": 0
      },
      "text/plain": [
       "Epoch    42:   0%|          | 0/12 [00:00<?, ?batch/s]"
      ]
     },
     "metadata": {},
     "output_type": "display_data"
    },
    {
     "name": "stdout",
     "output_type": "stream",
     "text": [
      "Test Accuracy: 42.73%\n"
     ]
    },
    {
     "data": {
      "application/vnd.jupyter.widget-view+json": {
       "model_id": "02cd12ff7f9849118d23027004ff62a7",
       "version_major": 2,
       "version_minor": 0
      },
      "text/plain": [
       "Epoch    43:   0%|          | 0/12 [00:00<?, ?batch/s]"
      ]
     },
     "metadata": {},
     "output_type": "display_data"
    },
    {
     "name": "stdout",
     "output_type": "stream",
     "text": [
      "Test Accuracy: 40.1%\n"
     ]
    },
    {
     "data": {
      "application/vnd.jupyter.widget-view+json": {
       "model_id": "32e4a385596f496583e0f6ff09963eaa",
       "version_major": 2,
       "version_minor": 0
      },
      "text/plain": [
       "Epoch    44:   0%|          | 0/12 [00:00<?, ?batch/s]"
      ]
     },
     "metadata": {},
     "output_type": "display_data"
    },
    {
     "name": "stdout",
     "output_type": "stream",
     "text": [
      "Test Accuracy: 43.74%\n"
     ]
    },
    {
     "data": {
      "application/vnd.jupyter.widget-view+json": {
       "model_id": "67002e46eb974e6d803f06f9a0ed7557",
       "version_major": 2,
       "version_minor": 0
      },
      "text/plain": [
       "Epoch    45:   0%|          | 0/12 [00:00<?, ?batch/s]"
      ]
     },
     "metadata": {},
     "output_type": "display_data"
    },
    {
     "name": "stdout",
     "output_type": "stream",
     "text": [
      "Information density: 0.058108314871788025\n",
      "Density indices: [ 28  98 220 143 236  81  42 116 166 206 209 252 241  60 201  89  99 149\n",
      "  68 217 138 122  70 183  44 186 123 198 126 242  61 152  71 229 216 194\n",
      " 218 124 184  40 173 208 247 160  69 202 162 253 238  95 101  94  78 254\n",
      " 148 246 158  80 180  25 109 240 245  53]\n",
      "Test Accuracy: 39.21%\n"
     ]
    },
    {
     "data": {
      "application/vnd.jupyter.widget-view+json": {
       "model_id": "38595c485b6f4955ad1bddc92cf55f18",
       "version_major": 2,
       "version_minor": 0
      },
      "text/plain": [
       "Epoch    46:   0%|          | 0/12 [00:00<?, ?batch/s]"
      ]
     },
     "metadata": {},
     "output_type": "display_data"
    },
    {
     "name": "stdout",
     "output_type": "stream",
     "text": [
      "Test Accuracy: 42.08%\n"
     ]
    },
    {
     "data": {
      "application/vnd.jupyter.widget-view+json": {
       "model_id": "97cc750cf0d0443cbfc1943c2ee1df92",
       "version_major": 2,
       "version_minor": 0
      },
      "text/plain": [
       "Epoch    47:   0%|          | 0/12 [00:00<?, ?batch/s]"
      ]
     },
     "metadata": {},
     "output_type": "display_data"
    },
    {
     "name": "stdout",
     "output_type": "stream",
     "text": [
      "Test Accuracy: 44.49%\n"
     ]
    },
    {
     "data": {
      "application/vnd.jupyter.widget-view+json": {
       "model_id": "b0eb7869297a4b4884da3bc23a56cde4",
       "version_major": 2,
       "version_minor": 0
      },
      "text/plain": [
       "Epoch    48:   0%|          | 0/12 [00:00<?, ?batch/s]"
      ]
     },
     "metadata": {},
     "output_type": "display_data"
    },
    {
     "name": "stdout",
     "output_type": "stream",
     "text": [
      "Test Accuracy: 43.37%\n"
     ]
    },
    {
     "data": {
      "application/vnd.jupyter.widget-view+json": {
       "model_id": "5b7aa9ec1b1a4420ae1017b776f36689",
       "version_major": 2,
       "version_minor": 0
      },
      "text/plain": [
       "Epoch    49:   0%|          | 0/12 [00:00<?, ?batch/s]"
      ]
     },
     "metadata": {},
     "output_type": "display_data"
    },
    {
     "name": "stdout",
     "output_type": "stream",
     "text": [
      "Test Accuracy: 45.51%\n"
     ]
    },
    {
     "data": {
      "application/vnd.jupyter.widget-view+json": {
       "model_id": "588f2819a5124833b955988ea908849a",
       "version_major": 2,
       "version_minor": 0
      },
      "text/plain": [
       "Epoch    50:   0%|          | 0/12 [00:00<?, ?batch/s]"
      ]
     },
     "metadata": {},
     "output_type": "display_data"
    },
    {
     "name": "stdout",
     "output_type": "stream",
     "text": [
      "Information density: 0.028300132602453232\n",
      "Density indices: [226  67 195 170 106  59 193  46  58 112  60 254 198  92  40 194 244 108\n",
      "  33 162 171 242  30  71  45 131  28  48 200  95 145  19  66 223 149 203\n",
      " 103 100 230  37 231  65 178  91  49 118 147 201   4 102   3  62  87  43\n",
      " 165 130  69 141 120  85 169 192 152  93]\n",
      "Test Accuracy: 27.92%\n"
     ]
    },
    {
     "data": {
      "application/vnd.jupyter.widget-view+json": {
       "model_id": "0a5b1ebff77341a9a29529b92f9a6ab4",
       "version_major": 2,
       "version_minor": 0
      },
      "text/plain": [
       "Epoch    51:   0%|          | 0/12 [00:00<?, ?batch/s]"
      ]
     },
     "metadata": {},
     "output_type": "display_data"
    },
    {
     "name": "stdout",
     "output_type": "stream",
     "text": [
      "Test Accuracy: 37.29%\n"
     ]
    },
    {
     "data": {
      "application/vnd.jupyter.widget-view+json": {
       "model_id": "63726dcc6a1a4960b8c629a9cdd7188f",
       "version_major": 2,
       "version_minor": 0
      },
      "text/plain": [
       "Epoch    52:   0%|          | 0/12 [00:00<?, ?batch/s]"
      ]
     },
     "metadata": {},
     "output_type": "display_data"
    },
    {
     "name": "stdout",
     "output_type": "stream",
     "text": [
      "Test Accuracy: 41.48%\n"
     ]
    },
    {
     "data": {
      "application/vnd.jupyter.widget-view+json": {
       "model_id": "bce779b445cc485199874fb347c6c6bf",
       "version_major": 2,
       "version_minor": 0
      },
      "text/plain": [
       "Epoch    53:   0%|          | 0/12 [00:00<?, ?batch/s]"
      ]
     },
     "metadata": {},
     "output_type": "display_data"
    },
    {
     "name": "stdout",
     "output_type": "stream",
     "text": [
      "Test Accuracy: 41.72%\n"
     ]
    },
    {
     "data": {
      "application/vnd.jupyter.widget-view+json": {
       "model_id": "136f792145044af3899b3f230cb6d796",
       "version_major": 2,
       "version_minor": 0
      },
      "text/plain": [
       "Epoch    54:   0%|          | 0/12 [00:00<?, ?batch/s]"
      ]
     },
     "metadata": {},
     "output_type": "display_data"
    },
    {
     "name": "stdout",
     "output_type": "stream",
     "text": [
      "Test Accuracy: 40.05%\n"
     ]
    },
    {
     "data": {
      "application/vnd.jupyter.widget-view+json": {
       "model_id": "b994c419010b4b3381cf42ea2335bed7",
       "version_major": 2,
       "version_minor": 0
      },
      "text/plain": [
       "Epoch    55:   0%|          | 0/12 [00:00<?, ?batch/s]"
      ]
     },
     "metadata": {},
     "output_type": "display_data"
    },
    {
     "name": "stdout",
     "output_type": "stream",
     "text": [
      "Information density: 0.029531415551900864\n",
      "Density indices: [ 13  86  14  67  90 113  57   4  31  76 131  47 239 165 207 186 107 245\n",
      "  19 242   2 172 224 249  77 147 137 173   3 251  74  30 187 185 164 132\n",
      " 157 183   0 243  29  64 227 248 221  43 218 228  38 110 112  55 194  10\n",
      " 176 114  40 134 174  87  83 206 196 105]\n",
      "Test Accuracy: 35.35%\n"
     ]
    },
    {
     "data": {
      "application/vnd.jupyter.widget-view+json": {
       "model_id": "246e5ebfe11e415ca3b98bb609ed0bc2",
       "version_major": 2,
       "version_minor": 0
      },
      "text/plain": [
       "Epoch    56:   0%|          | 0/12 [00:00<?, ?batch/s]"
      ]
     },
     "metadata": {},
     "output_type": "display_data"
    },
    {
     "name": "stdout",
     "output_type": "stream",
     "text": [
      "Test Accuracy: 41.56%\n"
     ]
    },
    {
     "data": {
      "application/vnd.jupyter.widget-view+json": {
       "model_id": "24687c7178a044dd977f21bcce3fc0b1",
       "version_major": 2,
       "version_minor": 0
      },
      "text/plain": [
       "Epoch    57:   0%|          | 0/12 [00:00<?, ?batch/s]"
      ]
     },
     "metadata": {},
     "output_type": "display_data"
    },
    {
     "name": "stdout",
     "output_type": "stream",
     "text": [
      "Test Accuracy: 45.61%\n"
     ]
    },
    {
     "data": {
      "application/vnd.jupyter.widget-view+json": {
       "model_id": "92f0c5e9bce6473d90dbe0b0723f8d99",
       "version_major": 2,
       "version_minor": 0
      },
      "text/plain": [
       "Epoch    58:   0%|          | 0/12 [00:00<?, ?batch/s]"
      ]
     },
     "metadata": {},
     "output_type": "display_data"
    },
    {
     "name": "stdout",
     "output_type": "stream",
     "text": [
      "Test Accuracy: 44.94%\n"
     ]
    },
    {
     "data": {
      "application/vnd.jupyter.widget-view+json": {
       "model_id": "b0ca0dc1b00246ddb3aef226d9018388",
       "version_major": 2,
       "version_minor": 0
      },
      "text/plain": [
       "Epoch    59:   0%|          | 0/12 [00:00<?, ?batch/s]"
      ]
     },
     "metadata": {},
     "output_type": "display_data"
    },
    {
     "name": "stdout",
     "output_type": "stream",
     "text": [
      "Test Accuracy: 46.55%\n"
     ]
    },
    {
     "data": {
      "application/vnd.jupyter.widget-view+json": {
       "model_id": "6690ac10f1494da69b8013b1413d23a1",
       "version_major": 2,
       "version_minor": 0
      },
      "text/plain": [
       "Epoch    60:   0%|          | 0/12 [00:00<?, ?batch/s]"
      ]
     },
     "metadata": {},
     "output_type": "display_data"
    },
    {
     "name": "stdout",
     "output_type": "stream",
     "text": [
      "Information density: 0.03860954940319061\n",
      "Density indices: [157  21 136 127 102  30   0  97 220 132  59 255   1 246  80  24 230 252\n",
      " 119  58 139  51 163  11  68 162  79 180  27 206  73  33 236  34 122  31\n",
      "  65  91  75 156  63 159 210  85 224  64 229 144 149 141  76 116 216  84\n",
      " 231 219  87  14 143 146  25 140 254 182]\n",
      "Test Accuracy: 43.24%\n"
     ]
    },
    {
     "data": {
      "application/vnd.jupyter.widget-view+json": {
       "model_id": "48daed4517c54e3d9d2cbf7b2cc6269e",
       "version_major": 2,
       "version_minor": 0
      },
      "text/plain": [
       "Epoch    61:   0%|          | 0/12 [00:00<?, ?batch/s]"
      ]
     },
     "metadata": {},
     "output_type": "display_data"
    },
    {
     "name": "stdout",
     "output_type": "stream",
     "text": [
      "Test Accuracy: 44.16%\n"
     ]
    },
    {
     "data": {
      "application/vnd.jupyter.widget-view+json": {
       "model_id": "ef02cfbd7f844176bff11c2383721763",
       "version_major": 2,
       "version_minor": 0
      },
      "text/plain": [
       "Epoch    62:   0%|          | 0/12 [00:00<?, ?batch/s]"
      ]
     },
     "metadata": {},
     "output_type": "display_data"
    },
    {
     "name": "stdout",
     "output_type": "stream",
     "text": [
      "Test Accuracy: 45.09%\n"
     ]
    },
    {
     "data": {
      "application/vnd.jupyter.widget-view+json": {
       "model_id": "5430134adea643b096060c320fd6b290",
       "version_major": 2,
       "version_minor": 0
      },
      "text/plain": [
       "Epoch    63:   0%|          | 0/12 [00:00<?, ?batch/s]"
      ]
     },
     "metadata": {},
     "output_type": "display_data"
    },
    {
     "name": "stdout",
     "output_type": "stream",
     "text": [
      "Test Accuracy: 44.59%\n"
     ]
    },
    {
     "data": {
      "application/vnd.jupyter.widget-view+json": {
       "model_id": "ea4996347cbe425b97a9cf5a98475bc8",
       "version_major": 2,
       "version_minor": 0
      },
      "text/plain": [
       "Epoch    64:   0%|          | 0/12 [00:00<?, ?batch/s]"
      ]
     },
     "metadata": {},
     "output_type": "display_data"
    },
    {
     "name": "stdout",
     "output_type": "stream",
     "text": [
      "Test Accuracy: 46.39%\n"
     ]
    },
    {
     "data": {
      "application/vnd.jupyter.widget-view+json": {
       "model_id": "0d1b2804ee854c6b94cbf9982b30add1",
       "version_major": 2,
       "version_minor": 0
      },
      "text/plain": [
       "Epoch    65:   0%|          | 0/12 [00:00<?, ?batch/s]"
      ]
     },
     "metadata": {},
     "output_type": "display_data"
    },
    {
     "name": "stdout",
     "output_type": "stream",
     "text": [
      "Information density: 0.03801226615905762\n",
      "Density indices: [213  91 134 166 210  97 241 190 130  95 165  73  86  16  46 199  84 154\n",
      "  54 129 219   7 104  42 248 232  32 176  92 101  50 113   5 163  39 177\n",
      " 234  94 209 127 157 153 211 239  98  10  27 188  59 110 246  13 126 124\n",
      " 255 214 221 171 185 148 197 253 205 217]\n",
      "Test Accuracy: 45.82%\n"
     ]
    },
    {
     "data": {
      "application/vnd.jupyter.widget-view+json": {
       "model_id": "15d4ec68f1fe4b3190aefe683412adf5",
       "version_major": 2,
       "version_minor": 0
      },
      "text/plain": [
       "Epoch    66:   0%|          | 0/12 [00:00<?, ?batch/s]"
      ]
     },
     "metadata": {},
     "output_type": "display_data"
    },
    {
     "name": "stdout",
     "output_type": "stream",
     "text": [
      "Test Accuracy: 44.2%\n"
     ]
    },
    {
     "data": {
      "application/vnd.jupyter.widget-view+json": {
       "model_id": "3124774e53f54f7bbe11211eb0ff8aa9",
       "version_major": 2,
       "version_minor": 0
      },
      "text/plain": [
       "Epoch    67:   0%|          | 0/12 [00:00<?, ?batch/s]"
      ]
     },
     "metadata": {},
     "output_type": "display_data"
    },
    {
     "name": "stdout",
     "output_type": "stream",
     "text": [
      "Test Accuracy: 44.68%\n"
     ]
    },
    {
     "data": {
      "application/vnd.jupyter.widget-view+json": {
       "model_id": "7890ef5f779c4ca08a75433439df08e5",
       "version_major": 2,
       "version_minor": 0
      },
      "text/plain": [
       "Epoch    68:   0%|          | 0/12 [00:00<?, ?batch/s]"
      ]
     },
     "metadata": {},
     "output_type": "display_data"
    },
    {
     "name": "stdout",
     "output_type": "stream",
     "text": [
      "Test Accuracy: 47.18%\n"
     ]
    },
    {
     "data": {
      "application/vnd.jupyter.widget-view+json": {
       "model_id": "05013bca379a4ecda894d19ea34b3c00",
       "version_major": 2,
       "version_minor": 0
      },
      "text/plain": [
       "Epoch    69:   0%|          | 0/12 [00:00<?, ?batch/s]"
      ]
     },
     "metadata": {},
     "output_type": "display_data"
    },
    {
     "name": "stdout",
     "output_type": "stream",
     "text": [
      "Test Accuracy: 42.73%\n"
     ]
    },
    {
     "data": {
      "application/vnd.jupyter.widget-view+json": {
       "model_id": "72b29347554c4d9aa3cf7cc40e5b2208",
       "version_major": 2,
       "version_minor": 0
      },
      "text/plain": [
       "Epoch    70:   0%|          | 0/12 [00:00<?, ?batch/s]"
      ]
     },
     "metadata": {},
     "output_type": "display_data"
    },
    {
     "name": "stdout",
     "output_type": "stream",
     "text": [
      "Information density: 0.02591361477971077\n",
      "Density indices: [182   9 143 216  24 228  91  82 209 240 170 165 224 204 239 234 171  98\n",
      " 232 255  95  80 120 133 152 105 162  18 168   7 154 235   8  46  58 214\n",
      " 115   3  36  86 188  43  12 206  13  44 198  96 173 130   4 179 200 166\n",
      " 123 217 107 103 174  63  21 155 189 164]\n",
      "Test Accuracy: 45.98%\n"
     ]
    },
    {
     "data": {
      "application/vnd.jupyter.widget-view+json": {
       "model_id": "213c95ba7bae4374b1808f95ce3f18b7",
       "version_major": 2,
       "version_minor": 0
      },
      "text/plain": [
       "Epoch    71:   0%|          | 0/12 [00:00<?, ?batch/s]"
      ]
     },
     "metadata": {},
     "output_type": "display_data"
    },
    {
     "name": "stdout",
     "output_type": "stream",
     "text": [
      "Test Accuracy: 43.25%\n"
     ]
    },
    {
     "data": {
      "application/vnd.jupyter.widget-view+json": {
       "model_id": "225a3bc159e94067ae672cb578dd6ec2",
       "version_major": 2,
       "version_minor": 0
      },
      "text/plain": [
       "Epoch    72:   0%|          | 0/12 [00:00<?, ?batch/s]"
      ]
     },
     "metadata": {},
     "output_type": "display_data"
    },
    {
     "name": "stdout",
     "output_type": "stream",
     "text": [
      "Test Accuracy: 46.65%\n"
     ]
    },
    {
     "data": {
      "application/vnd.jupyter.widget-view+json": {
       "model_id": "cb3ee1a678e04ec59896b199a07b033b",
       "version_major": 2,
       "version_minor": 0
      },
      "text/plain": [
       "Epoch    73:   0%|          | 0/12 [00:00<?, ?batch/s]"
      ]
     },
     "metadata": {},
     "output_type": "display_data"
    },
    {
     "name": "stdout",
     "output_type": "stream",
     "text": [
      "Test Accuracy: 44.99%\n"
     ]
    },
    {
     "data": {
      "application/vnd.jupyter.widget-view+json": {
       "model_id": "94fc104a5fdd43c7a23c7af63bee708c",
       "version_major": 2,
       "version_minor": 0
      },
      "text/plain": [
       "Epoch    74:   0%|          | 0/12 [00:00<?, ?batch/s]"
      ]
     },
     "metadata": {},
     "output_type": "display_data"
    },
    {
     "name": "stdout",
     "output_type": "stream",
     "text": [
      "Test Accuracy: 46.54%\n"
     ]
    },
    {
     "data": {
      "application/vnd.jupyter.widget-view+json": {
       "model_id": "2f7ac941f2b945f69f120b467e26c2d9",
       "version_major": 2,
       "version_minor": 0
      },
      "text/plain": [
       "Epoch    75:   0%|          | 0/12 [00:00<?, ?batch/s]"
      ]
     },
     "metadata": {},
     "output_type": "display_data"
    },
    {
     "name": "stdout",
     "output_type": "stream",
     "text": [
      "Information density: 0.035929806530475616\n",
      "Density indices: [130 247 217 138 133  92  21  65 152 233 150 167 122 236 166 235 155 157\n",
      "  16  81  93 245 165  84 196 204  11 136 143  26  49 237 104 171   9 221\n",
      " 153 193 148 113 141 100  30  23  61  76 216 118 218  70 197 116  90  46\n",
      "  98 139  95  78 180  38 249 252 226 227]\n",
      "Test Accuracy: 45.82%\n"
     ]
    },
    {
     "data": {
      "application/vnd.jupyter.widget-view+json": {
       "model_id": "a256fcbf786f4fa091ca42108417e4f5",
       "version_major": 2,
       "version_minor": 0
      },
      "text/plain": [
       "Epoch    76:   0%|          | 0/12 [00:00<?, ?batch/s]"
      ]
     },
     "metadata": {},
     "output_type": "display_data"
    },
    {
     "name": "stdout",
     "output_type": "stream",
     "text": [
      "Test Accuracy: 46.12%\n"
     ]
    },
    {
     "data": {
      "application/vnd.jupyter.widget-view+json": {
       "model_id": "bad996d03c6e476d967e0664e8076117",
       "version_major": 2,
       "version_minor": 0
      },
      "text/plain": [
       "Epoch    77:   0%|          | 0/12 [00:00<?, ?batch/s]"
      ]
     },
     "metadata": {},
     "output_type": "display_data"
    },
    {
     "name": "stdout",
     "output_type": "stream",
     "text": [
      "Test Accuracy: 47.01%\n"
     ]
    },
    {
     "data": {
      "application/vnd.jupyter.widget-view+json": {
       "model_id": "6210e4a7a4dc4486b6645d3d675530f5",
       "version_major": 2,
       "version_minor": 0
      },
      "text/plain": [
       "Epoch    78:   0%|          | 0/12 [00:00<?, ?batch/s]"
      ]
     },
     "metadata": {},
     "output_type": "display_data"
    },
    {
     "name": "stdout",
     "output_type": "stream",
     "text": [
      "Test Accuracy: 44.38%\n"
     ]
    },
    {
     "data": {
      "application/vnd.jupyter.widget-view+json": {
       "model_id": "bc3b219cd166489ca5753b4bde640996",
       "version_major": 2,
       "version_minor": 0
      },
      "text/plain": [
       "Epoch    79:   0%|          | 0/12 [00:00<?, ?batch/s]"
      ]
     },
     "metadata": {},
     "output_type": "display_data"
    },
    {
     "name": "stdout",
     "output_type": "stream",
     "text": [
      "Test Accuracy: 46.39%\n"
     ]
    },
    {
     "data": {
      "application/vnd.jupyter.widget-view+json": {
       "model_id": "48a998e44fb44a0fbb2dbe234ce56898",
       "version_major": 2,
       "version_minor": 0
      },
      "text/plain": [
       "Epoch    80:   0%|          | 0/12 [00:00<?, ?batch/s]"
      ]
     },
     "metadata": {},
     "output_type": "display_data"
    },
    {
     "name": "stdout",
     "output_type": "stream",
     "text": [
      "Information density: 0.025854067876935005\n",
      "Density indices: [123 103  59 227  48  78 100  86  29 169 237 157 131 249  63 243 148 170\n",
      "  90 135 164  36 182 203 231  94 158 216   7 149  31 207  37 239  45 101\n",
      " 108 186 240 138  19 180 189 156 209 232 144 130  27 120 246 150 245 179\n",
      "  12 122 229 205  98 133 248 145 218 125]\n",
      "Test Accuracy: 47.12%\n"
     ]
    },
    {
     "data": {
      "application/vnd.jupyter.widget-view+json": {
       "model_id": "3b23f43067dd4563bc06c96ca1ae17ef",
       "version_major": 2,
       "version_minor": 0
      },
      "text/plain": [
       "Epoch    81:   0%|          | 0/12 [00:00<?, ?batch/s]"
      ]
     },
     "metadata": {},
     "output_type": "display_data"
    },
    {
     "name": "stdout",
     "output_type": "stream",
     "text": [
      "Test Accuracy: 45.98%\n"
     ]
    },
    {
     "data": {
      "application/vnd.jupyter.widget-view+json": {
       "model_id": "03612718801247ecbc7d908eb5e6c79d",
       "version_major": 2,
       "version_minor": 0
      },
      "text/plain": [
       "Epoch    82:   0%|          | 0/12 [00:00<?, ?batch/s]"
      ]
     },
     "metadata": {},
     "output_type": "display_data"
    },
    {
     "name": "stdout",
     "output_type": "stream",
     "text": [
      "Test Accuracy: 47.46%\n"
     ]
    },
    {
     "data": {
      "application/vnd.jupyter.widget-view+json": {
       "model_id": "a51312c150924f6187cd221678151b53",
       "version_major": 2,
       "version_minor": 0
      },
      "text/plain": [
       "Epoch    83:   0%|          | 0/12 [00:00<?, ?batch/s]"
      ]
     },
     "metadata": {},
     "output_type": "display_data"
    },
    {
     "name": "stdout",
     "output_type": "stream",
     "text": [
      "Test Accuracy: 46.58%\n"
     ]
    },
    {
     "data": {
      "application/vnd.jupyter.widget-view+json": {
       "model_id": "dc88f1fc15794cea9cfd315d4d5ea99b",
       "version_major": 2,
       "version_minor": 0
      },
      "text/plain": [
       "Epoch    84:   0%|          | 0/12 [00:00<?, ?batch/s]"
      ]
     },
     "metadata": {},
     "output_type": "display_data"
    },
    {
     "name": "stdout",
     "output_type": "stream",
     "text": [
      "Test Accuracy: 42.82%\n"
     ]
    },
    {
     "data": {
      "application/vnd.jupyter.widget-view+json": {
       "model_id": "856c2806d81b4ec2a952011e201bb5b3",
       "version_major": 2,
       "version_minor": 0
      },
      "text/plain": [
       "Epoch    85:   0%|          | 0/12 [00:00<?, ?batch/s]"
      ]
     },
     "metadata": {},
     "output_type": "display_data"
    },
    {
     "name": "stdout",
     "output_type": "stream",
     "text": [
      "Information density: 0.042322903871536255\n",
      "Density indices: [  6 231 102 148   4  75 120 180  16  85  17  22 111 240 195 212 171 253\n",
      "  94 219  59 241  60 174  53 225  82 115 246 140 162 126  32 166 192 127\n",
      "  25 118  50 226 108  78 158  52 160 129 163 139 194 134  99  23 150  89\n",
      " 167  67 141  55   0 222  12 237  39 221]\n",
      "Test Accuracy: 47.51%\n"
     ]
    },
    {
     "data": {
      "application/vnd.jupyter.widget-view+json": {
       "model_id": "6635be4591ae42d59e4455e385855aaa",
       "version_major": 2,
       "version_minor": 0
      },
      "text/plain": [
       "Epoch    86:   0%|          | 0/12 [00:00<?, ?batch/s]"
      ]
     },
     "metadata": {},
     "output_type": "display_data"
    },
    {
     "name": "stdout",
     "output_type": "stream",
     "text": [
      "Test Accuracy: 48.11%\n"
     ]
    },
    {
     "data": {
      "application/vnd.jupyter.widget-view+json": {
       "model_id": "f40075b87c9745de873acd3ce12e748f",
       "version_major": 2,
       "version_minor": 0
      },
      "text/plain": [
       "Epoch    87:   0%|          | 0/12 [00:00<?, ?batch/s]"
      ]
     },
     "metadata": {},
     "output_type": "display_data"
    },
    {
     "name": "stdout",
     "output_type": "stream",
     "text": [
      "Test Accuracy: 47.78%\n"
     ]
    },
    {
     "data": {
      "application/vnd.jupyter.widget-view+json": {
       "model_id": "03ed9987902b44a1a5bdf270eb80809e",
       "version_major": 2,
       "version_minor": 0
      },
      "text/plain": [
       "Epoch    88:   0%|          | 0/12 [00:00<?, ?batch/s]"
      ]
     },
     "metadata": {},
     "output_type": "display_data"
    },
    {
     "name": "stdout",
     "output_type": "stream",
     "text": [
      "Test Accuracy: 46.71%\n"
     ]
    },
    {
     "data": {
      "application/vnd.jupyter.widget-view+json": {
       "model_id": "b3e24b5efea84447a54c428355f02e96",
       "version_major": 2,
       "version_minor": 0
      },
      "text/plain": [
       "Epoch    89:   0%|          | 0/12 [00:00<?, ?batch/s]"
      ]
     },
     "metadata": {},
     "output_type": "display_data"
    },
    {
     "name": "stdout",
     "output_type": "stream",
     "text": [
      "Test Accuracy: 48.64%\n"
     ]
    },
    {
     "data": {
      "application/vnd.jupyter.widget-view+json": {
       "model_id": "638a32c77f5c46a5a19b1101a4afca0a",
       "version_major": 2,
       "version_minor": 0
      },
      "text/plain": [
       "Epoch    90:   0%|          | 0/12 [00:00<?, ?batch/s]"
      ]
     },
     "metadata": {},
     "output_type": "display_data"
    },
    {
     "name": "stdout",
     "output_type": "stream",
     "text": [
      "Information density: 0.023200945928692818\n",
      "Density indices: [211 236 203  17 124   8  74 117  55 156 169  85  24  84 187 226 127 104\n",
      " 114 111  26 116  50 253   6 223 210 153 245  48 185 172 123 142 221  79\n",
      " 165 115  54 113  81  27 248 144 243 220  94  33 175  61 206  92 118  25\n",
      "  76 103 105 139 125  31  35  96 229 207]\n",
      "Test Accuracy: 48.05%\n"
     ]
    },
    {
     "data": {
      "application/vnd.jupyter.widget-view+json": {
       "model_id": "ffdf79d81d5243969f9f4f41ab54e1f2",
       "version_major": 2,
       "version_minor": 0
      },
      "text/plain": [
       "Epoch    91:   0%|          | 0/12 [00:00<?, ?batch/s]"
      ]
     },
     "metadata": {},
     "output_type": "display_data"
    },
    {
     "name": "stdout",
     "output_type": "stream",
     "text": [
      "Test Accuracy: 46.27%\n"
     ]
    },
    {
     "data": {
      "application/vnd.jupyter.widget-view+json": {
       "model_id": "274b9eddb82043908adcc2be5c17f4d5",
       "version_major": 2,
       "version_minor": 0
      },
      "text/plain": [
       "Epoch    92:   0%|          | 0/12 [00:00<?, ?batch/s]"
      ]
     },
     "metadata": {},
     "output_type": "display_data"
    },
    {
     "name": "stdout",
     "output_type": "stream",
     "text": [
      "Test Accuracy: 45.24%\n"
     ]
    },
    {
     "data": {
      "application/vnd.jupyter.widget-view+json": {
       "model_id": "4aca9daf848344e9804c8906d29ed65a",
       "version_major": 2,
       "version_minor": 0
      },
      "text/plain": [
       "Epoch    93:   0%|          | 0/12 [00:00<?, ?batch/s]"
      ]
     },
     "metadata": {},
     "output_type": "display_data"
    },
    {
     "name": "stdout",
     "output_type": "stream",
     "text": [
      "Test Accuracy: 49.65%\n"
     ]
    },
    {
     "data": {
      "application/vnd.jupyter.widget-view+json": {
       "model_id": "a32eed9d3ddb4e0bb6e8b6bb6bcfaf1a",
       "version_major": 2,
       "version_minor": 0
      },
      "text/plain": [
       "Epoch    94:   0%|          | 0/12 [00:00<?, ?batch/s]"
      ]
     },
     "metadata": {},
     "output_type": "display_data"
    },
    {
     "name": "stdout",
     "output_type": "stream",
     "text": [
      "Test Accuracy: 44.72%\n"
     ]
    },
    {
     "data": {
      "application/vnd.jupyter.widget-view+json": {
       "model_id": "9120987d045941c4ad0513dd722c29e1",
       "version_major": 2,
       "version_minor": 0
      },
      "text/plain": [
       "Epoch    95:   0%|          | 0/12 [00:00<?, ?batch/s]"
      ]
     },
     "metadata": {},
     "output_type": "display_data"
    },
    {
     "name": "stdout",
     "output_type": "stream",
     "text": [
      "Information density: 0.038747139275074005\n",
      "Density indices: [210 236 152 237 202  41 220 120 149  98 248 163  11 140 101 179 186  67\n",
      "  44 119 154 219 139 217  46 190 113  81 178  31   9 241  54  82  53  78\n",
      " 136 216 123 207 230  10 215  65 188 156 159 157 168 184 182  85  24  19\n",
      "  59  88 198 148 174 212  39  56  17 160]\n",
      "Test Accuracy: 48.36%\n"
     ]
    },
    {
     "data": {
      "application/vnd.jupyter.widget-view+json": {
       "model_id": "3a42fd4b232d435ca9904d951399435b",
       "version_major": 2,
       "version_minor": 0
      },
      "text/plain": [
       "Epoch    96:   0%|          | 0/12 [00:00<?, ?batch/s]"
      ]
     },
     "metadata": {},
     "output_type": "display_data"
    },
    {
     "name": "stdout",
     "output_type": "stream",
     "text": [
      "Test Accuracy: 46.18%\n"
     ]
    },
    {
     "data": {
      "application/vnd.jupyter.widget-view+json": {
       "model_id": "5e04a6ad931148e2a015e7ab04d15787",
       "version_major": 2,
       "version_minor": 0
      },
      "text/plain": [
       "Epoch    97:   0%|          | 0/12 [00:00<?, ?batch/s]"
      ]
     },
     "metadata": {},
     "output_type": "display_data"
    },
    {
     "name": "stdout",
     "output_type": "stream",
     "text": [
      "Test Accuracy: 49.9%\n"
     ]
    },
    {
     "data": {
      "application/vnd.jupyter.widget-view+json": {
       "model_id": "4e7935ae7d324607a7bfe344be9f6b5a",
       "version_major": 2,
       "version_minor": 0
      },
      "text/plain": [
       "Epoch    98:   0%|          | 0/12 [00:00<?, ?batch/s]"
      ]
     },
     "metadata": {},
     "output_type": "display_data"
    },
    {
     "name": "stdout",
     "output_type": "stream",
     "text": [
      "Test Accuracy: 44.84%\n"
     ]
    },
    {
     "data": {
      "application/vnd.jupyter.widget-view+json": {
       "model_id": "dfd711ba3be94cc8b8ab6ec7dc00ca29",
       "version_major": 2,
       "version_minor": 0
      },
      "text/plain": [
       "Epoch    99:   0%|          | 0/12 [00:00<?, ?batch/s]"
      ]
     },
     "metadata": {},
     "output_type": "display_data"
    },
    {
     "name": "stdout",
     "output_type": "stream",
     "text": [
      "Test Accuracy: 45.95%\n"
     ]
    },
    {
     "data": {
      "application/vnd.jupyter.widget-view+json": {
       "model_id": "d458f82036af4d73b82a398346731021",
       "version_major": 2,
       "version_minor": 0
      },
      "text/plain": [
       "Epoch   100:   0%|          | 0/12 [00:00<?, ?batch/s]"
      ]
     },
     "metadata": {},
     "output_type": "display_data"
    },
    {
     "name": "stdout",
     "output_type": "stream",
     "text": [
      "Information density: 0.028457453474402428\n",
      "Density indices: [110 128  36 226 215 234 213 250  12  94 216  24  98 116 138  97 155 180\n",
      " 114  90 179 145 160  15 120 167 109 188  70   0 157  87 184 251  81 225\n",
      " 137  31 246 107  92 174 247 201 214 144  71 112 131 205  60  14  32  51\n",
      "  85 211   8 135 249 236 197  27 149  68]\n",
      "Test Accuracy: 48.97%\n"
     ]
    },
    {
     "data": {
      "application/vnd.jupyter.widget-view+json": {
       "model_id": "e2021a1893204215b6b98313b7bf0f2c",
       "version_major": 2,
       "version_minor": 0
      },
      "text/plain": [
       "Epoch   101:   0%|          | 0/12 [00:00<?, ?batch/s]"
      ]
     },
     "metadata": {},
     "output_type": "display_data"
    },
    {
     "name": "stdout",
     "output_type": "stream",
     "text": [
      "Test Accuracy: 46.62%\n"
     ]
    },
    {
     "data": {
      "application/vnd.jupyter.widget-view+json": {
       "model_id": "6c0ac191c3254ffda5ba91650d07bc3e",
       "version_major": 2,
       "version_minor": 0
      },
      "text/plain": [
       "Epoch   102:   0%|          | 0/12 [00:00<?, ?batch/s]"
      ]
     },
     "metadata": {},
     "output_type": "display_data"
    },
    {
     "name": "stdout",
     "output_type": "stream",
     "text": [
      "Test Accuracy: 46.51%\n"
     ]
    },
    {
     "data": {
      "application/vnd.jupyter.widget-view+json": {
       "model_id": "14a5311a2a1847b8ad0bb3ea564187a1",
       "version_major": 2,
       "version_minor": 0
      },
      "text/plain": [
       "Epoch   103:   0%|          | 0/12 [00:00<?, ?batch/s]"
      ]
     },
     "metadata": {},
     "output_type": "display_data"
    },
    {
     "name": "stdout",
     "output_type": "stream",
     "text": [
      "Test Accuracy: 45.55%\n"
     ]
    },
    {
     "data": {
      "application/vnd.jupyter.widget-view+json": {
       "model_id": "42e6b7950cda4242af7b30d433ee0a0e",
       "version_major": 2,
       "version_minor": 0
      },
      "text/plain": [
       "Epoch   104:   0%|          | 0/12 [00:00<?, ?batch/s]"
      ]
     },
     "metadata": {},
     "output_type": "display_data"
    },
    {
     "name": "stdout",
     "output_type": "stream",
     "text": [
      "Test Accuracy: 49.07%\n"
     ]
    },
    {
     "data": {
      "application/vnd.jupyter.widget-view+json": {
       "model_id": "738bceec1510467e84fde4ba7d3bc481",
       "version_major": 2,
       "version_minor": 0
      },
      "text/plain": [
       "Epoch   105:   0%|          | 0/12 [00:00<?, ?batch/s]"
      ]
     },
     "metadata": {},
     "output_type": "display_data"
    },
    {
     "name": "stdout",
     "output_type": "stream",
     "text": [
      "Information density: 0.031025022268295288\n",
      "Density indices: [  2 131 223  17  22  19 188  90  81 180  31   7 135  42   3 115 114  67\n",
      " 249 141 182 152 142 139 157 252  49 128  99 168 202  18  21  37 140  13\n",
      "  56 211  83  55 221 137 197 163 125 101  66 155  75 106  86 116 254 172\n",
      "  24 195  26  53 143 174 181  27  63  76]\n",
      "Test Accuracy: 49.19%\n"
     ]
    },
    {
     "data": {
      "application/vnd.jupyter.widget-view+json": {
       "model_id": "7675e6c7f58142ce9b1f9ca7c9b50dac",
       "version_major": 2,
       "version_minor": 0
      },
      "text/plain": [
       "Epoch   106:   0%|          | 0/12 [00:00<?, ?batch/s]"
      ]
     },
     "metadata": {},
     "output_type": "display_data"
    },
    {
     "name": "stdout",
     "output_type": "stream",
     "text": [
      "Test Accuracy: 43.71%\n"
     ]
    },
    {
     "data": {
      "application/vnd.jupyter.widget-view+json": {
       "model_id": "6c2fa569a56a46e6bf89e5dfead916b0",
       "version_major": 2,
       "version_minor": 0
      },
      "text/plain": [
       "Epoch   107:   0%|          | 0/12 [00:00<?, ?batch/s]"
      ]
     },
     "metadata": {},
     "output_type": "display_data"
    },
    {
     "name": "stdout",
     "output_type": "stream",
     "text": [
      "Test Accuracy: 43.65%\n"
     ]
    },
    {
     "data": {
      "application/vnd.jupyter.widget-view+json": {
       "model_id": "37f84a70b10b4e7f98114ff14f6b7c64",
       "version_major": 2,
       "version_minor": 0
      },
      "text/plain": [
       "Epoch   108:   0%|          | 0/12 [00:00<?, ?batch/s]"
      ]
     },
     "metadata": {},
     "output_type": "display_data"
    },
    {
     "name": "stdout",
     "output_type": "stream",
     "text": [
      "Test Accuracy: 49.97%\n"
     ]
    },
    {
     "data": {
      "application/vnd.jupyter.widget-view+json": {
       "model_id": "7221e4cc5379421591a145d7553e4d66",
       "version_major": 2,
       "version_minor": 0
      },
      "text/plain": [
       "Epoch   109:   0%|          | 0/12 [00:00<?, ?batch/s]"
      ]
     },
     "metadata": {},
     "output_type": "display_data"
    },
    {
     "name": "stdout",
     "output_type": "stream",
     "text": [
      "Test Accuracy: 48.4%\n"
     ]
    },
    {
     "data": {
      "application/vnd.jupyter.widget-view+json": {
       "model_id": "9fec0f24e6ba451f9eedfcd99decd15f",
       "version_major": 2,
       "version_minor": 0
      },
      "text/plain": [
       "Epoch   110:   0%|          | 0/12 [00:00<?, ?batch/s]"
      ]
     },
     "metadata": {},
     "output_type": "display_data"
    },
    {
     "name": "stdout",
     "output_type": "stream",
     "text": [
      "Information density: 0.04665159434080124\n",
      "Density indices: [212 101 191 107 237  27 170 248 211 173  90  40  83 127 251 222  26 239\n",
      "  65 229  16  15   3 190 226 178 238  38  28  60  79  87 163 124 151  43\n",
      " 235  10  97 228  67  12 145 143  76 253  82 183  39 176 126  49  88  20\n",
      " 108 158 120 172 129   2  54  24 243 247]\n",
      "Test Accuracy: 47.19%\n"
     ]
    },
    {
     "data": {
      "application/vnd.jupyter.widget-view+json": {
       "model_id": "0c054ab35fe148ba9534dc17ea8073dc",
       "version_major": 2,
       "version_minor": 0
      },
      "text/plain": [
       "Epoch   111:   0%|          | 0/12 [00:00<?, ?batch/s]"
      ]
     },
     "metadata": {},
     "output_type": "display_data"
    },
    {
     "name": "stdout",
     "output_type": "stream",
     "text": [
      "Test Accuracy: 49.96%\n"
     ]
    },
    {
     "data": {
      "application/vnd.jupyter.widget-view+json": {
       "model_id": "66676b2c6d1940bf8b2270e7f39cea39",
       "version_major": 2,
       "version_minor": 0
      },
      "text/plain": [
       "Epoch   112:   0%|          | 0/12 [00:00<?, ?batch/s]"
      ]
     },
     "metadata": {},
     "output_type": "display_data"
    },
    {
     "name": "stdout",
     "output_type": "stream",
     "text": [
      "Test Accuracy: 46.95%\n"
     ]
    },
    {
     "data": {
      "application/vnd.jupyter.widget-view+json": {
       "model_id": "f53f0bc448f648569db50906086ddfeb",
       "version_major": 2,
       "version_minor": 0
      },
      "text/plain": [
       "Epoch   113:   0%|          | 0/12 [00:00<?, ?batch/s]"
      ]
     },
     "metadata": {},
     "output_type": "display_data"
    },
    {
     "name": "stdout",
     "output_type": "stream",
     "text": [
      "Test Accuracy: 48.54%\n"
     ]
    },
    {
     "data": {
      "application/vnd.jupyter.widget-view+json": {
       "model_id": "9d9a5511f6a94d51bc022c8655f25dc4",
       "version_major": 2,
       "version_minor": 0
      },
      "text/plain": [
       "Epoch   114:   0%|          | 0/12 [00:00<?, ?batch/s]"
      ]
     },
     "metadata": {},
     "output_type": "display_data"
    },
    {
     "name": "stdout",
     "output_type": "stream",
     "text": [
      "Test Accuracy: 45.83%\n"
     ]
    },
    {
     "data": {
      "application/vnd.jupyter.widget-view+json": {
       "model_id": "86e5a6e4d57a4dcb8213c046b82525d6",
       "version_major": 2,
       "version_minor": 0
      },
      "text/plain": [
       "Epoch   115:   0%|          | 0/12 [00:00<?, ?batch/s]"
      ]
     },
     "metadata": {},
     "output_type": "display_data"
    },
    {
     "name": "stdout",
     "output_type": "stream",
     "text": [
      "Information density: 0.022191237658262253\n",
      "Density indices: [ 50 225 197 105  75  11  89 151  53 155 158 173   8  74 213 253 161 250\n",
      " 117 163 116 159 229 232 218  17  36  48  22 169 104 235 127 204  16   7\n",
      "  95  20 132 224 233 245  65  18 191  42  92  21 210  33 124 251 178   3\n",
      " 208 130 247 238 123 192 187 110 179 207]\n",
      "Test Accuracy: 49.5%\n"
     ]
    },
    {
     "data": {
      "application/vnd.jupyter.widget-view+json": {
       "model_id": "5c7c1c802c2b44d39e31d759ea109e09",
       "version_major": 2,
       "version_minor": 0
      },
      "text/plain": [
       "Epoch   116:   0%|          | 0/12 [00:00<?, ?batch/s]"
      ]
     },
     "metadata": {},
     "output_type": "display_data"
    },
    {
     "name": "stdout",
     "output_type": "stream",
     "text": [
      "Test Accuracy: 49.63%\n"
     ]
    },
    {
     "data": {
      "application/vnd.jupyter.widget-view+json": {
       "model_id": "01eee4e2108941f0bfe2c270eca89144",
       "version_major": 2,
       "version_minor": 0
      },
      "text/plain": [
       "Epoch   117:   0%|          | 0/12 [00:00<?, ?batch/s]"
      ]
     },
     "metadata": {},
     "output_type": "display_data"
    },
    {
     "name": "stdout",
     "output_type": "stream",
     "text": [
      "Test Accuracy: 48.91%\n"
     ]
    },
    {
     "data": {
      "application/vnd.jupyter.widget-view+json": {
       "model_id": "db79e89bcf364175819cc6f793822355",
       "version_major": 2,
       "version_minor": 0
      },
      "text/plain": [
       "Epoch   118:   0%|          | 0/12 [00:00<?, ?batch/s]"
      ]
     },
     "metadata": {},
     "output_type": "display_data"
    },
    {
     "name": "stdout",
     "output_type": "stream",
     "text": [
      "Test Accuracy: 47.39%\n"
     ]
    },
    {
     "data": {
      "application/vnd.jupyter.widget-view+json": {
       "model_id": "b82bba3dcc1942a8b21862348067f0da",
       "version_major": 2,
       "version_minor": 0
      },
      "text/plain": [
       "Epoch   119:   0%|          | 0/12 [00:00<?, ?batch/s]"
      ]
     },
     "metadata": {},
     "output_type": "display_data"
    },
    {
     "name": "stdout",
     "output_type": "stream",
     "text": [
      "Test Accuracy: 44.34%\n"
     ]
    },
    {
     "data": {
      "application/vnd.jupyter.widget-view+json": {
       "model_id": "1abad3dc5bed438b9b1666421ad00469",
       "version_major": 2,
       "version_minor": 0
      },
      "text/plain": [
       "Epoch   120:   0%|          | 0/12 [00:00<?, ?batch/s]"
      ]
     },
     "metadata": {},
     "output_type": "display_data"
    },
    {
     "name": "stdout",
     "output_type": "stream",
     "text": [
      "Information density: 0.02932329662144184\n",
      "Density indices: [200 123   9  59 110 178 203  29 218 129 161 109 119  78  55  54  17  33\n",
      " 181 252 108   3 151  70  98 115  74  85 120 167 140 230 170  66 149  73\n",
      " 221 247  40  46 128   1 148 239 209  21 111  31 155  20  48   7 118  27\n",
      " 234 228 246 195 138 127  65 214   5 158]\n",
      "Test Accuracy: 49.34%\n"
     ]
    },
    {
     "data": {
      "application/vnd.jupyter.widget-view+json": {
       "model_id": "67ad784688d3477e8a0ea79fa7e5ed90",
       "version_major": 2,
       "version_minor": 0
      },
      "text/plain": [
       "Epoch   121:   0%|          | 0/12 [00:00<?, ?batch/s]"
      ]
     },
     "metadata": {},
     "output_type": "display_data"
    },
    {
     "name": "stdout",
     "output_type": "stream",
     "text": [
      "Test Accuracy: 49.67%\n"
     ]
    },
    {
     "data": {
      "application/vnd.jupyter.widget-view+json": {
       "model_id": "70af5419768e431eaf5588d7a98e7590",
       "version_major": 2,
       "version_minor": 0
      },
      "text/plain": [
       "Epoch   122:   0%|          | 0/12 [00:00<?, ?batch/s]"
      ]
     },
     "metadata": {},
     "output_type": "display_data"
    },
    {
     "name": "stdout",
     "output_type": "stream",
     "text": [
      "Test Accuracy: 50.19%\n"
     ]
    },
    {
     "data": {
      "application/vnd.jupyter.widget-view+json": {
       "model_id": "7da059e069964a5f99c5593e45a67a34",
       "version_major": 2,
       "version_minor": 0
      },
      "text/plain": [
       "Epoch   123:   0%|          | 0/12 [00:00<?, ?batch/s]"
      ]
     },
     "metadata": {},
     "output_type": "display_data"
    },
    {
     "name": "stdout",
     "output_type": "stream",
     "text": [
      "Test Accuracy: 48.18%\n"
     ]
    },
    {
     "data": {
      "application/vnd.jupyter.widget-view+json": {
       "model_id": "f1dfde94c1164a6c9d20f993766707ec",
       "version_major": 2,
       "version_minor": 0
      },
      "text/plain": [
       "Epoch   124:   0%|          | 0/12 [00:00<?, ?batch/s]"
      ]
     },
     "metadata": {},
     "output_type": "display_data"
    },
    {
     "name": "stdout",
     "output_type": "stream",
     "text": [
      "Test Accuracy: 49.45%\n"
     ]
    },
    {
     "data": {
      "application/vnd.jupyter.widget-view+json": {
       "model_id": "2c6a5d59a1c14cf8987639feb4cbcd51",
       "version_major": 2,
       "version_minor": 0
      },
      "text/plain": [
       "Epoch   125:   0%|          | 0/12 [00:00<?, ?batch/s]"
      ]
     },
     "metadata": {},
     "output_type": "display_data"
    },
    {
     "name": "stdout",
     "output_type": "stream",
     "text": [
      "Information density: 0.03147299587726593\n",
      "Density indices: [ 51 194 227   4 178 219  68  44 243 140 136 100 251  19  99 113 252 236\n",
      " 233 123  82 228  56 134 120 179  43  54 253  20 240 216 160 164 231 153\n",
      "  60  15 187 143 145 105  41 173  61  34 244 212 138 203 126 237  23  38\n",
      " 154 122 162  95 131 193 149  55 209 103]\n",
      "Test Accuracy: 46.16%\n"
     ]
    },
    {
     "data": {
      "application/vnd.jupyter.widget-view+json": {
       "model_id": "42478559e28f452f9fc123a261e066cc",
       "version_major": 2,
       "version_minor": 0
      },
      "text/plain": [
       "Epoch   126:   0%|          | 0/12 [00:00<?, ?batch/s]"
      ]
     },
     "metadata": {},
     "output_type": "display_data"
    },
    {
     "name": "stdout",
     "output_type": "stream",
     "text": [
      "Test Accuracy: 50.73%\n"
     ]
    },
    {
     "data": {
      "application/vnd.jupyter.widget-view+json": {
       "model_id": "b74c4c6bc6b54ad8b1f5a0a601033d87",
       "version_major": 2,
       "version_minor": 0
      },
      "text/plain": [
       "Epoch   127:   0%|          | 0/12 [00:00<?, ?batch/s]"
      ]
     },
     "metadata": {},
     "output_type": "display_data"
    },
    {
     "name": "stdout",
     "output_type": "stream",
     "text": [
      "Test Accuracy: 50.29%\n"
     ]
    },
    {
     "data": {
      "application/vnd.jupyter.widget-view+json": {
       "model_id": "3889f9476658489f83b45fab0be3f056",
       "version_major": 2,
       "version_minor": 0
      },
      "text/plain": [
       "Epoch   128:   0%|          | 0/12 [00:00<?, ?batch/s]"
      ]
     },
     "metadata": {},
     "output_type": "display_data"
    },
    {
     "name": "stdout",
     "output_type": "stream",
     "text": [
      "Test Accuracy: 49.81%\n"
     ]
    },
    {
     "data": {
      "application/vnd.jupyter.widget-view+json": {
       "model_id": "d77db445722b4d1d8db4d61ae78e3b81",
       "version_major": 2,
       "version_minor": 0
      },
      "text/plain": [
       "Epoch   129:   0%|          | 0/12 [00:00<?, ?batch/s]"
      ]
     },
     "metadata": {},
     "output_type": "display_data"
    },
    {
     "name": "stdout",
     "output_type": "stream",
     "text": [
      "Test Accuracy: 49.32%\n"
     ]
    },
    {
     "data": {
      "application/vnd.jupyter.widget-view+json": {
       "model_id": "1d9707ca0eea4761a5edc1833ff02edd",
       "version_major": 2,
       "version_minor": 0
      },
      "text/plain": [
       "Epoch   130:   0%|          | 0/12 [00:00<?, ?batch/s]"
      ]
     },
     "metadata": {},
     "output_type": "display_data"
    },
    {
     "name": "stdout",
     "output_type": "stream",
     "text": [
      "Information density: 0.03728277236223221\n",
      "Density indices: [110 216  75  28 187 162  50 136  43 117 219 207   2 152 160 218  71 164\n",
      "  22 126  15 124  46 202 232  10 130  92  98 177 221  60  56 210  38 239\n",
      " 157 188 108 140  90  57 237 101 178  62 142 176  79 109  68  20  61 115\n",
      " 243 153 132 241  95  25  24 139 171 215]\n",
      "Test Accuracy: 51.53%\n"
     ]
    },
    {
     "data": {
      "application/vnd.jupyter.widget-view+json": {
       "model_id": "e5997900387d4ea08167c9fb4c0eba31",
       "version_major": 2,
       "version_minor": 0
      },
      "text/plain": [
       "Epoch   131:   0%|          | 0/12 [00:00<?, ?batch/s]"
      ]
     },
     "metadata": {},
     "output_type": "display_data"
    },
    {
     "name": "stdout",
     "output_type": "stream",
     "text": [
      "Test Accuracy: 50.31%\n"
     ]
    },
    {
     "data": {
      "application/vnd.jupyter.widget-view+json": {
       "model_id": "e5cef6b32e6c42c0b0d47cb1ecb1141a",
       "version_major": 2,
       "version_minor": 0
      },
      "text/plain": [
       "Epoch   132:   0%|          | 0/12 [00:00<?, ?batch/s]"
      ]
     },
     "metadata": {},
     "output_type": "display_data"
    },
    {
     "name": "stdout",
     "output_type": "stream",
     "text": [
      "Test Accuracy: 50.95%\n"
     ]
    },
    {
     "data": {
      "application/vnd.jupyter.widget-view+json": {
       "model_id": "83919ad485914f228d53ba69334126ab",
       "version_major": 2,
       "version_minor": 0
      },
      "text/plain": [
       "Epoch   133:   0%|          | 0/12 [00:00<?, ?batch/s]"
      ]
     },
     "metadata": {},
     "output_type": "display_data"
    },
    {
     "name": "stdout",
     "output_type": "stream",
     "text": [
      "Test Accuracy: 49.8%\n"
     ]
    },
    {
     "data": {
      "application/vnd.jupyter.widget-view+json": {
       "model_id": "7049cd3d609d4776ae5859ca199eb80d",
       "version_major": 2,
       "version_minor": 0
      },
      "text/plain": [
       "Epoch   134:   0%|          | 0/12 [00:00<?, ?batch/s]"
      ]
     },
     "metadata": {},
     "output_type": "display_data"
    },
    {
     "name": "stdout",
     "output_type": "stream",
     "text": [
      "Test Accuracy: 52.45%\n"
     ]
    },
    {
     "data": {
      "application/vnd.jupyter.widget-view+json": {
       "model_id": "482dc5c0437743df8615fe857bdcc1fe",
       "version_major": 2,
       "version_minor": 0
      },
      "text/plain": [
       "Epoch   135:   0%|          | 0/12 [00:00<?, ?batch/s]"
      ]
     },
     "metadata": {},
     "output_type": "display_data"
    },
    {
     "name": "stdout",
     "output_type": "stream",
     "text": [
      "Information density: 0.024505916982889175\n",
      "Density indices: [178 234 114  74  21 101  34 119 189   6 160 122 236 238 252  50  33  88\n",
      "  56 253 156 146  52 232  23  49 220  85 173 103 121  18 250 130 111   2\n",
      " 225 104  68  38 141 241  10  72 233 210 222 244 145 240 181  14 166  44\n",
      "  22 108   1  57  82  80 191 204 177  24]\n",
      "Test Accuracy: 47.05%\n"
     ]
    },
    {
     "data": {
      "application/vnd.jupyter.widget-view+json": {
       "model_id": "937cdfa67c1e4e21b8fe0ccea1185e66",
       "version_major": 2,
       "version_minor": 0
      },
      "text/plain": [
       "Epoch   136:   0%|          | 0/12 [00:00<?, ?batch/s]"
      ]
     },
     "metadata": {},
     "output_type": "display_data"
    },
    {
     "name": "stdout",
     "output_type": "stream",
     "text": [
      "Test Accuracy: 51.46%\n"
     ]
    },
    {
     "data": {
      "application/vnd.jupyter.widget-view+json": {
       "model_id": "64944cf43b2345de80fa8dee2b12ccae",
       "version_major": 2,
       "version_minor": 0
      },
      "text/plain": [
       "Epoch   137:   0%|          | 0/12 [00:00<?, ?batch/s]"
      ]
     },
     "metadata": {},
     "output_type": "display_data"
    },
    {
     "name": "stdout",
     "output_type": "stream",
     "text": [
      "Test Accuracy: 51.56%\n"
     ]
    },
    {
     "data": {
      "application/vnd.jupyter.widget-view+json": {
       "model_id": "082bb765805a47ca8a0fa7e085a007e0",
       "version_major": 2,
       "version_minor": 0
      },
      "text/plain": [
       "Epoch   138:   0%|          | 0/12 [00:00<?, ?batch/s]"
      ]
     },
     "metadata": {},
     "output_type": "display_data"
    },
    {
     "name": "stdout",
     "output_type": "stream",
     "text": [
      "Test Accuracy: 50.19%\n"
     ]
    },
    {
     "data": {
      "application/vnd.jupyter.widget-view+json": {
       "model_id": "6b1a4e37e03d4ae4b9ea4ffe9dd80f63",
       "version_major": 2,
       "version_minor": 0
      },
      "text/plain": [
       "Epoch   139:   0%|          | 0/12 [00:00<?, ?batch/s]"
      ]
     },
     "metadata": {},
     "output_type": "display_data"
    },
    {
     "name": "stdout",
     "output_type": "stream",
     "text": [
      "Test Accuracy: 49.95%\n"
     ]
    },
    {
     "data": {
      "application/vnd.jupyter.widget-view+json": {
       "model_id": "10ba054908924540867e35a4b16ba9bb",
       "version_major": 2,
       "version_minor": 0
      },
      "text/plain": [
       "Epoch   140:   0%|          | 0/12 [00:00<?, ?batch/s]"
      ]
     },
     "metadata": {},
     "output_type": "display_data"
    },
    {
     "name": "stdout",
     "output_type": "stream",
     "text": [
      "Information density: 0.03808615356683731\n",
      "Density indices: [194  62  24  84 199 124 248 212 222 150 152  63 251  43 206  87  86 100\n",
      "  80  88 242  53   1  18 127  52 209  64 149 202 175 178  34 131 168 189\n",
      " 101 244  39  14 217  77 223 233  27 249 159  66 215  58 235 169 207  45\n",
      "  17 198 190  98 148 145 165 108 250  70]\n",
      "Test Accuracy: 49.16%\n"
     ]
    },
    {
     "data": {
      "application/vnd.jupyter.widget-view+json": {
       "model_id": "a679c002031844838df448a2e610ad60",
       "version_major": 2,
       "version_minor": 0
      },
      "text/plain": [
       "Epoch   141:   0%|          | 0/12 [00:00<?, ?batch/s]"
      ]
     },
     "metadata": {},
     "output_type": "display_data"
    },
    {
     "name": "stdout",
     "output_type": "stream",
     "text": [
      "Test Accuracy: 50.45%\n"
     ]
    },
    {
     "data": {
      "application/vnd.jupyter.widget-view+json": {
       "model_id": "767bfae722fd4bebb25d2eee945fb675",
       "version_major": 2,
       "version_minor": 0
      },
      "text/plain": [
       "Epoch   142:   0%|          | 0/12 [00:00<?, ?batch/s]"
      ]
     },
     "metadata": {},
     "output_type": "display_data"
    },
    {
     "name": "stdout",
     "output_type": "stream",
     "text": [
      "Test Accuracy: 50.04%\n"
     ]
    },
    {
     "data": {
      "application/vnd.jupyter.widget-view+json": {
       "model_id": "2e0f42659863445bbff5fc8c1213d9bc",
       "version_major": 2,
       "version_minor": 0
      },
      "text/plain": [
       "Epoch   143:   0%|          | 0/12 [00:00<?, ?batch/s]"
      ]
     },
     "metadata": {},
     "output_type": "display_data"
    },
    {
     "name": "stdout",
     "output_type": "stream",
     "text": [
      "Test Accuracy: 48.21%\n"
     ]
    },
    {
     "data": {
      "application/vnd.jupyter.widget-view+json": {
       "model_id": "5e117f1dd7aa4c29a49109b5deca4b53",
       "version_major": 2,
       "version_minor": 0
      },
      "text/plain": [
       "Epoch   144:   0%|          | 0/12 [00:00<?, ?batch/s]"
      ]
     },
     "metadata": {},
     "output_type": "display_data"
    },
    {
     "name": "stdout",
     "output_type": "stream",
     "text": [
      "Test Accuracy: 49.53%\n"
     ]
    },
    {
     "data": {
      "application/vnd.jupyter.widget-view+json": {
       "model_id": "5e0128e29cdd4536b4425562e158edf1",
       "version_major": 2,
       "version_minor": 0
      },
      "text/plain": [
       "Epoch   145:   0%|          | 0/12 [00:00<?, ?batch/s]"
      ]
     },
     "metadata": {},
     "output_type": "display_data"
    },
    {
     "name": "stdout",
     "output_type": "stream",
     "text": [
      "Information density: 0.037917766720056534\n",
      "Density indices: [128 141   6 114 191  50 252 199 250 216 180  77  67 233  15 236 109  73\n",
      "  96 246 184   0 197 163 162 207  25  78  32 183 249 125 186  38  27 187\n",
      " 156 210  21 228  91  19 136 111 232 204  54  34 212  85 200 142   5 133\n",
      " 161 108 242   3   1 167 150 220 177 217]\n",
      "Test Accuracy: 50.96%\n"
     ]
    },
    {
     "data": {
      "application/vnd.jupyter.widget-view+json": {
       "model_id": "8679d5ba3a874cec86ddd23b706f5a1c",
       "version_major": 2,
       "version_minor": 0
      },
      "text/plain": [
       "Epoch   146:   0%|          | 0/12 [00:00<?, ?batch/s]"
      ]
     },
     "metadata": {},
     "output_type": "display_data"
    },
    {
     "name": "stdout",
     "output_type": "stream",
     "text": [
      "Test Accuracy: 49.56%\n"
     ]
    },
    {
     "data": {
      "application/vnd.jupyter.widget-view+json": {
       "model_id": "bebfc07e4034443683cf28ff2e2225c1",
       "version_major": 2,
       "version_minor": 0
      },
      "text/plain": [
       "Epoch   147:   0%|          | 0/12 [00:00<?, ?batch/s]"
      ]
     },
     "metadata": {},
     "output_type": "display_data"
    },
    {
     "name": "stdout",
     "output_type": "stream",
     "text": [
      "Test Accuracy: 50.22%\n"
     ]
    },
    {
     "data": {
      "application/vnd.jupyter.widget-view+json": {
       "model_id": "bf2023acbafa42c38b733b46c5416085",
       "version_major": 2,
       "version_minor": 0
      },
      "text/plain": [
       "Epoch   148:   0%|          | 0/12 [00:00<?, ?batch/s]"
      ]
     },
     "metadata": {},
     "output_type": "display_data"
    },
    {
     "name": "stdout",
     "output_type": "stream",
     "text": [
      "Test Accuracy: 51.4%\n"
     ]
    },
    {
     "data": {
      "application/vnd.jupyter.widget-view+json": {
       "model_id": "1e91833d322f477784c38256c841ea5d",
       "version_major": 2,
       "version_minor": 0
      },
      "text/plain": [
       "Epoch   149:   0%|          | 0/12 [00:00<?, ?batch/s]"
      ]
     },
     "metadata": {},
     "output_type": "display_data"
    },
    {
     "name": "stdout",
     "output_type": "stream",
     "text": [
      "Test Accuracy: 50.2%\n"
     ]
    },
    {
     "data": {
      "application/vnd.jupyter.widget-view+json": {
       "model_id": "56d34b6b6eb249f4bee290249d0b25f1",
       "version_major": 2,
       "version_minor": 0
      },
      "text/plain": [
       "Epoch   150:   0%|          | 0/12 [00:00<?, ?batch/s]"
      ]
     },
     "metadata": {},
     "output_type": "display_data"
    },
    {
     "name": "stdout",
     "output_type": "stream",
     "text": [
      "Information density: 0.023118505254387856\n",
      "Density indices: [215  78 207 182 175 190 120 227 249  47  62 150  71  27 248 144 246  35\n",
      " 200  60 126 118 197  10 244  17 165 127   6 243 232 206 229 103 239 176\n",
      " 192 149 225 209  52 208 255  50 186  73  30 147 101 185 141 233  40  48\n",
      "  98 169 114  32  15 137 110 177  29  13]\n",
      "Test Accuracy: 51.48%\n"
     ]
    },
    {
     "data": {
      "application/vnd.jupyter.widget-view+json": {
       "model_id": "62e86d4c3e194447991de235c17b37cd",
       "version_major": 2,
       "version_minor": 0
      },
      "text/plain": [
       "Epoch   151:   0%|          | 0/12 [00:00<?, ?batch/s]"
      ]
     },
     "metadata": {},
     "output_type": "display_data"
    },
    {
     "name": "stdout",
     "output_type": "stream",
     "text": [
      "Test Accuracy: 51.0%\n"
     ]
    },
    {
     "data": {
      "application/vnd.jupyter.widget-view+json": {
       "model_id": "ec064906026a4b8699fe6506a0f69dec",
       "version_major": 2,
       "version_minor": 0
      },
      "text/plain": [
       "Epoch   152:   0%|          | 0/12 [00:00<?, ?batch/s]"
      ]
     },
     "metadata": {},
     "output_type": "display_data"
    },
    {
     "name": "stdout",
     "output_type": "stream",
     "text": [
      "Test Accuracy: 49.5%\n"
     ]
    },
    {
     "data": {
      "application/vnd.jupyter.widget-view+json": {
       "model_id": "51003667c4f14e69b73f15f00e718dc9",
       "version_major": 2,
       "version_minor": 0
      },
      "text/plain": [
       "Epoch   153:   0%|          | 0/12 [00:00<?, ?batch/s]"
      ]
     },
     "metadata": {},
     "output_type": "display_data"
    },
    {
     "name": "stdout",
     "output_type": "stream",
     "text": [
      "Test Accuracy: 51.83%\n"
     ]
    },
    {
     "data": {
      "application/vnd.jupyter.widget-view+json": {
       "model_id": "3c3d4bfdd91d477fa52ca4af182a3aa7",
       "version_major": 2,
       "version_minor": 0
      },
      "text/plain": [
       "Epoch   154:   0%|          | 0/12 [00:00<?, ?batch/s]"
      ]
     },
     "metadata": {},
     "output_type": "display_data"
    },
    {
     "name": "stdout",
     "output_type": "stream",
     "text": [
      "Test Accuracy: 51.48%\n"
     ]
    },
    {
     "data": {
      "application/vnd.jupyter.widget-view+json": {
       "model_id": "56b007d0faf54c1ca702f99c0b0f7923",
       "version_major": 2,
       "version_minor": 0
      },
      "text/plain": [
       "Epoch   155:   0%|          | 0/12 [00:00<?, ?batch/s]"
      ]
     },
     "metadata": {},
     "output_type": "display_data"
    },
    {
     "name": "stdout",
     "output_type": "stream",
     "text": [
      "Information density: 0.02615845948457718\n",
      "Density indices: [ 89 245  48  54 202 132  68 235 121  86 198  81  28  27 170  69  95 164\n",
      " 211 169 153 144 146 140  21  18 223  47  88 225  83   6 126 177  35  15\n",
      " 239 166 254 229  63 240 168 217  94  40 129  25 218 101 215  84 147  23\n",
      "  26  45   0  96 171 176 151 123  11 111]\n",
      "Test Accuracy: 53.38%\n"
     ]
    },
    {
     "data": {
      "application/vnd.jupyter.widget-view+json": {
       "model_id": "ecc04f67e4b640818a1c3521651e76db",
       "version_major": 2,
       "version_minor": 0
      },
      "text/plain": [
       "Epoch   156:   0%|          | 0/12 [00:00<?, ?batch/s]"
      ]
     },
     "metadata": {},
     "output_type": "display_data"
    },
    {
     "name": "stdout",
     "output_type": "stream",
     "text": [
      "Test Accuracy: 51.05%\n"
     ]
    },
    {
     "data": {
      "application/vnd.jupyter.widget-view+json": {
       "model_id": "a0bf613f7ecd403ea2a952b68b9f0194",
       "version_major": 2,
       "version_minor": 0
      },
      "text/plain": [
       "Epoch   157:   0%|          | 0/12 [00:00<?, ?batch/s]"
      ]
     },
     "metadata": {},
     "output_type": "display_data"
    },
    {
     "name": "stdout",
     "output_type": "stream",
     "text": [
      "Test Accuracy: 50.56%\n"
     ]
    },
    {
     "data": {
      "application/vnd.jupyter.widget-view+json": {
       "model_id": "093f264bf7b3457e87191b791a1fbca9",
       "version_major": 2,
       "version_minor": 0
      },
      "text/plain": [
       "Epoch   158:   0%|          | 0/12 [00:00<?, ?batch/s]"
      ]
     },
     "metadata": {},
     "output_type": "display_data"
    },
    {
     "name": "stdout",
     "output_type": "stream",
     "text": [
      "Test Accuracy: 51.54%\n"
     ]
    },
    {
     "data": {
      "application/vnd.jupyter.widget-view+json": {
       "model_id": "c7574f424f80485f96d48c482d0ef2c1",
       "version_major": 2,
       "version_minor": 0
      },
      "text/plain": [
       "Epoch   159:   0%|          | 0/12 [00:00<?, ?batch/s]"
      ]
     },
     "metadata": {},
     "output_type": "display_data"
    },
    {
     "name": "stdout",
     "output_type": "stream",
     "text": [
      "Test Accuracy: 52.85%\n"
     ]
    },
    {
     "data": {
      "application/vnd.jupyter.widget-view+json": {
       "model_id": "2ab83ea6b1f64659a084724c2545718f",
       "version_major": 2,
       "version_minor": 0
      },
      "text/plain": [
       "Epoch   160:   0%|          | 0/12 [00:00<?, ?batch/s]"
      ]
     },
     "metadata": {},
     "output_type": "display_data"
    },
    {
     "name": "stdout",
     "output_type": "stream",
     "text": [
      "Information density: 0.029283832758665085\n",
      "Density indices: [188 210 207 136 134 212  66 111 112   8 179 171 168 194 131  51 140  74\n",
      "  22  86  57  75  30 247  18 217 157  28  97 230 110 197  48 180 147 156\n",
      "  38  55 185  17  42 209  56 100  76  53 170 138  80 118 242 145 226  58\n",
      " 221  68 231  49 220 208  34 201 240 123]\n",
      "Test Accuracy: 51.62%\n"
     ]
    },
    {
     "data": {
      "application/vnd.jupyter.widget-view+json": {
       "model_id": "27e570288bae4f76839a1c631659670c",
       "version_major": 2,
       "version_minor": 0
      },
      "text/plain": [
       "Epoch   161:   0%|          | 0/12 [00:00<?, ?batch/s]"
      ]
     },
     "metadata": {},
     "output_type": "display_data"
    },
    {
     "name": "stdout",
     "output_type": "stream",
     "text": [
      "Test Accuracy: 51.21%\n"
     ]
    },
    {
     "data": {
      "application/vnd.jupyter.widget-view+json": {
       "model_id": "df7ab24209e445b290d813126cdabdaf",
       "version_major": 2,
       "version_minor": 0
      },
      "text/plain": [
       "Epoch   162:   0%|          | 0/12 [00:00<?, ?batch/s]"
      ]
     },
     "metadata": {},
     "output_type": "display_data"
    },
    {
     "name": "stdout",
     "output_type": "stream",
     "text": [
      "Test Accuracy: 50.89%\n"
     ]
    },
    {
     "data": {
      "application/vnd.jupyter.widget-view+json": {
       "model_id": "638f2f18159f4fadbf7286f89a980078",
       "version_major": 2,
       "version_minor": 0
      },
      "text/plain": [
       "Epoch   163:   0%|          | 0/12 [00:00<?, ?batch/s]"
      ]
     },
     "metadata": {},
     "output_type": "display_data"
    },
    {
     "name": "stdout",
     "output_type": "stream",
     "text": [
      "Test Accuracy: 52.43%\n"
     ]
    },
    {
     "data": {
      "application/vnd.jupyter.widget-view+json": {
       "model_id": "168bc0a62135407aa55a9fcb1b1a85f0",
       "version_major": 2,
       "version_minor": 0
      },
      "text/plain": [
       "Epoch   164:   0%|          | 0/12 [00:00<?, ?batch/s]"
      ]
     },
     "metadata": {},
     "output_type": "display_data"
    },
    {
     "name": "stdout",
     "output_type": "stream",
     "text": [
      "Test Accuracy: 51.99%\n"
     ]
    },
    {
     "data": {
      "application/vnd.jupyter.widget-view+json": {
       "model_id": "d4a978d25e8f4afeb0e2901c911f1c82",
       "version_major": 2,
       "version_minor": 0
      },
      "text/plain": [
       "Epoch   165:   0%|          | 0/12 [00:00<?, ?batch/s]"
      ]
     },
     "metadata": {},
     "output_type": "display_data"
    },
    {
     "name": "stdout",
     "output_type": "stream",
     "text": [
      "Information density: 0.01718064397573471\n",
      "Density indices: [198  47 115 229 246  78 136  49 111   7 236 127  30 234 118 207   9  55\n",
      " 135 175 123 162 122 125 143 113 212   1  26  11 180 221 196  35 251 110\n",
      " 124 210  32  92  48  95  97   8 151 166  12 238  40  15 159 188 213 142\n",
      " 132   4 171   6 119 150  42 193 197 203]\n",
      "Test Accuracy: 48.95%\n"
     ]
    },
    {
     "data": {
      "application/vnd.jupyter.widget-view+json": {
       "model_id": "03a56fd5ebe0463cb9c75845f84ad3fc",
       "version_major": 2,
       "version_minor": 0
      },
      "text/plain": [
       "Epoch   166:   0%|          | 0/12 [00:00<?, ?batch/s]"
      ]
     },
     "metadata": {},
     "output_type": "display_data"
    },
    {
     "name": "stdout",
     "output_type": "stream",
     "text": [
      "Test Accuracy: 52.57%\n"
     ]
    },
    {
     "data": {
      "application/vnd.jupyter.widget-view+json": {
       "model_id": "62063d8fdbcd47e4bc413145b1ee0948",
       "version_major": 2,
       "version_minor": 0
      },
      "text/plain": [
       "Epoch   167:   0%|          | 0/12 [00:00<?, ?batch/s]"
      ]
     },
     "metadata": {},
     "output_type": "display_data"
    },
    {
     "name": "stdout",
     "output_type": "stream",
     "text": [
      "Test Accuracy: 48.94%\n"
     ]
    },
    {
     "data": {
      "application/vnd.jupyter.widget-view+json": {
       "model_id": "e048e8f224394c69aa2ebfa8fe10f23f",
       "version_major": 2,
       "version_minor": 0
      },
      "text/plain": [
       "Epoch   168:   0%|          | 0/12 [00:00<?, ?batch/s]"
      ]
     },
     "metadata": {},
     "output_type": "display_data"
    },
    {
     "name": "stdout",
     "output_type": "stream",
     "text": [
      "Test Accuracy: 53.04%\n"
     ]
    },
    {
     "data": {
      "application/vnd.jupyter.widget-view+json": {
       "model_id": "e87d309c94e64cba9048e4e4ffaf7e97",
       "version_major": 2,
       "version_minor": 0
      },
      "text/plain": [
       "Epoch   169:   0%|          | 0/12 [00:00<?, ?batch/s]"
      ]
     },
     "metadata": {},
     "output_type": "display_data"
    },
    {
     "name": "stdout",
     "output_type": "stream",
     "text": [
      "Test Accuracy: 54.52%\n"
     ]
    },
    {
     "data": {
      "application/vnd.jupyter.widget-view+json": {
       "model_id": "dc6fa0bf7a1040bb805fcc945051dabf",
       "version_major": 2,
       "version_minor": 0
      },
      "text/plain": [
       "Epoch   170:   0%|          | 0/12 [00:00<?, ?batch/s]"
      ]
     },
     "metadata": {},
     "output_type": "display_data"
    },
    {
     "name": "stdout",
     "output_type": "stream",
     "text": [
      "Information density: 0.03380497545003891\n",
      "Density indices: [226   2  19  87 174  94  44 246 207   3 110 202 177  65  82  15 237  35\n",
      " 188 122 206  33 155 219 146  10 105 158 150 205 180  30 193 210  51 159\n",
      " 250 189 108 160 192 195  84 103 130  93 230  69 120  56 136 235  26 168\n",
      " 101 197 151 249  27  17 106 186 109 185]\n",
      "Test Accuracy: 53.93%\n"
     ]
    },
    {
     "data": {
      "application/vnd.jupyter.widget-view+json": {
       "model_id": "98f7f652a40045bebefe661c36b04322",
       "version_major": 2,
       "version_minor": 0
      },
      "text/plain": [
       "Epoch   171:   0%|          | 0/12 [00:00<?, ?batch/s]"
      ]
     },
     "metadata": {},
     "output_type": "display_data"
    },
    {
     "name": "stdout",
     "output_type": "stream",
     "text": [
      "Test Accuracy: 52.62%\n"
     ]
    },
    {
     "data": {
      "application/vnd.jupyter.widget-view+json": {
       "model_id": "e05a0d19c2874bf0a6e5410dc295150f",
       "version_major": 2,
       "version_minor": 0
      },
      "text/plain": [
       "Epoch   172:   0%|          | 0/12 [00:00<?, ?batch/s]"
      ]
     },
     "metadata": {},
     "output_type": "display_data"
    },
    {
     "name": "stdout",
     "output_type": "stream",
     "text": [
      "Test Accuracy: 52.27%\n"
     ]
    },
    {
     "data": {
      "application/vnd.jupyter.widget-view+json": {
       "model_id": "122835f8bfbc4efea8b1d9c2425177cd",
       "version_major": 2,
       "version_minor": 0
      },
      "text/plain": [
       "Epoch   173:   0%|          | 0/12 [00:00<?, ?batch/s]"
      ]
     },
     "metadata": {},
     "output_type": "display_data"
    },
    {
     "name": "stdout",
     "output_type": "stream",
     "text": [
      "Test Accuracy: 51.08%\n"
     ]
    },
    {
     "data": {
      "application/vnd.jupyter.widget-view+json": {
       "model_id": "ee9c749b2d9c405c848ad16b09eb2d6a",
       "version_major": 2,
       "version_minor": 0
      },
      "text/plain": [
       "Epoch   174:   0%|          | 0/12 [00:00<?, ?batch/s]"
      ]
     },
     "metadata": {},
     "output_type": "display_data"
    },
    {
     "name": "stdout",
     "output_type": "stream",
     "text": [
      "Test Accuracy: 53.55%\n"
     ]
    },
    {
     "data": {
      "application/vnd.jupyter.widget-view+json": {
       "model_id": "f54e7bd4745d4eb6a5f7538baf64f871",
       "version_major": 2,
       "version_minor": 0
      },
      "text/plain": [
       "Epoch   175:   0%|          | 0/12 [00:00<?, ?batch/s]"
      ]
     },
     "metadata": {},
     "output_type": "display_data"
    },
    {
     "name": "stdout",
     "output_type": "stream",
     "text": [
      "Information density: 0.02798948809504509\n",
      "Density indices: [ 78 250  29 100 253 204  30  72  38   9  77  33  86 191  88 244 120  70\n",
      "  92  52  23 222 136  26 140 109 194   0  48 118 122  49 154 132 245  94\n",
      " 101  61  14 219 207 230 201 141 171  53 110 111 247 224  18 242 196 139\n",
      " 243 190 206 134   3  42  82  66  50 218]\n",
      "Test Accuracy: 49.17%\n"
     ]
    },
    {
     "data": {
      "application/vnd.jupyter.widget-view+json": {
       "model_id": "72d5904930f744e9904cbcbc5bf59600",
       "version_major": 2,
       "version_minor": 0
      },
      "text/plain": [
       "Epoch   176:   0%|          | 0/12 [00:00<?, ?batch/s]"
      ]
     },
     "metadata": {},
     "output_type": "display_data"
    },
    {
     "name": "stdout",
     "output_type": "stream",
     "text": [
      "Test Accuracy: 52.29%\n"
     ]
    },
    {
     "data": {
      "application/vnd.jupyter.widget-view+json": {
       "model_id": "55b4c5fd8fa34cd39051d995634230aa",
       "version_major": 2,
       "version_minor": 0
      },
      "text/plain": [
       "Epoch   177:   0%|          | 0/12 [00:00<?, ?batch/s]"
      ]
     },
     "metadata": {},
     "output_type": "display_data"
    },
    {
     "name": "stdout",
     "output_type": "stream",
     "text": [
      "Test Accuracy: 53.12%\n"
     ]
    },
    {
     "data": {
      "application/vnd.jupyter.widget-view+json": {
       "model_id": "f0d3e21346f64084a8aa62a424c3b25a",
       "version_major": 2,
       "version_minor": 0
      },
      "text/plain": [
       "Epoch   178:   0%|          | 0/12 [00:00<?, ?batch/s]"
      ]
     },
     "metadata": {},
     "output_type": "display_data"
    },
    {
     "name": "stdout",
     "output_type": "stream",
     "text": [
      "Test Accuracy: 52.97%\n"
     ]
    },
    {
     "data": {
      "application/vnd.jupyter.widget-view+json": {
       "model_id": "f7bc1b6e7cf04168ad224640d35dbf5e",
       "version_major": 2,
       "version_minor": 0
      },
      "text/plain": [
       "Epoch   179:   0%|          | 0/12 [00:00<?, ?batch/s]"
      ]
     },
     "metadata": {},
     "output_type": "display_data"
    },
    {
     "name": "stdout",
     "output_type": "stream",
     "text": [
      "Test Accuracy: 53.2%\n"
     ]
    },
    {
     "data": {
      "application/vnd.jupyter.widget-view+json": {
       "model_id": "b38c8fe4f18f4a7c9edc6add9ab69ddf",
       "version_major": 2,
       "version_minor": 0
      },
      "text/plain": [
       "Epoch   180:   0%|          | 0/12 [00:00<?, ?batch/s]"
      ]
     },
     "metadata": {},
     "output_type": "display_data"
    },
    {
     "name": "stdout",
     "output_type": "stream",
     "text": [
      "Information density: 0.024287380278110504\n",
      "Density indices: [ 78  26  85 230 223  75 120 134 165  20  83 153 178   6 240   5  92 102\n",
      " 189  69 107 206  23 131  57 227 253  47 212 106  32 141 216 114 188 101\n",
      " 176 121 226  86  81 237 246  98  70 233 150  79  34 103 140 208 144  80\n",
      "  82 177  18   9  76 169  89 149  31 133]\n",
      "Test Accuracy: 54.47%\n"
     ]
    },
    {
     "data": {
      "application/vnd.jupyter.widget-view+json": {
       "model_id": "7e201413ac014ee2be68e7937971c2de",
       "version_major": 2,
       "version_minor": 0
      },
      "text/plain": [
       "Epoch   181:   0%|          | 0/12 [00:00<?, ?batch/s]"
      ]
     },
     "metadata": {},
     "output_type": "display_data"
    },
    {
     "name": "stdout",
     "output_type": "stream",
     "text": [
      "Test Accuracy: 52.97%\n"
     ]
    },
    {
     "data": {
      "application/vnd.jupyter.widget-view+json": {
       "model_id": "f315011710df470daa28eb50e77c7568",
       "version_major": 2,
       "version_minor": 0
      },
      "text/plain": [
       "Epoch   182:   0%|          | 0/12 [00:00<?, ?batch/s]"
      ]
     },
     "metadata": {},
     "output_type": "display_data"
    },
    {
     "name": "stdout",
     "output_type": "stream",
     "text": [
      "Test Accuracy: 54.33%\n"
     ]
    },
    {
     "data": {
      "application/vnd.jupyter.widget-view+json": {
       "model_id": "ad4197acd18244cda93d4c7cd616251c",
       "version_major": 2,
       "version_minor": 0
      },
      "text/plain": [
       "Epoch   183:   0%|          | 0/12 [00:00<?, ?batch/s]"
      ]
     },
     "metadata": {},
     "output_type": "display_data"
    },
    {
     "name": "stdout",
     "output_type": "stream",
     "text": [
      "Test Accuracy: 54.14%\n"
     ]
    },
    {
     "data": {
      "application/vnd.jupyter.widget-view+json": {
       "model_id": "6bc35a121609428a863d387c93b87225",
       "version_major": 2,
       "version_minor": 0
      },
      "text/plain": [
       "Epoch   184:   0%|          | 0/12 [00:00<?, ?batch/s]"
      ]
     },
     "metadata": {},
     "output_type": "display_data"
    },
    {
     "name": "stdout",
     "output_type": "stream",
     "text": [
      "Test Accuracy: 54.4%\n"
     ]
    },
    {
     "data": {
      "application/vnd.jupyter.widget-view+json": {
       "model_id": "5d0f43678b914351baa520578e413ac0",
       "version_major": 2,
       "version_minor": 0
      },
      "text/plain": [
       "Epoch   185:   0%|          | 0/12 [00:00<?, ?batch/s]"
      ]
     },
     "metadata": {},
     "output_type": "display_data"
    },
    {
     "name": "stdout",
     "output_type": "stream",
     "text": [
      "Information density: 0.03410399332642555\n",
      "Density indices: [ 97  21 178  80 109 133  58 235  68  51  44  20 241 198 182  19 210 153\n",
      "  92 194  84  69 158  57  87 129 147 242 225  41  14 108 125  23  12 190\n",
      " 138  72 214  67 240  90 131 171 150  22 197  26 220 170 232  25 162 168\n",
      "  99 254  48 212 123 127  32 173 219 201]\n",
      "Test Accuracy: 53.55%\n"
     ]
    },
    {
     "data": {
      "application/vnd.jupyter.widget-view+json": {
       "model_id": "60484c70c31f43e49caf9a24fa9eca72",
       "version_major": 2,
       "version_minor": 0
      },
      "text/plain": [
       "Epoch   186:   0%|          | 0/12 [00:00<?, ?batch/s]"
      ]
     },
     "metadata": {},
     "output_type": "display_data"
    },
    {
     "name": "stdout",
     "output_type": "stream",
     "text": [
      "Test Accuracy: 54.27%\n"
     ]
    },
    {
     "data": {
      "application/vnd.jupyter.widget-view+json": {
       "model_id": "4a8b67303a284efa8165972c559d140b",
       "version_major": 2,
       "version_minor": 0
      },
      "text/plain": [
       "Epoch   187:   0%|          | 0/12 [00:00<?, ?batch/s]"
      ]
     },
     "metadata": {},
     "output_type": "display_data"
    },
    {
     "name": "stdout",
     "output_type": "stream",
     "text": [
      "Test Accuracy: 54.66%\n"
     ]
    },
    {
     "data": {
      "application/vnd.jupyter.widget-view+json": {
       "model_id": "d5512a3263ea4f999d1016bf29ee72f7",
       "version_major": 2,
       "version_minor": 0
      },
      "text/plain": [
       "Epoch   188:   0%|          | 0/12 [00:00<?, ?batch/s]"
      ]
     },
     "metadata": {},
     "output_type": "display_data"
    },
    {
     "name": "stdout",
     "output_type": "stream",
     "text": [
      "Test Accuracy: 52.98%\n"
     ]
    },
    {
     "data": {
      "application/vnd.jupyter.widget-view+json": {
       "model_id": "49ce733e7e314ffdafb72c09d025a906",
       "version_major": 2,
       "version_minor": 0
      },
      "text/plain": [
       "Epoch   189:   0%|          | 0/12 [00:00<?, ?batch/s]"
      ]
     },
     "metadata": {},
     "output_type": "display_data"
    },
    {
     "name": "stdout",
     "output_type": "stream",
     "text": [
      "Test Accuracy: 53.82%\n"
     ]
    },
    {
     "data": {
      "application/vnd.jupyter.widget-view+json": {
       "model_id": "5a0a185ca3bd4ea19f3c68498fff34b6",
       "version_major": 2,
       "version_minor": 0
      },
      "text/plain": [
       "Epoch   190:   0%|          | 0/12 [00:00<?, ?batch/s]"
      ]
     },
     "metadata": {},
     "output_type": "display_data"
    },
    {
     "name": "stdout",
     "output_type": "stream",
     "text": [
      "Information density: 0.03065178170800209\n",
      "Density indices: [218  30  34 169   1   5 146 113  33 221  71  11 244  99 154 196 180 225\n",
      " 138 240   8 201  57 243  64 176 234 251 226 222  46  73 115  70  97  39\n",
      " 207  75 195 192  91 242 155 174  88  22 123  55 254  42 216  43 110 235\n",
      "   4 224 198  65 135 175  48 253 105 217]\n",
      "Test Accuracy: 54.81%\n"
     ]
    },
    {
     "data": {
      "application/vnd.jupyter.widget-view+json": {
       "model_id": "e0f8e182fdb540a49236855dff19a9a1",
       "version_major": 2,
       "version_minor": 0
      },
      "text/plain": [
       "Epoch   191:   0%|          | 0/12 [00:00<?, ?batch/s]"
      ]
     },
     "metadata": {},
     "output_type": "display_data"
    },
    {
     "name": "stdout",
     "output_type": "stream",
     "text": [
      "Test Accuracy: 53.6%\n"
     ]
    },
    {
     "data": {
      "application/vnd.jupyter.widget-view+json": {
       "model_id": "fd1d96aa1fd14924a908a548e7eaf747",
       "version_major": 2,
       "version_minor": 0
      },
      "text/plain": [
       "Epoch   192:   0%|          | 0/12 [00:00<?, ?batch/s]"
      ]
     },
     "metadata": {},
     "output_type": "display_data"
    },
    {
     "name": "stdout",
     "output_type": "stream",
     "text": [
      "Test Accuracy: 53.31%\n"
     ]
    },
    {
     "data": {
      "application/vnd.jupyter.widget-view+json": {
       "model_id": "b08b84d46743484289919819ce161984",
       "version_major": 2,
       "version_minor": 0
      },
      "text/plain": [
       "Epoch   193:   0%|          | 0/12 [00:00<?, ?batch/s]"
      ]
     },
     "metadata": {},
     "output_type": "display_data"
    },
    {
     "name": "stdout",
     "output_type": "stream",
     "text": [
      "Test Accuracy: 50.94%\n"
     ]
    },
    {
     "data": {
      "application/vnd.jupyter.widget-view+json": {
       "model_id": "a057d2e5555c45b98b0f65be763fd5dc",
       "version_major": 2,
       "version_minor": 0
      },
      "text/plain": [
       "Epoch   194:   0%|          | 0/12 [00:00<?, ?batch/s]"
      ]
     },
     "metadata": {},
     "output_type": "display_data"
    },
    {
     "name": "stdout",
     "output_type": "stream",
     "text": [
      "Test Accuracy: 51.78%\n"
     ]
    },
    {
     "data": {
      "application/vnd.jupyter.widget-view+json": {
       "model_id": "2b1749e9f00f4e2bbb6a4002b5f1e225",
       "version_major": 2,
       "version_minor": 0
      },
      "text/plain": [
       "Epoch   195:   0%|          | 0/12 [00:00<?, ?batch/s]"
      ]
     },
     "metadata": {},
     "output_type": "display_data"
    },
    {
     "name": "stdout",
     "output_type": "stream",
     "text": [
      "Information density: 0.022588517516851425\n",
      "Density indices: [228 166 213 158  10 124  65 195 126 251  74  38 204 224 112  25 233 184\n",
      "  92  83  99 190  28 170  55  20 200  76  81  71 134 171   8 173   9 211\n",
      "  62 174  69 156 189 152 100 108 231 101 168 249 109 151  22 161  91 137\n",
      " 143  80  14 214 179 123 116 169  66  68]\n",
      "Test Accuracy: 52.92%\n"
     ]
    },
    {
     "data": {
      "application/vnd.jupyter.widget-view+json": {
       "model_id": "ec7dba61f32c4347a7a7654770fa19c9",
       "version_major": 2,
       "version_minor": 0
      },
      "text/plain": [
       "Epoch   196:   0%|          | 0/12 [00:00<?, ?batch/s]"
      ]
     },
     "metadata": {},
     "output_type": "display_data"
    },
    {
     "name": "stdout",
     "output_type": "stream",
     "text": [
      "Test Accuracy: 53.93%\n"
     ]
    },
    {
     "data": {
      "application/vnd.jupyter.widget-view+json": {
       "model_id": "030f4d83d2914890bfdd97bb987859ae",
       "version_major": 2,
       "version_minor": 0
      },
      "text/plain": [
       "Epoch   197:   0%|          | 0/12 [00:00<?, ?batch/s]"
      ]
     },
     "metadata": {},
     "output_type": "display_data"
    },
    {
     "name": "stdout",
     "output_type": "stream",
     "text": [
      "Test Accuracy: 51.59%\n"
     ]
    },
    {
     "data": {
      "application/vnd.jupyter.widget-view+json": {
       "model_id": "9e01eec0958c4db09bd0331c23dc7ba1",
       "version_major": 2,
       "version_minor": 0
      },
      "text/plain": [
       "Epoch   198:   0%|          | 0/12 [00:00<?, ?batch/s]"
      ]
     },
     "metadata": {},
     "output_type": "display_data"
    },
    {
     "name": "stdout",
     "output_type": "stream",
     "text": [
      "Test Accuracy: 53.66%\n"
     ]
    },
    {
     "data": {
      "application/vnd.jupyter.widget-view+json": {
       "model_id": "6fd4b06130314004add7a4e79a25e24c",
       "version_major": 2,
       "version_minor": 0
      },
      "text/plain": [
       "Epoch   199:   0%|          | 0/12 [00:00<?, ?batch/s]"
      ]
     },
     "metadata": {},
     "output_type": "display_data"
    },
    {
     "name": "stdout",
     "output_type": "stream",
     "text": [
      "Test Accuracy: 54.8%\n"
     ]
    },
    {
     "data": {
      "application/vnd.jupyter.widget-view+json": {
       "model_id": "b4954497424a41c19baccf35220e1056",
       "version_major": 2,
       "version_minor": 0
      },
      "text/plain": [
       "Epoch   200:   0%|          | 0/12 [00:00<?, ?batch/s]"
      ]
     },
     "metadata": {},
     "output_type": "display_data"
    },
    {
     "name": "stdout",
     "output_type": "stream",
     "text": [
      "Information density: 0.025568991899490356\n",
      "Density indices: [100 150 248 140  94  93  49 117  67  19 110 189 246 157 124 185  42 147\n",
      "  16  11 227  71 102 217  92 219  95 247  17  68  20 239 251 123  97 130\n",
      " 252 174 222   0 159 241 235  45  12 155 242  41 122  90 129 142  47 205\n",
      " 226 192 234 138   3  65  61 199 116 233]\n",
      "Test Accuracy: 55.24%\n"
     ]
    },
    {
     "data": {
      "application/vnd.jupyter.widget-view+json": {
       "model_id": "db39734311924c5196acaf27581f9833",
       "version_major": 2,
       "version_minor": 0
      },
      "text/plain": [
       "Epoch   201:   0%|          | 0/12 [00:00<?, ?batch/s]"
      ]
     },
     "metadata": {},
     "output_type": "display_data"
    },
    {
     "name": "stdout",
     "output_type": "stream",
     "text": [
      "Test Accuracy: 55.12%\n"
     ]
    },
    {
     "data": {
      "application/vnd.jupyter.widget-view+json": {
       "model_id": "c9e056c0816248a888baf35eed30186e",
       "version_major": 2,
       "version_minor": 0
      },
      "text/plain": [
       "Epoch   202:   0%|          | 0/12 [00:00<?, ?batch/s]"
      ]
     },
     "metadata": {},
     "output_type": "display_data"
    },
    {
     "name": "stdout",
     "output_type": "stream",
     "text": [
      "Test Accuracy: 54.6%\n"
     ]
    },
    {
     "data": {
      "application/vnd.jupyter.widget-view+json": {
       "model_id": "2fc8d9f904ca4a2085286b18e1917e69",
       "version_major": 2,
       "version_minor": 0
      },
      "text/plain": [
       "Epoch   203:   0%|          | 0/12 [00:00<?, ?batch/s]"
      ]
     },
     "metadata": {},
     "output_type": "display_data"
    },
    {
     "name": "stdout",
     "output_type": "stream",
     "text": [
      "Test Accuracy: 55.35%\n"
     ]
    },
    {
     "data": {
      "application/vnd.jupyter.widget-view+json": {
       "model_id": "a96c179fc6384f1db135d1194e8c4174",
       "version_major": 2,
       "version_minor": 0
      },
      "text/plain": [
       "Epoch   204:   0%|          | 0/12 [00:00<?, ?batch/s]"
      ]
     },
     "metadata": {},
     "output_type": "display_data"
    },
    {
     "name": "stdout",
     "output_type": "stream",
     "text": [
      "Test Accuracy: 53.49%\n"
     ]
    },
    {
     "data": {
      "application/vnd.jupyter.widget-view+json": {
       "model_id": "7cf61843aea64386974f9284aeff0712",
       "version_major": 2,
       "version_minor": 0
      },
      "text/plain": [
       "Epoch   205:   0%|          | 0/12 [00:00<?, ?batch/s]"
      ]
     },
     "metadata": {},
     "output_type": "display_data"
    },
    {
     "name": "stdout",
     "output_type": "stream",
     "text": [
      "Information density: 0.01869536004960537\n",
      "Density indices: [218  75 205  17 220 159 189  49 130 120 173 228 169 134  50 151  23 131\n",
      "  43  59 176 251  61 207 239 178  12  51  27  68   2 233  74  31  85 171\n",
      "  29  97 153  22 115 156  56 174  35  72  77  30 129  83  79 213 237  60\n",
      " 172 196 255 222 186 144 143 157   6 235]\n",
      "Test Accuracy: 53.51%\n"
     ]
    },
    {
     "data": {
      "application/vnd.jupyter.widget-view+json": {
       "model_id": "6fc26bd00f2640e1ae4e108a1bcbeea7",
       "version_major": 2,
       "version_minor": 0
      },
      "text/plain": [
       "Epoch   206:   0%|          | 0/12 [00:00<?, ?batch/s]"
      ]
     },
     "metadata": {},
     "output_type": "display_data"
    },
    {
     "name": "stdout",
     "output_type": "stream",
     "text": [
      "Test Accuracy: 54.44%\n"
     ]
    },
    {
     "data": {
      "application/vnd.jupyter.widget-view+json": {
       "model_id": "e6d3da894208413081f044d51bfd76b5",
       "version_major": 2,
       "version_minor": 0
      },
      "text/plain": [
       "Epoch   207:   0%|          | 0/12 [00:00<?, ?batch/s]"
      ]
     },
     "metadata": {},
     "output_type": "display_data"
    },
    {
     "name": "stdout",
     "output_type": "stream",
     "text": [
      "Test Accuracy: 53.21%\n"
     ]
    },
    {
     "data": {
      "application/vnd.jupyter.widget-view+json": {
       "model_id": "455ed3bcb25e41abbde1bda2979683e5",
       "version_major": 2,
       "version_minor": 0
      },
      "text/plain": [
       "Epoch   208:   0%|          | 0/12 [00:00<?, ?batch/s]"
      ]
     },
     "metadata": {},
     "output_type": "display_data"
    },
    {
     "name": "stdout",
     "output_type": "stream",
     "text": [
      "Test Accuracy: 55.1%\n"
     ]
    },
    {
     "data": {
      "application/vnd.jupyter.widget-view+json": {
       "model_id": "829b0515a3884bdd996acfa881b24680",
       "version_major": 2,
       "version_minor": 0
      },
      "text/plain": [
       "Epoch   209:   0%|          | 0/12 [00:00<?, ?batch/s]"
      ]
     },
     "metadata": {},
     "output_type": "display_data"
    },
    {
     "name": "stdout",
     "output_type": "stream",
     "text": [
      "Test Accuracy: 55.2%\n"
     ]
    },
    {
     "data": {
      "application/vnd.jupyter.widget-view+json": {
       "model_id": "9fdbf0ee872e4d26b76db454d34a68a1",
       "version_major": 2,
       "version_minor": 0
      },
      "text/plain": [
       "Epoch   210:   0%|          | 0/12 [00:00<?, ?batch/s]"
      ]
     },
     "metadata": {},
     "output_type": "display_data"
    },
    {
     "name": "stdout",
     "output_type": "stream",
     "text": [
      "Information density: 0.0312618613243103\n",
      "Density indices: [170  91  92  44  24 129 225  42 213  29 147  20 199  16  97 117 112 241\n",
      " 251 118  61 185  60 140 195 142 216 148  88  80  30 239  43 218  82 111\n",
      "  36  27  48 230 126  21  45  65 133 101 110 186 125 188 155  14  83 104\n",
      "  79 248 187 154 149 135 108  22 103 246]\n",
      "Test Accuracy: 55.3%\n"
     ]
    },
    {
     "data": {
      "application/vnd.jupyter.widget-view+json": {
       "model_id": "40d758c04b0c4ac7ae080af38d6e6060",
       "version_major": 2,
       "version_minor": 0
      },
      "text/plain": [
       "Epoch   211:   0%|          | 0/12 [00:00<?, ?batch/s]"
      ]
     },
     "metadata": {},
     "output_type": "display_data"
    },
    {
     "name": "stdout",
     "output_type": "stream",
     "text": [
      "Test Accuracy: 55.55%\n"
     ]
    },
    {
     "data": {
      "application/vnd.jupyter.widget-view+json": {
       "model_id": "42ac409f8f554026ace8eec2cb012686",
       "version_major": 2,
       "version_minor": 0
      },
      "text/plain": [
       "Epoch   212:   0%|          | 0/12 [00:00<?, ?batch/s]"
      ]
     },
     "metadata": {},
     "output_type": "display_data"
    },
    {
     "name": "stdout",
     "output_type": "stream",
     "text": [
      "Test Accuracy: 54.85%\n"
     ]
    },
    {
     "data": {
      "application/vnd.jupyter.widget-view+json": {
       "model_id": "e0a62584819b464faed19d66999aba4e",
       "version_major": 2,
       "version_minor": 0
      },
      "text/plain": [
       "Epoch   213:   0%|          | 0/12 [00:00<?, ?batch/s]"
      ]
     },
     "metadata": {},
     "output_type": "display_data"
    },
    {
     "name": "stdout",
     "output_type": "stream",
     "text": [
      "Test Accuracy: 54.17%\n"
     ]
    },
    {
     "data": {
      "application/vnd.jupyter.widget-view+json": {
       "model_id": "e7cd63ba817b4a159548f856d0e33a5b",
       "version_major": 2,
       "version_minor": 0
      },
      "text/plain": [
       "Epoch   214:   0%|          | 0/12 [00:00<?, ?batch/s]"
      ]
     },
     "metadata": {},
     "output_type": "display_data"
    },
    {
     "name": "stdout",
     "output_type": "stream",
     "text": [
      "Test Accuracy: 54.67%\n"
     ]
    },
    {
     "data": {
      "application/vnd.jupyter.widget-view+json": {
       "model_id": "f83eba7b3d504a0fb2ca9358d868cccb",
       "version_major": 2,
       "version_minor": 0
      },
      "text/plain": [
       "Epoch   215:   0%|          | 0/12 [00:00<?, ?batch/s]"
      ]
     },
     "metadata": {},
     "output_type": "display_data"
    },
    {
     "name": "stdout",
     "output_type": "stream",
     "text": [
      "Information density: 0.0330323725938797\n",
      "Density indices: [144 135  30 180  81 187  78 233 106  87 212  99  45 207 194 198  25  59\n",
      " 218 161 155 196  19 201  67 225 253 247 197 114 152 231  34 221 245 235\n",
      " 146 211 242  31 210  35 133  46 181  71   2 213 141 217  43  90  23 234\n",
      " 222 139 183 149 115  70  51 239 206 184]\n",
      "Test Accuracy: 55.84%\n"
     ]
    },
    {
     "data": {
      "application/vnd.jupyter.widget-view+json": {
       "model_id": "4d8af9af5db84da2b793aacefe8bf9b6",
       "version_major": 2,
       "version_minor": 0
      },
      "text/plain": [
       "Epoch   216:   0%|          | 0/12 [00:00<?, ?batch/s]"
      ]
     },
     "metadata": {},
     "output_type": "display_data"
    },
    {
     "name": "stdout",
     "output_type": "stream",
     "text": [
      "Test Accuracy: 55.68%\n"
     ]
    },
    {
     "data": {
      "application/vnd.jupyter.widget-view+json": {
       "model_id": "ac86524bb66b41faae71f54588d84295",
       "version_major": 2,
       "version_minor": 0
      },
      "text/plain": [
       "Epoch   217:   0%|          | 0/12 [00:00<?, ?batch/s]"
      ]
     },
     "metadata": {},
     "output_type": "display_data"
    },
    {
     "name": "stdout",
     "output_type": "stream",
     "text": [
      "Test Accuracy: 56.19%\n"
     ]
    },
    {
     "data": {
      "application/vnd.jupyter.widget-view+json": {
       "model_id": "b7a76f032536439aa0f9261c6572de13",
       "version_major": 2,
       "version_minor": 0
      },
      "text/plain": [
       "Epoch   218:   0%|          | 0/12 [00:00<?, ?batch/s]"
      ]
     },
     "metadata": {},
     "output_type": "display_data"
    },
    {
     "name": "stdout",
     "output_type": "stream",
     "text": [
      "Test Accuracy: 57.32%\n"
     ]
    },
    {
     "data": {
      "application/vnd.jupyter.widget-view+json": {
       "model_id": "5c75eac2c061440dadf2760fb9c4d51b",
       "version_major": 2,
       "version_minor": 0
      },
      "text/plain": [
       "Epoch   219:   0%|          | 0/12 [00:00<?, ?batch/s]"
      ]
     },
     "metadata": {},
     "output_type": "display_data"
    },
    {
     "name": "stdout",
     "output_type": "stream",
     "text": [
      "Test Accuracy: 52.43%\n"
     ]
    },
    {
     "data": {
      "application/vnd.jupyter.widget-view+json": {
       "model_id": "132711a9beef48a5b69f18375fa1f6c5",
       "version_major": 2,
       "version_minor": 0
      },
      "text/plain": [
       "Epoch   220:   0%|          | 0/12 [00:00<?, ?batch/s]"
      ]
     },
     "metadata": {},
     "output_type": "display_data"
    },
    {
     "name": "stdout",
     "output_type": "stream",
     "text": [
      "Information density: 0.029788676649332047\n",
      "Density indices: [250 240  21 253 159 204 180  60 168 210 182 186  75  64 144 252 134  80\n",
      "  53  88 161 248 231 153 238  89  29 110  62  24 213  79 155  70 119 171\n",
      " 114  63  50 207 109 245  86  43 146  52 234 188 243  58 181 135 177 221\n",
      " 150 163   0 194 192 102  20  19  38  61]\n",
      "Test Accuracy: 56.32%\n"
     ]
    },
    {
     "data": {
      "application/vnd.jupyter.widget-view+json": {
       "model_id": "99e673e22733455cb288840be05dc297",
       "version_major": 2,
       "version_minor": 0
      },
      "text/plain": [
       "Epoch   221:   0%|          | 0/12 [00:00<?, ?batch/s]"
      ]
     },
     "metadata": {},
     "output_type": "display_data"
    },
    {
     "name": "stdout",
     "output_type": "stream",
     "text": [
      "Test Accuracy: 56.43%\n"
     ]
    },
    {
     "data": {
      "application/vnd.jupyter.widget-view+json": {
       "model_id": "4075015e6c374c3f82e11f2ff0f46a04",
       "version_major": 2,
       "version_minor": 0
      },
      "text/plain": [
       "Epoch   222:   0%|          | 0/12 [00:00<?, ?batch/s]"
      ]
     },
     "metadata": {},
     "output_type": "display_data"
    },
    {
     "name": "stdout",
     "output_type": "stream",
     "text": [
      "Test Accuracy: 55.82%\n"
     ]
    },
    {
     "data": {
      "application/vnd.jupyter.widget-view+json": {
       "model_id": "8745a90d8f37475297e8be9ca717a6c1",
       "version_major": 2,
       "version_minor": 0
      },
      "text/plain": [
       "Epoch   223:   0%|          | 0/12 [00:00<?, ?batch/s]"
      ]
     },
     "metadata": {},
     "output_type": "display_data"
    },
    {
     "name": "stdout",
     "output_type": "stream",
     "text": [
      "Test Accuracy: 55.93%\n"
     ]
    },
    {
     "data": {
      "application/vnd.jupyter.widget-view+json": {
       "model_id": "822d03739cac41e4b21449c004059f57",
       "version_major": 2,
       "version_minor": 0
      },
      "text/plain": [
       "Epoch   224:   0%|          | 0/12 [00:00<?, ?batch/s]"
      ]
     },
     "metadata": {},
     "output_type": "display_data"
    },
    {
     "name": "stdout",
     "output_type": "stream",
     "text": [
      "Test Accuracy: 53.11%\n"
     ]
    },
    {
     "data": {
      "application/vnd.jupyter.widget-view+json": {
       "model_id": "3ee172b450eb4f03811c5bc27c6760e9",
       "version_major": 2,
       "version_minor": 0
      },
      "text/plain": [
       "Epoch   225:   0%|          | 0/12 [00:00<?, ?batch/s]"
      ]
     },
     "metadata": {},
     "output_type": "display_data"
    },
    {
     "name": "stdout",
     "output_type": "stream",
     "text": [
      "Information density: 0.02650558203458786\n",
      "Density indices: [114  49  26   9 237  70 171 127 200 236 172  89  16  37 208 243 140 119\n",
      "  73   8 166 203  64 207 196 108 116   0 222  38  91  74 111   4 255 205\n",
      " 126  18  84 194 135 132 195  63 163  62 129 157  96  68  33  79 216 248\n",
      "  13 101  54 238  46 245 113 229  25 155]\n",
      "Test Accuracy: 52.06%\n"
     ]
    },
    {
     "data": {
      "application/vnd.jupyter.widget-view+json": {
       "model_id": "d56c0b1fe622428885fc449a69cf07c3",
       "version_major": 2,
       "version_minor": 0
      },
      "text/plain": [
       "Epoch   226:   0%|          | 0/12 [00:00<?, ?batch/s]"
      ]
     },
     "metadata": {},
     "output_type": "display_data"
    },
    {
     "name": "stdout",
     "output_type": "stream",
     "text": [
      "Test Accuracy: 55.58%\n"
     ]
    },
    {
     "data": {
      "application/vnd.jupyter.widget-view+json": {
       "model_id": "e7e8969515124b8d8c585a89a840ebe5",
       "version_major": 2,
       "version_minor": 0
      },
      "text/plain": [
       "Epoch   227:   0%|          | 0/12 [00:00<?, ?batch/s]"
      ]
     },
     "metadata": {},
     "output_type": "display_data"
    },
    {
     "name": "stdout",
     "output_type": "stream",
     "text": [
      "Test Accuracy: 55.95%\n"
     ]
    },
    {
     "data": {
      "application/vnd.jupyter.widget-view+json": {
       "model_id": "d087d10ea05a4fd7b3617b7e396dbd28",
       "version_major": 2,
       "version_minor": 0
      },
      "text/plain": [
       "Epoch   228:   0%|          | 0/12 [00:00<?, ?batch/s]"
      ]
     },
     "metadata": {},
     "output_type": "display_data"
    },
    {
     "name": "stdout",
     "output_type": "stream",
     "text": [
      "Test Accuracy: 54.86%\n"
     ]
    },
    {
     "data": {
      "application/vnd.jupyter.widget-view+json": {
       "model_id": "4f2f9a0dad9343018ea5fd749cffe262",
       "version_major": 2,
       "version_minor": 0
      },
      "text/plain": [
       "Epoch   229:   0%|          | 0/12 [00:00<?, ?batch/s]"
      ]
     },
     "metadata": {},
     "output_type": "display_data"
    },
    {
     "name": "stdout",
     "output_type": "stream",
     "text": [
      "Test Accuracy: 55.38%\n"
     ]
    },
    {
     "data": {
      "application/vnd.jupyter.widget-view+json": {
       "model_id": "5474c4abca044572bb8ffed98c93309d",
       "version_major": 2,
       "version_minor": 0
      },
      "text/plain": [
       "Epoch   230:   0%|          | 0/12 [00:00<?, ?batch/s]"
      ]
     },
     "metadata": {},
     "output_type": "display_data"
    },
    {
     "name": "stdout",
     "output_type": "stream",
     "text": [
      "Information density: 0.025249261409044266\n",
      "Density indices: [220  46 144  99  82 175 185 196 198 130 104 125 155  77 106 171  91  60\n",
      "  73  51 203 205 113  31 137 120 237  41  92   4 123 100  75 208 164 210\n",
      "  48  58 145  72 191 174  12 231 255   8 121  97  79 206 245 182 103 163\n",
      " 246  37  42  17 157 109 128  96 243   3]\n",
      "Test Accuracy: 55.54%\n"
     ]
    },
    {
     "data": {
      "application/vnd.jupyter.widget-view+json": {
       "model_id": "6a7bfb7a711b49e6a29881bdcfa55162",
       "version_major": 2,
       "version_minor": 0
      },
      "text/plain": [
       "Epoch   231:   0%|          | 0/12 [00:00<?, ?batch/s]"
      ]
     },
     "metadata": {},
     "output_type": "display_data"
    },
    {
     "name": "stdout",
     "output_type": "stream",
     "text": [
      "Test Accuracy: 55.15%\n"
     ]
    },
    {
     "data": {
      "application/vnd.jupyter.widget-view+json": {
       "model_id": "7377e50e74ae4616a9958d9736530f0c",
       "version_major": 2,
       "version_minor": 0
      },
      "text/plain": [
       "Epoch   232:   0%|          | 0/12 [00:00<?, ?batch/s]"
      ]
     },
     "metadata": {},
     "output_type": "display_data"
    },
    {
     "name": "stdout",
     "output_type": "stream",
     "text": [
      "Test Accuracy: 55.0%\n"
     ]
    },
    {
     "data": {
      "application/vnd.jupyter.widget-view+json": {
       "model_id": "25f44fa2891042e3b5e02b685ddb4551",
       "version_major": 2,
       "version_minor": 0
      },
      "text/plain": [
       "Epoch   233:   0%|          | 0/12 [00:00<?, ?batch/s]"
      ]
     },
     "metadata": {},
     "output_type": "display_data"
    },
    {
     "name": "stdout",
     "output_type": "stream",
     "text": [
      "Test Accuracy: 55.93%\n"
     ]
    },
    {
     "data": {
      "application/vnd.jupyter.widget-view+json": {
       "model_id": "050bacc1d4bd41fe8e75d7423afea987",
       "version_major": 2,
       "version_minor": 0
      },
      "text/plain": [
       "Epoch   234:   0%|          | 0/12 [00:00<?, ?batch/s]"
      ]
     },
     "metadata": {},
     "output_type": "display_data"
    },
    {
     "name": "stdout",
     "output_type": "stream",
     "text": [
      "Test Accuracy: 56.37%\n"
     ]
    },
    {
     "data": {
      "application/vnd.jupyter.widget-view+json": {
       "model_id": "8b353314ba00405c9be8c82458b79bfe",
       "version_major": 2,
       "version_minor": 0
      },
      "text/plain": [
       "Epoch   235:   0%|          | 0/12 [00:00<?, ?batch/s]"
      ]
     },
     "metadata": {},
     "output_type": "display_data"
    },
    {
     "name": "stdout",
     "output_type": "stream",
     "text": [
      "Information density: 0.025006037205457687\n",
      "Density indices: [ 55 185  68   2 219 248   9 197 222 224   7  62 133 111  94 160 175 183\n",
      " 117 253  23 238 140 157 167  59 131 106 190 182 184 235  69 123  78  28\n",
      " 146  66  87 121 230  31  56 145 199 247 119 196 128  57 188 168 102 151\n",
      "  90  12 169  53 161  54  13 127 226  46]\n",
      "Test Accuracy: 56.78%\n"
     ]
    },
    {
     "data": {
      "application/vnd.jupyter.widget-view+json": {
       "model_id": "95d17c6c300140b88c08b0c680474060",
       "version_major": 2,
       "version_minor": 0
      },
      "text/plain": [
       "Epoch   236:   0%|          | 0/12 [00:00<?, ?batch/s]"
      ]
     },
     "metadata": {},
     "output_type": "display_data"
    },
    {
     "name": "stdout",
     "output_type": "stream",
     "text": [
      "Test Accuracy: 56.9%\n"
     ]
    },
    {
     "data": {
      "application/vnd.jupyter.widget-view+json": {
       "model_id": "8d3b6a9ff55347b6a49e15b45222d326",
       "version_major": 2,
       "version_minor": 0
      },
      "text/plain": [
       "Epoch   237:   0%|          | 0/12 [00:00<?, ?batch/s]"
      ]
     },
     "metadata": {},
     "output_type": "display_data"
    },
    {
     "name": "stdout",
     "output_type": "stream",
     "text": [
      "Test Accuracy: 55.85%\n"
     ]
    },
    {
     "data": {
      "application/vnd.jupyter.widget-view+json": {
       "model_id": "ccb76f45e703408f9fed333d87dca4dd",
       "version_major": 2,
       "version_minor": 0
      },
      "text/plain": [
       "Epoch   238:   0%|          | 0/12 [00:00<?, ?batch/s]"
      ]
     },
     "metadata": {},
     "output_type": "display_data"
    },
    {
     "name": "stdout",
     "output_type": "stream",
     "text": [
      "Test Accuracy: 56.31%\n"
     ]
    },
    {
     "data": {
      "application/vnd.jupyter.widget-view+json": {
       "model_id": "537e3e70b45c43579c6c6184b910dacc",
       "version_major": 2,
       "version_minor": 0
      },
      "text/plain": [
       "Epoch   239:   0%|          | 0/12 [00:00<?, ?batch/s]"
      ]
     },
     "metadata": {},
     "output_type": "display_data"
    },
    {
     "name": "stdout",
     "output_type": "stream",
     "text": [
      "Test Accuracy: 56.76%\n"
     ]
    },
    {
     "data": {
      "application/vnd.jupyter.widget-view+json": {
       "model_id": "142aca3ac6344de583250d62c0bfb193",
       "version_major": 2,
       "version_minor": 0
      },
      "text/plain": [
       "Epoch   240:   0%|          | 0/12 [00:00<?, ?batch/s]"
      ]
     },
     "metadata": {},
     "output_type": "display_data"
    },
    {
     "name": "stdout",
     "output_type": "stream",
     "text": [
      "Information density: 0.023636426776647568\n",
      "Density indices: [ 13 213 205 148 152   1  56  74  47  42 231 102  95  35 158 133  26 191\n",
      " 104  80  66 189  17 208  14 228 226 185  49   0 200  90 244 173 184  46\n",
      "  27  48 107 194 227  62 186 230  97 127 175  82  33 206  36 250 110  92\n",
      " 219  15 249   3 187  84  70  41 251 245]\n",
      "Test Accuracy: 57.0%\n"
     ]
    },
    {
     "data": {
      "application/vnd.jupyter.widget-view+json": {
       "model_id": "43defb5d227a41d3be2076b6f58777c8",
       "version_major": 2,
       "version_minor": 0
      },
      "text/plain": [
       "Epoch   241:   0%|          | 0/12 [00:00<?, ?batch/s]"
      ]
     },
     "metadata": {},
     "output_type": "display_data"
    },
    {
     "name": "stdout",
     "output_type": "stream",
     "text": [
      "Test Accuracy: 57.15%\n"
     ]
    },
    {
     "data": {
      "application/vnd.jupyter.widget-view+json": {
       "model_id": "fc69570de8414dc887f75641bd1551fc",
       "version_major": 2,
       "version_minor": 0
      },
      "text/plain": [
       "Epoch   242:   0%|          | 0/12 [00:00<?, ?batch/s]"
      ]
     },
     "metadata": {},
     "output_type": "display_data"
    },
    {
     "name": "stdout",
     "output_type": "stream",
     "text": [
      "Test Accuracy: 57.18%\n"
     ]
    },
    {
     "data": {
      "application/vnd.jupyter.widget-view+json": {
       "model_id": "83bb5f873a3e419ca415074aeff9f57c",
       "version_major": 2,
       "version_minor": 0
      },
      "text/plain": [
       "Epoch   243:   0%|          | 0/12 [00:00<?, ?batch/s]"
      ]
     },
     "metadata": {},
     "output_type": "display_data"
    },
    {
     "name": "stdout",
     "output_type": "stream",
     "text": [
      "Test Accuracy: 56.68%\n"
     ]
    },
    {
     "data": {
      "application/vnd.jupyter.widget-view+json": {
       "model_id": "12796586e9eb4f7b8267991febaee4dd",
       "version_major": 2,
       "version_minor": 0
      },
      "text/plain": [
       "Epoch   244:   0%|          | 0/12 [00:00<?, ?batch/s]"
      ]
     },
     "metadata": {},
     "output_type": "display_data"
    },
    {
     "name": "stdout",
     "output_type": "stream",
     "text": [
      "Test Accuracy: 56.72%\n"
     ]
    },
    {
     "data": {
      "application/vnd.jupyter.widget-view+json": {
       "model_id": "a20522a8bfbf4f81a8b44dd06f8d7a62",
       "version_major": 2,
       "version_minor": 0
      },
      "text/plain": [
       "Epoch   245:   0%|          | 0/12 [00:00<?, ?batch/s]"
      ]
     },
     "metadata": {},
     "output_type": "display_data"
    },
    {
     "name": "stdout",
     "output_type": "stream",
     "text": [
      "Information density: 0.026297403499484062\n",
      "Density indices: [210 141  83 238 200 112 122 101  12  54  84   8 193 125  37  62 175  31\n",
      " 234 233 108 241 194  72 179  75  76 133 245  23  92 126 100 227  86 134\n",
      "  48  97  36 153  74 216   5 209 161  21 223  67 131 219 187 148  14  39\n",
      " 184  18 138 154 124  85  56 102 215 174]\n",
      "Test Accuracy: 57.48%\n"
     ]
    },
    {
     "data": {
      "application/vnd.jupyter.widget-view+json": {
       "model_id": "0c7a246b13c948fbbe22af60f6e72044",
       "version_major": 2,
       "version_minor": 0
      },
      "text/plain": [
       "Epoch   246:   0%|          | 0/12 [00:00<?, ?batch/s]"
      ]
     },
     "metadata": {},
     "output_type": "display_data"
    },
    {
     "name": "stdout",
     "output_type": "stream",
     "text": [
      "Test Accuracy: 56.94%\n"
     ]
    },
    {
     "data": {
      "application/vnd.jupyter.widget-view+json": {
       "model_id": "ce23c704c80945de88f6be7c94f78534",
       "version_major": 2,
       "version_minor": 0
      },
      "text/plain": [
       "Epoch   247:   0%|          | 0/12 [00:00<?, ?batch/s]"
      ]
     },
     "metadata": {},
     "output_type": "display_data"
    },
    {
     "name": "stdout",
     "output_type": "stream",
     "text": [
      "Test Accuracy: 56.17%\n"
     ]
    },
    {
     "data": {
      "application/vnd.jupyter.widget-view+json": {
       "model_id": "25d49ae6dd764aeaa19f81cadb60387e",
       "version_major": 2,
       "version_minor": 0
      },
      "text/plain": [
       "Epoch   248:   0%|          | 0/12 [00:00<?, ?batch/s]"
      ]
     },
     "metadata": {},
     "output_type": "display_data"
    },
    {
     "name": "stdout",
     "output_type": "stream",
     "text": [
      "Test Accuracy: 56.23%\n"
     ]
    },
    {
     "data": {
      "application/vnd.jupyter.widget-view+json": {
       "model_id": "01069f3215d64c17bd645268b0b31e93",
       "version_major": 2,
       "version_minor": 0
      },
      "text/plain": [
       "Epoch   249:   0%|          | 0/12 [00:00<?, ?batch/s]"
      ]
     },
     "metadata": {},
     "output_type": "display_data"
    },
    {
     "name": "stdout",
     "output_type": "stream",
     "text": [
      "Test Accuracy: 56.81%\n"
     ]
    },
    {
     "data": {
      "application/vnd.jupyter.widget-view+json": {
       "model_id": "c68d179e0b4e4e2ca46f56cf624d1a76",
       "version_major": 2,
       "version_minor": 0
      },
      "text/plain": [
       "Epoch   250:   0%|          | 0/12 [00:00<?, ?batch/s]"
      ]
     },
     "metadata": {},
     "output_type": "display_data"
    },
    {
     "name": "stdout",
     "output_type": "stream",
     "text": [
      "Information density: 0.03317137435078621\n",
      "Density indices: [246 171  70  23   6  88 211 113 153 168  83 221 244 124 195  58 121 150\n",
      "  19 115 134 226   2  14  18 190 245 110 157  24 155 139  22 143 130 209\n",
      " 192 250 252  60  80 166 107  30 162 200  36  82  43 146 223  38 151 141\n",
      " 137 179 215  52  89  95  42 201 208 133]\n",
      "Test Accuracy: 58.18%\n"
     ]
    },
    {
     "data": {
      "application/vnd.jupyter.widget-view+json": {
       "model_id": "6604eb392bd44853b7da0ba45cf79be5",
       "version_major": 2,
       "version_minor": 0
      },
      "text/plain": [
       "Epoch   251:   0%|          | 0/12 [00:00<?, ?batch/s]"
      ]
     },
     "metadata": {},
     "output_type": "display_data"
    },
    {
     "name": "stdout",
     "output_type": "stream",
     "text": [
      "Test Accuracy: 57.8%\n"
     ]
    },
    {
     "data": {
      "application/vnd.jupyter.widget-view+json": {
       "model_id": "134d8e2b8a38445284bfb9acc2b2f7ea",
       "version_major": 2,
       "version_minor": 0
      },
      "text/plain": [
       "Epoch   252:   0%|          | 0/12 [00:00<?, ?batch/s]"
      ]
     },
     "metadata": {},
     "output_type": "display_data"
    },
    {
     "name": "stdout",
     "output_type": "stream",
     "text": [
      "Test Accuracy: 57.16%\n"
     ]
    },
    {
     "data": {
      "application/vnd.jupyter.widget-view+json": {
       "model_id": "cc838e1713804891aeb5f9f816709055",
       "version_major": 2,
       "version_minor": 0
      },
      "text/plain": [
       "Epoch   253:   0%|          | 0/12 [00:00<?, ?batch/s]"
      ]
     },
     "metadata": {},
     "output_type": "display_data"
    },
    {
     "name": "stdout",
     "output_type": "stream",
     "text": [
      "Test Accuracy: 57.46%\n"
     ]
    },
    {
     "data": {
      "application/vnd.jupyter.widget-view+json": {
       "model_id": "b18d1776b98b47be82326ed1fe5f2b1a",
       "version_major": 2,
       "version_minor": 0
      },
      "text/plain": [
       "Epoch   254:   0%|          | 0/12 [00:00<?, ?batch/s]"
      ]
     },
     "metadata": {},
     "output_type": "display_data"
    },
    {
     "name": "stdout",
     "output_type": "stream",
     "text": [
      "Test Accuracy: 57.53%\n"
     ]
    },
    {
     "data": {
      "application/vnd.jupyter.widget-view+json": {
       "model_id": "362b7b35355c4d1f81d5405c56f9a7cc",
       "version_major": 2,
       "version_minor": 0
      },
      "text/plain": [
       "Epoch   255:   0%|          | 0/12 [00:00<?, ?batch/s]"
      ]
     },
     "metadata": {},
     "output_type": "display_data"
    },
    {
     "name": "stdout",
     "output_type": "stream",
     "text": [
      "Information density: 0.014252269640564919\n",
      "Density indices: [235 163  28 253 192 216 181  59 244 174 197 131 170 245 111  81  68  22\n",
      "  18   8  50 113 252 217  95  36  31 118 105 183   9 191 132  20  44 162\n",
      "  58 133 226 164 173 115   4 168 180  30 242  32 147  75  46 212 187  96\n",
      " 229   3 175  14 182 243  52 137 206 193]\n",
      "Test Accuracy: 57.37%\n"
     ]
    },
    {
     "data": {
      "application/vnd.jupyter.widget-view+json": {
       "model_id": "ff8c334a281a4bb0b6af995885ae3370",
       "version_major": 2,
       "version_minor": 0
      },
      "text/plain": [
       "Epoch   256:   0%|          | 0/12 [00:00<?, ?batch/s]"
      ]
     },
     "metadata": {},
     "output_type": "display_data"
    },
    {
     "name": "stdout",
     "output_type": "stream",
     "text": [
      "Test Accuracy: 57.44%\n"
     ]
    },
    {
     "data": {
      "application/vnd.jupyter.widget-view+json": {
       "model_id": "eb6725b754394098adb50e2b7ca9f62b",
       "version_major": 2,
       "version_minor": 0
      },
      "text/plain": [
       "Epoch   257:   0%|          | 0/12 [00:00<?, ?batch/s]"
      ]
     },
     "metadata": {},
     "output_type": "display_data"
    },
    {
     "name": "stdout",
     "output_type": "stream",
     "text": [
      "Test Accuracy: 57.2%\n"
     ]
    },
    {
     "data": {
      "application/vnd.jupyter.widget-view+json": {
       "model_id": "dba1914256f743dfba7de3e200814d57",
       "version_major": 2,
       "version_minor": 0
      },
      "text/plain": [
       "Epoch   258:   0%|          | 0/12 [00:00<?, ?batch/s]"
      ]
     },
     "metadata": {},
     "output_type": "display_data"
    },
    {
     "name": "stdout",
     "output_type": "stream",
     "text": [
      "Test Accuracy: 57.54%\n"
     ]
    },
    {
     "data": {
      "application/vnd.jupyter.widget-view+json": {
       "model_id": "ca533dbfde294db991922f7e671b80f8",
       "version_major": 2,
       "version_minor": 0
      },
      "text/plain": [
       "Epoch   259:   0%|          | 0/12 [00:00<?, ?batch/s]"
      ]
     },
     "metadata": {},
     "output_type": "display_data"
    },
    {
     "name": "stdout",
     "output_type": "stream",
     "text": [
      "Test Accuracy: 57.29%\n"
     ]
    },
    {
     "data": {
      "application/vnd.jupyter.widget-view+json": {
       "model_id": "6dcec83e36c1474ba83bf31f1bf411f3",
       "version_major": 2,
       "version_minor": 0
      },
      "text/plain": [
       "Epoch   260:   0%|          | 0/12 [00:00<?, ?batch/s]"
      ]
     },
     "metadata": {},
     "output_type": "display_data"
    },
    {
     "name": "stdout",
     "output_type": "stream",
     "text": [
      "Information density: 0.03426231071352959\n",
      "Density indices: [124   5 196 143 142 131 128 235  84 125  13 120 194  46 119  32 236  81\n",
      "  94 214  47  56  69  48 230 139 207 127  77 208 241   3 217  10  53  92\n",
      " 211 188 154 216 162 135 147 245 137 160 242 225 178  42  51 232 226  96\n",
      "  25 187   6 146  19 102 212 184  62 103]\n",
      "Test Accuracy: 57.58%\n"
     ]
    },
    {
     "data": {
      "application/vnd.jupyter.widget-view+json": {
       "model_id": "a35d9797271346918dc9e80578614383",
       "version_major": 2,
       "version_minor": 0
      },
      "text/plain": [
       "Epoch   261:   0%|          | 0/12 [00:00<?, ?batch/s]"
      ]
     },
     "metadata": {},
     "output_type": "display_data"
    },
    {
     "name": "stdout",
     "output_type": "stream",
     "text": [
      "Test Accuracy: 57.86%\n"
     ]
    },
    {
     "data": {
      "application/vnd.jupyter.widget-view+json": {
       "model_id": "fb20adacd72b45d9b14441a1ae796d6f",
       "version_major": 2,
       "version_minor": 0
      },
      "text/plain": [
       "Epoch   262:   0%|          | 0/12 [00:00<?, ?batch/s]"
      ]
     },
     "metadata": {},
     "output_type": "display_data"
    },
    {
     "name": "stdout",
     "output_type": "stream",
     "text": [
      "Test Accuracy: 57.73%\n"
     ]
    },
    {
     "data": {
      "application/vnd.jupyter.widget-view+json": {
       "model_id": "48753877d5bb4194b8f222ee650fec5c",
       "version_major": 2,
       "version_minor": 0
      },
      "text/plain": [
       "Epoch   263:   0%|          | 0/12 [00:00<?, ?batch/s]"
      ]
     },
     "metadata": {},
     "output_type": "display_data"
    },
    {
     "name": "stdout",
     "output_type": "stream",
     "text": [
      "Test Accuracy: 57.16%\n"
     ]
    },
    {
     "data": {
      "application/vnd.jupyter.widget-view+json": {
       "model_id": "f78b4d591e484bf2b5a523f371a8acd3",
       "version_major": 2,
       "version_minor": 0
      },
      "text/plain": [
       "Epoch   264:   0%|          | 0/12 [00:00<?, ?batch/s]"
      ]
     },
     "metadata": {},
     "output_type": "display_data"
    },
    {
     "name": "stdout",
     "output_type": "stream",
     "text": [
      "Test Accuracy: 56.77%\n"
     ]
    },
    {
     "data": {
      "application/vnd.jupyter.widget-view+json": {
       "model_id": "1fb8636936f0424b867a780c3d1b916e",
       "version_major": 2,
       "version_minor": 0
      },
      "text/plain": [
       "Epoch   265:   0%|          | 0/12 [00:00<?, ?batch/s]"
      ]
     },
     "metadata": {},
     "output_type": "display_data"
    },
    {
     "name": "stdout",
     "output_type": "stream",
     "text": [
      "Information density: 0.018886957317590714\n",
      "Density indices: [ 12 231 131 187 183 210 191 181 146  50 184   2 242   9 249 169 215  96\n",
      " 174  82 171 133 244   7  91 125 177 197 103  43 106  69 222 224 152 217\n",
      "  32 124  42 164 206  13  95  75  56  19  83  37 156 148 162 216 221  25\n",
      "  48  21  92  51 239 115 200 135 236 158]\n",
      "Test Accuracy: 56.82%\n"
     ]
    },
    {
     "data": {
      "application/vnd.jupyter.widget-view+json": {
       "model_id": "c0bd99ef708948c89ec0d1864b84c126",
       "version_major": 2,
       "version_minor": 0
      },
      "text/plain": [
       "Epoch   266:   0%|          | 0/12 [00:00<?, ?batch/s]"
      ]
     },
     "metadata": {},
     "output_type": "display_data"
    },
    {
     "name": "stdout",
     "output_type": "stream",
     "text": [
      "Test Accuracy: 56.85%\n"
     ]
    },
    {
     "data": {
      "application/vnd.jupyter.widget-view+json": {
       "model_id": "ec8820df7cad477cbc321acf7322b6c6",
       "version_major": 2,
       "version_minor": 0
      },
      "text/plain": [
       "Epoch   267:   0%|          | 0/12 [00:00<?, ?batch/s]"
      ]
     },
     "metadata": {},
     "output_type": "display_data"
    },
    {
     "name": "stdout",
     "output_type": "stream",
     "text": [
      "Test Accuracy: 57.25%\n"
     ]
    },
    {
     "data": {
      "application/vnd.jupyter.widget-view+json": {
       "model_id": "b7cbbb2a3d4248e7b7af7a7d056dc97e",
       "version_major": 2,
       "version_minor": 0
      },
      "text/plain": [
       "Epoch   268:   0%|          | 0/12 [00:00<?, ?batch/s]"
      ]
     },
     "metadata": {},
     "output_type": "display_data"
    },
    {
     "name": "stdout",
     "output_type": "stream",
     "text": [
      "Test Accuracy: 57.13%\n"
     ]
    },
    {
     "data": {
      "application/vnd.jupyter.widget-view+json": {
       "model_id": "5fa9d14ec1604421948ec5713abab553",
       "version_major": 2,
       "version_minor": 0
      },
      "text/plain": [
       "Epoch   269:   0%|          | 0/12 [00:00<?, ?batch/s]"
      ]
     },
     "metadata": {},
     "output_type": "display_data"
    },
    {
     "name": "stdout",
     "output_type": "stream",
     "text": [
      "Test Accuracy: 57.44%\n"
     ]
    },
    {
     "data": {
      "application/vnd.jupyter.widget-view+json": {
       "model_id": "f229cbe14ed541718bd2574110000b74",
       "version_major": 2,
       "version_minor": 0
      },
      "text/plain": [
       "Epoch   270:   0%|          | 0/12 [00:00<?, ?batch/s]"
      ]
     },
     "metadata": {},
     "output_type": "display_data"
    },
    {
     "name": "stdout",
     "output_type": "stream",
     "text": [
      "Information density: 0.02475501410663128\n",
      "Density indices: [134  88 207 231 192 165  31 152 196 122 142 255 200  54  20 184 157 206\n",
      "  15 247  86   2 125  81 166  13 101 161  27 253 191 224  19 137 129  43\n",
      "  28  57  14  37 178 250  82 245  80  34  72 209 228 151  30  97  10  78\n",
      "  46  95 124  50 168 227 119 180 183 203]\n",
      "Test Accuracy: 57.8%\n"
     ]
    },
    {
     "data": {
      "application/vnd.jupyter.widget-view+json": {
       "model_id": "817ba89843da429f87b8f074de85549b",
       "version_major": 2,
       "version_minor": 0
      },
      "text/plain": [
       "Epoch   271:   0%|          | 0/12 [00:00<?, ?batch/s]"
      ]
     },
     "metadata": {},
     "output_type": "display_data"
    },
    {
     "name": "stdout",
     "output_type": "stream",
     "text": [
      "Test Accuracy: 57.97%\n"
     ]
    },
    {
     "data": {
      "application/vnd.jupyter.widget-view+json": {
       "model_id": "c384bca11e5f4aad96258b1a1ce48c3b",
       "version_major": 2,
       "version_minor": 0
      },
      "text/plain": [
       "Epoch   272:   0%|          | 0/12 [00:00<?, ?batch/s]"
      ]
     },
     "metadata": {},
     "output_type": "display_data"
    },
    {
     "name": "stdout",
     "output_type": "stream",
     "text": [
      "Test Accuracy: 58.05%\n"
     ]
    },
    {
     "data": {
      "application/vnd.jupyter.widget-view+json": {
       "model_id": "936e2c5e413b402c8a1df61f994e2d2c",
       "version_major": 2,
       "version_minor": 0
      },
      "text/plain": [
       "Epoch   273:   0%|          | 0/12 [00:00<?, ?batch/s]"
      ]
     },
     "metadata": {},
     "output_type": "display_data"
    },
    {
     "name": "stdout",
     "output_type": "stream",
     "text": [
      "Test Accuracy: 58.26%\n"
     ]
    },
    {
     "data": {
      "application/vnd.jupyter.widget-view+json": {
       "model_id": "aa585e6849474051ae9e2c3d75609455",
       "version_major": 2,
       "version_minor": 0
      },
      "text/plain": [
       "Epoch   274:   0%|          | 0/12 [00:00<?, ?batch/s]"
      ]
     },
     "metadata": {},
     "output_type": "display_data"
    },
    {
     "name": "stdout",
     "output_type": "stream",
     "text": [
      "Test Accuracy: 58.2%\n"
     ]
    },
    {
     "data": {
      "application/vnd.jupyter.widget-view+json": {
       "model_id": "904e41c64e7540a5b8e8a90d29097144",
       "version_major": 2,
       "version_minor": 0
      },
      "text/plain": [
       "Epoch   275:   0%|          | 0/12 [00:00<?, ?batch/s]"
      ]
     },
     "metadata": {},
     "output_type": "display_data"
    },
    {
     "name": "stdout",
     "output_type": "stream",
     "text": [
      "Information density: 0.028590135276317596\n",
      "Density indices: [ 83 213 251 150 109 171 122 173 195 252  52  85 146 206 168 157 135 151\n",
      "  36 219  25 142 183  15   9 113 240  70  58 100  76   1  49  48 178  11\n",
      "  64 103  72 114  24 190 130 194 163 214 211 249 197  32 234 126 119 201\n",
      " 199 137 172 205  60 203 120 216 236 212]\n",
      "Test Accuracy: 57.99%\n"
     ]
    },
    {
     "data": {
      "application/vnd.jupyter.widget-view+json": {
       "model_id": "0b251008563149eeaca0f255801946dc",
       "version_major": 2,
       "version_minor": 0
      },
      "text/plain": [
       "Epoch   276:   0%|          | 0/12 [00:00<?, ?batch/s]"
      ]
     },
     "metadata": {},
     "output_type": "display_data"
    },
    {
     "name": "stdout",
     "output_type": "stream",
     "text": [
      "Test Accuracy: 57.63%\n"
     ]
    },
    {
     "data": {
      "application/vnd.jupyter.widget-view+json": {
       "model_id": "eba5e4e97e6b41248c3a1ba845f82301",
       "version_major": 2,
       "version_minor": 0
      },
      "text/plain": [
       "Epoch   277:   0%|          | 0/12 [00:00<?, ?batch/s]"
      ]
     },
     "metadata": {},
     "output_type": "display_data"
    },
    {
     "name": "stdout",
     "output_type": "stream",
     "text": [
      "Test Accuracy: 57.68%\n"
     ]
    },
    {
     "data": {
      "application/vnd.jupyter.widget-view+json": {
       "model_id": "036cde836bfd4900bf7c71742921e434",
       "version_major": 2,
       "version_minor": 0
      },
      "text/plain": [
       "Epoch   278:   0%|          | 0/12 [00:00<?, ?batch/s]"
      ]
     },
     "metadata": {},
     "output_type": "display_data"
    },
    {
     "name": "stdout",
     "output_type": "stream",
     "text": [
      "Test Accuracy: 57.75%\n"
     ]
    },
    {
     "data": {
      "application/vnd.jupyter.widget-view+json": {
       "model_id": "8eea9378359e441880554eca18531734",
       "version_major": 2,
       "version_minor": 0
      },
      "text/plain": [
       "Epoch   279:   0%|          | 0/12 [00:00<?, ?batch/s]"
      ]
     },
     "metadata": {},
     "output_type": "display_data"
    },
    {
     "name": "stdout",
     "output_type": "stream",
     "text": [
      "Test Accuracy: 57.88%\n"
     ]
    },
    {
     "data": {
      "application/vnd.jupyter.widget-view+json": {
       "model_id": "40f2ef59973e4c78a0144420e78cac4e",
       "version_major": 2,
       "version_minor": 0
      },
      "text/plain": [
       "Epoch   280:   0%|          | 0/12 [00:00<?, ?batch/s]"
      ]
     },
     "metadata": {},
     "output_type": "display_data"
    },
    {
     "name": "stdout",
     "output_type": "stream",
     "text": [
      "Information density: 0.029789693653583527\n",
      "Density indices: [185  18  93 126  75  70 166 243 205  97  67  73 193 254 183  77 179  63\n",
      "  69 213 237 241 155 216 218 225 176  39  37 135  38  98 239 159 154  17\n",
      " 168 220 203  88 107  72   1 242  21 235 147 164 163 134 157  19 212 255\n",
      " 149  34 122  32 119  71 106  41  36 110]\n",
      "Test Accuracy: 57.92%\n"
     ]
    },
    {
     "data": {
      "application/vnd.jupyter.widget-view+json": {
       "model_id": "229e58677d9044c58e86888b2466b5ca",
       "version_major": 2,
       "version_minor": 0
      },
      "text/plain": [
       "Epoch   281:   0%|          | 0/12 [00:00<?, ?batch/s]"
      ]
     },
     "metadata": {},
     "output_type": "display_data"
    },
    {
     "name": "stdout",
     "output_type": "stream",
     "text": [
      "Test Accuracy: 58.11%\n"
     ]
    },
    {
     "data": {
      "application/vnd.jupyter.widget-view+json": {
       "model_id": "027ab9d4e19c4127925c8c51eafb5011",
       "version_major": 2,
       "version_minor": 0
      },
      "text/plain": [
       "Epoch   282:   0%|          | 0/12 [00:00<?, ?batch/s]"
      ]
     },
     "metadata": {},
     "output_type": "display_data"
    },
    {
     "name": "stdout",
     "output_type": "stream",
     "text": [
      "Test Accuracy: 58.1%\n"
     ]
    },
    {
     "data": {
      "application/vnd.jupyter.widget-view+json": {
       "model_id": "89b2b89d15314d728209825347e34f88",
       "version_major": 2,
       "version_minor": 0
      },
      "text/plain": [
       "Epoch   283:   0%|          | 0/12 [00:00<?, ?batch/s]"
      ]
     },
     "metadata": {},
     "output_type": "display_data"
    },
    {
     "name": "stdout",
     "output_type": "stream",
     "text": [
      "Test Accuracy: 58.06%\n"
     ]
    },
    {
     "data": {
      "application/vnd.jupyter.widget-view+json": {
       "model_id": "f36c708da78e44a694df3cdc9f1b0bb9",
       "version_major": 2,
       "version_minor": 0
      },
      "text/plain": [
       "Epoch   284:   0%|          | 0/12 [00:00<?, ?batch/s]"
      ]
     },
     "metadata": {},
     "output_type": "display_data"
    },
    {
     "name": "stdout",
     "output_type": "stream",
     "text": [
      "Test Accuracy: 57.98%\n"
     ]
    },
    {
     "data": {
      "application/vnd.jupyter.widget-view+json": {
       "model_id": "38253abeec5144b3bcc931fdf581cfd9",
       "version_major": 2,
       "version_minor": 0
      },
      "text/plain": [
       "Epoch   285:   0%|          | 0/12 [00:00<?, ?batch/s]"
      ]
     },
     "metadata": {},
     "output_type": "display_data"
    },
    {
     "name": "stdout",
     "output_type": "stream",
     "text": [
      "Information density: 0.033307310193777084\n",
      "Density indices: [160 131 245  53 235  96 215 136   1 229  65 177 208 218 227 163 192 125\n",
      "  25 176 112  82 221   3 119 180 148 201 100 172  85  35 123  78  23  98\n",
      "  57 212 198  50   0 188 157 223  31 143  36 109 169 104  72  97  73  28\n",
      " 181 238 190 113 138  88 137 196 179 144]\n",
      "Test Accuracy: 58.02%\n"
     ]
    },
    {
     "data": {
      "application/vnd.jupyter.widget-view+json": {
       "model_id": "8590d3c19f2a4739b63986076aa8ddac",
       "version_major": 2,
       "version_minor": 0
      },
      "text/plain": [
       "Epoch   286:   0%|          | 0/12 [00:00<?, ?batch/s]"
      ]
     },
     "metadata": {},
     "output_type": "display_data"
    },
    {
     "name": "stdout",
     "output_type": "stream",
     "text": [
      "Test Accuracy: 58.09%\n"
     ]
    },
    {
     "data": {
      "application/vnd.jupyter.widget-view+json": {
       "model_id": "bb6f21324dd74d2ea1e2deaf2b8103b5",
       "version_major": 2,
       "version_minor": 0
      },
      "text/plain": [
       "Epoch   287:   0%|          | 0/12 [00:00<?, ?batch/s]"
      ]
     },
     "metadata": {},
     "output_type": "display_data"
    },
    {
     "name": "stdout",
     "output_type": "stream",
     "text": [
      "Test Accuracy: 58.11%\n"
     ]
    },
    {
     "data": {
      "application/vnd.jupyter.widget-view+json": {
       "model_id": "df393d9cc4354c14a9a975d96cb53ee3",
       "version_major": 2,
       "version_minor": 0
      },
      "text/plain": [
       "Epoch   288:   0%|          | 0/12 [00:00<?, ?batch/s]"
      ]
     },
     "metadata": {},
     "output_type": "display_data"
    },
    {
     "name": "stdout",
     "output_type": "stream",
     "text": [
      "Test Accuracy: 58.08%\n"
     ]
    },
    {
     "data": {
      "application/vnd.jupyter.widget-view+json": {
       "model_id": "f5a29fcade224befbfdfbeaaeed421da",
       "version_major": 2,
       "version_minor": 0
      },
      "text/plain": [
       "Epoch   289:   0%|          | 0/12 [00:00<?, ?batch/s]"
      ]
     },
     "metadata": {},
     "output_type": "display_data"
    },
    {
     "name": "stdout",
     "output_type": "stream",
     "text": [
      "Test Accuracy: 58.17%\n"
     ]
    },
    {
     "data": {
      "application/vnd.jupyter.widget-view+json": {
       "model_id": "c0dbe3319dae48819bc5420e20409a34",
       "version_major": 2,
       "version_minor": 0
      },
      "text/plain": [
       "Epoch   290:   0%|          | 0/12 [00:00<?, ?batch/s]"
      ]
     },
     "metadata": {},
     "output_type": "display_data"
    },
    {
     "name": "stdout",
     "output_type": "stream",
     "text": [
      "Information density: 0.02621760219335556\n",
      "Density indices: [ 37  87 133 183 150  43 222 217 215  36 200  51 167  59  46  23 241  17\n",
      " 237 207 210 214  93  26 142 137   2 163 112 189 141 175  28  85 248 243\n",
      "  90  45 130 249 121 202  49 253  56 206 195 213   0 216  62  86 131  50\n",
      "  54 153 208 104 159  99  68 204  77  74]\n",
      "Test Accuracy: 58.16%\n"
     ]
    },
    {
     "data": {
      "application/vnd.jupyter.widget-view+json": {
       "model_id": "224eef44bc8349dca9e1c5b0794f98bf",
       "version_major": 2,
       "version_minor": 0
      },
      "text/plain": [
       "Epoch   291:   0%|          | 0/12 [00:00<?, ?batch/s]"
      ]
     },
     "metadata": {},
     "output_type": "display_data"
    },
    {
     "name": "stdout",
     "output_type": "stream",
     "text": [
      "Test Accuracy: 58.14%\n"
     ]
    },
    {
     "data": {
      "application/vnd.jupyter.widget-view+json": {
       "model_id": "c4d2f1894eea4883bfd121fbc1ef53c0",
       "version_major": 2,
       "version_minor": 0
      },
      "text/plain": [
       "Epoch   292:   0%|          | 0/12 [00:00<?, ?batch/s]"
      ]
     },
     "metadata": {},
     "output_type": "display_data"
    },
    {
     "name": "stdout",
     "output_type": "stream",
     "text": [
      "Test Accuracy: 58.11%\n"
     ]
    },
    {
     "data": {
      "application/vnd.jupyter.widget-view+json": {
       "model_id": "fdfc234109924c69806a763fccfb4b59",
       "version_major": 2,
       "version_minor": 0
      },
      "text/plain": [
       "Epoch   293:   0%|          | 0/12 [00:00<?, ?batch/s]"
      ]
     },
     "metadata": {},
     "output_type": "display_data"
    },
    {
     "name": "stdout",
     "output_type": "stream",
     "text": [
      "Test Accuracy: 58.13%\n"
     ]
    },
    {
     "data": {
      "application/vnd.jupyter.widget-view+json": {
       "model_id": "8c4634d211794665b67b8987afbd7215",
       "version_major": 2,
       "version_minor": 0
      },
      "text/plain": [
       "Epoch   294:   0%|          | 0/12 [00:00<?, ?batch/s]"
      ]
     },
     "metadata": {},
     "output_type": "display_data"
    },
    {
     "name": "stdout",
     "output_type": "stream",
     "text": [
      "Test Accuracy: 58.13%\n"
     ]
    },
    {
     "data": {
      "application/vnd.jupyter.widget-view+json": {
       "model_id": "3c257fe9b48b4f6a93c001bd64521fa5",
       "version_major": 2,
       "version_minor": 0
      },
      "text/plain": [
       "Epoch   295:   0%|          | 0/12 [00:00<?, ?batch/s]"
      ]
     },
     "metadata": {},
     "output_type": "display_data"
    },
    {
     "name": "stdout",
     "output_type": "stream",
     "text": [
      "Information density: 0.023918725550174713\n",
      "Density indices: [  0 215 218 105 255 202 173  69 160 153  89 116 244 110  63  36 191  44\n",
      " 126 207  66 192  80 118  71  32  31 197 146 124 150 236   4  82 216 106\n",
      " 217  15   5 190 168 222 156 233 188  65  60 159   7 209 204 211 133  79\n",
      " 147 231 243  61  46 174 100 210 246  94]\n",
      "Test Accuracy: 58.13%\n"
     ]
    },
    {
     "data": {
      "application/vnd.jupyter.widget-view+json": {
       "model_id": "d5ec49e24bb04488b9a6f24818943873",
       "version_major": 2,
       "version_minor": 0
      },
      "text/plain": [
       "Epoch   296:   0%|          | 0/12 [00:00<?, ?batch/s]"
      ]
     },
     "metadata": {},
     "output_type": "display_data"
    },
    {
     "name": "stdout",
     "output_type": "stream",
     "text": [
      "Test Accuracy: 58.12%\n"
     ]
    },
    {
     "data": {
      "application/vnd.jupyter.widget-view+json": {
       "model_id": "d0bd76d0aec142cbacd9a4ce7948f6b9",
       "version_major": 2,
       "version_minor": 0
      },
      "text/plain": [
       "Epoch   297:   0%|          | 0/12 [00:00<?, ?batch/s]"
      ]
     },
     "metadata": {},
     "output_type": "display_data"
    },
    {
     "name": "stdout",
     "output_type": "stream",
     "text": [
      "Test Accuracy: 58.11%\n"
     ]
    },
    {
     "data": {
      "application/vnd.jupyter.widget-view+json": {
       "model_id": "53ac933a46184aa988d42cbd6b02b1c9",
       "version_major": 2,
       "version_minor": 0
      },
      "text/plain": [
       "Epoch   298:   0%|          | 0/12 [00:00<?, ?batch/s]"
      ]
     },
     "metadata": {},
     "output_type": "display_data"
    },
    {
     "name": "stdout",
     "output_type": "stream",
     "text": [
      "Test Accuracy: 58.1%\n"
     ]
    },
    {
     "data": {
      "application/vnd.jupyter.widget-view+json": {
       "model_id": "a3cc8a48603748cdab91d60608b4bb6c",
       "version_major": 2,
       "version_minor": 0
      },
      "text/plain": [
       "Epoch   299:   0%|          | 0/12 [00:00<?, ?batch/s]"
      ]
     },
     "metadata": {},
     "output_type": "display_data"
    },
    {
     "name": "stdout",
     "output_type": "stream",
     "text": [
      "Test Accuracy: 58.1%\n"
     ]
    },
    {
     "data": {
      "application/vnd.jupyter.widget-view+json": {
       "model_id": "191594b036f1431f955a244266596c6c",
       "version_major": 2,
       "version_minor": 0
      },
      "text/plain": [
       "Epoch   300:   0%|          | 0/12 [00:00<?, ?batch/s]"
      ]
     },
     "metadata": {},
     "output_type": "display_data"
    },
    {
     "name": "stdout",
     "output_type": "stream",
     "text": [
      "Test Accuracy: 58.1%\n"
     ]
    },
    {
     "data": {
      "application/vnd.jupyter.widget-view+json": {
       "model_id": "b3f798d7975b404384aae2c77ddc2dbd",
       "version_major": 2,
       "version_minor": 0
      },
      "text/plain": [
       "Epoch   301:   0%|          | 0/12 [00:00<?, ?batch/s]"
      ]
     },
     "metadata": {},
     "output_type": "display_data"
    },
    {
     "name": "stdout",
     "output_type": "stream",
     "text": [
      "Test Accuracy: 58.1%\n"
     ]
    },
    {
     "data": {
      "application/vnd.jupyter.widget-view+json": {
       "model_id": "968a75b679cd4cb080f92457361bf582",
       "version_major": 2,
       "version_minor": 0
      },
      "text/plain": [
       "Epoch   302:   0%|          | 0/12 [00:00<?, ?batch/s]"
      ]
     },
     "metadata": {},
     "output_type": "display_data"
    },
    {
     "name": "stdout",
     "output_type": "stream",
     "text": [
      "Test Accuracy: 58.12%\n"
     ]
    },
    {
     "data": {
      "application/vnd.jupyter.widget-view+json": {
       "model_id": "545847b939c347ae983e3f26fc39059b",
       "version_major": 2,
       "version_minor": 0
      },
      "text/plain": [
       "Epoch   303:   0%|          | 0/12 [00:00<?, ?batch/s]"
      ]
     },
     "metadata": {},
     "output_type": "display_data"
    },
    {
     "name": "stdout",
     "output_type": "stream",
     "text": [
      "Test Accuracy: 58.13%\n"
     ]
    },
    {
     "data": {
      "application/vnd.jupyter.widget-view+json": {
       "model_id": "026df709f65f47a09cd9d8d213f60638",
       "version_major": 2,
       "version_minor": 0
      },
      "text/plain": [
       "Epoch   304:   0%|          | 0/12 [00:00<?, ?batch/s]"
      ]
     },
     "metadata": {},
     "output_type": "display_data"
    },
    {
     "name": "stdout",
     "output_type": "stream",
     "text": [
      "Test Accuracy: 58.13%\n"
     ]
    },
    {
     "data": {
      "application/vnd.jupyter.widget-view+json": {
       "model_id": "bd89089fb4a0471ebf52aa72165a6540",
       "version_major": 2,
       "version_minor": 0
      },
      "text/plain": [
       "Epoch   305:   0%|          | 0/12 [00:00<?, ?batch/s]"
      ]
     },
     "metadata": {},
     "output_type": "display_data"
    },
    {
     "name": "stdout",
     "output_type": "stream",
     "text": [
      "Test Accuracy: 58.09%\n"
     ]
    },
    {
     "data": {
      "application/vnd.jupyter.widget-view+json": {
       "model_id": "45436c59a69c42a290e6d6f069874e2f",
       "version_major": 2,
       "version_minor": 0
      },
      "text/plain": [
       "Epoch   306:   0%|          | 0/12 [00:00<?, ?batch/s]"
      ]
     },
     "metadata": {},
     "output_type": "display_data"
    },
    {
     "name": "stdout",
     "output_type": "stream",
     "text": [
      "Test Accuracy: 58.09%\n"
     ]
    },
    {
     "data": {
      "application/vnd.jupyter.widget-view+json": {
       "model_id": "d7b0eab638754c049a15344f7eb53c34",
       "version_major": 2,
       "version_minor": 0
      },
      "text/plain": [
       "Epoch   307:   0%|          | 0/12 [00:00<?, ?batch/s]"
      ]
     },
     "metadata": {},
     "output_type": "display_data"
    },
    {
     "name": "stdout",
     "output_type": "stream",
     "text": [
      "Test Accuracy: 58.04%\n"
     ]
    },
    {
     "data": {
      "application/vnd.jupyter.widget-view+json": {
       "model_id": "0b1566b364294b1e91c7668aa0688884",
       "version_major": 2,
       "version_minor": 0
      },
      "text/plain": [
       "Epoch   308:   0%|          | 0/12 [00:00<?, ?batch/s]"
      ]
     },
     "metadata": {},
     "output_type": "display_data"
    },
    {
     "name": "stdout",
     "output_type": "stream",
     "text": [
      "Test Accuracy: 58.05%\n"
     ]
    },
    {
     "data": {
      "application/vnd.jupyter.widget-view+json": {
       "model_id": "3db86b4c009b4f9aafab295b3593bb07",
       "version_major": 2,
       "version_minor": 0
      },
      "text/plain": [
       "Epoch   309:   0%|          | 0/12 [00:00<?, ?batch/s]"
      ]
     },
     "metadata": {},
     "output_type": "display_data"
    },
    {
     "name": "stdout",
     "output_type": "stream",
     "text": [
      "Test Accuracy: 57.98%\n"
     ]
    },
    {
     "data": {
      "application/vnd.jupyter.widget-view+json": {
       "model_id": "beda8cea93ca47629de86699ace3d375",
       "version_major": 2,
       "version_minor": 0
      },
      "text/plain": [
       "Epoch   310:   0%|          | 0/12 [00:00<?, ?batch/s]"
      ]
     },
     "metadata": {},
     "output_type": "display_data"
    },
    {
     "name": "stdout",
     "output_type": "stream",
     "text": [
      "Test Accuracy: 57.98%\n"
     ]
    },
    {
     "data": {
      "application/vnd.jupyter.widget-view+json": {
       "model_id": "315be5dfa5ce4a03a4cb7e3ddb990489",
       "version_major": 2,
       "version_minor": 0
      },
      "text/plain": [
       "Epoch   311:   0%|          | 0/12 [00:00<?, ?batch/s]"
      ]
     },
     "metadata": {},
     "output_type": "display_data"
    },
    {
     "name": "stdout",
     "output_type": "stream",
     "text": [
      "Test Accuracy: 57.95%\n"
     ]
    },
    {
     "data": {
      "application/vnd.jupyter.widget-view+json": {
       "model_id": "1d6b0813f9a747f190150f79f51d9793",
       "version_major": 2,
       "version_minor": 0
      },
      "text/plain": [
       "Epoch   312:   0%|          | 0/12 [00:00<?, ?batch/s]"
      ]
     },
     "metadata": {},
     "output_type": "display_data"
    },
    {
     "name": "stdout",
     "output_type": "stream",
     "text": [
      "Test Accuracy: 57.99%\n"
     ]
    },
    {
     "data": {
      "application/vnd.jupyter.widget-view+json": {
       "model_id": "a85c7e6be43d43aca4f410987879a4a2",
       "version_major": 2,
       "version_minor": 0
      },
      "text/plain": [
       "Epoch   313:   0%|          | 0/12 [00:00<?, ?batch/s]"
      ]
     },
     "metadata": {},
     "output_type": "display_data"
    },
    {
     "name": "stdout",
     "output_type": "stream",
     "text": [
      "Test Accuracy: 58.04%\n"
     ]
    },
    {
     "data": {
      "application/vnd.jupyter.widget-view+json": {
       "model_id": "d78ee7a527ff487faa4f28fc2181468c",
       "version_major": 2,
       "version_minor": 0
      },
      "text/plain": [
       "Epoch   314:   0%|          | 0/12 [00:00<?, ?batch/s]"
      ]
     },
     "metadata": {},
     "output_type": "display_data"
    },
    {
     "name": "stdout",
     "output_type": "stream",
     "text": [
      "Test Accuracy: 58.13%\n"
     ]
    },
    {
     "data": {
      "application/vnd.jupyter.widget-view+json": {
       "model_id": "40a5c8ef746c4fb98dc8e664c6ebe7d3",
       "version_major": 2,
       "version_minor": 0
      },
      "text/plain": [
       "Epoch   315:   0%|          | 0/12 [00:00<?, ?batch/s]"
      ]
     },
     "metadata": {},
     "output_type": "display_data"
    },
    {
     "name": "stdout",
     "output_type": "stream",
     "text": [
      "Test Accuracy: 58.05%\n"
     ]
    },
    {
     "data": {
      "application/vnd.jupyter.widget-view+json": {
       "model_id": "3d9caaa2c3164cdcbbee7c2d00bec2ff",
       "version_major": 2,
       "version_minor": 0
      },
      "text/plain": [
       "Epoch   316:   0%|          | 0/12 [00:00<?, ?batch/s]"
      ]
     },
     "metadata": {},
     "output_type": "display_data"
    },
    {
     "name": "stdout",
     "output_type": "stream",
     "text": [
      "Test Accuracy: 57.96%\n"
     ]
    },
    {
     "data": {
      "application/vnd.jupyter.widget-view+json": {
       "model_id": "6d4172f143774acb907d465a23988cc3",
       "version_major": 2,
       "version_minor": 0
      },
      "text/plain": [
       "Epoch   317:   0%|          | 0/12 [00:00<?, ?batch/s]"
      ]
     },
     "metadata": {},
     "output_type": "display_data"
    },
    {
     "name": "stdout",
     "output_type": "stream",
     "text": [
      "Test Accuracy: 57.95%\n"
     ]
    },
    {
     "data": {
      "application/vnd.jupyter.widget-view+json": {
       "model_id": "9fea2d4dc4cb486e9a3885a857b10fdb",
       "version_major": 2,
       "version_minor": 0
      },
      "text/plain": [
       "Epoch   318:   0%|          | 0/12 [00:00<?, ?batch/s]"
      ]
     },
     "metadata": {},
     "output_type": "display_data"
    },
    {
     "name": "stdout",
     "output_type": "stream",
     "text": [
      "Test Accuracy: 57.73%\n"
     ]
    },
    {
     "data": {
      "application/vnd.jupyter.widget-view+json": {
       "model_id": "874bdf41721243fd864151bab845fd31",
       "version_major": 2,
       "version_minor": 0
      },
      "text/plain": [
       "Epoch   319:   0%|          | 0/12 [00:00<?, ?batch/s]"
      ]
     },
     "metadata": {},
     "output_type": "display_data"
    },
    {
     "name": "stdout",
     "output_type": "stream",
     "text": [
      "Test Accuracy: 57.86%\n"
     ]
    },
    {
     "data": {
      "application/vnd.jupyter.widget-view+json": {
       "model_id": "4d4d519f5460422e9680913d77eef40d",
       "version_major": 2,
       "version_minor": 0
      },
      "text/plain": [
       "Epoch   320:   0%|          | 0/12 [00:00<?, ?batch/s]"
      ]
     },
     "metadata": {},
     "output_type": "display_data"
    },
    {
     "name": "stdout",
     "output_type": "stream",
     "text": [
      "Test Accuracy: 57.76%\n"
     ]
    },
    {
     "data": {
      "application/vnd.jupyter.widget-view+json": {
       "model_id": "52db83938f59475bac4873050d852d93",
       "version_major": 2,
       "version_minor": 0
      },
      "text/plain": [
       "Epoch   321:   0%|          | 0/12 [00:00<?, ?batch/s]"
      ]
     },
     "metadata": {},
     "output_type": "display_data"
    },
    {
     "name": "stdout",
     "output_type": "stream",
     "text": [
      "Test Accuracy: 57.67%\n"
     ]
    },
    {
     "data": {
      "application/vnd.jupyter.widget-view+json": {
       "model_id": "d12c79c665da4b5d89fefb13b6742d61",
       "version_major": 2,
       "version_minor": 0
      },
      "text/plain": [
       "Epoch   322:   0%|          | 0/12 [00:00<?, ?batch/s]"
      ]
     },
     "metadata": {},
     "output_type": "display_data"
    },
    {
     "name": "stdout",
     "output_type": "stream",
     "text": [
      "Test Accuracy: 57.72%\n"
     ]
    },
    {
     "data": {
      "application/vnd.jupyter.widget-view+json": {
       "model_id": "12b31e84bd6c436ea9ce515d367f3dcd",
       "version_major": 2,
       "version_minor": 0
      },
      "text/plain": [
       "Epoch   323:   0%|          | 0/12 [00:00<?, ?batch/s]"
      ]
     },
     "metadata": {},
     "output_type": "display_data"
    },
    {
     "name": "stdout",
     "output_type": "stream",
     "text": [
      "Test Accuracy: 57.82%\n"
     ]
    },
    {
     "data": {
      "application/vnd.jupyter.widget-view+json": {
       "model_id": "94cec63b52fe401f8588f24cbadc4ec1",
       "version_major": 2,
       "version_minor": 0
      },
      "text/plain": [
       "Epoch   324:   0%|          | 0/12 [00:00<?, ?batch/s]"
      ]
     },
     "metadata": {},
     "output_type": "display_data"
    },
    {
     "name": "stdout",
     "output_type": "stream",
     "text": [
      "Test Accuracy: 58.14%\n"
     ]
    },
    {
     "data": {
      "application/vnd.jupyter.widget-view+json": {
       "model_id": "e35322a462314e84b6d809b446bd3ad3",
       "version_major": 2,
       "version_minor": 0
      },
      "text/plain": [
       "Epoch   325:   0%|          | 0/12 [00:00<?, ?batch/s]"
      ]
     },
     "metadata": {},
     "output_type": "display_data"
    },
    {
     "name": "stdout",
     "output_type": "stream",
     "text": [
      "Test Accuracy: 58.16%\n"
     ]
    },
    {
     "data": {
      "application/vnd.jupyter.widget-view+json": {
       "model_id": "ba787e13d3264be684ea3550074fcc8e",
       "version_major": 2,
       "version_minor": 0
      },
      "text/plain": [
       "Epoch   326:   0%|          | 0/12 [00:00<?, ?batch/s]"
      ]
     },
     "metadata": {},
     "output_type": "display_data"
    },
    {
     "name": "stdout",
     "output_type": "stream",
     "text": [
      "Test Accuracy: 58.09%\n"
     ]
    },
    {
     "data": {
      "application/vnd.jupyter.widget-view+json": {
       "model_id": "dda4d4f4a2db468e9a922abb7ca6eb58",
       "version_major": 2,
       "version_minor": 0
      },
      "text/plain": [
       "Epoch   327:   0%|          | 0/12 [00:00<?, ?batch/s]"
      ]
     },
     "metadata": {},
     "output_type": "display_data"
    },
    {
     "name": "stdout",
     "output_type": "stream",
     "text": [
      "Test Accuracy: 57.89%\n"
     ]
    },
    {
     "data": {
      "application/vnd.jupyter.widget-view+json": {
       "model_id": "bf1496bca8b045549646074d8fb346e5",
       "version_major": 2,
       "version_minor": 0
      },
      "text/plain": [
       "Epoch   328:   0%|          | 0/12 [00:00<?, ?batch/s]"
      ]
     },
     "metadata": {},
     "output_type": "display_data"
    },
    {
     "name": "stdout",
     "output_type": "stream",
     "text": [
      "Test Accuracy: 57.44%\n"
     ]
    },
    {
     "data": {
      "application/vnd.jupyter.widget-view+json": {
       "model_id": "28b6fb405d04485194f339c15fa437c8",
       "version_major": 2,
       "version_minor": 0
      },
      "text/plain": [
       "Epoch   329:   0%|          | 0/12 [00:00<?, ?batch/s]"
      ]
     },
     "metadata": {},
     "output_type": "display_data"
    },
    {
     "name": "stdout",
     "output_type": "stream",
     "text": [
      "Test Accuracy: 57.38%\n"
     ]
    },
    {
     "data": {
      "application/vnd.jupyter.widget-view+json": {
       "model_id": "d089a007fd844577b2b6bd4ca98b112e",
       "version_major": 2,
       "version_minor": 0
      },
      "text/plain": [
       "Epoch   330:   0%|          | 0/12 [00:00<?, ?batch/s]"
      ]
     },
     "metadata": {},
     "output_type": "display_data"
    },
    {
     "name": "stdout",
     "output_type": "stream",
     "text": [
      "Test Accuracy: 57.97%\n"
     ]
    },
    {
     "data": {
      "application/vnd.jupyter.widget-view+json": {
       "model_id": "7aca351dcaf1481189611184a99e01d4",
       "version_major": 2,
       "version_minor": 0
      },
      "text/plain": [
       "Epoch   331:   0%|          | 0/12 [00:00<?, ?batch/s]"
      ]
     },
     "metadata": {},
     "output_type": "display_data"
    },
    {
     "name": "stdout",
     "output_type": "stream",
     "text": [
      "Test Accuracy: 58.39%\n"
     ]
    },
    {
     "data": {
      "application/vnd.jupyter.widget-view+json": {
       "model_id": "e647f25549aa491c9f0a896f67697de6",
       "version_major": 2,
       "version_minor": 0
      },
      "text/plain": [
       "Epoch   332:   0%|          | 0/12 [00:00<?, ?batch/s]"
      ]
     },
     "metadata": {},
     "output_type": "display_data"
    },
    {
     "name": "stdout",
     "output_type": "stream",
     "text": [
      "Test Accuracy: 58.38%\n"
     ]
    },
    {
     "data": {
      "application/vnd.jupyter.widget-view+json": {
       "model_id": "ecaef9f3f8c44677a62c48132b482380",
       "version_major": 2,
       "version_minor": 0
      },
      "text/plain": [
       "Epoch   333:   0%|          | 0/12 [00:00<?, ?batch/s]"
      ]
     },
     "metadata": {},
     "output_type": "display_data"
    },
    {
     "name": "stdout",
     "output_type": "stream",
     "text": [
      "Test Accuracy: 58.39%\n"
     ]
    },
    {
     "data": {
      "application/vnd.jupyter.widget-view+json": {
       "model_id": "19f6110773b64f098dfe05e6fcc8ba94",
       "version_major": 2,
       "version_minor": 0
      },
      "text/plain": [
       "Epoch   334:   0%|          | 0/12 [00:00<?, ?batch/s]"
      ]
     },
     "metadata": {},
     "output_type": "display_data"
    },
    {
     "name": "stdout",
     "output_type": "stream",
     "text": [
      "Test Accuracy: 57.71%\n"
     ]
    },
    {
     "data": {
      "application/vnd.jupyter.widget-view+json": {
       "model_id": "a3528209dffe493fae87627133c0ad3b",
       "version_major": 2,
       "version_minor": 0
      },
      "text/plain": [
       "Epoch   335:   0%|          | 0/12 [00:00<?, ?batch/s]"
      ]
     },
     "metadata": {},
     "output_type": "display_data"
    },
    {
     "name": "stdout",
     "output_type": "stream",
     "text": [
      "Test Accuracy: 57.14%\n"
     ]
    },
    {
     "data": {
      "application/vnd.jupyter.widget-view+json": {
       "model_id": "f1fb97fbed344b6d8afd0514f122c46c",
       "version_major": 2,
       "version_minor": 0
      },
      "text/plain": [
       "Epoch   336:   0%|          | 0/12 [00:00<?, ?batch/s]"
      ]
     },
     "metadata": {},
     "output_type": "display_data"
    },
    {
     "name": "stdout",
     "output_type": "stream",
     "text": [
      "Test Accuracy: 57.33%\n"
     ]
    },
    {
     "data": {
      "application/vnd.jupyter.widget-view+json": {
       "model_id": "6918ec26cd2c4171889efe5ad5eadff6",
       "version_major": 2,
       "version_minor": 0
      },
      "text/plain": [
       "Epoch   337:   0%|          | 0/12 [00:00<?, ?batch/s]"
      ]
     },
     "metadata": {},
     "output_type": "display_data"
    },
    {
     "name": "stdout",
     "output_type": "stream",
     "text": [
      "Test Accuracy: 57.09%\n"
     ]
    },
    {
     "data": {
      "application/vnd.jupyter.widget-view+json": {
       "model_id": "2ed356d4dcb74b348d42ba50007ec276",
       "version_major": 2,
       "version_minor": 0
      },
      "text/plain": [
       "Epoch   338:   0%|          | 0/12 [00:00<?, ?batch/s]"
      ]
     },
     "metadata": {},
     "output_type": "display_data"
    },
    {
     "name": "stdout",
     "output_type": "stream",
     "text": [
      "Test Accuracy: 57.73%\n"
     ]
    },
    {
     "data": {
      "application/vnd.jupyter.widget-view+json": {
       "model_id": "e1dbf8da093c4e4bafaf303b508ff3cb",
       "version_major": 2,
       "version_minor": 0
      },
      "text/plain": [
       "Epoch   339:   0%|          | 0/12 [00:00<?, ?batch/s]"
      ]
     },
     "metadata": {},
     "output_type": "display_data"
    },
    {
     "name": "stdout",
     "output_type": "stream",
     "text": [
      "Test Accuracy: 57.81%\n"
     ]
    },
    {
     "data": {
      "application/vnd.jupyter.widget-view+json": {
       "model_id": "df11e8e1d2924db0aca3f26515742018",
       "version_major": 2,
       "version_minor": 0
      },
      "text/plain": [
       "Epoch   340:   0%|          | 0/12 [00:00<?, ?batch/s]"
      ]
     },
     "metadata": {},
     "output_type": "display_data"
    },
    {
     "name": "stdout",
     "output_type": "stream",
     "text": [
      "Test Accuracy: 57.56%\n"
     ]
    },
    {
     "data": {
      "application/vnd.jupyter.widget-view+json": {
       "model_id": "9108a17efc0c41a789bfc1eb95893ec3",
       "version_major": 2,
       "version_minor": 0
      },
      "text/plain": [
       "Epoch   341:   0%|          | 0/12 [00:00<?, ?batch/s]"
      ]
     },
     "metadata": {},
     "output_type": "display_data"
    },
    {
     "name": "stdout",
     "output_type": "stream",
     "text": [
      "Test Accuracy: 56.89%\n"
     ]
    },
    {
     "data": {
      "application/vnd.jupyter.widget-view+json": {
       "model_id": "fa5e3321d34d4d08b78e29ab20a08b22",
       "version_major": 2,
       "version_minor": 0
      },
      "text/plain": [
       "Epoch   342:   0%|          | 0/12 [00:00<?, ?batch/s]"
      ]
     },
     "metadata": {},
     "output_type": "display_data"
    },
    {
     "name": "stdout",
     "output_type": "stream",
     "text": [
      "Test Accuracy: 57.33%\n"
     ]
    },
    {
     "data": {
      "application/vnd.jupyter.widget-view+json": {
       "model_id": "2b6cd90168c0430080c845499db91081",
       "version_major": 2,
       "version_minor": 0
      },
      "text/plain": [
       "Epoch   343:   0%|          | 0/12 [00:00<?, ?batch/s]"
      ]
     },
     "metadata": {},
     "output_type": "display_data"
    },
    {
     "name": "stdout",
     "output_type": "stream",
     "text": [
      "Test Accuracy: 56.25%\n"
     ]
    },
    {
     "data": {
      "application/vnd.jupyter.widget-view+json": {
       "model_id": "fedadd4bdb0c4f79a175300cd401fa16",
       "version_major": 2,
       "version_minor": 0
      },
      "text/plain": [
       "Epoch   344:   0%|          | 0/12 [00:00<?, ?batch/s]"
      ]
     },
     "metadata": {},
     "output_type": "display_data"
    },
    {
     "name": "stdout",
     "output_type": "stream",
     "text": [
      "Test Accuracy: 56.13%\n"
     ]
    },
    {
     "data": {
      "application/vnd.jupyter.widget-view+json": {
       "model_id": "aba58549eed34f429aef7f90fa14962d",
       "version_major": 2,
       "version_minor": 0
      },
      "text/plain": [
       "Epoch   345:   0%|          | 0/12 [00:00<?, ?batch/s]"
      ]
     },
     "metadata": {},
     "output_type": "display_data"
    },
    {
     "name": "stdout",
     "output_type": "stream",
     "text": [
      "Test Accuracy: 56.29%\n"
     ]
    },
    {
     "data": {
      "application/vnd.jupyter.widget-view+json": {
       "model_id": "1f3a8efe4b6541319a93954b89f8f15a",
       "version_major": 2,
       "version_minor": 0
      },
      "text/plain": [
       "Epoch   346:   0%|          | 0/12 [00:00<?, ?batch/s]"
      ]
     },
     "metadata": {},
     "output_type": "display_data"
    },
    {
     "name": "stdout",
     "output_type": "stream",
     "text": [
      "Test Accuracy: 56.67%\n"
     ]
    },
    {
     "data": {
      "application/vnd.jupyter.widget-view+json": {
       "model_id": "c3a47760a9bf4828aa29d7d849873b4a",
       "version_major": 2,
       "version_minor": 0
      },
      "text/plain": [
       "Epoch   347:   0%|          | 0/12 [00:00<?, ?batch/s]"
      ]
     },
     "metadata": {},
     "output_type": "display_data"
    },
    {
     "name": "stdout",
     "output_type": "stream",
     "text": [
      "Test Accuracy: 56.68%\n"
     ]
    },
    {
     "data": {
      "application/vnd.jupyter.widget-view+json": {
       "model_id": "ff34a741f4084557bdbabfb86a6155d3",
       "version_major": 2,
       "version_minor": 0
      },
      "text/plain": [
       "Epoch   348:   0%|          | 0/12 [00:00<?, ?batch/s]"
      ]
     },
     "metadata": {},
     "output_type": "display_data"
    },
    {
     "name": "stdout",
     "output_type": "stream",
     "text": [
      "Test Accuracy: 56.66%\n"
     ]
    },
    {
     "data": {
      "application/vnd.jupyter.widget-view+json": {
       "model_id": "0f50429887d84e10b5a96e867230bded",
       "version_major": 2,
       "version_minor": 0
      },
      "text/plain": [
       "Epoch   349:   0%|          | 0/12 [00:00<?, ?batch/s]"
      ]
     },
     "metadata": {},
     "output_type": "display_data"
    },
    {
     "name": "stdout",
     "output_type": "stream",
     "text": [
      "Test Accuracy: 57.53%\n"
     ]
    },
    {
     "data": {
      "application/vnd.jupyter.widget-view+json": {
       "model_id": "7643242ee1c34e19b556412795e70836",
       "version_major": 2,
       "version_minor": 0
      },
      "text/plain": [
       "Epoch   350:   0%|          | 0/12 [00:00<?, ?batch/s]"
      ]
     },
     "metadata": {},
     "output_type": "display_data"
    },
    {
     "name": "stdout",
     "output_type": "stream",
     "text": [
      "Test Accuracy: 58.02%\n"
     ]
    },
    {
     "data": {
      "application/vnd.jupyter.widget-view+json": {
       "model_id": "8aec64fb42c647c3b23f2fdd00d25237",
       "version_major": 2,
       "version_minor": 0
      },
      "text/plain": [
       "Epoch   351:   0%|          | 0/12 [00:00<?, ?batch/s]"
      ]
     },
     "metadata": {},
     "output_type": "display_data"
    },
    {
     "name": "stdout",
     "output_type": "stream",
     "text": [
      "Test Accuracy: 57.77%\n"
     ]
    },
    {
     "data": {
      "application/vnd.jupyter.widget-view+json": {
       "model_id": "b6d34ba9fbcc4a24a81b60227efb54d9",
       "version_major": 2,
       "version_minor": 0
      },
      "text/plain": [
       "Epoch   352:   0%|          | 0/12 [00:00<?, ?batch/s]"
      ]
     },
     "metadata": {},
     "output_type": "display_data"
    },
    {
     "name": "stdout",
     "output_type": "stream",
     "text": [
      "Test Accuracy: 58.23%\n"
     ]
    },
    {
     "data": {
      "application/vnd.jupyter.widget-view+json": {
       "model_id": "06e72aecc3b34b8798338b900244156e",
       "version_major": 2,
       "version_minor": 0
      },
      "text/plain": [
       "Epoch   353:   0%|          | 0/12 [00:00<?, ?batch/s]"
      ]
     },
     "metadata": {},
     "output_type": "display_data"
    },
    {
     "name": "stdout",
     "output_type": "stream",
     "text": [
      "Test Accuracy: 57.97%\n"
     ]
    },
    {
     "data": {
      "application/vnd.jupyter.widget-view+json": {
       "model_id": "1bda4cb50b954d6dba20f7713b69fdbe",
       "version_major": 2,
       "version_minor": 0
      },
      "text/plain": [
       "Epoch   354:   0%|          | 0/12 [00:00<?, ?batch/s]"
      ]
     },
     "metadata": {},
     "output_type": "display_data"
    },
    {
     "name": "stdout",
     "output_type": "stream",
     "text": [
      "Test Accuracy: 57.81%\n"
     ]
    },
    {
     "data": {
      "application/vnd.jupyter.widget-view+json": {
       "model_id": "7e72577040a746eab105affd3244b52b",
       "version_major": 2,
       "version_minor": 0
      },
      "text/plain": [
       "Epoch   355:   0%|          | 0/12 [00:00<?, ?batch/s]"
      ]
     },
     "metadata": {},
     "output_type": "display_data"
    },
    {
     "name": "stdout",
     "output_type": "stream",
     "text": [
      "Test Accuracy: 57.72%\n"
     ]
    },
    {
     "data": {
      "application/vnd.jupyter.widget-view+json": {
       "model_id": "1c8f65f7ceeb4e58b1c07a5514aa2ace",
       "version_major": 2,
       "version_minor": 0
      },
      "text/plain": [
       "Epoch   356:   0%|          | 0/12 [00:00<?, ?batch/s]"
      ]
     },
     "metadata": {},
     "output_type": "display_data"
    },
    {
     "name": "stdout",
     "output_type": "stream",
     "text": [
      "Test Accuracy: 58.06%\n"
     ]
    },
    {
     "data": {
      "application/vnd.jupyter.widget-view+json": {
       "model_id": "9a569bcab5a24b82a8ce6aeb9bfbae1a",
       "version_major": 2,
       "version_minor": 0
      },
      "text/plain": [
       "Epoch   357:   0%|          | 0/12 [00:00<?, ?batch/s]"
      ]
     },
     "metadata": {},
     "output_type": "display_data"
    },
    {
     "name": "stdout",
     "output_type": "stream",
     "text": [
      "Test Accuracy: 57.99%\n"
     ]
    },
    {
     "data": {
      "application/vnd.jupyter.widget-view+json": {
       "model_id": "8ede942161b0424d9d8cb126b78aabc5",
       "version_major": 2,
       "version_minor": 0
      },
      "text/plain": [
       "Epoch   358:   0%|          | 0/12 [00:00<?, ?batch/s]"
      ]
     },
     "metadata": {},
     "output_type": "display_data"
    },
    {
     "name": "stdout",
     "output_type": "stream",
     "text": [
      "Test Accuracy: 56.9%\n"
     ]
    },
    {
     "data": {
      "application/vnd.jupyter.widget-view+json": {
       "model_id": "e39fff284cac45cba62b2d58be2363c0",
       "version_major": 2,
       "version_minor": 0
      },
      "text/plain": [
       "Epoch   359:   0%|          | 0/12 [00:00<?, ?batch/s]"
      ]
     },
     "metadata": {},
     "output_type": "display_data"
    },
    {
     "name": "stdout",
     "output_type": "stream",
     "text": [
      "Test Accuracy: 57.03%\n"
     ]
    },
    {
     "data": {
      "application/vnd.jupyter.widget-view+json": {
       "model_id": "dabb252346044f6b8d41d579ecfbf8f2",
       "version_major": 2,
       "version_minor": 0
      },
      "text/plain": [
       "Epoch   360:   0%|          | 0/12 [00:00<?, ?batch/s]"
      ]
     },
     "metadata": {},
     "output_type": "display_data"
    },
    {
     "name": "stdout",
     "output_type": "stream",
     "text": [
      "Test Accuracy: 57.13%\n"
     ]
    },
    {
     "data": {
      "application/vnd.jupyter.widget-view+json": {
       "model_id": "efba96cf7cec45148135466201de1a70",
       "version_major": 2,
       "version_minor": 0
      },
      "text/plain": [
       "Epoch   361:   0%|          | 0/12 [00:00<?, ?batch/s]"
      ]
     },
     "metadata": {},
     "output_type": "display_data"
    },
    {
     "name": "stdout",
     "output_type": "stream",
     "text": [
      "Test Accuracy: 56.37%\n"
     ]
    },
    {
     "data": {
      "application/vnd.jupyter.widget-view+json": {
       "model_id": "7e80109bebd84521a5f36eb6e16a5c1e",
       "version_major": 2,
       "version_minor": 0
      },
      "text/plain": [
       "Epoch   362:   0%|          | 0/12 [00:00<?, ?batch/s]"
      ]
     },
     "metadata": {},
     "output_type": "display_data"
    },
    {
     "name": "stdout",
     "output_type": "stream",
     "text": [
      "Test Accuracy: 57.53%\n"
     ]
    },
    {
     "data": {
      "application/vnd.jupyter.widget-view+json": {
       "model_id": "11db69d0ba1049448707edfe6ddfb521",
       "version_major": 2,
       "version_minor": 0
      },
      "text/plain": [
       "Epoch   363:   0%|          | 0/12 [00:00<?, ?batch/s]"
      ]
     },
     "metadata": {},
     "output_type": "display_data"
    },
    {
     "name": "stdout",
     "output_type": "stream",
     "text": [
      "Test Accuracy: 56.99%\n"
     ]
    },
    {
     "data": {
      "application/vnd.jupyter.widget-view+json": {
       "model_id": "e714aef141384350a5fe21d0ae210eee",
       "version_major": 2,
       "version_minor": 0
      },
      "text/plain": [
       "Epoch   364:   0%|          | 0/12 [00:00<?, ?batch/s]"
      ]
     },
     "metadata": {},
     "output_type": "display_data"
    },
    {
     "name": "stdout",
     "output_type": "stream",
     "text": [
      "Test Accuracy: 57.54%\n"
     ]
    },
    {
     "data": {
      "application/vnd.jupyter.widget-view+json": {
       "model_id": "783b19c60e0b496e82a63db0ebe5f340",
       "version_major": 2,
       "version_minor": 0
      },
      "text/plain": [
       "Epoch   365:   0%|          | 0/12 [00:00<?, ?batch/s]"
      ]
     },
     "metadata": {},
     "output_type": "display_data"
    },
    {
     "ename": "KeyboardInterrupt",
     "evalue": "",
     "output_type": "error",
     "traceback": [
      "\u001b[0;31m---------------------------------------------------------------------------\u001b[0m",
      "\u001b[0;31mKeyboardInterrupt\u001b[0m                         Traceback (most recent call last)",
      "Cell \u001b[0;32mIn[14], line 36\u001b[0m\n\u001b[1;32m     31\u001b[0m moving_avg_pred_unlabeled \u001b[39m=\u001b[39m \u001b[39m0\u001b[39m\n\u001b[1;32m     34\u001b[0m pbar \u001b[39m=\u001b[39m tqdm(\u001b[39mzip\u001b[39m(labeled_dataloader, unlabeled_dataloader), total\u001b[39m=\u001b[39m\u001b[39mmin\u001b[39m(\u001b[39mlen\u001b[39m(labeled_dataloader), \u001b[39mlen\u001b[39m(unlabeled_dataloader)), unit\u001b[39m=\u001b[39m\u001b[39m\"\u001b[39m\u001b[39mbatch\u001b[39m\u001b[39m\"\u001b[39m, desc\u001b[39m=\u001b[39m\u001b[39mf\u001b[39m\u001b[39m\"\u001b[39m\u001b[39mEpoch \u001b[39m\u001b[39m{\u001b[39;00mj\u001b[39m:\u001b[39;00m\u001b[39m >5\u001b[39m\u001b[39m}\u001b[39;00m\u001b[39m\"\u001b[39m)\n\u001b[0;32m---> 36\u001b[0m \u001b[39mfor\u001b[39;00m i, (labeled_data, unlabeled_data) \u001b[39min\u001b[39;00m \u001b[39menumerate\u001b[39m(pbar):\n\u001b[1;32m     37\u001b[0m     \u001b[39m# Get labeled and unlabeled data\u001b[39;00m\n\u001b[1;32m     38\u001b[0m     labeled_inputs, labels \u001b[39m=\u001b[39m labeled_data[\u001b[39m0\u001b[39m]\u001b[39m.\u001b[39mto(device), labeled_data[\u001b[39m1\u001b[39m]\u001b[39m.\u001b[39mto(device)\n\u001b[1;32m     39\u001b[0m     unlabeled_inputs, unlabeled_labels \u001b[39m=\u001b[39m unlabeled_data[\u001b[39m0\u001b[39m]\u001b[39m.\u001b[39mto(device), unlabeled_data[\u001b[39m1\u001b[39m]\u001b[39m.\u001b[39mto(device)\n",
      "File \u001b[0;32m/usr/local/lib/python3.10/dist-packages/tqdm/notebook.py:254\u001b[0m, in \u001b[0;36mtqdm_notebook.__iter__\u001b[0;34m(self)\u001b[0m\n\u001b[1;32m    252\u001b[0m \u001b[39mtry\u001b[39;00m:\n\u001b[1;32m    253\u001b[0m     it \u001b[39m=\u001b[39m \u001b[39msuper\u001b[39m(tqdm_notebook, \u001b[39mself\u001b[39m)\u001b[39m.\u001b[39m\u001b[39m__iter__\u001b[39m()\n\u001b[0;32m--> 254\u001b[0m     \u001b[39mfor\u001b[39;00m obj \u001b[39min\u001b[39;00m it:\n\u001b[1;32m    255\u001b[0m         \u001b[39m# return super(tqdm...) will not catch exception\u001b[39;00m\n\u001b[1;32m    256\u001b[0m         \u001b[39myield\u001b[39;00m obj\n\u001b[1;32m    257\u001b[0m \u001b[39m# NB: except ... [ as ...] breaks IPython async KeyboardInterrupt\u001b[39;00m\n",
      "File \u001b[0;32m/usr/local/lib/python3.10/dist-packages/tqdm/std.py:1178\u001b[0m, in \u001b[0;36mtqdm.__iter__\u001b[0;34m(self)\u001b[0m\n\u001b[1;32m   1175\u001b[0m time \u001b[39m=\u001b[39m \u001b[39mself\u001b[39m\u001b[39m.\u001b[39m_time\n\u001b[1;32m   1177\u001b[0m \u001b[39mtry\u001b[39;00m:\n\u001b[0;32m-> 1178\u001b[0m     \u001b[39mfor\u001b[39;00m obj \u001b[39min\u001b[39;00m iterable:\n\u001b[1;32m   1179\u001b[0m         \u001b[39myield\u001b[39;00m obj\n\u001b[1;32m   1180\u001b[0m         \u001b[39m# Update and possibly print the progressbar.\u001b[39;00m\n\u001b[1;32m   1181\u001b[0m         \u001b[39m# Note: does not call self.update(1) for speed optimisation.\u001b[39;00m\n",
      "File \u001b[0;32m/usr/local/lib/python3.10/dist-packages/torch/utils/data/dataloader.py:633\u001b[0m, in \u001b[0;36m_BaseDataLoaderIter.__next__\u001b[0;34m(self)\u001b[0m\n\u001b[1;32m    630\u001b[0m \u001b[39mif\u001b[39;00m \u001b[39mself\u001b[39m\u001b[39m.\u001b[39m_sampler_iter \u001b[39mis\u001b[39;00m \u001b[39mNone\u001b[39;00m:\n\u001b[1;32m    631\u001b[0m     \u001b[39m# TODO(https://github.com/pytorch/pytorch/issues/76750)\u001b[39;00m\n\u001b[1;32m    632\u001b[0m     \u001b[39mself\u001b[39m\u001b[39m.\u001b[39m_reset()  \u001b[39m# type: ignore[call-arg]\u001b[39;00m\n\u001b[0;32m--> 633\u001b[0m data \u001b[39m=\u001b[39m \u001b[39mself\u001b[39;49m\u001b[39m.\u001b[39;49m_next_data()\n\u001b[1;32m    634\u001b[0m \u001b[39mself\u001b[39m\u001b[39m.\u001b[39m_num_yielded \u001b[39m+\u001b[39m\u001b[39m=\u001b[39m \u001b[39m1\u001b[39m\n\u001b[1;32m    635\u001b[0m \u001b[39mif\u001b[39;00m \u001b[39mself\u001b[39m\u001b[39m.\u001b[39m_dataset_kind \u001b[39m==\u001b[39m _DatasetKind\u001b[39m.\u001b[39mIterable \u001b[39mand\u001b[39;00m \\\n\u001b[1;32m    636\u001b[0m         \u001b[39mself\u001b[39m\u001b[39m.\u001b[39m_IterableDataset_len_called \u001b[39mis\u001b[39;00m \u001b[39mnot\u001b[39;00m \u001b[39mNone\u001b[39;00m \u001b[39mand\u001b[39;00m \\\n\u001b[1;32m    637\u001b[0m         \u001b[39mself\u001b[39m\u001b[39m.\u001b[39m_num_yielded \u001b[39m>\u001b[39m \u001b[39mself\u001b[39m\u001b[39m.\u001b[39m_IterableDataset_len_called:\n",
      "File \u001b[0;32m/usr/local/lib/python3.10/dist-packages/torch/utils/data/dataloader.py:677\u001b[0m, in \u001b[0;36m_SingleProcessDataLoaderIter._next_data\u001b[0;34m(self)\u001b[0m\n\u001b[1;32m    675\u001b[0m \u001b[39mdef\u001b[39;00m \u001b[39m_next_data\u001b[39m(\u001b[39mself\u001b[39m):\n\u001b[1;32m    676\u001b[0m     index \u001b[39m=\u001b[39m \u001b[39mself\u001b[39m\u001b[39m.\u001b[39m_next_index()  \u001b[39m# may raise StopIteration\u001b[39;00m\n\u001b[0;32m--> 677\u001b[0m     data \u001b[39m=\u001b[39m \u001b[39mself\u001b[39;49m\u001b[39m.\u001b[39;49m_dataset_fetcher\u001b[39m.\u001b[39;49mfetch(index)  \u001b[39m# may raise StopIteration\u001b[39;00m\n\u001b[1;32m    678\u001b[0m     \u001b[39mif\u001b[39;00m \u001b[39mself\u001b[39m\u001b[39m.\u001b[39m_pin_memory:\n\u001b[1;32m    679\u001b[0m         data \u001b[39m=\u001b[39m _utils\u001b[39m.\u001b[39mpin_memory\u001b[39m.\u001b[39mpin_memory(data, \u001b[39mself\u001b[39m\u001b[39m.\u001b[39m_pin_memory_device)\n",
      "File \u001b[0;32m/usr/local/lib/python3.10/dist-packages/torch/utils/data/_utils/fetch.py:51\u001b[0m, in \u001b[0;36m_MapDatasetFetcher.fetch\u001b[0;34m(self, possibly_batched_index)\u001b[0m\n\u001b[1;32m     49\u001b[0m         data \u001b[39m=\u001b[39m \u001b[39mself\u001b[39m\u001b[39m.\u001b[39mdataset\u001b[39m.\u001b[39m__getitems__(possibly_batched_index)\n\u001b[1;32m     50\u001b[0m     \u001b[39melse\u001b[39;00m:\n\u001b[0;32m---> 51\u001b[0m         data \u001b[39m=\u001b[39m [\u001b[39mself\u001b[39m\u001b[39m.\u001b[39mdataset[idx] \u001b[39mfor\u001b[39;00m idx \u001b[39min\u001b[39;00m possibly_batched_index]\n\u001b[1;32m     52\u001b[0m \u001b[39melse\u001b[39;00m:\n\u001b[1;32m     53\u001b[0m     data \u001b[39m=\u001b[39m \u001b[39mself\u001b[39m\u001b[39m.\u001b[39mdataset[possibly_batched_index]\n",
      "File \u001b[0;32m/usr/local/lib/python3.10/dist-packages/torch/utils/data/_utils/fetch.py:51\u001b[0m, in \u001b[0;36m<listcomp>\u001b[0;34m(.0)\u001b[0m\n\u001b[1;32m     49\u001b[0m         data \u001b[39m=\u001b[39m \u001b[39mself\u001b[39m\u001b[39m.\u001b[39mdataset\u001b[39m.\u001b[39m__getitems__(possibly_batched_index)\n\u001b[1;32m     50\u001b[0m     \u001b[39melse\u001b[39;00m:\n\u001b[0;32m---> 51\u001b[0m         data \u001b[39m=\u001b[39m [\u001b[39mself\u001b[39;49m\u001b[39m.\u001b[39;49mdataset[idx] \u001b[39mfor\u001b[39;00m idx \u001b[39min\u001b[39;00m possibly_batched_index]\n\u001b[1;32m     52\u001b[0m \u001b[39melse\u001b[39;00m:\n\u001b[1;32m     53\u001b[0m     data \u001b[39m=\u001b[39m \u001b[39mself\u001b[39m\u001b[39m.\u001b[39mdataset[possibly_batched_index]\n",
      "File \u001b[0;32m/usr/local/lib/python3.10/dist-packages/torch/utils/data/dataset.py:298\u001b[0m, in \u001b[0;36mSubset.__getitem__\u001b[0;34m(self, idx)\u001b[0m\n\u001b[1;32m    296\u001b[0m \u001b[39mif\u001b[39;00m \u001b[39misinstance\u001b[39m(idx, \u001b[39mlist\u001b[39m):\n\u001b[1;32m    297\u001b[0m     \u001b[39mreturn\u001b[39;00m \u001b[39mself\u001b[39m\u001b[39m.\u001b[39mdataset[[\u001b[39mself\u001b[39m\u001b[39m.\u001b[39mindices[i] \u001b[39mfor\u001b[39;00m i \u001b[39min\u001b[39;00m idx]]\n\u001b[0;32m--> 298\u001b[0m \u001b[39mreturn\u001b[39;00m \u001b[39mself\u001b[39;49m\u001b[39m.\u001b[39;49mdataset[\u001b[39mself\u001b[39;49m\u001b[39m.\u001b[39;49mindices[idx]]\n",
      "File \u001b[0;32m/usr/local/lib/python3.10/dist-packages/torchvision/datasets/cifar.py:118\u001b[0m, in \u001b[0;36mCIFAR10.__getitem__\u001b[0;34m(self, index)\u001b[0m\n\u001b[1;32m    115\u001b[0m img \u001b[39m=\u001b[39m Image\u001b[39m.\u001b[39mfromarray(img)\n\u001b[1;32m    117\u001b[0m \u001b[39mif\u001b[39;00m \u001b[39mself\u001b[39m\u001b[39m.\u001b[39mtransform \u001b[39mis\u001b[39;00m \u001b[39mnot\u001b[39;00m \u001b[39mNone\u001b[39;00m:\n\u001b[0;32m--> 118\u001b[0m     img \u001b[39m=\u001b[39m \u001b[39mself\u001b[39;49m\u001b[39m.\u001b[39;49mtransform(img)\n\u001b[1;32m    120\u001b[0m \u001b[39mif\u001b[39;00m \u001b[39mself\u001b[39m\u001b[39m.\u001b[39mtarget_transform \u001b[39mis\u001b[39;00m \u001b[39mnot\u001b[39;00m \u001b[39mNone\u001b[39;00m:\n\u001b[1;32m    121\u001b[0m     target \u001b[39m=\u001b[39m \u001b[39mself\u001b[39m\u001b[39m.\u001b[39mtarget_transform(target)\n",
      "File \u001b[0;32m/usr/local/lib/python3.10/dist-packages/torchvision/transforms/transforms.py:95\u001b[0m, in \u001b[0;36mCompose.__call__\u001b[0;34m(self, img)\u001b[0m\n\u001b[1;32m     93\u001b[0m \u001b[39mdef\u001b[39;00m \u001b[39m__call__\u001b[39m(\u001b[39mself\u001b[39m, img):\n\u001b[1;32m     94\u001b[0m     \u001b[39mfor\u001b[39;00m t \u001b[39min\u001b[39;00m \u001b[39mself\u001b[39m\u001b[39m.\u001b[39mtransforms:\n\u001b[0;32m---> 95\u001b[0m         img \u001b[39m=\u001b[39m t(img)\n\u001b[1;32m     96\u001b[0m     \u001b[39mreturn\u001b[39;00m img\n",
      "File \u001b[0;32m/usr/local/lib/python3.10/dist-packages/torchvision/transforms/transforms.py:137\u001b[0m, in \u001b[0;36mToTensor.__call__\u001b[0;34m(self, pic)\u001b[0m\n\u001b[1;32m    129\u001b[0m \u001b[39mdef\u001b[39;00m \u001b[39m__call__\u001b[39m(\u001b[39mself\u001b[39m, pic):\n\u001b[1;32m    130\u001b[0m \u001b[39m    \u001b[39m\u001b[39m\"\"\"\u001b[39;00m\n\u001b[1;32m    131\u001b[0m \u001b[39m    Args:\u001b[39;00m\n\u001b[1;32m    132\u001b[0m \u001b[39m        pic (PIL Image or numpy.ndarray): Image to be converted to tensor.\u001b[39;00m\n\u001b[0;32m   (...)\u001b[0m\n\u001b[1;32m    135\u001b[0m \u001b[39m        Tensor: Converted image.\u001b[39;00m\n\u001b[1;32m    136\u001b[0m \u001b[39m    \"\"\"\u001b[39;00m\n\u001b[0;32m--> 137\u001b[0m     \u001b[39mreturn\u001b[39;00m F\u001b[39m.\u001b[39;49mto_tensor(pic)\n",
      "File \u001b[0;32m/usr/local/lib/python3.10/dist-packages/torchvision/transforms/functional.py:166\u001b[0m, in \u001b[0;36mto_tensor\u001b[0;34m(pic)\u001b[0m\n\u001b[1;32m    164\u001b[0m \u001b[39m# handle PIL Image\u001b[39;00m\n\u001b[1;32m    165\u001b[0m mode_to_nptype \u001b[39m=\u001b[39m {\u001b[39m\"\u001b[39m\u001b[39mI\u001b[39m\u001b[39m\"\u001b[39m: np\u001b[39m.\u001b[39mint32, \u001b[39m\"\u001b[39m\u001b[39mI;16\u001b[39m\u001b[39m\"\u001b[39m: np\u001b[39m.\u001b[39mint16, \u001b[39m\"\u001b[39m\u001b[39mF\u001b[39m\u001b[39m\"\u001b[39m: np\u001b[39m.\u001b[39mfloat32}\n\u001b[0;32m--> 166\u001b[0m img \u001b[39m=\u001b[39m torch\u001b[39m.\u001b[39mfrom_numpy(np\u001b[39m.\u001b[39;49marray(pic, mode_to_nptype\u001b[39m.\u001b[39;49mget(pic\u001b[39m.\u001b[39;49mmode, np\u001b[39m.\u001b[39;49muint8), copy\u001b[39m=\u001b[39;49m\u001b[39mTrue\u001b[39;49;00m))\n\u001b[1;32m    168\u001b[0m \u001b[39mif\u001b[39;00m pic\u001b[39m.\u001b[39mmode \u001b[39m==\u001b[39m \u001b[39m\"\u001b[39m\u001b[39m1\u001b[39m\u001b[39m\"\u001b[39m:\n\u001b[1;32m    169\u001b[0m     img \u001b[39m=\u001b[39m \u001b[39m255\u001b[39m \u001b[39m*\u001b[39m img\n",
      "\u001b[0;31mKeyboardInterrupt\u001b[0m: "
     ]
    }
   ],
   "source": [
    "print(\"Start training\")\n",
    "\n",
    "current_prop = SUBSET_PROP\n",
    "target_prop = 0.05\n",
    "max_iter = 300\n",
    "j = 0\n",
    "\n",
    "# Define the cosine learning rate decay function\n",
    "# lr_lambda = lambda step: LR * torch.cos(torch.tensor((7 * torch.pi * (step)) / (16 * max_iter//3))) * 100 / 3\n",
    "\n",
    "# cosine annealing scheduler\n",
    "# lr_lambda = torch.optim.lr_scheduler.CosineAnnealingLR(optimizer, T_max=max_iter, eta_min=0, last_epoch=-1)\n",
    "\n",
    "# Create a learning rate scheduler with the cosine decay function\n",
    "# scheduler = torch.optim.lr_scheduler.LambdaLR(optimizer, lr_lambda=lr_lambda)\n",
    "scheduler = torch.optim.lr_scheduler.CosineAnnealingLR(optimizer, T_max=max_iter//2, eta_min=0, last_epoch=-1)\n",
    "\n",
    "\n",
    "train_losses = []\n",
    "test_losses = []\n",
    "added_samp = 0\n",
    "\n",
    "while j <= max_iter and current_prop <= target_prop:\n",
    "    model.train()\n",
    "    running_loss = 0.0\n",
    "    correct = 0\n",
    "    total = 0\n",
    "    running_n_unlabeled = 0\n",
    "    # max_confidence = 0\n",
    "    moving_avg_pred_labeled = 0\n",
    "    moving_avg_pred_unlabeled = 0\n",
    "\n",
    "\n",
    "    pbar = tqdm(zip(labeled_dataloader, unlabeled_dataloader), total=min(len(labeled_dataloader), len(unlabeled_dataloader)), unit=\"batch\", desc=f\"Epoch {j: >5}\")\n",
    "\n",
    "    for i, (labeled_data, unlabeled_data) in enumerate(pbar):\n",
    "        # Get labeled and unlabeled data\n",
    "        labeled_inputs, labels = labeled_data[0].to(device), labeled_data[1].to(device)\n",
    "        unlabeled_inputs, unlabeled_labels = unlabeled_data[0].to(device), unlabeled_data[1].to(device)\n",
    "        \n",
    "\n",
    "        # Zero the parameter gradients\n",
    "        optimizer.zero_grad()\n",
    "\n",
    "        # normalize labeled and unlabeled inputs\n",
    "        labeled_inputs_norm = normalize(data=labeled_inputs, mean=mean, std=std)\n",
    "        unlabeled_inputs_norm = normalize(data=unlabeled_inputs, mean=mean, std=std)\n",
    "\n",
    "        # Forward pass \n",
    "        labeled_outputs_norm = model(labeled_inputs_norm)\n",
    "        unlabeled_outputs_norm = model(unlabeled_inputs_norm)\n",
    "\n",
    "        # Compute moving average of labeled and unlabeled predictions\n",
    "        moving_avg_pred_labeled = (i * moving_avg_pred_labeled + labeled_outputs_norm.shape[0]) / (i + 1)\n",
    "        moving_avg_pred_unlabeled = (i * moving_avg_pred_unlabeled + unlabeled_outputs_norm.shape[0]) / (i + 1)\n",
    "\n",
    "        # ratio\n",
    "        ratio = moving_avg_pred_labeled / moving_avg_pred_unlabeled\n",
    "\n",
    "        # Apply weak augmentation to labeled data\n",
    "        weak_labeled_inputs = weak_transform(labeled_inputs)\n",
    "\n",
    "        # Apply strong augmentation + weak augmentation to unlabeled data\n",
    "        weak_unlabeled_inputs = weak_transform(unlabeled_inputs)\n",
    "        strong_unlabeled_inputs = strong_transform(unlabeled_inputs)\n",
    "\n",
    "        # normalize\n",
    "        weak_labeled_inputs = normalize(data=weak_labeled_inputs, mean=mean, std=std)\n",
    "        weak_unlabeled_inputs = normalize(data=weak_unlabeled_inputs, mean=mean, std=std)\n",
    "        strong_unlabeled_inputs = normalize(data=strong_unlabeled_inputs, mean=mean, std=std)\n",
    "\n",
    "        # prediction on weak augmented unlabeled data\n",
    "        qb = model(weak_unlabeled_inputs)\n",
    "        qb = torch.softmax(qb, dim=1)\n",
    "        qb_norm = qb * ratio\n",
    "\n",
    "        # normalize\n",
    "        qb_tilde = qb_norm / torch.sum(qb_norm, dim=1, keepdim=True)\n",
    "\n",
    "        # compute mask\n",
    "        max_qb_tilde, qb_tilde_hat = torch.max(qb_tilde, dim=1)\n",
    "        idx = max_qb_tilde > TAU\n",
    "\n",
    "        # pseudo labels\n",
    "        pseudo_labels = qb_tilde_hat[idx]\n",
    "\n",
    "        # mask strong augmented unlabeled data\n",
    "        strong_unlabeled_inputs = strong_unlabeled_inputs[idx]\n",
    "\n",
    "        n_labeled, n_unlabeled = weak_labeled_inputs.size(0), strong_unlabeled_inputs.size(0)\n",
    "\n",
    "        if n_unlabeled != 0:\n",
    "            # Concatenate labeled and unlabeled data\n",
    "            inputs_all = torch.cat((weak_labeled_inputs, strong_unlabeled_inputs))\n",
    "            labels_all = torch.cat((labels, pseudo_labels))\n",
    "\n",
    "            # forward pass\n",
    "            outputs = model(inputs_all)\n",
    "            # outputs = torch.softmax(outputs, dim=1)\n",
    "\n",
    "            # split labeled and unlabeled outputs\n",
    "            labeled_outputs, unlabeled_outputs = outputs[:n_labeled], outputs[n_labeled:]\n",
    "\n",
    "            # compute losses\n",
    "            labeled_loss = torch.sum(labeled_criterion(labeled_outputs, labels)) / BATCH_SIZE\n",
    "            unlabeled_loss = torch.sum(unlabeled_criterion(unlabeled_outputs, pseudo_labels)) / (MU * BATCH_SIZE)\n",
    "\n",
    "            # compute total loss\n",
    "            loss = labeled_loss + LAMBDA_U * unlabeled_loss\n",
    "\n",
    "            # compute accuracy\n",
    "            total += labels_all.size(0)\n",
    "            correct += (outputs.argmax(dim=1) == labels_all).sum().item()\n",
    "            \n",
    "        else:\n",
    "            # forward pass\n",
    "            labeled_outputs = model(weak_labeled_inputs)\n",
    "            # labeled_outputs = torch.softmax(labeled_outputs, dim=1)\n",
    "\n",
    "            # compute loss\n",
    "            labeled_loss = torch.sum(labeled_criterion(labeled_outputs, labels)) / BATCH_SIZE\n",
    "            unlabeled_loss = torch.tensor(0, device=device)\n",
    "\n",
    "            # compute total loss\n",
    "            loss = labeled_loss + LAMBDA_U * unlabeled_loss\n",
    "\n",
    "            # compute accuracy\n",
    "            total += labels.size(0)\n",
    "            correct += (labeled_outputs.argmax(dim=1) == labels).sum().item()\n",
    "\n",
    "\n",
    "        # backward pass + optimize\n",
    "        loss.backward()\n",
    "        optimizer.step()\n",
    "\n",
    "        \n",
    "        # update statistics\n",
    "        running_loss += loss.item()\n",
    "        running_n_unlabeled += n_unlabeled \n",
    "\n",
    "        # update progress bar\n",
    "        pbar.set_postfix({\n",
    "            \"labeled loss\": labeled_loss.item(),\n",
    "            \"unlabeled loss\": unlabeled_loss.item(),\n",
    "            \"accuracy\": 100 * correct / total,\n",
    "            \"avg confidence\": torch.mean(max_qb_tilde).item(),\n",
    "            \"n_unlabeled\": running_n_unlabeled,\n",
    "            \"current_prop\": current_prop,\n",
    "            \"lr\": optimizer.param_groups[0]['lr']\n",
    "        })\n",
    "\n",
    "    if j < max_iter and j%5 == 0 and current_prop < target_prop:\n",
    "        # compute information density\n",
    "        scores_density, idx_density = information_density(model, unlabeled_inputs, K_SAMPLES)\n",
    "\n",
    "        # add selected indices to labeled indices\n",
    "        labeled_indices = np.concatenate((labeled_indices, idx_density))\n",
    "\n",
    "        # unique\n",
    "        labeled_indices = np.unique(labeled_indices)\n",
    "\n",
    "        # create new dataset from labeled indices\n",
    "        trainset_sup = create_labeled_dataset_active_learning(trainset, labeled_indices)\n",
    "\n",
    "        # update dataloader\n",
    "        labeled_dataloader = torch.utils.data.DataLoader(trainset_sup, batch_size=BATCH_SIZE, shuffle=True, num_workers=0)\n",
    "\n",
    "        current_prop = len(trainset_sup) / len(trainset)\n",
    "\n",
    "        print(f'Information density: {scores_density.mean()}')\n",
    "        print(f'Density indices: {idx_density}')\n",
    "\n",
    "    # update loss\n",
    "    train_losses.append(running_loss / (i + 1))\n",
    "\n",
    "    # scheduler step\n",
    "    if scheduler is not None:\n",
    "        scheduler.step()\n",
    "\n",
    "    \n",
    "    # Evaluate the model on the test set\n",
    "    model.eval()  # Set the model to evaluation mode\n",
    "    test_correct = 0\n",
    "    test_total = 0\n",
    "\n",
    "    with torch.no_grad():\n",
    "        for data in testloader:\n",
    "            images, labels = data[0].to(device), data[1].to(device)\n",
    "            # normalize\n",
    "            images = normalize(data=images, mean=mean, std=std)\n",
    "            \n",
    "            outputs = model(images)\n",
    "            _, predicted = outputs.max(1)\n",
    "            test_total += labels.size(0)\n",
    "            test_correct += predicted.eq(labels).sum().item()\n",
    "        \n",
    "        test_accuracy = 100.0 * test_correct / test_total\n",
    "        print(f'Test Accuracy: {test_accuracy}%')\n",
    "\n",
    "        # update loss\n",
    "        test_losses.append(torch.sum(labeled_criterion(outputs, labels)).item() / BATCH_SIZE)\n",
    "\n",
    "    # increment iteration\n",
    "    j += 1"
   ]
  },
  {
   "cell_type": "code",
   "execution_count": 15,
   "metadata": {},
   "outputs": [
    {
     "data": {
      "text/plain": [
       "array([114,  49,  26,   9, 237,  70, 171, 127, 200, 236, 172,  89,  16,\n",
       "        37, 208, 243, 140, 119,  73,   8, 166, 203,  64, 207, 196, 108,\n",
       "       116,   0, 222,  38,  91,  74, 111,   4, 255, 205, 126,  18,  84,\n",
       "       194, 135, 132, 195,  63, 163,  62, 129, 157,  96,  68,  33,  79,\n",
       "       216, 248,  13, 101,  54, 238,  46, 245, 113, 229,  25, 155])"
      ]
     },
     "execution_count": 15,
     "metadata": {},
     "output_type": "execute_result"
    }
   ],
   "source": [
    "idx_density"
   ]
  },
  {
   "cell_type": "code",
   "execution_count": null,
   "metadata": {},
   "outputs": [],
   "source": []
  },
  {
   "cell_type": "code",
   "execution_count": null,
   "metadata": {},
   "outputs": [],
   "source": [
    "# plot losses\n",
    "plt.figure(figsize=(10, 7))\n",
    "plt.plot(train_losses, label='Training loss')\n",
    "plt.plot(test_losses, label='Validation loss')\n",
    "plt.title('Loss at the end of each epoch')\n",
    "plt.legend()\n",
    "plt.show()\n",
    "\n",
    "# plot confusion matrix\n",
    "model.eval()  # Set the model to evaluation mode\n",
    "test_correct = 0\n",
    "test_total = 0\n",
    "y_true = []\n",
    "y_pred = []\n",
    "\n",
    "with torch.no_grad():\n",
    "    for data in testloader:\n",
    "        images, labels = data[0].to(device), data[1].to(device)\n",
    "        # normalize\n",
    "        images = normalize(data=images, mean=mean, std=std)\n",
    "        \n",
    "        outputs = model(images)\n",
    "        _, predicted = outputs.max(1)\n",
    "        test_total += labels.size(0)\n",
    "        test_correct += predicted.eq(labels).sum().item()\n",
    "\n",
    "        y_true.append(labels.cpu().numpy())\n",
    "        y_pred.append(predicted.cpu().numpy())\n",
    "    \n",
    "    y_true = np.concatenate(y_true)\n",
    "    y_pred = np.concatenate(y_pred)\n",
    "\n",
    "    cm = confusion_matrix(y_true, y_pred, normalize='true')\n",
    "    disp = ConfusionMatrixDisplay(confusion_matrix=cm, display_labels=classes)\n",
    "    disp.plot()\n",
    "    plt.tight_layout()\n",
    "    plt.show()\n"
   ]
  },
  {
   "cell_type": "code",
   "execution_count": null,
   "metadata": {},
   "outputs": [],
   "source": [
    "# Evaluation on the test set\n",
    "model.eval()  # Set the model to evaluation mode\n",
    "test_correct = 0\n",
    "test_total = 0\n",
    "\n",
    "with torch.no_grad():\n",
    "    for data in testloader:\n",
    "        images, labels = data[0].to(device), data[1].to(device)\n",
    "        # normalize\n",
    "        images = normalize(data=images, mean=mean, std=std)\n",
    "        \n",
    "        outputs = model(images)\n",
    "        _, predicted = outputs.max(1)\n",
    "        test_total += labels.size(0)\n",
    "        test_correct += predicted.eq(labels).sum().item()\n",
    "\n",
    "test_accuracy = 100.0 * test_correct / test_total\n",
    "print(f'Test Accuracy: {test_accuracy}%')\n",
    "\n",
    "# save the model\n",
    "torch.save(model.state_dict(), f\"{torch_models}/model_10_fixmatch_AL.pth\")\n",
    "\n",
    "test_image, test_labels = testloader.__iter__().__next__()\n",
    "test_image = test_image.to(device)\n",
    "outputs_test = model(test_image)\n",
    "label_pred_test = outputs_test.argmax(dim=1)\n",
    "\n",
    "# descale the images\n",
    "test_image = test_image#  * torch.tensor(std, device=device).view(1, 3, 1, 1) + torch.tensor(mean, device=device).view(1, 3, 1, 1)\n",
    "\n",
    "fig1 = plot_images(test_image, test_labels, label_pred_test, classes, figure_name=f\"Test score with Fixmatch - {int(SUBSET_PROP*100)}% - {test_accuracy:.2f}% - Active Learning\")\n",
    "fig1.savefig(f\"./figures/test_score_{SUBSET_PROP}_fixmatch_AL.png\")"
   ]
  },
  {
   "attachments": {},
   "cell_type": "markdown",
   "metadata": {},
   "source": [
    "### III.2 Fixmatch on 5% train data"
   ]
  },
  {
   "cell_type": "code",
   "execution_count": null,
   "metadata": {},
   "outputs": [],
   "source": [
    "# Define your dataset and dataloaders for labeled and unlabeled data\n",
    "seedEverything()\n",
    "\n",
    "EPOCHS = 50\n",
    "SUBSET_PROP = 0.05\n",
    "\n",
    "# 10% labeled data and 100% unlabeled (see note 2 in paper)\n",
    "trainset_sup, _ = torch.utils.data.random_split(trainset, [SUBSET_PROP, 1-SUBSET_PROP])\n",
    "\n",
    "trainset_unsup, _ = torch.utils.data.random_split(trainset, [1, 0])\n",
    "\n",
    "labeled_dataloader = DataLoader(\n",
    "    trainset_sup,\n",
    "    batch_size=BATCH_SIZE,\n",
    "    shuffle=True,\n",
    "    num_workers=0\n",
    ")\n",
    "\n",
    "unlabeled_dataloader = DataLoader(\n",
    "    trainset_unsup,\n",
    "    batch_size=MU*BATCH_SIZE,\n",
    "    shuffle=True,\n",
    "    num_workers=0\n",
    ")\n",
    "\n",
    "# transformations\n",
    "weak_transform = K.ImageSequential(\n",
    "    K.RandomHorizontalFlip(p=0.50), \n",
    "    K.RandomAffine(degrees=0, translate=(0.125, 0.125)),\n",
    ")\n",
    "\n",
    "strong_transform = K.ImageSequential(\n",
    "    K.auto.RandAugment(n=2, m=10), # randaugment + cutout\n",
    ")\n",
    "\n",
    "def mask(model, weak_unlabeled_data):\n",
    "    with torch.no_grad():\n",
    "        model.train()\n",
    "\n",
    "        qb = model(weak_unlabeled_data)\n",
    "\n",
    "        # qb = logits.copy()\n",
    "        qb = torch.softmax(qb, dim=1)\n",
    "\n",
    "        max_qb, qb_hat = torch.max(qb, dim=1)\n",
    "\n",
    "        idx = max_qb > TAU\n",
    "        qb_hat = qb_hat[idx]\n",
    "\n",
    "    return qb_hat.detach(), idx, max_qb.detach()\n",
    "\n",
    "model = ConvNN().to(device)\n",
    "\n",
    "# criterion and optimizer\n",
    "labeled_criterion = nn.CrossEntropyLoss(reduction='none')\n",
    "unlabeled_criterion = nn.CrossEntropyLoss(reduction='none')\n",
    "\n",
    "optimizer = torch.optim.SGD(model.parameters(), lr=LR, momentum=BETA, weight_decay=WEIGHT_DECAY, nesterov=True)\n",
    "# scheduler = torch.optim.lr_scheduler.CosineAnnealingLR(optimizer, T_max=EPOCHS)\n",
    "\n",
    "\n",
    "# Define the cosine learning rate decay function\n",
    "lr_lambda = lambda step: LR * torch.cos(torch.tensor((7 * torch.pi * (step)) / (16 * EPOCHS))) * 100 / 3\n",
    "\n",
    "# Create a learning rate scheduler with the cosine decay function\n",
    "scheduler = torch.optim.lr_scheduler.LambdaLR(optimizer, lr_lambda=lr_lambda)\n",
    "\n",
    "# scheduler = None"
   ]
  },
  {
   "cell_type": "code",
   "execution_count": null,
   "metadata": {},
   "outputs": [],
   "source": [
    "print(\"Start training\")\n",
    "\n",
    "train_losses = []\n",
    "test_losses = []\n",
    "\n",
    "for epoch in range(EPOCHS):\n",
    "    model.train()\n",
    "    running_loss = 0.0\n",
    "    correct = 0\n",
    "    total = 0\n",
    "    running_n_unlabeled = 0\n",
    "    max_confidence = 0\n",
    "\n",
    "\n",
    "    pbar = tqdm(zip(labeled_dataloader, unlabeled_dataloader), total=min(len(labeled_dataloader), len(unlabeled_dataloader)), unit=\"batch\", desc=f\"Epoch {epoch: >5}\")\n",
    "\n",
    "    for i, (labeled_data, unlabeled_data) in enumerate(pbar):\n",
    "        # Get labeled and unlabeled data\n",
    "        labeled_inputs, labels = labeled_data[0].to(device), labeled_data[1].to(device)\n",
    "        unlabeled_inputs, _ = unlabeled_data[0].to(device), unlabeled_data[1].to(device)\n",
    "        \n",
    "        # Zero the parameter gradients\n",
    "        optimizer.zero_grad()\n",
    "\n",
    "        # Apply weak augmentation to labeled data\n",
    "        weak_labeled_inputs = weak_transform(labeled_inputs)\n",
    "\n",
    "        # Apply strong augmentation + weak augmentation to unlabeled data\n",
    "        weak_unlabeled_inputs = weak_transform(unlabeled_inputs)\n",
    "        strong_unlabeled_inputs = strong_transform(unlabeled_inputs)\n",
    "\n",
    "        # normalize\n",
    "        weak_labeled_inputs = normalize(data=weak_labeled_inputs, mean=mean, std=std)\n",
    "        weak_unlabeled_inputs = normalize(data=weak_unlabeled_inputs, mean=mean, std=std)\n",
    "        strong_unlabeled_inputs = normalize(data=strong_unlabeled_inputs, mean=mean, std=std)\n",
    "\n",
    "        # Compute mask, confidence\n",
    "        pseudo_labels, idx, max_qb = mask(model, weak_unlabeled_inputs)\n",
    "        strong_unlabeled_inputs = strong_unlabeled_inputs[idx]\n",
    "\n",
    "        n_labeled, n_unlabeled = weak_labeled_inputs.size(0), strong_unlabeled_inputs.size(0)\n",
    "\n",
    "        if n_unlabeled != 0:\n",
    "            # Concatenate labeled and unlabeled data\n",
    "            inputs_all = torch.cat((weak_labeled_inputs, strong_unlabeled_inputs))\n",
    "            labels_all = torch.cat((labels, pseudo_labels))\n",
    "\n",
    "            # forward pass\n",
    "            outputs = model(inputs_all)\n",
    "            # outputs = torch.softmax(outputs, dim=1)\n",
    "\n",
    "            # split labeled and unlabeled outputs\n",
    "            labeled_outputs, unlabeled_outputs = outputs[:n_labeled], outputs[n_labeled:]\n",
    "\n",
    "            # compute losses\n",
    "            labeled_loss = torch.sum(labeled_criterion(labeled_outputs, labels)) / BATCH_SIZE\n",
    "            unlabeled_loss = torch.sum(unlabeled_criterion(unlabeled_outputs, pseudo_labels)) / (MU * BATCH_SIZE)\n",
    "\n",
    "            # compute total loss\n",
    "            loss = labeled_loss + LAMBDA_U * unlabeled_loss\n",
    "\n",
    "            # compute accuracy\n",
    "            total += labels_all.size(0)\n",
    "            correct += (outputs.argmax(dim=1) == labels_all).sum().item()\n",
    "            \n",
    "        else:\n",
    "            # forward pass\n",
    "            labeled_outputs = model(weak_labeled_inputs)\n",
    "            # labeled_outputs = torch.softmax(labeled_outputs, dim=1)\n",
    "\n",
    "            # compute loss\n",
    "            labeled_loss = torch.sum(labeled_criterion(labeled_outputs, labels)) / BATCH_SIZE\n",
    "            unlabeled_loss = torch.tensor(0, device=device)\n",
    "\n",
    "            # compute total loss\n",
    "            loss = labeled_loss + LAMBDA_U * unlabeled_loss\n",
    "\n",
    "            # compute accuracy\n",
    "            total += labels.size(0)\n",
    "            correct += (labeled_outputs.argmax(dim=1) == labels).sum().item()\n",
    "\n",
    "\n",
    "        # backward pass + optimize\n",
    "        loss.backward()\n",
    "        optimizer.step()\n",
    "\n",
    "        \n",
    "\n",
    "        # update statistics\n",
    "        running_loss += loss.item()\n",
    "        running_n_unlabeled += n_unlabeled\n",
    "        max_confidence = max(max_confidence, max_qb.max().item())\n",
    "\n",
    "        \n",
    "\n",
    "        # update progress bar\n",
    "        pbar.set_postfix({\n",
    "            \"total loss\": loss.item(),\n",
    "            \"labeled loss\": labeled_loss.item(),\n",
    "            \"unlabeled loss\": unlabeled_loss.item(),\n",
    "            \"accuracy\": 100 * correct / total,\n",
    "            \"confidence\": max_confidence,\n",
    "            \"n_unlabeled\": running_n_unlabeled,\n",
    "            \"lr\": optimizer.param_groups[0]['lr'].item()\n",
    "        })\n",
    "\n",
    "    # update loss\n",
    "    train_losses.append(running_loss / (i + 1))\n",
    "\n",
    "    # scheduler step\n",
    "    if scheduler is not None:\n",
    "        scheduler.step()\n",
    "\n",
    "    \n",
    "    # Evaluate the model on the test set\n",
    "    model.eval()  # Set the model to evaluation mode\n",
    "    test_correct = 0\n",
    "    test_total = 0\n",
    "\n",
    "    with torch.no_grad():\n",
    "        for data in testloader:\n",
    "            images, labels = data[0].to(device), data[1].to(device)\n",
    "            # normalize\n",
    "            images = normalize(data=images, mean=mean, std=std)\n",
    "            \n",
    "            outputs = model(images)\n",
    "            _, predicted = outputs.max(1)\n",
    "            test_total += labels.size(0)\n",
    "            test_correct += predicted.eq(labels).sum().item()\n",
    "        \n",
    "        test_accuracy = 100.0 * test_correct / test_total\n",
    "        print(f'Test Accuracy: {test_accuracy}%')\n",
    "\n",
    "        # update loss\n",
    "        test_losses.append(torch.sum(labeled_criterion(outputs, labels)).item() / BATCH_SIZE)\n"
   ]
  },
  {
   "cell_type": "code",
   "execution_count": null,
   "metadata": {},
   "outputs": [],
   "source": [
    "# plot losses\n",
    "plt.figure(figsize=(10, 7))\n",
    "plt.plot(train_losses, label='Training loss')\n",
    "plt.plot(test_losses, label='Validation loss')\n",
    "plt.title('Loss at the end of each epoch')\n",
    "plt.legend()\n",
    "plt.show()\n",
    "\n",
    "# plot confusion matrix\n",
    "model.eval()  # Set the model to evaluation mode\n",
    "test_correct = 0\n",
    "test_total = 0\n",
    "y_true = []\n",
    "y_pred = []\n",
    "\n",
    "with torch.no_grad():\n",
    "    for data in testloader:\n",
    "        images, labels = data[0].to(device), data[1].to(device)\n",
    "        # normalize\n",
    "        images = normalize(data=images, mean=mean, std=std)\n",
    "        \n",
    "        outputs = model(images)\n",
    "        _, predicted = outputs.max(1)\n",
    "        test_total += labels.size(0)\n",
    "        test_correct += predicted.eq(labels).sum().item()\n",
    "\n",
    "        y_true.append(labels.cpu().numpy())\n",
    "        y_pred.append(predicted.cpu().numpy())\n",
    "    \n",
    "    y_true = np.concatenate(y_true)\n",
    "    y_pred = np.concatenate(y_pred)\n",
    "\n",
    "    cm = confusion_matrix(y_true, y_pred, normalize='true')\n",
    "    disp = ConfusionMatrixDisplay(confusion_matrix=cm, display_labels=classes)\n",
    "    disp.plot()\n",
    "    plt.tight_layout()\n",
    "    plt.show()\n"
   ]
  },
  {
   "cell_type": "code",
   "execution_count": null,
   "metadata": {},
   "outputs": [],
   "source": [
    "# Evaluation on the test set\n",
    "model.eval()  # Set the model to evaluation mode\n",
    "test_correct = 0\n",
    "test_total = 0\n",
    "\n",
    "with torch.no_grad():\n",
    "    for data in testloader:\n",
    "        images, labels = data[0].to(device), data[1].to(device)\n",
    "        # normalize\n",
    "        images = normalize(data=images, mean=mean, std=std)\n",
    "        \n",
    "        outputs = model(images)\n",
    "        _, predicted = outputs.max(1)\n",
    "        test_total += labels.size(0)\n",
    "        test_correct += predicted.eq(labels).sum().item()\n",
    "\n",
    "test_accuracy = 100.0 * test_correct / test_total\n",
    "print(f'Test Accuracy: {test_accuracy}%')\n",
    "\n",
    "# save the model\n",
    "torch.save(model.state_dict(), f\"{torch_models}/model_5_fixmatch.pth\")\n",
    "\n",
    "test_image, test_labels = testloader.__iter__().__next__()\n",
    "test_image = test_image.to(device)\n",
    "outputs_test = model(test_image)\n",
    "label_pred_test = outputs_test.argmax(dim=1)\n",
    "\n",
    "# descale the images\n",
    "test_image = test_image#  * torch.tensor(std, device=device).view(1, 3, 1, 1) + torch.tensor(mean, device=device).view(1, 3, 1, 1)\n",
    "\n",
    "fig1 = plot_images(test_image, test_labels, label_pred_test, classes, figure_name=f\"Test score with Fixmatch - {int(SUBSET_PROP*100)}% - {test_accuracy:.2f}%\")\n",
    "fig1.savefig(f\"./figures/test_score_{SUBSET_PROP}_fixmatch.png\")"
   ]
  },
  {
   "attachments": {},
   "cell_type": "markdown",
   "metadata": {},
   "source": [
    "### III.3 Fixmatch on 1% train data"
   ]
  },
  {
   "cell_type": "code",
   "execution_count": null,
   "metadata": {},
   "outputs": [],
   "source": [
    "# Define your dataset and dataloaders for labeled and unlabeled data\n",
    "seedEverything()\n",
    "\n",
    "EPOCHS = 50\n",
    "SUBSET_PROP = 0.01\n",
    "\n",
    "# 10% labeled data and 100% unlabeled (see note 2 in paper)\n",
    "trainset_sup, _ = torch.utils.data.random_split(trainset, [SUBSET_PROP, 1-SUBSET_PROP])\n",
    "\n",
    "trainset_unsup, _ = torch.utils.data.random_split(trainset, [1, 0])\n",
    "\n",
    "labeled_dataloader = DataLoader(\n",
    "    trainset_sup,\n",
    "    batch_size=BATCH_SIZE,\n",
    "    shuffle=True,\n",
    "    num_workers=0\n",
    ")\n",
    "\n",
    "unlabeled_dataloader = DataLoader(\n",
    "    trainset_unsup,\n",
    "    batch_size=MU*BATCH_SIZE,\n",
    "    shuffle=True,\n",
    "    num_workers=0\n",
    ")\n",
    "\n",
    "# transformations\n",
    "weak_transform = K.ImageSequential(\n",
    "    K.RandomHorizontalFlip(p=0.50), \n",
    "    K.RandomAffine(degrees=0, translate=(0.125, 0.125)),\n",
    ")\n",
    "\n",
    "strong_transform = K.ImageSequential(\n",
    "    K.auto.RandAugment(n=2, m=10), # randaugment + cutout\n",
    ")\n",
    "\n",
    "def mask(model, weak_unlabeled_data):\n",
    "    with torch.no_grad():\n",
    "        model.train()\n",
    "\n",
    "        qb = model(weak_unlabeled_data)\n",
    "\n",
    "        # qb = logits.copy()\n",
    "        qb = torch.softmax(qb, dim=1)\n",
    "\n",
    "        max_qb, qb_hat = torch.max(qb, dim=1)\n",
    "\n",
    "        idx = max_qb > TAU\n",
    "        qb_hat = qb_hat[idx]\n",
    "\n",
    "    return qb_hat.detach(), idx, max_qb.detach()\n",
    "\n",
    "model = ConvNN().to(device)\n",
    "\n",
    "# criterion and optimizer\n",
    "labeled_criterion = nn.CrossEntropyLoss(reduction='none')\n",
    "unlabeled_criterion = nn.CrossEntropyLoss(reduction='none')\n",
    "\n",
    "optimizer = torch.optim.SGD(model.parameters(), lr=LR, momentum=BETA, weight_decay=WEIGHT_DECAY, nesterov=True)\n",
    "# scheduler = torch.optim.lr_scheduler.CosineAnnealingLR(optimizer, T_max=EPOCHS)\n",
    "\n",
    "\n",
    "# Define the cosine learning rate decay function\n",
    "lr_lambda = lambda step: LR * torch.cos(torch.tensor((7 * torch.pi * (step)) / (16 * EPOCHS))) * 100 / 3\n",
    "\n",
    "# Create a learning rate scheduler with the cosine decay function\n",
    "scheduler = torch.optim.lr_scheduler.LambdaLR(optimizer, lr_lambda=lr_lambda)\n",
    "\n",
    "# scheduler = None"
   ]
  },
  {
   "cell_type": "code",
   "execution_count": null,
   "metadata": {},
   "outputs": [],
   "source": [
    "print(\"Start training\")\n",
    "\n",
    "train_losses = []\n",
    "test_losses = []\n",
    "\n",
    "for epoch in range(EPOCHS):\n",
    "    model.train()\n",
    "    running_loss = 0.0\n",
    "    correct = 0\n",
    "    total = 0\n",
    "    running_n_unlabeled = 0\n",
    "    max_confidence = 0\n",
    "\n",
    "\n",
    "    pbar = tqdm(zip(labeled_dataloader, unlabeled_dataloader), total=min(len(labeled_dataloader), len(unlabeled_dataloader)), unit=\"batch\", desc=f\"Epoch {epoch: >5}\")\n",
    "\n",
    "    for i, (labeled_data, unlabeled_data) in enumerate(pbar):\n",
    "        # Get labeled and unlabeled data\n",
    "        labeled_inputs, labels = labeled_data[0].to(device), labeled_data[1].to(device)\n",
    "        unlabeled_inputs, _ = unlabeled_data[0].to(device), unlabeled_data[1].to(device)\n",
    "        \n",
    "        # Zero the parameter gradients\n",
    "        optimizer.zero_grad()\n",
    "\n",
    "        # Apply weak augmentation to labeled data\n",
    "        weak_labeled_inputs = weak_transform(labeled_inputs)\n",
    "\n",
    "        # Apply strong augmentation + weak augmentation to unlabeled data\n",
    "        weak_unlabeled_inputs = weak_transform(unlabeled_inputs)\n",
    "        strong_unlabeled_inputs = strong_transform(unlabeled_inputs)\n",
    "\n",
    "        # normalize\n",
    "        weak_labeled_inputs = normalize(data=weak_labeled_inputs, mean=mean, std=std)\n",
    "        weak_unlabeled_inputs = normalize(data=weak_unlabeled_inputs, mean=mean, std=std)\n",
    "        strong_unlabeled_inputs = normalize(data=strong_unlabeled_inputs, mean=mean, std=std)\n",
    "\n",
    "        # Compute mask, confidence\n",
    "        pseudo_labels, idx, max_qb = mask(model, weak_unlabeled_inputs)\n",
    "        strong_unlabeled_inputs = strong_unlabeled_inputs[idx]\n",
    "\n",
    "        n_labeled, n_unlabeled = weak_labeled_inputs.size(0), strong_unlabeled_inputs.size(0)\n",
    "\n",
    "        if n_unlabeled != 0:\n",
    "            # Concatenate labeled and unlabeled data\n",
    "            inputs_all = torch.cat((weak_labeled_inputs, strong_unlabeled_inputs))\n",
    "            labels_all = torch.cat((labels, pseudo_labels))\n",
    "\n",
    "            # forward pass\n",
    "            outputs = model(inputs_all)\n",
    "            # outputs = torch.softmax(outputs, dim=1)\n",
    "\n",
    "            # split labeled and unlabeled outputs\n",
    "            labeled_outputs, unlabeled_outputs = outputs[:n_labeled], outputs[n_labeled:]\n",
    "\n",
    "            # compute losses\n",
    "            labeled_loss = torch.sum(labeled_criterion(labeled_outputs, labels)) / BATCH_SIZE\n",
    "            unlabeled_loss = torch.sum(unlabeled_criterion(unlabeled_outputs, pseudo_labels)) / (MU * BATCH_SIZE)\n",
    "\n",
    "            # compute total loss\n",
    "            loss = labeled_loss + LAMBDA_U * unlabeled_loss\n",
    "\n",
    "            # compute accuracy\n",
    "            total += labels_all.size(0)\n",
    "            correct += (outputs.argmax(dim=1) == labels_all).sum().item()\n",
    "            \n",
    "        else:\n",
    "            # forward pass\n",
    "            labeled_outputs = model(weak_labeled_inputs)\n",
    "            # labeled_outputs = torch.softmax(labeled_outputs, dim=1)\n",
    "\n",
    "            # compute loss\n",
    "            labeled_loss = torch.sum(labeled_criterion(labeled_outputs, labels)) / BATCH_SIZE\n",
    "            unlabeled_loss = torch.tensor(0, device=device)\n",
    "\n",
    "            # compute total loss\n",
    "            loss = labeled_loss + LAMBDA_U * unlabeled_loss\n",
    "\n",
    "            # compute accuracy\n",
    "            total += labels.size(0)\n",
    "            correct += (labeled_outputs.argmax(dim=1) == labels).sum().item()\n",
    "\n",
    "\n",
    "        # backward pass + optimize\n",
    "        loss.backward()\n",
    "        optimizer.step()\n",
    "\n",
    "        \n",
    "\n",
    "        # update statistics\n",
    "        running_loss += loss.item()\n",
    "        running_n_unlabeled += n_unlabeled\n",
    "        max_confidence = max(max_confidence, max_qb.max().item())\n",
    "\n",
    "        \n",
    "\n",
    "        # update progress bar\n",
    "        pbar.set_postfix({\n",
    "            \"total loss\": loss.item(),\n",
    "            \"labeled loss\": labeled_loss.item(),\n",
    "            \"unlabeled loss\": unlabeled_loss.item(),\n",
    "            \"accuracy\": 100 * correct / total,\n",
    "            \"confidence\": max_confidence,\n",
    "            \"n_unlabeled\": running_n_unlabeled,\n",
    "            \"lr\": optimizer.param_groups[0]['lr'].item()\n",
    "        })\n",
    "\n",
    "    # update loss\n",
    "    train_losses.append(running_loss / (i + 1))\n",
    "\n",
    "    # scheduler step\n",
    "    if scheduler is not None:\n",
    "        scheduler.step()\n",
    "\n",
    "    \n",
    "    # Evaluate the model on the test set\n",
    "    model.eval()  # Set the model to evaluation mode\n",
    "    test_correct = 0\n",
    "    test_total = 0\n",
    "\n",
    "    with torch.no_grad():\n",
    "        for data in testloader:\n",
    "            images, labels = data[0].to(device), data[1].to(device)\n",
    "            # normalize\n",
    "            images = normalize(data=images, mean=mean, std=std)\n",
    "            \n",
    "            outputs = model(images)\n",
    "            _, predicted = outputs.max(1)\n",
    "            test_total += labels.size(0)\n",
    "            test_correct += predicted.eq(labels).sum().item()\n",
    "        \n",
    "        test_accuracy = 100.0 * test_correct / test_total\n",
    "        print(f'Test Accuracy: {test_accuracy}%')\n",
    "\n",
    "        # update loss\n",
    "        test_losses.append(torch.sum(labeled_criterion(outputs, labels)).item() / BATCH_SIZE)\n"
   ]
  },
  {
   "cell_type": "code",
   "execution_count": null,
   "metadata": {},
   "outputs": [],
   "source": [
    "# plot losses\n",
    "plt.figure(figsize=(10, 7))\n",
    "plt.plot(train_losses, label='Training loss')\n",
    "plt.plot(test_losses, label='Validation loss')\n",
    "plt.title('Loss at the end of each epoch')\n",
    "plt.legend()\n",
    "plt.show()\n",
    "\n",
    "# plot confusion matrix\n",
    "model.eval()  # Set the model to evaluation mode\n",
    "test_correct = 0\n",
    "test_total = 0\n",
    "y_true = []\n",
    "y_pred = []\n",
    "\n",
    "with torch.no_grad():\n",
    "    for data in testloader:\n",
    "        images, labels = data[0].to(device), data[1].to(device)\n",
    "        # normalize\n",
    "        images = normalize(data=images, mean=mean, std=std)\n",
    "        \n",
    "        outputs = model(images)\n",
    "        _, predicted = outputs.max(1)\n",
    "        test_total += labels.size(0)\n",
    "        test_correct += predicted.eq(labels).sum().item()\n",
    "\n",
    "        y_true.append(labels.cpu().numpy())\n",
    "        y_pred.append(predicted.cpu().numpy())\n",
    "    \n",
    "    y_true = np.concatenate(y_true)\n",
    "    y_pred = np.concatenate(y_pred)\n",
    "\n",
    "    cm = confusion_matrix(y_true, y_pred, normalize='true')\n",
    "    disp = ConfusionMatrixDisplay(confusion_matrix=cm, display_labels=classes)\n",
    "    disp.plot()\n",
    "    plt.tight_layout()\n",
    "    plt.show()\n"
   ]
  },
  {
   "cell_type": "code",
   "execution_count": null,
   "metadata": {},
   "outputs": [],
   "source": [
    "# Evaluation on the test set\n",
    "model.eval()  # Set the model to evaluation mode\n",
    "test_correct = 0\n",
    "test_total = 0\n",
    "\n",
    "with torch.no_grad():\n",
    "    for data in testloader:\n",
    "        images, labels = data[0].to(device), data[1].to(device)\n",
    "        # normalize\n",
    "        images = normalize(data=images, mean=mean, std=std)\n",
    "        \n",
    "        outputs = model(images)\n",
    "        _, predicted = outputs.max(1)\n",
    "        test_total += labels.size(0)\n",
    "        test_correct += predicted.eq(labels).sum().item()\n",
    "\n",
    "test_accuracy = 100.0 * test_correct / test_total\n",
    "print(f'Test Accuracy: {test_accuracy}%')\n",
    "\n",
    "# save the model\n",
    "torch.save(model.state_dict(), f\"{torch_models}/model_1_fixmatch.pth\")\n",
    "\n",
    "test_image, test_labels = testloader.__iter__().__next__()\n",
    "test_image = test_image.to(device)\n",
    "outputs_test = model(test_image)\n",
    "label_pred_test = outputs_test.argmax(dim=1)\n",
    "\n",
    "# descale the images\n",
    "test_image = test_image#  * torch.tensor(std, device=device).view(1, 3, 1, 1) + torch.tensor(mean, device=device).view(1, 3, 1, 1)\n",
    "\n",
    "fig1 = plot_images(test_image, test_labels, label_pred_test, classes, figure_name=f\"Test score with Fixmatch - {int(SUBSET_PROP*100)}% - {test_accuracy:.2f}%\")\n",
    "fig1.savefig(f\"./figures/test_score_{SUBSET_PROP}_fixmatch.png\")"
   ]
  },
  {
   "cell_type": "code",
   "execution_count": null,
   "metadata": {},
   "outputs": [],
   "source": []
  },
  {
   "cell_type": "code",
   "execution_count": null,
   "metadata": {},
   "outputs": [],
   "source": []
  }
 ],
 "metadata": {
  "kernelspec": {
   "display_name": "Python 3",
   "language": "python",
   "name": "python3"
  },
  "language_info": {
   "codemirror_mode": {
    "name": "ipython",
    "version": 3
   },
   "file_extension": ".py",
   "mimetype": "text/x-python",
   "name": "python",
   "nbconvert_exporter": "python",
   "pygments_lexer": "ipython3",
   "version": "3.10.6"
  },
  "orig_nbformat": 4
 },
 "nbformat": 4,
 "nbformat_minor": 2
}
