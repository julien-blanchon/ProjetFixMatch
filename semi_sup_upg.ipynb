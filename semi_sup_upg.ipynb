{
 "cells": [
  {
   "attachments": {},
   "cell_type": "markdown",
   "metadata": {},
   "source": [
    "# Projet Fixmatch"
   ]
  },
  {
   "cell_type": "code",
   "execution_count": 15,
   "metadata": {},
   "outputs": [
    {
     "name": "stdout",
     "output_type": "stream",
     "text": [
      "Requirement already satisfied: torchview in /usr/local/lib/python3.10/dist-packages (0.2.6)\n",
      "Requirement already satisfied: torchsummary in /usr/local/lib/python3.10/dist-packages (1.5.1)\n",
      "Requirement already satisfied: torchvision in /usr/local/lib/python3.10/dist-packages (0.15.2+cu117)\n",
      "Requirement already satisfied: kornia in /usr/local/lib/python3.10/dist-packages (0.6.12)\n",
      "Requirement already satisfied: torchmetrics in /usr/local/lib/python3.10/dist-packages (0.11.4)\n",
      "Requirement already satisfied: matplotlib in /usr/local/lib/python3.10/dist-packages (3.7.1)\n",
      "Requirement already satisfied: tqdm in /usr/local/lib/python3.10/dist-packages (4.65.0)\n",
      "Requirement already satisfied: path in /usr/local/lib/python3.10/dist-packages (16.6.0)\n",
      "Requirement already satisfied: graphviz in /usr/local/lib/python3.10/dist-packages (0.20.1)\n",
      "Requirement already satisfied: opencv-python in /usr/local/lib/python3.10/dist-packages (4.7.0.72)\n",
      "Requirement already satisfied: scikit-learn in /usr/local/lib/python3.10/dist-packages (1.2.2)\n",
      "Requirement already satisfied: optuna in /usr/local/lib/python3.10/dist-packages (3.2.0)\n",
      "Requirement already satisfied: numpy in /usr/local/lib/python3.10/dist-packages (from torchvision) (1.24.1)\n",
      "Requirement already satisfied: requests in /usr/local/lib/python3.10/dist-packages (from torchvision) (2.28.1)\n",
      "Requirement already satisfied: torch==2.0.1 in /usr/local/lib/python3.10/dist-packages (from torchvision) (2.0.1+cu117)\n",
      "Requirement already satisfied: pillow!=8.3.*,>=5.3.0 in /usr/local/lib/python3.10/dist-packages (from torchvision) (9.3.0)\n",
      "Requirement already satisfied: filelock in /usr/local/lib/python3.10/dist-packages (from torch==2.0.1->torchvision) (3.9.0)\n",
      "Requirement already satisfied: typing-extensions in /usr/local/lib/python3.10/dist-packages (from torch==2.0.1->torchvision) (4.4.0)\n",
      "Requirement already satisfied: sympy in /usr/local/lib/python3.10/dist-packages (from torch==2.0.1->torchvision) (1.11.1)\n",
      "Requirement already satisfied: networkx in /usr/local/lib/python3.10/dist-packages (from torch==2.0.1->torchvision) (3.0)\n",
      "Requirement already satisfied: jinja2 in /usr/local/lib/python3.10/dist-packages (from torch==2.0.1->torchvision) (3.1.2)\n",
      "Requirement already satisfied: triton==2.0.0 in /usr/local/lib/python3.10/dist-packages (from torch==2.0.1->torchvision) (2.0.0)\n",
      "Requirement already satisfied: cmake in /usr/local/lib/python3.10/dist-packages (from triton==2.0.0->torch==2.0.1->torchvision) (3.25.0)\n",
      "Requirement already satisfied: lit in /usr/local/lib/python3.10/dist-packages (from triton==2.0.0->torch==2.0.1->torchvision) (15.0.7)\n",
      "Requirement already satisfied: packaging in /usr/local/lib/python3.10/dist-packages (from kornia) (23.1)\n",
      "Requirement already satisfied: contourpy>=1.0.1 in /usr/local/lib/python3.10/dist-packages (from matplotlib) (1.0.7)\n",
      "Requirement already satisfied: cycler>=0.10 in /usr/local/lib/python3.10/dist-packages (from matplotlib) (0.11.0)\n",
      "Requirement already satisfied: fonttools>=4.22.0 in /usr/local/lib/python3.10/dist-packages (from matplotlib) (4.40.0)\n",
      "Requirement already satisfied: kiwisolver>=1.0.1 in /usr/local/lib/python3.10/dist-packages (from matplotlib) (1.4.4)\n",
      "Requirement already satisfied: pyparsing>=2.3.1 in /usr/lib/python3/dist-packages (from matplotlib) (2.4.7)\n",
      "Requirement already satisfied: python-dateutil>=2.7 in /usr/local/lib/python3.10/dist-packages (from matplotlib) (2.8.2)\n",
      "Requirement already satisfied: scipy>=1.3.2 in /usr/local/lib/python3.10/dist-packages (from scikit-learn) (1.10.1)\n",
      "Requirement already satisfied: joblib>=1.1.1 in /usr/local/lib/python3.10/dist-packages (from scikit-learn) (1.2.0)\n",
      "Requirement already satisfied: threadpoolctl>=2.0.0 in /usr/local/lib/python3.10/dist-packages (from scikit-learn) (3.1.0)\n",
      "Requirement already satisfied: alembic>=1.5.0 in /usr/local/lib/python3.10/dist-packages (from optuna) (1.11.1)\n",
      "Requirement already satisfied: cmaes>=0.9.1 in /usr/local/lib/python3.10/dist-packages (from optuna) (0.9.1)\n",
      "Requirement already satisfied: colorlog in /usr/local/lib/python3.10/dist-packages (from optuna) (6.7.0)\n",
      "Requirement already satisfied: sqlalchemy>=1.3.0 in /usr/local/lib/python3.10/dist-packages (from optuna) (2.0.16)\n",
      "Requirement already satisfied: PyYAML in /usr/local/lib/python3.10/dist-packages (from optuna) (6.0)\n",
      "Requirement already satisfied: Mako in /usr/local/lib/python3.10/dist-packages (from alembic>=1.5.0->optuna) (1.2.4)\n",
      "Requirement already satisfied: six>=1.5 in /usr/lib/python3/dist-packages (from python-dateutil>=2.7->matplotlib) (1.16.0)\n",
      "Requirement already satisfied: greenlet!=0.4.17 in /usr/local/lib/python3.10/dist-packages (from sqlalchemy>=1.3.0->optuna) (2.0.2)\n",
      "Requirement already satisfied: charset-normalizer<3,>=2 in /usr/local/lib/python3.10/dist-packages (from requests->torchvision) (2.1.1)\n",
      "Requirement already satisfied: idna<4,>=2.5 in /usr/local/lib/python3.10/dist-packages (from requests->torchvision) (3.4)\n",
      "Requirement already satisfied: urllib3<1.27,>=1.21.1 in /usr/local/lib/python3.10/dist-packages (from requests->torchvision) (1.26.13)\n",
      "Requirement already satisfied: certifi>=2017.4.17 in /usr/local/lib/python3.10/dist-packages (from requests->torchvision) (2022.12.7)\n",
      "Requirement already satisfied: MarkupSafe>=2.0 in /usr/local/lib/python3.10/dist-packages (from jinja2->torch==2.0.1->torchvision) (2.1.2)\n",
      "Requirement already satisfied: mpmath>=0.19 in /usr/local/lib/python3.10/dist-packages (from sympy->torch==2.0.1->torchvision) (1.2.1)\n",
      "\u001b[33mWARNING: Running pip as the 'root' user can result in broken permissions and conflicting behaviour with the system package manager. It is recommended to use a virtual environment instead: https://pip.pypa.io/warnings/venv\u001b[0m\u001b[33m\n",
      "\u001b[0m"
     ]
    }
   ],
   "source": [
    "!pip install torchview torchsummary torchvision kornia torchmetrics matplotlib tqdm path graphviz opencv-python scikit-learn optuna"
   ]
  },
  {
   "cell_type": "code",
   "execution_count": 16,
   "metadata": {},
   "outputs": [
    {
     "name": "stdout",
     "output_type": "stream",
     "text": [
      "The autoreload extension is already loaded. To reload it, use:\n",
      "  %reload_ext autoreload\n"
     ]
    }
   ],
   "source": [
    "# deep learning\n",
    "import torch\n",
    "import torch.nn as nn\n",
    "from torch.distributions.transforms import LowerCholeskyTransform\n",
    "from torch.distributions.multivariate_normal import MultivariateNormal\n",
    "from torch.utils.data import DataLoader, Dataset\n",
    "\n",
    "# vizualisation\n",
    "import torchsummary\n",
    "\n",
    "# transforms\n",
    "import torchvision.transforms as T\n",
    "import kornia.augmentation as K\n",
    "from kornia.enhance import normalize\n",
    "from torchvision.transforms import RandAugment\n",
    "\n",
    "# metrics\n",
    "from torchmetrics import Accuracy\n",
    "\n",
    "# torchvision\n",
    "import torchvision\n",
    "import torchvision.transforms as transforms\n",
    "\n",
    "# plotting\n",
    "import matplotlib.pyplot as plt\n",
    "from torchview import draw_graph\n",
    "\n",
    "from IPython.display import display\n",
    "from IPython.core.display import SVG, HTML\n",
    "\n",
    "from tqdm.auto import tqdm\n",
    "\n",
    "# typing\n",
    "from typing import Callable\n",
    "\n",
    "from utils import plot_images, plot_transform\n",
    "from model import ConvNN, display_model\n",
    "\n",
    "# os\n",
    "import os\n",
    "import path\n",
    "\n",
    "import random\n",
    "import numpy as np \n",
    "\n",
    "# transformations\n",
    "# import transform as T\n",
    "# from randaugment import RandomAugment\n",
    "\n",
    "# typing\n",
    "from typing import Callable, List, Tuple\n",
    "\n",
    "from sklearn.metrics import confusion_matrix, ConfusionMatrixDisplay\n",
    "from sklearn.metrics.pairwise import cosine_similarity\n",
    "\n",
    "%load_ext autoreload\n",
    "%autoreload 2"
   ]
  },
  {
   "cell_type": "code",
   "execution_count": 17,
   "metadata": {},
   "outputs": [],
   "source": [
    "DEFAULT_RANDOM_SEED = 2021\n",
    "\n",
    "def seedBasic(seed=DEFAULT_RANDOM_SEED):\n",
    "    random.seed(seed)\n",
    "    os.environ['PYTHONHASHSEED'] = str(seed)\n",
    "    np.random.seed(seed)\n",
    "    \n",
    "# torch random seed\n",
    "import torch\n",
    "def seedTorch(seed=DEFAULT_RANDOM_SEED):\n",
    "    torch.manual_seed(seed)\n",
    "    torch.cuda.manual_seed(seed)\n",
    "    torch.backends.cudnn.deterministic = True\n",
    "    torch.backends.cudnn.benchmark = False\n",
    "      \n",
    "# basic + tensorflow + torch \n",
    "def seedEverything(seed=DEFAULT_RANDOM_SEED):\n",
    "    seedBasic(seed)\n",
    "    seedTorch(seed)"
   ]
  },
  {
   "cell_type": "code",
   "execution_count": 18,
   "metadata": {},
   "outputs": [
    {
     "name": "stdout",
     "output_type": "stream",
     "text": [
      "cuda\n"
     ]
    }
   ],
   "source": [
    "# Set device\n",
    "if ((int(torch.__version__.split(\".\")[0]) >= 2) or (int(torch.__version__.split(\".\")[1]) >= 13)) and torch.has_mps:\n",
    "    device = torch.device(\"mps\")\n",
    "elif torch.cuda.is_available():\n",
    "    device = torch.device(\"cuda\")\n",
    "else:\n",
    "    device = torch.device(\"cpu\")\n",
    "\n",
    "print(device)"
   ]
  },
  {
   "cell_type": "code",
   "execution_count": 19,
   "metadata": {},
   "outputs": [],
   "source": [
    "IMG_SHAPE = (3, 32, 32)\n",
    "# See Table 4\n",
    "TAU = 0.9 #! 0.95 in the paper\n",
    "LAMBDA_U = 3\n",
    "MU = 4\n",
    "BATCH_SIZE = 64\n",
    "LR = 0.03\n",
    "BETA = 0.9\n",
    "WEIGHT_DECAY = 0.001\n",
    "BETA_DENSITY = 1"
   ]
  },
  {
   "cell_type": "code",
   "execution_count": 20,
   "metadata": {},
   "outputs": [],
   "source": [
    "class ConvNN(nn.Module):\n",
    "    \"\"\"\n",
    "    Simple CNN for CIFAR10\n",
    "    \"\"\"\n",
    "    \n",
    "    def __init__(self):\n",
    "        super().__init__()\n",
    "        self.conv_32 = nn.Conv2d(3, 32, kernel_size=3, padding='same')\n",
    "        self.conv_64 = nn.Conv2d(32, 64, kernel_size=3, padding='same')\n",
    "        self.conv_96 = nn.Conv2d(64, 96, kernel_size=3, padding='same')\n",
    "        self.conv_128 = nn.Conv2d(96, 128, kernel_size=3, padding='same')\n",
    "        self.fc_512 = nn.Linear(512, 512)\n",
    "        self.fc_10 = nn.Linear(512, 10)\n",
    "        self.max_pool = nn.MaxPool2d(2)\n",
    "        self.relu = nn.ReLU(inplace=True)\n",
    "        self.flatten = nn.Flatten()\n",
    "        # self.softmax = nn.Softmax(dim=1)\n",
    "\n",
    "    def forward(self, x: torch.Tensor) -> torch.Tensor:\n",
    "        x = self.conv_32(x)\n",
    "        x = self.relu(x)\n",
    "        x = self.max_pool(x)\n",
    "\n",
    "        x = self.conv_64(x)\n",
    "        x = self.relu(x)\n",
    "        x = self.max_pool(x)\n",
    "\n",
    "        x = self.conv_96(x)\n",
    "        x = self.relu(x)\n",
    "        x = self.max_pool(x)\n",
    "\n",
    "        x = self.conv_128(x)\n",
    "        x = self.relu(x)\n",
    "        x = self.max_pool(x)\n",
    "\n",
    "        x = self.flatten(x)\n",
    "        x = self.fc_512(x)\n",
    "        x = self.relu(x)\n",
    "        x = self.fc_10(x)\n",
    "        # x = self.softmax(x)\n",
    "\n",
    "        return x"
   ]
  },
  {
   "cell_type": "code",
   "execution_count": 21,
   "metadata": {},
   "outputs": [
    {
     "name": "stdout",
     "output_type": "stream",
     "text": [
      "Files already downloaded and verified\n",
      "mean: [0.4913966  0.48215377 0.44651437], std: [0.246344   0.24280126 0.26067406]\n",
      "Files already downloaded and verified\n"
     ]
    }
   ],
   "source": [
    "def compute_mean_std(trainLoader) -> Tuple[List[float], List[float]]:\n",
    "    # initialize the list of means and stds\n",
    "    mean, std = torch.zeros(3), torch.zeros(3)\n",
    "\n",
    "    # iterate over the dataset and compute the sum of each channel\n",
    "    for images, _ in trainLoader:\n",
    "        mean+= torch.mean(images, dim=[0,2,3])\n",
    "        std+= torch.std(images, dim=[0,2,3])\n",
    "    \n",
    "    # compute the mean and std\n",
    "    mean = mean/len(trainLoader)\n",
    "    std = std/len(trainLoader)\n",
    "\n",
    "    return mean, std\n",
    "\n",
    "# Load CIFAR-10 dataset\n",
    "transform = transforms.Compose([\n",
    "    transforms.ToTensor(),\n",
    "])\n",
    "\n",
    "trainset = torchvision.datasets.CIFAR10(\n",
    "    root='./data', train=True, download=True, transform=transform)\n",
    "\n",
    "trainloader = torch.utils.data.DataLoader(\n",
    "    trainset, batch_size=BATCH_SIZE, shuffle=True, num_workers=0)\n",
    "\n",
    "if not os.path.exists('./data/mean.pt'):\n",
    "    mean, std = compute_mean_std(trainloader)\n",
    "    torch.save(mean, 'data/mean.pt')\n",
    "    torch.save(std, 'data/std.pt')\n",
    "else:\n",
    "    mean, std = torch.load('./data/mean.pt'), torch.load('./data/std.pt')\n",
    "\n",
    "# to numpy\n",
    "mean, std = mean.numpy(), std.numpy()\n",
    "\n",
    "print(f\"mean: {mean}, std: {std}\")\n",
    "\n",
    "\n",
    "testset = torchvision.datasets.CIFAR10(\n",
    "    root='./data', train=False, download=True, transform=transform)\n",
    "\n",
    "testloader = torch.utils.data.DataLoader(\n",
    "    testset, batch_size=BATCH_SIZE, shuffle=False, num_workers=0)\n",
    "\n",
    "classes = ('plane', 'car', 'bird', 'cat',\n",
    "           'deer', 'dog', 'frog', 'horse', 'ship', 'truck')"
   ]
  },
  {
   "cell_type": "code",
   "execution_count": 22,
   "metadata": {},
   "outputs": [],
   "source": [
    "torch_models = 'torch_models' \n",
    "if not os.path.exists(torch_models):\n",
    "    os.makedirs(torch_models)"
   ]
  },
  {
   "attachments": {},
   "cell_type": "markdown",
   "metadata": {},
   "source": [
    "## IV. Semi-Supervised Learning: Fixmatch with Active Learning"
   ]
  },
  {
   "attachments": {},
   "cell_type": "markdown",
   "metadata": {},
   "source": [
    "### IV.1 Fixmatch on 10% train data with Active Learning"
   ]
  },
  {
   "cell_type": "code",
   "execution_count": 23,
   "metadata": {},
   "outputs": [],
   "source": [
    "# Define your dataset and dataloaders for labeled and unlabeled data\n",
    "seedEverything()\n",
    "\n",
    "TARGET_PROP = 0.05\n",
    "EPOCHS = 300\n",
    "SUBSET_PROP = 0.01\n",
    "EPOCHS_AL = 50\n",
    "K_SAMPLES = int ( (TARGET_PROP * len(trainset) - SUBSET_PROP * len(trainset)) / EPOCHS_AL )\n",
    "\n",
    "# 10% labeled data and 100% unlabeled (see note 2 in paper)\n",
    "trainset_sup, _ = torch.utils.data.random_split(trainset, [SUBSET_PROP, 1-SUBSET_PROP])\n",
    "\n",
    "trainset_unsup, _ = torch.utils.data.random_split(trainset, [1, 0])\n",
    "\n",
    "labeled_dataloader = DataLoader(\n",
    "    trainset_sup,\n",
    "    batch_size=BATCH_SIZE,\n",
    "    shuffle=True,\n",
    "    num_workers=0\n",
    ")\n",
    "\n",
    "unlabeled_dataloader = DataLoader(\n",
    "    trainset_unsup,\n",
    "    batch_size=MU*BATCH_SIZE,\n",
    "    shuffle=True,\n",
    "    num_workers=0\n",
    ")\n",
    "\n",
    "# indices of labeled data\n",
    "labeled_indices = trainset_sup.indices\n",
    "\n",
    "# indices of unlabeled data\n",
    "unlabeled_indices = trainset_unsup.indices"
   ]
  },
  {
   "cell_type": "code",
   "execution_count": 24,
   "metadata": {},
   "outputs": [],
   "source": [
    "# transformations\n",
    "weak_transform = K.ImageSequential(\n",
    "    K.RandomHorizontalFlip(p=0.50), \n",
    "    K.RandomAffine(degrees=0, translate=(0.125, 0.125)),\n",
    ")\n",
    "\n",
    "strong_transform = K.ImageSequential(\n",
    "    K.auto.RandAugment(n=2, m=10),\n",
    ")"
   ]
  },
  {
   "cell_type": "code",
   "execution_count": 25,
   "metadata": {},
   "outputs": [],
   "source": [
    "def mask(model, weak_unlabeled_data):\n",
    "    with torch.no_grad():\n",
    "        model.train()\n",
    "\n",
    "        qb = model(weak_unlabeled_data)\n",
    "\n",
    "        # qb = logits.copy()\n",
    "        qb = torch.softmax(qb, dim=1)\n",
    "\n",
    "        max_qb, qb_hat = torch.max(qb, dim=1)\n",
    "\n",
    "        idx = max_qb > TAU\n",
    "        qb_hat = qb_hat[idx]\n",
    "\n",
    "    return qb_hat.detach(), idx, max_qb.detach()"
   ]
  },
  {
   "cell_type": "code",
   "execution_count": 26,
   "metadata": {},
   "outputs": [],
   "source": [
    "model = ConvNN().to(device)\n",
    "\n",
    "# criterion and optimizer\n",
    "labeled_criterion = nn.CrossEntropyLoss(reduction='none')\n",
    "unlabeled_criterion = nn.CrossEntropyLoss(reduction='none')\n",
    "optimizer = torch.optim.SGD(model.parameters(), lr=LR, momentum=BETA, weight_decay=WEIGHT_DECAY, nesterov=True)\n",
    "scheduler = torch.optim.lr_scheduler.CosineAnnealingLR(optimizer, T_max=EPOCHS//3, eta_min=0, last_epoch=-1)"
   ]
  },
  {
   "cell_type": "code",
   "execution_count": 27,
   "metadata": {},
   "outputs": [],
   "source": [
    "def information_density(\n",
    "    model: ConvNN, \n",
    "    inputs: torch.Tensor,\n",
    "    k_samp: int,\n",
    "    K_transform: int = 5) -> torch.Tensor:\n",
    "\n",
    "    qb_transformed = torch.zeros((K_transform, inputs.shape[0], 10))\n",
    "    with torch.no_grad():\n",
    "        model.eval()\n",
    "        for k in range(K_transform):\n",
    "            # compute weak transformation of inputs norm\n",
    "            weak_transformed_inputs = weak_transform(inputs)\n",
    "\n",
    "            # normalize\n",
    "            weak_transformed_inputs_norm = normalize(data=weak_transformed_inputs, mean=mean, std=std)\n",
    "\n",
    "            # compute predictions of weak transformed inputs norm\n",
    "            logits = model(weak_transformed_inputs_norm)\n",
    "            qb = torch.softmax(logits, dim=1)\n",
    "\n",
    "            # store\n",
    "            qb_transformed[k] = qb\n",
    "    \n",
    "    # compute mean\n",
    "    qb = torch.mean(qb_transformed, dim=0)\n",
    "\n",
    "    # get top 2 values of qb\n",
    "    qb1, qb2 = torch.topk(qb, k=2, dim=1)[0][:, 0], torch.topk(qb, k=2, dim=1)[0][:, 1]\n",
    "\n",
    "    uncertainty = 1 - qb1 #(qb1 - qb2)\n",
    "\n",
    "    # get top k_samp indices\n",
    "    _, idx = torch.topk(uncertainty, k=k_samp, dim=0)\n",
    "\n",
    "    return idx\n",
    "\n",
    "# Create a new labeled dataset using active learning\n",
    "def create_labeled_dataset_active_learning(dataset, selected_indices):\n",
    "    labeled_dataset = torch.utils.data.Subset(dataset, selected_indices)\n",
    "    return labeled_dataset"
   ]
  },
  {
   "cell_type": "code",
   "execution_count": null,
   "metadata": {},
   "outputs": [],
   "source": []
  },
  {
   "cell_type": "code",
   "execution_count": 28,
   "metadata": {},
   "outputs": [
    {
     "name": "stdout",
     "output_type": "stream",
     "text": [
      "Start training\n"
     ]
    },
    {
     "data": {
      "application/vnd.jupyter.widget-view+json": {
       "model_id": "5dc8376a706244cc922078bd621c6b1d",
       "version_major": 2,
       "version_minor": 0
      },
      "text/plain": [
       "Epoch     0:   0%|          | 0/8 [00:00<?, ?batch/s]"
      ]
     },
     "metadata": {},
     "output_type": "display_data"
    },
    {
     "name": "stdout",
     "output_type": "stream",
     "text": [
      "Test Accuracy: 10.0%\n"
     ]
    },
    {
     "data": {
      "application/vnd.jupyter.widget-view+json": {
       "model_id": "adf47cfeeecd48cba54485f7878171f8",
       "version_major": 2,
       "version_minor": 0
      },
      "text/plain": [
       "Epoch     1:   0%|          | 0/8 [00:00<?, ?batch/s]"
      ]
     },
     "metadata": {},
     "output_type": "display_data"
    },
    {
     "name": "stdout",
     "output_type": "stream",
     "text": [
      "Test Accuracy: 10.0%\n"
     ]
    },
    {
     "data": {
      "application/vnd.jupyter.widget-view+json": {
       "model_id": "54929bf615924c5f9a2080bccce9a766",
       "version_major": 2,
       "version_minor": 0
      },
      "text/plain": [
       "Epoch     2:   0%|          | 0/8 [00:00<?, ?batch/s]"
      ]
     },
     "metadata": {},
     "output_type": "display_data"
    },
    {
     "name": "stdout",
     "output_type": "stream",
     "text": [
      "Test Accuracy: 10.0%\n"
     ]
    },
    {
     "data": {
      "application/vnd.jupyter.widget-view+json": {
       "model_id": "c1f0b95fb7574216983cb1c9115234b5",
       "version_major": 2,
       "version_minor": 0
      },
      "text/plain": [
       "Epoch     3:   0%|          | 0/8 [00:00<?, ?batch/s]"
      ]
     },
     "metadata": {},
     "output_type": "display_data"
    },
    {
     "name": "stdout",
     "output_type": "stream",
     "text": [
      "Test Accuracy: 13.92%\n"
     ]
    },
    {
     "data": {
      "application/vnd.jupyter.widget-view+json": {
       "model_id": "582a9b2b3b1741d1927ca7928782e035",
       "version_major": 2,
       "version_minor": 0
      },
      "text/plain": [
       "Epoch     4:   0%|          | 0/8 [00:00<?, ?batch/s]"
      ]
     },
     "metadata": {},
     "output_type": "display_data"
    },
    {
     "name": "stdout",
     "output_type": "stream",
     "text": [
      "Test Accuracy: 18.92%\n"
     ]
    },
    {
     "data": {
      "application/vnd.jupyter.widget-view+json": {
       "model_id": "68043cde7e7f403d8ea34b75a3622b34",
       "version_major": 2,
       "version_minor": 0
      },
      "text/plain": [
       "Epoch     5:   0%|          | 0/8 [00:00<?, ?batch/s]"
      ]
     },
     "metadata": {},
     "output_type": "display_data"
    },
    {
     "name": "stdout",
     "output_type": "stream",
     "text": [
      "Test Accuracy: 20.15%\n"
     ]
    },
    {
     "data": {
      "application/vnd.jupyter.widget-view+json": {
       "model_id": "b54cfc859b494f1ea2edda379fae863d",
       "version_major": 2,
       "version_minor": 0
      },
      "text/plain": [
       "Epoch     6:   0%|          | 0/8 [00:00<?, ?batch/s]"
      ]
     },
     "metadata": {},
     "output_type": "display_data"
    },
    {
     "name": "stdout",
     "output_type": "stream",
     "text": [
      "Test Accuracy: 21.14%\n"
     ]
    },
    {
     "data": {
      "application/vnd.jupyter.widget-view+json": {
       "model_id": "8cd5af3ae43f4384ae36b2e26637461a",
       "version_major": 2,
       "version_minor": 0
      },
      "text/plain": [
       "Epoch     7:   0%|          | 0/8 [00:00<?, ?batch/s]"
      ]
     },
     "metadata": {},
     "output_type": "display_data"
    },
    {
     "name": "stdout",
     "output_type": "stream",
     "text": [
      "Test Accuracy: 23.47%\n"
     ]
    },
    {
     "data": {
      "application/vnd.jupyter.widget-view+json": {
       "model_id": "956c84b7fba745ce83090e10a552dbf7",
       "version_major": 2,
       "version_minor": 0
      },
      "text/plain": [
       "Epoch     8:   0%|          | 0/8 [00:00<?, ?batch/s]"
      ]
     },
     "metadata": {},
     "output_type": "display_data"
    },
    {
     "name": "stdout",
     "output_type": "stream",
     "text": [
      "Test Accuracy: 26.34%\n"
     ]
    },
    {
     "data": {
      "application/vnd.jupyter.widget-view+json": {
       "model_id": "c71f17f91487446d92499caf1e43eee5",
       "version_major": 2,
       "version_minor": 0
      },
      "text/plain": [
       "Epoch     9:   0%|          | 0/8 [00:00<?, ?batch/s]"
      ]
     },
     "metadata": {},
     "output_type": "display_data"
    },
    {
     "name": "stdout",
     "output_type": "stream",
     "text": [
      "Test Accuracy: 24.23%\n"
     ]
    },
    {
     "data": {
      "application/vnd.jupyter.widget-view+json": {
       "model_id": "a57ee26a9e1742efad5d1365734b103c",
       "version_major": 2,
       "version_minor": 0
      },
      "text/plain": [
       "Epoch    10:   0%|          | 0/8 [00:00<?, ?batch/s]"
      ]
     },
     "metadata": {},
     "output_type": "display_data"
    },
    {
     "name": "stdout",
     "output_type": "stream",
     "text": [
      "Test Accuracy: 28.06%\n"
     ]
    },
    {
     "data": {
      "application/vnd.jupyter.widget-view+json": {
       "model_id": "4bf0a92f4e8f4a099fb6762393ade0de",
       "version_major": 2,
       "version_minor": 0
      },
      "text/plain": [
       "Epoch    11:   0%|          | 0/8 [00:00<?, ?batch/s]"
      ]
     },
     "metadata": {},
     "output_type": "display_data"
    },
    {
     "name": "stdout",
     "output_type": "stream",
     "text": [
      "Test Accuracy: 28.78%\n"
     ]
    },
    {
     "data": {
      "application/vnd.jupyter.widget-view+json": {
       "model_id": "df5649e995ed47f3817a5a351c6983a1",
       "version_major": 2,
       "version_minor": 0
      },
      "text/plain": [
       "Epoch    12:   0%|          | 0/8 [00:00<?, ?batch/s]"
      ]
     },
     "metadata": {},
     "output_type": "display_data"
    },
    {
     "name": "stdout",
     "output_type": "stream",
     "text": [
      "Test Accuracy: 29.88%\n"
     ]
    },
    {
     "data": {
      "application/vnd.jupyter.widget-view+json": {
       "model_id": "958ea194dd9e42d6844986acd4326d78",
       "version_major": 2,
       "version_minor": 0
      },
      "text/plain": [
       "Epoch    13:   0%|          | 0/8 [00:00<?, ?batch/s]"
      ]
     },
     "metadata": {},
     "output_type": "display_data"
    },
    {
     "name": "stdout",
     "output_type": "stream",
     "text": [
      "Test Accuracy: 33.35%\n"
     ]
    },
    {
     "data": {
      "application/vnd.jupyter.widget-view+json": {
       "model_id": "040c6588698a464696d63ce00755d15e",
       "version_major": 2,
       "version_minor": 0
      },
      "text/plain": [
       "Epoch    14:   0%|          | 0/8 [00:00<?, ?batch/s]"
      ]
     },
     "metadata": {},
     "output_type": "display_data"
    },
    {
     "name": "stdout",
     "output_type": "stream",
     "text": [
      "Test Accuracy: 32.45%\n"
     ]
    },
    {
     "data": {
      "application/vnd.jupyter.widget-view+json": {
       "model_id": "1d1cd45dd0cb4ff38c31feaeb1fd0605",
       "version_major": 2,
       "version_minor": 0
      },
      "text/plain": [
       "Epoch    15:   0%|          | 0/8 [00:00<?, ?batch/s]"
      ]
     },
     "metadata": {},
     "output_type": "display_data"
    },
    {
     "name": "stdout",
     "output_type": "stream",
     "text": [
      "Test Accuracy: 27.22%\n"
     ]
    },
    {
     "data": {
      "application/vnd.jupyter.widget-view+json": {
       "model_id": "f1cc6a4e7c474f53b73ea681e9347dcf",
       "version_major": 2,
       "version_minor": 0
      },
      "text/plain": [
       "Epoch    16:   0%|          | 0/8 [00:00<?, ?batch/s]"
      ]
     },
     "metadata": {},
     "output_type": "display_data"
    },
    {
     "name": "stdout",
     "output_type": "stream",
     "text": [
      "Test Accuracy: 32.7%\n"
     ]
    },
    {
     "data": {
      "application/vnd.jupyter.widget-view+json": {
       "model_id": "8fb29bd1085b4eaf853352c472a1b61e",
       "version_major": 2,
       "version_minor": 0
      },
      "text/plain": [
       "Epoch    17:   0%|          | 0/8 [00:00<?, ?batch/s]"
      ]
     },
     "metadata": {},
     "output_type": "display_data"
    },
    {
     "name": "stdout",
     "output_type": "stream",
     "text": [
      "Test Accuracy: 35.36%\n"
     ]
    },
    {
     "data": {
      "application/vnd.jupyter.widget-view+json": {
       "model_id": "3286e1d1f62344919e86af78b6412200",
       "version_major": 2,
       "version_minor": 0
      },
      "text/plain": [
       "Epoch    18:   0%|          | 0/8 [00:00<?, ?batch/s]"
      ]
     },
     "metadata": {},
     "output_type": "display_data"
    },
    {
     "name": "stdout",
     "output_type": "stream",
     "text": [
      "Test Accuracy: 32.85%\n"
     ]
    },
    {
     "data": {
      "application/vnd.jupyter.widget-view+json": {
       "model_id": "3b4436b6faac49658913aa7a1c2bdac5",
       "version_major": 2,
       "version_minor": 0
      },
      "text/plain": [
       "Epoch    19:   0%|          | 0/8 [00:00<?, ?batch/s]"
      ]
     },
     "metadata": {},
     "output_type": "display_data"
    },
    {
     "name": "stdout",
     "output_type": "stream",
     "text": [
      "Test Accuracy: 36.44%\n"
     ]
    },
    {
     "data": {
      "application/vnd.jupyter.widget-view+json": {
       "model_id": "0f181e1bbf7c4e9aa77ce7fd1433d96f",
       "version_major": 2,
       "version_minor": 0
      },
      "text/plain": [
       "Epoch    20:   0%|          | 0/8 [00:00<?, ?batch/s]"
      ]
     },
     "metadata": {},
     "output_type": "display_data"
    },
    {
     "name": "stdout",
     "output_type": "stream",
     "text": [
      "Test Accuracy: 35.67%\n"
     ]
    },
    {
     "data": {
      "application/vnd.jupyter.widget-view+json": {
       "model_id": "e6a8104fa0bf4a83901c2427bcf916a3",
       "version_major": 2,
       "version_minor": 0
      },
      "text/plain": [
       "Epoch    21:   0%|          | 0/8 [00:00<?, ?batch/s]"
      ]
     },
     "metadata": {},
     "output_type": "display_data"
    },
    {
     "name": "stdout",
     "output_type": "stream",
     "text": [
      "Test Accuracy: 36.58%\n"
     ]
    },
    {
     "data": {
      "application/vnd.jupyter.widget-view+json": {
       "model_id": "1869ef4257ee42e0b036b38911d03a36",
       "version_major": 2,
       "version_minor": 0
      },
      "text/plain": [
       "Epoch    22:   0%|          | 0/8 [00:00<?, ?batch/s]"
      ]
     },
     "metadata": {},
     "output_type": "display_data"
    },
    {
     "name": "stdout",
     "output_type": "stream",
     "text": [
      "Test Accuracy: 36.38%\n"
     ]
    },
    {
     "data": {
      "application/vnd.jupyter.widget-view+json": {
       "model_id": "05947ba7088a4b94b68dea97c3fb3b89",
       "version_major": 2,
       "version_minor": 0
      },
      "text/plain": [
       "Epoch    23:   0%|          | 0/8 [00:00<?, ?batch/s]"
      ]
     },
     "metadata": {},
     "output_type": "display_data"
    },
    {
     "name": "stdout",
     "output_type": "stream",
     "text": [
      "Test Accuracy: 37.86%\n"
     ]
    },
    {
     "data": {
      "application/vnd.jupyter.widget-view+json": {
       "model_id": "538db4b5f27a48f0b4e5eab803c6014c",
       "version_major": 2,
       "version_minor": 0
      },
      "text/plain": [
       "Epoch    24:   0%|          | 0/8 [00:00<?, ?batch/s]"
      ]
     },
     "metadata": {},
     "output_type": "display_data"
    },
    {
     "name": "stdout",
     "output_type": "stream",
     "text": [
      "Test Accuracy: 34.61%\n"
     ]
    },
    {
     "data": {
      "application/vnd.jupyter.widget-view+json": {
       "model_id": "780e971fbd034959b1b5375109fd3b2e",
       "version_major": 2,
       "version_minor": 0
      },
      "text/plain": [
       "Epoch    25:   0%|          | 0/8 [00:00<?, ?batch/s]"
      ]
     },
     "metadata": {},
     "output_type": "display_data"
    },
    {
     "name": "stdout",
     "output_type": "stream",
     "text": [
      "Test Accuracy: 39.46%\n"
     ]
    },
    {
     "data": {
      "application/vnd.jupyter.widget-view+json": {
       "model_id": "995fdbaf01b04c2e8e6699e0cefd7f08",
       "version_major": 2,
       "version_minor": 0
      },
      "text/plain": [
       "Epoch    26:   0%|          | 0/8 [00:00<?, ?batch/s]"
      ]
     },
     "metadata": {},
     "output_type": "display_data"
    },
    {
     "name": "stdout",
     "output_type": "stream",
     "text": [
      "Test Accuracy: 38.17%\n"
     ]
    },
    {
     "data": {
      "application/vnd.jupyter.widget-view+json": {
       "model_id": "d0f3bdd58ab249a88e23d6feb01b761d",
       "version_major": 2,
       "version_minor": 0
      },
      "text/plain": [
       "Epoch    27:   0%|          | 0/8 [00:00<?, ?batch/s]"
      ]
     },
     "metadata": {},
     "output_type": "display_data"
    },
    {
     "name": "stdout",
     "output_type": "stream",
     "text": [
      "Test Accuracy: 39.72%\n"
     ]
    },
    {
     "data": {
      "application/vnd.jupyter.widget-view+json": {
       "model_id": "c1f54ca6e3814850930416b81431363a",
       "version_major": 2,
       "version_minor": 0
      },
      "text/plain": [
       "Epoch    28:   0%|          | 0/8 [00:00<?, ?batch/s]"
      ]
     },
     "metadata": {},
     "output_type": "display_data"
    },
    {
     "name": "stdout",
     "output_type": "stream",
     "text": [
      "Test Accuracy: 36.74%\n"
     ]
    },
    {
     "data": {
      "application/vnd.jupyter.widget-view+json": {
       "model_id": "480e4c523ded4c9ba91b7875337491d4",
       "version_major": 2,
       "version_minor": 0
      },
      "text/plain": [
       "Epoch    29:   0%|          | 0/8 [00:00<?, ?batch/s]"
      ]
     },
     "metadata": {},
     "output_type": "display_data"
    },
    {
     "name": "stdout",
     "output_type": "stream",
     "text": [
      "Test Accuracy: 37.01%\n"
     ]
    },
    {
     "data": {
      "application/vnd.jupyter.widget-view+json": {
       "model_id": "f233a4da5c35420caafd21b4eccb0a2a",
       "version_major": 2,
       "version_minor": 0
      },
      "text/plain": [
       "Epoch    30:   0%|          | 0/8 [00:00<?, ?batch/s]"
      ]
     },
     "metadata": {},
     "output_type": "display_data"
    },
    {
     "name": "stdout",
     "output_type": "stream",
     "text": [
      "Test Accuracy: 37.05%\n"
     ]
    },
    {
     "data": {
      "application/vnd.jupyter.widget-view+json": {
       "model_id": "da5f5c99cdc149bcba091b931d7c9f2c",
       "version_major": 2,
       "version_minor": 0
      },
      "text/plain": [
       "Epoch    31:   0%|          | 0/8 [00:00<?, ?batch/s]"
      ]
     },
     "metadata": {},
     "output_type": "display_data"
    },
    {
     "name": "stdout",
     "output_type": "stream",
     "text": [
      "Test Accuracy: 37.78%\n"
     ]
    },
    {
     "data": {
      "application/vnd.jupyter.widget-view+json": {
       "model_id": "643d2558b6e04ba4874ef2d6c1f16ac0",
       "version_major": 2,
       "version_minor": 0
      },
      "text/plain": [
       "Epoch    32:   0%|          | 0/8 [00:00<?, ?batch/s]"
      ]
     },
     "metadata": {},
     "output_type": "display_data"
    },
    {
     "name": "stdout",
     "output_type": "stream",
     "text": [
      "Test Accuracy: 35.38%\n"
     ]
    },
    {
     "data": {
      "application/vnd.jupyter.widget-view+json": {
       "model_id": "a16e07e1dba24e1aa4d982bb20abe102",
       "version_major": 2,
       "version_minor": 0
      },
      "text/plain": [
       "Epoch    33:   0%|          | 0/8 [00:00<?, ?batch/s]"
      ]
     },
     "metadata": {},
     "output_type": "display_data"
    },
    {
     "name": "stdout",
     "output_type": "stream",
     "text": [
      "Test Accuracy: 40.03%\n"
     ]
    },
    {
     "data": {
      "application/vnd.jupyter.widget-view+json": {
       "model_id": "a40a87281e574ccfb2fdafc5e900eef4",
       "version_major": 2,
       "version_minor": 0
      },
      "text/plain": [
       "Epoch    34:   0%|          | 0/8 [00:00<?, ?batch/s]"
      ]
     },
     "metadata": {},
     "output_type": "display_data"
    },
    {
     "name": "stdout",
     "output_type": "stream",
     "text": [
      "Test Accuracy: 38.98%\n"
     ]
    },
    {
     "data": {
      "application/vnd.jupyter.widget-view+json": {
       "model_id": "0d7e07cbd548460ca62d64eb9b299553",
       "version_major": 2,
       "version_minor": 0
      },
      "text/plain": [
       "Epoch    35:   0%|          | 0/8 [00:00<?, ?batch/s]"
      ]
     },
     "metadata": {},
     "output_type": "display_data"
    },
    {
     "name": "stdout",
     "output_type": "stream",
     "text": [
      "Test Accuracy: 37.85%\n"
     ]
    },
    {
     "data": {
      "application/vnd.jupyter.widget-view+json": {
       "model_id": "aef8e4f250564c8586e83232ba1c8d2f",
       "version_major": 2,
       "version_minor": 0
      },
      "text/plain": [
       "Epoch    36:   0%|          | 0/8 [00:00<?, ?batch/s]"
      ]
     },
     "metadata": {},
     "output_type": "display_data"
    },
    {
     "name": "stdout",
     "output_type": "stream",
     "text": [
      "Test Accuracy: 40.24%\n"
     ]
    },
    {
     "data": {
      "application/vnd.jupyter.widget-view+json": {
       "model_id": "15c2814e5c0540b296f0053f2b3e748f",
       "version_major": 2,
       "version_minor": 0
      },
      "text/plain": [
       "Epoch    37:   0%|          | 0/8 [00:00<?, ?batch/s]"
      ]
     },
     "metadata": {},
     "output_type": "display_data"
    },
    {
     "name": "stdout",
     "output_type": "stream",
     "text": [
      "Test Accuracy: 40.23%\n"
     ]
    },
    {
     "data": {
      "application/vnd.jupyter.widget-view+json": {
       "model_id": "1edd7ef9466e410eab4a85de1c541a5e",
       "version_major": 2,
       "version_minor": 0
      },
      "text/plain": [
       "Epoch    38:   0%|          | 0/8 [00:00<?, ?batch/s]"
      ]
     },
     "metadata": {},
     "output_type": "display_data"
    },
    {
     "name": "stdout",
     "output_type": "stream",
     "text": [
      "Test Accuracy: 40.45%\n"
     ]
    },
    {
     "data": {
      "application/vnd.jupyter.widget-view+json": {
       "model_id": "e476475b408a4b639702979bcb326177",
       "version_major": 2,
       "version_minor": 0
      },
      "text/plain": [
       "Epoch    39:   0%|          | 0/8 [00:00<?, ?batch/s]"
      ]
     },
     "metadata": {},
     "output_type": "display_data"
    },
    {
     "name": "stdout",
     "output_type": "stream",
     "text": [
      "Test Accuracy: 39.33%\n"
     ]
    },
    {
     "data": {
      "application/vnd.jupyter.widget-view+json": {
       "model_id": "8f0c485be7cf41d2a6d316d0ec2efc53",
       "version_major": 2,
       "version_minor": 0
      },
      "text/plain": [
       "Epoch    40:   0%|          | 0/8 [00:00<?, ?batch/s]"
      ]
     },
     "metadata": {},
     "output_type": "display_data"
    },
    {
     "name": "stdout",
     "output_type": "stream",
     "text": [
      "Test Accuracy: 40.21%\n"
     ]
    },
    {
     "data": {
      "application/vnd.jupyter.widget-view+json": {
       "model_id": "6c71cb915b2940108e931f72c73b327b",
       "version_major": 2,
       "version_minor": 0
      },
      "text/plain": [
       "Epoch    41:   0%|          | 0/8 [00:00<?, ?batch/s]"
      ]
     },
     "metadata": {},
     "output_type": "display_data"
    },
    {
     "name": "stdout",
     "output_type": "stream",
     "text": [
      "Test Accuracy: 37.23%\n"
     ]
    },
    {
     "data": {
      "application/vnd.jupyter.widget-view+json": {
       "model_id": "50f7a2a9e0ae4ee497c1aad092bea8f4",
       "version_major": 2,
       "version_minor": 0
      },
      "text/plain": [
       "Epoch    42:   0%|          | 0/8 [00:00<?, ?batch/s]"
      ]
     },
     "metadata": {},
     "output_type": "display_data"
    },
    {
     "name": "stdout",
     "output_type": "stream",
     "text": [
      "Test Accuracy: 40.08%\n"
     ]
    },
    {
     "data": {
      "application/vnd.jupyter.widget-view+json": {
       "model_id": "1bc92c804fcc4add83b70fec7ef89308",
       "version_major": 2,
       "version_minor": 0
      },
      "text/plain": [
       "Epoch    43:   0%|          | 0/8 [00:00<?, ?batch/s]"
      ]
     },
     "metadata": {},
     "output_type": "display_data"
    },
    {
     "name": "stdout",
     "output_type": "stream",
     "text": [
      "Test Accuracy: 40.79%\n"
     ]
    },
    {
     "data": {
      "application/vnd.jupyter.widget-view+json": {
       "model_id": "b72f47ccd15a47fe8a0ac5894c32d30e",
       "version_major": 2,
       "version_minor": 0
      },
      "text/plain": [
       "Epoch    44:   0%|          | 0/8 [00:00<?, ?batch/s]"
      ]
     },
     "metadata": {},
     "output_type": "display_data"
    },
    {
     "name": "stdout",
     "output_type": "stream",
     "text": [
      "Test Accuracy: 37.92%\n"
     ]
    },
    {
     "data": {
      "application/vnd.jupyter.widget-view+json": {
       "model_id": "27647bef70ee4461a5926d67935b64e7",
       "version_major": 2,
       "version_minor": 0
      },
      "text/plain": [
       "Epoch    45:   0%|          | 0/8 [00:00<?, ?batch/s]"
      ]
     },
     "metadata": {},
     "output_type": "display_data"
    },
    {
     "name": "stdout",
     "output_type": "stream",
     "text": [
      "Test Accuracy: 40.2%\n"
     ]
    },
    {
     "data": {
      "application/vnd.jupyter.widget-view+json": {
       "model_id": "7bfec896d15a4b8c82e9dd060dbf944d",
       "version_major": 2,
       "version_minor": 0
      },
      "text/plain": [
       "Epoch    46:   0%|          | 0/8 [00:00<?, ?batch/s]"
      ]
     },
     "metadata": {},
     "output_type": "display_data"
    },
    {
     "name": "stdout",
     "output_type": "stream",
     "text": [
      "Test Accuracy: 40.44%\n"
     ]
    },
    {
     "data": {
      "application/vnd.jupyter.widget-view+json": {
       "model_id": "3b320f27ef8a4072bcb926ad4f879ca4",
       "version_major": 2,
       "version_minor": 0
      },
      "text/plain": [
       "Epoch    47:   0%|          | 0/8 [00:00<?, ?batch/s]"
      ]
     },
     "metadata": {},
     "output_type": "display_data"
    },
    {
     "name": "stdout",
     "output_type": "stream",
     "text": [
      "Test Accuracy: 39.28%\n"
     ]
    },
    {
     "data": {
      "application/vnd.jupyter.widget-view+json": {
       "model_id": "9321287004044df6893f72abd78f7c33",
       "version_major": 2,
       "version_minor": 0
      },
      "text/plain": [
       "Epoch    48:   0%|          | 0/8 [00:00<?, ?batch/s]"
      ]
     },
     "metadata": {},
     "output_type": "display_data"
    },
    {
     "name": "stdout",
     "output_type": "stream",
     "text": [
      "Test Accuracy: 39.94%\n"
     ]
    },
    {
     "data": {
      "application/vnd.jupyter.widget-view+json": {
       "model_id": "30c8f751a8e44b5f868a2bb6c0bde6ad",
       "version_major": 2,
       "version_minor": 0
      },
      "text/plain": [
       "Epoch    49:   0%|          | 0/8 [00:00<?, ?batch/s]"
      ]
     },
     "metadata": {},
     "output_type": "display_data"
    },
    {
     "name": "stdout",
     "output_type": "stream",
     "text": [
      "Test Accuracy: 39.76%\n"
     ]
    },
    {
     "data": {
      "application/vnd.jupyter.widget-view+json": {
       "model_id": "ed76b23c3b16422594850a1d39b4e0f8",
       "version_major": 2,
       "version_minor": 0
      },
      "text/plain": [
       "Epoch    50:   0%|          | 0/8 [00:00<?, ?batch/s]"
      ]
     },
     "metadata": {},
     "output_type": "display_data"
    },
    {
     "name": "stdout",
     "output_type": "stream",
     "text": [
      "Test Accuracy: 39.77%\n"
     ]
    },
    {
     "data": {
      "application/vnd.jupyter.widget-view+json": {
       "model_id": "076be92d57684d8c87811c722790e0a0",
       "version_major": 2,
       "version_minor": 0
      },
      "text/plain": [
       "Epoch    51:   0%|          | 0/9 [00:00<?, ?batch/s]"
      ]
     },
     "metadata": {},
     "output_type": "display_data"
    },
    {
     "name": "stdout",
     "output_type": "stream",
     "text": [
      "Test Accuracy: 38.81%\n"
     ]
    },
    {
     "data": {
      "application/vnd.jupyter.widget-view+json": {
       "model_id": "fc24b1b8003a44c98f23d37639a0443d",
       "version_major": 2,
       "version_minor": 0
      },
      "text/plain": [
       "Epoch    52:   0%|          | 0/10 [00:00<?, ?batch/s]"
      ]
     },
     "metadata": {},
     "output_type": "display_data"
    },
    {
     "name": "stdout",
     "output_type": "stream",
     "text": [
      "Test Accuracy: 39.64%\n"
     ]
    },
    {
     "data": {
      "application/vnd.jupyter.widget-view+json": {
       "model_id": "6c692c802c0c4c09a63a882bbdb16431",
       "version_major": 2,
       "version_minor": 0
      },
      "text/plain": [
       "Epoch    53:   0%|          | 0/10 [00:00<?, ?batch/s]"
      ]
     },
     "metadata": {},
     "output_type": "display_data"
    },
    {
     "name": "stdout",
     "output_type": "stream",
     "text": [
      "Test Accuracy: 39.81%\n"
     ]
    },
    {
     "data": {
      "application/vnd.jupyter.widget-view+json": {
       "model_id": "b68eae5e654d4982a5a3b233c6c6df4f",
       "version_major": 2,
       "version_minor": 0
      },
      "text/plain": [
       "Epoch    54:   0%|          | 0/11 [00:00<?, ?batch/s]"
      ]
     },
     "metadata": {},
     "output_type": "display_data"
    },
    {
     "name": "stdout",
     "output_type": "stream",
     "text": [
      "Test Accuracy: 40.42%\n"
     ]
    },
    {
     "data": {
      "application/vnd.jupyter.widget-view+json": {
       "model_id": "c72bec6ae0374d70863aa079357ee66f",
       "version_major": 2,
       "version_minor": 0
      },
      "text/plain": [
       "Epoch    55:   0%|          | 0/11 [00:00<?, ?batch/s]"
      ]
     },
     "metadata": {},
     "output_type": "display_data"
    },
    {
     "name": "stdout",
     "output_type": "stream",
     "text": [
      "Test Accuracy: 42.02%\n"
     ]
    },
    {
     "data": {
      "application/vnd.jupyter.widget-view+json": {
       "model_id": "f45e40e12af147ea9fd593617fcb65f6",
       "version_major": 2,
       "version_minor": 0
      },
      "text/plain": [
       "Epoch    56:   0%|          | 0/12 [00:00<?, ?batch/s]"
      ]
     },
     "metadata": {},
     "output_type": "display_data"
    },
    {
     "name": "stdout",
     "output_type": "stream",
     "text": [
      "Test Accuracy: 41.05%\n"
     ]
    },
    {
     "data": {
      "application/vnd.jupyter.widget-view+json": {
       "model_id": "89e354c32637442e8fea3fd13024a853",
       "version_major": 2,
       "version_minor": 0
      },
      "text/plain": [
       "Epoch    57:   0%|          | 0/13 [00:00<?, ?batch/s]"
      ]
     },
     "metadata": {},
     "output_type": "display_data"
    },
    {
     "name": "stdout",
     "output_type": "stream",
     "text": [
      "Test Accuracy: 41.22%\n"
     ]
    },
    {
     "data": {
      "application/vnd.jupyter.widget-view+json": {
       "model_id": "83e9cf29b1374b3dba9527454f4df213",
       "version_major": 2,
       "version_minor": 0
      },
      "text/plain": [
       "Epoch    58:   0%|          | 0/13 [00:00<?, ?batch/s]"
      ]
     },
     "metadata": {},
     "output_type": "display_data"
    },
    {
     "name": "stdout",
     "output_type": "stream",
     "text": [
      "Test Accuracy: 42.12%\n"
     ]
    },
    {
     "data": {
      "application/vnd.jupyter.widget-view+json": {
       "model_id": "23f53260df5647a9abcb3fa3cb3208bb",
       "version_major": 2,
       "version_minor": 0
      },
      "text/plain": [
       "Epoch    59:   0%|          | 0/14 [00:00<?, ?batch/s]"
      ]
     },
     "metadata": {},
     "output_type": "display_data"
    },
    {
     "name": "stdout",
     "output_type": "stream",
     "text": [
      "Test Accuracy: 42.23%\n"
     ]
    },
    {
     "data": {
      "application/vnd.jupyter.widget-view+json": {
       "model_id": "dbd9102134484ccd9c53482d4290b60a",
       "version_major": 2,
       "version_minor": 0
      },
      "text/plain": [
       "Epoch    60:   0%|          | 0/15 [00:00<?, ?batch/s]"
      ]
     },
     "metadata": {},
     "output_type": "display_data"
    },
    {
     "name": "stdout",
     "output_type": "stream",
     "text": [
      "Test Accuracy: 40.88%\n"
     ]
    },
    {
     "data": {
      "application/vnd.jupyter.widget-view+json": {
       "model_id": "a940237e3c7a4bb2be511dfa7ab8c19e",
       "version_major": 2,
       "version_minor": 0
      },
      "text/plain": [
       "Epoch    61:   0%|          | 0/15 [00:00<?, ?batch/s]"
      ]
     },
     "metadata": {},
     "output_type": "display_data"
    },
    {
     "name": "stdout",
     "output_type": "stream",
     "text": [
      "Test Accuracy: 42.04%\n"
     ]
    },
    {
     "data": {
      "application/vnd.jupyter.widget-view+json": {
       "model_id": "923c42646ba046048a3e75c8e2c710d0",
       "version_major": 2,
       "version_minor": 0
      },
      "text/plain": [
       "Epoch    62:   0%|          | 0/16 [00:00<?, ?batch/s]"
      ]
     },
     "metadata": {},
     "output_type": "display_data"
    },
    {
     "name": "stdout",
     "output_type": "stream",
     "text": [
      "Test Accuracy: 43.02%\n"
     ]
    },
    {
     "data": {
      "application/vnd.jupyter.widget-view+json": {
       "model_id": "38b08eb243184b6e9dddbd76e9f99920",
       "version_major": 2,
       "version_minor": 0
      },
      "text/plain": [
       "Epoch    63:   0%|          | 0/16 [00:00<?, ?batch/s]"
      ]
     },
     "metadata": {},
     "output_type": "display_data"
    },
    {
     "name": "stdout",
     "output_type": "stream",
     "text": [
      "Test Accuracy: 43.19%\n"
     ]
    },
    {
     "data": {
      "application/vnd.jupyter.widget-view+json": {
       "model_id": "427351e1d3e242fe866ad72bc9b4b511",
       "version_major": 2,
       "version_minor": 0
      },
      "text/plain": [
       "Epoch    64:   0%|          | 0/17 [00:00<?, ?batch/s]"
      ]
     },
     "metadata": {},
     "output_type": "display_data"
    },
    {
     "name": "stdout",
     "output_type": "stream",
     "text": [
      "Test Accuracy: 42.93%\n"
     ]
    },
    {
     "data": {
      "application/vnd.jupyter.widget-view+json": {
       "model_id": "736cca357d064a829eea7509d2e059bf",
       "version_major": 2,
       "version_minor": 0
      },
      "text/plain": [
       "Epoch    65:   0%|          | 0/18 [00:00<?, ?batch/s]"
      ]
     },
     "metadata": {},
     "output_type": "display_data"
    },
    {
     "name": "stdout",
     "output_type": "stream",
     "text": [
      "Test Accuracy: 43.15%\n"
     ]
    },
    {
     "data": {
      "application/vnd.jupyter.widget-view+json": {
       "model_id": "618729bd0064404fb85d922d706603b7",
       "version_major": 2,
       "version_minor": 0
      },
      "text/plain": [
       "Epoch    66:   0%|          | 0/18 [00:00<?, ?batch/s]"
      ]
     },
     "metadata": {},
     "output_type": "display_data"
    },
    {
     "name": "stdout",
     "output_type": "stream",
     "text": [
      "Test Accuracy: 41.91%\n"
     ]
    },
    {
     "data": {
      "application/vnd.jupyter.widget-view+json": {
       "model_id": "5495ba7867014bb3892b236dd34f7b06",
       "version_major": 2,
       "version_minor": 0
      },
      "text/plain": [
       "Epoch    67:   0%|          | 0/19 [00:00<?, ?batch/s]"
      ]
     },
     "metadata": {},
     "output_type": "display_data"
    },
    {
     "name": "stdout",
     "output_type": "stream",
     "text": [
      "Test Accuracy: 43.65%\n"
     ]
    },
    {
     "data": {
      "application/vnd.jupyter.widget-view+json": {
       "model_id": "7d4809de5eaa44dc973360702d9bd41b",
       "version_major": 2,
       "version_minor": 0
      },
      "text/plain": [
       "Epoch    68:   0%|          | 0/20 [00:00<?, ?batch/s]"
      ]
     },
     "metadata": {},
     "output_type": "display_data"
    },
    {
     "name": "stdout",
     "output_type": "stream",
     "text": [
      "Test Accuracy: 42.52%\n"
     ]
    },
    {
     "data": {
      "application/vnd.jupyter.widget-view+json": {
       "model_id": "6d47082a544c4da3b942e65abfe04739",
       "version_major": 2,
       "version_minor": 0
      },
      "text/plain": [
       "Epoch    69:   0%|          | 0/20 [00:00<?, ?batch/s]"
      ]
     },
     "metadata": {},
     "output_type": "display_data"
    },
    {
     "name": "stdout",
     "output_type": "stream",
     "text": [
      "Test Accuracy: 43.14%\n"
     ]
    },
    {
     "data": {
      "application/vnd.jupyter.widget-view+json": {
       "model_id": "77448337be0a4819b32ec6d14c2795eb",
       "version_major": 2,
       "version_minor": 0
      },
      "text/plain": [
       "Epoch    70:   0%|          | 0/21 [00:00<?, ?batch/s]"
      ]
     },
     "metadata": {},
     "output_type": "display_data"
    },
    {
     "name": "stdout",
     "output_type": "stream",
     "text": [
      "Test Accuracy: 43.39%\n"
     ]
    },
    {
     "data": {
      "application/vnd.jupyter.widget-view+json": {
       "model_id": "81431af3b87f46fe931608dd642abf51",
       "version_major": 2,
       "version_minor": 0
      },
      "text/plain": [
       "Epoch    71:   0%|          | 0/21 [00:00<?, ?batch/s]"
      ]
     },
     "metadata": {},
     "output_type": "display_data"
    },
    {
     "name": "stdout",
     "output_type": "stream",
     "text": [
      "Test Accuracy: 43.5%\n"
     ]
    },
    {
     "data": {
      "application/vnd.jupyter.widget-view+json": {
       "model_id": "2bb5b2de018d45b796c81f905e5f7f68",
       "version_major": 2,
       "version_minor": 0
      },
      "text/plain": [
       "Epoch    72:   0%|          | 0/22 [00:00<?, ?batch/s]"
      ]
     },
     "metadata": {},
     "output_type": "display_data"
    },
    {
     "name": "stdout",
     "output_type": "stream",
     "text": [
      "Test Accuracy: 43.05%\n"
     ]
    },
    {
     "data": {
      "application/vnd.jupyter.widget-view+json": {
       "model_id": "9e24e6a9abb94c67bfb16d73bf04fc3e",
       "version_major": 2,
       "version_minor": 0
      },
      "text/plain": [
       "Epoch    73:   0%|          | 0/23 [00:00<?, ?batch/s]"
      ]
     },
     "metadata": {},
     "output_type": "display_data"
    },
    {
     "name": "stdout",
     "output_type": "stream",
     "text": [
      "Test Accuracy: 42.98%\n"
     ]
    },
    {
     "data": {
      "application/vnd.jupyter.widget-view+json": {
       "model_id": "e92bb1feaedc4984a7afcd4e5a926ded",
       "version_major": 2,
       "version_minor": 0
      },
      "text/plain": [
       "Epoch    74:   0%|          | 0/23 [00:00<?, ?batch/s]"
      ]
     },
     "metadata": {},
     "output_type": "display_data"
    },
    {
     "name": "stdout",
     "output_type": "stream",
     "text": [
      "Test Accuracy: 43.66%\n"
     ]
    },
    {
     "data": {
      "application/vnd.jupyter.widget-view+json": {
       "model_id": "74d1c3333f254db08416048caf08bb7c",
       "version_major": 2,
       "version_minor": 0
      },
      "text/plain": [
       "Epoch    75:   0%|          | 0/24 [00:00<?, ?batch/s]"
      ]
     },
     "metadata": {},
     "output_type": "display_data"
    },
    {
     "name": "stdout",
     "output_type": "stream",
     "text": [
      "Test Accuracy: 42.88%\n"
     ]
    },
    {
     "data": {
      "application/vnd.jupyter.widget-view+json": {
       "model_id": "a2f65c7e09784ea39759d20038ff3f08",
       "version_major": 2,
       "version_minor": 0
      },
      "text/plain": [
       "Epoch    76:   0%|          | 0/25 [00:00<?, ?batch/s]"
      ]
     },
     "metadata": {},
     "output_type": "display_data"
    },
    {
     "name": "stdout",
     "output_type": "stream",
     "text": [
      "Test Accuracy: 43.48%\n"
     ]
    },
    {
     "data": {
      "application/vnd.jupyter.widget-view+json": {
       "model_id": "2f2d9a5b120544308f645e650c0ad613",
       "version_major": 2,
       "version_minor": 0
      },
      "text/plain": [
       "Epoch    77:   0%|          | 0/25 [00:00<?, ?batch/s]"
      ]
     },
     "metadata": {},
     "output_type": "display_data"
    },
    {
     "name": "stdout",
     "output_type": "stream",
     "text": [
      "Test Accuracy: 44.25%\n"
     ]
    },
    {
     "data": {
      "application/vnd.jupyter.widget-view+json": {
       "model_id": "8465f09520d2496980bd9821f430653a",
       "version_major": 2,
       "version_minor": 0
      },
      "text/plain": [
       "Epoch    78:   0%|          | 0/26 [00:00<?, ?batch/s]"
      ]
     },
     "metadata": {},
     "output_type": "display_data"
    },
    {
     "name": "stdout",
     "output_type": "stream",
     "text": [
      "Test Accuracy: 42.98%\n"
     ]
    },
    {
     "data": {
      "application/vnd.jupyter.widget-view+json": {
       "model_id": "7bbc60ff83134745bff09373e770845a",
       "version_major": 2,
       "version_minor": 0
      },
      "text/plain": [
       "Epoch    79:   0%|          | 0/26 [00:00<?, ?batch/s]"
      ]
     },
     "metadata": {},
     "output_type": "display_data"
    },
    {
     "name": "stdout",
     "output_type": "stream",
     "text": [
      "Test Accuracy: 43.5%\n"
     ]
    },
    {
     "data": {
      "application/vnd.jupyter.widget-view+json": {
       "model_id": "242b207d032f4a35ae2240b735a53e5c",
       "version_major": 2,
       "version_minor": 0
      },
      "text/plain": [
       "Epoch    80:   0%|          | 0/27 [00:00<?, ?batch/s]"
      ]
     },
     "metadata": {},
     "output_type": "display_data"
    },
    {
     "name": "stdout",
     "output_type": "stream",
     "text": [
      "Test Accuracy: 43.39%\n"
     ]
    },
    {
     "data": {
      "application/vnd.jupyter.widget-view+json": {
       "model_id": "429c65a69679423f95defa97dc0e990d",
       "version_major": 2,
       "version_minor": 0
      },
      "text/plain": [
       "Epoch    81:   0%|          | 0/28 [00:00<?, ?batch/s]"
      ]
     },
     "metadata": {},
     "output_type": "display_data"
    },
    {
     "name": "stdout",
     "output_type": "stream",
     "text": [
      "Test Accuracy: 42.97%\n"
     ]
    },
    {
     "data": {
      "application/vnd.jupyter.widget-view+json": {
       "model_id": "49a3b95d9b8a45d78b00a09f3b0d7a30",
       "version_major": 2,
       "version_minor": 0
      },
      "text/plain": [
       "Epoch    82:   0%|          | 0/28 [00:00<?, ?batch/s]"
      ]
     },
     "metadata": {},
     "output_type": "display_data"
    },
    {
     "name": "stdout",
     "output_type": "stream",
     "text": [
      "Test Accuracy: 43.45%\n"
     ]
    },
    {
     "data": {
      "application/vnd.jupyter.widget-view+json": {
       "model_id": "bdb95d5f453b4135a5234979f3e3d175",
       "version_major": 2,
       "version_minor": 0
      },
      "text/plain": [
       "Epoch    83:   0%|          | 0/29 [00:00<?, ?batch/s]"
      ]
     },
     "metadata": {},
     "output_type": "display_data"
    },
    {
     "name": "stdout",
     "output_type": "stream",
     "text": [
      "Test Accuracy: 43.16%\n"
     ]
    },
    {
     "data": {
      "application/vnd.jupyter.widget-view+json": {
       "model_id": "18b99624f3b14c8ca47ef662ef805145",
       "version_major": 2,
       "version_minor": 0
      },
      "text/plain": [
       "Epoch    84:   0%|          | 0/30 [00:00<?, ?batch/s]"
      ]
     },
     "metadata": {},
     "output_type": "display_data"
    },
    {
     "name": "stdout",
     "output_type": "stream",
     "text": [
      "Test Accuracy: 43.53%\n"
     ]
    },
    {
     "data": {
      "application/vnd.jupyter.widget-view+json": {
       "model_id": "df41cace44c544e0a13c05804b159c95",
       "version_major": 2,
       "version_minor": 0
      },
      "text/plain": [
       "Epoch    85:   0%|          | 0/30 [00:00<?, ?batch/s]"
      ]
     },
     "metadata": {},
     "output_type": "display_data"
    },
    {
     "name": "stdout",
     "output_type": "stream",
     "text": [
      "Test Accuracy: 43.91%\n"
     ]
    },
    {
     "data": {
      "application/vnd.jupyter.widget-view+json": {
       "model_id": "5f59a1c78e1e44ef963e5e823d32bfae",
       "version_major": 2,
       "version_minor": 0
      },
      "text/plain": [
       "Epoch    86:   0%|          | 0/31 [00:00<?, ?batch/s]"
      ]
     },
     "metadata": {},
     "output_type": "display_data"
    },
    {
     "name": "stdout",
     "output_type": "stream",
     "text": [
      "Test Accuracy: 43.54%\n"
     ]
    },
    {
     "data": {
      "application/vnd.jupyter.widget-view+json": {
       "model_id": "863c04ac33b3466aa74bbf9a0ed6b069",
       "version_major": 2,
       "version_minor": 0
      },
      "text/plain": [
       "Epoch    87:   0%|          | 0/31 [00:00<?, ?batch/s]"
      ]
     },
     "metadata": {},
     "output_type": "display_data"
    },
    {
     "name": "stdout",
     "output_type": "stream",
     "text": [
      "Test Accuracy: 44.02%\n"
     ]
    },
    {
     "data": {
      "application/vnd.jupyter.widget-view+json": {
       "model_id": "33b0112e4b40409ead04cfa44c32496e",
       "version_major": 2,
       "version_minor": 0
      },
      "text/plain": [
       "Epoch    88:   0%|          | 0/32 [00:00<?, ?batch/s]"
      ]
     },
     "metadata": {},
     "output_type": "display_data"
    },
    {
     "name": "stdout",
     "output_type": "stream",
     "text": [
      "Test Accuracy: 43.38%\n"
     ]
    },
    {
     "data": {
      "application/vnd.jupyter.widget-view+json": {
       "model_id": "da35a4a2bc9644bfbf3965e87fa3d1cc",
       "version_major": 2,
       "version_minor": 0
      },
      "text/plain": [
       "Epoch    89:   0%|          | 0/33 [00:00<?, ?batch/s]"
      ]
     },
     "metadata": {},
     "output_type": "display_data"
    },
    {
     "name": "stdout",
     "output_type": "stream",
     "text": [
      "Test Accuracy: 43.68%\n"
     ]
    },
    {
     "data": {
      "application/vnd.jupyter.widget-view+json": {
       "model_id": "65fb8a298dc54502adf7295b8ca446db",
       "version_major": 2,
       "version_minor": 0
      },
      "text/plain": [
       "Epoch    90:   0%|          | 0/33 [00:00<?, ?batch/s]"
      ]
     },
     "metadata": {},
     "output_type": "display_data"
    },
    {
     "name": "stdout",
     "output_type": "stream",
     "text": [
      "Test Accuracy: 44.34%\n"
     ]
    },
    {
     "data": {
      "application/vnd.jupyter.widget-view+json": {
       "model_id": "d04f0f7d9b3a4b0e9b779f3ae1394a18",
       "version_major": 2,
       "version_minor": 0
      },
      "text/plain": [
       "Epoch    91:   0%|          | 0/34 [00:00<?, ?batch/s]"
      ]
     },
     "metadata": {},
     "output_type": "display_data"
    },
    {
     "name": "stdout",
     "output_type": "stream",
     "text": [
      "Test Accuracy: 44.17%\n"
     ]
    },
    {
     "data": {
      "application/vnd.jupyter.widget-view+json": {
       "model_id": "8300b63467db4f5fb56115958eedc200",
       "version_major": 2,
       "version_minor": 0
      },
      "text/plain": [
       "Epoch    92:   0%|          | 0/35 [00:00<?, ?batch/s]"
      ]
     },
     "metadata": {},
     "output_type": "display_data"
    },
    {
     "name": "stdout",
     "output_type": "stream",
     "text": [
      "Test Accuracy: 43.75%\n"
     ]
    },
    {
     "data": {
      "application/vnd.jupyter.widget-view+json": {
       "model_id": "1fad28f4fd13401db458be184b90e54c",
       "version_major": 2,
       "version_minor": 0
      },
      "text/plain": [
       "Epoch    93:   0%|          | 0/35 [00:00<?, ?batch/s]"
      ]
     },
     "metadata": {},
     "output_type": "display_data"
    },
    {
     "name": "stdout",
     "output_type": "stream",
     "text": [
      "Test Accuracy: 43.62%\n"
     ]
    },
    {
     "data": {
      "application/vnd.jupyter.widget-view+json": {
       "model_id": "18c1444fc6a047649c0047f7a2be2b49",
       "version_major": 2,
       "version_minor": 0
      },
      "text/plain": [
       "Epoch    94:   0%|          | 0/36 [00:00<?, ?batch/s]"
      ]
     },
     "metadata": {},
     "output_type": "display_data"
    },
    {
     "name": "stdout",
     "output_type": "stream",
     "text": [
      "Test Accuracy: 43.6%\n"
     ]
    },
    {
     "data": {
      "application/vnd.jupyter.widget-view+json": {
       "model_id": "2b3aa99e6b6e452b894311fa00fa67ef",
       "version_major": 2,
       "version_minor": 0
      },
      "text/plain": [
       "Epoch    95:   0%|          | 0/36 [00:00<?, ?batch/s]"
      ]
     },
     "metadata": {},
     "output_type": "display_data"
    },
    {
     "name": "stdout",
     "output_type": "stream",
     "text": [
      "Test Accuracy: 43.46%\n"
     ]
    },
    {
     "data": {
      "application/vnd.jupyter.widget-view+json": {
       "model_id": "f09b36e4aab34f63b7c5f92a74baa9b0",
       "version_major": 2,
       "version_minor": 0
      },
      "text/plain": [
       "Epoch    96:   0%|          | 0/37 [00:00<?, ?batch/s]"
      ]
     },
     "metadata": {},
     "output_type": "display_data"
    },
    {
     "name": "stdout",
     "output_type": "stream",
     "text": [
      "Test Accuracy: 43.61%\n"
     ]
    },
    {
     "data": {
      "application/vnd.jupyter.widget-view+json": {
       "model_id": "79cccad484b445ca89a779b0385d9766",
       "version_major": 2,
       "version_minor": 0
      },
      "text/plain": [
       "Epoch    97:   0%|          | 0/38 [00:00<?, ?batch/s]"
      ]
     },
     "metadata": {},
     "output_type": "display_data"
    },
    {
     "name": "stdout",
     "output_type": "stream",
     "text": [
      "Test Accuracy: 43.6%\n"
     ]
    },
    {
     "data": {
      "application/vnd.jupyter.widget-view+json": {
       "model_id": "b95fad9080404aa6a1a3660bcacaee73",
       "version_major": 2,
       "version_minor": 0
      },
      "text/plain": [
       "Epoch    98:   0%|          | 0/38 [00:00<?, ?batch/s]"
      ]
     },
     "metadata": {},
     "output_type": "display_data"
    },
    {
     "name": "stdout",
     "output_type": "stream",
     "text": [
      "Test Accuracy: 43.64%\n"
     ]
    },
    {
     "data": {
      "application/vnd.jupyter.widget-view+json": {
       "model_id": "830e32c8a2e14805aba400eda5f5bbf2",
       "version_major": 2,
       "version_minor": 0
      },
      "text/plain": [
       "Epoch    99:   0%|          | 0/39 [00:00<?, ?batch/s]"
      ]
     },
     "metadata": {},
     "output_type": "display_data"
    },
    {
     "name": "stdout",
     "output_type": "stream",
     "text": [
      "Test Accuracy: 43.67%\n"
     ]
    },
    {
     "data": {
      "application/vnd.jupyter.widget-view+json": {
       "model_id": "1749cfbce4674ca5bcddf72995404aa2",
       "version_major": 2,
       "version_minor": 0
      },
      "text/plain": [
       "Epoch   100:   0%|          | 0/40 [00:00<?, ?batch/s]"
      ]
     },
     "metadata": {},
     "output_type": "display_data"
    },
    {
     "name": "stdout",
     "output_type": "stream",
     "text": [
      "Test Accuracy: 43.67%\n"
     ]
    },
    {
     "data": {
      "application/vnd.jupyter.widget-view+json": {
       "model_id": "2fa9156f0b384d3f9567576a4cad0570",
       "version_major": 2,
       "version_minor": 0
      },
      "text/plain": [
       "Epoch   101:   0%|          | 0/40 [00:00<?, ?batch/s]"
      ]
     },
     "metadata": {},
     "output_type": "display_data"
    },
    {
     "name": "stdout",
     "output_type": "stream",
     "text": [
      "Test Accuracy: 43.65%\n"
     ]
    },
    {
     "data": {
      "application/vnd.jupyter.widget-view+json": {
       "model_id": "c221317d2f4f4c64ae6d1d2a113e9b8c",
       "version_major": 2,
       "version_minor": 0
      },
      "text/plain": [
       "Epoch   102:   0%|          | 0/40 [00:00<?, ?batch/s]"
      ]
     },
     "metadata": {},
     "output_type": "display_data"
    },
    {
     "name": "stdout",
     "output_type": "stream",
     "text": [
      "Test Accuracy: 43.63%\n"
     ]
    },
    {
     "data": {
      "application/vnd.jupyter.widget-view+json": {
       "model_id": "92ad461fc11c428b8cf77bee9f2721ca",
       "version_major": 2,
       "version_minor": 0
      },
      "text/plain": [
       "Epoch   103:   0%|          | 0/40 [00:00<?, ?batch/s]"
      ]
     },
     "metadata": {},
     "output_type": "display_data"
    },
    {
     "name": "stdout",
     "output_type": "stream",
     "text": [
      "Test Accuracy: 43.63%\n"
     ]
    },
    {
     "data": {
      "application/vnd.jupyter.widget-view+json": {
       "model_id": "22d309334b7444eb9bd8ee3e4732df74",
       "version_major": 2,
       "version_minor": 0
      },
      "text/plain": [
       "Epoch   104:   0%|          | 0/40 [00:00<?, ?batch/s]"
      ]
     },
     "metadata": {},
     "output_type": "display_data"
    },
    {
     "name": "stdout",
     "output_type": "stream",
     "text": [
      "Test Accuracy: 43.74%\n"
     ]
    },
    {
     "data": {
      "application/vnd.jupyter.widget-view+json": {
       "model_id": "0a9b768324eb445f977fd50a1e1900c8",
       "version_major": 2,
       "version_minor": 0
      },
      "text/plain": [
       "Epoch   105:   0%|          | 0/40 [00:00<?, ?batch/s]"
      ]
     },
     "metadata": {},
     "output_type": "display_data"
    },
    {
     "name": "stdout",
     "output_type": "stream",
     "text": [
      "Test Accuracy: 43.5%\n"
     ]
    },
    {
     "data": {
      "application/vnd.jupyter.widget-view+json": {
       "model_id": "3438d9c91eaa49e2892c78a99635bb3b",
       "version_major": 2,
       "version_minor": 0
      },
      "text/plain": [
       "Epoch   106:   0%|          | 0/40 [00:00<?, ?batch/s]"
      ]
     },
     "metadata": {},
     "output_type": "display_data"
    },
    {
     "name": "stdout",
     "output_type": "stream",
     "text": [
      "Test Accuracy: 43.44%\n"
     ]
    },
    {
     "data": {
      "application/vnd.jupyter.widget-view+json": {
       "model_id": "c3664df2253b44cb93a1367e51a5f5e2",
       "version_major": 2,
       "version_minor": 0
      },
      "text/plain": [
       "Epoch   107:   0%|          | 0/40 [00:00<?, ?batch/s]"
      ]
     },
     "metadata": {},
     "output_type": "display_data"
    },
    {
     "name": "stdout",
     "output_type": "stream",
     "text": [
      "Test Accuracy: 43.5%\n"
     ]
    },
    {
     "data": {
      "application/vnd.jupyter.widget-view+json": {
       "model_id": "960d8a50081e41dab1333c4bff9a9a2d",
       "version_major": 2,
       "version_minor": 0
      },
      "text/plain": [
       "Epoch   108:   0%|          | 0/40 [00:00<?, ?batch/s]"
      ]
     },
     "metadata": {},
     "output_type": "display_data"
    },
    {
     "name": "stdout",
     "output_type": "stream",
     "text": [
      "Test Accuracy: 43.77%\n"
     ]
    },
    {
     "data": {
      "application/vnd.jupyter.widget-view+json": {
       "model_id": "f805bc2609644f87bf2ca186555ef995",
       "version_major": 2,
       "version_minor": 0
      },
      "text/plain": [
       "Epoch   109:   0%|          | 0/40 [00:00<?, ?batch/s]"
      ]
     },
     "metadata": {},
     "output_type": "display_data"
    },
    {
     "name": "stdout",
     "output_type": "stream",
     "text": [
      "Test Accuracy: 43.56%\n"
     ]
    },
    {
     "data": {
      "application/vnd.jupyter.widget-view+json": {
       "model_id": "aa1217c7ecf04d7ca21e86f93c4111cc",
       "version_major": 2,
       "version_minor": 0
      },
      "text/plain": [
       "Epoch   110:   0%|          | 0/40 [00:00<?, ?batch/s]"
      ]
     },
     "metadata": {},
     "output_type": "display_data"
    },
    {
     "name": "stdout",
     "output_type": "stream",
     "text": [
      "Test Accuracy: 43.12%\n"
     ]
    },
    {
     "data": {
      "application/vnd.jupyter.widget-view+json": {
       "model_id": "598560b586964d9fa7060685ef4b0fc2",
       "version_major": 2,
       "version_minor": 0
      },
      "text/plain": [
       "Epoch   111:   0%|          | 0/40 [00:00<?, ?batch/s]"
      ]
     },
     "metadata": {},
     "output_type": "display_data"
    },
    {
     "name": "stdout",
     "output_type": "stream",
     "text": [
      "Test Accuracy: 43.52%\n"
     ]
    },
    {
     "data": {
      "application/vnd.jupyter.widget-view+json": {
       "model_id": "5bbc8e10b93645069d229957b7cee1dc",
       "version_major": 2,
       "version_minor": 0
      },
      "text/plain": [
       "Epoch   112:   0%|          | 0/40 [00:00<?, ?batch/s]"
      ]
     },
     "metadata": {},
     "output_type": "display_data"
    },
    {
     "name": "stdout",
     "output_type": "stream",
     "text": [
      "Test Accuracy: 43.84%\n"
     ]
    },
    {
     "data": {
      "application/vnd.jupyter.widget-view+json": {
       "model_id": "cc69d0d658fe450b837f5d038ff78a40",
       "version_major": 2,
       "version_minor": 0
      },
      "text/plain": [
       "Epoch   113:   0%|          | 0/40 [00:00<?, ?batch/s]"
      ]
     },
     "metadata": {},
     "output_type": "display_data"
    },
    {
     "name": "stdout",
     "output_type": "stream",
     "text": [
      "Test Accuracy: 43.87%\n"
     ]
    },
    {
     "data": {
      "application/vnd.jupyter.widget-view+json": {
       "model_id": "e1511df74326411895cb01257b54287f",
       "version_major": 2,
       "version_minor": 0
      },
      "text/plain": [
       "Epoch   114:   0%|          | 0/40 [00:00<?, ?batch/s]"
      ]
     },
     "metadata": {},
     "output_type": "display_data"
    },
    {
     "name": "stdout",
     "output_type": "stream",
     "text": [
      "Test Accuracy: 43.4%\n"
     ]
    },
    {
     "data": {
      "application/vnd.jupyter.widget-view+json": {
       "model_id": "3e0dc6d07a074de0a0d749158f92c078",
       "version_major": 2,
       "version_minor": 0
      },
      "text/plain": [
       "Epoch   115:   0%|          | 0/40 [00:00<?, ?batch/s]"
      ]
     },
     "metadata": {},
     "output_type": "display_data"
    },
    {
     "name": "stdout",
     "output_type": "stream",
     "text": [
      "Test Accuracy: 42.74%\n"
     ]
    },
    {
     "data": {
      "application/vnd.jupyter.widget-view+json": {
       "model_id": "4c05cc829f494727876223e0cee285aa",
       "version_major": 2,
       "version_minor": 0
      },
      "text/plain": [
       "Epoch   116:   0%|          | 0/40 [00:00<?, ?batch/s]"
      ]
     },
     "metadata": {},
     "output_type": "display_data"
    },
    {
     "name": "stdout",
     "output_type": "stream",
     "text": [
      "Test Accuracy: 43.54%\n"
     ]
    },
    {
     "data": {
      "application/vnd.jupyter.widget-view+json": {
       "model_id": "3f9ce3cd331143cfaa79465e41ecaee1",
       "version_major": 2,
       "version_minor": 0
      },
      "text/plain": [
       "Epoch   117:   0%|          | 0/40 [00:00<?, ?batch/s]"
      ]
     },
     "metadata": {},
     "output_type": "display_data"
    },
    {
     "name": "stdout",
     "output_type": "stream",
     "text": [
      "Test Accuracy: 43.36%\n"
     ]
    },
    {
     "data": {
      "application/vnd.jupyter.widget-view+json": {
       "model_id": "2bdfe82b5be446d98d311781f02d5f07",
       "version_major": 2,
       "version_minor": 0
      },
      "text/plain": [
       "Epoch   118:   0%|          | 0/40 [00:00<?, ?batch/s]"
      ]
     },
     "metadata": {},
     "output_type": "display_data"
    },
    {
     "name": "stdout",
     "output_type": "stream",
     "text": [
      "Test Accuracy: 43.24%\n"
     ]
    },
    {
     "data": {
      "application/vnd.jupyter.widget-view+json": {
       "model_id": "5dd30d9b992941dc920d62fc1238192b",
       "version_major": 2,
       "version_minor": 0
      },
      "text/plain": [
       "Epoch   119:   0%|          | 0/40 [00:00<?, ?batch/s]"
      ]
     },
     "metadata": {},
     "output_type": "display_data"
    },
    {
     "name": "stdout",
     "output_type": "stream",
     "text": [
      "Test Accuracy: 43.38%\n"
     ]
    },
    {
     "data": {
      "application/vnd.jupyter.widget-view+json": {
       "model_id": "6d9129a5ccb944b0ae35fdff97682813",
       "version_major": 2,
       "version_minor": 0
      },
      "text/plain": [
       "Epoch   120:   0%|          | 0/40 [00:00<?, ?batch/s]"
      ]
     },
     "metadata": {},
     "output_type": "display_data"
    },
    {
     "name": "stdout",
     "output_type": "stream",
     "text": [
      "Test Accuracy: 42.98%\n"
     ]
    },
    {
     "data": {
      "application/vnd.jupyter.widget-view+json": {
       "model_id": "0efef71087c04c1fbc9fdd29b9599294",
       "version_major": 2,
       "version_minor": 0
      },
      "text/plain": [
       "Epoch   121:   0%|          | 0/40 [00:00<?, ?batch/s]"
      ]
     },
     "metadata": {},
     "output_type": "display_data"
    },
    {
     "name": "stdout",
     "output_type": "stream",
     "text": [
      "Test Accuracy: 43.65%\n"
     ]
    },
    {
     "data": {
      "application/vnd.jupyter.widget-view+json": {
       "model_id": "30995e3d91644bbf838e62f7b228ff7a",
       "version_major": 2,
       "version_minor": 0
      },
      "text/plain": [
       "Epoch   122:   0%|          | 0/40 [00:00<?, ?batch/s]"
      ]
     },
     "metadata": {},
     "output_type": "display_data"
    },
    {
     "name": "stdout",
     "output_type": "stream",
     "text": [
      "Test Accuracy: 43.62%\n"
     ]
    },
    {
     "data": {
      "application/vnd.jupyter.widget-view+json": {
       "model_id": "74c9c9d047cc4bebab67df54f5b1ab4f",
       "version_major": 2,
       "version_minor": 0
      },
      "text/plain": [
       "Epoch   123:   0%|          | 0/40 [00:00<?, ?batch/s]"
      ]
     },
     "metadata": {},
     "output_type": "display_data"
    },
    {
     "name": "stdout",
     "output_type": "stream",
     "text": [
      "Test Accuracy: 43.03%\n"
     ]
    },
    {
     "data": {
      "application/vnd.jupyter.widget-view+json": {
       "model_id": "4cdf39e01a6c4cb2a92a8480f2acd490",
       "version_major": 2,
       "version_minor": 0
      },
      "text/plain": [
       "Epoch   124:   0%|          | 0/40 [00:00<?, ?batch/s]"
      ]
     },
     "metadata": {},
     "output_type": "display_data"
    },
    {
     "name": "stdout",
     "output_type": "stream",
     "text": [
      "Test Accuracy: 43.41%\n"
     ]
    },
    {
     "data": {
      "application/vnd.jupyter.widget-view+json": {
       "model_id": "2529a5f3c99c480c838ee5fdd712a03e",
       "version_major": 2,
       "version_minor": 0
      },
      "text/plain": [
       "Epoch   125:   0%|          | 0/40 [00:00<?, ?batch/s]"
      ]
     },
     "metadata": {},
     "output_type": "display_data"
    },
    {
     "name": "stdout",
     "output_type": "stream",
     "text": [
      "Test Accuracy: 42.91%\n"
     ]
    },
    {
     "data": {
      "application/vnd.jupyter.widget-view+json": {
       "model_id": "2f7a661deb954801bfc7b0b22ada97ab",
       "version_major": 2,
       "version_minor": 0
      },
      "text/plain": [
       "Epoch   126:   0%|          | 0/40 [00:00<?, ?batch/s]"
      ]
     },
     "metadata": {},
     "output_type": "display_data"
    },
    {
     "name": "stdout",
     "output_type": "stream",
     "text": [
      "Test Accuracy: 43.59%\n"
     ]
    },
    {
     "data": {
      "application/vnd.jupyter.widget-view+json": {
       "model_id": "1c6fc94f9f3549d29bbbd52b84929a1c",
       "version_major": 2,
       "version_minor": 0
      },
      "text/plain": [
       "Epoch   127:   0%|          | 0/40 [00:00<?, ?batch/s]"
      ]
     },
     "metadata": {},
     "output_type": "display_data"
    },
    {
     "ename": "KeyboardInterrupt",
     "evalue": "",
     "output_type": "error",
     "traceback": [
      "\u001b[0;31m---------------------------------------------------------------------------\u001b[0m",
      "\u001b[0;31mKeyboardInterrupt\u001b[0m                         Traceback (most recent call last)",
      "Cell \u001b[0;32mIn[28], line 50\u001b[0m\n\u001b[1;32m     48\u001b[0m \u001b[39m# Apply strong augmentation + weak augmentation to unlabeled data\u001b[39;00m\n\u001b[1;32m     49\u001b[0m weak_unlabeled_inputs \u001b[39m=\u001b[39m weak_transform(unlabeled_inputs)\n\u001b[0;32m---> 50\u001b[0m strong_unlabeled_inputs \u001b[39m=\u001b[39m strong_transform(unlabeled_inputs)\n\u001b[1;32m     52\u001b[0m \u001b[39m# normalize\u001b[39;00m\n\u001b[1;32m     53\u001b[0m weak_labeled_inputs \u001b[39m=\u001b[39m normalize(data\u001b[39m=\u001b[39mweak_labeled_inputs, mean\u001b[39m=\u001b[39mmean, std\u001b[39m=\u001b[39mstd)\n",
      "File \u001b[0;32m/usr/local/lib/python3.10/dist-packages/torch/nn/modules/module.py:1501\u001b[0m, in \u001b[0;36mModule._call_impl\u001b[0;34m(self, *args, **kwargs)\u001b[0m\n\u001b[1;32m   1496\u001b[0m \u001b[39m# If we don't have any hooks, we want to skip the rest of the logic in\u001b[39;00m\n\u001b[1;32m   1497\u001b[0m \u001b[39m# this function, and just call forward.\u001b[39;00m\n\u001b[1;32m   1498\u001b[0m \u001b[39mif\u001b[39;00m \u001b[39mnot\u001b[39;00m (\u001b[39mself\u001b[39m\u001b[39m.\u001b[39m_backward_hooks \u001b[39mor\u001b[39;00m \u001b[39mself\u001b[39m\u001b[39m.\u001b[39m_backward_pre_hooks \u001b[39mor\u001b[39;00m \u001b[39mself\u001b[39m\u001b[39m.\u001b[39m_forward_hooks \u001b[39mor\u001b[39;00m \u001b[39mself\u001b[39m\u001b[39m.\u001b[39m_forward_pre_hooks\n\u001b[1;32m   1499\u001b[0m         \u001b[39mor\u001b[39;00m _global_backward_pre_hooks \u001b[39mor\u001b[39;00m _global_backward_hooks\n\u001b[1;32m   1500\u001b[0m         \u001b[39mor\u001b[39;00m _global_forward_hooks \u001b[39mor\u001b[39;00m _global_forward_pre_hooks):\n\u001b[0;32m-> 1501\u001b[0m     \u001b[39mreturn\u001b[39;00m forward_call(\u001b[39m*\u001b[39;49margs, \u001b[39m*\u001b[39;49m\u001b[39m*\u001b[39;49mkwargs)\n\u001b[1;32m   1502\u001b[0m \u001b[39m# Do not call functions when jit is used\u001b[39;00m\n\u001b[1;32m   1503\u001b[0m full_backward_hooks, non_full_backward_hooks \u001b[39m=\u001b[39m [], []\n",
      "File \u001b[0;32m/usr/local/lib/python3.10/dist-packages/kornia/augmentation/container/base.py:273\u001b[0m, in \u001b[0;36mImageSequentialBase.forward\u001b[0;34m(self, input, params, extra_args)\u001b[0m\n\u001b[1;32m    270\u001b[0m     _, out_shape \u001b[39m=\u001b[39m \u001b[39mself\u001b[39m\u001b[39m.\u001b[39mautofill_dim(inp, dim_range\u001b[39m=\u001b[39m(\u001b[39m2\u001b[39m, \u001b[39m4\u001b[39m))\n\u001b[1;32m    271\u001b[0m     params \u001b[39m=\u001b[39m \u001b[39mself\u001b[39m\u001b[39m.\u001b[39mforward_parameters(out_shape)\n\u001b[0;32m--> 273\u001b[0m \u001b[39minput\u001b[39m \u001b[39m=\u001b[39m \u001b[39mself\u001b[39;49m\u001b[39m.\u001b[39;49mtransform_inputs(\u001b[39minput\u001b[39;49m, params\u001b[39m=\u001b[39;49mparams, extra_args\u001b[39m=\u001b[39;49mextra_args)\n\u001b[1;32m    275\u001b[0m \u001b[39mself\u001b[39m\u001b[39m.\u001b[39m_params \u001b[39m=\u001b[39m params\n\u001b[1;32m    276\u001b[0m \u001b[39mreturn\u001b[39;00m \u001b[39minput\u001b[39m\n",
      "File \u001b[0;32m/usr/local/lib/python3.10/dist-packages/kornia/augmentation/container/base.py:198\u001b[0m, in \u001b[0;36mImageSequentialBase.transform_inputs\u001b[0;34m(self, input, params, extra_args)\u001b[0m\n\u001b[1;32m    196\u001b[0m \u001b[39mfor\u001b[39;00m param \u001b[39min\u001b[39;00m params:\n\u001b[1;32m    197\u001b[0m     module \u001b[39m=\u001b[39m \u001b[39mself\u001b[39m\u001b[39m.\u001b[39mget_submodule(param\u001b[39m.\u001b[39mname)\n\u001b[0;32m--> 198\u001b[0m     \u001b[39minput\u001b[39m \u001b[39m=\u001b[39m InputSequentialOps\u001b[39m.\u001b[39;49mtransform(\u001b[39minput\u001b[39;49m, module\u001b[39m=\u001b[39;49mmodule, param\u001b[39m=\u001b[39;49mparam, extra_args\u001b[39m=\u001b[39;49mextra_args)\n\u001b[1;32m    199\u001b[0m \u001b[39mreturn\u001b[39;00m \u001b[39minput\u001b[39m\n",
      "File \u001b[0;32m/usr/local/lib/python3.10/dist-packages/kornia/augmentation/container/ops.py:157\u001b[0m, in \u001b[0;36mInputSequentialOps.transform\u001b[0;34m(cls, input, module, param, extra_args)\u001b[0m\n\u001b[1;32m    155\u001b[0m     \u001b[39minput\u001b[39m \u001b[39m=\u001b[39m module(\u001b[39minput\u001b[39m, params\u001b[39m=\u001b[39m\u001b[39mcls\u001b[39m\u001b[39m.\u001b[39mget_instance_module_param(param), \u001b[39m*\u001b[39m\u001b[39m*\u001b[39mextra_args)\n\u001b[1;32m    156\u001b[0m \u001b[39melif\u001b[39;00m \u001b[39misinstance\u001b[39m(module, (K\u001b[39m.\u001b[39mcontainer\u001b[39m.\u001b[39mImageSequentialBase,)):\n\u001b[0;32m--> 157\u001b[0m     \u001b[39minput\u001b[39m \u001b[39m=\u001b[39m module\u001b[39m.\u001b[39;49mtransform_inputs(\u001b[39minput\u001b[39;49m, params\u001b[39m=\u001b[39;49m\u001b[39mcls\u001b[39;49m\u001b[39m.\u001b[39;49mget_sequential_module_param(param), extra_args\u001b[39m=\u001b[39;49mextra_args)\n\u001b[1;32m    158\u001b[0m \u001b[39melif\u001b[39;00m \u001b[39misinstance\u001b[39m(module, (K\u001b[39m.\u001b[39mauto\u001b[39m.\u001b[39moperations\u001b[39m.\u001b[39mOperationBase,)):\n\u001b[1;32m    159\u001b[0m     \u001b[39minput\u001b[39m \u001b[39m=\u001b[39m module(\u001b[39minput\u001b[39m, params\u001b[39m=\u001b[39m\u001b[39mcls\u001b[39m\u001b[39m.\u001b[39mget_instance_module_param(param))\n",
      "File \u001b[0;32m/usr/local/lib/python3.10/dist-packages/kornia/augmentation/container/base.py:198\u001b[0m, in \u001b[0;36mImageSequentialBase.transform_inputs\u001b[0;34m(self, input, params, extra_args)\u001b[0m\n\u001b[1;32m    196\u001b[0m \u001b[39mfor\u001b[39;00m param \u001b[39min\u001b[39;00m params:\n\u001b[1;32m    197\u001b[0m     module \u001b[39m=\u001b[39m \u001b[39mself\u001b[39m\u001b[39m.\u001b[39mget_submodule(param\u001b[39m.\u001b[39mname)\n\u001b[0;32m--> 198\u001b[0m     \u001b[39minput\u001b[39m \u001b[39m=\u001b[39m InputSequentialOps\u001b[39m.\u001b[39;49mtransform(\u001b[39minput\u001b[39;49m, module\u001b[39m=\u001b[39;49mmodule, param\u001b[39m=\u001b[39;49mparam, extra_args\u001b[39m=\u001b[39;49mextra_args)\n\u001b[1;32m    199\u001b[0m \u001b[39mreturn\u001b[39;00m \u001b[39minput\u001b[39m\n",
      "File \u001b[0;32m/usr/local/lib/python3.10/dist-packages/kornia/augmentation/container/ops.py:157\u001b[0m, in \u001b[0;36mInputSequentialOps.transform\u001b[0;34m(cls, input, module, param, extra_args)\u001b[0m\n\u001b[1;32m    155\u001b[0m     \u001b[39minput\u001b[39m \u001b[39m=\u001b[39m module(\u001b[39minput\u001b[39m, params\u001b[39m=\u001b[39m\u001b[39mcls\u001b[39m\u001b[39m.\u001b[39mget_instance_module_param(param), \u001b[39m*\u001b[39m\u001b[39m*\u001b[39mextra_args)\n\u001b[1;32m    156\u001b[0m \u001b[39melif\u001b[39;00m \u001b[39misinstance\u001b[39m(module, (K\u001b[39m.\u001b[39mcontainer\u001b[39m.\u001b[39mImageSequentialBase,)):\n\u001b[0;32m--> 157\u001b[0m     \u001b[39minput\u001b[39m \u001b[39m=\u001b[39m module\u001b[39m.\u001b[39;49mtransform_inputs(\u001b[39minput\u001b[39;49m, params\u001b[39m=\u001b[39;49m\u001b[39mcls\u001b[39;49m\u001b[39m.\u001b[39;49mget_sequential_module_param(param), extra_args\u001b[39m=\u001b[39;49mextra_args)\n\u001b[1;32m    158\u001b[0m \u001b[39melif\u001b[39;00m \u001b[39misinstance\u001b[39m(module, (K\u001b[39m.\u001b[39mauto\u001b[39m.\u001b[39moperations\u001b[39m.\u001b[39mOperationBase,)):\n\u001b[1;32m    159\u001b[0m     \u001b[39minput\u001b[39m \u001b[39m=\u001b[39m module(\u001b[39minput\u001b[39m, params\u001b[39m=\u001b[39m\u001b[39mcls\u001b[39m\u001b[39m.\u001b[39mget_instance_module_param(param))\n",
      "File \u001b[0;32m/usr/local/lib/python3.10/dist-packages/kornia/augmentation/container/base.py:198\u001b[0m, in \u001b[0;36mImageSequentialBase.transform_inputs\u001b[0;34m(self, input, params, extra_args)\u001b[0m\n\u001b[1;32m    196\u001b[0m \u001b[39mfor\u001b[39;00m param \u001b[39min\u001b[39;00m params:\n\u001b[1;32m    197\u001b[0m     module \u001b[39m=\u001b[39m \u001b[39mself\u001b[39m\u001b[39m.\u001b[39mget_submodule(param\u001b[39m.\u001b[39mname)\n\u001b[0;32m--> 198\u001b[0m     \u001b[39minput\u001b[39m \u001b[39m=\u001b[39m InputSequentialOps\u001b[39m.\u001b[39;49mtransform(\u001b[39minput\u001b[39;49m, module\u001b[39m=\u001b[39;49mmodule, param\u001b[39m=\u001b[39;49mparam, extra_args\u001b[39m=\u001b[39;49mextra_args)\n\u001b[1;32m    199\u001b[0m \u001b[39mreturn\u001b[39;00m \u001b[39minput\u001b[39m\n",
      "File \u001b[0;32m/usr/local/lib/python3.10/dist-packages/kornia/augmentation/container/ops.py:159\u001b[0m, in \u001b[0;36mInputSequentialOps.transform\u001b[0;34m(cls, input, module, param, extra_args)\u001b[0m\n\u001b[1;32m    157\u001b[0m     \u001b[39minput\u001b[39m \u001b[39m=\u001b[39m module\u001b[39m.\u001b[39mtransform_inputs(\u001b[39minput\u001b[39m, params\u001b[39m=\u001b[39m\u001b[39mcls\u001b[39m\u001b[39m.\u001b[39mget_sequential_module_param(param), extra_args\u001b[39m=\u001b[39mextra_args)\n\u001b[1;32m    158\u001b[0m \u001b[39melif\u001b[39;00m \u001b[39misinstance\u001b[39m(module, (K\u001b[39m.\u001b[39mauto\u001b[39m.\u001b[39moperations\u001b[39m.\u001b[39mOperationBase,)):\n\u001b[0;32m--> 159\u001b[0m     \u001b[39minput\u001b[39m \u001b[39m=\u001b[39m module(\u001b[39minput\u001b[39;49m, params\u001b[39m=\u001b[39;49m\u001b[39mcls\u001b[39;49m\u001b[39m.\u001b[39;49mget_instance_module_param(param))\n\u001b[1;32m    160\u001b[0m \u001b[39melse\u001b[39;00m:\n\u001b[1;32m    161\u001b[0m     \u001b[39mif\u001b[39;00m param\u001b[39m.\u001b[39mdata \u001b[39mis\u001b[39;00m \u001b[39mnot\u001b[39;00m \u001b[39mNone\u001b[39;00m:\n",
      "File \u001b[0;32m/usr/local/lib/python3.10/dist-packages/torch/nn/modules/module.py:1501\u001b[0m, in \u001b[0;36mModule._call_impl\u001b[0;34m(self, *args, **kwargs)\u001b[0m\n\u001b[1;32m   1496\u001b[0m \u001b[39m# If we don't have any hooks, we want to skip the rest of the logic in\u001b[39;00m\n\u001b[1;32m   1497\u001b[0m \u001b[39m# this function, and just call forward.\u001b[39;00m\n\u001b[1;32m   1498\u001b[0m \u001b[39mif\u001b[39;00m \u001b[39mnot\u001b[39;00m (\u001b[39mself\u001b[39m\u001b[39m.\u001b[39m_backward_hooks \u001b[39mor\u001b[39;00m \u001b[39mself\u001b[39m\u001b[39m.\u001b[39m_backward_pre_hooks \u001b[39mor\u001b[39;00m \u001b[39mself\u001b[39m\u001b[39m.\u001b[39m_forward_hooks \u001b[39mor\u001b[39;00m \u001b[39mself\u001b[39m\u001b[39m.\u001b[39m_forward_pre_hooks\n\u001b[1;32m   1499\u001b[0m         \u001b[39mor\u001b[39;00m _global_backward_pre_hooks \u001b[39mor\u001b[39;00m _global_backward_hooks\n\u001b[1;32m   1500\u001b[0m         \u001b[39mor\u001b[39;00m _global_forward_hooks \u001b[39mor\u001b[39;00m _global_forward_pre_hooks):\n\u001b[0;32m-> 1501\u001b[0m     \u001b[39mreturn\u001b[39;00m forward_call(\u001b[39m*\u001b[39;49margs, \u001b[39m*\u001b[39;49m\u001b[39m*\u001b[39;49mkwargs)\n\u001b[1;32m   1502\u001b[0m \u001b[39m# Do not call functions when jit is used\u001b[39;00m\n\u001b[1;32m   1503\u001b[0m full_backward_hooks, non_full_backward_hooks \u001b[39m=\u001b[39m [], []\n",
      "File \u001b[0;32m/usr/local/lib/python3.10/dist-packages/kornia/augmentation/auto/operations/base.py:151\u001b[0m, in \u001b[0;36mOperationBase.forward\u001b[0;34m(self, input, params)\u001b[0m\n\u001b[1;32m    148\u001b[0m \u001b[39mif\u001b[39;00m \u001b[39mself\u001b[39m\u001b[39m.\u001b[39m_gradient_estimator \u001b[39mis\u001b[39;00m \u001b[39mnot\u001b[39;00m \u001b[39mNone\u001b[39;00m:\n\u001b[1;32m    149\u001b[0m     \u001b[39m# skip the gradient computation if gradient estimator is provided.\u001b[39;00m\n\u001b[1;32m    150\u001b[0m     \u001b[39mwith\u001b[39;00m torch\u001b[39m.\u001b[39mno_grad():\n\u001b[0;32m--> 151\u001b[0m         output \u001b[39m=\u001b[39m \u001b[39mself\u001b[39;49m\u001b[39m.\u001b[39;49mop(\u001b[39minput\u001b[39;49m, params\u001b[39m=\u001b[39;49mparams)\n\u001b[1;32m    152\u001b[0m     output \u001b[39m=\u001b[39m batch_prob \u001b[39m*\u001b[39m output \u001b[39m+\u001b[39m (\u001b[39m1\u001b[39m \u001b[39m-\u001b[39m batch_prob) \u001b[39m*\u001b[39m \u001b[39minput\u001b[39m\n\u001b[1;32m    153\u001b[0m     \u001b[39mif\u001b[39;00m \u001b[39mself\u001b[39m\u001b[39m.\u001b[39mmagnitude \u001b[39mis\u001b[39;00m \u001b[39mNone\u001b[39;00m:\n\u001b[1;32m    154\u001b[0m         \u001b[39m# If magnitude is None, make the grad w.r.t the input\u001b[39;00m\n",
      "File \u001b[0;32m/usr/local/lib/python3.10/dist-packages/torch/nn/modules/module.py:1501\u001b[0m, in \u001b[0;36mModule._call_impl\u001b[0;34m(self, *args, **kwargs)\u001b[0m\n\u001b[1;32m   1496\u001b[0m \u001b[39m# If we don't have any hooks, we want to skip the rest of the logic in\u001b[39;00m\n\u001b[1;32m   1497\u001b[0m \u001b[39m# this function, and just call forward.\u001b[39;00m\n\u001b[1;32m   1498\u001b[0m \u001b[39mif\u001b[39;00m \u001b[39mnot\u001b[39;00m (\u001b[39mself\u001b[39m\u001b[39m.\u001b[39m_backward_hooks \u001b[39mor\u001b[39;00m \u001b[39mself\u001b[39m\u001b[39m.\u001b[39m_backward_pre_hooks \u001b[39mor\u001b[39;00m \u001b[39mself\u001b[39m\u001b[39m.\u001b[39m_forward_hooks \u001b[39mor\u001b[39;00m \u001b[39mself\u001b[39m\u001b[39m.\u001b[39m_forward_pre_hooks\n\u001b[1;32m   1499\u001b[0m         \u001b[39mor\u001b[39;00m _global_backward_pre_hooks \u001b[39mor\u001b[39;00m _global_backward_hooks\n\u001b[1;32m   1500\u001b[0m         \u001b[39mor\u001b[39;00m _global_forward_hooks \u001b[39mor\u001b[39;00m _global_forward_pre_hooks):\n\u001b[0;32m-> 1501\u001b[0m     \u001b[39mreturn\u001b[39;00m forward_call(\u001b[39m*\u001b[39;49margs, \u001b[39m*\u001b[39;49m\u001b[39m*\u001b[39;49mkwargs)\n\u001b[1;32m   1502\u001b[0m \u001b[39m# Do not call functions when jit is used\u001b[39;00m\n\u001b[1;32m   1503\u001b[0m full_backward_hooks, non_full_backward_hooks \u001b[39m=\u001b[39m [], []\n",
      "File \u001b[0;32m/usr/local/lib/python3.10/dist-packages/kornia/augmentation/base.py:212\u001b[0m, in \u001b[0;36m_BasicAugmentationBase.forward\u001b[0;34m(self, input, params, **kwargs)\u001b[0m\n\u001b[1;32m    208\u001b[0m     params[\u001b[39m'\u001b[39m\u001b[39mbatch_prob\u001b[39m\u001b[39m'\u001b[39m] \u001b[39m=\u001b[39m tensor([\u001b[39mTrue\u001b[39;00m] \u001b[39m*\u001b[39m batch_shape[\u001b[39m0\u001b[39m])\n\u001b[1;32m    210\u001b[0m params, flags \u001b[39m=\u001b[39m \u001b[39mself\u001b[39m\u001b[39m.\u001b[39m_process_kwargs_to_params_and_flags(params, \u001b[39mself\u001b[39m\u001b[39m.\u001b[39mflags, \u001b[39m*\u001b[39m\u001b[39m*\u001b[39mkwargs)\n\u001b[0;32m--> 212\u001b[0m output \u001b[39m=\u001b[39m \u001b[39mself\u001b[39;49m\u001b[39m.\u001b[39;49mapply_func(in_tensor, params, flags)\n\u001b[1;32m    213\u001b[0m \u001b[39mreturn\u001b[39;00m \u001b[39mself\u001b[39m\u001b[39m.\u001b[39mtransform_output_tensor(output, input_shape) \u001b[39mif\u001b[39;00m \u001b[39mself\u001b[39m\u001b[39m.\u001b[39mkeepdim \u001b[39melse\u001b[39;00m output\n",
      "File \u001b[0;32m/usr/local/lib/python3.10/dist-packages/kornia/augmentation/_2d/base.py:125\u001b[0m, in \u001b[0;36mRigidAffineAugmentationBase2D.apply_func\u001b[0;34m(self, in_tensor, params, flags)\u001b[0m\n\u001b[1;32m    122\u001b[0m     flags \u001b[39m=\u001b[39m \u001b[39mself\u001b[39m\u001b[39m.\u001b[39mflags\n\u001b[1;32m    124\u001b[0m trans_matrix \u001b[39m=\u001b[39m \u001b[39mself\u001b[39m\u001b[39m.\u001b[39mgenerate_transformation_matrix(in_tensor, params, flags)\n\u001b[0;32m--> 125\u001b[0m output \u001b[39m=\u001b[39m \u001b[39mself\u001b[39;49m\u001b[39m.\u001b[39;49mtransform_inputs(in_tensor, params, flags, trans_matrix)\n\u001b[1;32m    126\u001b[0m \u001b[39mself\u001b[39m\u001b[39m.\u001b[39m_transform_matrix \u001b[39m=\u001b[39m trans_matrix\n\u001b[1;32m    128\u001b[0m \u001b[39mreturn\u001b[39;00m output\n",
      "File \u001b[0;32m/usr/local/lib/python3.10/dist-packages/kornia/augmentation/base.py:263\u001b[0m, in \u001b[0;36m_AugmentationBase.transform_inputs\u001b[0;34m(self, input, params, flags, transform, **kwargs)\u001b[0m\n\u001b[1;32m    261\u001b[0m in_tensor \u001b[39m=\u001b[39m \u001b[39mself\u001b[39m\u001b[39m.\u001b[39mtransform_tensor(\u001b[39minput\u001b[39m)\n\u001b[1;32m    262\u001b[0m \u001b[39mif\u001b[39;00m to_apply\u001b[39m.\u001b[39mall():\n\u001b[0;32m--> 263\u001b[0m     output \u001b[39m=\u001b[39m \u001b[39mself\u001b[39;49m\u001b[39m.\u001b[39;49mapply_transform(in_tensor, params, flags, transform\u001b[39m=\u001b[39;49mtransform)\n\u001b[1;32m    264\u001b[0m \u001b[39melif\u001b[39;00m \u001b[39mnot\u001b[39;00m to_apply\u001b[39m.\u001b[39many():\n\u001b[1;32m    265\u001b[0m     output \u001b[39m=\u001b[39m \u001b[39mself\u001b[39m\u001b[39m.\u001b[39mapply_non_transform(in_tensor, params, flags, transform\u001b[39m=\u001b[39mtransform)\n",
      "File \u001b[0;32m/usr/local/lib/python3.10/dist-packages/kornia/augmentation/_2d/intensity/equalize.py:51\u001b[0m, in \u001b[0;36mRandomEqualize.apply_transform\u001b[0;34m(self, input, params, flags, transform)\u001b[0m\n\u001b[1;32m     48\u001b[0m \u001b[39mdef\u001b[39;00m \u001b[39mapply_transform\u001b[39m(\n\u001b[1;32m     49\u001b[0m     \u001b[39mself\u001b[39m, \u001b[39minput\u001b[39m: Tensor, params: Dict[\u001b[39mstr\u001b[39m, Tensor], flags: Dict[\u001b[39mstr\u001b[39m, Any], transform: Optional[Tensor] \u001b[39m=\u001b[39m \u001b[39mNone\u001b[39;00m\n\u001b[1;32m     50\u001b[0m ) \u001b[39m-\u001b[39m\u001b[39m>\u001b[39m Tensor:\n\u001b[0;32m---> 51\u001b[0m     \u001b[39mreturn\u001b[39;00m equalize(\u001b[39minput\u001b[39;49m)\n",
      "File \u001b[0;32m/usr/local/lib/python3.10/dist-packages/kornia/utils/image.py:226\u001b[0m, in \u001b[0;36mperform_keep_shape_image.<locals>._wrapper\u001b[0;34m(input, *args, **kwargs)\u001b[0m\n\u001b[1;32m    224\u001b[0m input_shape \u001b[39m=\u001b[39m \u001b[39minput\u001b[39m\u001b[39m.\u001b[39mshape\n\u001b[1;32m    225\u001b[0m \u001b[39minput\u001b[39m \u001b[39m=\u001b[39m _to_bchw(\u001b[39minput\u001b[39m)  \u001b[39m# view input as (B, C, H, W)\u001b[39;00m\n\u001b[0;32m--> 226\u001b[0m output \u001b[39m=\u001b[39m f(\u001b[39minput\u001b[39;49m, \u001b[39m*\u001b[39;49margs, \u001b[39m*\u001b[39;49m\u001b[39m*\u001b[39;49mkwargs)\n\u001b[1;32m    227\u001b[0m \u001b[39mif\u001b[39;00m \u001b[39mlen\u001b[39m(input_shape) \u001b[39m==\u001b[39m \u001b[39m3\u001b[39m:\n\u001b[1;32m    228\u001b[0m     output \u001b[39m=\u001b[39m output[\u001b[39m0\u001b[39m]\n",
      "File \u001b[0;32m/usr/local/lib/python3.10/dist-packages/kornia/enhance/adjust.py:948\u001b[0m, in \u001b[0;36mequalize\u001b[0;34m(input)\u001b[0m\n\u001b[1;32m    944\u001b[0m res \u001b[39m=\u001b[39m []\n\u001b[1;32m    945\u001b[0m \u001b[39mfor\u001b[39;00m image \u001b[39min\u001b[39;00m \u001b[39minput\u001b[39m:\n\u001b[1;32m    946\u001b[0m     \u001b[39m# Assumes RGB for now.  Scales each channel independently\u001b[39;00m\n\u001b[1;32m    947\u001b[0m     \u001b[39m# and then stacks the result.\u001b[39;00m\n\u001b[0;32m--> 948\u001b[0m     scaled_image \u001b[39m=\u001b[39m torch\u001b[39m.\u001b[39mstack([_scale_channel(image[i, :, :]) \u001b[39mfor\u001b[39;00m i \u001b[39min\u001b[39;00m \u001b[39mrange\u001b[39m(\u001b[39mlen\u001b[39m(image))])\n\u001b[1;32m    949\u001b[0m     res\u001b[39m.\u001b[39mappend(scaled_image)\n\u001b[1;32m    950\u001b[0m \u001b[39mreturn\u001b[39;00m torch\u001b[39m.\u001b[39mstack(res)\n",
      "File \u001b[0;32m/usr/local/lib/python3.10/dist-packages/kornia/enhance/adjust.py:948\u001b[0m, in \u001b[0;36m<listcomp>\u001b[0;34m(.0)\u001b[0m\n\u001b[1;32m    944\u001b[0m res \u001b[39m=\u001b[39m []\n\u001b[1;32m    945\u001b[0m \u001b[39mfor\u001b[39;00m image \u001b[39min\u001b[39;00m \u001b[39minput\u001b[39m:\n\u001b[1;32m    946\u001b[0m     \u001b[39m# Assumes RGB for now.  Scales each channel independently\u001b[39;00m\n\u001b[1;32m    947\u001b[0m     \u001b[39m# and then stacks the result.\u001b[39;00m\n\u001b[0;32m--> 948\u001b[0m     scaled_image \u001b[39m=\u001b[39m torch\u001b[39m.\u001b[39mstack([_scale_channel(image[i, :, :]) \u001b[39mfor\u001b[39;00m i \u001b[39min\u001b[39;00m \u001b[39mrange\u001b[39m(\u001b[39mlen\u001b[39m(image))])\n\u001b[1;32m    949\u001b[0m     res\u001b[39m.\u001b[39mappend(scaled_image)\n\u001b[1;32m    950\u001b[0m \u001b[39mreturn\u001b[39;00m torch\u001b[39m.\u001b[39mstack(res)\n",
      "File \u001b[0;32m/usr/local/lib/python3.10/dist-packages/kornia/enhance/adjust.py:918\u001b[0m, in \u001b[0;36m_scale_channel\u001b[0;34m(im)\u001b[0m\n\u001b[1;32m    915\u001b[0m     result \u001b[39m=\u001b[39m im\n\u001b[1;32m    916\u001b[0m \u001b[39melse\u001b[39;00m:\n\u001b[1;32m    917\u001b[0m     \u001b[39m# can't index using 2d index. Have to flatten and then reshape\u001b[39;00m\n\u001b[0;32m--> 918\u001b[0m     result \u001b[39m=\u001b[39m torch\u001b[39m.\u001b[39mgather(_build_lut(histo, step), \u001b[39m0\u001b[39m, im\u001b[39m.\u001b[39mflatten()\u001b[39m.\u001b[39mlong())\n\u001b[1;32m    919\u001b[0m     result \u001b[39m=\u001b[39m result\u001b[39m.\u001b[39mreshape_as(im)\n\u001b[1;32m    921\u001b[0m \u001b[39mreturn\u001b[39;00m result \u001b[39m/\u001b[39m \u001b[39m255.0\u001b[39m\n",
      "File \u001b[0;32m/usr/local/lib/python3.10/dist-packages/kornia/enhance/adjust.py:876\u001b[0m, in \u001b[0;36m_build_lut\u001b[0;34m(histo, step)\u001b[0m\n\u001b[1;32m    874\u001b[0m lut \u001b[39m=\u001b[39m torch\u001b[39m.\u001b[39mdiv(torch\u001b[39m.\u001b[39mcumsum(histo, \u001b[39m0\u001b[39m) \u001b[39m+\u001b[39m step_trunc, step, rounding_mode\u001b[39m=\u001b[39m\u001b[39m'\u001b[39m\u001b[39mtrunc\u001b[39m\u001b[39m'\u001b[39m)\n\u001b[1;32m    875\u001b[0m \u001b[39m# Shift lut, prepending with 0.\u001b[39;00m\n\u001b[0;32m--> 876\u001b[0m lut \u001b[39m=\u001b[39m torch\u001b[39m.\u001b[39;49mcat([torch\u001b[39m.\u001b[39;49mzeros(\u001b[39m1\u001b[39;49m, device\u001b[39m=\u001b[39;49mlut\u001b[39m.\u001b[39;49mdevice, dtype\u001b[39m=\u001b[39;49mlut\u001b[39m.\u001b[39;49mdtype), lut[:\u001b[39m-\u001b[39;49m\u001b[39m1\u001b[39;49m]])\n\u001b[1;32m    877\u001b[0m \u001b[39m# Clip the counts to be in range.  This is done\u001b[39;00m\n\u001b[1;32m    878\u001b[0m \u001b[39m# in the C code for image.point.\u001b[39;00m\n\u001b[1;32m    879\u001b[0m \u001b[39mreturn\u001b[39;00m torch\u001b[39m.\u001b[39mclamp(lut, \u001b[39m0\u001b[39m, \u001b[39m255\u001b[39m)\n",
      "\u001b[0;31mKeyboardInterrupt\u001b[0m: "
     ]
    }
   ],
   "source": [
    "print(\"Start training\")\n",
    "\n",
    "current_prop = SUBSET_PROP\n",
    "\n",
    "train_losses = []\n",
    "test_losses = []\n",
    "added_samp = 0\n",
    "\n",
    "for j in range(EPOCHS):\n",
    "    model.train()\n",
    "    running_loss = 0.0\n",
    "    correct = 0\n",
    "    total = 0\n",
    "    running_n_unlabeled = 0\n",
    "    moving_avg_pred_labeled = 0\n",
    "    moving_avg_pred_unlabeled = 0\n",
    "\n",
    "\n",
    "    pbar = tqdm(zip(labeled_dataloader, unlabeled_dataloader), total=min(len(labeled_dataloader), len(unlabeled_dataloader)), unit=\"batch\", desc=f\"Epoch {j: >5}\")\n",
    "\n",
    "    for i, (labeled_data, unlabeled_data) in enumerate(pbar):\n",
    "        # Get labeled and unlabeled data\n",
    "        labeled_inputs, labels = labeled_data[0].to(device), labeled_data[1].to(device)\n",
    "        unlabeled_inputs, unlabeled_labels = unlabeled_data[0].to(device), unlabeled_data[1].to(device)\n",
    "        \n",
    "\n",
    "        # Zero the parameter gradients\n",
    "        optimizer.zero_grad()\n",
    "\n",
    "        # normalize labeled and unlabeled inputs\n",
    "        # labeled_inputs_norm = normalize(data=labeled_inputs, mean=mean, std=std)\n",
    "        # unlabeled_inputs_norm = normalize(data=unlabeled_inputs, mean=mean, std=std)\n",
    "\n",
    "        # # Forward pass \n",
    "        # labeled_outputs_norm = model(labeled_inputs_norm)\n",
    "        # unlabeled_outputs_norm = model(unlabeled_inputs_norm)\n",
    "\n",
    "        # Compute moving average of labeled and unlabeled predictions\n",
    "        # moving_avg_pred_labeled = (i * moving_avg_pred_labeled + labeled_outputs_norm.shape[0]) / (i + 1)\n",
    "        # moving_avg_pred_unlabeled = (i * moving_avg_pred_unlabeled + unlabeled_outputs_norm.shape[0]) / (i + 1)\n",
    "\n",
    "        # ratio\n",
    "        # ratio = moving_avg_pred_labeled / moving_avg_pred_unlabeled\n",
    "\n",
    "        # Apply weak augmentation to labeled data\n",
    "        weak_labeled_inputs = weak_transform(labeled_inputs)\n",
    "\n",
    "        # Apply strong augmentation + weak augmentation to unlabeled data\n",
    "        weak_unlabeled_inputs = weak_transform(unlabeled_inputs)\n",
    "        strong_unlabeled_inputs = strong_transform(unlabeled_inputs)\n",
    "\n",
    "        # normalize\n",
    "        weak_labeled_inputs = normalize(data=weak_labeled_inputs, mean=mean, std=std)\n",
    "        weak_unlabeled_inputs = normalize(data=weak_unlabeled_inputs, mean=mean, std=std)\n",
    "        strong_unlabeled_inputs = normalize(data=strong_unlabeled_inputs, mean=mean, std=std)\n",
    "\n",
    "        # prediction on weak augmented unlabeled data\n",
    "        # qb = model(weak_unlabeled_inputs)\n",
    "        # qb = torch.softmax(qb, dim=1)\n",
    "        # qb_norm = qb * ratio\n",
    "\n",
    "        # # normalize\n",
    "        # qb_tilde = qb_norm / torch.sum(qb_norm, dim=1, keepdim=True)\n",
    "\n",
    "        # # compute mask\n",
    "        # max_qb_tilde, qb_tilde_hat = torch.max(qb_tilde, dim=1)\n",
    "        # idx = max_qb_tilde > TAU\n",
    "\n",
    "        # # pseudo labels\n",
    "        # pseudo_labels = qb_tilde_hat[idx]\n",
    "\n",
    "        # # mask strong augmented unlabeled data\n",
    "        # strong_unlabeled_inputs = strong_unlabeled_inputs[idx]\n",
    "\n",
    "        # n_labeled, n_unlabeled = weak_labeled_inputs.size(0), strong_unlabeled_inputs.size(0)\n",
    "\n",
    "        # Compute mask, confidence\n",
    "        pseudo_labels, idx, max_qb = mask(model, weak_unlabeled_inputs)\n",
    "        strong_unlabeled_inputs = strong_unlabeled_inputs[idx]\n",
    "\n",
    "        # if j >= 50 and j <= 50 + EPOCHS_AL:\n",
    "        #     n_unlabeled = 0\n",
    "        # else:\n",
    "        n_labeled, n_unlabeled = weak_labeled_inputs.size(0), strong_unlabeled_inputs.size(0)\n",
    "\n",
    "        # if n_unlabeled != 0:\n",
    "        #     # Concatenate labeled and unlabeled data\n",
    "        #     inputs_all = torch.cat((weak_labeled_inputs, strong_unlabeled_inputs))\n",
    "        #     labels_all = torch.cat((labels, pseudo_labels))\n",
    "\n",
    "        #     # forward pass\n",
    "        #     outputs = model(inputs_all)\n",
    "        #     # outputs = torch.softmax(outputs, dim=1)\n",
    "\n",
    "        #     # split labeled and unlabeled outputs\n",
    "        #     labeled_outputs, unlabeled_outputs = outputs[:n_labeled], outputs[n_labeled:]\n",
    "\n",
    "        #     # compute losses\n",
    "        #     labeled_loss = torch.sum(labeled_criterion(labeled_outputs, labels)) / BATCH_SIZE\n",
    "        #     unlabeled_loss = torch.sum(unlabeled_criterion(unlabeled_outputs, pseudo_labels)) / (MU * BATCH_SIZE)\n",
    "\n",
    "        #     # compute total loss\n",
    "        #     loss = labeled_loss + LAMBDA_U * unlabeled_loss\n",
    "\n",
    "        #     # compute accuracy\n",
    "        #     total += labels_all.size(0)\n",
    "        #     correct += (outputs.argmax(dim=1) == labels_all).sum().item()\n",
    "            \n",
    "        # else:\n",
    "        # forward pass\n",
    "        labeled_outputs = model(weak_labeled_inputs)\n",
    "        # labeled_outputs = torch.softmax(labeled_outputs, dim=1)\n",
    "\n",
    "        # compute loss\n",
    "        labeled_loss = torch.sum(labeled_criterion(labeled_outputs, labels)) / BATCH_SIZE\n",
    "        unlabeled_loss = torch.tensor(0, device=device)\n",
    "\n",
    "        # compute total loss\n",
    "        loss = labeled_loss + LAMBDA_U * unlabeled_loss\n",
    "\n",
    "        # compute accuracy\n",
    "        total += labels.size(0)\n",
    "        correct += (labeled_outputs.argmax(dim=1) == labels).sum().item()\n",
    "\n",
    "\n",
    "        # backward pass + optimize\n",
    "        loss.backward()\n",
    "        optimizer.step()\n",
    "\n",
    "        \n",
    "        # update statistics\n",
    "        running_loss += loss.item()\n",
    "        running_n_unlabeled += n_unlabeled \n",
    "\n",
    "        # update progress bar\n",
    "        pbar.set_postfix({\n",
    "            \"labeled loss\": labeled_loss.item(),\n",
    "            \"unlabeled loss\": unlabeled_loss.item(),\n",
    "            \"accuracy\": 100 * correct / total,\n",
    "            \"avg confidence\": torch.mean(max_qb).item(),\n",
    "            \"n_unlabeled\": running_n_unlabeled,\n",
    "            \"current_prop\": current_prop,\n",
    "            \"lr\": optimizer.param_groups[0]['lr']\n",
    "        })\n",
    "\n",
    "    # start adding labels after 50 epochs for 50 epochs\n",
    "    if j >= 50 and j <= 50 + EPOCHS_AL:\n",
    "        if current_prop < TARGET_PROP:\n",
    "            # compute information density\n",
    "            selected_indices = information_density(model, unlabeled_inputs, K_SAMPLES)\n",
    "\n",
    "            # select indices from unlabeled dataset\n",
    "            trainset_sup_new = create_labeled_dataset_active_learning(trainset_unsup, selected_indices)\n",
    "\n",
    "            # concat new trainset with labeled trainset\n",
    "            trainset_sup = torch.utils.data.ConcatDataset([trainset_sup, trainset_sup_new])\n",
    "\n",
    "            # create labeled dataloader\n",
    "            labeled_dataloader = torch.utils.data.DataLoader(trainset_sup, batch_size=BATCH_SIZE, shuffle=True, num_workers=0)\n",
    "\n",
    "            current_prop = len(trainset_sup) / len(trainset)\n",
    "\n",
    "    # update loss\n",
    "    train_losses.append(running_loss / (i + 1))\n",
    "\n",
    "    # scheduler step\n",
    "    if scheduler is not None:\n",
    "        scheduler.step()\n",
    "\n",
    "    \n",
    "    # Evaluate the model on the test set\n",
    "    model.eval()  # Set the model to evaluation mode\n",
    "    test_correct = 0\n",
    "    test_total = 0\n",
    "\n",
    "    with torch.no_grad():\n",
    "        for data in testloader:\n",
    "            images, labels = data[0].to(device), data[1].to(device)\n",
    "            # normalize\n",
    "            images = normalize(data=images, mean=mean, std=std)\n",
    "            \n",
    "            outputs = model(images)\n",
    "            _, predicted = outputs.max(1)\n",
    "            test_total += labels.size(0)\n",
    "            test_correct += predicted.eq(labels).sum().item()\n",
    "        \n",
    "        test_accuracy = 100.0 * test_correct / test_total\n",
    "        print(f'Test Accuracy: {test_accuracy}%')\n",
    "\n",
    "        # update loss\n",
    "        test_losses.append(torch.sum(labeled_criterion(outputs, labels)).item() / BATCH_SIZE)"
   ]
  },
  {
   "cell_type": "code",
   "execution_count": null,
   "metadata": {},
   "outputs": [],
   "source": [
    "# plot losses\n",
    "plt.figure(figsize=(10, 7))\n",
    "plt.plot(train_losses, label='Training loss')\n",
    "plt.plot(test_losses, label='Validation loss')\n",
    "plt.title('Loss at the end of each epoch')\n",
    "plt.legend()\n",
    "plt.show()\n",
    "\n",
    "# plot confusion matrix\n",
    "model.eval()  # Set the model to evaluation mode\n",
    "test_correct = 0\n",
    "test_total = 0\n",
    "y_true = []\n",
    "y_pred = []\n",
    "\n",
    "with torch.no_grad():\n",
    "    for data in testloader:\n",
    "        images, labels = data[0].to(device), data[1].to(device)\n",
    "        # normalize\n",
    "        images = normalize(data=images, mean=mean, std=std)\n",
    "        \n",
    "        outputs = model(images)\n",
    "        _, predicted = outputs.max(1)\n",
    "        test_total += labels.size(0)\n",
    "        test_correct += predicted.eq(labels).sum().item()\n",
    "\n",
    "        y_true.append(labels.cpu().numpy())\n",
    "        y_pred.append(predicted.cpu().numpy())\n",
    "    \n",
    "    y_true = np.concatenate(y_true)\n",
    "    y_pred = np.concatenate(y_pred)\n",
    "\n",
    "    cm = confusion_matrix(y_true, y_pred, normalize='true')\n",
    "    disp = ConfusionMatrixDisplay(confusion_matrix=cm, display_labels=classes)\n",
    "    disp.plot()\n",
    "    plt.tight_layout()\n",
    "    plt.show()\n"
   ]
  },
  {
   "cell_type": "code",
   "execution_count": null,
   "metadata": {},
   "outputs": [],
   "source": [
    "# Evaluation on the test set\n",
    "model.eval()  # Set the model to evaluation mode\n",
    "test_correct = 0\n",
    "test_total = 0\n",
    "\n",
    "with torch.no_grad():\n",
    "    for data in testloader:\n",
    "        images, labels = data[0].to(device), data[1].to(device)\n",
    "        # normalize\n",
    "        images = normalize(data=images, mean=mean, std=std)\n",
    "        \n",
    "        outputs = model(images)\n",
    "        _, predicted = outputs.max(1)\n",
    "        test_total += labels.size(0)\n",
    "        test_correct += predicted.eq(labels).sum().item()\n",
    "\n",
    "test_accuracy = 100.0 * test_correct / test_total\n",
    "print(f'Test Accuracy: {test_accuracy}%')\n",
    "\n",
    "# save the model\n",
    "torch.save(model.state_dict(), f\"{torch_models}/model_10_fixmatch_AL.pth\")\n",
    "\n",
    "test_image, test_labels = testloader.__iter__().__next__()\n",
    "test_image = test_image.to(device)\n",
    "outputs_test = model(test_image)\n",
    "label_pred_test = outputs_test.argmax(dim=1)\n",
    "\n",
    "# descale the images\n",
    "test_image = test_image#  * torch.tensor(std, device=device).view(1, 3, 1, 1) + torch.tensor(mean, device=device).view(1, 3, 1, 1)\n",
    "\n",
    "fig1 = plot_images(test_image, test_labels, label_pred_test, classes, figure_name=f\"Test score with Fixmatch - {int(TARGET_PROP*100)}% - {test_accuracy:.2f}% - Active Learning\")\n",
    "fig1.savefig(f\"./figures/test_score_{TARGET_PROP}_fixmatch_AL.png\")"
   ]
  },
  {
   "attachments": {},
   "cell_type": "markdown",
   "metadata": {},
   "source": [
    "### III.2 Fixmatch on 5% train data"
   ]
  },
  {
   "cell_type": "code",
   "execution_count": null,
   "metadata": {},
   "outputs": [],
   "source": [
    "# Define your dataset and dataloaders for labeled and unlabeled data\n",
    "seedEverything()\n",
    "\n",
    "EPOCHS = 50\n",
    "SUBSET_PROP = 0.05\n",
    "\n",
    "# 10% labeled data and 100% unlabeled (see note 2 in paper)\n",
    "trainset_sup, _ = torch.utils.data.random_split(trainset, [SUBSET_PROP, 1-SUBSET_PROP])\n",
    "\n",
    "trainset_unsup, _ = torch.utils.data.random_split(trainset, [1, 0])\n",
    "\n",
    "labeled_dataloader = DataLoader(\n",
    "    trainset_sup,\n",
    "    batch_size=BATCH_SIZE,\n",
    "    shuffle=True,\n",
    "    num_workers=0\n",
    ")\n",
    "\n",
    "unlabeled_dataloader = DataLoader(\n",
    "    trainset_unsup,\n",
    "    batch_size=MU*BATCH_SIZE,\n",
    "    shuffle=True,\n",
    "    num_workers=0\n",
    ")\n",
    "\n",
    "# transformations\n",
    "weak_transform = K.ImageSequential(\n",
    "    K.RandomHorizontalFlip(p=0.50), \n",
    "    K.RandomAffine(degrees=0, translate=(0.125, 0.125)),\n",
    ")\n",
    "\n",
    "strong_transform = K.ImageSequential(\n",
    "    K.auto.RandAugment(n=2, m=10), # randaugment + cutout\n",
    ")\n",
    "\n",
    "def mask(model, weak_unlabeled_data):\n",
    "    with torch.no_grad():\n",
    "        model.train()\n",
    "\n",
    "        qb = model(weak_unlabeled_data)\n",
    "\n",
    "        # qb = logits.copy()\n",
    "        qb = torch.softmax(qb, dim=1)\n",
    "\n",
    "        max_qb, qb_hat = torch.max(qb, dim=1)\n",
    "\n",
    "        idx = max_qb > TAU\n",
    "        qb_hat = qb_hat[idx]\n",
    "\n",
    "    return qb_hat.detach(), idx, max_qb.detach()\n",
    "\n",
    "model = ConvNN().to(device)\n",
    "\n",
    "# criterion and optimizer\n",
    "labeled_criterion = nn.CrossEntropyLoss(reduction='none')\n",
    "unlabeled_criterion = nn.CrossEntropyLoss(reduction='none')\n",
    "\n",
    "optimizer = torch.optim.SGD(model.parameters(), lr=LR, momentum=BETA, weight_decay=WEIGHT_DECAY, nesterov=True)\n",
    "# scheduler = torch.optim.lr_scheduler.CosineAnnealingLR(optimizer, T_max=EPOCHS)\n",
    "\n",
    "\n",
    "# Define the cosine learning rate decay function\n",
    "lr_lambda = lambda step: LR * torch.cos(torch.tensor((7 * torch.pi * (step)) / (16 * EPOCHS))) * 100 / 3\n",
    "\n",
    "# Create a learning rate scheduler with the cosine decay function\n",
    "scheduler = torch.optim.lr_scheduler.LambdaLR(optimizer, lr_lambda=lr_lambda)\n",
    "\n",
    "# scheduler = None"
   ]
  },
  {
   "cell_type": "code",
   "execution_count": null,
   "metadata": {},
   "outputs": [],
   "source": [
    "print(\"Start training\")\n",
    "\n",
    "train_losses = []\n",
    "test_losses = []\n",
    "\n",
    "for epoch in range(EPOCHS):\n",
    "    model.train()\n",
    "    running_loss = 0.0\n",
    "    correct = 0\n",
    "    total = 0\n",
    "    running_n_unlabeled = 0\n",
    "    max_confidence = 0\n",
    "\n",
    "\n",
    "    pbar = tqdm(zip(labeled_dataloader, unlabeled_dataloader), total=min(len(labeled_dataloader), len(unlabeled_dataloader)), unit=\"batch\", desc=f\"Epoch {epoch: >5}\")\n",
    "\n",
    "    for i, (labeled_data, unlabeled_data) in enumerate(pbar):\n",
    "        # Get labeled and unlabeled data\n",
    "        labeled_inputs, labels = labeled_data[0].to(device), labeled_data[1].to(device)\n",
    "        unlabeled_inputs, _ = unlabeled_data[0].to(device), unlabeled_data[1].to(device)\n",
    "        \n",
    "        # Zero the parameter gradients\n",
    "        optimizer.zero_grad()\n",
    "\n",
    "        # Apply weak augmentation to labeled data\n",
    "        weak_labeled_inputs = weak_transform(labeled_inputs)\n",
    "\n",
    "        # Apply strong augmentation + weak augmentation to unlabeled data\n",
    "        weak_unlabeled_inputs = weak_transform(unlabeled_inputs)\n",
    "        strong_unlabeled_inputs = strong_transform(unlabeled_inputs)\n",
    "\n",
    "        # normalize\n",
    "        weak_labeled_inputs = normalize(data=weak_labeled_inputs, mean=mean, std=std)\n",
    "        weak_unlabeled_inputs = normalize(data=weak_unlabeled_inputs, mean=mean, std=std)\n",
    "        strong_unlabeled_inputs = normalize(data=strong_unlabeled_inputs, mean=mean, std=std)\n",
    "\n",
    "        # Compute mask, confidence\n",
    "        pseudo_labels, idx, max_qb = mask(model, weak_unlabeled_inputs)\n",
    "        strong_unlabeled_inputs = strong_unlabeled_inputs[idx]\n",
    "\n",
    "        n_labeled, n_unlabeled = weak_labeled_inputs.size(0), strong_unlabeled_inputs.size(0)\n",
    "\n",
    "        if n_unlabeled != 0:\n",
    "            # Concatenate labeled and unlabeled data\n",
    "            inputs_all = torch.cat((weak_labeled_inputs, strong_unlabeled_inputs))\n",
    "            labels_all = torch.cat((labels, pseudo_labels))\n",
    "\n",
    "            # forward pass\n",
    "            outputs = model(inputs_all)\n",
    "            # outputs = torch.softmax(outputs, dim=1)\n",
    "\n",
    "            # split labeled and unlabeled outputs\n",
    "            labeled_outputs, unlabeled_outputs = outputs[:n_labeled], outputs[n_labeled:]\n",
    "\n",
    "            # compute losses\n",
    "            labeled_loss = torch.sum(labeled_criterion(labeled_outputs, labels)) / BATCH_SIZE\n",
    "            unlabeled_loss = torch.sum(unlabeled_criterion(unlabeled_outputs, pseudo_labels)) / (MU * BATCH_SIZE)\n",
    "\n",
    "            # compute total loss\n",
    "            loss = labeled_loss + LAMBDA_U * unlabeled_loss\n",
    "\n",
    "            # compute accuracy\n",
    "            total += labels_all.size(0)\n",
    "            correct += (outputs.argmax(dim=1) == labels_all).sum().item()\n",
    "            \n",
    "        else:\n",
    "            # forward pass\n",
    "            labeled_outputs = model(weak_labeled_inputs)\n",
    "            # labeled_outputs = torch.softmax(labeled_outputs, dim=1)\n",
    "\n",
    "            # compute loss\n",
    "            labeled_loss = torch.sum(labeled_criterion(labeled_outputs, labels)) / BATCH_SIZE\n",
    "            unlabeled_loss = torch.tensor(0, device=device)\n",
    "\n",
    "            # compute total loss\n",
    "            loss = labeled_loss + LAMBDA_U * unlabeled_loss\n",
    "\n",
    "            # compute accuracy\n",
    "            total += labels.size(0)\n",
    "            correct += (labeled_outputs.argmax(dim=1) == labels).sum().item()\n",
    "\n",
    "\n",
    "        # backward pass + optimize\n",
    "        loss.backward()\n",
    "        optimizer.step()\n",
    "\n",
    "        \n",
    "\n",
    "        # update statistics\n",
    "        running_loss += loss.item()\n",
    "        running_n_unlabeled += n_unlabeled\n",
    "        max_confidence = max(max_confidence, max_qb.max().item())\n",
    "\n",
    "        \n",
    "\n",
    "        # update progress bar\n",
    "        pbar.set_postfix({\n",
    "            \"total loss\": loss.item(),\n",
    "            \"labeled loss\": labeled_loss.item(),\n",
    "            \"unlabeled loss\": unlabeled_loss.item(),\n",
    "            \"accuracy\": 100 * correct / total,\n",
    "            \"confidence\": max_confidence,\n",
    "            \"n_unlabeled\": running_n_unlabeled,\n",
    "            \"lr\": optimizer.param_groups[0]['lr'].item()\n",
    "        })\n",
    "\n",
    "    # update loss\n",
    "    train_losses.append(running_loss / (i + 1))\n",
    "\n",
    "    # scheduler step\n",
    "    if scheduler is not None:\n",
    "        scheduler.step()\n",
    "\n",
    "    \n",
    "    # Evaluate the model on the test set\n",
    "    model.eval()  # Set the model to evaluation mode\n",
    "    test_correct = 0\n",
    "    test_total = 0\n",
    "\n",
    "    with torch.no_grad():\n",
    "        for data in testloader:\n",
    "            images, labels = data[0].to(device), data[1].to(device)\n",
    "            # normalize\n",
    "            images = normalize(data=images, mean=mean, std=std)\n",
    "            \n",
    "            outputs = model(images)\n",
    "            _, predicted = outputs.max(1)\n",
    "            test_total += labels.size(0)\n",
    "            test_correct += predicted.eq(labels).sum().item()\n",
    "        \n",
    "        test_accuracy = 100.0 * test_correct / test_total\n",
    "        print(f'Test Accuracy: {test_accuracy}%')\n",
    "\n",
    "        # update loss\n",
    "        test_losses.append(torch.sum(labeled_criterion(outputs, labels)).item() / BATCH_SIZE)\n"
   ]
  },
  {
   "cell_type": "code",
   "execution_count": null,
   "metadata": {},
   "outputs": [],
   "source": [
    "# plot losses\n",
    "plt.figure(figsize=(10, 7))\n",
    "plt.plot(train_losses, label='Training loss')\n",
    "plt.plot(test_losses, label='Validation loss')\n",
    "plt.title('Loss at the end of each epoch')\n",
    "plt.legend()\n",
    "plt.show()\n",
    "\n",
    "# plot confusion matrix\n",
    "model.eval()  # Set the model to evaluation mode\n",
    "test_correct = 0\n",
    "test_total = 0\n",
    "y_true = []\n",
    "y_pred = []\n",
    "\n",
    "with torch.no_grad():\n",
    "    for data in testloader:\n",
    "        images, labels = data[0].to(device), data[1].to(device)\n",
    "        # normalize\n",
    "        images = normalize(data=images, mean=mean, std=std)\n",
    "        \n",
    "        outputs = model(images)\n",
    "        _, predicted = outputs.max(1)\n",
    "        test_total += labels.size(0)\n",
    "        test_correct += predicted.eq(labels).sum().item()\n",
    "\n",
    "        y_true.append(labels.cpu().numpy())\n",
    "        y_pred.append(predicted.cpu().numpy())\n",
    "    \n",
    "    y_true = np.concatenate(y_true)\n",
    "    y_pred = np.concatenate(y_pred)\n",
    "\n",
    "    cm = confusion_matrix(y_true, y_pred, normalize='true')\n",
    "    disp = ConfusionMatrixDisplay(confusion_matrix=cm, display_labels=classes)\n",
    "    disp.plot()\n",
    "    plt.tight_layout()\n",
    "    plt.show()\n"
   ]
  },
  {
   "cell_type": "code",
   "execution_count": null,
   "metadata": {},
   "outputs": [],
   "source": [
    "# Evaluation on the test set\n",
    "model.eval()  # Set the model to evaluation mode\n",
    "test_correct = 0\n",
    "test_total = 0\n",
    "\n",
    "with torch.no_grad():\n",
    "    for data in testloader:\n",
    "        images, labels = data[0].to(device), data[1].to(device)\n",
    "        # normalize\n",
    "        images = normalize(data=images, mean=mean, std=std)\n",
    "        \n",
    "        outputs = model(images)\n",
    "        _, predicted = outputs.max(1)\n",
    "        test_total += labels.size(0)\n",
    "        test_correct += predicted.eq(labels).sum().item()\n",
    "\n",
    "test_accuracy = 100.0 * test_correct / test_total\n",
    "print(f'Test Accuracy: {test_accuracy}%')\n",
    "\n",
    "# save the model\n",
    "torch.save(model.state_dict(), f\"{torch_models}/model_5_fixmatch.pth\")\n",
    "\n",
    "test_image, test_labels = testloader.__iter__().__next__()\n",
    "test_image = test_image.to(device)\n",
    "outputs_test = model(test_image)\n",
    "label_pred_test = outputs_test.argmax(dim=1)\n",
    "\n",
    "# descale the images\n",
    "test_image = test_image#  * torch.tensor(std, device=device).view(1, 3, 1, 1) + torch.tensor(mean, device=device).view(1, 3, 1, 1)\n",
    "\n",
    "fig1 = plot_images(test_image, test_labels, label_pred_test, classes, figure_name=f\"Test score with Fixmatch - {int(SUBSET_PROP*100)}% - {test_accuracy:.2f}%\")\n",
    "fig1.savefig(f\"./figures/test_score_{SUBSET_PROP}_fixmatch.png\")"
   ]
  },
  {
   "attachments": {},
   "cell_type": "markdown",
   "metadata": {},
   "source": [
    "### III.3 Fixmatch on 1% train data"
   ]
  },
  {
   "cell_type": "code",
   "execution_count": null,
   "metadata": {},
   "outputs": [],
   "source": [
    "# Define your dataset and dataloaders for labeled and unlabeled data\n",
    "seedEverything()\n",
    "\n",
    "EPOCHS = 50\n",
    "SUBSET_PROP = 0.01\n",
    "\n",
    "# 10% labeled data and 100% unlabeled (see note 2 in paper)\n",
    "trainset_sup, _ = torch.utils.data.random_split(trainset, [SUBSET_PROP, 1-SUBSET_PROP])\n",
    "\n",
    "trainset_unsup, _ = torch.utils.data.random_split(trainset, [1, 0])\n",
    "\n",
    "labeled_dataloader = DataLoader(\n",
    "    trainset_sup,\n",
    "    batch_size=BATCH_SIZE,\n",
    "    shuffle=True,\n",
    "    num_workers=0\n",
    ")\n",
    "\n",
    "unlabeled_dataloader = DataLoader(\n",
    "    trainset_unsup,\n",
    "    batch_size=MU*BATCH_SIZE,\n",
    "    shuffle=True,\n",
    "    num_workers=0\n",
    ")\n",
    "\n",
    "# transformations\n",
    "weak_transform = K.ImageSequential(\n",
    "    K.RandomHorizontalFlip(p=0.50), \n",
    "    K.RandomAffine(degrees=0, translate=(0.125, 0.125)),\n",
    ")\n",
    "\n",
    "strong_transform = K.ImageSequential(\n",
    "    K.auto.RandAugment(n=2, m=10), # randaugment + cutout\n",
    ")\n",
    "\n",
    "def mask(model, weak_unlabeled_data):\n",
    "    with torch.no_grad():\n",
    "        model.train()\n",
    "\n",
    "        qb = model(weak_unlabeled_data)\n",
    "\n",
    "        # qb = logits.copy()\n",
    "        qb = torch.softmax(qb, dim=1)\n",
    "\n",
    "        max_qb, qb_hat = torch.max(qb, dim=1)\n",
    "\n",
    "        idx = max_qb > TAU\n",
    "        qb_hat = qb_hat[idx]\n",
    "\n",
    "    return qb_hat.detach(), idx, max_qb.detach()\n",
    "\n",
    "model = ConvNN().to(device)\n",
    "\n",
    "# criterion and optimizer\n",
    "labeled_criterion = nn.CrossEntropyLoss(reduction='none')\n",
    "unlabeled_criterion = nn.CrossEntropyLoss(reduction='none')\n",
    "\n",
    "optimizer = torch.optim.SGD(model.parameters(), lr=LR, momentum=BETA, weight_decay=WEIGHT_DECAY, nesterov=True)\n",
    "# scheduler = torch.optim.lr_scheduler.CosineAnnealingLR(optimizer, T_max=EPOCHS)\n",
    "\n",
    "\n",
    "# Define the cosine learning rate decay function\n",
    "lr_lambda = lambda step: LR * torch.cos(torch.tensor((7 * torch.pi * (step)) / (16 * EPOCHS))) * 100 / 3\n",
    "\n",
    "# Create a learning rate scheduler with the cosine decay function\n",
    "scheduler = torch.optim.lr_scheduler.LambdaLR(optimizer, lr_lambda=lr_lambda)\n",
    "\n",
    "# scheduler = None"
   ]
  },
  {
   "cell_type": "code",
   "execution_count": null,
   "metadata": {},
   "outputs": [],
   "source": [
    "print(\"Start training\")\n",
    "\n",
    "train_losses = []\n",
    "test_losses = []\n",
    "\n",
    "for epoch in range(EPOCHS):\n",
    "    model.train()\n",
    "    running_loss = 0.0\n",
    "    correct = 0\n",
    "    total = 0\n",
    "    running_n_unlabeled = 0\n",
    "    max_confidence = 0\n",
    "\n",
    "\n",
    "    pbar = tqdm(zip(labeled_dataloader, unlabeled_dataloader), total=min(len(labeled_dataloader), len(unlabeled_dataloader)), unit=\"batch\", desc=f\"Epoch {epoch: >5}\")\n",
    "\n",
    "    for i, (labeled_data, unlabeled_data) in enumerate(pbar):\n",
    "        # Get labeled and unlabeled data\n",
    "        labeled_inputs, labels = labeled_data[0].to(device), labeled_data[1].to(device)\n",
    "        unlabeled_inputs, _ = unlabeled_data[0].to(device), unlabeled_data[1].to(device)\n",
    "        \n",
    "        # Zero the parameter gradients\n",
    "        optimizer.zero_grad()\n",
    "\n",
    "        # Apply weak augmentation to labeled data\n",
    "        weak_labeled_inputs = weak_transform(labeled_inputs)\n",
    "\n",
    "        # Apply strong augmentation + weak augmentation to unlabeled data\n",
    "        weak_unlabeled_inputs = weak_transform(unlabeled_inputs)\n",
    "        strong_unlabeled_inputs = strong_transform(unlabeled_inputs)\n",
    "\n",
    "        # normalize\n",
    "        weak_labeled_inputs = normalize(data=weak_labeled_inputs, mean=mean, std=std)\n",
    "        weak_unlabeled_inputs = normalize(data=weak_unlabeled_inputs, mean=mean, std=std)\n",
    "        strong_unlabeled_inputs = normalize(data=strong_unlabeled_inputs, mean=mean, std=std)\n",
    "\n",
    "        # Compute mask, confidence\n",
    "        pseudo_labels, idx, max_qb = mask(model, weak_unlabeled_inputs)\n",
    "        strong_unlabeled_inputs = strong_unlabeled_inputs[idx]\n",
    "\n",
    "        n_labeled, n_unlabeled = weak_labeled_inputs.size(0), strong_unlabeled_inputs.size(0)\n",
    "\n",
    "        if n_unlabeled != 0:\n",
    "            # Concatenate labeled and unlabeled data\n",
    "            inputs_all = torch.cat((weak_labeled_inputs, strong_unlabeled_inputs))\n",
    "            labels_all = torch.cat((labels, pseudo_labels))\n",
    "\n",
    "            # forward pass\n",
    "            outputs = model(inputs_all)\n",
    "            # outputs = torch.softmax(outputs, dim=1)\n",
    "\n",
    "            # split labeled and unlabeled outputs\n",
    "            labeled_outputs, unlabeled_outputs = outputs[:n_labeled], outputs[n_labeled:]\n",
    "\n",
    "            # compute losses\n",
    "            labeled_loss = torch.sum(labeled_criterion(labeled_outputs, labels)) / BATCH_SIZE\n",
    "            unlabeled_loss = torch.sum(unlabeled_criterion(unlabeled_outputs, pseudo_labels)) / (MU * BATCH_SIZE)\n",
    "\n",
    "            # compute total loss\n",
    "            loss = labeled_loss + LAMBDA_U * unlabeled_loss\n",
    "\n",
    "            # compute accuracy\n",
    "            total += labels_all.size(0)\n",
    "            correct += (outputs.argmax(dim=1) == labels_all).sum().item()\n",
    "            \n",
    "        else:\n",
    "            # forward pass\n",
    "            labeled_outputs = model(weak_labeled_inputs)\n",
    "            # labeled_outputs = torch.softmax(labeled_outputs, dim=1)\n",
    "\n",
    "            # compute loss\n",
    "            labeled_loss = torch.sum(labeled_criterion(labeled_outputs, labels)) / BATCH_SIZE\n",
    "            unlabeled_loss = torch.tensor(0, device=device)\n",
    "\n",
    "            # compute total loss\n",
    "            loss = labeled_loss + LAMBDA_U * unlabeled_loss\n",
    "\n",
    "            # compute accuracy\n",
    "            total += labels.size(0)\n",
    "            correct += (labeled_outputs.argmax(dim=1) == labels).sum().item()\n",
    "\n",
    "\n",
    "        # backward pass + optimize\n",
    "        loss.backward()\n",
    "        optimizer.step()\n",
    "\n",
    "        \n",
    "\n",
    "        # update statistics\n",
    "        running_loss += loss.item()\n",
    "        running_n_unlabeled += n_unlabeled\n",
    "        max_confidence = max(max_confidence, max_qb.max().item())\n",
    "\n",
    "        \n",
    "\n",
    "        # update progress bar\n",
    "        pbar.set_postfix({\n",
    "            \"total loss\": loss.item(),\n",
    "            \"labeled loss\": labeled_loss.item(),\n",
    "            \"unlabeled loss\": unlabeled_loss.item(),\n",
    "            \"accuracy\": 100 * correct / total,\n",
    "            \"confidence\": max_confidence,\n",
    "            \"n_unlabeled\": running_n_unlabeled,\n",
    "            \"lr\": optimizer.param_groups[0]['lr'].item()\n",
    "        })\n",
    "\n",
    "    # update loss\n",
    "    train_losses.append(running_loss / (i + 1))\n",
    "\n",
    "    # scheduler step\n",
    "    if scheduler is not None:\n",
    "        scheduler.step()\n",
    "\n",
    "    \n",
    "    # Evaluate the model on the test set\n",
    "    model.eval()  # Set the model to evaluation mode\n",
    "    test_correct = 0\n",
    "    test_total = 0\n",
    "\n",
    "    with torch.no_grad():\n",
    "        for data in testloader:\n",
    "            images, labels = data[0].to(device), data[1].to(device)\n",
    "            # normalize\n",
    "            images = normalize(data=images, mean=mean, std=std)\n",
    "            \n",
    "            outputs = model(images)\n",
    "            _, predicted = outputs.max(1)\n",
    "            test_total += labels.size(0)\n",
    "            test_correct += predicted.eq(labels).sum().item()\n",
    "        \n",
    "        test_accuracy = 100.0 * test_correct / test_total\n",
    "        print(f'Test Accuracy: {test_accuracy}%')\n",
    "\n",
    "        # update loss\n",
    "        test_losses.append(torch.sum(labeled_criterion(outputs, labels)).item() / BATCH_SIZE)\n"
   ]
  },
  {
   "cell_type": "code",
   "execution_count": null,
   "metadata": {},
   "outputs": [],
   "source": [
    "# plot losses\n",
    "plt.figure(figsize=(10, 7))\n",
    "plt.plot(train_losses, label='Training loss')\n",
    "plt.plot(test_losses, label='Validation loss')\n",
    "plt.title('Loss at the end of each epoch')\n",
    "plt.legend()\n",
    "plt.show()\n",
    "\n",
    "# plot confusion matrix\n",
    "model.eval()  # Set the model to evaluation mode\n",
    "test_correct = 0\n",
    "test_total = 0\n",
    "y_true = []\n",
    "y_pred = []\n",
    "\n",
    "with torch.no_grad():\n",
    "    for data in testloader:\n",
    "        images, labels = data[0].to(device), data[1].to(device)\n",
    "        # normalize\n",
    "        images = normalize(data=images, mean=mean, std=std)\n",
    "        \n",
    "        outputs = model(images)\n",
    "        _, predicted = outputs.max(1)\n",
    "        test_total += labels.size(0)\n",
    "        test_correct += predicted.eq(labels).sum().item()\n",
    "\n",
    "        y_true.append(labels.cpu().numpy())\n",
    "        y_pred.append(predicted.cpu().numpy())\n",
    "    \n",
    "    y_true = np.concatenate(y_true)\n",
    "    y_pred = np.concatenate(y_pred)\n",
    "\n",
    "    cm = confusion_matrix(y_true, y_pred, normalize='true')\n",
    "    disp = ConfusionMatrixDisplay(confusion_matrix=cm, display_labels=classes)\n",
    "    disp.plot()\n",
    "    plt.tight_layout()\n",
    "    plt.show()\n"
   ]
  },
  {
   "cell_type": "code",
   "execution_count": null,
   "metadata": {},
   "outputs": [],
   "source": [
    "# Evaluation on the test set\n",
    "model.eval()  # Set the model to evaluation mode\n",
    "test_correct = 0\n",
    "test_total = 0\n",
    "\n",
    "with torch.no_grad():\n",
    "    for data in testloader:\n",
    "        images, labels = data[0].to(device), data[1].to(device)\n",
    "        # normalize\n",
    "        images = normalize(data=images, mean=mean, std=std)\n",
    "        \n",
    "        outputs = model(images)\n",
    "        _, predicted = outputs.max(1)\n",
    "        test_total += labels.size(0)\n",
    "        test_correct += predicted.eq(labels).sum().item()\n",
    "\n",
    "test_accuracy = 100.0 * test_correct / test_total\n",
    "print(f'Test Accuracy: {test_accuracy}%')\n",
    "\n",
    "# save the model\n",
    "torch.save(model.state_dict(), f\"{torch_models}/model_1_fixmatch.pth\")\n",
    "\n",
    "test_image, test_labels = testloader.__iter__().__next__()\n",
    "test_image = test_image.to(device)\n",
    "outputs_test = model(test_image)\n",
    "label_pred_test = outputs_test.argmax(dim=1)\n",
    "\n",
    "# descale the images\n",
    "test_image = test_image#  * torch.tensor(std, device=device).view(1, 3, 1, 1) + torch.tensor(mean, device=device).view(1, 3, 1, 1)\n",
    "\n",
    "fig1 = plot_images(test_image, test_labels, label_pred_test, classes, figure_name=f\"Test score with Fixmatch - {int(SUBSET_PROP*100)}% - {test_accuracy:.2f}%\")\n",
    "fig1.savefig(f\"./figures/test_score_{SUBSET_PROP}_fixmatch.png\")"
   ]
  },
  {
   "cell_type": "code",
   "execution_count": null,
   "metadata": {},
   "outputs": [],
   "source": []
  },
  {
   "cell_type": "code",
   "execution_count": null,
   "metadata": {},
   "outputs": [],
   "source": []
  }
 ],
 "metadata": {
  "kernelspec": {
   "display_name": "Python 3",
   "language": "python",
   "name": "python3"
  },
  "language_info": {
   "codemirror_mode": {
    "name": "ipython",
    "version": 3
   },
   "file_extension": ".py",
   "mimetype": "text/x-python",
   "name": "python",
   "nbconvert_exporter": "python",
   "pygments_lexer": "ipython3",
   "version": "3.10.6"
  },
  "orig_nbformat": 4
 },
 "nbformat": 4,
 "nbformat_minor": 2
}
