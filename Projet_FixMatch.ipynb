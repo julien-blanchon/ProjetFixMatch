{
  "cells": [
    {
      "cell_type": "markdown",
      "metadata": {
        "id": "eIce92bDiD2H"
      },
      "source": [
        "# Quelques fournitures pour le projet d'apprentissage semi-supervisé"
      ]
    },
    {
      "cell_type": "markdown",
      "metadata": {
        "id": "JmZ8FlXXihig"
      },
      "source": [
        "## CIFAR-10\n",
        "\n",
        "Il vous est demandé pour ce projet d'utiliser les données de la base de données CIFAR-10, que vous pouvez récupérer avec les quelques lignes ci-dessous. Cette base de données est constituée des 10 classes suivantes : \n",
        "\n",
        "\n",
        "A vous de partager cette base en données labellisées et non labellisées en fonction des expériences que vous mènerez !"
      ]
    },
    {
      "cell_type": "code",
      "execution_count": 1,
      "metadata": {},
      "outputs": [],
      "source": [
        "import torch\n",
        "import torchvision\n",
        "import torchvision.transforms as transforms\n",
        "\n",
        "from torch.utils import data\n",
        "\n",
        "import torch.nn as nn\n",
        "import torch.nn.functional as F\n",
        "\n",
        "from torchsummary import summary"
      ]
    },
    {
      "cell_type": "code",
      "execution_count": 2,
      "metadata": {},
      "outputs": [],
      "source": [
        "# Set device\n",
        "if float(torch.__version__.split(\".\")[1]) >= 13 and torch.has_mps:\n",
        "    device = torch.device(\"mps\")\n",
        "elif torch.cuda.is_available():\n",
        "    device = torch.device(\"cuda\")\n",
        "else:\n",
        "    device = torch.device(\"cpu\")"
      ]
    },
    {
      "cell_type": "code",
      "execution_count": 3,
      "metadata": {
        "id": "78cLXTmIjUld"
      },
      "outputs": [
        {
          "name": "stdout",
          "output_type": "stream",
          "text": [
            "Downloading https://www.cs.toronto.edu/~kriz/cifar-10-python.tar.gz to ./data/cifar-10-python.tar.gz\n"
          ]
        },
        {
          "name": "stderr",
          "output_type": "stream",
          "text": [
            "100%|██████████| 170498071/170498071 [01:03<00:00, 2687925.12it/s] \n"
          ]
        },
        {
          "name": "stdout",
          "output_type": "stream",
          "text": [
            "Extracting ./data/cifar-10-python.tar.gz to ./data\n",
            "Files already downloaded and verified\n"
          ]
        }
      ],
      "source": [
        "transform = transforms.Compose(\n",
        "    [transforms.ToTensor(),\n",
        "     transforms.Normalize((0.5, 0.5, 0.5), (0.5, 0.5, 0.5))])\n",
        "\n",
        "batch_size = 4\n",
        "\n",
        "trainset = torchvision.datasets.CIFAR10(root='./data', train=True,\n",
        "                                        download=True, transform=transform)\n",
        "                                        \n",
        "trainloader = data.DataLoader(trainset, batch_size=batch_size,\n",
        "                                          shuffle=True, num_workers=2)\n",
        "\n",
        "testset = torchvision.datasets.CIFAR10(root='./data', train=False,\n",
        "                                       download=True, transform=transform)\n",
        "                                       \n",
        "testloader = data.DataLoader(testset, batch_size=batch_size,\n",
        "                                         shuffle=False, num_workers=2)\n",
        "\n",
        "classes = ('plane', 'car', 'bird', 'cat',\n",
        "           'deer', 'dog', 'frog', 'horse', 'ship', 'truck')"
      ]
    },
    {
      "cell_type": "markdown",
      "metadata": {
        "id": "rHIndKj4l42E"
      },
      "source": [
        "## RandAugment\n",
        "\n",
        "Pour implémenter l'augmentation forte dans FixMatch, vous aurez besoin d'une politique d'augmentation de données apprise par renforcement. La méthode RandAugment a été implémentée dans la bibliothèque imgaug, voici comment l'utiliser"
      ]
    },
    {
      "cell_type": "code",
      "execution_count": null,
      "metadata": {
        "id": "b_WONLK3l8dp"
      },
      "outputs": [],
      "source": [
        "import imgaug.augmenters as iaa\n",
        "aug = iaa.RandAugment(n=2, m=9)\n",
        "\n",
        "def randaugment(img):\n",
        "  return aug(images=img)"
      ]
    },
    {
      "cell_type": "code",
      "execution_count": null,
      "metadata": {
        "id": "95Bx1tRYjyLn"
      },
      "outputs": [],
      "source": [
        "import matplotlib.pyplot as plt\n",
        "\n",
        "# Application de RandAugment aux 4 premières images de la base d'entraînement\n",
        "aug_img = randaugment(x_train[0:4])\n",
        "\n",
        "# Affichage des images originales (ligne du haut) et augmentées (ligne du bas)\n",
        "for i in range(4):\n",
        "  plt.subplot(2,4,i+1)\n",
        "  plt.imshow(x_train[i])\n",
        "\n",
        "  plt.subplot(2,4, i+5)\n",
        "  plt.imshow(aug_img[i])"
      ]
    },
    {
      "cell_type": "markdown",
      "metadata": {
        "id": "pJoNYsVglVkT"
      },
      "source": [
        "## Réseau fourni\n",
        "\n",
        "Afin d'obtenir des résultats comparables, tout le monde devra utiliser le même réseau, que voici :"
      ]
    },
    {
      "cell_type": "code",
      "execution_count": null,
      "metadata": {},
      "outputs": [],
      "source": [
        "# implementation in PyTorch of a simple CNN\n",
        "\n",
        "class ConvNN(nn.Module):\n",
        "    \"\"\"\n",
        "    Simple CNN for CIFAR10\n",
        "    \"\"\"\n",
        "    \n",
        "    def __init__(self):\n",
        "        super().__init__()\n",
        "        self.conv_32 = nn.Conv2d(3, 32, kernel_size=3, padding='same')\n",
        "        self.conv_64 = nn.Conv2d(32, 64, kernel_size=3, padding='same')\n",
        "        self.conv_96 = nn.Conv2d(64, 96, kernel_size=3, padding='same')\n",
        "        self.conv_128 = nn.Conv2d(96, 128, kernel_size=3, padding='same')\n",
        "        self.fc_512 = nn.Linear(128, 512)\n",
        "        self.fc_10 = nn.Linear(512, 10)\n",
        "        self.max_pool = nn.MaxPool2d(2)\n",
        "        self.relu = nn.ReLU()\n",
        "        self.soft_max = nn.Softmax(dim=1)\n",
        "        self.flatten = nn.Flatten()\n",
        "\n",
        "    def forward(self, x):\n",
        "        x = self.conv_32(x)\n",
        "        x = self.relu(x)\n",
        "        x = self.max_pool(x)\n",
        "\n",
        "        x = self.conv_64(x)\n",
        "        x = self.relu(x)\n",
        "        x = self.max_pool(x)\n",
        "\n",
        "        x = self.conv_96(x)\n",
        "        x = self.relu(x)\n",
        "        x = self.max_pool(x)\n",
        "\n",
        "        x = self.conv_128(x)\n",
        "        x = self.relu(x)\n",
        "        x = self.max_pool(x)\n",
        "\n",
        "        x = self.flatten(x)\n",
        "        x = self.fc_512(x)\n",
        "        x = self.relu(x)\n",
        "        x = self.fc_10(x)\n",
        "        x = self.soft_max(x)\n",
        "        \n",
        "        return x"
      ]
    },
    {
      "attachments": {},
      "cell_type": "markdown",
      "metadata": {},
      "source": [
        "## Torch implementation"
      ]
    },
    {
      "cell_type": "code",
      "execution_count": null,
      "metadata": {},
      "outputs": [],
      "source": []
    },
    {
      "cell_type": "code",
      "execution_count": null,
      "metadata": {},
      "outputs": [],
      "source": [
        "CNN = ConvNN().to(device)"
      ]
    },
    {
      "cell_type": "code",
      "execution_count": null,
      "metadata": {},
      "outputs": [],
      "source": [
        "summary(CNN, (32, 32, 3))"
      ]
    },
    {
      "attachments": {},
      "cell_type": "markdown",
      "metadata": {},
      "source": [
        "## Fixmatch implementation"
      ]
    },
    {
      "cell_type": "code",
      "execution_count": null,
      "metadata": {},
      "outputs": [],
      "source": []
    }
  ],
  "metadata": {
    "accelerator": "GPU",
    "colab": {
      "provenance": []
    },
    "kernelspec": {
      "display_name": "Python 3",
      "name": "python3"
    },
    "language_info": {
      "codemirror_mode": {
        "name": "ipython",
        "version": 3
      },
      "file_extension": ".py",
      "mimetype": "text/x-python",
      "name": "python",
      "nbconvert_exporter": "python",
      "pygments_lexer": "ipython3",
      "version": "3.9.16"
    }
  },
  "nbformat": 4,
  "nbformat_minor": 0
}
