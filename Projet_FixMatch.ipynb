{
  "cells": [
    {
      "cell_type": "markdown",
      "metadata": {
        "id": "eIce92bDiD2H"
      },
      "source": [
        "# Quelques fournitures pour le projet d'apprentissage semi-supervisé"
      ]
    },
    {
      "cell_type": "markdown",
      "metadata": {
        "id": "JmZ8FlXXihig"
      },
      "source": [
        "## CIFAR-10\n",
        "\n",
        "Il vous est demandé pour ce projet d'utiliser les données de la base de données CIFAR-10, que vous pouvez récupérer avec les quelques lignes ci-dessous. Cette base de données est constituée des 10 classes suivantes : \n",
        "\n",
        "\n",
        "A vous de partager cette base en données labellisées et non labellisées en fonction des expériences que vous mènerez !"
      ]
    },
    {
      "cell_type": "code",
      "execution_count": null,
      "metadata": {
        "id": "78cLXTmIjUld"
      },
      "outputs": [],
      "source": [
        "from tensorflow.keras.datasets import cifar10\n",
        "\n",
        "(x_train, y_train), (x_test, y_test) = cifar10.load_data()"
      ]
    },
    {
      "cell_type": "markdown",
      "metadata": {
        "id": "rHIndKj4l42E"
      },
      "source": [
        "## RandAugment\n",
        "\n",
        "Pour implémenter l'augmentation forte dans FixMatch, vous aurez besoin d'une politique d'augmentation de données apprise par renforcement. La méthode RandAugment a été implémentée dans la bibliothèque imgaug, voici comment l'utiliser"
      ]
    },
    {
      "cell_type": "code",
      "execution_count": null,
      "metadata": {
        "id": "DpthVZXxne9p"
      },
      "outputs": [],
      "source": [
        "!pip uninstall --yes imgaug\n",
        "!pip install imgaug==0.4.0"
      ]
    },
    {
      "cell_type": "code",
      "execution_count": null,
      "metadata": {
        "id": "b_WONLK3l8dp"
      },
      "outputs": [],
      "source": [
        "import imgaug.augmenters as iaa\n",
        "aug = iaa.RandAugment(n=2, m=9)\n",
        "\n",
        "def randaugment(img):\n",
        "  return aug(images=img)"
      ]
    },
    {
      "cell_type": "code",
      "execution_count": null,
      "metadata": {
        "id": "95Bx1tRYjyLn"
      },
      "outputs": [],
      "source": [
        "import matplotlib.pyplot as plt\n",
        "\n",
        "# Application de RandAugment aux 4 premières images de la base d'entraînement\n",
        "aug_img = randaugment(x_train[0:4])\n",
        "\n",
        "# Affichage des images originales (ligne du haut) et augmentées (ligne du bas)\n",
        "for i in range(4):\n",
        "  plt.subplot(2,4,i+1)\n",
        "  plt.imshow(x_train[i])\n",
        "\n",
        "  plt.subplot(2,4, i+5)\n",
        "  plt.imshow(aug_img[i])"
      ]
    },
    {
      "cell_type": "markdown",
      "metadata": {
        "id": "pJoNYsVglVkT"
      },
      "source": [
        "## Réseau fourni\n",
        "\n",
        "Afin d'obtenir des résultats comparables, tout le monde devra utiliser le même réseau, que voici :"
      ]
    },
    {
      "cell_type": "code",
      "execution_count": null,
      "metadata": {
        "id": "ct5nC5dQlUgi"
      },
      "outputs": [],
      "source": [
        "from tensorflow.keras.layers import Conv2D, MaxPooling2D, Dense, Flatten\n",
        "from tensorflow.keras.models import Sequential\n",
        "\n",
        "model = Sequential()\n",
        "model.add(Conv2D(32, (3,3), padding='same', input_shape=(32,32,3),activation='relu'))\n",
        "model.add(MaxPooling2D(pool_size=(2,2)))\n",
        "model.add(Conv2D(64, (3,3), padding='same', activation='relu'))\n",
        "model.add(MaxPooling2D(pool_size=(2,2)))\n",
        "model.add(Conv2D(96, (3,3), padding='same', activation='relu'))\n",
        "model.add(MaxPooling2D(pool_size=(2,2)))\n",
        "model.add(Conv2D(128, (3,3), padding='same', activation='relu'))\n",
        "model.add(MaxPooling2D(pool_size=(2,2)))\n",
        "model.add(Flatten())\n",
        "model.add(Dense(512,activation='relu'))\n",
        "model.add(Dense(10,activation='softmax'))\n",
        "\n",
        "model.summary()"
      ]
    }
  ],
  "metadata": {
    "accelerator": "GPU",
    "colab": {
      "provenance": []
    },
    "kernelspec": {
      "display_name": "Python 3",
      "name": "python3"
    },
    "language_info": {
      "name": "python",
      "version": "3.10.9"
    }
  },
  "nbformat": 4,
  "nbformat_minor": 0
}
