{
 "cells": [
  {
   "attachments": {},
   "cell_type": "markdown",
   "metadata": {},
   "source": [
    "# Projet Fixmatch"
   ]
  },
  {
   "cell_type": "code",
   "execution_count": 1,
   "metadata": {},
   "outputs": [],
   "source": [
    "# !pip install torchview torchsummary torchvision kornia torchmetrics matplotlib tqdm path graphviz opencv-python scikit-learn optuna"
   ]
  },
  {
   "cell_type": "code",
   "execution_count": 2,
   "metadata": {},
   "outputs": [],
   "source": [
    "# system\n",
    "import sys\n",
    "sys.path.append('..')\n",
    "\n",
    "# data\n",
    "import numpy as np\n",
    "\n",
    "# deep learning\n",
    "import torch\n",
    "import torch.nn as nn\n",
    "from torch.utils.data import DataLoader, Dataset\n",
    "\n",
    "# torchvision\n",
    "import torchvision\n",
    "\n",
    "# plotting\n",
    "import matplotlib.pyplot as plt\n",
    "\n",
    "from tqdm.notebook import tqdm\n",
    "\n",
    "# utils and model\n",
    "from utils.utils import (\n",
    "    seedEverything,\n",
    "    compute_mean_std,\n",
    "    data_transform,\n",
    "    normalize,\n",
    "    plot_images,\n",
    ")\n",
    "\n",
    "from utils.model import ConvNN\n",
    "\n",
    "# FIXMATCH\n",
    "from fixmatch_DA import fixmatch_DA_train\n",
    "\n",
    "# os\n",
    "import os\n",
    "import path\n",
    "\n",
    "# sklearn\n",
    "from sklearn.metrics import confusion_matrix, ConfusionMatrixDisplay\n",
    "from sklearn.cluster import SpectralClustering\n",
    "from sklearn.metrics.pairwise import pairwise_distances\n",
    "\n",
    "%load_ext autoreload\n",
    "%autoreload 2"
   ]
  },
  {
   "cell_type": "code",
   "execution_count": 3,
   "metadata": {},
   "outputs": [
    {
     "name": "stdout",
     "output_type": "stream",
     "text": [
      "mps\n"
     ]
    }
   ],
   "source": [
    "# Set device\n",
    "if ((int(torch.__version__.split(\".\")[0]) >= 2) or (int(torch.__version__.split(\".\")[1]) >= 13)) and torch.has_mps:\n",
    "    device = torch.device(\"mps\")\n",
    "elif torch.cuda.is_available():\n",
    "    device = torch.device(\"cuda\")\n",
    "else:\n",
    "    device = torch.device(\"cpu\")\n",
    "\n",
    "print(device)"
   ]
  },
  {
   "cell_type": "code",
   "execution_count": 4,
   "metadata": {},
   "outputs": [],
   "source": [
    "IMG_SHAPE = (3, 32, 32)\n",
    "# See Table 4\n",
    "TAU = 0.9\n",
    "LAMBDA_U = 3\n",
    "MU = 4\n",
    "BATCH_SIZE = 64\n",
    "LR = 0.03\n",
    "BETA = 0.9\n",
    "WEIGHT_DECAY = 0.0005"
   ]
  },
  {
   "cell_type": "code",
   "execution_count": 5,
   "metadata": {},
   "outputs": [
    {
     "name": "stdout",
     "output_type": "stream",
     "text": [
      "Files already downloaded and verified\n",
      "Files already downloaded and verified\n"
     ]
    }
   ],
   "source": [
    "# Download both datasets\n",
    "trainset = torchvision.datasets.CIFAR10(\n",
    "    root='../data', train=True, download=True, transform=data_transform())\n",
    "testset = torchvision.datasets.CIFAR10(\n",
    "    root='../data', train=False, download=True, transform=data_transform())\n",
    "\n",
    "# convert to data loaders\n",
    "trainloader = torch.utils.data.DataLoader(\n",
    "    trainset, batch_size=BATCH_SIZE, shuffle=True, num_workers=0)\n",
    "testloader = torch.utils.data.DataLoader(\n",
    "    testset, batch_size=BATCH_SIZE, shuffle=False, num_workers=0)"
   ]
  },
  {
   "cell_type": "code",
   "execution_count": 6,
   "metadata": {},
   "outputs": [
    {
     "name": "stdout",
     "output_type": "stream",
     "text": [
      "mean: [0.49133518 0.48210305 0.44649622], std: [0.24633394 0.24276228 0.26066196]\n"
     ]
    }
   ],
   "source": [
    "# compute mean and std\n",
    "if not os.path.exists('../data/mean.pt'):\n",
    "    mean, std = compute_mean_std(trainloader)\n",
    "    torch.save(mean, '../data/mean.pt')\n",
    "    torch.save(std, '../data/std.pt')\n",
    "else:\n",
    "    mean, std = torch.load('../data/mean.pt'), torch.load('../data/std.pt')\n",
    "\n",
    "# to numpy\n",
    "mean, std = mean.numpy(), std.numpy()\n",
    "\n",
    "print(f\"mean: {mean}, std: {std}\")"
   ]
  },
  {
   "cell_type": "code",
   "execution_count": 7,
   "metadata": {},
   "outputs": [],
   "source": [
    "# define classes\n",
    "classes = ('plane', 'car', 'bird', 'cat',\n",
    "           'deer', 'dog', 'frog', 'horse', 'ship', 'truck')\n"
   ]
  },
  {
   "cell_type": "code",
   "execution_count": 8,
   "metadata": {},
   "outputs": [],
   "source": [
    "torch_models = './results/models/' \n",
    "if not os.path.exists(torch_models):\n",
    "    os.makedirs(torch_models)"
   ]
  },
  {
   "cell_type": "code",
   "execution_count": 9,
   "metadata": {},
   "outputs": [
    {
     "data": {
      "text/plain": [
       "<All keys matched successfully>"
      ]
     },
     "execution_count": 9,
     "metadata": {},
     "output_type": "execute_result"
    }
   ],
   "source": [
    "# load full model\n",
    "model_full = ConvNN(return_features=True).to(device)\n",
    "model_full.load_state_dict(torch.load(f'../SUP/results/models/model_100.pth', map_location=device))"
   ]
  },
  {
   "attachments": {},
   "cell_type": "markdown",
   "metadata": {},
   "source": [
    "## IV. Semi-Supervised Learning: Fixmatch with Spectral Clustering on feature space"
   ]
  },
  {
   "attachments": {},
   "cell_type": "markdown",
   "metadata": {},
   "source": [
    "### IV.0 Spectral Clustering"
   ]
  },
  {
   "cell_type": "code",
   "execution_count": 10,
   "metadata": {},
   "outputs": [],
   "source": [
    "def perform_spectral_clustering(\n",
    "        model_full: ConvNN,\n",
    "        trainloader: torch.utils.data.DataLoader,\n",
    "        budget: float = 0.01\n",
    "        ) -> np.ndarray:\n",
    "\n",
    "    # Compute the output embeddings from the model\n",
    "    print(\"Extracting embeddings from the model\")\n",
    "    embeddings = []\n",
    "    pbar = tqdm(trainloader, total=len(trainloader))\n",
    "    for i, (train_data) in enumerate(pbar):\n",
    "        images, _ = train_data\n",
    "        images = normalize(mean, std)(images)\n",
    "        images = images.to(device)\n",
    "\n",
    "        # Forward pass\n",
    "        outputs = model_full(images).detach().cpu().numpy()\n",
    "        embeddings.append(outputs)\n",
    "\n",
    "    # Stack the embeddings\n",
    "    embeddings_array = np.vstack(embeddings)\n",
    "\n",
    "    # Compute pairwise distance matrix\n",
    "    pairwise_distances_matrix = pairwise_distances(embeddings_array)\n",
    "\n",
    "    # Perform spectral clustering\n",
    "    spectral_clustering = SpectralClustering(\n",
    "        n_clusters=10, affinity='precomputed', assign_labels='discretize', random_state=0\n",
    "    )\n",
    "    spectral_clustering.fit(pairwise_distances_matrix)\n",
    "\n",
    "    # Obtain the cluster labels\n",
    "    cluster_labels = spectral_clustering.labels_\n",
    "\n",
    "    # Compute the cluster centers\n",
    "    print(\"Computing cluster centers\")\n",
    "    cluster_centers = []\n",
    "    for cluster_i in range(10):\n",
    "        cluster_i_indices = np.where(cluster_labels == cluster_i)[0]\n",
    "        cluster_i_embeddings = embeddings_array[cluster_i_indices]\n",
    "        cluster_i_center = np.mean(cluster_i_embeddings, axis=0)\n",
    "        cluster_centers.append(cluster_i_center)\n",
    "\n",
    "    cluster_centers = np.vstack(cluster_centers)\n",
    "\n",
    "    # Compute the distance between each data point and cluster centers\n",
    "    distances = pairwise_distances(embeddings_array, cluster_centers)\n",
    "\n",
    "    # Filter distance to closest cluster center according to prediction\n",
    "    distances_filtered = np.array(\n",
    "        [distances[i, cluster_labels[i]] for i in range(len(cluster_labels))]\n",
    "    )\n",
    "\n",
    "    # Show histogram and horizontal lines indicating X% of the data\n",
    "    plt.hist(distances_filtered, bins=100)\n",
    "    plt.axvline(np.percentile(distances_filtered, 90), color='red', label='90%')\n",
    "    plt.axvline(np.percentile(distances_filtered, 95), color='blue', label='95%')\n",
    "    plt.axvline(np.percentile(distances_filtered, 99), color='green', label='99%')\n",
    "    plt.xlabel('Distance to assigned cluster center')\n",
    "    plt.ylabel('Number of data points')\n",
    "    plt.title('Histogram of distances to assigned cluster center')\n",
    "    plt.legend()\n",
    "    plt.show()\n",
    "\n",
    "    # Select the top budget fraction of samples closest to their assigned cluster centers\n",
    "    # indices = np.argsort(distances_filtered)[:int(budget * len(distances_filtered))]\n",
    "\n",
    "    # select half of the samples close to their assigned cluster centers and half of the samples far from their assigned cluster centers\n",
    "    indices = np.argsort(distances_filtered)[:int(budget * len(distances_filtered) / 2)] + np.argsort(distances_filtered)[int(budget * len(distances_filtered) / 2):int(budget * len(distances_filtered))]\n",
    "\n",
    "    # save clusters\n",
    "    torch.save(cluster_labels, f'./results/clustering/clusters.pth')\n",
    "    torch.save(indices, f'./results/clustering/indices_{int(budget*100)}.pth')\n",
    "\n",
    "\n",
    "    return indices"
   ]
  },
  {
   "attachments": {},
   "cell_type": "markdown",
   "metadata": {},
   "source": [
    "### IV.1 Fixmatch on 10% train data with KMeans Clustering "
   ]
  },
  {
   "cell_type": "code",
   "execution_count": 11,
   "metadata": {},
   "outputs": [
    {
     "name": "stdout",
     "output_type": "stream",
     "text": [
      "Extracting embeddings from the model\n"
     ]
    },
    {
     "data": {
      "application/vnd.jupyter.widget-view+json": {
       "model_id": "2aa948b3514a4f5fa56217fd13e0f67b",
       "version_major": 2,
       "version_minor": 0
      },
      "text/plain": [
       "  0%|          | 0/782 [00:00<?, ?it/s]"
      ]
     },
     "metadata": {},
     "output_type": "display_data"
    },
    {
     "ename": "",
     "evalue": "",
     "output_type": "error",
     "traceback": [
      "\u001b[1;31mCannot execute code, session has been disposed. Please try restarting the Kernel."
     ]
    },
    {
     "ename": "",
     "evalue": "",
     "output_type": "error",
     "traceback": [
      "\u001b[1;31mThe Kernel crashed while executing code in the the current cell or a previous cell. Please review the code in the cell(s) to identify a possible cause of the failure. Click <a href='https://aka.ms/vscodeJupyterKernelCrash'>here</a> for more info. View Jupyter <a href='command:jupyter.viewOutput'>log</a> for further details."
     ]
    }
   ],
   "source": [
    "# fix the seed\n",
    "seedEverything()\n",
    "\n",
    "SUBSET_PROP = 0.10\n",
    "\n",
    "# load indices\n",
    "indices_10 = perform_spectral_clustering(model_full, trainloader, budget=0.10)"
   ]
  },
  {
   "cell_type": "code",
   "execution_count": null,
   "metadata": {},
   "outputs": [],
   "source": []
  },
  {
   "cell_type": "code",
   "execution_count": null,
   "metadata": {},
   "outputs": [],
   "source": []
  },
  {
   "cell_type": "code",
   "execution_count": 26,
   "metadata": {},
   "outputs": [
    {
     "name": "stderr",
     "output_type": "stream",
     "text": [
      "/usr/local/lib/python3.10/dist-packages/torch/utils/data/dataset.py:348: UserWarning: Length of split at index 1 is 0. This might result in an empty dataset.\n",
      "  warnings.warn(f\"Length of split at index {i} is 0. \"\n"
     ]
    }
   ],
   "source": [
    "\n",
    "\n",
    "trainset_sup = torch.utils.data.Subset(trainset, indices_10)\n",
    "\n",
    "trainset_unsup, _ = torch.utils.data.random_split(trainset, [1, 0])\n",
    "\n",
    "labeled_dataloader = DataLoader(\n",
    "    trainset_sup,\n",
    "    batch_size=BATCH_SIZE,\n",
    "    shuffle=True,\n",
    "    num_workers=0\n",
    ")\n",
    "\n",
    "unlabeled_dataloader = DataLoader(\n",
    "    trainset_unsup,\n",
    "    batch_size=MU*BATCH_SIZE,\n",
    "    shuffle=True,\n",
    "    num_workers=0\n",
    ")"
   ]
  },
  {
   "cell_type": "code",
   "execution_count": null,
   "metadata": {},
   "outputs": [],
   "source": [
    "EPOCHS = 300\n",
    "\n",
    "model = ConvNN().to(device)\n",
    "\n",
    "# criterion and optimizer\n",
    "labeled_criterion = nn.CrossEntropyLoss(reduction='none')\n",
    "unlabeled_criterion = nn.CrossEntropyLoss(reduction='none')\n",
    "\n",
    "optimizer = torch.optim.SGD(model.parameters(), lr=LR, momentum=BETA, weight_decay=WEIGHT_DECAY, nesterov=True)\n",
    "scheduler = torch.optim.lr_scheduler.CosineAnnealingLR(optimizer, T_max=EPOCHS)"
   ]
  },
  {
   "cell_type": "code",
   "execution_count": null,
   "metadata": {},
   "outputs": [],
   "source": [
    "fixmatch_DA_train(\n",
    "    model=model,\n",
    "    labeled_dataloader=labeled_dataloader,\n",
    "    unlabeled_dataloader=unlabeled_dataloader,\n",
    "    testloader=testloader,\n",
    "    labeled_criterion=labeled_criterion,\n",
    "    unlabeled_criterion=unlabeled_criterion,\n",
    "    optimizer=optimizer,\n",
    "    scheduler=scheduler,\n",
    "    epochs=EPOCHS,\n",
    "    mean=mean,\n",
    "    std=std,\n",
    "    lambda_u=LAMBDA_U,\n",
    "    tau=TAU,\n",
    "    mu=MU,\n",
    "    batch_size=BATCH_SIZE,\n",
    "    name='10_KMEANS'\n",
    ")"
   ]
  },
  {
   "cell_type": "code",
   "execution_count": null,
   "metadata": {},
   "outputs": [],
   "source": [
    "# open results\n",
    "model_10 = torch.load('./results/models/model_DA_10_KMEANS.pth')\n",
    "train_losses_10 = torch.load('./results/metrics/train_losses_DA_10_KMEANS.pth')\n",
    "train_accuracies_10 = torch.load('./results/metrics/train_accuracies_DA_10_KMEANS.pth')\n",
    "test_losses_10 = torch.load('./results/metrics/test_losses_DA_10_KMEANS.pth')\n",
    "test_accuracies_10 = torch.load('./results/metrics/test_accuracies_DA_10_KMEANS.pth')"
   ]
  },
  {
   "cell_type": "code",
   "execution_count": null,
   "metadata": {},
   "outputs": [],
   "source": [
    "# plot losses and accuracies\n",
    "fig, (ax1, ax2) = plt.subplots(1, 2, figsize=(15, 5))\n",
    "\n",
    "ax1.plot(train_losses_10, label=\"train\")\n",
    "ax1.plot(test_losses_10, label=\"test\")\n",
    "ax1.set_title(\"Loss\")\n",
    "\n",
    "ax2.plot(train_accuracies_10, label=\"train\")\n",
    "ax2.plot(test_accuracies_10, label=\"test\")\n",
    "ax2.set_title(\"Accuracy\")\n",
    "\n",
    "plt.legend()\n",
    "plt.show()\n",
    "\n",
    "# save plot\n",
    "fig.savefig(f\"/results/figures/losses_accuracies_DA_10_KMEANS.png\")"
   ]
  },
  {
   "cell_type": "code",
   "execution_count": null,
   "metadata": {},
   "outputs": [],
   "source": [
    "# plot confusion matrix\n",
    "model.eval()  # Set the model to evaluation mode\n",
    "test_correct = 0\n",
    "test_total = 0\n",
    "y_true = []\n",
    "y_pred = []\n",
    "\n",
    "with torch.no_grad():\n",
    "    for data in testloader:\n",
    "        images, labels = data[0].to(device), data[1].to(device)\n",
    "        # normalize\n",
    "        images = normalize(mean, std)(images)\n",
    "        \n",
    "        outputs = model_10(images)\n",
    "        _, predicted = outputs.max(1)\n",
    "        test_total += labels.size(0)\n",
    "        test_correct += predicted.eq(labels).sum().item()\n",
    "\n",
    "        y_true.append(labels.cpu().numpy())\n",
    "        y_pred.append(predicted.cpu().numpy())\n",
    "    \n",
    "    y_true = np.concatenate(y_true)\n",
    "    y_pred = np.concatenate(y_pred)\n",
    "\n",
    "    fig, ax = plt.subplots(figsize=(10, 10))\n",
    "    cm = confusion_matrix(y_true, y_pred, normalize='true')\n",
    "    disp = ConfusionMatrixDisplay(confusion_matrix=cm, display_labels=classes)\n",
    "    disp.plot(ax=ax)\n",
    "    plt.tight_layout()\n",
    "    plt.show()\n",
    "\n",
    "    # save plot\n",
    "    fig.savefig(f\"figures/confusion_matrix_DA_10_KMEANS.png\")"
   ]
  },
  {
   "cell_type": "code",
   "execution_count": null,
   "metadata": {},
   "outputs": [],
   "source": [
    "# Evaluation on the test set\n",
    "test_accuracy = 100.0 * test_correct / test_total\n",
    "print(f'Test Accuracy: {test_accuracy}%')\n",
    "\n",
    "test_image, test_labels = testloader.__iter__().__next__()\n",
    "test_image = test_image.to(device)\n",
    "test_image = normalize(mean, std)(test_image)\n",
    "outputs_test = model_10(test_image)\n",
    "label_pred_test = outputs_test.argmax(dim=1)\n",
    "\n",
    "fig1 = plot_images(test_image, test_labels, label_pred_test, classes, figure_name=f\"Test score with Fixmatch - {int(SUBSET_PROP*100)}% - {test_accuracy:.2f}%\")\n",
    "fig1.savefig(f\"./figures/test_score_DA_10_KMEANS.png\")"
   ]
  },
  {
   "attachments": {},
   "cell_type": "markdown",
   "metadata": {},
   "source": [
    "### III.2 Fixmatch on 5% train data"
   ]
  },
  {
   "cell_type": "code",
   "execution_count": null,
   "metadata": {},
   "outputs": [],
   "source": [
    "# fix the seed\n",
    "seedEverything()\n",
    "\n",
    "SUBSET_PROP = 0.05\n",
    "\n",
    "# load indices\n",
    "indices_05 = perform_KMeans_selection(model_full, trainloader, budget=0.05)\n",
    "\n",
    "trainset_sup = torch.utils.data.Subset(trainset, indices_05)\n",
    "\n",
    "trainset_unsup, _ = torch.utils.data.random_split(trainset, [1, 0])\n",
    "\n",
    "labeled_dataloader = DataLoader(\n",
    "    trainset_sup,\n",
    "    batch_size=BATCH_SIZE,\n",
    "    shuffle=True,\n",
    "    num_workers=0\n",
    ")\n",
    "\n",
    "unlabeled_dataloader = DataLoader(\n",
    "    trainset_unsup,\n",
    "    batch_size=MU*BATCH_SIZE,\n",
    "    shuffle=True,\n",
    "    num_workers=0\n",
    ")"
   ]
  },
  {
   "cell_type": "code",
   "execution_count": null,
   "metadata": {},
   "outputs": [],
   "source": [
    "EPOCHS = 300\n",
    "\n",
    "model = ConvNN().to(device)\n",
    "\n",
    "# criterion and optimizer\n",
    "labeled_criterion = nn.CrossEntropyLoss(reduction='none')\n",
    "unlabeled_criterion = nn.CrossEntropyLoss(reduction='none')\n",
    "\n",
    "optimizer = torch.optim.SGD(model.parameters(), lr=LR, momentum=BETA, weight_decay=WEIGHT_DECAY, nesterov=True)\n",
    "scheduler = torch.optim.lr_scheduler.CosineAnnealingLR(optimizer, T_max=EPOCHS)"
   ]
  },
  {
   "cell_type": "code",
   "execution_count": null,
   "metadata": {},
   "outputs": [],
   "source": [
    "fixmatch_DA_train(\n",
    "    model=model,\n",
    "    labeled_dataloader=labeled_dataloader,\n",
    "    unlabeled_dataloader=unlabeled_dataloader,\n",
    "    testloader=testloader,\n",
    "    labeled_criterion=labeled_criterion,\n",
    "    unlabeled_criterion=unlabeled_criterion,\n",
    "    optimizer=optimizer,\n",
    "    scheduler=scheduler,\n",
    "    epochs=EPOCHS,\n",
    "    mean=mean,\n",
    "    std=std,\n",
    "    lambda_u=LAMBDA_U,\n",
    "    tau=TAU,\n",
    "    mu=MU,\n",
    "    batch_size=BATCH_SIZE,\n",
    "    name='05_KMEANS'\n",
    ")"
   ]
  },
  {
   "cell_type": "code",
   "execution_count": null,
   "metadata": {},
   "outputs": [],
   "source": [
    "# open results\n",
    "model_05 = torch.load('./results/models/model_DA_05_KMEANS.pth')\n",
    "train_losses_05 = torch.load('./results/metrics/train_losses_DA_05_KMEANS.pth')\n",
    "train_accuracies_05 = torch.load('./results/metrics/train_accuracies_DA_05_KMEANS.pth')\n",
    "test_losses_05 = torch.load('./results/metrics/test_losses_DA_05_KMEANS.pth')\n",
    "test_accuracies_05 = torch.load('./results/metrics/test_accuracies_DA_05_KMEANS.pth')"
   ]
  },
  {
   "cell_type": "code",
   "execution_count": null,
   "metadata": {},
   "outputs": [],
   "source": [
    "# plot losses and accuracies\n",
    "fig, (ax1, ax2) = plt.subplots(1, 2, figsize=(15, 5))\n",
    "\n",
    "ax1.plot(train_losses_05, label=\"train\")\n",
    "ax1.plot(test_losses_05, label=\"test\")\n",
    "ax1.set_title(\"Loss\")\n",
    "\n",
    "ax2.plot(train_accuracies_05, label=\"train\")\n",
    "ax2.plot(test_accuracies_05, label=\"test\")\n",
    "ax2.set_title(\"Accuracy\")\n",
    "\n",
    "plt.legend()\n",
    "plt.show()\n",
    "\n",
    "# save plot\n",
    "fig.savefig(f\"/results/figures/losses_accuracies_DA_05_KMEANS.png\")"
   ]
  },
  {
   "cell_type": "code",
   "execution_count": null,
   "metadata": {},
   "outputs": [],
   "source": [
    "# plot confusion matrix\n",
    "model.eval()  # Set the model to evaluation mode\n",
    "test_correct = 0\n",
    "test_total = 0\n",
    "y_true = []\n",
    "y_pred = []\n",
    "\n",
    "with torch.no_grad():\n",
    "    for data in testloader:\n",
    "        images, labels = data[0].to(device), data[1].to(device)\n",
    "        # normalize\n",
    "        images = normalize(mean, std)(images)\n",
    "        \n",
    "        outputs = model_05(images)\n",
    "        _, predicted = outputs.max(1)\n",
    "        test_total += labels.size(0)\n",
    "        test_correct += predicted.eq(labels).sum().item()\n",
    "\n",
    "        y_true.append(labels.cpu().numpy())\n",
    "        y_pred.append(predicted.cpu().numpy())\n",
    "    \n",
    "    y_true = np.concatenate(y_true)\n",
    "    y_pred = np.concatenate(y_pred)\n",
    "\n",
    "    fig, ax = plt.subplots(figsize=(10, 10))\n",
    "    cm = confusion_matrix(y_true, y_pred, normalize='true')\n",
    "    disp = ConfusionMatrixDisplay(confusion_matrix=cm, display_labels=classes)\n",
    "    disp.plot(ax=ax)\n",
    "    plt.tight_layout()\n",
    "    plt.show()\n",
    "\n",
    "    # save plot\n",
    "    fig.savefig(f\"figures/confusion_matrix_DA_05_KMEANS.png\")"
   ]
  },
  {
   "cell_type": "code",
   "execution_count": null,
   "metadata": {},
   "outputs": [],
   "source": [
    "# Evaluation on the test set\n",
    "test_accuracy = 100.0 * test_correct / test_total\n",
    "print(f'Test Accuracy: {test_accuracy}%')\n",
    "\n",
    "test_image, test_labels = testloader.__iter__().__next__()\n",
    "test_image = test_image.to(device)\n",
    "test_image = normalize(mean, std)(test_image)\n",
    "outputs_test = model_05(test_image)\n",
    "label_pred_test = outputs_test.argmax(dim=1)\n",
    "\n",
    "fig1 = plot_images(test_image, test_labels, label_pred_test, classes, figure_name=f\"Test score with Fixmatch - {int(SUBSET_PROP*100)}% - {test_accuracy:.2f}%\")\n",
    "fig1.savefig(f\"./figures/test_score_DA_05_KMEANS.png\")"
   ]
  },
  {
   "attachments": {},
   "cell_type": "markdown",
   "metadata": {},
   "source": [
    "### III.3 Fixmatch on 1% train data"
   ]
  },
  {
   "cell_type": "code",
   "execution_count": null,
   "metadata": {},
   "outputs": [],
   "source": [
    "# fix the seed\n",
    "seedEverything()\n",
    "\n",
    "SUBSET_PROP = 0.01\n",
    "\n",
    "# load indices\n",
    "indices_01 = perform_KMeans_selection(model_full, trainloader, budget=0.01)\n",
    "\n",
    "trainset_sup = torch.utils.data.Subset(trainset, indices_01)\n",
    "\n",
    "trainset_unsup, _ = torch.utils.data.random_split(trainset, [1, 0])\n",
    "\n",
    "labeled_dataloader = DataLoader(\n",
    "    trainset_sup,\n",
    "    batch_size=BATCH_SIZE,\n",
    "    shuffle=True,\n",
    "    num_workers=0\n",
    ")\n",
    "\n",
    "unlabeled_dataloader = DataLoader(\n",
    "    trainset_unsup,\n",
    "    batch_size=MU*BATCH_SIZE,\n",
    "    shuffle=True,\n",
    "    num_workers=0\n",
    ")"
   ]
  },
  {
   "cell_type": "code",
   "execution_count": null,
   "metadata": {},
   "outputs": [],
   "source": [
    "EPOCHS = 300\n",
    "\n",
    "model = ConvNN().to(device)\n",
    "\n",
    "# criterion and optimizer\n",
    "labeled_criterion = nn.CrossEntropyLoss(reduction='none')\n",
    "unlabeled_criterion = nn.CrossEntropyLoss(reduction='none')\n",
    "\n",
    "optimizer = torch.optim.SGD(model.parameters(), lr=LR, momentum=BETA, weight_decay=WEIGHT_DECAY, nesterov=True)\n",
    "scheduler = torch.optim.lr_scheduler.CosineAnnealingLR(optimizer, T_max=EPOCHS)"
   ]
  },
  {
   "cell_type": "code",
   "execution_count": null,
   "metadata": {},
   "outputs": [],
   "source": [
    "fixmatch_DA_train(\n",
    "    model=model,\n",
    "    labeled_dataloader=labeled_dataloader,\n",
    "    unlabeled_dataloader=unlabeled_dataloader,\n",
    "    testloader=testloader,\n",
    "    labeled_criterion=labeled_criterion,\n",
    "    unlabeled_criterion=unlabeled_criterion,\n",
    "    optimizer=optimizer,\n",
    "    scheduler=scheduler,\n",
    "    epochs=EPOCHS,\n",
    "    mean=mean,\n",
    "    std=std,\n",
    "    lambda_u=LAMBDA_U,\n",
    "    tau=TAU,\n",
    "    mu=MU,\n",
    "    batch_size=BATCH_SIZE,\n",
    "    name='01_KMEANS'\n",
    ")"
   ]
  },
  {
   "cell_type": "code",
   "execution_count": null,
   "metadata": {},
   "outputs": [],
   "source": [
    "# open results\n",
    "model_01 = torch.load('./results/models/model_DA_01_KMEANS.pth')\n",
    "train_losses_01 = torch.load('./results/metrics/train_losses_DA_01_KMEANS.pth')\n",
    "train_accuracies_01 = torch.load('./results/metrics/train_accuracies_DA_01_KMEANS.pth')\n",
    "test_losses_01 = torch.load('./results/metrics/test_losses_DA_01_KMEANS.pth')\n",
    "test_accuracies_01 = torch.load('./results/metrics/test_accuracies_DA_01_KMEANS.pth')"
   ]
  },
  {
   "cell_type": "code",
   "execution_count": null,
   "metadata": {},
   "outputs": [],
   "source": [
    "# plot losses and accuracies\n",
    "fig, (ax1, ax2) = plt.subplots(1, 2, figsize=(15, 5))\n",
    "\n",
    "ax1.plot(train_losses_01, label=\"train\")\n",
    "ax1.plot(test_losses_01, label=\"test\")\n",
    "ax1.set_title(\"Loss\")\n",
    "\n",
    "ax2.plot(train_accuracies_01, label=\"train\")\n",
    "ax2.plot(test_accuracies_01, label=\"test\")\n",
    "ax2.set_title(\"Accuracy\")\n",
    "\n",
    "plt.legend()\n",
    "plt.show()\n",
    "\n",
    "# save plot\n",
    "fig.savefig(f\"/results/figures/losses_accuracies_DA_01_KMEANS.png\")"
   ]
  },
  {
   "cell_type": "code",
   "execution_count": null,
   "metadata": {},
   "outputs": [],
   "source": [
    "# plot confusion matrix\n",
    "model.eval()  # Set the model to evaluation mode\n",
    "test_correct = 0\n",
    "test_total = 0\n",
    "y_true = []\n",
    "y_pred = []\n",
    "\n",
    "with torch.no_grad():\n",
    "    for data in testloader:\n",
    "        images, labels = data[0].to(device), data[1].to(device)\n",
    "        # normalize\n",
    "        images = normalize(mean, std)(images)\n",
    "        \n",
    "        outputs = model_01(images)\n",
    "        _, predicted = outputs.max(1)\n",
    "        test_total += labels.size(0)\n",
    "        test_correct += predicted.eq(labels).sum().item()\n",
    "\n",
    "        y_true.append(labels.cpu().numpy())\n",
    "        y_pred.append(predicted.cpu().numpy())\n",
    "    \n",
    "    y_true = np.concatenate(y_true)\n",
    "    y_pred = np.concatenate(y_pred)\n",
    "\n",
    "    fig, ax = plt.subplots(figsize=(10, 10))\n",
    "    cm = confusion_matrix(y_true, y_pred, normalize='true')\n",
    "    disp = ConfusionMatrixDisplay(confusion_matrix=cm, display_labels=classes)\n",
    "    disp.plot(ax=ax)\n",
    "    plt.tight_layout()\n",
    "    plt.show()\n",
    "\n",
    "    # save plot\n",
    "    fig.savefig(f\"figures/confusion_matrix_DA_01_KMEANS.png\")"
   ]
  },
  {
   "cell_type": "code",
   "execution_count": null,
   "metadata": {},
   "outputs": [],
   "source": [
    "# Evaluation on the test set\n",
    "test_accuracy = 100.0 * test_correct / test_total\n",
    "print(f'Test Accuracy: {test_accuracy}%')\n",
    "\n",
    "test_image, test_labels = testloader.__iter__().__next__()\n",
    "test_image = test_image.to(device)\n",
    "test_image = normalize(mean, std)(test_image)\n",
    "outputs_test = model_01(test_image)\n",
    "label_pred_test = outputs_test.argmax(dim=1)\n",
    "\n",
    "fig1 = plot_images(test_image, test_labels, label_pred_test, classes, figure_name=f\"Test score with Fixmatch - {int(SUBSET_PROP*100)}% - {test_accuracy:.2f}%\")\n",
    "fig1.savefig(f\"./figures/test_score_DA_01_KMEANS.png\")"
   ]
  },
  {
   "cell_type": "code",
   "execution_count": null,
   "metadata": {},
   "outputs": [],
   "source": []
  }
 ],
 "metadata": {
  "kernelspec": {
   "display_name": "Python 3",
   "language": "python",
   "name": "python3"
  },
  "language_info": {
   "codemirror_mode": {
    "name": "ipython",
    "version": 3
   },
   "file_extension": ".py",
   "mimetype": "text/x-python",
   "name": "python",
   "nbconvert_exporter": "python",
   "pygments_lexer": "ipython3",
   "version": "3.11.3"
  },
  "orig_nbformat": 4
 },
 "nbformat": 4,
 "nbformat_minor": 2
}
