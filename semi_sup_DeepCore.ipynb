{
 "cells": [
  {
   "cell_type": "code",
   "execution_count": 1,
   "metadata": {},
   "outputs": [],
   "source": [
    "# !pip install torchview torchsummary torchvision kornia torchmetrics matplotlib tqdm path graphviz opencv-python scikit-learn optuna"
   ]
  },
  {
   "cell_type": "code",
   "execution_count": 2,
   "metadata": {},
   "outputs": [],
   "source": [
    "# deep learning\n",
    "import torch\n",
    "import torch.nn as nn\n",
    "from torch.distributions.transforms import LowerCholeskyTransform\n",
    "from torch.distributions.multivariate_normal import MultivariateNormal\n",
    "from torch.utils.data import DataLoader, Dataset\n",
    "\n",
    "# vizualisation\n",
    "import torchsummary\n",
    "\n",
    "# transforms\n",
    "import torchvision.transforms as T\n",
    "import kornia.augmentation as K\n",
    "from kornia.enhance import normalize\n",
    "from torchvision.transforms import RandAugment\n",
    "\n",
    "# metrics\n",
    "from torchmetrics import Accuracy\n",
    "\n",
    "# torchvision\n",
    "import torchvision\n",
    "import torchvision.transforms as transforms\n",
    "\n",
    "# plotting\n",
    "import matplotlib.pyplot as plt\n",
    "from torchview import draw_graph\n",
    "\n",
    "from IPython.display import display\n",
    "from IPython.core.display import SVG, HTML\n",
    "\n",
    "from tqdm.auto import tqdm\n",
    "\n",
    "# typing\n",
    "from typing import Callable\n",
    "\n",
    "from utils import plot_images, plot_transform\n",
    "from model import ConvNN, display_model\n",
    "\n",
    "# os\n",
    "import os\n",
    "import path\n",
    "\n",
    "import random\n",
    "import numpy as np \n",
    "\n",
    "# transformations\n",
    "# import transform as T\n",
    "from randaugment import RandAugmentMC\n",
    "\n",
    "# typing\n",
    "from typing import Callable, List, Tuple\n",
    "\n",
    "from sklearn.metrics import confusion_matrix, ConfusionMatrixDisplay\n",
    "\n",
    "%load_ext autoreload\n",
    "%autoreload 2"
   ]
  },
  {
   "cell_type": "code",
   "execution_count": 3,
   "metadata": {},
   "outputs": [],
   "source": [
    "DEFAULT_RANDOM_SEED = 2021\n",
    "\n",
    "def seedBasic(seed=DEFAULT_RANDOM_SEED):\n",
    "    random.seed(seed)\n",
    "    os.environ['PYTHONHASHSEED'] = str(seed)\n",
    "    np.random.seed(seed)\n",
    "    \n",
    "# torch random seed\n",
    "import torch\n",
    "def seedTorch(seed=DEFAULT_RANDOM_SEED):\n",
    "    torch.manual_seed(seed)\n",
    "    torch.cuda.manual_seed(seed)\n",
    "    torch.backends.cudnn.deterministic = True\n",
    "    torch.backends.cudnn.benchmark = False\n",
    "      \n",
    "# basic + tensorflow + torch \n",
    "def seedEverything(seed=DEFAULT_RANDOM_SEED):\n",
    "    seedBasic(seed)\n",
    "    seedTorch(seed)"
   ]
  },
  {
   "cell_type": "code",
   "execution_count": 4,
   "metadata": {},
   "outputs": [
    {
     "name": "stdout",
     "output_type": "stream",
     "text": [
      "cuda\n"
     ]
    }
   ],
   "source": [
    "# Set device\n",
    "if ((int(torch.__version__.split(\".\")[0]) >= 2) or (int(torch.__version__.split(\".\")[1]) >= 13)) and torch.has_mps:\n",
    "    device = torch.device(\"mps\")\n",
    "elif torch.cuda.is_available():\n",
    "    device = torch.device(\"cuda\")\n",
    "else:\n",
    "    device = torch.device(\"cpu\")\n",
    "\n",
    "print(device)"
   ]
  },
  {
   "cell_type": "code",
   "execution_count": 5,
   "metadata": {},
   "outputs": [],
   "source": [
    "IMG_SHAPE = (3, 32, 32)\n",
    "# See Table 4\n",
    "TAU = 0.9 \n",
    "LAMBDA_U = 3\n",
    "MU = 4 # Coefficient for scaling the unlabeled loss\n",
    "BATCH_SIZE = 64\n",
    "LR = 0.03\n",
    "BETA = 0.9\n",
    "WEIGHT_DECAY = 0.0005"
   ]
  },
  {
   "cell_type": "code",
   "execution_count": 6,
   "metadata": {},
   "outputs": [],
   "source": [
    "class ConvNN(nn.Module):\n",
    "    \"\"\"\n",
    "    Simple CNN for CIFAR10\n",
    "    \"\"\"\n",
    "    \n",
    "    def __init__(self):\n",
    "        super().__init__()\n",
    "        self.conv_32 = nn.Conv2d(3, 32, kernel_size=3, padding='same')\n",
    "        self.conv_64 = nn.Conv2d(32, 64, kernel_size=3, padding='same')\n",
    "        self.conv_96 = nn.Conv2d(64, 96, kernel_size=3, padding='same')\n",
    "        self.conv_128 = nn.Conv2d(96, 128, kernel_size=3, padding='same')\n",
    "        self.fc_512 = nn.Linear(512, 512)\n",
    "        self.fc_10 = nn.Linear(512, 10)\n",
    "        self.max_pool = nn.MaxPool2d(2)\n",
    "        self.relu = nn.ReLU(inplace=True)\n",
    "        self.flatten = nn.Flatten()\n",
    "\n",
    "    def forward(self, x: torch.Tensor) -> torch.Tensor:\n",
    "        x = self.conv_32(x)\n",
    "        x = self.relu(x)\n",
    "        x = self.max_pool(x)\n",
    "\n",
    "        x = self.conv_64(x)\n",
    "        x = self.relu(x)\n",
    "        x = self.max_pool(x)\n",
    "\n",
    "        x = self.conv_96(x)\n",
    "        x = self.relu(x)\n",
    "        x = self.max_pool(x)\n",
    "\n",
    "        x = self.conv_128(x)\n",
    "        x = self.relu(x)\n",
    "        x = self.max_pool(x)\n",
    "\n",
    "        x = self.flatten(x)\n",
    "        x = self.fc_512(x)\n",
    "        x = self.relu(x)\n",
    "        x = self.fc_10(x)\n",
    "\n",
    "        return x"
   ]
  },
  {
   "cell_type": "code",
   "execution_count": 7,
   "metadata": {},
   "outputs": [
    {
     "name": "stdout",
     "output_type": "stream",
     "text": [
      "Files already downloaded and verified\n",
      "mean: [0.49135667 0.48212072 0.4465159 ], std: [0.24632095 0.24274482 0.26062676]\n",
      "Files already downloaded and verified\n"
     ]
    }
   ],
   "source": [
    "def compute_mean_std(trainLoader) -> Tuple[List[float], List[float]]:\n",
    "    # initialize the list of means and stds\n",
    "    mean, std = torch.zeros(3), torch.zeros(3)\n",
    "\n",
    "    # iterate over the dataset and compute the sum of each channel\n",
    "    for images, _ in trainLoader:\n",
    "        mean+= torch.mean(images, dim=[0,2,3])\n",
    "        std+= torch.std(images, dim=[0,2,3])\n",
    "    \n",
    "    # compute the mean and std\n",
    "    mean = mean/len(trainLoader)\n",
    "    std = std/len(trainLoader)\n",
    "\n",
    "    return mean, std\n",
    "\n",
    "# Load CIFAR-10 dataset\n",
    "transform = transforms.Compose([\n",
    "    transforms.ToTensor(),\n",
    "])\n",
    "\n",
    "trainset = torchvision.datasets.CIFAR10(\n",
    "    root='./data', train=True, download=True, transform=transform)\n",
    "\n",
    "trainloader = torch.utils.data.DataLoader(\n",
    "    trainset, batch_size=BATCH_SIZE, shuffle=True, num_workers=0)\n",
    "\n",
    "if not os.path.exists('./data/mean.pt'):\n",
    "    mean, std = compute_mean_std(trainloader)\n",
    "    torch.save(mean, 'data/mean.pt')\n",
    "    torch.save(std, 'data/std.pt')\n",
    "else:\n",
    "    mean, std = torch.load('./data/mean.pt'), torch.load('./data/std.pt')\n",
    "\n",
    "# to numpy\n",
    "mean, std = mean.numpy(), std.numpy()\n",
    "\n",
    "print(f\"mean: {mean}, std: {std}\")\n",
    "\n",
    "\n",
    "testset = torchvision.datasets.CIFAR10(\n",
    "    root='./data', train=False, download=True, transform=transform)\n",
    "\n",
    "testloader = torch.utils.data.DataLoader(\n",
    "    testset, batch_size=BATCH_SIZE, shuffle=False, num_workers=0)\n",
    "\n",
    "classes = ('plane', 'car', 'bird', 'cat',\n",
    "           'deer', 'dog', 'frog', 'horse', 'ship', 'truck')"
   ]
  },
  {
   "cell_type": "code",
   "execution_count": 8,
   "metadata": {},
   "outputs": [],
   "source": [
    "torch_models = 'torch_models' \n",
    "if not os.path.exists(torch_models):\n",
    "    os.makedirs(torch_models)"
   ]
  },
  {
   "attachments": {},
   "cell_type": "markdown",
   "metadata": {},
   "source": [
    "## IV. Semi-Supervised Learning: Fixmatch - Data Alignment"
   ]
  },
  {
   "attachments": {},
   "cell_type": "markdown",
   "metadata": {},
   "source": [
    "### IV.1 Fixmatch on 10% train data - Data Alignment"
   ]
  },
  {
   "cell_type": "code",
   "execution_count": 9,
   "metadata": {},
   "outputs": [],
   "source": [
    "# load indices\n",
    "indices = torch.load('CIFAR10_InceptionV3_Submodular_exp0_epoch200_2023-06-21 14:25:02.022756_0.1_74.880000.pt')"
   ]
  },
  {
   "cell_type": "code",
   "execution_count": 10,
   "metadata": {},
   "outputs": [],
   "source": [
    "def create_labeled_dataset_active_learning(dataset, selected_indices):\n",
    "    dataset = torch.utils.data.Subset(dataset, selected_indices)\n",
    "    return dataset"
   ]
  },
  {
   "cell_type": "code",
   "execution_count": 11,
   "metadata": {},
   "outputs": [],
   "source": [
    "trainset_sup = create_labeled_dataset_active_learning(trainset, indices)"
   ]
  },
  {
   "cell_type": "code",
   "execution_count": 12,
   "metadata": {},
   "outputs": [
    {
     "name": "stderr",
     "output_type": "stream",
     "text": [
      "/usr/local/lib/python3.10/dist-packages/torch/utils/data/dataset.py:348: UserWarning: Length of split at index 1 is 0. This might result in an empty dataset.\n",
      "  warnings.warn(f\"Length of split at index {i} is 0. \"\n"
     ]
    }
   ],
   "source": [
    "# Define your dataset and dataloaders for labeled and unlabeled data\n",
    "seedEverything()\n",
    "\n",
    "EPOCHS = 300\n",
    "SUBSET_PROP = 0.10\n",
    "CIFAR10_class_distribution = 0.10\n",
    "\n",
    "# 10% labeled data and 100% unlabeled (see note 2 in paper)\n",
    "# trainset_sup, _ = torch.utils.data.random_split(trainset, [SUBSET_PROP, 1-SUBSET_PROP])\n",
    "\n",
    "trainset_unsup, _ = torch.utils.data.random_split(trainset, [1, 0])\n",
    "\n",
    "labeled_dataloader = DataLoader(\n",
    "    trainset_sup,\n",
    "    batch_size=BATCH_SIZE,\n",
    "    shuffle=True,\n",
    "    num_workers=0\n",
    ")\n",
    "\n",
    "unlabeled_dataloader = DataLoader(\n",
    "    trainset_unsup,\n",
    "    batch_size=MU*BATCH_SIZE,\n",
    "    shuffle=True,\n",
    "    num_workers=0\n",
    ")"
   ]
  },
  {
   "cell_type": "code",
   "execution_count": 13,
   "metadata": {},
   "outputs": [],
   "source": [
    "# transformations\n",
    "weak_transform = transforms.Compose([\n",
    "    transforms.RandomHorizontalFlip(p=0.5),\n",
    "    transforms.RandomAffine(degrees=0, translate=(0.125, 0.125)),\n",
    "    transforms.Normalize(mean, std),\n",
    "])\n",
    "\n",
    "strong_transform = transforms.Compose([\n",
    "    RandAugmentMC(n=2, m=10),\n",
    "    transforms.Normalize(mean, std)\n",
    "])\n",
    "    "
   ]
  },
  {
   "cell_type": "code",
   "execution_count": 14,
   "metadata": {},
   "outputs": [],
   "source": [
    "def mask(model, weak_unlabeled_data):\n",
    "    with torch.no_grad():\n",
    "        model.train()\n",
    "\n",
    "        qb = model(weak_unlabeled_data)\n",
    "\n",
    "        # qb = logits.copy()\n",
    "        qb = torch.softmax(qb, dim=1)\n",
    "\n",
    "        max_qb, qb_hat = torch.max(qb, dim=1)\n",
    "\n",
    "        idx = max_qb > TAU\n",
    "        qb_hat = qb_hat[idx]\n",
    "\n",
    "    return qb_hat.detach(), idx, max_qb.detach()"
   ]
  },
  {
   "cell_type": "code",
   "execution_count": 15,
   "metadata": {},
   "outputs": [],
   "source": [
    "model = ConvNN().to(device)\n",
    "\n",
    "# criterion and optimizer\n",
    "labeled_criterion = nn.CrossEntropyLoss(reduction='none')\n",
    "unlabeled_criterion = nn.CrossEntropyLoss(reduction='none')\n",
    "\n",
    "optimizer = torch.optim.SGD(model.parameters(), lr=LR, momentum=BETA, weight_decay=WEIGHT_DECAY, nesterov=True)\n",
    "scheduler = torch.optim.lr_scheduler.CosineAnnealingLR(optimizer, T_max=EPOCHS)"
   ]
  },
  {
   "cell_type": "code",
   "execution_count": 16,
   "metadata": {},
   "outputs": [
    {
     "name": "stdout",
     "output_type": "stream",
     "text": [
      "Start training\n"
     ]
    },
    {
     "data": {
      "application/vnd.jupyter.widget-view+json": {
       "model_id": "8d0411c72bff4cd4ad11075a1edfa620",
       "version_major": 2,
       "version_minor": 0
      },
      "text/plain": [
       "Epoch     0:   0%|          | 0/79 [00:00<?, ?batch/s]"
      ]
     },
     "metadata": {},
     "output_type": "display_data"
    },
    {
     "name": "stdout",
     "output_type": "stream",
     "text": [
      "Test Accuracy: 23.01%\n"
     ]
    },
    {
     "data": {
      "application/vnd.jupyter.widget-view+json": {
       "model_id": "a44e6be894f5400ca99e799974ce6cd6",
       "version_major": 2,
       "version_minor": 0
      },
      "text/plain": [
       "Epoch     1:   0%|          | 0/79 [00:00<?, ?batch/s]"
      ]
     },
     "metadata": {},
     "output_type": "display_data"
    },
    {
     "name": "stdout",
     "output_type": "stream",
     "text": [
      "Test Accuracy: 33.37%\n"
     ]
    },
    {
     "data": {
      "application/vnd.jupyter.widget-view+json": {
       "model_id": "80d85bcf273d46ec848674fd1d3bb33f",
       "version_major": 2,
       "version_minor": 0
      },
      "text/plain": [
       "Epoch     2:   0%|          | 0/79 [00:00<?, ?batch/s]"
      ]
     },
     "metadata": {},
     "output_type": "display_data"
    },
    {
     "name": "stdout",
     "output_type": "stream",
     "text": [
      "Test Accuracy: 34.32%\n"
     ]
    },
    {
     "data": {
      "application/vnd.jupyter.widget-view+json": {
       "model_id": "9ebbec1fd35e413b8221b3ccedab06f0",
       "version_major": 2,
       "version_minor": 0
      },
      "text/plain": [
       "Epoch     3:   0%|          | 0/79 [00:00<?, ?batch/s]"
      ]
     },
     "metadata": {},
     "output_type": "display_data"
    },
    {
     "name": "stdout",
     "output_type": "stream",
     "text": [
      "Test Accuracy: 40.91%\n"
     ]
    },
    {
     "data": {
      "application/vnd.jupyter.widget-view+json": {
       "model_id": "e05d5b4bd5ca47a5bbdbf4a06d5c16c1",
       "version_major": 2,
       "version_minor": 0
      },
      "text/plain": [
       "Epoch     4:   0%|          | 0/79 [00:00<?, ?batch/s]"
      ]
     },
     "metadata": {},
     "output_type": "display_data"
    },
    {
     "name": "stdout",
     "output_type": "stream",
     "text": [
      "Test Accuracy: 43.5%\n"
     ]
    },
    {
     "data": {
      "application/vnd.jupyter.widget-view+json": {
       "model_id": "c51970294c3f4e0ea7b05cef94f1958f",
       "version_major": 2,
       "version_minor": 0
      },
      "text/plain": [
       "Epoch     5:   0%|          | 0/79 [00:00<?, ?batch/s]"
      ]
     },
     "metadata": {},
     "output_type": "display_data"
    },
    {
     "name": "stdout",
     "output_type": "stream",
     "text": [
      "Test Accuracy: 40.84%\n"
     ]
    },
    {
     "data": {
      "application/vnd.jupyter.widget-view+json": {
       "model_id": "198d02bfd0df4c218c09652723dccef1",
       "version_major": 2,
       "version_minor": 0
      },
      "text/plain": [
       "Epoch     6:   0%|          | 0/79 [00:00<?, ?batch/s]"
      ]
     },
     "metadata": {},
     "output_type": "display_data"
    },
    {
     "name": "stdout",
     "output_type": "stream",
     "text": [
      "Test Accuracy: 47.12%\n"
     ]
    },
    {
     "data": {
      "application/vnd.jupyter.widget-view+json": {
       "model_id": "3963c44768a94374b9b14e626805f815",
       "version_major": 2,
       "version_minor": 0
      },
      "text/plain": [
       "Epoch     7:   0%|          | 0/79 [00:00<?, ?batch/s]"
      ]
     },
     "metadata": {},
     "output_type": "display_data"
    },
    {
     "name": "stdout",
     "output_type": "stream",
     "text": [
      "Test Accuracy: 48.64%\n"
     ]
    },
    {
     "data": {
      "application/vnd.jupyter.widget-view+json": {
       "model_id": "5a16d8943ea741da8a376e8acb9461f2",
       "version_major": 2,
       "version_minor": 0
      },
      "text/plain": [
       "Epoch     8:   0%|          | 0/79 [00:00<?, ?batch/s]"
      ]
     },
     "metadata": {},
     "output_type": "display_data"
    },
    {
     "name": "stdout",
     "output_type": "stream",
     "text": [
      "Test Accuracy: 42.41%\n"
     ]
    },
    {
     "data": {
      "application/vnd.jupyter.widget-view+json": {
       "model_id": "9b00349eb844420bbbd6df118c586f0a",
       "version_major": 2,
       "version_minor": 0
      },
      "text/plain": [
       "Epoch     9:   0%|          | 0/79 [00:00<?, ?batch/s]"
      ]
     },
     "metadata": {},
     "output_type": "display_data"
    },
    {
     "name": "stdout",
     "output_type": "stream",
     "text": [
      "Test Accuracy: 50.19%\n"
     ]
    },
    {
     "data": {
      "application/vnd.jupyter.widget-view+json": {
       "model_id": "be9245a62b34454e8768a71aae828f02",
       "version_major": 2,
       "version_minor": 0
      },
      "text/plain": [
       "Epoch    10:   0%|          | 0/79 [00:00<?, ?batch/s]"
      ]
     },
     "metadata": {},
     "output_type": "display_data"
    },
    {
     "name": "stdout",
     "output_type": "stream",
     "text": [
      "Test Accuracy: 50.66%\n"
     ]
    },
    {
     "data": {
      "application/vnd.jupyter.widget-view+json": {
       "model_id": "b62e74cb6a3c48ab931ef60edba668df",
       "version_major": 2,
       "version_minor": 0
      },
      "text/plain": [
       "Epoch    11:   0%|          | 0/79 [00:00<?, ?batch/s]"
      ]
     },
     "metadata": {},
     "output_type": "display_data"
    },
    {
     "name": "stdout",
     "output_type": "stream",
     "text": [
      "Test Accuracy: 56.41%\n"
     ]
    },
    {
     "data": {
      "application/vnd.jupyter.widget-view+json": {
       "model_id": "5b1b561d15274451a97cf7225e7fd9d2",
       "version_major": 2,
       "version_minor": 0
      },
      "text/plain": [
       "Epoch    12:   0%|          | 0/79 [00:00<?, ?batch/s]"
      ]
     },
     "metadata": {},
     "output_type": "display_data"
    },
    {
     "name": "stdout",
     "output_type": "stream",
     "text": [
      "Test Accuracy: 51.71%\n"
     ]
    },
    {
     "data": {
      "application/vnd.jupyter.widget-view+json": {
       "model_id": "a0071ad24b204509917988cdcda1e9a2",
       "version_major": 2,
       "version_minor": 0
      },
      "text/plain": [
       "Epoch    13:   0%|          | 0/79 [00:00<?, ?batch/s]"
      ]
     },
     "metadata": {},
     "output_type": "display_data"
    },
    {
     "name": "stdout",
     "output_type": "stream",
     "text": [
      "Test Accuracy: 58.5%\n"
     ]
    },
    {
     "data": {
      "application/vnd.jupyter.widget-view+json": {
       "model_id": "59025754da2c4b9db0f1119bebf1942f",
       "version_major": 2,
       "version_minor": 0
      },
      "text/plain": [
       "Epoch    14:   0%|          | 0/79 [00:00<?, ?batch/s]"
      ]
     },
     "metadata": {},
     "output_type": "display_data"
    },
    {
     "name": "stdout",
     "output_type": "stream",
     "text": [
      "Test Accuracy: 57.03%\n"
     ]
    },
    {
     "data": {
      "application/vnd.jupyter.widget-view+json": {
       "model_id": "344fd6324de14f619fc143275b544241",
       "version_major": 2,
       "version_minor": 0
      },
      "text/plain": [
       "Epoch    15:   0%|          | 0/79 [00:00<?, ?batch/s]"
      ]
     },
     "metadata": {},
     "output_type": "display_data"
    },
    {
     "name": "stdout",
     "output_type": "stream",
     "text": [
      "Test Accuracy: 59.71%\n"
     ]
    },
    {
     "data": {
      "application/vnd.jupyter.widget-view+json": {
       "model_id": "8131e0867e8e41be98565c2e6092b0e8",
       "version_major": 2,
       "version_minor": 0
      },
      "text/plain": [
       "Epoch    16:   0%|          | 0/79 [00:00<?, ?batch/s]"
      ]
     },
     "metadata": {},
     "output_type": "display_data"
    },
    {
     "name": "stdout",
     "output_type": "stream",
     "text": [
      "Test Accuracy: 55.75%\n"
     ]
    },
    {
     "data": {
      "application/vnd.jupyter.widget-view+json": {
       "model_id": "b991137bcd9a4d6691f37c7c33ea7ed8",
       "version_major": 2,
       "version_minor": 0
      },
      "text/plain": [
       "Epoch    17:   0%|          | 0/79 [00:00<?, ?batch/s]"
      ]
     },
     "metadata": {},
     "output_type": "display_data"
    },
    {
     "name": "stdout",
     "output_type": "stream",
     "text": [
      "Test Accuracy: 58.13%\n"
     ]
    },
    {
     "data": {
      "application/vnd.jupyter.widget-view+json": {
       "model_id": "75285708534a4241b80ba56e962701a3",
       "version_major": 2,
       "version_minor": 0
      },
      "text/plain": [
       "Epoch    18:   0%|          | 0/79 [00:00<?, ?batch/s]"
      ]
     },
     "metadata": {},
     "output_type": "display_data"
    },
    {
     "name": "stdout",
     "output_type": "stream",
     "text": [
      "Test Accuracy: 51.91%\n"
     ]
    },
    {
     "data": {
      "application/vnd.jupyter.widget-view+json": {
       "model_id": "24cf5a92b6044450af2c50698a606c84",
       "version_major": 2,
       "version_minor": 0
      },
      "text/plain": [
       "Epoch    19:   0%|          | 0/79 [00:00<?, ?batch/s]"
      ]
     },
     "metadata": {},
     "output_type": "display_data"
    },
    {
     "name": "stdout",
     "output_type": "stream",
     "text": [
      "Test Accuracy: 58.4%\n"
     ]
    },
    {
     "data": {
      "application/vnd.jupyter.widget-view+json": {
       "model_id": "87e55ea573b14c02a478f1f706bb3d64",
       "version_major": 2,
       "version_minor": 0
      },
      "text/plain": [
       "Epoch    20:   0%|          | 0/79 [00:00<?, ?batch/s]"
      ]
     },
     "metadata": {},
     "output_type": "display_data"
    },
    {
     "name": "stdout",
     "output_type": "stream",
     "text": [
      "Test Accuracy: 62.28%\n"
     ]
    },
    {
     "data": {
      "application/vnd.jupyter.widget-view+json": {
       "model_id": "3136be016e424cd9977e8570b13bb6f4",
       "version_major": 2,
       "version_minor": 0
      },
      "text/plain": [
       "Epoch    21:   0%|          | 0/79 [00:00<?, ?batch/s]"
      ]
     },
     "metadata": {},
     "output_type": "display_data"
    },
    {
     "name": "stdout",
     "output_type": "stream",
     "text": [
      "Test Accuracy: 61.53%\n"
     ]
    },
    {
     "data": {
      "application/vnd.jupyter.widget-view+json": {
       "model_id": "c7076320b06d45f981355de9bc17cee8",
       "version_major": 2,
       "version_minor": 0
      },
      "text/plain": [
       "Epoch    22:   0%|          | 0/79 [00:00<?, ?batch/s]"
      ]
     },
     "metadata": {},
     "output_type": "display_data"
    },
    {
     "name": "stdout",
     "output_type": "stream",
     "text": [
      "Test Accuracy: 63.69%\n"
     ]
    },
    {
     "data": {
      "application/vnd.jupyter.widget-view+json": {
       "model_id": "107ef42b270947d99bb133eb8796a3c8",
       "version_major": 2,
       "version_minor": 0
      },
      "text/plain": [
       "Epoch    23:   0%|          | 0/79 [00:00<?, ?batch/s]"
      ]
     },
     "metadata": {},
     "output_type": "display_data"
    },
    {
     "name": "stdout",
     "output_type": "stream",
     "text": [
      "Test Accuracy: 60.99%\n"
     ]
    },
    {
     "data": {
      "application/vnd.jupyter.widget-view+json": {
       "model_id": "da0e3b15699d4d5fa831db9af79478ae",
       "version_major": 2,
       "version_minor": 0
      },
      "text/plain": [
       "Epoch    24:   0%|          | 0/79 [00:00<?, ?batch/s]"
      ]
     },
     "metadata": {},
     "output_type": "display_data"
    },
    {
     "name": "stdout",
     "output_type": "stream",
     "text": [
      "Test Accuracy: 63.88%\n"
     ]
    },
    {
     "data": {
      "application/vnd.jupyter.widget-view+json": {
       "model_id": "1053134ec34f43d3a83a42fee771657d",
       "version_major": 2,
       "version_minor": 0
      },
      "text/plain": [
       "Epoch    25:   0%|          | 0/79 [00:00<?, ?batch/s]"
      ]
     },
     "metadata": {},
     "output_type": "display_data"
    },
    {
     "name": "stdout",
     "output_type": "stream",
     "text": [
      "Test Accuracy: 63.2%\n"
     ]
    },
    {
     "data": {
      "application/vnd.jupyter.widget-view+json": {
       "model_id": "a31cf8567f564f58a074b66b6a38ecde",
       "version_major": 2,
       "version_minor": 0
      },
      "text/plain": [
       "Epoch    26:   0%|          | 0/79 [00:00<?, ?batch/s]"
      ]
     },
     "metadata": {},
     "output_type": "display_data"
    },
    {
     "name": "stdout",
     "output_type": "stream",
     "text": [
      "Test Accuracy: 63.93%\n"
     ]
    },
    {
     "data": {
      "application/vnd.jupyter.widget-view+json": {
       "model_id": "d96081ec2b204c4c8622399552de31ce",
       "version_major": 2,
       "version_minor": 0
      },
      "text/plain": [
       "Epoch    27:   0%|          | 0/79 [00:00<?, ?batch/s]"
      ]
     },
     "metadata": {},
     "output_type": "display_data"
    },
    {
     "name": "stdout",
     "output_type": "stream",
     "text": [
      "Test Accuracy: 64.44%\n"
     ]
    },
    {
     "data": {
      "application/vnd.jupyter.widget-view+json": {
       "model_id": "784e634bc1034cfab9011595b017e0f4",
       "version_major": 2,
       "version_minor": 0
      },
      "text/plain": [
       "Epoch    28:   0%|          | 0/79 [00:00<?, ?batch/s]"
      ]
     },
     "metadata": {},
     "output_type": "display_data"
    },
    {
     "name": "stdout",
     "output_type": "stream",
     "text": [
      "Test Accuracy: 64.05%\n"
     ]
    },
    {
     "data": {
      "application/vnd.jupyter.widget-view+json": {
       "model_id": "0e930203ff9c4f52a55bec46b7743cb2",
       "version_major": 2,
       "version_minor": 0
      },
      "text/plain": [
       "Epoch    29:   0%|          | 0/79 [00:00<?, ?batch/s]"
      ]
     },
     "metadata": {},
     "output_type": "display_data"
    },
    {
     "name": "stdout",
     "output_type": "stream",
     "text": [
      "Test Accuracy: 66.11%\n"
     ]
    },
    {
     "data": {
      "application/vnd.jupyter.widget-view+json": {
       "model_id": "f25033478964411ba73c2f7a9aeab077",
       "version_major": 2,
       "version_minor": 0
      },
      "text/plain": [
       "Epoch    30:   0%|          | 0/79 [00:00<?, ?batch/s]"
      ]
     },
     "metadata": {},
     "output_type": "display_data"
    },
    {
     "name": "stdout",
     "output_type": "stream",
     "text": [
      "Test Accuracy: 64.3%\n"
     ]
    },
    {
     "data": {
      "application/vnd.jupyter.widget-view+json": {
       "model_id": "76a7130204714cb9a1c7968c5d9adcd2",
       "version_major": 2,
       "version_minor": 0
      },
      "text/plain": [
       "Epoch    31:   0%|          | 0/79 [00:00<?, ?batch/s]"
      ]
     },
     "metadata": {},
     "output_type": "display_data"
    },
    {
     "name": "stdout",
     "output_type": "stream",
     "text": [
      "Test Accuracy: 63.83%\n"
     ]
    },
    {
     "data": {
      "application/vnd.jupyter.widget-view+json": {
       "model_id": "7ce6ec4f7dbb4065b92605a7a7576191",
       "version_major": 2,
       "version_minor": 0
      },
      "text/plain": [
       "Epoch    32:   0%|          | 0/79 [00:00<?, ?batch/s]"
      ]
     },
     "metadata": {},
     "output_type": "display_data"
    },
    {
     "name": "stdout",
     "output_type": "stream",
     "text": [
      "Test Accuracy: 63.43%\n"
     ]
    },
    {
     "data": {
      "application/vnd.jupyter.widget-view+json": {
       "model_id": "01f809561c884aec85cbd692f068cdc4",
       "version_major": 2,
       "version_minor": 0
      },
      "text/plain": [
       "Epoch    33:   0%|          | 0/79 [00:00<?, ?batch/s]"
      ]
     },
     "metadata": {},
     "output_type": "display_data"
    },
    {
     "name": "stdout",
     "output_type": "stream",
     "text": [
      "Test Accuracy: 66.08%\n"
     ]
    },
    {
     "data": {
      "application/vnd.jupyter.widget-view+json": {
       "model_id": "93978c04ba88462d9a5787c11194c998",
       "version_major": 2,
       "version_minor": 0
      },
      "text/plain": [
       "Epoch    34:   0%|          | 0/79 [00:00<?, ?batch/s]"
      ]
     },
     "metadata": {},
     "output_type": "display_data"
    },
    {
     "name": "stdout",
     "output_type": "stream",
     "text": [
      "Test Accuracy: 65.34%\n"
     ]
    },
    {
     "data": {
      "application/vnd.jupyter.widget-view+json": {
       "model_id": "b77958cee68545d89a75ef156fff12d5",
       "version_major": 2,
       "version_minor": 0
      },
      "text/plain": [
       "Epoch    35:   0%|          | 0/79 [00:00<?, ?batch/s]"
      ]
     },
     "metadata": {},
     "output_type": "display_data"
    },
    {
     "name": "stdout",
     "output_type": "stream",
     "text": [
      "Test Accuracy: 67.96%\n"
     ]
    },
    {
     "data": {
      "application/vnd.jupyter.widget-view+json": {
       "model_id": "d3ec3af059e24a28b8a1325698d94d9c",
       "version_major": 2,
       "version_minor": 0
      },
      "text/plain": [
       "Epoch    36:   0%|          | 0/79 [00:00<?, ?batch/s]"
      ]
     },
     "metadata": {},
     "output_type": "display_data"
    },
    {
     "name": "stdout",
     "output_type": "stream",
     "text": [
      "Test Accuracy: 63.13%\n"
     ]
    },
    {
     "data": {
      "application/vnd.jupyter.widget-view+json": {
       "model_id": "b22240373d604e4280bac9d3207481df",
       "version_major": 2,
       "version_minor": 0
      },
      "text/plain": [
       "Epoch    37:   0%|          | 0/79 [00:00<?, ?batch/s]"
      ]
     },
     "metadata": {},
     "output_type": "display_data"
    },
    {
     "name": "stdout",
     "output_type": "stream",
     "text": [
      "Test Accuracy: 67.34%\n"
     ]
    },
    {
     "data": {
      "application/vnd.jupyter.widget-view+json": {
       "model_id": "7c6a30d6ac974567b57ae1ed75c2c73c",
       "version_major": 2,
       "version_minor": 0
      },
      "text/plain": [
       "Epoch    38:   0%|          | 0/79 [00:00<?, ?batch/s]"
      ]
     },
     "metadata": {},
     "output_type": "display_data"
    },
    {
     "name": "stdout",
     "output_type": "stream",
     "text": [
      "Test Accuracy: 63.94%\n"
     ]
    },
    {
     "data": {
      "application/vnd.jupyter.widget-view+json": {
       "model_id": "88d349e8553d4a1fb09eb5d89852256a",
       "version_major": 2,
       "version_minor": 0
      },
      "text/plain": [
       "Epoch    39:   0%|          | 0/79 [00:00<?, ?batch/s]"
      ]
     },
     "metadata": {},
     "output_type": "display_data"
    },
    {
     "name": "stdout",
     "output_type": "stream",
     "text": [
      "Test Accuracy: 64.58%\n"
     ]
    },
    {
     "data": {
      "application/vnd.jupyter.widget-view+json": {
       "model_id": "66c809ee0f0842909a310affd5eb5250",
       "version_major": 2,
       "version_minor": 0
      },
      "text/plain": [
       "Epoch    40:   0%|          | 0/79 [00:00<?, ?batch/s]"
      ]
     },
     "metadata": {},
     "output_type": "display_data"
    },
    {
     "name": "stdout",
     "output_type": "stream",
     "text": [
      "Test Accuracy: 64.18%\n"
     ]
    },
    {
     "data": {
      "application/vnd.jupyter.widget-view+json": {
       "model_id": "90f9c29771324821a90849aedbaf22dd",
       "version_major": 2,
       "version_minor": 0
      },
      "text/plain": [
       "Epoch    41:   0%|          | 0/79 [00:00<?, ?batch/s]"
      ]
     },
     "metadata": {},
     "output_type": "display_data"
    },
    {
     "name": "stdout",
     "output_type": "stream",
     "text": [
      "Test Accuracy: 66.93%\n"
     ]
    },
    {
     "data": {
      "application/vnd.jupyter.widget-view+json": {
       "model_id": "5b7c774b4bfa40df9a89635a12691c8d",
       "version_major": 2,
       "version_minor": 0
      },
      "text/plain": [
       "Epoch    42:   0%|          | 0/79 [00:00<?, ?batch/s]"
      ]
     },
     "metadata": {},
     "output_type": "display_data"
    },
    {
     "name": "stdout",
     "output_type": "stream",
     "text": [
      "Test Accuracy: 69.1%\n"
     ]
    },
    {
     "data": {
      "application/vnd.jupyter.widget-view+json": {
       "model_id": "2c2502af83e44eda81e0ca5b2c441a3e",
       "version_major": 2,
       "version_minor": 0
      },
      "text/plain": [
       "Epoch    43:   0%|          | 0/79 [00:00<?, ?batch/s]"
      ]
     },
     "metadata": {},
     "output_type": "display_data"
    },
    {
     "name": "stdout",
     "output_type": "stream",
     "text": [
      "Test Accuracy: 67.57%\n"
     ]
    },
    {
     "data": {
      "application/vnd.jupyter.widget-view+json": {
       "model_id": "c70479dcec7545169c623ae478c23d3e",
       "version_major": 2,
       "version_minor": 0
      },
      "text/plain": [
       "Epoch    44:   0%|          | 0/79 [00:00<?, ?batch/s]"
      ]
     },
     "metadata": {},
     "output_type": "display_data"
    },
    {
     "name": "stdout",
     "output_type": "stream",
     "text": [
      "Test Accuracy: 68.64%\n"
     ]
    },
    {
     "data": {
      "application/vnd.jupyter.widget-view+json": {
       "model_id": "ecf3c85201794df1b3a954156ead9e76",
       "version_major": 2,
       "version_minor": 0
      },
      "text/plain": [
       "Epoch    45:   0%|          | 0/79 [00:00<?, ?batch/s]"
      ]
     },
     "metadata": {},
     "output_type": "display_data"
    },
    {
     "name": "stdout",
     "output_type": "stream",
     "text": [
      "Test Accuracy: 65.72%\n"
     ]
    },
    {
     "data": {
      "application/vnd.jupyter.widget-view+json": {
       "model_id": "28d824faddce4bcd9a3741a00923c6f0",
       "version_major": 2,
       "version_minor": 0
      },
      "text/plain": [
       "Epoch    46:   0%|          | 0/79 [00:00<?, ?batch/s]"
      ]
     },
     "metadata": {},
     "output_type": "display_data"
    },
    {
     "name": "stdout",
     "output_type": "stream",
     "text": [
      "Test Accuracy: 69.12%\n"
     ]
    },
    {
     "data": {
      "application/vnd.jupyter.widget-view+json": {
       "model_id": "b1b6f1c15ffa4d3fb8cd2e10ee4677aa",
       "version_major": 2,
       "version_minor": 0
      },
      "text/plain": [
       "Epoch    47:   0%|          | 0/79 [00:00<?, ?batch/s]"
      ]
     },
     "metadata": {},
     "output_type": "display_data"
    },
    {
     "name": "stdout",
     "output_type": "stream",
     "text": [
      "Test Accuracy: 68.97%\n"
     ]
    },
    {
     "data": {
      "application/vnd.jupyter.widget-view+json": {
       "model_id": "f856f4b82a1649248e57de50b00dc34f",
       "version_major": 2,
       "version_minor": 0
      },
      "text/plain": [
       "Epoch    48:   0%|          | 0/79 [00:00<?, ?batch/s]"
      ]
     },
     "metadata": {},
     "output_type": "display_data"
    },
    {
     "name": "stdout",
     "output_type": "stream",
     "text": [
      "Test Accuracy: 65.53%\n"
     ]
    },
    {
     "data": {
      "application/vnd.jupyter.widget-view+json": {
       "model_id": "ebc611ed743240868658edb295d7c742",
       "version_major": 2,
       "version_minor": 0
      },
      "text/plain": [
       "Epoch    49:   0%|          | 0/79 [00:00<?, ?batch/s]"
      ]
     },
     "metadata": {},
     "output_type": "display_data"
    },
    {
     "name": "stdout",
     "output_type": "stream",
     "text": [
      "Test Accuracy: 66.1%\n"
     ]
    },
    {
     "data": {
      "application/vnd.jupyter.widget-view+json": {
       "model_id": "7202d1ffa5824dec8dea3b096c03c849",
       "version_major": 2,
       "version_minor": 0
      },
      "text/plain": [
       "Epoch    50:   0%|          | 0/79 [00:00<?, ?batch/s]"
      ]
     },
     "metadata": {},
     "output_type": "display_data"
    },
    {
     "name": "stdout",
     "output_type": "stream",
     "text": [
      "Test Accuracy: 69.18%\n"
     ]
    },
    {
     "data": {
      "application/vnd.jupyter.widget-view+json": {
       "model_id": "975af167e50141369650ec42353bb322",
       "version_major": 2,
       "version_minor": 0
      },
      "text/plain": [
       "Epoch    51:   0%|          | 0/79 [00:00<?, ?batch/s]"
      ]
     },
     "metadata": {},
     "output_type": "display_data"
    },
    {
     "name": "stdout",
     "output_type": "stream",
     "text": [
      "Test Accuracy: 70.31%\n"
     ]
    },
    {
     "data": {
      "application/vnd.jupyter.widget-view+json": {
       "model_id": "ad5071e18e5e40589325a44eb809d3c1",
       "version_major": 2,
       "version_minor": 0
      },
      "text/plain": [
       "Epoch    52:   0%|          | 0/79 [00:00<?, ?batch/s]"
      ]
     },
     "metadata": {},
     "output_type": "display_data"
    },
    {
     "name": "stdout",
     "output_type": "stream",
     "text": [
      "Test Accuracy: 69.23%\n"
     ]
    },
    {
     "data": {
      "application/vnd.jupyter.widget-view+json": {
       "model_id": "d040ec04b62d4048b611ab8277a62d2c",
       "version_major": 2,
       "version_minor": 0
      },
      "text/plain": [
       "Epoch    53:   0%|          | 0/79 [00:00<?, ?batch/s]"
      ]
     },
     "metadata": {},
     "output_type": "display_data"
    },
    {
     "name": "stdout",
     "output_type": "stream",
     "text": [
      "Test Accuracy: 67.98%\n"
     ]
    },
    {
     "data": {
      "application/vnd.jupyter.widget-view+json": {
       "model_id": "ba6ff05a31534412a0a398ba9c707b00",
       "version_major": 2,
       "version_minor": 0
      },
      "text/plain": [
       "Epoch    54:   0%|          | 0/79 [00:00<?, ?batch/s]"
      ]
     },
     "metadata": {},
     "output_type": "display_data"
    },
    {
     "name": "stdout",
     "output_type": "stream",
     "text": [
      "Test Accuracy: 69.17%\n"
     ]
    },
    {
     "data": {
      "application/vnd.jupyter.widget-view+json": {
       "model_id": "735c9d66ac51446a866dd51c757cf4c0",
       "version_major": 2,
       "version_minor": 0
      },
      "text/plain": [
       "Epoch    55:   0%|          | 0/79 [00:00<?, ?batch/s]"
      ]
     },
     "metadata": {},
     "output_type": "display_data"
    },
    {
     "name": "stdout",
     "output_type": "stream",
     "text": [
      "Test Accuracy: 68.51%\n"
     ]
    },
    {
     "data": {
      "application/vnd.jupyter.widget-view+json": {
       "model_id": "a09f62f63ba14b7287bdf11af66bae20",
       "version_major": 2,
       "version_minor": 0
      },
      "text/plain": [
       "Epoch    56:   0%|          | 0/79 [00:00<?, ?batch/s]"
      ]
     },
     "metadata": {},
     "output_type": "display_data"
    },
    {
     "name": "stdout",
     "output_type": "stream",
     "text": [
      "Test Accuracy: 68.33%\n"
     ]
    },
    {
     "data": {
      "application/vnd.jupyter.widget-view+json": {
       "model_id": "7230ecb53325435ca259b78d59827860",
       "version_major": 2,
       "version_minor": 0
      },
      "text/plain": [
       "Epoch    57:   0%|          | 0/79 [00:00<?, ?batch/s]"
      ]
     },
     "metadata": {},
     "output_type": "display_data"
    },
    {
     "name": "stdout",
     "output_type": "stream",
     "text": [
      "Test Accuracy: 65.64%\n"
     ]
    },
    {
     "data": {
      "application/vnd.jupyter.widget-view+json": {
       "model_id": "67bf5834c3974a47a6f245f9d58a00e2",
       "version_major": 2,
       "version_minor": 0
      },
      "text/plain": [
       "Epoch    58:   0%|          | 0/79 [00:00<?, ?batch/s]"
      ]
     },
     "metadata": {},
     "output_type": "display_data"
    },
    {
     "name": "stdout",
     "output_type": "stream",
     "text": [
      "Test Accuracy: 70.87%\n"
     ]
    },
    {
     "data": {
      "application/vnd.jupyter.widget-view+json": {
       "model_id": "d7bd41ce7e0b47ef8a1cc9960ccdd7d9",
       "version_major": 2,
       "version_minor": 0
      },
      "text/plain": [
       "Epoch    59:   0%|          | 0/79 [00:00<?, ?batch/s]"
      ]
     },
     "metadata": {},
     "output_type": "display_data"
    },
    {
     "name": "stdout",
     "output_type": "stream",
     "text": [
      "Test Accuracy: 68.42%\n"
     ]
    },
    {
     "data": {
      "application/vnd.jupyter.widget-view+json": {
       "model_id": "b91932380d0842e7bd0fd32995f9a233",
       "version_major": 2,
       "version_minor": 0
      },
      "text/plain": [
       "Epoch    60:   0%|          | 0/79 [00:00<?, ?batch/s]"
      ]
     },
     "metadata": {},
     "output_type": "display_data"
    },
    {
     "name": "stdout",
     "output_type": "stream",
     "text": [
      "Test Accuracy: 69.45%\n"
     ]
    },
    {
     "data": {
      "application/vnd.jupyter.widget-view+json": {
       "model_id": "f47f345fabef45b4b28c174150102904",
       "version_major": 2,
       "version_minor": 0
      },
      "text/plain": [
       "Epoch    61:   0%|          | 0/79 [00:00<?, ?batch/s]"
      ]
     },
     "metadata": {},
     "output_type": "display_data"
    },
    {
     "name": "stdout",
     "output_type": "stream",
     "text": [
      "Test Accuracy: 68.94%\n"
     ]
    },
    {
     "data": {
      "application/vnd.jupyter.widget-view+json": {
       "model_id": "f937643fad3746e2b3be1024f5583a6b",
       "version_major": 2,
       "version_minor": 0
      },
      "text/plain": [
       "Epoch    62:   0%|          | 0/79 [00:00<?, ?batch/s]"
      ]
     },
     "metadata": {},
     "output_type": "display_data"
    },
    {
     "name": "stdout",
     "output_type": "stream",
     "text": [
      "Test Accuracy: 69.78%\n"
     ]
    },
    {
     "data": {
      "application/vnd.jupyter.widget-view+json": {
       "model_id": "0b5a2f9cc48749ffb8146ee73c61791b",
       "version_major": 2,
       "version_minor": 0
      },
      "text/plain": [
       "Epoch    63:   0%|          | 0/79 [00:00<?, ?batch/s]"
      ]
     },
     "metadata": {},
     "output_type": "display_data"
    },
    {
     "name": "stdout",
     "output_type": "stream",
     "text": [
      "Test Accuracy: 70.93%\n"
     ]
    },
    {
     "data": {
      "application/vnd.jupyter.widget-view+json": {
       "model_id": "9f85ce7d1c7e4a24a558cdfc867514d5",
       "version_major": 2,
       "version_minor": 0
      },
      "text/plain": [
       "Epoch    64:   0%|          | 0/79 [00:00<?, ?batch/s]"
      ]
     },
     "metadata": {},
     "output_type": "display_data"
    },
    {
     "name": "stdout",
     "output_type": "stream",
     "text": [
      "Test Accuracy: 68.79%\n"
     ]
    },
    {
     "data": {
      "application/vnd.jupyter.widget-view+json": {
       "model_id": "11616703d7944efc83a9b924b7398d80",
       "version_major": 2,
       "version_minor": 0
      },
      "text/plain": [
       "Epoch    65:   0%|          | 0/79 [00:00<?, ?batch/s]"
      ]
     },
     "metadata": {},
     "output_type": "display_data"
    },
    {
     "name": "stdout",
     "output_type": "stream",
     "text": [
      "Test Accuracy: 68.71%\n"
     ]
    },
    {
     "data": {
      "application/vnd.jupyter.widget-view+json": {
       "model_id": "ca913861c9824231855393da85d19290",
       "version_major": 2,
       "version_minor": 0
      },
      "text/plain": [
       "Epoch    66:   0%|          | 0/79 [00:00<?, ?batch/s]"
      ]
     },
     "metadata": {},
     "output_type": "display_data"
    },
    {
     "name": "stdout",
     "output_type": "stream",
     "text": [
      "Test Accuracy: 69.05%\n"
     ]
    },
    {
     "data": {
      "application/vnd.jupyter.widget-view+json": {
       "model_id": "ed27318c4b9a469b8d0046f7bba1fb06",
       "version_major": 2,
       "version_minor": 0
      },
      "text/plain": [
       "Epoch    67:   0%|          | 0/79 [00:00<?, ?batch/s]"
      ]
     },
     "metadata": {},
     "output_type": "display_data"
    },
    {
     "name": "stdout",
     "output_type": "stream",
     "text": [
      "Test Accuracy: 70.66%\n"
     ]
    },
    {
     "data": {
      "application/vnd.jupyter.widget-view+json": {
       "model_id": "396e7f606f3d4bf5a7e9a144cf23a167",
       "version_major": 2,
       "version_minor": 0
      },
      "text/plain": [
       "Epoch    68:   0%|          | 0/79 [00:00<?, ?batch/s]"
      ]
     },
     "metadata": {},
     "output_type": "display_data"
    },
    {
     "name": "stdout",
     "output_type": "stream",
     "text": [
      "Test Accuracy: 70.9%\n"
     ]
    },
    {
     "data": {
      "application/vnd.jupyter.widget-view+json": {
       "model_id": "9a3a89f941134faf8a9c8bbec0156220",
       "version_major": 2,
       "version_minor": 0
      },
      "text/plain": [
       "Epoch    69:   0%|          | 0/79 [00:00<?, ?batch/s]"
      ]
     },
     "metadata": {},
     "output_type": "display_data"
    },
    {
     "name": "stdout",
     "output_type": "stream",
     "text": [
      "Test Accuracy: 70.68%\n"
     ]
    },
    {
     "data": {
      "application/vnd.jupyter.widget-view+json": {
       "model_id": "c6ae9c6320b443cca5409397cb9da529",
       "version_major": 2,
       "version_minor": 0
      },
      "text/plain": [
       "Epoch    70:   0%|          | 0/79 [00:00<?, ?batch/s]"
      ]
     },
     "metadata": {},
     "output_type": "display_data"
    },
    {
     "name": "stdout",
     "output_type": "stream",
     "text": [
      "Test Accuracy: 69.53%\n"
     ]
    },
    {
     "data": {
      "application/vnd.jupyter.widget-view+json": {
       "model_id": "b86884ee45f34c3ab2f58d4edbe8cf1c",
       "version_major": 2,
       "version_minor": 0
      },
      "text/plain": [
       "Epoch    71:   0%|          | 0/79 [00:00<?, ?batch/s]"
      ]
     },
     "metadata": {},
     "output_type": "display_data"
    },
    {
     "name": "stdout",
     "output_type": "stream",
     "text": [
      "Test Accuracy: 71.07%\n"
     ]
    },
    {
     "data": {
      "application/vnd.jupyter.widget-view+json": {
       "model_id": "e3d646251c7f429fab55015b58f0185e",
       "version_major": 2,
       "version_minor": 0
      },
      "text/plain": [
       "Epoch    72:   0%|          | 0/79 [00:00<?, ?batch/s]"
      ]
     },
     "metadata": {},
     "output_type": "display_data"
    },
    {
     "name": "stdout",
     "output_type": "stream",
     "text": [
      "Test Accuracy: 71.36%\n"
     ]
    },
    {
     "data": {
      "application/vnd.jupyter.widget-view+json": {
       "model_id": "7c414d1315cd4c76a111664e35501249",
       "version_major": 2,
       "version_minor": 0
      },
      "text/plain": [
       "Epoch    73:   0%|          | 0/79 [00:00<?, ?batch/s]"
      ]
     },
     "metadata": {},
     "output_type": "display_data"
    },
    {
     "name": "stdout",
     "output_type": "stream",
     "text": [
      "Test Accuracy: 71.42%\n"
     ]
    },
    {
     "data": {
      "application/vnd.jupyter.widget-view+json": {
       "model_id": "7bd76ad2a73c4b89a17a8ea4893b18d1",
       "version_major": 2,
       "version_minor": 0
      },
      "text/plain": [
       "Epoch    74:   0%|          | 0/79 [00:00<?, ?batch/s]"
      ]
     },
     "metadata": {},
     "output_type": "display_data"
    },
    {
     "name": "stdout",
     "output_type": "stream",
     "text": [
      "Test Accuracy: 70.96%\n"
     ]
    },
    {
     "data": {
      "application/vnd.jupyter.widget-view+json": {
       "model_id": "586d2cc8e6a74e888043a1f0b2002563",
       "version_major": 2,
       "version_minor": 0
      },
      "text/plain": [
       "Epoch    75:   0%|          | 0/79 [00:00<?, ?batch/s]"
      ]
     },
     "metadata": {},
     "output_type": "display_data"
    },
    {
     "name": "stdout",
     "output_type": "stream",
     "text": [
      "Test Accuracy: 70.9%\n"
     ]
    },
    {
     "data": {
      "application/vnd.jupyter.widget-view+json": {
       "model_id": "3cdea4118ab84812915f8eb5494b296d",
       "version_major": 2,
       "version_minor": 0
      },
      "text/plain": [
       "Epoch    76:   0%|          | 0/79 [00:00<?, ?batch/s]"
      ]
     },
     "metadata": {},
     "output_type": "display_data"
    },
    {
     "name": "stdout",
     "output_type": "stream",
     "text": [
      "Test Accuracy: 70.03%\n"
     ]
    },
    {
     "data": {
      "application/vnd.jupyter.widget-view+json": {
       "model_id": "fbb11a5d1e8540678aab1279a9bbab63",
       "version_major": 2,
       "version_minor": 0
      },
      "text/plain": [
       "Epoch    77:   0%|          | 0/79 [00:00<?, ?batch/s]"
      ]
     },
     "metadata": {},
     "output_type": "display_data"
    },
    {
     "name": "stdout",
     "output_type": "stream",
     "text": [
      "Test Accuracy: 72.8%\n"
     ]
    },
    {
     "data": {
      "application/vnd.jupyter.widget-view+json": {
       "model_id": "f2ca08d94e524237aa17f9543ebeaec0",
       "version_major": 2,
       "version_minor": 0
      },
      "text/plain": [
       "Epoch    78:   0%|          | 0/79 [00:00<?, ?batch/s]"
      ]
     },
     "metadata": {},
     "output_type": "display_data"
    },
    {
     "name": "stdout",
     "output_type": "stream",
     "text": [
      "Test Accuracy: 67.04%\n"
     ]
    },
    {
     "data": {
      "application/vnd.jupyter.widget-view+json": {
       "model_id": "e4379fde12124d09ae9d2dc24759b42b",
       "version_major": 2,
       "version_minor": 0
      },
      "text/plain": [
       "Epoch    79:   0%|          | 0/79 [00:00<?, ?batch/s]"
      ]
     },
     "metadata": {},
     "output_type": "display_data"
    },
    {
     "name": "stdout",
     "output_type": "stream",
     "text": [
      "Test Accuracy: 68.73%\n"
     ]
    },
    {
     "data": {
      "application/vnd.jupyter.widget-view+json": {
       "model_id": "0d910995a152438196b608f0ab54662c",
       "version_major": 2,
       "version_minor": 0
      },
      "text/plain": [
       "Epoch    80:   0%|          | 0/79 [00:00<?, ?batch/s]"
      ]
     },
     "metadata": {},
     "output_type": "display_data"
    },
    {
     "name": "stdout",
     "output_type": "stream",
     "text": [
      "Test Accuracy: 73.54%\n"
     ]
    },
    {
     "data": {
      "application/vnd.jupyter.widget-view+json": {
       "model_id": "aa75a39f715241d7b142841abaff087c",
       "version_major": 2,
       "version_minor": 0
      },
      "text/plain": [
       "Epoch    81:   0%|          | 0/79 [00:00<?, ?batch/s]"
      ]
     },
     "metadata": {},
     "output_type": "display_data"
    },
    {
     "name": "stdout",
     "output_type": "stream",
     "text": [
      "Test Accuracy: 72.93%\n"
     ]
    },
    {
     "data": {
      "application/vnd.jupyter.widget-view+json": {
       "model_id": "9b63103dcbb34e328415abefd5d6b280",
       "version_major": 2,
       "version_minor": 0
      },
      "text/plain": [
       "Epoch    82:   0%|          | 0/79 [00:00<?, ?batch/s]"
      ]
     },
     "metadata": {},
     "output_type": "display_data"
    },
    {
     "name": "stdout",
     "output_type": "stream",
     "text": [
      "Test Accuracy: 71.41%\n"
     ]
    },
    {
     "data": {
      "application/vnd.jupyter.widget-view+json": {
       "model_id": "1410502425954aca960c073d7496a371",
       "version_major": 2,
       "version_minor": 0
      },
      "text/plain": [
       "Epoch    83:   0%|          | 0/79 [00:00<?, ?batch/s]"
      ]
     },
     "metadata": {},
     "output_type": "display_data"
    },
    {
     "name": "stdout",
     "output_type": "stream",
     "text": [
      "Test Accuracy: 69.85%\n"
     ]
    },
    {
     "data": {
      "application/vnd.jupyter.widget-view+json": {
       "model_id": "3fd6c9740ef0489dba556ad0ce0985fe",
       "version_major": 2,
       "version_minor": 0
      },
      "text/plain": [
       "Epoch    84:   0%|          | 0/79 [00:00<?, ?batch/s]"
      ]
     },
     "metadata": {},
     "output_type": "display_data"
    },
    {
     "name": "stdout",
     "output_type": "stream",
     "text": [
      "Test Accuracy: 73.32%\n"
     ]
    },
    {
     "data": {
      "application/vnd.jupyter.widget-view+json": {
       "model_id": "98aa191d14c84d09b3d6c8eb7b030e00",
       "version_major": 2,
       "version_minor": 0
      },
      "text/plain": [
       "Epoch    85:   0%|          | 0/79 [00:00<?, ?batch/s]"
      ]
     },
     "metadata": {},
     "output_type": "display_data"
    },
    {
     "name": "stdout",
     "output_type": "stream",
     "text": [
      "Test Accuracy: 71.16%\n"
     ]
    },
    {
     "data": {
      "application/vnd.jupyter.widget-view+json": {
       "model_id": "a61a17eacde5496199dec8788a6d84ba",
       "version_major": 2,
       "version_minor": 0
      },
      "text/plain": [
       "Epoch    86:   0%|          | 0/79 [00:00<?, ?batch/s]"
      ]
     },
     "metadata": {},
     "output_type": "display_data"
    },
    {
     "name": "stdout",
     "output_type": "stream",
     "text": [
      "Test Accuracy: 73.02%\n"
     ]
    },
    {
     "data": {
      "application/vnd.jupyter.widget-view+json": {
       "model_id": "4a77cfb866f14f5e9f29684f7878e9d3",
       "version_major": 2,
       "version_minor": 0
      },
      "text/plain": [
       "Epoch    87:   0%|          | 0/79 [00:00<?, ?batch/s]"
      ]
     },
     "metadata": {},
     "output_type": "display_data"
    },
    {
     "name": "stdout",
     "output_type": "stream",
     "text": [
      "Test Accuracy: 71.22%\n"
     ]
    },
    {
     "data": {
      "application/vnd.jupyter.widget-view+json": {
       "model_id": "566e73d7cf654bf09565e994ea8d3633",
       "version_major": 2,
       "version_minor": 0
      },
      "text/plain": [
       "Epoch    88:   0%|          | 0/79 [00:00<?, ?batch/s]"
      ]
     },
     "metadata": {},
     "output_type": "display_data"
    },
    {
     "name": "stdout",
     "output_type": "stream",
     "text": [
      "Test Accuracy: 72.83%\n"
     ]
    },
    {
     "data": {
      "application/vnd.jupyter.widget-view+json": {
       "model_id": "d3f1c8e5938f43fa9aa5d29cda675949",
       "version_major": 2,
       "version_minor": 0
      },
      "text/plain": [
       "Epoch    89:   0%|          | 0/79 [00:00<?, ?batch/s]"
      ]
     },
     "metadata": {},
     "output_type": "display_data"
    },
    {
     "name": "stdout",
     "output_type": "stream",
     "text": [
      "Test Accuracy: 72.03%\n"
     ]
    },
    {
     "data": {
      "application/vnd.jupyter.widget-view+json": {
       "model_id": "b135854735724462bd51685d08597bd4",
       "version_major": 2,
       "version_minor": 0
      },
      "text/plain": [
       "Epoch    90:   0%|          | 0/79 [00:00<?, ?batch/s]"
      ]
     },
     "metadata": {},
     "output_type": "display_data"
    },
    {
     "name": "stdout",
     "output_type": "stream",
     "text": [
      "Test Accuracy: 71.78%\n"
     ]
    },
    {
     "data": {
      "application/vnd.jupyter.widget-view+json": {
       "model_id": "b3c39f6129aa40e796f245d5cb6bbfb6",
       "version_major": 2,
       "version_minor": 0
      },
      "text/plain": [
       "Epoch    91:   0%|          | 0/79 [00:00<?, ?batch/s]"
      ]
     },
     "metadata": {},
     "output_type": "display_data"
    },
    {
     "name": "stdout",
     "output_type": "stream",
     "text": [
      "Test Accuracy: 71.76%\n"
     ]
    },
    {
     "data": {
      "application/vnd.jupyter.widget-view+json": {
       "model_id": "7ef006ca2d8547e4940e13c768c90e39",
       "version_major": 2,
       "version_minor": 0
      },
      "text/plain": [
       "Epoch    92:   0%|          | 0/79 [00:00<?, ?batch/s]"
      ]
     },
     "metadata": {},
     "output_type": "display_data"
    },
    {
     "name": "stdout",
     "output_type": "stream",
     "text": [
      "Test Accuracy: 72.95%\n"
     ]
    },
    {
     "data": {
      "application/vnd.jupyter.widget-view+json": {
       "model_id": "bcceb6baf6334a6f8eb40f25ee0863f1",
       "version_major": 2,
       "version_minor": 0
      },
      "text/plain": [
       "Epoch    93:   0%|          | 0/79 [00:00<?, ?batch/s]"
      ]
     },
     "metadata": {},
     "output_type": "display_data"
    },
    {
     "name": "stdout",
     "output_type": "stream",
     "text": [
      "Test Accuracy: 71.15%\n"
     ]
    },
    {
     "data": {
      "application/vnd.jupyter.widget-view+json": {
       "model_id": "070266d922ee47059bc94b5a9863194f",
       "version_major": 2,
       "version_minor": 0
      },
      "text/plain": [
       "Epoch    94:   0%|          | 0/79 [00:00<?, ?batch/s]"
      ]
     },
     "metadata": {},
     "output_type": "display_data"
    },
    {
     "name": "stdout",
     "output_type": "stream",
     "text": [
      "Test Accuracy: 72.76%\n"
     ]
    },
    {
     "data": {
      "application/vnd.jupyter.widget-view+json": {
       "model_id": "b797451877f04da5894c579b2c27e092",
       "version_major": 2,
       "version_minor": 0
      },
      "text/plain": [
       "Epoch    95:   0%|          | 0/79 [00:00<?, ?batch/s]"
      ]
     },
     "metadata": {},
     "output_type": "display_data"
    },
    {
     "name": "stdout",
     "output_type": "stream",
     "text": [
      "Test Accuracy: 72.04%\n"
     ]
    },
    {
     "data": {
      "application/vnd.jupyter.widget-view+json": {
       "model_id": "d54e7c9dc951454a91a715e73add453c",
       "version_major": 2,
       "version_minor": 0
      },
      "text/plain": [
       "Epoch    96:   0%|          | 0/79 [00:00<?, ?batch/s]"
      ]
     },
     "metadata": {},
     "output_type": "display_data"
    },
    {
     "name": "stdout",
     "output_type": "stream",
     "text": [
      "Test Accuracy: 71.32%\n"
     ]
    },
    {
     "data": {
      "application/vnd.jupyter.widget-view+json": {
       "model_id": "a722207928624c9d9327a00269bb836b",
       "version_major": 2,
       "version_minor": 0
      },
      "text/plain": [
       "Epoch    97:   0%|          | 0/79 [00:00<?, ?batch/s]"
      ]
     },
     "metadata": {},
     "output_type": "display_data"
    },
    {
     "name": "stdout",
     "output_type": "stream",
     "text": [
      "Test Accuracy: 73.3%\n"
     ]
    },
    {
     "data": {
      "application/vnd.jupyter.widget-view+json": {
       "model_id": "79121ae6f8504ccd83205432586ec927",
       "version_major": 2,
       "version_minor": 0
      },
      "text/plain": [
       "Epoch    98:   0%|          | 0/79 [00:00<?, ?batch/s]"
      ]
     },
     "metadata": {},
     "output_type": "display_data"
    },
    {
     "name": "stdout",
     "output_type": "stream",
     "text": [
      "Test Accuracy: 73.65%\n"
     ]
    },
    {
     "data": {
      "application/vnd.jupyter.widget-view+json": {
       "model_id": "88755c7dfa664c0eb0ef4bfeac22ce0e",
       "version_major": 2,
       "version_minor": 0
      },
      "text/plain": [
       "Epoch    99:   0%|          | 0/79 [00:00<?, ?batch/s]"
      ]
     },
     "metadata": {},
     "output_type": "display_data"
    },
    {
     "name": "stdout",
     "output_type": "stream",
     "text": [
      "Test Accuracy: 72.16%\n"
     ]
    },
    {
     "data": {
      "application/vnd.jupyter.widget-view+json": {
       "model_id": "49019053cce64b5fb14d8b5ebd9d743d",
       "version_major": 2,
       "version_minor": 0
      },
      "text/plain": [
       "Epoch   100:   0%|          | 0/79 [00:00<?, ?batch/s]"
      ]
     },
     "metadata": {},
     "output_type": "display_data"
    },
    {
     "name": "stdout",
     "output_type": "stream",
     "text": [
      "Test Accuracy: 73.9%\n"
     ]
    },
    {
     "data": {
      "application/vnd.jupyter.widget-view+json": {
       "model_id": "bb8cf4c3e1ab440db76017e49219eb3c",
       "version_major": 2,
       "version_minor": 0
      },
      "text/plain": [
       "Epoch   101:   0%|          | 0/79 [00:00<?, ?batch/s]"
      ]
     },
     "metadata": {},
     "output_type": "display_data"
    },
    {
     "name": "stdout",
     "output_type": "stream",
     "text": [
      "Test Accuracy: 72.19%\n"
     ]
    },
    {
     "data": {
      "application/vnd.jupyter.widget-view+json": {
       "model_id": "4fdda09ae8dd4bf4b7dc3fbc00e7ea2f",
       "version_major": 2,
       "version_minor": 0
      },
      "text/plain": [
       "Epoch   102:   0%|          | 0/79 [00:00<?, ?batch/s]"
      ]
     },
     "metadata": {},
     "output_type": "display_data"
    },
    {
     "name": "stdout",
     "output_type": "stream",
     "text": [
      "Test Accuracy: 73.18%\n"
     ]
    },
    {
     "data": {
      "application/vnd.jupyter.widget-view+json": {
       "model_id": "e6940fc24d01448084ea0f91ecf81dbe",
       "version_major": 2,
       "version_minor": 0
      },
      "text/plain": [
       "Epoch   103:   0%|          | 0/79 [00:00<?, ?batch/s]"
      ]
     },
     "metadata": {},
     "output_type": "display_data"
    },
    {
     "name": "stdout",
     "output_type": "stream",
     "text": [
      "Test Accuracy: 72.83%\n"
     ]
    },
    {
     "data": {
      "application/vnd.jupyter.widget-view+json": {
       "model_id": "3222b8b32df84f20b6b6c997c1f8bdd0",
       "version_major": 2,
       "version_minor": 0
      },
      "text/plain": [
       "Epoch   104:   0%|          | 0/79 [00:00<?, ?batch/s]"
      ]
     },
     "metadata": {},
     "output_type": "display_data"
    },
    {
     "name": "stdout",
     "output_type": "stream",
     "text": [
      "Test Accuracy: 71.84%\n"
     ]
    },
    {
     "data": {
      "application/vnd.jupyter.widget-view+json": {
       "model_id": "9f35c88ab29e47c09881a6ee423dce1f",
       "version_major": 2,
       "version_minor": 0
      },
      "text/plain": [
       "Epoch   105:   0%|          | 0/79 [00:00<?, ?batch/s]"
      ]
     },
     "metadata": {},
     "output_type": "display_data"
    },
    {
     "name": "stdout",
     "output_type": "stream",
     "text": [
      "Test Accuracy: 74.35%\n"
     ]
    },
    {
     "data": {
      "application/vnd.jupyter.widget-view+json": {
       "model_id": "cf7f3725c0cf40549ca9f4007ca6b8bb",
       "version_major": 2,
       "version_minor": 0
      },
      "text/plain": [
       "Epoch   106:   0%|          | 0/79 [00:00<?, ?batch/s]"
      ]
     },
     "metadata": {},
     "output_type": "display_data"
    },
    {
     "name": "stdout",
     "output_type": "stream",
     "text": [
      "Test Accuracy: 73.69%\n"
     ]
    },
    {
     "data": {
      "application/vnd.jupyter.widget-view+json": {
       "model_id": "1b78ca5d12364ae69628a4c2ed43e140",
       "version_major": 2,
       "version_minor": 0
      },
      "text/plain": [
       "Epoch   107:   0%|          | 0/79 [00:00<?, ?batch/s]"
      ]
     },
     "metadata": {},
     "output_type": "display_data"
    },
    {
     "name": "stdout",
     "output_type": "stream",
     "text": [
      "Test Accuracy: 74.33%\n"
     ]
    },
    {
     "data": {
      "application/vnd.jupyter.widget-view+json": {
       "model_id": "d973bd5157d24580a669fac744b64f33",
       "version_major": 2,
       "version_minor": 0
      },
      "text/plain": [
       "Epoch   108:   0%|          | 0/79 [00:00<?, ?batch/s]"
      ]
     },
     "metadata": {},
     "output_type": "display_data"
    },
    {
     "name": "stdout",
     "output_type": "stream",
     "text": [
      "Test Accuracy: 72.84%\n"
     ]
    },
    {
     "data": {
      "application/vnd.jupyter.widget-view+json": {
       "model_id": "4f79b9fe789746d8a3d41fdb17c629e6",
       "version_major": 2,
       "version_minor": 0
      },
      "text/plain": [
       "Epoch   109:   0%|          | 0/79 [00:00<?, ?batch/s]"
      ]
     },
     "metadata": {},
     "output_type": "display_data"
    },
    {
     "name": "stdout",
     "output_type": "stream",
     "text": [
      "Test Accuracy: 71.38%\n"
     ]
    },
    {
     "data": {
      "application/vnd.jupyter.widget-view+json": {
       "model_id": "a1d21702f2d847c092988cf7cb2166bc",
       "version_major": 2,
       "version_minor": 0
      },
      "text/plain": [
       "Epoch   110:   0%|          | 0/79 [00:00<?, ?batch/s]"
      ]
     },
     "metadata": {},
     "output_type": "display_data"
    },
    {
     "name": "stdout",
     "output_type": "stream",
     "text": [
      "Test Accuracy: 73.64%\n"
     ]
    },
    {
     "data": {
      "application/vnd.jupyter.widget-view+json": {
       "model_id": "86b34c0c5a2b49ba82d9a44a6f2b07ab",
       "version_major": 2,
       "version_minor": 0
      },
      "text/plain": [
       "Epoch   111:   0%|          | 0/79 [00:00<?, ?batch/s]"
      ]
     },
     "metadata": {},
     "output_type": "display_data"
    },
    {
     "name": "stdout",
     "output_type": "stream",
     "text": [
      "Test Accuracy: 73.83%\n"
     ]
    },
    {
     "data": {
      "application/vnd.jupyter.widget-view+json": {
       "model_id": "e4e0024f3fae42038c34b990f63e6d91",
       "version_major": 2,
       "version_minor": 0
      },
      "text/plain": [
       "Epoch   112:   0%|          | 0/79 [00:00<?, ?batch/s]"
      ]
     },
     "metadata": {},
     "output_type": "display_data"
    },
    {
     "name": "stdout",
     "output_type": "stream",
     "text": [
      "Test Accuracy: 73.27%\n"
     ]
    },
    {
     "data": {
      "application/vnd.jupyter.widget-view+json": {
       "model_id": "3c05ee8223324d10b59bef6d5d810461",
       "version_major": 2,
       "version_minor": 0
      },
      "text/plain": [
       "Epoch   113:   0%|          | 0/79 [00:00<?, ?batch/s]"
      ]
     },
     "metadata": {},
     "output_type": "display_data"
    },
    {
     "name": "stdout",
     "output_type": "stream",
     "text": [
      "Test Accuracy: 74.76%\n"
     ]
    },
    {
     "data": {
      "application/vnd.jupyter.widget-view+json": {
       "model_id": "0a236bed2ccd4858a65ed133b777672b",
       "version_major": 2,
       "version_minor": 0
      },
      "text/plain": [
       "Epoch   114:   0%|          | 0/79 [00:00<?, ?batch/s]"
      ]
     },
     "metadata": {},
     "output_type": "display_data"
    },
    {
     "name": "stdout",
     "output_type": "stream",
     "text": [
      "Test Accuracy: 74.04%\n"
     ]
    },
    {
     "data": {
      "application/vnd.jupyter.widget-view+json": {
       "model_id": "9b0053397cbb4507aac6def4dc49ac5b",
       "version_major": 2,
       "version_minor": 0
      },
      "text/plain": [
       "Epoch   115:   0%|          | 0/79 [00:00<?, ?batch/s]"
      ]
     },
     "metadata": {},
     "output_type": "display_data"
    },
    {
     "name": "stdout",
     "output_type": "stream",
     "text": [
      "Test Accuracy: 70.98%\n"
     ]
    },
    {
     "data": {
      "application/vnd.jupyter.widget-view+json": {
       "model_id": "2fbf7cb4f93e4b7cab07c30c21682f45",
       "version_major": 2,
       "version_minor": 0
      },
      "text/plain": [
       "Epoch   116:   0%|          | 0/79 [00:00<?, ?batch/s]"
      ]
     },
     "metadata": {},
     "output_type": "display_data"
    },
    {
     "name": "stdout",
     "output_type": "stream",
     "text": [
      "Test Accuracy: 72.81%\n"
     ]
    },
    {
     "data": {
      "application/vnd.jupyter.widget-view+json": {
       "model_id": "a418cc9b8b5443d1b2cf3cb8529a672a",
       "version_major": 2,
       "version_minor": 0
      },
      "text/plain": [
       "Epoch   117:   0%|          | 0/79 [00:00<?, ?batch/s]"
      ]
     },
     "metadata": {},
     "output_type": "display_data"
    },
    {
     "name": "stdout",
     "output_type": "stream",
     "text": [
      "Test Accuracy: 73.37%\n"
     ]
    },
    {
     "data": {
      "application/vnd.jupyter.widget-view+json": {
       "model_id": "49b9b8e314ca4a25b3d43e512aa110ab",
       "version_major": 2,
       "version_minor": 0
      },
      "text/plain": [
       "Epoch   118:   0%|          | 0/79 [00:00<?, ?batch/s]"
      ]
     },
     "metadata": {},
     "output_type": "display_data"
    },
    {
     "name": "stdout",
     "output_type": "stream",
     "text": [
      "Test Accuracy: 75.08%\n"
     ]
    },
    {
     "data": {
      "application/vnd.jupyter.widget-view+json": {
       "model_id": "3b4de6d522d845fbae06f157cf7b63df",
       "version_major": 2,
       "version_minor": 0
      },
      "text/plain": [
       "Epoch   119:   0%|          | 0/79 [00:00<?, ?batch/s]"
      ]
     },
     "metadata": {},
     "output_type": "display_data"
    },
    {
     "name": "stdout",
     "output_type": "stream",
     "text": [
      "Test Accuracy: 73.53%\n"
     ]
    },
    {
     "data": {
      "application/vnd.jupyter.widget-view+json": {
       "model_id": "f48e00e6143d49e2b63ffc308f69f61a",
       "version_major": 2,
       "version_minor": 0
      },
      "text/plain": [
       "Epoch   120:   0%|          | 0/79 [00:00<?, ?batch/s]"
      ]
     },
     "metadata": {},
     "output_type": "display_data"
    },
    {
     "name": "stdout",
     "output_type": "stream",
     "text": [
      "Test Accuracy: 72.0%\n"
     ]
    },
    {
     "data": {
      "application/vnd.jupyter.widget-view+json": {
       "model_id": "9577db041ea54f0db0196170881e8519",
       "version_major": 2,
       "version_minor": 0
      },
      "text/plain": [
       "Epoch   121:   0%|          | 0/79 [00:00<?, ?batch/s]"
      ]
     },
     "metadata": {},
     "output_type": "display_data"
    },
    {
     "name": "stdout",
     "output_type": "stream",
     "text": [
      "Test Accuracy: 72.96%\n"
     ]
    },
    {
     "data": {
      "application/vnd.jupyter.widget-view+json": {
       "model_id": "00cebceb67d04995a0e5e80569f1e211",
       "version_major": 2,
       "version_minor": 0
      },
      "text/plain": [
       "Epoch   122:   0%|          | 0/79 [00:00<?, ?batch/s]"
      ]
     },
     "metadata": {},
     "output_type": "display_data"
    },
    {
     "name": "stdout",
     "output_type": "stream",
     "text": [
      "Test Accuracy: 74.05%\n"
     ]
    },
    {
     "data": {
      "application/vnd.jupyter.widget-view+json": {
       "model_id": "5380a0baf0974ef5bc16b22182cb81c2",
       "version_major": 2,
       "version_minor": 0
      },
      "text/plain": [
       "Epoch   123:   0%|          | 0/79 [00:00<?, ?batch/s]"
      ]
     },
     "metadata": {},
     "output_type": "display_data"
    },
    {
     "name": "stdout",
     "output_type": "stream",
     "text": [
      "Test Accuracy: 74.79%\n"
     ]
    },
    {
     "data": {
      "application/vnd.jupyter.widget-view+json": {
       "model_id": "13735460672345bd914423b65567bd90",
       "version_major": 2,
       "version_minor": 0
      },
      "text/plain": [
       "Epoch   124:   0%|          | 0/79 [00:00<?, ?batch/s]"
      ]
     },
     "metadata": {},
     "output_type": "display_data"
    },
    {
     "name": "stdout",
     "output_type": "stream",
     "text": [
      "Test Accuracy: 73.38%\n"
     ]
    },
    {
     "data": {
      "application/vnd.jupyter.widget-view+json": {
       "model_id": "6b5b8044c3e54d49a4dad671c00bbed2",
       "version_major": 2,
       "version_minor": 0
      },
      "text/plain": [
       "Epoch   125:   0%|          | 0/79 [00:00<?, ?batch/s]"
      ]
     },
     "metadata": {},
     "output_type": "display_data"
    },
    {
     "name": "stdout",
     "output_type": "stream",
     "text": [
      "Test Accuracy: 73.49%\n"
     ]
    },
    {
     "data": {
      "application/vnd.jupyter.widget-view+json": {
       "model_id": "7258fa760bb44500a44ae7c168b6a4a8",
       "version_major": 2,
       "version_minor": 0
      },
      "text/plain": [
       "Epoch   126:   0%|          | 0/79 [00:00<?, ?batch/s]"
      ]
     },
     "metadata": {},
     "output_type": "display_data"
    },
    {
     "name": "stdout",
     "output_type": "stream",
     "text": [
      "Test Accuracy: 72.25%\n"
     ]
    },
    {
     "data": {
      "application/vnd.jupyter.widget-view+json": {
       "model_id": "3aeb29bcfae147bbbde372876f47a63b",
       "version_major": 2,
       "version_minor": 0
      },
      "text/plain": [
       "Epoch   127:   0%|          | 0/79 [00:00<?, ?batch/s]"
      ]
     },
     "metadata": {},
     "output_type": "display_data"
    },
    {
     "name": "stdout",
     "output_type": "stream",
     "text": [
      "Test Accuracy: 73.45%\n"
     ]
    },
    {
     "data": {
      "application/vnd.jupyter.widget-view+json": {
       "model_id": "2b6f409ccf0a46c581c991f1ea0d88ab",
       "version_major": 2,
       "version_minor": 0
      },
      "text/plain": [
       "Epoch   128:   0%|          | 0/79 [00:00<?, ?batch/s]"
      ]
     },
     "metadata": {},
     "output_type": "display_data"
    },
    {
     "name": "stdout",
     "output_type": "stream",
     "text": [
      "Test Accuracy: 74.4%\n"
     ]
    },
    {
     "data": {
      "application/vnd.jupyter.widget-view+json": {
       "model_id": "755f4eb2301b49d3a5d68b426b217c22",
       "version_major": 2,
       "version_minor": 0
      },
      "text/plain": [
       "Epoch   129:   0%|          | 0/79 [00:00<?, ?batch/s]"
      ]
     },
     "metadata": {},
     "output_type": "display_data"
    },
    {
     "name": "stdout",
     "output_type": "stream",
     "text": [
      "Test Accuracy: 74.66%\n"
     ]
    },
    {
     "data": {
      "application/vnd.jupyter.widget-view+json": {
       "model_id": "469eb705f525440cb9956871a7aab914",
       "version_major": 2,
       "version_minor": 0
      },
      "text/plain": [
       "Epoch   130:   0%|          | 0/79 [00:00<?, ?batch/s]"
      ]
     },
     "metadata": {},
     "output_type": "display_data"
    },
    {
     "name": "stdout",
     "output_type": "stream",
     "text": [
      "Test Accuracy: 75.71%\n"
     ]
    },
    {
     "data": {
      "application/vnd.jupyter.widget-view+json": {
       "model_id": "e4afea953bf64568bed54dfef195ec02",
       "version_major": 2,
       "version_minor": 0
      },
      "text/plain": [
       "Epoch   131:   0%|          | 0/79 [00:00<?, ?batch/s]"
      ]
     },
     "metadata": {},
     "output_type": "display_data"
    },
    {
     "name": "stdout",
     "output_type": "stream",
     "text": [
      "Test Accuracy: 74.7%\n"
     ]
    },
    {
     "data": {
      "application/vnd.jupyter.widget-view+json": {
       "model_id": "1b3a0873369941cd970c24b69d3e1a4e",
       "version_major": 2,
       "version_minor": 0
      },
      "text/plain": [
       "Epoch   132:   0%|          | 0/79 [00:00<?, ?batch/s]"
      ]
     },
     "metadata": {},
     "output_type": "display_data"
    },
    {
     "name": "stdout",
     "output_type": "stream",
     "text": [
      "Test Accuracy: 74.9%\n"
     ]
    },
    {
     "data": {
      "application/vnd.jupyter.widget-view+json": {
       "model_id": "daeadae5285c4d1abe2aaf77c62587d9",
       "version_major": 2,
       "version_minor": 0
      },
      "text/plain": [
       "Epoch   133:   0%|          | 0/79 [00:00<?, ?batch/s]"
      ]
     },
     "metadata": {},
     "output_type": "display_data"
    },
    {
     "name": "stdout",
     "output_type": "stream",
     "text": [
      "Test Accuracy: 75.76%\n"
     ]
    },
    {
     "data": {
      "application/vnd.jupyter.widget-view+json": {
       "model_id": "e5d33b6b706d45dca5a73303176b0f04",
       "version_major": 2,
       "version_minor": 0
      },
      "text/plain": [
       "Epoch   134:   0%|          | 0/79 [00:00<?, ?batch/s]"
      ]
     },
     "metadata": {},
     "output_type": "display_data"
    },
    {
     "name": "stdout",
     "output_type": "stream",
     "text": [
      "Test Accuracy: 75.35%\n"
     ]
    },
    {
     "data": {
      "application/vnd.jupyter.widget-view+json": {
       "model_id": "ad17c8352c3649aea3bd1fc9957843cc",
       "version_major": 2,
       "version_minor": 0
      },
      "text/plain": [
       "Epoch   135:   0%|          | 0/79 [00:00<?, ?batch/s]"
      ]
     },
     "metadata": {},
     "output_type": "display_data"
    },
    {
     "name": "stdout",
     "output_type": "stream",
     "text": [
      "Test Accuracy: 75.94%\n"
     ]
    },
    {
     "data": {
      "application/vnd.jupyter.widget-view+json": {
       "model_id": "f8406eebaf3b485faedf4b0fc8ab7ff2",
       "version_major": 2,
       "version_minor": 0
      },
      "text/plain": [
       "Epoch   136:   0%|          | 0/79 [00:00<?, ?batch/s]"
      ]
     },
     "metadata": {},
     "output_type": "display_data"
    },
    {
     "name": "stdout",
     "output_type": "stream",
     "text": [
      "Test Accuracy: 75.26%\n"
     ]
    },
    {
     "data": {
      "application/vnd.jupyter.widget-view+json": {
       "model_id": "f68809b8fef94dd4a92e84f16825d504",
       "version_major": 2,
       "version_minor": 0
      },
      "text/plain": [
       "Epoch   137:   0%|          | 0/79 [00:00<?, ?batch/s]"
      ]
     },
     "metadata": {},
     "output_type": "display_data"
    },
    {
     "name": "stdout",
     "output_type": "stream",
     "text": [
      "Test Accuracy: 75.7%\n"
     ]
    },
    {
     "data": {
      "application/vnd.jupyter.widget-view+json": {
       "model_id": "a2e1aa3394ac449f9288ccbf8b2b0522",
       "version_major": 2,
       "version_minor": 0
      },
      "text/plain": [
       "Epoch   138:   0%|          | 0/79 [00:00<?, ?batch/s]"
      ]
     },
     "metadata": {},
     "output_type": "display_data"
    },
    {
     "name": "stdout",
     "output_type": "stream",
     "text": [
      "Test Accuracy: 75.13%\n"
     ]
    },
    {
     "data": {
      "application/vnd.jupyter.widget-view+json": {
       "model_id": "f1ba6a2285224a3092889d76ff8fb6cd",
       "version_major": 2,
       "version_minor": 0
      },
      "text/plain": [
       "Epoch   139:   0%|          | 0/79 [00:00<?, ?batch/s]"
      ]
     },
     "metadata": {},
     "output_type": "display_data"
    },
    {
     "name": "stdout",
     "output_type": "stream",
     "text": [
      "Test Accuracy: 75.81%\n"
     ]
    },
    {
     "data": {
      "application/vnd.jupyter.widget-view+json": {
       "model_id": "7dd29693a53943c4b669f4cbf2aa991d",
       "version_major": 2,
       "version_minor": 0
      },
      "text/plain": [
       "Epoch   140:   0%|          | 0/79 [00:00<?, ?batch/s]"
      ]
     },
     "metadata": {},
     "output_type": "display_data"
    },
    {
     "name": "stdout",
     "output_type": "stream",
     "text": [
      "Test Accuracy: 76.09%\n"
     ]
    },
    {
     "data": {
      "application/vnd.jupyter.widget-view+json": {
       "model_id": "8506a9984b6c4132a33b270a7a529084",
       "version_major": 2,
       "version_minor": 0
      },
      "text/plain": [
       "Epoch   141:   0%|          | 0/79 [00:00<?, ?batch/s]"
      ]
     },
     "metadata": {},
     "output_type": "display_data"
    },
    {
     "name": "stdout",
     "output_type": "stream",
     "text": [
      "Test Accuracy: 75.3%\n"
     ]
    },
    {
     "data": {
      "application/vnd.jupyter.widget-view+json": {
       "model_id": "7726c4ac6cc54d399357c5068252f6c4",
       "version_major": 2,
       "version_minor": 0
      },
      "text/plain": [
       "Epoch   142:   0%|          | 0/79 [00:00<?, ?batch/s]"
      ]
     },
     "metadata": {},
     "output_type": "display_data"
    },
    {
     "name": "stdout",
     "output_type": "stream",
     "text": [
      "Test Accuracy: 75.84%\n"
     ]
    },
    {
     "data": {
      "application/vnd.jupyter.widget-view+json": {
       "model_id": "4535ee4d2e0e4a388d91ee0255793a87",
       "version_major": 2,
       "version_minor": 0
      },
      "text/plain": [
       "Epoch   143:   0%|          | 0/79 [00:00<?, ?batch/s]"
      ]
     },
     "metadata": {},
     "output_type": "display_data"
    },
    {
     "name": "stdout",
     "output_type": "stream",
     "text": [
      "Test Accuracy: 75.24%\n"
     ]
    },
    {
     "data": {
      "application/vnd.jupyter.widget-view+json": {
       "model_id": "be87d219a1e94687bc7f3d26a84b9949",
       "version_major": 2,
       "version_minor": 0
      },
      "text/plain": [
       "Epoch   144:   0%|          | 0/79 [00:00<?, ?batch/s]"
      ]
     },
     "metadata": {},
     "output_type": "display_data"
    },
    {
     "name": "stdout",
     "output_type": "stream",
     "text": [
      "Test Accuracy: 76.21%\n"
     ]
    },
    {
     "data": {
      "application/vnd.jupyter.widget-view+json": {
       "model_id": "bfae2dcac6e44fc99ca023e4cee9b8ab",
       "version_major": 2,
       "version_minor": 0
      },
      "text/plain": [
       "Epoch   145:   0%|          | 0/79 [00:00<?, ?batch/s]"
      ]
     },
     "metadata": {},
     "output_type": "display_data"
    },
    {
     "name": "stdout",
     "output_type": "stream",
     "text": [
      "Test Accuracy: 77.03%\n"
     ]
    },
    {
     "data": {
      "application/vnd.jupyter.widget-view+json": {
       "model_id": "f556aebc07dc4dcbba176f0229c72a3f",
       "version_major": 2,
       "version_minor": 0
      },
      "text/plain": [
       "Epoch   146:   0%|          | 0/79 [00:00<?, ?batch/s]"
      ]
     },
     "metadata": {},
     "output_type": "display_data"
    },
    {
     "name": "stdout",
     "output_type": "stream",
     "text": [
      "Test Accuracy: 76.47%\n"
     ]
    },
    {
     "data": {
      "application/vnd.jupyter.widget-view+json": {
       "model_id": "93c1ed5ad9fa498a96c5b57aaf19344e",
       "version_major": 2,
       "version_minor": 0
      },
      "text/plain": [
       "Epoch   147:   0%|          | 0/79 [00:00<?, ?batch/s]"
      ]
     },
     "metadata": {},
     "output_type": "display_data"
    },
    {
     "name": "stdout",
     "output_type": "stream",
     "text": [
      "Test Accuracy: 75.08%\n"
     ]
    },
    {
     "data": {
      "application/vnd.jupyter.widget-view+json": {
       "model_id": "fc4a2257fea94f7ba2a722bf18a0e1e1",
       "version_major": 2,
       "version_minor": 0
      },
      "text/plain": [
       "Epoch   148:   0%|          | 0/79 [00:00<?, ?batch/s]"
      ]
     },
     "metadata": {},
     "output_type": "display_data"
    },
    {
     "name": "stdout",
     "output_type": "stream",
     "text": [
      "Test Accuracy: 74.59%\n"
     ]
    },
    {
     "data": {
      "application/vnd.jupyter.widget-view+json": {
       "model_id": "fb415470e0424ae7a888940f8de19c43",
       "version_major": 2,
       "version_minor": 0
      },
      "text/plain": [
       "Epoch   149:   0%|          | 0/79 [00:00<?, ?batch/s]"
      ]
     },
     "metadata": {},
     "output_type": "display_data"
    },
    {
     "name": "stdout",
     "output_type": "stream",
     "text": [
      "Test Accuracy: 75.56%\n"
     ]
    },
    {
     "data": {
      "application/vnd.jupyter.widget-view+json": {
       "model_id": "509ad4c5cd8c4e46b3e9f8bb234a2273",
       "version_major": 2,
       "version_minor": 0
      },
      "text/plain": [
       "Epoch   150:   0%|          | 0/79 [00:00<?, ?batch/s]"
      ]
     },
     "metadata": {},
     "output_type": "display_data"
    },
    {
     "name": "stdout",
     "output_type": "stream",
     "text": [
      "Test Accuracy: 75.15%\n"
     ]
    },
    {
     "data": {
      "application/vnd.jupyter.widget-view+json": {
       "model_id": "2f2170aa41e2428fbab268c0a946d4df",
       "version_major": 2,
       "version_minor": 0
      },
      "text/plain": [
       "Epoch   151:   0%|          | 0/79 [00:00<?, ?batch/s]"
      ]
     },
     "metadata": {},
     "output_type": "display_data"
    },
    {
     "name": "stdout",
     "output_type": "stream",
     "text": [
      "Test Accuracy: 74.88%\n"
     ]
    },
    {
     "data": {
      "application/vnd.jupyter.widget-view+json": {
       "model_id": "06563dde1d554ce59c1c8ebeb59cef0a",
       "version_major": 2,
       "version_minor": 0
      },
      "text/plain": [
       "Epoch   152:   0%|          | 0/79 [00:00<?, ?batch/s]"
      ]
     },
     "metadata": {},
     "output_type": "display_data"
    },
    {
     "name": "stdout",
     "output_type": "stream",
     "text": [
      "Test Accuracy: 77.06%\n"
     ]
    },
    {
     "data": {
      "application/vnd.jupyter.widget-view+json": {
       "model_id": "8446c7f1770c4c55953d76aca4305bec",
       "version_major": 2,
       "version_minor": 0
      },
      "text/plain": [
       "Epoch   153:   0%|          | 0/79 [00:00<?, ?batch/s]"
      ]
     },
     "metadata": {},
     "output_type": "display_data"
    },
    {
     "name": "stdout",
     "output_type": "stream",
     "text": [
      "Test Accuracy: 76.06%\n"
     ]
    },
    {
     "data": {
      "application/vnd.jupyter.widget-view+json": {
       "model_id": "a60706cfb3294a8f902499f355b0ce0d",
       "version_major": 2,
       "version_minor": 0
      },
      "text/plain": [
       "Epoch   154:   0%|          | 0/79 [00:00<?, ?batch/s]"
      ]
     },
     "metadata": {},
     "output_type": "display_data"
    },
    {
     "name": "stdout",
     "output_type": "stream",
     "text": [
      "Test Accuracy: 76.71%\n"
     ]
    },
    {
     "data": {
      "application/vnd.jupyter.widget-view+json": {
       "model_id": "b3dc5daf8b0f4986a563cb701e9d915d",
       "version_major": 2,
       "version_minor": 0
      },
      "text/plain": [
       "Epoch   155:   0%|          | 0/79 [00:00<?, ?batch/s]"
      ]
     },
     "metadata": {},
     "output_type": "display_data"
    },
    {
     "name": "stdout",
     "output_type": "stream",
     "text": [
      "Test Accuracy: 76.27%\n"
     ]
    },
    {
     "data": {
      "application/vnd.jupyter.widget-view+json": {
       "model_id": "a7081c1ab9eb4a6a979c63e559f329f6",
       "version_major": 2,
       "version_minor": 0
      },
      "text/plain": [
       "Epoch   156:   0%|          | 0/79 [00:00<?, ?batch/s]"
      ]
     },
     "metadata": {},
     "output_type": "display_data"
    },
    {
     "name": "stdout",
     "output_type": "stream",
     "text": [
      "Test Accuracy: 76.27%\n"
     ]
    },
    {
     "data": {
      "application/vnd.jupyter.widget-view+json": {
       "model_id": "6bf68ff2ed234c5090617b73c00f3c2d",
       "version_major": 2,
       "version_minor": 0
      },
      "text/plain": [
       "Epoch   157:   0%|          | 0/79 [00:00<?, ?batch/s]"
      ]
     },
     "metadata": {},
     "output_type": "display_data"
    },
    {
     "name": "stdout",
     "output_type": "stream",
     "text": [
      "Test Accuracy: 74.62%\n"
     ]
    },
    {
     "data": {
      "application/vnd.jupyter.widget-view+json": {
       "model_id": "0d7bac9078a940f494c7e09e9625f630",
       "version_major": 2,
       "version_minor": 0
      },
      "text/plain": [
       "Epoch   158:   0%|          | 0/79 [00:00<?, ?batch/s]"
      ]
     },
     "metadata": {},
     "output_type": "display_data"
    },
    {
     "name": "stdout",
     "output_type": "stream",
     "text": [
      "Test Accuracy: 76.36%\n"
     ]
    },
    {
     "data": {
      "application/vnd.jupyter.widget-view+json": {
       "model_id": "7377d6f997bc4804a590d42f9d2880db",
       "version_major": 2,
       "version_minor": 0
      },
      "text/plain": [
       "Epoch   159:   0%|          | 0/79 [00:00<?, ?batch/s]"
      ]
     },
     "metadata": {},
     "output_type": "display_data"
    },
    {
     "name": "stdout",
     "output_type": "stream",
     "text": [
      "Test Accuracy: 77.75%\n"
     ]
    },
    {
     "data": {
      "application/vnd.jupyter.widget-view+json": {
       "model_id": "01a85e94331f45e8be2f440a6dc759ac",
       "version_major": 2,
       "version_minor": 0
      },
      "text/plain": [
       "Epoch   160:   0%|          | 0/79 [00:00<?, ?batch/s]"
      ]
     },
     "metadata": {},
     "output_type": "display_data"
    },
    {
     "name": "stdout",
     "output_type": "stream",
     "text": [
      "Test Accuracy: 76.66%\n"
     ]
    },
    {
     "data": {
      "application/vnd.jupyter.widget-view+json": {
       "model_id": "b34dffd059ef4e2ab28a6969646d747f",
       "version_major": 2,
       "version_minor": 0
      },
      "text/plain": [
       "Epoch   161:   0%|          | 0/79 [00:00<?, ?batch/s]"
      ]
     },
     "metadata": {},
     "output_type": "display_data"
    },
    {
     "name": "stdout",
     "output_type": "stream",
     "text": [
      "Test Accuracy: 75.98%\n"
     ]
    },
    {
     "data": {
      "application/vnd.jupyter.widget-view+json": {
       "model_id": "ee83b13d12e44a2fbfe7beb1ffab766d",
       "version_major": 2,
       "version_minor": 0
      },
      "text/plain": [
       "Epoch   162:   0%|          | 0/79 [00:00<?, ?batch/s]"
      ]
     },
     "metadata": {},
     "output_type": "display_data"
    },
    {
     "name": "stdout",
     "output_type": "stream",
     "text": [
      "Test Accuracy: 76.67%\n"
     ]
    },
    {
     "data": {
      "application/vnd.jupyter.widget-view+json": {
       "model_id": "8cdb653effe14be49120342f0bdfe1d9",
       "version_major": 2,
       "version_minor": 0
      },
      "text/plain": [
       "Epoch   163:   0%|          | 0/79 [00:00<?, ?batch/s]"
      ]
     },
     "metadata": {},
     "output_type": "display_data"
    },
    {
     "name": "stdout",
     "output_type": "stream",
     "text": [
      "Test Accuracy: 76.31%\n"
     ]
    },
    {
     "data": {
      "application/vnd.jupyter.widget-view+json": {
       "model_id": "1abeddf5296844b8920addb73ea8184c",
       "version_major": 2,
       "version_minor": 0
      },
      "text/plain": [
       "Epoch   164:   0%|          | 0/79 [00:00<?, ?batch/s]"
      ]
     },
     "metadata": {},
     "output_type": "display_data"
    },
    {
     "name": "stdout",
     "output_type": "stream",
     "text": [
      "Test Accuracy: 77.2%\n"
     ]
    },
    {
     "data": {
      "application/vnd.jupyter.widget-view+json": {
       "model_id": "430227e4c8e44f32bc23e106b79295fc",
       "version_major": 2,
       "version_minor": 0
      },
      "text/plain": [
       "Epoch   165:   0%|          | 0/79 [00:00<?, ?batch/s]"
      ]
     },
     "metadata": {},
     "output_type": "display_data"
    },
    {
     "name": "stdout",
     "output_type": "stream",
     "text": [
      "Test Accuracy: 76.63%\n"
     ]
    },
    {
     "data": {
      "application/vnd.jupyter.widget-view+json": {
       "model_id": "f99d6f353b0b412f99a619288775b007",
       "version_major": 2,
       "version_minor": 0
      },
      "text/plain": [
       "Epoch   166:   0%|          | 0/79 [00:00<?, ?batch/s]"
      ]
     },
     "metadata": {},
     "output_type": "display_data"
    },
    {
     "name": "stdout",
     "output_type": "stream",
     "text": [
      "Test Accuracy: 75.62%\n"
     ]
    },
    {
     "data": {
      "application/vnd.jupyter.widget-view+json": {
       "model_id": "21df8ec47cb14d298cd9e0be4ce02b47",
       "version_major": 2,
       "version_minor": 0
      },
      "text/plain": [
       "Epoch   167:   0%|          | 0/79 [00:00<?, ?batch/s]"
      ]
     },
     "metadata": {},
     "output_type": "display_data"
    },
    {
     "name": "stdout",
     "output_type": "stream",
     "text": [
      "Test Accuracy: 77.04%\n"
     ]
    },
    {
     "data": {
      "application/vnd.jupyter.widget-view+json": {
       "model_id": "d54b4b19a3cc44f188bf254701ca6ca8",
       "version_major": 2,
       "version_minor": 0
      },
      "text/plain": [
       "Epoch   168:   0%|          | 0/79 [00:00<?, ?batch/s]"
      ]
     },
     "metadata": {},
     "output_type": "display_data"
    },
    {
     "name": "stdout",
     "output_type": "stream",
     "text": [
      "Test Accuracy: 76.94%\n"
     ]
    },
    {
     "data": {
      "application/vnd.jupyter.widget-view+json": {
       "model_id": "f5290c26ef89446b8b45b671001fb4bd",
       "version_major": 2,
       "version_minor": 0
      },
      "text/plain": [
       "Epoch   169:   0%|          | 0/79 [00:00<?, ?batch/s]"
      ]
     },
     "metadata": {},
     "output_type": "display_data"
    },
    {
     "name": "stdout",
     "output_type": "stream",
     "text": [
      "Test Accuracy: 76.37%\n"
     ]
    },
    {
     "data": {
      "application/vnd.jupyter.widget-view+json": {
       "model_id": "78339d08dbe34741b20d2eddd3e22919",
       "version_major": 2,
       "version_minor": 0
      },
      "text/plain": [
       "Epoch   170:   0%|          | 0/79 [00:00<?, ?batch/s]"
      ]
     },
     "metadata": {},
     "output_type": "display_data"
    },
    {
     "name": "stdout",
     "output_type": "stream",
     "text": [
      "Test Accuracy: 77.84%\n"
     ]
    },
    {
     "data": {
      "application/vnd.jupyter.widget-view+json": {
       "model_id": "257bc018ae1f4767b3c25631c24f3c2c",
       "version_major": 2,
       "version_minor": 0
      },
      "text/plain": [
       "Epoch   171:   0%|          | 0/79 [00:00<?, ?batch/s]"
      ]
     },
     "metadata": {},
     "output_type": "display_data"
    },
    {
     "name": "stdout",
     "output_type": "stream",
     "text": [
      "Test Accuracy: 77.19%\n"
     ]
    },
    {
     "data": {
      "application/vnd.jupyter.widget-view+json": {
       "model_id": "6e315a4fe2304123902cafaf8a9603f2",
       "version_major": 2,
       "version_minor": 0
      },
      "text/plain": [
       "Epoch   172:   0%|          | 0/79 [00:00<?, ?batch/s]"
      ]
     },
     "metadata": {},
     "output_type": "display_data"
    },
    {
     "name": "stdout",
     "output_type": "stream",
     "text": [
      "Test Accuracy: 76.5%\n"
     ]
    },
    {
     "data": {
      "application/vnd.jupyter.widget-view+json": {
       "model_id": "1293a05bb469430b892f4defb4a96516",
       "version_major": 2,
       "version_minor": 0
      },
      "text/plain": [
       "Epoch   173:   0%|          | 0/79 [00:00<?, ?batch/s]"
      ]
     },
     "metadata": {},
     "output_type": "display_data"
    },
    {
     "name": "stdout",
     "output_type": "stream",
     "text": [
      "Test Accuracy: 76.14%\n"
     ]
    },
    {
     "data": {
      "application/vnd.jupyter.widget-view+json": {
       "model_id": "c48f6bf63faf4fae8557fb7b66fb55ca",
       "version_major": 2,
       "version_minor": 0
      },
      "text/plain": [
       "Epoch   174:   0%|          | 0/79 [00:00<?, ?batch/s]"
      ]
     },
     "metadata": {},
     "output_type": "display_data"
    },
    {
     "name": "stdout",
     "output_type": "stream",
     "text": [
      "Test Accuracy: 77.56%\n"
     ]
    },
    {
     "data": {
      "application/vnd.jupyter.widget-view+json": {
       "model_id": "85d45f205dfd4ae6ba64403e572a3f82",
       "version_major": 2,
       "version_minor": 0
      },
      "text/plain": [
       "Epoch   175:   0%|          | 0/79 [00:00<?, ?batch/s]"
      ]
     },
     "metadata": {},
     "output_type": "display_data"
    },
    {
     "name": "stdout",
     "output_type": "stream",
     "text": [
      "Test Accuracy: 77.08%\n"
     ]
    },
    {
     "data": {
      "application/vnd.jupyter.widget-view+json": {
       "model_id": "67509083a6a7446cbdbdf50e12a91bf2",
       "version_major": 2,
       "version_minor": 0
      },
      "text/plain": [
       "Epoch   176:   0%|          | 0/79 [00:00<?, ?batch/s]"
      ]
     },
     "metadata": {},
     "output_type": "display_data"
    },
    {
     "name": "stdout",
     "output_type": "stream",
     "text": [
      "Test Accuracy: 77.03%\n"
     ]
    },
    {
     "data": {
      "application/vnd.jupyter.widget-view+json": {
       "model_id": "1f858ffa71dd4c259c1562ebb0465f16",
       "version_major": 2,
       "version_minor": 0
      },
      "text/plain": [
       "Epoch   177:   0%|          | 0/79 [00:00<?, ?batch/s]"
      ]
     },
     "metadata": {},
     "output_type": "display_data"
    },
    {
     "name": "stdout",
     "output_type": "stream",
     "text": [
      "Test Accuracy: 77.14%\n"
     ]
    },
    {
     "data": {
      "application/vnd.jupyter.widget-view+json": {
       "model_id": "af59c414e49347668c66ee68201f85e0",
       "version_major": 2,
       "version_minor": 0
      },
      "text/plain": [
       "Epoch   178:   0%|          | 0/79 [00:00<?, ?batch/s]"
      ]
     },
     "metadata": {},
     "output_type": "display_data"
    },
    {
     "name": "stdout",
     "output_type": "stream",
     "text": [
      "Test Accuracy: 75.93%\n"
     ]
    },
    {
     "data": {
      "application/vnd.jupyter.widget-view+json": {
       "model_id": "d664b6418129467c836c728500ab1941",
       "version_major": 2,
       "version_minor": 0
      },
      "text/plain": [
       "Epoch   179:   0%|          | 0/79 [00:00<?, ?batch/s]"
      ]
     },
     "metadata": {},
     "output_type": "display_data"
    },
    {
     "name": "stdout",
     "output_type": "stream",
     "text": [
      "Test Accuracy: 77.52%\n"
     ]
    },
    {
     "data": {
      "application/vnd.jupyter.widget-view+json": {
       "model_id": "3f355a9a48b94219b04c5ec3c8b9c16c",
       "version_major": 2,
       "version_minor": 0
      },
      "text/plain": [
       "Epoch   180:   0%|          | 0/79 [00:00<?, ?batch/s]"
      ]
     },
     "metadata": {},
     "output_type": "display_data"
    },
    {
     "name": "stdout",
     "output_type": "stream",
     "text": [
      "Test Accuracy: 76.79%\n"
     ]
    },
    {
     "data": {
      "application/vnd.jupyter.widget-view+json": {
       "model_id": "2972f26ae83849d1b0a5628811097a4b",
       "version_major": 2,
       "version_minor": 0
      },
      "text/plain": [
       "Epoch   181:   0%|          | 0/79 [00:00<?, ?batch/s]"
      ]
     },
     "metadata": {},
     "output_type": "display_data"
    },
    {
     "name": "stdout",
     "output_type": "stream",
     "text": [
      "Test Accuracy: 76.02%\n"
     ]
    },
    {
     "data": {
      "application/vnd.jupyter.widget-view+json": {
       "model_id": "51873ab8da52490687fc1993ce334c74",
       "version_major": 2,
       "version_minor": 0
      },
      "text/plain": [
       "Epoch   182:   0%|          | 0/79 [00:00<?, ?batch/s]"
      ]
     },
     "metadata": {},
     "output_type": "display_data"
    },
    {
     "name": "stdout",
     "output_type": "stream",
     "text": [
      "Test Accuracy: 77.13%\n"
     ]
    },
    {
     "data": {
      "application/vnd.jupyter.widget-view+json": {
       "model_id": "9980c4eaced8484fbb0e3046e053572e",
       "version_major": 2,
       "version_minor": 0
      },
      "text/plain": [
       "Epoch   183:   0%|          | 0/79 [00:00<?, ?batch/s]"
      ]
     },
     "metadata": {},
     "output_type": "display_data"
    },
    {
     "name": "stdout",
     "output_type": "stream",
     "text": [
      "Test Accuracy: 78.1%\n"
     ]
    },
    {
     "data": {
      "application/vnd.jupyter.widget-view+json": {
       "model_id": "422ede4d0bdc4c7586f1c5206d9313f3",
       "version_major": 2,
       "version_minor": 0
      },
      "text/plain": [
       "Epoch   184:   0%|          | 0/79 [00:00<?, ?batch/s]"
      ]
     },
     "metadata": {},
     "output_type": "display_data"
    },
    {
     "name": "stdout",
     "output_type": "stream",
     "text": [
      "Test Accuracy: 78.31%\n"
     ]
    },
    {
     "data": {
      "application/vnd.jupyter.widget-view+json": {
       "model_id": "ba22508ed57d4be48582d4c302936a91",
       "version_major": 2,
       "version_minor": 0
      },
      "text/plain": [
       "Epoch   185:   0%|          | 0/79 [00:00<?, ?batch/s]"
      ]
     },
     "metadata": {},
     "output_type": "display_data"
    },
    {
     "name": "stdout",
     "output_type": "stream",
     "text": [
      "Test Accuracy: 77.5%\n"
     ]
    },
    {
     "data": {
      "application/vnd.jupyter.widget-view+json": {
       "model_id": "f2f9b149801d4079bb5a6b6cf1333362",
       "version_major": 2,
       "version_minor": 0
      },
      "text/plain": [
       "Epoch   186:   0%|          | 0/79 [00:00<?, ?batch/s]"
      ]
     },
     "metadata": {},
     "output_type": "display_data"
    },
    {
     "name": "stdout",
     "output_type": "stream",
     "text": [
      "Test Accuracy: 77.77%\n"
     ]
    },
    {
     "data": {
      "application/vnd.jupyter.widget-view+json": {
       "model_id": "28eedf251c50453e9d7a92a1c0df376f",
       "version_major": 2,
       "version_minor": 0
      },
      "text/plain": [
       "Epoch   187:   0%|          | 0/79 [00:00<?, ?batch/s]"
      ]
     },
     "metadata": {},
     "output_type": "display_data"
    },
    {
     "name": "stdout",
     "output_type": "stream",
     "text": [
      "Test Accuracy: 78.25%\n"
     ]
    },
    {
     "data": {
      "application/vnd.jupyter.widget-view+json": {
       "model_id": "84661c494ed044bbae65d8ae4c697c8c",
       "version_major": 2,
       "version_minor": 0
      },
      "text/plain": [
       "Epoch   188:   0%|          | 0/79 [00:00<?, ?batch/s]"
      ]
     },
     "metadata": {},
     "output_type": "display_data"
    },
    {
     "name": "stdout",
     "output_type": "stream",
     "text": [
      "Test Accuracy: 77.5%\n"
     ]
    },
    {
     "data": {
      "application/vnd.jupyter.widget-view+json": {
       "model_id": "76a24080783b450b9510c5a8f7d0013f",
       "version_major": 2,
       "version_minor": 0
      },
      "text/plain": [
       "Epoch   189:   0%|          | 0/79 [00:00<?, ?batch/s]"
      ]
     },
     "metadata": {},
     "output_type": "display_data"
    },
    {
     "name": "stdout",
     "output_type": "stream",
     "text": [
      "Test Accuracy: 78.15%\n"
     ]
    },
    {
     "data": {
      "application/vnd.jupyter.widget-view+json": {
       "model_id": "b6990229d1584612adeab83f5cd0d9ea",
       "version_major": 2,
       "version_minor": 0
      },
      "text/plain": [
       "Epoch   190:   0%|          | 0/79 [00:00<?, ?batch/s]"
      ]
     },
     "metadata": {},
     "output_type": "display_data"
    },
    {
     "name": "stdout",
     "output_type": "stream",
     "text": [
      "Test Accuracy: 78.48%\n"
     ]
    },
    {
     "data": {
      "application/vnd.jupyter.widget-view+json": {
       "model_id": "3d1841a8040b48adab11595a102a871d",
       "version_major": 2,
       "version_minor": 0
      },
      "text/plain": [
       "Epoch   191:   0%|          | 0/79 [00:00<?, ?batch/s]"
      ]
     },
     "metadata": {},
     "output_type": "display_data"
    },
    {
     "name": "stdout",
     "output_type": "stream",
     "text": [
      "Test Accuracy: 77.96%\n"
     ]
    },
    {
     "data": {
      "application/vnd.jupyter.widget-view+json": {
       "model_id": "94dde44a06894543ac42e4415ceef5a6",
       "version_major": 2,
       "version_minor": 0
      },
      "text/plain": [
       "Epoch   192:   0%|          | 0/79 [00:00<?, ?batch/s]"
      ]
     },
     "metadata": {},
     "output_type": "display_data"
    },
    {
     "name": "stdout",
     "output_type": "stream",
     "text": [
      "Test Accuracy: 77.16%\n"
     ]
    },
    {
     "data": {
      "application/vnd.jupyter.widget-view+json": {
       "model_id": "550e3d4fb2654608bb17e8ddec44d317",
       "version_major": 2,
       "version_minor": 0
      },
      "text/plain": [
       "Epoch   193:   0%|          | 0/79 [00:00<?, ?batch/s]"
      ]
     },
     "metadata": {},
     "output_type": "display_data"
    },
    {
     "name": "stdout",
     "output_type": "stream",
     "text": [
      "Test Accuracy: 77.62%\n"
     ]
    },
    {
     "data": {
      "application/vnd.jupyter.widget-view+json": {
       "model_id": "dbd00a2d3c4b4e608af807465a422307",
       "version_major": 2,
       "version_minor": 0
      },
      "text/plain": [
       "Epoch   194:   0%|          | 0/79 [00:00<?, ?batch/s]"
      ]
     },
     "metadata": {},
     "output_type": "display_data"
    },
    {
     "name": "stdout",
     "output_type": "stream",
     "text": [
      "Test Accuracy: 78.1%\n"
     ]
    },
    {
     "data": {
      "application/vnd.jupyter.widget-view+json": {
       "model_id": "23f55e85e4a648a3bb7afc1cafa1b14e",
       "version_major": 2,
       "version_minor": 0
      },
      "text/plain": [
       "Epoch   195:   0%|          | 0/79 [00:00<?, ?batch/s]"
      ]
     },
     "metadata": {},
     "output_type": "display_data"
    },
    {
     "name": "stdout",
     "output_type": "stream",
     "text": [
      "Test Accuracy: 78.08%\n"
     ]
    },
    {
     "data": {
      "application/vnd.jupyter.widget-view+json": {
       "model_id": "c72013174f6a456eab68439fc3a37302",
       "version_major": 2,
       "version_minor": 0
      },
      "text/plain": [
       "Epoch   196:   0%|          | 0/79 [00:00<?, ?batch/s]"
      ]
     },
     "metadata": {},
     "output_type": "display_data"
    },
    {
     "name": "stdout",
     "output_type": "stream",
     "text": [
      "Test Accuracy: 78.93%\n"
     ]
    },
    {
     "data": {
      "application/vnd.jupyter.widget-view+json": {
       "model_id": "fe8b5b77d30a4de58f8f40f546a65ab3",
       "version_major": 2,
       "version_minor": 0
      },
      "text/plain": [
       "Epoch   197:   0%|          | 0/79 [00:00<?, ?batch/s]"
      ]
     },
     "metadata": {},
     "output_type": "display_data"
    },
    {
     "name": "stdout",
     "output_type": "stream",
     "text": [
      "Test Accuracy: 77.96%\n"
     ]
    },
    {
     "data": {
      "application/vnd.jupyter.widget-view+json": {
       "model_id": "5c2e0d58fbde4427af7157e436118744",
       "version_major": 2,
       "version_minor": 0
      },
      "text/plain": [
       "Epoch   198:   0%|          | 0/79 [00:00<?, ?batch/s]"
      ]
     },
     "metadata": {},
     "output_type": "display_data"
    },
    {
     "name": "stdout",
     "output_type": "stream",
     "text": [
      "Test Accuracy: 78.53%\n"
     ]
    },
    {
     "data": {
      "application/vnd.jupyter.widget-view+json": {
       "model_id": "4fb67be24370424d94decbc32a32c1ed",
       "version_major": 2,
       "version_minor": 0
      },
      "text/plain": [
       "Epoch   199:   0%|          | 0/79 [00:00<?, ?batch/s]"
      ]
     },
     "metadata": {},
     "output_type": "display_data"
    },
    {
     "name": "stdout",
     "output_type": "stream",
     "text": [
      "Test Accuracy: 78.45%\n"
     ]
    },
    {
     "data": {
      "application/vnd.jupyter.widget-view+json": {
       "model_id": "a7fa0310da054b4997a77683da7fbf1f",
       "version_major": 2,
       "version_minor": 0
      },
      "text/plain": [
       "Epoch   200:   0%|          | 0/79 [00:00<?, ?batch/s]"
      ]
     },
     "metadata": {},
     "output_type": "display_data"
    },
    {
     "name": "stdout",
     "output_type": "stream",
     "text": [
      "Test Accuracy: 78.44%\n"
     ]
    },
    {
     "data": {
      "application/vnd.jupyter.widget-view+json": {
       "model_id": "b1bced43f63143a6af283af16b47a3de",
       "version_major": 2,
       "version_minor": 0
      },
      "text/plain": [
       "Epoch   201:   0%|          | 0/79 [00:00<?, ?batch/s]"
      ]
     },
     "metadata": {},
     "output_type": "display_data"
    },
    {
     "name": "stdout",
     "output_type": "stream",
     "text": [
      "Test Accuracy: 78.09%\n"
     ]
    },
    {
     "data": {
      "application/vnd.jupyter.widget-view+json": {
       "model_id": "ef33e0bc5bac4c129765e0d95f713d6b",
       "version_major": 2,
       "version_minor": 0
      },
      "text/plain": [
       "Epoch   202:   0%|          | 0/79 [00:00<?, ?batch/s]"
      ]
     },
     "metadata": {},
     "output_type": "display_data"
    },
    {
     "name": "stdout",
     "output_type": "stream",
     "text": [
      "Test Accuracy: 78.71%\n"
     ]
    },
    {
     "data": {
      "application/vnd.jupyter.widget-view+json": {
       "model_id": "e9ef3e76e8f249cfbb1266284c9170ba",
       "version_major": 2,
       "version_minor": 0
      },
      "text/plain": [
       "Epoch   203:   0%|          | 0/79 [00:00<?, ?batch/s]"
      ]
     },
     "metadata": {},
     "output_type": "display_data"
    },
    {
     "name": "stdout",
     "output_type": "stream",
     "text": [
      "Test Accuracy: 79.03%\n"
     ]
    },
    {
     "data": {
      "application/vnd.jupyter.widget-view+json": {
       "model_id": "9ec2d03422d44b98a75be4f46826efb3",
       "version_major": 2,
       "version_minor": 0
      },
      "text/plain": [
       "Epoch   204:   0%|          | 0/79 [00:00<?, ?batch/s]"
      ]
     },
     "metadata": {},
     "output_type": "display_data"
    },
    {
     "name": "stdout",
     "output_type": "stream",
     "text": [
      "Test Accuracy: 78.73%\n"
     ]
    },
    {
     "data": {
      "application/vnd.jupyter.widget-view+json": {
       "model_id": "9728cb190d3d4a25b3ac186d69eb979b",
       "version_major": 2,
       "version_minor": 0
      },
      "text/plain": [
       "Epoch   205:   0%|          | 0/79 [00:00<?, ?batch/s]"
      ]
     },
     "metadata": {},
     "output_type": "display_data"
    },
    {
     "name": "stdout",
     "output_type": "stream",
     "text": [
      "Test Accuracy: 78.57%\n"
     ]
    },
    {
     "data": {
      "application/vnd.jupyter.widget-view+json": {
       "model_id": "cd62409c3744449bb6cab74fc194d0f2",
       "version_major": 2,
       "version_minor": 0
      },
      "text/plain": [
       "Epoch   206:   0%|          | 0/79 [00:00<?, ?batch/s]"
      ]
     },
     "metadata": {},
     "output_type": "display_data"
    },
    {
     "name": "stdout",
     "output_type": "stream",
     "text": [
      "Test Accuracy: 78.91%\n"
     ]
    },
    {
     "data": {
      "application/vnd.jupyter.widget-view+json": {
       "model_id": "2d0624c0705d426d98d31ed298ed20ff",
       "version_major": 2,
       "version_minor": 0
      },
      "text/plain": [
       "Epoch   207:   0%|          | 0/79 [00:00<?, ?batch/s]"
      ]
     },
     "metadata": {},
     "output_type": "display_data"
    },
    {
     "name": "stdout",
     "output_type": "stream",
     "text": [
      "Test Accuracy: 78.49%\n"
     ]
    },
    {
     "data": {
      "application/vnd.jupyter.widget-view+json": {
       "model_id": "388113c601e74a98a6e1e3c59437bef1",
       "version_major": 2,
       "version_minor": 0
      },
      "text/plain": [
       "Epoch   208:   0%|          | 0/79 [00:00<?, ?batch/s]"
      ]
     },
     "metadata": {},
     "output_type": "display_data"
    },
    {
     "name": "stdout",
     "output_type": "stream",
     "text": [
      "Test Accuracy: 78.39%\n"
     ]
    },
    {
     "data": {
      "application/vnd.jupyter.widget-view+json": {
       "model_id": "045d6416df0f4d72a7f697247e28d02b",
       "version_major": 2,
       "version_minor": 0
      },
      "text/plain": [
       "Epoch   209:   0%|          | 0/79 [00:00<?, ?batch/s]"
      ]
     },
     "metadata": {},
     "output_type": "display_data"
    },
    {
     "name": "stdout",
     "output_type": "stream",
     "text": [
      "Test Accuracy: 78.76%\n"
     ]
    },
    {
     "data": {
      "application/vnd.jupyter.widget-view+json": {
       "model_id": "f8cfc8cb88ef4483b3600802eb888c0b",
       "version_major": 2,
       "version_minor": 0
      },
      "text/plain": [
       "Epoch   210:   0%|          | 0/79 [00:00<?, ?batch/s]"
      ]
     },
     "metadata": {},
     "output_type": "display_data"
    },
    {
     "name": "stdout",
     "output_type": "stream",
     "text": [
      "Test Accuracy: 78.79%\n"
     ]
    },
    {
     "data": {
      "application/vnd.jupyter.widget-view+json": {
       "model_id": "73214613c90b43fcab93d00e67280057",
       "version_major": 2,
       "version_minor": 0
      },
      "text/plain": [
       "Epoch   211:   0%|          | 0/79 [00:00<?, ?batch/s]"
      ]
     },
     "metadata": {},
     "output_type": "display_data"
    },
    {
     "name": "stdout",
     "output_type": "stream",
     "text": [
      "Test Accuracy: 78.86%\n"
     ]
    },
    {
     "data": {
      "application/vnd.jupyter.widget-view+json": {
       "model_id": "4c555ddfb97340848d0f9116e6de345a",
       "version_major": 2,
       "version_minor": 0
      },
      "text/plain": [
       "Epoch   212:   0%|          | 0/79 [00:00<?, ?batch/s]"
      ]
     },
     "metadata": {},
     "output_type": "display_data"
    },
    {
     "name": "stdout",
     "output_type": "stream",
     "text": [
      "Test Accuracy: 78.61%\n"
     ]
    },
    {
     "data": {
      "application/vnd.jupyter.widget-view+json": {
       "model_id": "39426679154641bb9acdd90b3cd8acf6",
       "version_major": 2,
       "version_minor": 0
      },
      "text/plain": [
       "Epoch   213:   0%|          | 0/79 [00:00<?, ?batch/s]"
      ]
     },
     "metadata": {},
     "output_type": "display_data"
    },
    {
     "name": "stdout",
     "output_type": "stream",
     "text": [
      "Test Accuracy: 78.2%\n"
     ]
    },
    {
     "data": {
      "application/vnd.jupyter.widget-view+json": {
       "model_id": "319bbd76531443e697194480e3b7334e",
       "version_major": 2,
       "version_minor": 0
      },
      "text/plain": [
       "Epoch   214:   0%|          | 0/79 [00:00<?, ?batch/s]"
      ]
     },
     "metadata": {},
     "output_type": "display_data"
    },
    {
     "name": "stdout",
     "output_type": "stream",
     "text": [
      "Test Accuracy: 79.23%\n"
     ]
    },
    {
     "data": {
      "application/vnd.jupyter.widget-view+json": {
       "model_id": "00964c5fa0e549129626541a7f782144",
       "version_major": 2,
       "version_minor": 0
      },
      "text/plain": [
       "Epoch   215:   0%|          | 0/79 [00:00<?, ?batch/s]"
      ]
     },
     "metadata": {},
     "output_type": "display_data"
    },
    {
     "name": "stdout",
     "output_type": "stream",
     "text": [
      "Test Accuracy: 78.82%\n"
     ]
    },
    {
     "data": {
      "application/vnd.jupyter.widget-view+json": {
       "model_id": "a1cfde0d3fb34bc99617a606e4e0665c",
       "version_major": 2,
       "version_minor": 0
      },
      "text/plain": [
       "Epoch   216:   0%|          | 0/79 [00:00<?, ?batch/s]"
      ]
     },
     "metadata": {},
     "output_type": "display_data"
    },
    {
     "name": "stdout",
     "output_type": "stream",
     "text": [
      "Test Accuracy: 78.66%\n"
     ]
    },
    {
     "data": {
      "application/vnd.jupyter.widget-view+json": {
       "model_id": "4a43e5dbe0894ce7a1b4a50e203dba96",
       "version_major": 2,
       "version_minor": 0
      },
      "text/plain": [
       "Epoch   217:   0%|          | 0/79 [00:00<?, ?batch/s]"
      ]
     },
     "metadata": {},
     "output_type": "display_data"
    },
    {
     "name": "stdout",
     "output_type": "stream",
     "text": [
      "Test Accuracy: 78.98%\n"
     ]
    },
    {
     "data": {
      "application/vnd.jupyter.widget-view+json": {
       "model_id": "1f4a15c779cc4263ab5418e96b940197",
       "version_major": 2,
       "version_minor": 0
      },
      "text/plain": [
       "Epoch   218:   0%|          | 0/79 [00:00<?, ?batch/s]"
      ]
     },
     "metadata": {},
     "output_type": "display_data"
    },
    {
     "name": "stdout",
     "output_type": "stream",
     "text": [
      "Test Accuracy: 78.7%\n"
     ]
    },
    {
     "data": {
      "application/vnd.jupyter.widget-view+json": {
       "model_id": "91cc66356f454f04bfc0fbfd42e32f38",
       "version_major": 2,
       "version_minor": 0
      },
      "text/plain": [
       "Epoch   219:   0%|          | 0/79 [00:00<?, ?batch/s]"
      ]
     },
     "metadata": {},
     "output_type": "display_data"
    },
    {
     "name": "stdout",
     "output_type": "stream",
     "text": [
      "Test Accuracy: 79.13%\n"
     ]
    },
    {
     "data": {
      "application/vnd.jupyter.widget-view+json": {
       "model_id": "005f6c0bdfaf43d1828fac40b5e8a800",
       "version_major": 2,
       "version_minor": 0
      },
      "text/plain": [
       "Epoch   220:   0%|          | 0/79 [00:00<?, ?batch/s]"
      ]
     },
     "metadata": {},
     "output_type": "display_data"
    },
    {
     "name": "stdout",
     "output_type": "stream",
     "text": [
      "Test Accuracy: 78.78%\n"
     ]
    },
    {
     "data": {
      "application/vnd.jupyter.widget-view+json": {
       "model_id": "3dae155867a34976a1b0d6e74799f01b",
       "version_major": 2,
       "version_minor": 0
      },
      "text/plain": [
       "Epoch   221:   0%|          | 0/79 [00:00<?, ?batch/s]"
      ]
     },
     "metadata": {},
     "output_type": "display_data"
    },
    {
     "name": "stdout",
     "output_type": "stream",
     "text": [
      "Test Accuracy: 79.68%\n"
     ]
    },
    {
     "data": {
      "application/vnd.jupyter.widget-view+json": {
       "model_id": "03851533153344668d1f829face9684a",
       "version_major": 2,
       "version_minor": 0
      },
      "text/plain": [
       "Epoch   222:   0%|          | 0/79 [00:00<?, ?batch/s]"
      ]
     },
     "metadata": {},
     "output_type": "display_data"
    },
    {
     "name": "stdout",
     "output_type": "stream",
     "text": [
      "Test Accuracy: 79.63%\n"
     ]
    },
    {
     "data": {
      "application/vnd.jupyter.widget-view+json": {
       "model_id": "dd0b9e6d343c4f0ab309ae75d3c095db",
       "version_major": 2,
       "version_minor": 0
      },
      "text/plain": [
       "Epoch   223:   0%|          | 0/79 [00:00<?, ?batch/s]"
      ]
     },
     "metadata": {},
     "output_type": "display_data"
    },
    {
     "name": "stdout",
     "output_type": "stream",
     "text": [
      "Test Accuracy: 78.08%\n"
     ]
    },
    {
     "data": {
      "application/vnd.jupyter.widget-view+json": {
       "model_id": "1b8492edb9f043c7a4335811e0084011",
       "version_major": 2,
       "version_minor": 0
      },
      "text/plain": [
       "Epoch   224:   0%|          | 0/79 [00:00<?, ?batch/s]"
      ]
     },
     "metadata": {},
     "output_type": "display_data"
    },
    {
     "name": "stdout",
     "output_type": "stream",
     "text": [
      "Test Accuracy: 79.23%\n"
     ]
    },
    {
     "data": {
      "application/vnd.jupyter.widget-view+json": {
       "model_id": "828b55b82ed24797a047400e5a3d5ab1",
       "version_major": 2,
       "version_minor": 0
      },
      "text/plain": [
       "Epoch   225:   0%|          | 0/79 [00:00<?, ?batch/s]"
      ]
     },
     "metadata": {},
     "output_type": "display_data"
    },
    {
     "name": "stdout",
     "output_type": "stream",
     "text": [
      "Test Accuracy: 79.35%\n"
     ]
    },
    {
     "data": {
      "application/vnd.jupyter.widget-view+json": {
       "model_id": "52f2a9716f4b447190ea61f5031a6de5",
       "version_major": 2,
       "version_minor": 0
      },
      "text/plain": [
       "Epoch   226:   0%|          | 0/79 [00:00<?, ?batch/s]"
      ]
     },
     "metadata": {},
     "output_type": "display_data"
    },
    {
     "name": "stdout",
     "output_type": "stream",
     "text": [
      "Test Accuracy: 79.37%\n"
     ]
    },
    {
     "data": {
      "application/vnd.jupyter.widget-view+json": {
       "model_id": "5a80897fab8a47709167bd4f6ff9422d",
       "version_major": 2,
       "version_minor": 0
      },
      "text/plain": [
       "Epoch   227:   0%|          | 0/79 [00:00<?, ?batch/s]"
      ]
     },
     "metadata": {},
     "output_type": "display_data"
    },
    {
     "name": "stdout",
     "output_type": "stream",
     "text": [
      "Test Accuracy: 78.7%\n"
     ]
    },
    {
     "data": {
      "application/vnd.jupyter.widget-view+json": {
       "model_id": "c32b6568722948d091813208960da65a",
       "version_major": 2,
       "version_minor": 0
      },
      "text/plain": [
       "Epoch   228:   0%|          | 0/79 [00:00<?, ?batch/s]"
      ]
     },
     "metadata": {},
     "output_type": "display_data"
    },
    {
     "name": "stdout",
     "output_type": "stream",
     "text": [
      "Test Accuracy: 78.98%\n"
     ]
    },
    {
     "data": {
      "application/vnd.jupyter.widget-view+json": {
       "model_id": "65ba3e01105d4dd7a0853e226f5ad3fe",
       "version_major": 2,
       "version_minor": 0
      },
      "text/plain": [
       "Epoch   229:   0%|          | 0/79 [00:00<?, ?batch/s]"
      ]
     },
     "metadata": {},
     "output_type": "display_data"
    },
    {
     "name": "stdout",
     "output_type": "stream",
     "text": [
      "Test Accuracy: 78.71%\n"
     ]
    },
    {
     "data": {
      "application/vnd.jupyter.widget-view+json": {
       "model_id": "26f7d7fdb0bb4afcb4976cd11debee59",
       "version_major": 2,
       "version_minor": 0
      },
      "text/plain": [
       "Epoch   230:   0%|          | 0/79 [00:00<?, ?batch/s]"
      ]
     },
     "metadata": {},
     "output_type": "display_data"
    },
    {
     "name": "stdout",
     "output_type": "stream",
     "text": [
      "Test Accuracy: 79.49%\n"
     ]
    },
    {
     "data": {
      "application/vnd.jupyter.widget-view+json": {
       "model_id": "ebff29b51573478c9712af721c93eab2",
       "version_major": 2,
       "version_minor": 0
      },
      "text/plain": [
       "Epoch   231:   0%|          | 0/79 [00:00<?, ?batch/s]"
      ]
     },
     "metadata": {},
     "output_type": "display_data"
    },
    {
     "name": "stdout",
     "output_type": "stream",
     "text": [
      "Test Accuracy: 79.5%\n"
     ]
    },
    {
     "data": {
      "application/vnd.jupyter.widget-view+json": {
       "model_id": "d6042f8069554ff7ae4870fc063c5f25",
       "version_major": 2,
       "version_minor": 0
      },
      "text/plain": [
       "Epoch   232:   0%|          | 0/79 [00:00<?, ?batch/s]"
      ]
     },
     "metadata": {},
     "output_type": "display_data"
    },
    {
     "name": "stdout",
     "output_type": "stream",
     "text": [
      "Test Accuracy: 79.23%\n"
     ]
    },
    {
     "data": {
      "application/vnd.jupyter.widget-view+json": {
       "model_id": "c84955c4bc034d0db876d8d044190d5d",
       "version_major": 2,
       "version_minor": 0
      },
      "text/plain": [
       "Epoch   233:   0%|          | 0/79 [00:00<?, ?batch/s]"
      ]
     },
     "metadata": {},
     "output_type": "display_data"
    },
    {
     "name": "stdout",
     "output_type": "stream",
     "text": [
      "Test Accuracy: 79.61%\n"
     ]
    },
    {
     "data": {
      "application/vnd.jupyter.widget-view+json": {
       "model_id": "6185e2ed726647d0a4440c1e499aed1c",
       "version_major": 2,
       "version_minor": 0
      },
      "text/plain": [
       "Epoch   234:   0%|          | 0/79 [00:00<?, ?batch/s]"
      ]
     },
     "metadata": {},
     "output_type": "display_data"
    },
    {
     "name": "stdout",
     "output_type": "stream",
     "text": [
      "Test Accuracy: 79.96%\n"
     ]
    },
    {
     "data": {
      "application/vnd.jupyter.widget-view+json": {
       "model_id": "a96b9ddad1be41c38760e591ce0da23a",
       "version_major": 2,
       "version_minor": 0
      },
      "text/plain": [
       "Epoch   235:   0%|          | 0/79 [00:00<?, ?batch/s]"
      ]
     },
     "metadata": {},
     "output_type": "display_data"
    },
    {
     "name": "stdout",
     "output_type": "stream",
     "text": [
      "Test Accuracy: 79.22%\n"
     ]
    },
    {
     "data": {
      "application/vnd.jupyter.widget-view+json": {
       "model_id": "4f92f4dfa5b74fb680e07daecfb00bfe",
       "version_major": 2,
       "version_minor": 0
      },
      "text/plain": [
       "Epoch   236:   0%|          | 0/79 [00:00<?, ?batch/s]"
      ]
     },
     "metadata": {},
     "output_type": "display_data"
    },
    {
     "name": "stdout",
     "output_type": "stream",
     "text": [
      "Test Accuracy: 79.6%\n"
     ]
    },
    {
     "data": {
      "application/vnd.jupyter.widget-view+json": {
       "model_id": "0de609ed0bcf494da455bdfd7fb8f5db",
       "version_major": 2,
       "version_minor": 0
      },
      "text/plain": [
       "Epoch   237:   0%|          | 0/79 [00:00<?, ?batch/s]"
      ]
     },
     "metadata": {},
     "output_type": "display_data"
    },
    {
     "name": "stdout",
     "output_type": "stream",
     "text": [
      "Test Accuracy: 79.45%\n"
     ]
    },
    {
     "data": {
      "application/vnd.jupyter.widget-view+json": {
       "model_id": "e1be6d871cbc40deb0538862ceb3bdc3",
       "version_major": 2,
       "version_minor": 0
      },
      "text/plain": [
       "Epoch   238:   0%|          | 0/79 [00:00<?, ?batch/s]"
      ]
     },
     "metadata": {},
     "output_type": "display_data"
    },
    {
     "name": "stdout",
     "output_type": "stream",
     "text": [
      "Test Accuracy: 79.73%\n"
     ]
    },
    {
     "data": {
      "application/vnd.jupyter.widget-view+json": {
       "model_id": "7e27cb71b05542939be79698bf53cbcd",
       "version_major": 2,
       "version_minor": 0
      },
      "text/plain": [
       "Epoch   239:   0%|          | 0/79 [00:00<?, ?batch/s]"
      ]
     },
     "metadata": {},
     "output_type": "display_data"
    },
    {
     "name": "stdout",
     "output_type": "stream",
     "text": [
      "Test Accuracy: 79.94%\n"
     ]
    },
    {
     "data": {
      "application/vnd.jupyter.widget-view+json": {
       "model_id": "796198c63d00441a862a76fdc2e4cfce",
       "version_major": 2,
       "version_minor": 0
      },
      "text/plain": [
       "Epoch   240:   0%|          | 0/79 [00:00<?, ?batch/s]"
      ]
     },
     "metadata": {},
     "output_type": "display_data"
    },
    {
     "name": "stdout",
     "output_type": "stream",
     "text": [
      "Test Accuracy: 80.05%\n"
     ]
    },
    {
     "data": {
      "application/vnd.jupyter.widget-view+json": {
       "model_id": "899b45c1bb6045c481807b936c983e92",
       "version_major": 2,
       "version_minor": 0
      },
      "text/plain": [
       "Epoch   241:   0%|          | 0/79 [00:00<?, ?batch/s]"
      ]
     },
     "metadata": {},
     "output_type": "display_data"
    },
    {
     "name": "stdout",
     "output_type": "stream",
     "text": [
      "Test Accuracy: 80.26%\n"
     ]
    },
    {
     "data": {
      "application/vnd.jupyter.widget-view+json": {
       "model_id": "87ce3ae8d3f1432e9b177f07e392eaf3",
       "version_major": 2,
       "version_minor": 0
      },
      "text/plain": [
       "Epoch   242:   0%|          | 0/79 [00:00<?, ?batch/s]"
      ]
     },
     "metadata": {},
     "output_type": "display_data"
    },
    {
     "name": "stdout",
     "output_type": "stream",
     "text": [
      "Test Accuracy: 79.9%\n"
     ]
    },
    {
     "data": {
      "application/vnd.jupyter.widget-view+json": {
       "model_id": "41e564b4d54f4071acfefe070f123b78",
       "version_major": 2,
       "version_minor": 0
      },
      "text/plain": [
       "Epoch   243:   0%|          | 0/79 [00:00<?, ?batch/s]"
      ]
     },
     "metadata": {},
     "output_type": "display_data"
    },
    {
     "name": "stdout",
     "output_type": "stream",
     "text": [
      "Test Accuracy: 79.76%\n"
     ]
    },
    {
     "data": {
      "application/vnd.jupyter.widget-view+json": {
       "model_id": "78acf23177704cc6a65bd0d87e5d35e2",
       "version_major": 2,
       "version_minor": 0
      },
      "text/plain": [
       "Epoch   244:   0%|          | 0/79 [00:00<?, ?batch/s]"
      ]
     },
     "metadata": {},
     "output_type": "display_data"
    },
    {
     "name": "stdout",
     "output_type": "stream",
     "text": [
      "Test Accuracy: 79.51%\n"
     ]
    },
    {
     "data": {
      "application/vnd.jupyter.widget-view+json": {
       "model_id": "4ed462320e5846b1a07a4803793db622",
       "version_major": 2,
       "version_minor": 0
      },
      "text/plain": [
       "Epoch   245:   0%|          | 0/79 [00:00<?, ?batch/s]"
      ]
     },
     "metadata": {},
     "output_type": "display_data"
    },
    {
     "name": "stdout",
     "output_type": "stream",
     "text": [
      "Test Accuracy: 80.11%\n"
     ]
    },
    {
     "data": {
      "application/vnd.jupyter.widget-view+json": {
       "model_id": "e48814fb8bd54f4ab319d11eea7950ad",
       "version_major": 2,
       "version_minor": 0
      },
      "text/plain": [
       "Epoch   246:   0%|          | 0/79 [00:00<?, ?batch/s]"
      ]
     },
     "metadata": {},
     "output_type": "display_data"
    },
    {
     "name": "stdout",
     "output_type": "stream",
     "text": [
      "Test Accuracy: 80.04%\n"
     ]
    },
    {
     "data": {
      "application/vnd.jupyter.widget-view+json": {
       "model_id": "f5de13642e1a44fcbdd6e0dd8bcd54e3",
       "version_major": 2,
       "version_minor": 0
      },
      "text/plain": [
       "Epoch   247:   0%|          | 0/79 [00:00<?, ?batch/s]"
      ]
     },
     "metadata": {},
     "output_type": "display_data"
    },
    {
     "name": "stdout",
     "output_type": "stream",
     "text": [
      "Test Accuracy: 80.1%\n"
     ]
    },
    {
     "data": {
      "application/vnd.jupyter.widget-view+json": {
       "model_id": "a21b97ea4ec24c33a5b9a76f7af3fe4f",
       "version_major": 2,
       "version_minor": 0
      },
      "text/plain": [
       "Epoch   248:   0%|          | 0/79 [00:00<?, ?batch/s]"
      ]
     },
     "metadata": {},
     "output_type": "display_data"
    },
    {
     "name": "stdout",
     "output_type": "stream",
     "text": [
      "Test Accuracy: 80.11%\n"
     ]
    },
    {
     "data": {
      "application/vnd.jupyter.widget-view+json": {
       "model_id": "07c4426b92264a09ae78616623332e25",
       "version_major": 2,
       "version_minor": 0
      },
      "text/plain": [
       "Epoch   249:   0%|          | 0/79 [00:00<?, ?batch/s]"
      ]
     },
     "metadata": {},
     "output_type": "display_data"
    },
    {
     "name": "stdout",
     "output_type": "stream",
     "text": [
      "Test Accuracy: 80.36%\n"
     ]
    },
    {
     "data": {
      "application/vnd.jupyter.widget-view+json": {
       "model_id": "1cb37132624c4d0abdba6556f7ff494a",
       "version_major": 2,
       "version_minor": 0
      },
      "text/plain": [
       "Epoch   250:   0%|          | 0/79 [00:00<?, ?batch/s]"
      ]
     },
     "metadata": {},
     "output_type": "display_data"
    },
    {
     "name": "stdout",
     "output_type": "stream",
     "text": [
      "Test Accuracy: 80.29%\n"
     ]
    },
    {
     "data": {
      "application/vnd.jupyter.widget-view+json": {
       "model_id": "6cc90e02d912495499ebc9283d5703ba",
       "version_major": 2,
       "version_minor": 0
      },
      "text/plain": [
       "Epoch   251:   0%|          | 0/79 [00:00<?, ?batch/s]"
      ]
     },
     "metadata": {},
     "output_type": "display_data"
    },
    {
     "name": "stdout",
     "output_type": "stream",
     "text": [
      "Test Accuracy: 79.62%\n"
     ]
    },
    {
     "data": {
      "application/vnd.jupyter.widget-view+json": {
       "model_id": "36c0fa399109430491e5a3b631440614",
       "version_major": 2,
       "version_minor": 0
      },
      "text/plain": [
       "Epoch   252:   0%|          | 0/79 [00:00<?, ?batch/s]"
      ]
     },
     "metadata": {},
     "output_type": "display_data"
    },
    {
     "name": "stdout",
     "output_type": "stream",
     "text": [
      "Test Accuracy: 79.82%\n"
     ]
    },
    {
     "data": {
      "application/vnd.jupyter.widget-view+json": {
       "model_id": "6e54867ffc9e4bd0877579a44315a093",
       "version_major": 2,
       "version_minor": 0
      },
      "text/plain": [
       "Epoch   253:   0%|          | 0/79 [00:00<?, ?batch/s]"
      ]
     },
     "metadata": {},
     "output_type": "display_data"
    },
    {
     "name": "stdout",
     "output_type": "stream",
     "text": [
      "Test Accuracy: 79.94%\n"
     ]
    },
    {
     "data": {
      "application/vnd.jupyter.widget-view+json": {
       "model_id": "fd1231c65483464b866d97d1501db9a7",
       "version_major": 2,
       "version_minor": 0
      },
      "text/plain": [
       "Epoch   254:   0%|          | 0/79 [00:00<?, ?batch/s]"
      ]
     },
     "metadata": {},
     "output_type": "display_data"
    },
    {
     "name": "stdout",
     "output_type": "stream",
     "text": [
      "Test Accuracy: 79.89%\n"
     ]
    },
    {
     "data": {
      "application/vnd.jupyter.widget-view+json": {
       "model_id": "3af7a08588434c3eb384e3999a04ceb2",
       "version_major": 2,
       "version_minor": 0
      },
      "text/plain": [
       "Epoch   255:   0%|          | 0/79 [00:00<?, ?batch/s]"
      ]
     },
     "metadata": {},
     "output_type": "display_data"
    },
    {
     "name": "stdout",
     "output_type": "stream",
     "text": [
      "Test Accuracy: 79.73%\n"
     ]
    },
    {
     "data": {
      "application/vnd.jupyter.widget-view+json": {
       "model_id": "405308061fd342d8bcdbec58e7e33c4d",
       "version_major": 2,
       "version_minor": 0
      },
      "text/plain": [
       "Epoch   256:   0%|          | 0/79 [00:00<?, ?batch/s]"
      ]
     },
     "metadata": {},
     "output_type": "display_data"
    },
    {
     "name": "stdout",
     "output_type": "stream",
     "text": [
      "Test Accuracy: 80.15%\n"
     ]
    },
    {
     "data": {
      "application/vnd.jupyter.widget-view+json": {
       "model_id": "94aa6cbefa5b4195a21a8788bc8f0051",
       "version_major": 2,
       "version_minor": 0
      },
      "text/plain": [
       "Epoch   257:   0%|          | 0/79 [00:00<?, ?batch/s]"
      ]
     },
     "metadata": {},
     "output_type": "display_data"
    },
    {
     "name": "stdout",
     "output_type": "stream",
     "text": [
      "Test Accuracy: 79.94%\n"
     ]
    },
    {
     "data": {
      "application/vnd.jupyter.widget-view+json": {
       "model_id": "b9a07f9eb8b44d86aea5a9927899ee72",
       "version_major": 2,
       "version_minor": 0
      },
      "text/plain": [
       "Epoch   258:   0%|          | 0/79 [00:00<?, ?batch/s]"
      ]
     },
     "metadata": {},
     "output_type": "display_data"
    },
    {
     "name": "stdout",
     "output_type": "stream",
     "text": [
      "Test Accuracy: 80.06%\n"
     ]
    },
    {
     "data": {
      "application/vnd.jupyter.widget-view+json": {
       "model_id": "99e85946a2a547e0acc281c15621905f",
       "version_major": 2,
       "version_minor": 0
      },
      "text/plain": [
       "Epoch   259:   0%|          | 0/79 [00:00<?, ?batch/s]"
      ]
     },
     "metadata": {},
     "output_type": "display_data"
    },
    {
     "name": "stdout",
     "output_type": "stream",
     "text": [
      "Test Accuracy: 79.82%\n"
     ]
    },
    {
     "data": {
      "application/vnd.jupyter.widget-view+json": {
       "model_id": "63208c0f437344e6b6d26f9768b55097",
       "version_major": 2,
       "version_minor": 0
      },
      "text/plain": [
       "Epoch   260:   0%|          | 0/79 [00:00<?, ?batch/s]"
      ]
     },
     "metadata": {},
     "output_type": "display_data"
    },
    {
     "name": "stdout",
     "output_type": "stream",
     "text": [
      "Test Accuracy: 80.16%\n"
     ]
    },
    {
     "data": {
      "application/vnd.jupyter.widget-view+json": {
       "model_id": "08cb260ed9d74925ac86b9b91ea33c41",
       "version_major": 2,
       "version_minor": 0
      },
      "text/plain": [
       "Epoch   261:   0%|          | 0/79 [00:00<?, ?batch/s]"
      ]
     },
     "metadata": {},
     "output_type": "display_data"
    },
    {
     "name": "stdout",
     "output_type": "stream",
     "text": [
      "Test Accuracy: 80.19%\n"
     ]
    },
    {
     "data": {
      "application/vnd.jupyter.widget-view+json": {
       "model_id": "2a26dc75b5bc49398c47503ba200167e",
       "version_major": 2,
       "version_minor": 0
      },
      "text/plain": [
       "Epoch   262:   0%|          | 0/79 [00:00<?, ?batch/s]"
      ]
     },
     "metadata": {},
     "output_type": "display_data"
    },
    {
     "name": "stdout",
     "output_type": "stream",
     "text": [
      "Test Accuracy: 80.15%\n"
     ]
    },
    {
     "data": {
      "application/vnd.jupyter.widget-view+json": {
       "model_id": "bb21f29b73c149f5ad73ed6ca488ce48",
       "version_major": 2,
       "version_minor": 0
      },
      "text/plain": [
       "Epoch   263:   0%|          | 0/79 [00:00<?, ?batch/s]"
      ]
     },
     "metadata": {},
     "output_type": "display_data"
    },
    {
     "name": "stdout",
     "output_type": "stream",
     "text": [
      "Test Accuracy: 80.08%\n"
     ]
    },
    {
     "data": {
      "application/vnd.jupyter.widget-view+json": {
       "model_id": "d68f90a6ea8448b89a45d0028d722f6c",
       "version_major": 2,
       "version_minor": 0
      },
      "text/plain": [
       "Epoch   264:   0%|          | 0/79 [00:00<?, ?batch/s]"
      ]
     },
     "metadata": {},
     "output_type": "display_data"
    },
    {
     "name": "stdout",
     "output_type": "stream",
     "text": [
      "Test Accuracy: 80.48%\n"
     ]
    },
    {
     "data": {
      "application/vnd.jupyter.widget-view+json": {
       "model_id": "f9150c0bd00f4b53b1dfd5f3f7e01d5a",
       "version_major": 2,
       "version_minor": 0
      },
      "text/plain": [
       "Epoch   265:   0%|          | 0/79 [00:00<?, ?batch/s]"
      ]
     },
     "metadata": {},
     "output_type": "display_data"
    },
    {
     "name": "stdout",
     "output_type": "stream",
     "text": [
      "Test Accuracy: 80.65%\n"
     ]
    },
    {
     "data": {
      "application/vnd.jupyter.widget-view+json": {
       "model_id": "5853460a01a74d52883ae4784a225b68",
       "version_major": 2,
       "version_minor": 0
      },
      "text/plain": [
       "Epoch   266:   0%|          | 0/79 [00:00<?, ?batch/s]"
      ]
     },
     "metadata": {},
     "output_type": "display_data"
    },
    {
     "name": "stdout",
     "output_type": "stream",
     "text": [
      "Test Accuracy: 80.49%\n"
     ]
    },
    {
     "data": {
      "application/vnd.jupyter.widget-view+json": {
       "model_id": "c729ed3178bc4a049537c26a6ead2769",
       "version_major": 2,
       "version_minor": 0
      },
      "text/plain": [
       "Epoch   267:   0%|          | 0/79 [00:00<?, ?batch/s]"
      ]
     },
     "metadata": {},
     "output_type": "display_data"
    },
    {
     "name": "stdout",
     "output_type": "stream",
     "text": [
      "Test Accuracy: 80.45%\n"
     ]
    },
    {
     "data": {
      "application/vnd.jupyter.widget-view+json": {
       "model_id": "2185bb4944764840affcca88bfc515c8",
       "version_major": 2,
       "version_minor": 0
      },
      "text/plain": [
       "Epoch   268:   0%|          | 0/79 [00:00<?, ?batch/s]"
      ]
     },
     "metadata": {},
     "output_type": "display_data"
    },
    {
     "name": "stdout",
     "output_type": "stream",
     "text": [
      "Test Accuracy: 80.08%\n"
     ]
    },
    {
     "data": {
      "application/vnd.jupyter.widget-view+json": {
       "model_id": "0b82672efe6340d6931de5ffa2af5f63",
       "version_major": 2,
       "version_minor": 0
      },
      "text/plain": [
       "Epoch   269:   0%|          | 0/79 [00:00<?, ?batch/s]"
      ]
     },
     "metadata": {},
     "output_type": "display_data"
    },
    {
     "name": "stdout",
     "output_type": "stream",
     "text": [
      "Test Accuracy: 80.13%\n"
     ]
    },
    {
     "data": {
      "application/vnd.jupyter.widget-view+json": {
       "model_id": "6e4b3e4c2ff146f6a4ccf0b423553850",
       "version_major": 2,
       "version_minor": 0
      },
      "text/plain": [
       "Epoch   270:   0%|          | 0/79 [00:00<?, ?batch/s]"
      ]
     },
     "metadata": {},
     "output_type": "display_data"
    },
    {
     "name": "stdout",
     "output_type": "stream",
     "text": [
      "Test Accuracy: 80.22%\n"
     ]
    },
    {
     "data": {
      "application/vnd.jupyter.widget-view+json": {
       "model_id": "9002bd1ca6c949c98db36a64d835b567",
       "version_major": 2,
       "version_minor": 0
      },
      "text/plain": [
       "Epoch   271:   0%|          | 0/79 [00:00<?, ?batch/s]"
      ]
     },
     "metadata": {},
     "output_type": "display_data"
    },
    {
     "name": "stdout",
     "output_type": "stream",
     "text": [
      "Test Accuracy: 80.51%\n"
     ]
    },
    {
     "data": {
      "application/vnd.jupyter.widget-view+json": {
       "model_id": "941b8929a0a84eb59306fd43598ac5be",
       "version_major": 2,
       "version_minor": 0
      },
      "text/plain": [
       "Epoch   272:   0%|          | 0/79 [00:00<?, ?batch/s]"
      ]
     },
     "metadata": {},
     "output_type": "display_data"
    },
    {
     "name": "stdout",
     "output_type": "stream",
     "text": [
      "Test Accuracy: 80.61%\n"
     ]
    },
    {
     "data": {
      "application/vnd.jupyter.widget-view+json": {
       "model_id": "beac100490744820b75cafc1798cd7ef",
       "version_major": 2,
       "version_minor": 0
      },
      "text/plain": [
       "Epoch   273:   0%|          | 0/79 [00:00<?, ?batch/s]"
      ]
     },
     "metadata": {},
     "output_type": "display_data"
    },
    {
     "name": "stdout",
     "output_type": "stream",
     "text": [
      "Test Accuracy: 80.5%\n"
     ]
    },
    {
     "data": {
      "application/vnd.jupyter.widget-view+json": {
       "model_id": "88202dc9322c4cdcae47d5eefbe88b47",
       "version_major": 2,
       "version_minor": 0
      },
      "text/plain": [
       "Epoch   274:   0%|          | 0/79 [00:00<?, ?batch/s]"
      ]
     },
     "metadata": {},
     "output_type": "display_data"
    },
    {
     "name": "stdout",
     "output_type": "stream",
     "text": [
      "Test Accuracy: 80.45%\n"
     ]
    },
    {
     "data": {
      "application/vnd.jupyter.widget-view+json": {
       "model_id": "f1fa4fdb2a75408693906265f2bbf642",
       "version_major": 2,
       "version_minor": 0
      },
      "text/plain": [
       "Epoch   275:   0%|          | 0/79 [00:00<?, ?batch/s]"
      ]
     },
     "metadata": {},
     "output_type": "display_data"
    },
    {
     "name": "stdout",
     "output_type": "stream",
     "text": [
      "Test Accuracy: 80.53%\n"
     ]
    },
    {
     "data": {
      "application/vnd.jupyter.widget-view+json": {
       "model_id": "7cb19304b1da4da696fc8ea6c715c67e",
       "version_major": 2,
       "version_minor": 0
      },
      "text/plain": [
       "Epoch   276:   0%|          | 0/79 [00:00<?, ?batch/s]"
      ]
     },
     "metadata": {},
     "output_type": "display_data"
    },
    {
     "name": "stdout",
     "output_type": "stream",
     "text": [
      "Test Accuracy: 80.56%\n"
     ]
    },
    {
     "data": {
      "application/vnd.jupyter.widget-view+json": {
       "model_id": "df0666733ac04ed1bb4d484827f6e33d",
       "version_major": 2,
       "version_minor": 0
      },
      "text/plain": [
       "Epoch   277:   0%|          | 0/79 [00:00<?, ?batch/s]"
      ]
     },
     "metadata": {},
     "output_type": "display_data"
    },
    {
     "name": "stdout",
     "output_type": "stream",
     "text": [
      "Test Accuracy: 80.5%\n"
     ]
    },
    {
     "data": {
      "application/vnd.jupyter.widget-view+json": {
       "model_id": "ae0354736f09492fb8216b3a5b48f20c",
       "version_major": 2,
       "version_minor": 0
      },
      "text/plain": [
       "Epoch   278:   0%|          | 0/79 [00:00<?, ?batch/s]"
      ]
     },
     "metadata": {},
     "output_type": "display_data"
    },
    {
     "name": "stdout",
     "output_type": "stream",
     "text": [
      "Test Accuracy: 80.41%\n"
     ]
    },
    {
     "data": {
      "application/vnd.jupyter.widget-view+json": {
       "model_id": "5f48eb64c45e4a4797335776da02e13c",
       "version_major": 2,
       "version_minor": 0
      },
      "text/plain": [
       "Epoch   279:   0%|          | 0/79 [00:00<?, ?batch/s]"
      ]
     },
     "metadata": {},
     "output_type": "display_data"
    },
    {
     "name": "stdout",
     "output_type": "stream",
     "text": [
      "Test Accuracy: 80.46%\n"
     ]
    },
    {
     "data": {
      "application/vnd.jupyter.widget-view+json": {
       "model_id": "dc4181325ce64471b99ee91dcaefbdcf",
       "version_major": 2,
       "version_minor": 0
      },
      "text/plain": [
       "Epoch   280:   0%|          | 0/79 [00:00<?, ?batch/s]"
      ]
     },
     "metadata": {},
     "output_type": "display_data"
    },
    {
     "name": "stdout",
     "output_type": "stream",
     "text": [
      "Test Accuracy: 80.49%\n"
     ]
    },
    {
     "data": {
      "application/vnd.jupyter.widget-view+json": {
       "model_id": "32a0e07f02154074867d0ddbab2fb179",
       "version_major": 2,
       "version_minor": 0
      },
      "text/plain": [
       "Epoch   281:   0%|          | 0/79 [00:00<?, ?batch/s]"
      ]
     },
     "metadata": {},
     "output_type": "display_data"
    },
    {
     "name": "stdout",
     "output_type": "stream",
     "text": [
      "Test Accuracy: 80.41%\n"
     ]
    },
    {
     "data": {
      "application/vnd.jupyter.widget-view+json": {
       "model_id": "cd8b11447ed3451584bd443e28e349c1",
       "version_major": 2,
       "version_minor": 0
      },
      "text/plain": [
       "Epoch   282:   0%|          | 0/79 [00:00<?, ?batch/s]"
      ]
     },
     "metadata": {},
     "output_type": "display_data"
    },
    {
     "name": "stdout",
     "output_type": "stream",
     "text": [
      "Test Accuracy: 80.58%\n"
     ]
    },
    {
     "data": {
      "application/vnd.jupyter.widget-view+json": {
       "model_id": "25fed49cebf844b0bf7603f4be4392c3",
       "version_major": 2,
       "version_minor": 0
      },
      "text/plain": [
       "Epoch   283:   0%|          | 0/79 [00:00<?, ?batch/s]"
      ]
     },
     "metadata": {},
     "output_type": "display_data"
    },
    {
     "name": "stdout",
     "output_type": "stream",
     "text": [
      "Test Accuracy: 80.37%\n"
     ]
    },
    {
     "data": {
      "application/vnd.jupyter.widget-view+json": {
       "model_id": "188d0c8778684b0aab845192eb68a875",
       "version_major": 2,
       "version_minor": 0
      },
      "text/plain": [
       "Epoch   284:   0%|          | 0/79 [00:00<?, ?batch/s]"
      ]
     },
     "metadata": {},
     "output_type": "display_data"
    },
    {
     "name": "stdout",
     "output_type": "stream",
     "text": [
      "Test Accuracy: 80.61%\n"
     ]
    },
    {
     "data": {
      "application/vnd.jupyter.widget-view+json": {
       "model_id": "6f898bfdb627427b8b4c59fbb09f1279",
       "version_major": 2,
       "version_minor": 0
      },
      "text/plain": [
       "Epoch   285:   0%|          | 0/79 [00:00<?, ?batch/s]"
      ]
     },
     "metadata": {},
     "output_type": "display_data"
    },
    {
     "name": "stdout",
     "output_type": "stream",
     "text": [
      "Test Accuracy: 80.53%\n"
     ]
    },
    {
     "data": {
      "application/vnd.jupyter.widget-view+json": {
       "model_id": "79749074be944ba69b8462d73a358ede",
       "version_major": 2,
       "version_minor": 0
      },
      "text/plain": [
       "Epoch   286:   0%|          | 0/79 [00:00<?, ?batch/s]"
      ]
     },
     "metadata": {},
     "output_type": "display_data"
    },
    {
     "name": "stdout",
     "output_type": "stream",
     "text": [
      "Test Accuracy: 80.35%\n"
     ]
    },
    {
     "data": {
      "application/vnd.jupyter.widget-view+json": {
       "model_id": "9e461430513c441e8846b1fc488ba895",
       "version_major": 2,
       "version_minor": 0
      },
      "text/plain": [
       "Epoch   287:   0%|          | 0/79 [00:00<?, ?batch/s]"
      ]
     },
     "metadata": {},
     "output_type": "display_data"
    },
    {
     "name": "stdout",
     "output_type": "stream",
     "text": [
      "Test Accuracy: 80.62%\n"
     ]
    },
    {
     "data": {
      "application/vnd.jupyter.widget-view+json": {
       "model_id": "e5ad6f3d015642f89e1ae92ee7066b9c",
       "version_major": 2,
       "version_minor": 0
      },
      "text/plain": [
       "Epoch   288:   0%|          | 0/79 [00:00<?, ?batch/s]"
      ]
     },
     "metadata": {},
     "output_type": "display_data"
    },
    {
     "name": "stdout",
     "output_type": "stream",
     "text": [
      "Test Accuracy: 80.55%\n"
     ]
    },
    {
     "data": {
      "application/vnd.jupyter.widget-view+json": {
       "model_id": "6e9625ea42f14505bcff867d96a42e80",
       "version_major": 2,
       "version_minor": 0
      },
      "text/plain": [
       "Epoch   289:   0%|          | 0/79 [00:00<?, ?batch/s]"
      ]
     },
     "metadata": {},
     "output_type": "display_data"
    },
    {
     "name": "stdout",
     "output_type": "stream",
     "text": [
      "Test Accuracy: 80.71%\n"
     ]
    },
    {
     "data": {
      "application/vnd.jupyter.widget-view+json": {
       "model_id": "d485a2cb79bd4f33aa2feb55c953dc29",
       "version_major": 2,
       "version_minor": 0
      },
      "text/plain": [
       "Epoch   290:   0%|          | 0/79 [00:00<?, ?batch/s]"
      ]
     },
     "metadata": {},
     "output_type": "display_data"
    },
    {
     "name": "stdout",
     "output_type": "stream",
     "text": [
      "Test Accuracy: 80.68%\n"
     ]
    },
    {
     "data": {
      "application/vnd.jupyter.widget-view+json": {
       "model_id": "18e41d20abfd45caa6d24f5b699b4f71",
       "version_major": 2,
       "version_minor": 0
      },
      "text/plain": [
       "Epoch   291:   0%|          | 0/79 [00:00<?, ?batch/s]"
      ]
     },
     "metadata": {},
     "output_type": "display_data"
    },
    {
     "name": "stdout",
     "output_type": "stream",
     "text": [
      "Test Accuracy: 80.6%\n"
     ]
    },
    {
     "data": {
      "application/vnd.jupyter.widget-view+json": {
       "model_id": "c95ce3c57b94436c9c76b086a1bf793e",
       "version_major": 2,
       "version_minor": 0
      },
      "text/plain": [
       "Epoch   292:   0%|          | 0/79 [00:00<?, ?batch/s]"
      ]
     },
     "metadata": {},
     "output_type": "display_data"
    },
    {
     "name": "stdout",
     "output_type": "stream",
     "text": [
      "Test Accuracy: 80.53%\n"
     ]
    },
    {
     "data": {
      "application/vnd.jupyter.widget-view+json": {
       "model_id": "b112c43fb4124b219c4f3c276e6c07aa",
       "version_major": 2,
       "version_minor": 0
      },
      "text/plain": [
       "Epoch   293:   0%|          | 0/79 [00:00<?, ?batch/s]"
      ]
     },
     "metadata": {},
     "output_type": "display_data"
    },
    {
     "name": "stdout",
     "output_type": "stream",
     "text": [
      "Test Accuracy: 80.61%\n"
     ]
    },
    {
     "data": {
      "application/vnd.jupyter.widget-view+json": {
       "model_id": "e6a1c60076df418094eee196dc81adc5",
       "version_major": 2,
       "version_minor": 0
      },
      "text/plain": [
       "Epoch   294:   0%|          | 0/79 [00:00<?, ?batch/s]"
      ]
     },
     "metadata": {},
     "output_type": "display_data"
    },
    {
     "name": "stdout",
     "output_type": "stream",
     "text": [
      "Test Accuracy: 80.62%\n"
     ]
    },
    {
     "data": {
      "application/vnd.jupyter.widget-view+json": {
       "model_id": "1a754d54e20a4a898596cf35f491ba4c",
       "version_major": 2,
       "version_minor": 0
      },
      "text/plain": [
       "Epoch   295:   0%|          | 0/79 [00:00<?, ?batch/s]"
      ]
     },
     "metadata": {},
     "output_type": "display_data"
    },
    {
     "name": "stdout",
     "output_type": "stream",
     "text": [
      "Test Accuracy: 80.64%\n"
     ]
    },
    {
     "data": {
      "application/vnd.jupyter.widget-view+json": {
       "model_id": "3eefa145d9a347e5b528d485250028f9",
       "version_major": 2,
       "version_minor": 0
      },
      "text/plain": [
       "Epoch   296:   0%|          | 0/79 [00:00<?, ?batch/s]"
      ]
     },
     "metadata": {},
     "output_type": "display_data"
    },
    {
     "name": "stdout",
     "output_type": "stream",
     "text": [
      "Test Accuracy: 80.66%\n"
     ]
    },
    {
     "data": {
      "application/vnd.jupyter.widget-view+json": {
       "model_id": "8d3a341a09164917bd9ce1898b287939",
       "version_major": 2,
       "version_minor": 0
      },
      "text/plain": [
       "Epoch   297:   0%|          | 0/79 [00:00<?, ?batch/s]"
      ]
     },
     "metadata": {},
     "output_type": "display_data"
    },
    {
     "name": "stdout",
     "output_type": "stream",
     "text": [
      "Test Accuracy: 80.64%\n"
     ]
    },
    {
     "data": {
      "application/vnd.jupyter.widget-view+json": {
       "model_id": "ab450fd85ea643d2b0f3061482cdde0b",
       "version_major": 2,
       "version_minor": 0
      },
      "text/plain": [
       "Epoch   298:   0%|          | 0/79 [00:00<?, ?batch/s]"
      ]
     },
     "metadata": {},
     "output_type": "display_data"
    },
    {
     "name": "stdout",
     "output_type": "stream",
     "text": [
      "Test Accuracy: 80.64%\n"
     ]
    },
    {
     "data": {
      "application/vnd.jupyter.widget-view+json": {
       "model_id": "452db0291d3c426389da7f983ea3c083",
       "version_major": 2,
       "version_minor": 0
      },
      "text/plain": [
       "Epoch   299:   0%|          | 0/79 [00:00<?, ?batch/s]"
      ]
     },
     "metadata": {},
     "output_type": "display_data"
    },
    {
     "name": "stdout",
     "output_type": "stream",
     "text": [
      "Test Accuracy: 80.64%\n"
     ]
    }
   ],
   "source": [
    "print(\"Start training\")\n",
    "\n",
    "train_losses = []\n",
    "test_losses = []\n",
    "train_accuracies = []\n",
    "test_accuracies = []\n",
    "\n",
    "for epoch in range(EPOCHS):\n",
    "    model.train()\n",
    "    running_loss = 0.0\n",
    "    correct = 0\n",
    "    total = 0\n",
    "    running_n_unlabeled = 0\n",
    "    running_accuracy = 0\n",
    "\n",
    "\n",
    "    pbar = tqdm(zip(labeled_dataloader, unlabeled_dataloader), total=min(len(labeled_dataloader), len(unlabeled_dataloader)), unit=\"batch\", desc=f\"Epoch {epoch: >5}\")\n",
    "\n",
    "    for i, (labeled_data, unlabeled_data) in enumerate(pbar):\n",
    "        # Get labeled and unlabeled data\n",
    "        labeled_inputs, labels = labeled_data[0].to(device), labeled_data[1].to(device)\n",
    "        unlabeled_inputs, _ = unlabeled_data[0].to(device), unlabeled_data[1].to(device)\n",
    "        \n",
    "        # Zero the parameter gradients\n",
    "        optimizer.zero_grad()\n",
    "\n",
    "        # Apply weak augmentation to labeled data\n",
    "        weak_labeled_inputs = weak_transform(labeled_inputs)\n",
    "\n",
    "        # Apply strong augmentation + weak augmentation to unlabeled data\n",
    "        weak_unlabeled_inputs = weak_transform(unlabeled_inputs)\n",
    "        strong_unlabeled_inputs = strong_transform(unlabeled_inputs)\n",
    "\n",
    "        # Compute mask, confidence\n",
    "        pseudo_labels, idx, max_qb = mask(model, weak_unlabeled_inputs)\n",
    "        strong_unlabeled_inputs = strong_unlabeled_inputs[idx]\n",
    "\n",
    "        n_labeled, n_unlabeled = weak_labeled_inputs.size(0), strong_unlabeled_inputs.size(0)\n",
    "\n",
    "        if n_unlabeled != 0:\n",
    "            # Concatenate labeled and unlabeled data\n",
    "            inputs_all = torch.cat((weak_labeled_inputs, strong_unlabeled_inputs))\n",
    "            labels_all = torch.cat((labels, pseudo_labels))\n",
    "\n",
    "            # forward pass\n",
    "            outputs = model(inputs_all)\n",
    "            # outputs = torch.softmax(outputs, dim=1)\n",
    "\n",
    "            # split labeled and unlabeled outputs\n",
    "            labeled_outputs, unlabeled_outputs = outputs[:n_labeled], outputs[n_labeled:]\n",
    "\n",
    "            # compute losses\n",
    "            labeled_loss = torch.sum(labeled_criterion(labeled_outputs, labels)) / BATCH_SIZE\n",
    "            unlabeled_loss = torch.sum(unlabeled_criterion(unlabeled_outputs, pseudo_labels)) / (MU * BATCH_SIZE)\n",
    "\n",
    "            # compute total loss\n",
    "            loss = labeled_loss + LAMBDA_U * unlabeled_loss\n",
    "\n",
    "            # compute accuracy\n",
    "            total += labels_all.size(0)\n",
    "            correct += (outputs.argmax(dim=1) == labels_all).sum().item()\n",
    "            \n",
    "        else:\n",
    "            # forward pass\n",
    "            labeled_outputs = model(weak_labeled_inputs)\n",
    "            # labeled_outputs = torch.softmax(labeled_outputs, dim=1)\n",
    "\n",
    "            # compute loss\n",
    "            labeled_loss = torch.sum(labeled_criterion(labeled_outputs, labels)) / BATCH_SIZE\n",
    "            unlabeled_loss = torch.tensor(0, device=device)\n",
    "\n",
    "            # compute total loss\n",
    "            loss = labeled_loss + LAMBDA_U * unlabeled_loss\n",
    "\n",
    "            # compute accuracy\n",
    "            total += labels.size(0)\n",
    "            correct += (labeled_outputs.argmax(dim=1) == labels).sum().item()\n",
    "\n",
    "\n",
    "        # backward pass + optimize\n",
    "        loss.backward()\n",
    "        optimizer.step()\n",
    "\n",
    "        \n",
    "\n",
    "        # update statistics\n",
    "        running_loss += loss.item()\n",
    "        running_n_unlabeled += n_unlabeled\n",
    "        running_accuracy += 100 * correct / total\n",
    "\n",
    "        # update progress bar\n",
    "        pbar.set_postfix({\n",
    "            \"total loss\": loss.item(),\n",
    "            \"labeled loss\": labeled_loss.item(),\n",
    "            \"unlabeled loss\": unlabeled_loss.item(),\n",
    "            \"accuracy\": 100 * correct / total,\n",
    "            \"confidence\": torch.mean(max_qb).item(),\n",
    "            \"n_unlabeled\": running_n_unlabeled,\n",
    "            \"lr\": optimizer.param_groups[0]['lr']\n",
    "        })\n",
    "\n",
    "    # update loss\n",
    "    train_losses.append(running_loss / (i + 1))\n",
    "    train_accuracies.append(running_accuracy / (i + 1))\n",
    "\n",
    "    # scheduler step\n",
    "    if scheduler is not None:\n",
    "        scheduler.step()\n",
    "\n",
    "    \n",
    "    # Evaluate the model on the test set\n",
    "    model.eval()  # Set the model to evaluation mode\n",
    "    test_correct = 0\n",
    "    test_total = 0\n",
    "\n",
    "    with torch.no_grad():\n",
    "        for data in testloader:\n",
    "            images, labels = data[0].to(device), data[1].to(device)\n",
    "            # normalize\n",
    "            images = normalize(data=images, mean=mean, std=std)\n",
    "            \n",
    "            outputs = model(images)\n",
    "            _, predicted = outputs.max(1)\n",
    "            test_total += labels.size(0)\n",
    "            test_correct += predicted.eq(labels).sum().item()\n",
    "        \n",
    "        test_accuracy = 100.0 * test_correct / test_total\n",
    "        print(f'Test Accuracy: {test_accuracy}%')\n",
    "\n",
    "        # update loss\n",
    "        test_losses.append(torch.sum(labeled_criterion(outputs, labels)).item() / BATCH_SIZE)\n",
    "        test_accuracies.append(test_accuracy)\n"
   ]
  },
  {
   "cell_type": "code",
   "execution_count": 17,
   "metadata": {},
   "outputs": [
    {
     "data": {
      "image/png": "[encoded data removed]",
      "text/plain": [
       "<Figure size 1500x500 with 2 Axes>"
      ]
     },
     "metadata": {},
     "output_type": "display_data"
    }
   ],
   "source": [
    "# plot losses and accuracies\n",
    "fig, (ax1, ax2) = plt.subplots(1, 2, figsize=(15, 5))\n",
    "\n",
    "ax1.plot(train_losses, label=\"train\")\n",
    "ax1.plot(test_losses, label=\"test\")\n",
    "ax1.set_title(\"Loss\")\n",
    "\n",
    "ax2.plot(train_accuracies, label=\"train\")\n",
    "ax2.plot(test_accuracies, label=\"test\")\n",
    "ax2.set_title(\"Accuracy\")\n",
    "\n",
    "plt.legend()\n",
    "plt.show()\n",
    "\n",
    "# save plot\n",
    "fig.savefig(f\"figures/unsup_GC_10_losses_accuracies.png\")"
   ]
  },
  {
   "cell_type": "code",
   "execution_count": 18,
   "metadata": {},
   "outputs": [
    {
     "data": {
      "image/png": "[encoded data removed]",
      "text/plain": [
       "<Figure size 1000x1000 with 2 Axes>"
      ]
     },
     "metadata": {},
     "output_type": "display_data"
    }
   ],
   "source": [
    "# plot confusion matrix\n",
    "model.eval()  # Set the model to evaluation mode\n",
    "test_correct = 0\n",
    "test_total = 0\n",
    "y_true = []\n",
    "y_pred = []\n",
    "\n",
    "with torch.no_grad():\n",
    "    for data in testloader:\n",
    "        images, labels = data[0].to(device), data[1].to(device)\n",
    "        # normalize\n",
    "        images = normalize(data=images, mean=mean, std=std)\n",
    "        \n",
    "        outputs = model(images)\n",
    "        _, predicted = outputs.max(1)\n",
    "        test_total += labels.size(0)\n",
    "        test_correct += predicted.eq(labels).sum().item()\n",
    "\n",
    "        y_true.append(labels.cpu().numpy())\n",
    "        y_pred.append(predicted.cpu().numpy())\n",
    "    \n",
    "    y_true = np.concatenate(y_true)\n",
    "    y_pred = np.concatenate(y_pred)\n",
    "\n",
    "    fig, ax = plt.subplots(figsize=(10, 10))\n",
    "    cm = confusion_matrix(y_true, y_pred, normalize='true')\n",
    "    disp = ConfusionMatrixDisplay(confusion_matrix=cm, display_labels=classes)\n",
    "    disp.plot(ax=ax)\n",
    "    plt.tight_layout()\n",
    "    plt.show()\n",
    "\n",
    "    # save plot\n",
    "    fig.savefig(f\"figures/unsup_GC_10_confusion_matrix.png\")"
   ]
  },
  {
   "cell_type": "code",
   "execution_count": 19,
   "metadata": {},
   "outputs": [
    {
     "name": "stdout",
     "output_type": "stream",
     "text": [
      "Test Accuracy: 80.64%\n"
     ]
    },
    {
     "data": {
      "image/png": "[encoded data removed]",
      "text/plain": [
       "<Figure size 1000x1000 with 16 Axes>"
      ]
     },
     "metadata": {},
     "output_type": "display_data"
    }
   ],
   "source": [
    "# Evaluation on the test set\n",
    "model.eval()  # Set the model to evaluation mode\n",
    "test_correct = 0\n",
    "test_total = 0\n",
    "\n",
    "with torch.no_grad():\n",
    "    for data in testloader:\n",
    "        images, labels = data[0].to(device), data[1].to(device)\n",
    "        # normalize\n",
    "        images = normalize(data=images, mean=mean, std=std)\n",
    "        \n",
    "        outputs = model(images)\n",
    "        \n",
    "        _, predicted = outputs.max(1)\n",
    "        test_total += labels.size(0)\n",
    "        test_correct += predicted.eq(labels).sum().item()\n",
    "\n",
    "test_accuracy = 100.0 * test_correct / test_total\n",
    "print(f'Test Accuracy: {test_accuracy}%')\n",
    "\n",
    "# save the model\n",
    "torch.save(model.state_dict(), f\"{torch_models}/model_10_fixmatch_GC.pth\")\n",
    "\n",
    "test_image, test_labels = testloader.__iter__().__next__()\n",
    "test_image = test_image.to(device)\n",
    "outputs_test = model(test_image)\n",
    "label_pred_test = outputs_test.argmax(dim=1)\n",
    "\n",
    "# descale the images\n",
    "test_image = test_image#  * torch.tensor(std, device=device).view(1, 3, 1, 1) + torch.tensor(mean, device=device).view(1, 3, 1, 1)\n",
    "\n",
    "fig1 = plot_images(test_image, test_labels, label_pred_test, classes, figure_name=f\"Test score with Fixmatch - {int(SUBSET_PROP*100)}% - {test_accuracy:.2f}% - Distribution Alignment\")\n",
    "fig1.savefig(f\"./figures/test_score_10_fixmatch_GC.png\")"
   ]
  },
  {
   "attachments": {},
   "cell_type": "markdown",
   "metadata": {},
   "source": [
    "### IV.2 Fixmatch on 5% train data - Data Alignment"
   ]
  },
  {
   "cell_type": "code",
   "execution_count": null,
   "metadata": {},
   "outputs": [],
   "source": [
    "# Define your dataset and dataloaders for labeled and unlabeled data\n",
    "seedEverything()\n",
    "\n",
    "EPOCHS = 200\n",
    "SUBSET_PROP = 0.05\n",
    "CIFAR10_class_distribution = 0.10\n",
    "\n",
    "# 10% labeled data and 100% unlabeled (see note 2 in paper)\n",
    "trainset_sup, _ = torch.utils.data.random_split(trainset, [SUBSET_PROP, 1-SUBSET_PROP])\n",
    "\n",
    "trainset_unsup, _ = torch.utils.data.random_split(trainset, [1, 0])\n",
    "\n",
    "labeled_dataloader = DataLoader(\n",
    "    trainset_sup,\n",
    "    batch_size=BATCH_SIZE,\n",
    "    shuffle=True,\n",
    "    num_workers=0\n",
    ")\n",
    "\n",
    "unlabeled_dataloader = DataLoader(\n",
    "    trainset_unsup,\n",
    "    batch_size=MU*BATCH_SIZE,\n",
    "    shuffle=True,\n",
    "    num_workers=0\n",
    ")\n",
    "\n",
    "# transformations\n",
    "weak_transform = transforms.Compose([\n",
    "    transforms.RandomHorizontalFlip(p=0.5),\n",
    "    transforms.RandomAffine(degrees=0, translate=(0.125, 0.125)),\n",
    "    # transforms.ToTensor(),\n",
    "    transforms.Normalize(mean, std),\n",
    "])\n",
    "\n",
    "strong_transform = transforms.Compose([\n",
    "    # transforms.RandomHorizontalFlip(p=0.5),\n",
    "    # transforms.RandomAffine(degrees=10, translate=(0.125, 0.125)),\n",
    "    # transforms.RandAugment(num_ops=2, magnitude=10),\n",
    "    RandAugmentMC(n=2, m=10),\n",
    "    # transforms.ToTensor(),\n",
    "    transforms.Normalize(mean, std)\n",
    "])\n",
    "\n",
    "model = ConvNN().to(device)\n",
    "\n",
    "# criterion and optimizer\n",
    "labeled_criterion = nn.CrossEntropyLoss(reduction='none')\n",
    "unlabeled_criterion = nn.CrossEntropyLoss(reduction='none')\n",
    "\n",
    "optimizer = torch.optim.SGD(model.parameters(), lr=LR, momentum=BETA, weight_decay=WEIGHT_DECAY, nesterov=True)\n",
    "scheduler = torch.optim.lr_scheduler.CosineAnnealingLR(optimizer, T_max=EPOCHS)"
   ]
  },
  {
   "cell_type": "code",
   "execution_count": null,
   "metadata": {},
   "outputs": [],
   "source": [
    "print(\"Start training\")\n",
    "\n",
    "train_losses = []\n",
    "test_losses = []\n",
    "train_accuracies = []\n",
    "test_accuracies = []\n",
    "\n",
    "for epoch in range(EPOCHS):\n",
    "    model.train()\n",
    "    running_loss = 0.0\n",
    "    correct = 0\n",
    "    total = 0\n",
    "    running_n_unlabeled = 0\n",
    "    running_accuracy = 0\n",
    "    moving_avg_pred_labeled = 0\n",
    "    moving_avg_pred_unlabeled = 0\n",
    "\n",
    "\n",
    "    pbar = tqdm(zip(labeled_dataloader, unlabeled_dataloader), total=min(len(labeled_dataloader), len(unlabeled_dataloader)), unit=\"batch\", desc=f\"Epoch {epoch: >5}\")\n",
    "\n",
    "    for i, (labeled_data, unlabeled_data) in enumerate(pbar):\n",
    "        # Get labeled and unlabeled data\n",
    "        labeled_inputs, labels = labeled_data[0].to(device), labeled_data[1].to(device)\n",
    "        unlabeled_inputs, _ = unlabeled_data[0].to(device), unlabeled_data[1].to(device)\n",
    "        \n",
    "        # Zero the parameter gradients\n",
    "        optimizer.zero_grad()\n",
    "\n",
    "        # normalize labeled and unlabeled inputs\n",
    "        labeled_inputs_norm, unlabeled_inputs_norm = normalize(labeled_inputs, mean, std), normalize(unlabeled_inputs, mean, std)\n",
    "\n",
    "        # labeled_outputs_norm = model(labeled_inputs_norm)\n",
    "        unlabeled_outputs_norm = model(unlabeled_inputs_norm)\n",
    "\n",
    "        # Compute moving average of labeled and unlabeled predictions\n",
    "        # moving_avg_pred_labeled = (i * moving_avg_pred_labeled + labeled_outputs_norm.shape[0]) / (i + 1)\n",
    "        moving_avg_pred_unlabeled = (i * moving_avg_pred_unlabeled + unlabeled_outputs_norm.shape[0]) / (i + 1)\n",
    "\n",
    "        # ratio\n",
    "        ratio = CIFAR10_class_distribution / moving_avg_pred_unlabeled\n",
    "        # model.train()\n",
    "\n",
    "        # Apply weak augmentation to labeled data\n",
    "        weak_labeled_inputs = weak_transform(labeled_inputs)\n",
    "\n",
    "        # Apply strong augmentation + weak augmentation to unlabeled data\n",
    "        weak_unlabeled_inputs = weak_transform(unlabeled_inputs)\n",
    "        strong_unlabeled_inputs = strong_transform(unlabeled_inputs)\n",
    "\n",
    "        # prediction on weak augmented unlabeled data\n",
    "        qb = model(weak_unlabeled_inputs)\n",
    "        qb = torch.softmax(qb, dim=1)\n",
    "        qb_norm = qb * ratio\n",
    "\n",
    "        # normalize\n",
    "        qb_tilde = qb_norm / torch.sum(qb_norm, dim=1, keepdim=True)\n",
    "\n",
    "        # compute mask\n",
    "        max_qb_tilde, qb_tilde_hat = torch.max(qb_tilde, dim=1)\n",
    "        idx = max_qb_tilde > TAU\n",
    "\n",
    "        # pseudo labels\n",
    "        pseudo_labels = qb_tilde_hat[idx]\n",
    "\n",
    "        # mask strong augmented unlabeled data\n",
    "        strong_unlabeled_inputs = strong_unlabeled_inputs[idx]\n",
    "\n",
    "        n_labeled, n_unlabeled = weak_labeled_inputs.size(0), strong_unlabeled_inputs.size(0)\n",
    "\n",
    "        if n_unlabeled != 0:\n",
    "            # Concatenate labeled and unlabeled data\n",
    "            inputs_all = torch.cat((weak_labeled_inputs, strong_unlabeled_inputs))\n",
    "            labels_all = torch.cat((labels, pseudo_labels))\n",
    "\n",
    "            # forward pass\n",
    "            outputs = model(inputs_all)\n",
    "            # outputs = torch.softmax(outputs, dim=1)\n",
    "\n",
    "            # split labeled and unlabeled outputs\n",
    "            labeled_outputs, unlabeled_outputs = outputs[:n_labeled], outputs[n_labeled:]\n",
    "\n",
    "            # compute losses\n",
    "            labeled_loss = torch.sum(labeled_criterion(labeled_outputs, labels)) / BATCH_SIZE\n",
    "            unlabeled_loss = torch.sum(unlabeled_criterion(unlabeled_outputs, pseudo_labels)) / (MU * BATCH_SIZE)\n",
    "\n",
    "            # compute total loss\n",
    "            loss = labeled_loss + LAMBDA_U * unlabeled_loss\n",
    "\n",
    "            # compute accuracy\n",
    "            total += labels_all.size(0)\n",
    "            correct += (outputs.argmax(dim=1) == labels_all).sum().item()\n",
    "            \n",
    "        else:\n",
    "            # forward pass\n",
    "            labeled_outputs = model(weak_labeled_inputs)\n",
    "            # labeled_outputs = torch.softmax(labeled_outputs, dim=1)\n",
    "\n",
    "            # compute loss\n",
    "            labeled_loss = torch.sum(labeled_criterion(labeled_outputs, labels)) / BATCH_SIZE\n",
    "            unlabeled_loss = torch.tensor(0, device=device)\n",
    "\n",
    "            # compute total loss\n",
    "            loss = labeled_loss + LAMBDA_U * unlabeled_loss\n",
    "\n",
    "            # compute accuracy\n",
    "            total += labels.size(0)\n",
    "            correct += (labeled_outputs.argmax(dim=1) == labels).sum().item()\n",
    "\n",
    "\n",
    "        # backward pass + optimize\n",
    "        loss.backward()\n",
    "        optimizer.step()\n",
    "\n",
    "        \n",
    "\n",
    "        # update statistics\n",
    "        running_loss += loss.item()\n",
    "        running_n_unlabeled += n_unlabeled\n",
    "        running_accuracy += 100 * correct / total\n",
    "\n",
    "        \n",
    "\n",
    "        # update progress bar\n",
    "        pbar.set_postfix({\n",
    "            \"labeled loss\": labeled_loss.item(),\n",
    "            \"unlabeled loss\": unlabeled_loss.item(),\n",
    "            \"accuracy\": 100 * correct / total,\n",
    "            \"avg confidence\": torch.mean(max_qb_tilde).item(),\n",
    "            \"n_unlabeled\": running_n_unlabeled,\n",
    "            \"lr\": optimizer.param_groups[0]['lr']\n",
    "        })\n",
    "\n",
    "    # update loss\n",
    "    train_losses.append(running_loss / (i + 1))\n",
    "    train_accuracies.append(running_accuracy / (i + 1))\n",
    "\n",
    "    # scheduler step\n",
    "    if scheduler is not None:\n",
    "        scheduler.step()\n",
    "\n",
    "    \n",
    "    # Evaluate the model on the test set\n",
    "    model.eval()  # Set the model to evaluation mode\n",
    "    test_correct = 0\n",
    "    test_total = 0\n",
    "\n",
    "    with torch.no_grad():\n",
    "        for data in testloader:\n",
    "            images, labels = data[0].to(device), data[1].to(device)\n",
    "            # normalize\n",
    "            images = normalize(data=images, mean=mean, std=std)\n",
    "            \n",
    "            outputs = model(images)\n",
    "            _, predicted = outputs.max(1)\n",
    "            test_total += labels.size(0)\n",
    "            test_correct += predicted.eq(labels).sum().item()\n",
    "        \n",
    "        test_accuracy = 100.0 * test_correct / test_total\n",
    "        print(f'Test Accuracy: {test_accuracy}%')\n",
    "\n",
    "        # update loss\n",
    "        test_losses.append(torch.sum(labeled_criterion(outputs, labels)).item() / BATCH_SIZE)\n",
    "        test_accuracies.append(test_accuracy)"
   ]
  },
  {
   "cell_type": "code",
   "execution_count": null,
   "metadata": {},
   "outputs": [],
   "source": [
    "# plot losses and accuracies\n",
    "fig, (ax1, ax2) = plt.subplots(1, 2, figsize=(15, 5))\n",
    "\n",
    "ax1.plot(train_losses, label=\"train\")\n",
    "ax1.plot(test_losses, label=\"test\")\n",
    "ax1.set_title(\"Loss\")\n",
    "\n",
    "ax2.plot(train_accuracies, label=\"train\")\n",
    "ax2.plot(test_accuracies, label=\"test\")\n",
    "ax2.set_title(\"Accuracy\")\n",
    "\n",
    "plt.legend()\n",
    "plt.show()\n",
    "\n",
    "# save plot\n",
    "fig.savefig(f\"figures/unsup_DA_5_losses_accuracies.png\")"
   ]
  },
  {
   "cell_type": "code",
   "execution_count": null,
   "metadata": {},
   "outputs": [],
   "source": [
    "# plot confusion matrix\n",
    "model.eval()  # Set the model to evaluation mode\n",
    "test_correct = 0\n",
    "test_total = 0\n",
    "y_true = []\n",
    "y_pred = []\n",
    "\n",
    "with torch.no_grad():\n",
    "    for data in testloader:\n",
    "        images, labels = data[0].to(device), data[1].to(device)\n",
    "        # normalize\n",
    "        images = normalize(data=images, mean=mean, std=std)\n",
    "        \n",
    "        outputs = model(images)\n",
    "        _, predicted = outputs.max(1)\n",
    "        test_total += labels.size(0)\n",
    "        test_correct += predicted.eq(labels).sum().item()\n",
    "\n",
    "        y_true.append(labels.cpu().numpy())\n",
    "        y_pred.append(predicted.cpu().numpy())\n",
    "    \n",
    "    y_true = np.concatenate(y_true)\n",
    "    y_pred = np.concatenate(y_pred)\n",
    "\n",
    "    fig, ax = plt.subplots(figsize=(10, 10))\n",
    "    cm = confusion_matrix(y_true, y_pred, normalize='true')\n",
    "    disp = ConfusionMatrixDisplay(confusion_matrix=cm, display_labels=classes)\n",
    "    disp.plot(ax=ax)\n",
    "    plt.tight_layout()\n",
    "    plt.show()\n",
    "\n",
    "    # save plot\n",
    "    fig.savefig(f\"figures/unsup_DA_5_confusion_matrix.png\")"
   ]
  },
  {
   "cell_type": "code",
   "execution_count": null,
   "metadata": {},
   "outputs": [],
   "source": [
    "# Evaluation on the test set\n",
    "model.eval()  # Set the model to evaluation mode\n",
    "test_correct = 0\n",
    "test_total = 0\n",
    "\n",
    "with torch.no_grad():\n",
    "    for data in testloader:\n",
    "        images, labels = data[0].to(device), data[1].to(device)\n",
    "        # normalize\n",
    "        images = normalize(data=images, mean=mean, std=std)\n",
    "        \n",
    "        outputs = model(images)\n",
    "        _, predicted = outputs.max(1)\n",
    "        test_total += labels.size(0)\n",
    "        test_correct += predicted.eq(labels).sum().item()\n",
    "\n",
    "test_accuracy = 100.0 * test_correct / test_total\n",
    "print(f'Test Accuracy: {test_accuracy}%')\n",
    "\n",
    "# save the model\n",
    "torch.save(model.state_dict(), f\"{torch_models}/model_5_fixmatch_DA.pth\")\n",
    "\n",
    "test_image, test_labels = testloader.__iter__().__next__()\n",
    "test_image = test_image.to(device)\n",
    "outputs_test = model(test_image)\n",
    "label_pred_test = outputs_test.argmax(dim=1)\n",
    "\n",
    "# descale the images\n",
    "test_image = test_image#  * torch.tensor(std, device=device).view(1, 3, 1, 1) + torch.tensor(mean, device=device).view(1, 3, 1, 1)\n",
    "\n",
    "fig1 = plot_images(test_image, test_labels, label_pred_test, classes, figure_name=f\"Test score with Fixmatch - {int(SUBSET_PROP*100)}% - {test_accuracy:.2f}% - Data Alignment\")\n",
    "fig1.savefig(f\"./figures/test_score_5_fixmatch_DA.png\")"
   ]
  },
  {
   "attachments": {},
   "cell_type": "markdown",
   "metadata": {},
   "source": [
    "### IV.3 Fixmatch on 1% train data - Data Alignment"
   ]
  },
  {
   "cell_type": "code",
   "execution_count": null,
   "metadata": {},
   "outputs": [],
   "source": [
    "# Define your dataset and dataloaders for labeled and unlabeled data\n",
    "seedEverything()\n",
    "\n",
    "EPOCHS = 300\n",
    "SUBSET_PROP = 0.01\n",
    "CIFAR10_class_distribution = 0.10 \n",
    "\n",
    "# 10% labeled data and 100% unlabeled (see note 2 in paper)\n",
    "trainset_sup, _ = torch.utils.data.random_split(trainset, [SUBSET_PROP, 1-SUBSET_PROP])\n",
    "\n",
    "trainset_unsup, _ = torch.utils.data.random_split(trainset, [1, 0])\n",
    "\n",
    "labeled_dataloader = DataLoader(\n",
    "    trainset_sup,\n",
    "    batch_size=BATCH_SIZE,\n",
    "    shuffle=True,\n",
    "    num_workers=0\n",
    ")\n",
    "\n",
    "unlabeled_dataloader = DataLoader(\n",
    "    trainset_unsup,\n",
    "    batch_size=MU*BATCH_SIZE,\n",
    "    shuffle=True,\n",
    "    num_workers=0\n",
    ")\n",
    "\n",
    "# transformations\n",
    "weak_transform = transforms.Compose([\n",
    "    transforms.RandomHorizontalFlip(p=0.5),\n",
    "    transforms.RandomAffine(degrees=0, translate=(0.125, 0.125)),\n",
    "    # transforms.ToTensor(),\n",
    "    transforms.Normalize(mean, std),\n",
    "])\n",
    "\n",
    "strong_transform = transforms.Compose([\n",
    "    # transforms.RandomHorizontalFlip(p=0.5),\n",
    "    # transforms.RandomAffine(degrees=10, translate=(0.125, 0.125)),\n",
    "    # transforms.RandAugment(num_ops=2, magnitude=10),\n",
    "    RandAugmentMC(n=2, m=10),\n",
    "    # transforms.ToTensor(),\n",
    "    transforms.Normalize(mean, std)\n",
    "])\n",
    "\n",
    "model = ConvNN().to(device)\n",
    "\n",
    "# criterion and optimizer\n",
    "labeled_criterion = nn.CrossEntropyLoss(reduction='none')\n",
    "unlabeled_criterion = nn.CrossEntropyLoss(reduction='none')\n",
    "\n",
    "optimizer = torch.optim.SGD(model.parameters(), lr=LR, momentum=BETA, weight_decay=WEIGHT_DECAY, nesterov=True)\n",
    "scheduler = torch.optim.lr_scheduler.CosineAnnealingLR(optimizer, T_max=EPOCHS)"
   ]
  },
  {
   "cell_type": "code",
   "execution_count": null,
   "metadata": {},
   "outputs": [],
   "source": [
    "print(\"Start training\")\n",
    "\n",
    "train_losses = []\n",
    "test_losses = []\n",
    "train_accuracies = []\n",
    "test_accuracies = []\n",
    "\n",
    "for epoch in range(EPOCHS):\n",
    "    model.train()\n",
    "    running_loss = 0.0\n",
    "    correct = 0\n",
    "    total = 0\n",
    "    running_n_unlabeled = 0\n",
    "    running_accuracy = 0\n",
    "    moving_avg_pred_labeled = 0\n",
    "    moving_avg_pred_unlabeled = 0\n",
    "\n",
    "\n",
    "    pbar = tqdm(zip(labeled_dataloader, unlabeled_dataloader), total=min(len(labeled_dataloader), len(unlabeled_dataloader)), unit=\"batch\", desc=f\"Epoch {epoch: >5}\")\n",
    "\n",
    "    for i, (labeled_data, unlabeled_data) in enumerate(pbar):\n",
    "        # Get labeled and unlabeled data\n",
    "        labeled_inputs, labels = labeled_data[0].to(device), labeled_data[1].to(device)\n",
    "        unlabeled_inputs, _ = unlabeled_data[0].to(device), unlabeled_data[1].to(device)\n",
    "        \n",
    "        # Zero the parameter gradients\n",
    "        optimizer.zero_grad()\n",
    "\n",
    "        # normalize labeled and unlabeled inputs\n",
    "        labeled_inputs_norm, unlabeled_inputs_norm = normalize(labeled_inputs, mean, std), normalize(unlabeled_inputs, mean, std)\n",
    "\n",
    "        # labeled_outputs_norm = model(labeled_inputs_norm)\n",
    "        unlabeled_outputs_norm = model(unlabeled_inputs_norm)\n",
    "\n",
    "        # Compute moving average of labeled and unlabeled predictions\n",
    "        # moving_avg_pred_labeled = (i * moving_avg_pred_labeled + labeled_outputs_norm.shape[0]) / (i + 1)\n",
    "        moving_avg_pred_unlabeled = (i * moving_avg_pred_unlabeled + unlabeled_outputs_norm.shape[0]) / (i + 1)\n",
    "\n",
    "        # ratio\n",
    "        ratio = CIFAR10_class_distribution / moving_avg_pred_unlabeled\n",
    "        # model.train()\n",
    "\n",
    "        # Apply weak augmentation to labeled data\n",
    "        weak_labeled_inputs = weak_transform(labeled_inputs)\n",
    "\n",
    "        # Apply strong augmentation + weak augmentation to unlabeled data\n",
    "        weak_unlabeled_inputs = weak_transform(unlabeled_inputs)\n",
    "        strong_unlabeled_inputs = strong_transform(unlabeled_inputs)\n",
    "\n",
    "        # prediction on weak augmented unlabeled data\n",
    "        qb = model(weak_unlabeled_inputs)\n",
    "        qb = torch.softmax(qb, dim=1)\n",
    "        qb_norm = qb * ratio\n",
    "\n",
    "        # normalize\n",
    "        qb_tilde = qb_norm / torch.sum(qb_norm, dim=1, keepdim=True)\n",
    "\n",
    "        # compute mask\n",
    "        max_qb_tilde, qb_tilde_hat = torch.max(qb_tilde, dim=1)\n",
    "        idx = max_qb_tilde > TAU\n",
    "\n",
    "        # pseudo labels\n",
    "        pseudo_labels = qb_tilde_hat[idx]\n",
    "\n",
    "        # mask strong augmented unlabeled data\n",
    "        strong_unlabeled_inputs = strong_unlabeled_inputs[idx]\n",
    "\n",
    "        n_labeled, n_unlabeled = weak_labeled_inputs.size(0), strong_unlabeled_inputs.size(0)\n",
    "\n",
    "        if n_unlabeled != 0:\n",
    "            # Concatenate labeled and unlabeled data\n",
    "            inputs_all = torch.cat((weak_labeled_inputs, strong_unlabeled_inputs))\n",
    "            labels_all = torch.cat((labels, pseudo_labels))\n",
    "\n",
    "            # forward pass\n",
    "            outputs = model(inputs_all)\n",
    "            # outputs = torch.softmax(outputs, dim=1)\n",
    "\n",
    "            # split labeled and unlabeled outputs\n",
    "            labeled_outputs, unlabeled_outputs = outputs[:n_labeled], outputs[n_labeled:]\n",
    "\n",
    "            # compute losses\n",
    "            labeled_loss = torch.sum(labeled_criterion(labeled_outputs, labels)) / BATCH_SIZE\n",
    "            unlabeled_loss = torch.sum(unlabeled_criterion(unlabeled_outputs, pseudo_labels)) / (MU * BATCH_SIZE)\n",
    "\n",
    "            # compute total loss\n",
    "            loss = labeled_loss + LAMBDA_U * unlabeled_loss\n",
    "\n",
    "            # compute accuracy\n",
    "            total += labels_all.size(0)\n",
    "            correct += (outputs.argmax(dim=1) == labels_all).sum().item()\n",
    "            \n",
    "        else:\n",
    "            # forward pass\n",
    "            labeled_outputs = model(weak_labeled_inputs)\n",
    "            # labeled_outputs = torch.softmax(labeled_outputs, dim=1)\n",
    "\n",
    "            # compute loss\n",
    "            labeled_loss = torch.sum(labeled_criterion(labeled_outputs, labels)) / BATCH_SIZE\n",
    "            unlabeled_loss = torch.tensor(0, device=device)\n",
    "\n",
    "            # compute total loss\n",
    "            loss = labeled_loss + LAMBDA_U * unlabeled_loss\n",
    "\n",
    "            # compute accuracy\n",
    "            total += labels.size(0)\n",
    "            correct += (labeled_outputs.argmax(dim=1) == labels).sum().item()\n",
    "\n",
    "\n",
    "        # backward pass + optimize\n",
    "        loss.backward()\n",
    "        optimizer.step()\n",
    "\n",
    "        \n",
    "\n",
    "        # update statistics\n",
    "        running_loss += loss.item()\n",
    "        running_n_unlabeled += n_unlabeled\n",
    "        running_accuracy += 100 * correct / total\n",
    "\n",
    "        \n",
    "\n",
    "        # update progress bar\n",
    "        pbar.set_postfix({\n",
    "            \"labeled loss\": labeled_loss.item(),\n",
    "            \"unlabeled loss\": unlabeled_loss.item(),\n",
    "            \"accuracy\": 100 * correct / total,\n",
    "            \"avg confidence\": torch.mean(max_qb_tilde).item(),\n",
    "            \"n_unlabeled\": running_n_unlabeled,\n",
    "            \"lr\": optimizer.param_groups[0]['lr']\n",
    "        })\n",
    "\n",
    "    # update loss\n",
    "    train_losses.append(running_loss / (i + 1))\n",
    "    train_accuracies.append(running_accuracy / (i + 1))\n",
    "\n",
    "    # scheduler step\n",
    "    if scheduler is not None:\n",
    "        scheduler.step()\n",
    "\n",
    "    \n",
    "    # Evaluate the model on the test set\n",
    "    model.eval()  # Set the model to evaluation mode\n",
    "    test_correct = 0\n",
    "    test_total = 0\n",
    "\n",
    "    with torch.no_grad():\n",
    "        for data in testloader:\n",
    "            images, labels = data[0].to(device), data[1].to(device)\n",
    "            # normalize\n",
    "            images = normalize(data=images, mean=mean, std=std)\n",
    "            \n",
    "            outputs = model(images)\n",
    "            _, predicted = outputs.max(1)\n",
    "            test_total += labels.size(0)\n",
    "            test_correct += predicted.eq(labels).sum().item()\n",
    "        \n",
    "        test_accuracy = 100.0 * test_correct / test_total\n",
    "        print(f'Test Accuracy: {test_accuracy}%')\n",
    "\n",
    "        # update loss\n",
    "        test_losses.append(torch.sum(labeled_criterion(outputs, labels)).item() / BATCH_SIZE)\n",
    "        test_accuracies.append(test_accuracy)"
   ]
  },
  {
   "cell_type": "code",
   "execution_count": null,
   "metadata": {},
   "outputs": [],
   "source": [
    "# plot losses and accuracies\n",
    "fig, (ax1, ax2) = plt.subplots(1, 2, figsize=(15, 5))\n",
    "\n",
    "ax1.plot(train_losses, label=\"train\")\n",
    "ax1.plot(test_losses, label=\"test\")\n",
    "ax1.set_title(\"Loss\")\n",
    "\n",
    "ax2.plot(train_accuracies, label=\"train\")\n",
    "ax2.plot(test_accuracies, label=\"test\")\n",
    "ax2.set_title(\"Accuracy\")\n",
    "\n",
    "plt.legend()\n",
    "plt.show()\n",
    "\n",
    "# save plot\n",
    "fig.savefig(f\"figures/unsup_DA_1_losses_accuracies.png\")"
   ]
  },
  {
   "cell_type": "code",
   "execution_count": null,
   "metadata": {},
   "outputs": [],
   "source": [
    "# plot confusion matrix\n",
    "model.eval()  # Set the model to evaluation mode\n",
    "test_correct = 0\n",
    "test_total = 0\n",
    "y_true = []\n",
    "y_pred = []\n",
    "\n",
    "with torch.no_grad():\n",
    "    for data in testloader:\n",
    "        images, labels = data[0].to(device), data[1].to(device)\n",
    "        # normalize\n",
    "        images = normalize(data=images, mean=mean, std=std)\n",
    "        \n",
    "        outputs = model(images)\n",
    "        _, predicted = outputs.max(1)\n",
    "        test_total += labels.size(0)\n",
    "        test_correct += predicted.eq(labels).sum().item()\n",
    "\n",
    "        y_true.append(labels.cpu().numpy())\n",
    "        y_pred.append(predicted.cpu().numpy())\n",
    "    \n",
    "    y_true = np.concatenate(y_true)\n",
    "    y_pred = np.concatenate(y_pred)\n",
    "\n",
    "    fig, ax = plt.subplots(figsize=(10, 10))\n",
    "    cm = confusion_matrix(y_true, y_pred, normalize='true')\n",
    "    disp = ConfusionMatrixDisplay(confusion_matrix=cm, display_labels=classes)\n",
    "    disp.plot(ax=ax)\n",
    "    plt.tight_layout()\n",
    "    plt.show()\n",
    "\n",
    "    # save plot\n",
    "    fig.savefig(f\"figures/unsup_DA_1_confusion_matrix.png\")"
   ]
  },
  {
   "cell_type": "code",
   "execution_count": null,
   "metadata": {},
   "outputs": [],
   "source": [
    "# Evaluation on the test set\n",
    "model.eval()  # Set the model to evaluation mode\n",
    "test_correct = 0\n",
    "test_total = 0\n",
    "\n",
    "with torch.no_grad():\n",
    "    for data in testloader:\n",
    "        images, labels = data[0].to(device), data[1].to(device)\n",
    "        # normalize\n",
    "        images = normalize(data=images, mean=mean, std=std)\n",
    "        \n",
    "        outputs = model(images)\n",
    "        _, predicted = outputs.max(1)\n",
    "        test_total += labels.size(0)\n",
    "        test_correct += predicted.eq(labels).sum().item()\n",
    "\n",
    "test_accuracy = 100.0 * test_correct / test_total\n",
    "print(f'Test Accuracy: {test_accuracy}%')\n",
    "\n",
    "# save the model\n",
    "torch.save(model.state_dict(), f\"{torch_models}/model_1_fixmatch_DA.pth\")\n",
    "\n",
    "test_image, test_labels = testloader.__iter__().__next__()\n",
    "test_image = test_image.to(device)\n",
    "outputs_test = model(test_image)\n",
    "label_pred_test = outputs_test.argmax(dim=1)\n",
    "\n",
    "# descale the images\n",
    "test_image = test_image#  * torch.tensor(std, device=device).view(1, 3, 1, 1) + torch.tensor(mean, device=device).view(1, 3, 1, 1)\n",
    "\n",
    "fig1 = plot_images(test_image, test_labels, label_pred_test, classes, figure_name=f\"Test score with Fixmatch - {int(SUBSET_PROP*100)}% - {test_accuracy:.2f}% - Data Alignment\")\n",
    "fig1.savefig(f\"./figures/test_score_1_fixmatch_DA.png\")"
   ]
  },
  {
   "cell_type": "code",
   "execution_count": null,
   "metadata": {},
   "outputs": [],
   "source": []
  },
  {
   "cell_type": "code",
   "execution_count": null,
   "metadata": {},
   "outputs": [],
   "source": []
  }
 ],
 "metadata": {
  "kernelspec": {
   "display_name": "Python 3",
   "language": "python",
   "name": "python3"
  },
  "language_info": {
   "codemirror_mode": {
    "name": "ipython",
    "version": 3
   },
   "file_extension": ".py",
   "mimetype": "text/x-python",
   "name": "python",
   "nbconvert_exporter": "python",
   "pygments_lexer": "ipython3",
   "version": "3.10.6"
  },
  "orig_nbformat": 4
 },
 "nbformat": 4,
 "nbformat_minor": 2
}
